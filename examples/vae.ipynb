{
 "cells": [
  {
   "cell_type": "markdown",
   "metadata": {},
   "source": [
    "# Variational Autoencoder with Normalizing Flows"
   ]
  },
  {
   "cell_type": "code",
   "execution_count": 1,
   "metadata": {},
   "outputs": [],
   "source": [
    "# Import packages\n",
    "import numpy as np\n",
    "import torch\n",
    "from torch import nn, optim\n",
    "from torchvision import datasets, transforms\n",
    "\n",
    "from tqdm import tqdm\n",
    "from matplotlib import pyplot as plt\n",
    "import sys\n",
    "sys.path.append('/home/zhengwei/Desktop/Zhengwei/Projects/CVAE/normalizing-flows')\n",
    "import normflows as nf"
   ]
  },
  {
   "cell_type": "code",
   "execution_count": 2,
   "metadata": {},
   "outputs": [],
   "source": [
    "# Hyperparameters\n",
    "torch.manual_seed(0)\n",
    "\n",
    "batch_size = 64\n",
    "num_samples = 32\n",
    "n_flows = 40\n",
    "n_bottleneck = 40\n",
    "hidden_units_encoder = np.array([28 ** 2, 512, 256, n_bottleneck * 2])\n",
    "hidden_units_decoder = np.array([n_bottleneck, 256, 512, 28 ** 2])\n",
    "flow_type = 'RealNVP'\n",
    "n_epochs = 15\n",
    "\n",
    "enable_cuda = True\n",
    "device = torch.device('cuda' if torch.cuda.is_available() and enable_cuda else 'cpu')"
   ]
  },
  {
   "cell_type": "code",
   "execution_count": 3,
   "metadata": {},
   "outputs": [],
   "source": [
    "# Get dataloader\n",
    "class BinaryTransform():\n",
    "    def __init__(self, thresh=0.5):\n",
    "        self.thresh = thresh\n",
    "\n",
    "    def __call__(self, x):\n",
    "        return (x > self.thresh).type(x.type())\n",
    "transform=transforms.Compose([transforms.ToTensor(), BinaryTransform()])\n",
    "mnist_train = datasets.MNIST('../datasets', train=True, download=True, transform=transform)\n",
    "mnist_test = datasets.MNIST('../datasets', train=False, download=True, transform=transform)\n",
    "train_loader = torch.utils.data.DataLoader(mnist_train, batch_size=batch_size, shuffle=True)\n",
    "test_loader = torch.utils.data.DataLoader(mnist_test, batch_size=batch_size, shuffle=True)"
   ]
  },
  {
   "cell_type": "code",
   "execution_count": 4,
   "metadata": {},
   "outputs": [
    {
     "data": {
      "text/plain": [
       "NormalizingFlowVAE(\n",
       "  (decoder): NNBernoulliDecoder(\n",
       "    (net): MLP(\n",
       "      (net): Sequential(\n",
       "        (0): Linear(in_features=40, out_features=256, bias=True)\n",
       "        (1): LeakyReLU(negative_slope=0.0)\n",
       "        (2): Linear(in_features=256, out_features=512, bias=True)\n",
       "        (3): LeakyReLU(negative_slope=0.0)\n",
       "        (4): Linear(in_features=512, out_features=784, bias=True)\n",
       "      )\n",
       "    )\n",
       "  )\n",
       "  (flows): ModuleList(\n",
       "    (0): MaskedAffineFlow(\n",
       "      (s): MLP(\n",
       "        (net): Sequential(\n",
       "          (0): Linear(in_features=40, out_features=20, bias=True)\n",
       "          (1): LeakyReLU(negative_slope=0.0)\n",
       "          (2): Linear(in_features=20, out_features=40, bias=True)\n",
       "        )\n",
       "      )\n",
       "      (t): MLP(\n",
       "        (net): Sequential(\n",
       "          (0): Linear(in_features=40, out_features=20, bias=True)\n",
       "          (1): LeakyReLU(negative_slope=0.0)\n",
       "          (2): Linear(in_features=20, out_features=40, bias=True)\n",
       "        )\n",
       "      )\n",
       "    )\n",
       "    (1): MaskedAffineFlow(\n",
       "      (s): MLP(\n",
       "        (net): Sequential(\n",
       "          (0): Linear(in_features=40, out_features=20, bias=True)\n",
       "          (1): LeakyReLU(negative_slope=0.0)\n",
       "          (2): Linear(in_features=20, out_features=40, bias=True)\n",
       "        )\n",
       "      )\n",
       "      (t): MLP(\n",
       "        (net): Sequential(\n",
       "          (0): Linear(in_features=40, out_features=20, bias=True)\n",
       "          (1): LeakyReLU(negative_slope=0.0)\n",
       "          (2): Linear(in_features=20, out_features=40, bias=True)\n",
       "        )\n",
       "      )\n",
       "    )\n",
       "    (2): BatchNorm()\n",
       "    (3): MaskedAffineFlow(\n",
       "      (s): MLP(\n",
       "        (net): Sequential(\n",
       "          (0): Linear(in_features=40, out_features=20, bias=True)\n",
       "          (1): LeakyReLU(negative_slope=0.0)\n",
       "          (2): Linear(in_features=20, out_features=40, bias=True)\n",
       "        )\n",
       "      )\n",
       "      (t): MLP(\n",
       "        (net): Sequential(\n",
       "          (0): Linear(in_features=40, out_features=20, bias=True)\n",
       "          (1): LeakyReLU(negative_slope=0.0)\n",
       "          (2): Linear(in_features=20, out_features=40, bias=True)\n",
       "        )\n",
       "      )\n",
       "    )\n",
       "    (4): MaskedAffineFlow(\n",
       "      (s): MLP(\n",
       "        (net): Sequential(\n",
       "          (0): Linear(in_features=40, out_features=20, bias=True)\n",
       "          (1): LeakyReLU(negative_slope=0.0)\n",
       "          (2): Linear(in_features=20, out_features=40, bias=True)\n",
       "        )\n",
       "      )\n",
       "      (t): MLP(\n",
       "        (net): Sequential(\n",
       "          (0): Linear(in_features=40, out_features=20, bias=True)\n",
       "          (1): LeakyReLU(negative_slope=0.0)\n",
       "          (2): Linear(in_features=20, out_features=40, bias=True)\n",
       "        )\n",
       "      )\n",
       "    )\n",
       "    (5): BatchNorm()\n",
       "    (6): MaskedAffineFlow(\n",
       "      (s): MLP(\n",
       "        (net): Sequential(\n",
       "          (0): Linear(in_features=40, out_features=20, bias=True)\n",
       "          (1): LeakyReLU(negative_slope=0.0)\n",
       "          (2): Linear(in_features=20, out_features=40, bias=True)\n",
       "        )\n",
       "      )\n",
       "      (t): MLP(\n",
       "        (net): Sequential(\n",
       "          (0): Linear(in_features=40, out_features=20, bias=True)\n",
       "          (1): LeakyReLU(negative_slope=0.0)\n",
       "          (2): Linear(in_features=20, out_features=40, bias=True)\n",
       "        )\n",
       "      )\n",
       "    )\n",
       "    (7): MaskedAffineFlow(\n",
       "      (s): MLP(\n",
       "        (net): Sequential(\n",
       "          (0): Linear(in_features=40, out_features=20, bias=True)\n",
       "          (1): LeakyReLU(negative_slope=0.0)\n",
       "          (2): Linear(in_features=20, out_features=40, bias=True)\n",
       "        )\n",
       "      )\n",
       "      (t): MLP(\n",
       "        (net): Sequential(\n",
       "          (0): Linear(in_features=40, out_features=20, bias=True)\n",
       "          (1): LeakyReLU(negative_slope=0.0)\n",
       "          (2): Linear(in_features=20, out_features=40, bias=True)\n",
       "        )\n",
       "      )\n",
       "    )\n",
       "    (8): BatchNorm()\n",
       "    (9): MaskedAffineFlow(\n",
       "      (s): MLP(\n",
       "        (net): Sequential(\n",
       "          (0): Linear(in_features=40, out_features=20, bias=True)\n",
       "          (1): LeakyReLU(negative_slope=0.0)\n",
       "          (2): Linear(in_features=20, out_features=40, bias=True)\n",
       "        )\n",
       "      )\n",
       "      (t): MLP(\n",
       "        (net): Sequential(\n",
       "          (0): Linear(in_features=40, out_features=20, bias=True)\n",
       "          (1): LeakyReLU(negative_slope=0.0)\n",
       "          (2): Linear(in_features=20, out_features=40, bias=True)\n",
       "        )\n",
       "      )\n",
       "    )\n",
       "    (10): MaskedAffineFlow(\n",
       "      (s): MLP(\n",
       "        (net): Sequential(\n",
       "          (0): Linear(in_features=40, out_features=20, bias=True)\n",
       "          (1): LeakyReLU(negative_slope=0.0)\n",
       "          (2): Linear(in_features=20, out_features=40, bias=True)\n",
       "        )\n",
       "      )\n",
       "      (t): MLP(\n",
       "        (net): Sequential(\n",
       "          (0): Linear(in_features=40, out_features=20, bias=True)\n",
       "          (1): LeakyReLU(negative_slope=0.0)\n",
       "          (2): Linear(in_features=20, out_features=40, bias=True)\n",
       "        )\n",
       "      )\n",
       "    )\n",
       "    (11): BatchNorm()\n",
       "    (12): MaskedAffineFlow(\n",
       "      (s): MLP(\n",
       "        (net): Sequential(\n",
       "          (0): Linear(in_features=40, out_features=20, bias=True)\n",
       "          (1): LeakyReLU(negative_slope=0.0)\n",
       "          (2): Linear(in_features=20, out_features=40, bias=True)\n",
       "        )\n",
       "      )\n",
       "      (t): MLP(\n",
       "        (net): Sequential(\n",
       "          (0): Linear(in_features=40, out_features=20, bias=True)\n",
       "          (1): LeakyReLU(negative_slope=0.0)\n",
       "          (2): Linear(in_features=20, out_features=40, bias=True)\n",
       "        )\n",
       "      )\n",
       "    )\n",
       "    (13): MaskedAffineFlow(\n",
       "      (s): MLP(\n",
       "        (net): Sequential(\n",
       "          (0): Linear(in_features=40, out_features=20, bias=True)\n",
       "          (1): LeakyReLU(negative_slope=0.0)\n",
       "          (2): Linear(in_features=20, out_features=40, bias=True)\n",
       "        )\n",
       "      )\n",
       "      (t): MLP(\n",
       "        (net): Sequential(\n",
       "          (0): Linear(in_features=40, out_features=20, bias=True)\n",
       "          (1): LeakyReLU(negative_slope=0.0)\n",
       "          (2): Linear(in_features=20, out_features=40, bias=True)\n",
       "        )\n",
       "      )\n",
       "    )\n",
       "    (14): BatchNorm()\n",
       "    (15): MaskedAffineFlow(\n",
       "      (s): MLP(\n",
       "        (net): Sequential(\n",
       "          (0): Linear(in_features=40, out_features=20, bias=True)\n",
       "          (1): LeakyReLU(negative_slope=0.0)\n",
       "          (2): Linear(in_features=20, out_features=40, bias=True)\n",
       "        )\n",
       "      )\n",
       "      (t): MLP(\n",
       "        (net): Sequential(\n",
       "          (0): Linear(in_features=40, out_features=20, bias=True)\n",
       "          (1): LeakyReLU(negative_slope=0.0)\n",
       "          (2): Linear(in_features=20, out_features=40, bias=True)\n",
       "        )\n",
       "      )\n",
       "    )\n",
       "    (16): MaskedAffineFlow(\n",
       "      (s): MLP(\n",
       "        (net): Sequential(\n",
       "          (0): Linear(in_features=40, out_features=20, bias=True)\n",
       "          (1): LeakyReLU(negative_slope=0.0)\n",
       "          (2): Linear(in_features=20, out_features=40, bias=True)\n",
       "        )\n",
       "      )\n",
       "      (t): MLP(\n",
       "        (net): Sequential(\n",
       "          (0): Linear(in_features=40, out_features=20, bias=True)\n",
       "          (1): LeakyReLU(negative_slope=0.0)\n",
       "          (2): Linear(in_features=20, out_features=40, bias=True)\n",
       "        )\n",
       "      )\n",
       "    )\n",
       "    (17): BatchNorm()\n",
       "    (18): MaskedAffineFlow(\n",
       "      (s): MLP(\n",
       "        (net): Sequential(\n",
       "          (0): Linear(in_features=40, out_features=20, bias=True)\n",
       "          (1): LeakyReLU(negative_slope=0.0)\n",
       "          (2): Linear(in_features=20, out_features=40, bias=True)\n",
       "        )\n",
       "      )\n",
       "      (t): MLP(\n",
       "        (net): Sequential(\n",
       "          (0): Linear(in_features=40, out_features=20, bias=True)\n",
       "          (1): LeakyReLU(negative_slope=0.0)\n",
       "          (2): Linear(in_features=20, out_features=40, bias=True)\n",
       "        )\n",
       "      )\n",
       "    )\n",
       "    (19): MaskedAffineFlow(\n",
       "      (s): MLP(\n",
       "        (net): Sequential(\n",
       "          (0): Linear(in_features=40, out_features=20, bias=True)\n",
       "          (1): LeakyReLU(negative_slope=0.0)\n",
       "          (2): Linear(in_features=20, out_features=40, bias=True)\n",
       "        )\n",
       "      )\n",
       "      (t): MLP(\n",
       "        (net): Sequential(\n",
       "          (0): Linear(in_features=40, out_features=20, bias=True)\n",
       "          (1): LeakyReLU(negative_slope=0.0)\n",
       "          (2): Linear(in_features=20, out_features=40, bias=True)\n",
       "        )\n",
       "      )\n",
       "    )\n",
       "    (20): BatchNorm()\n",
       "    (21): MaskedAffineFlow(\n",
       "      (s): MLP(\n",
       "        (net): Sequential(\n",
       "          (0): Linear(in_features=40, out_features=20, bias=True)\n",
       "          (1): LeakyReLU(negative_slope=0.0)\n",
       "          (2): Linear(in_features=20, out_features=40, bias=True)\n",
       "        )\n",
       "      )\n",
       "      (t): MLP(\n",
       "        (net): Sequential(\n",
       "          (0): Linear(in_features=40, out_features=20, bias=True)\n",
       "          (1): LeakyReLU(negative_slope=0.0)\n",
       "          (2): Linear(in_features=20, out_features=40, bias=True)\n",
       "        )\n",
       "      )\n",
       "    )\n",
       "    (22): MaskedAffineFlow(\n",
       "      (s): MLP(\n",
       "        (net): Sequential(\n",
       "          (0): Linear(in_features=40, out_features=20, bias=True)\n",
       "          (1): LeakyReLU(negative_slope=0.0)\n",
       "          (2): Linear(in_features=20, out_features=40, bias=True)\n",
       "        )\n",
       "      )\n",
       "      (t): MLP(\n",
       "        (net): Sequential(\n",
       "          (0): Linear(in_features=40, out_features=20, bias=True)\n",
       "          (1): LeakyReLU(negative_slope=0.0)\n",
       "          (2): Linear(in_features=20, out_features=40, bias=True)\n",
       "        )\n",
       "      )\n",
       "    )\n",
       "    (23): BatchNorm()\n",
       "    (24): MaskedAffineFlow(\n",
       "      (s): MLP(\n",
       "        (net): Sequential(\n",
       "          (0): Linear(in_features=40, out_features=20, bias=True)\n",
       "          (1): LeakyReLU(negative_slope=0.0)\n",
       "          (2): Linear(in_features=20, out_features=40, bias=True)\n",
       "        )\n",
       "      )\n",
       "      (t): MLP(\n",
       "        (net): Sequential(\n",
       "          (0): Linear(in_features=40, out_features=20, bias=True)\n",
       "          (1): LeakyReLU(negative_slope=0.0)\n",
       "          (2): Linear(in_features=20, out_features=40, bias=True)\n",
       "        )\n",
       "      )\n",
       "    )\n",
       "    (25): MaskedAffineFlow(\n",
       "      (s): MLP(\n",
       "        (net): Sequential(\n",
       "          (0): Linear(in_features=40, out_features=20, bias=True)\n",
       "          (1): LeakyReLU(negative_slope=0.0)\n",
       "          (2): Linear(in_features=20, out_features=40, bias=True)\n",
       "        )\n",
       "      )\n",
       "      (t): MLP(\n",
       "        (net): Sequential(\n",
       "          (0): Linear(in_features=40, out_features=20, bias=True)\n",
       "          (1): LeakyReLU(negative_slope=0.0)\n",
       "          (2): Linear(in_features=20, out_features=40, bias=True)\n",
       "        )\n",
       "      )\n",
       "    )\n",
       "    (26): BatchNorm()\n",
       "    (27): MaskedAffineFlow(\n",
       "      (s): MLP(\n",
       "        (net): Sequential(\n",
       "          (0): Linear(in_features=40, out_features=20, bias=True)\n",
       "          (1): LeakyReLU(negative_slope=0.0)\n",
       "          (2): Linear(in_features=20, out_features=40, bias=True)\n",
       "        )\n",
       "      )\n",
       "      (t): MLP(\n",
       "        (net): Sequential(\n",
       "          (0): Linear(in_features=40, out_features=20, bias=True)\n",
       "          (1): LeakyReLU(negative_slope=0.0)\n",
       "          (2): Linear(in_features=20, out_features=40, bias=True)\n",
       "        )\n",
       "      )\n",
       "    )\n",
       "    (28): MaskedAffineFlow(\n",
       "      (s): MLP(\n",
       "        (net): Sequential(\n",
       "          (0): Linear(in_features=40, out_features=20, bias=True)\n",
       "          (1): LeakyReLU(negative_slope=0.0)\n",
       "          (2): Linear(in_features=20, out_features=40, bias=True)\n",
       "        )\n",
       "      )\n",
       "      (t): MLP(\n",
       "        (net): Sequential(\n",
       "          (0): Linear(in_features=40, out_features=20, bias=True)\n",
       "          (1): LeakyReLU(negative_slope=0.0)\n",
       "          (2): Linear(in_features=20, out_features=40, bias=True)\n",
       "        )\n",
       "      )\n",
       "    )\n",
       "    (29): BatchNorm()\n",
       "    (30): MaskedAffineFlow(\n",
       "      (s): MLP(\n",
       "        (net): Sequential(\n",
       "          (0): Linear(in_features=40, out_features=20, bias=True)\n",
       "          (1): LeakyReLU(negative_slope=0.0)\n",
       "          (2): Linear(in_features=20, out_features=40, bias=True)\n",
       "        )\n",
       "      )\n",
       "      (t): MLP(\n",
       "        (net): Sequential(\n",
       "          (0): Linear(in_features=40, out_features=20, bias=True)\n",
       "          (1): LeakyReLU(negative_slope=0.0)\n",
       "          (2): Linear(in_features=20, out_features=40, bias=True)\n",
       "        )\n",
       "      )\n",
       "    )\n",
       "    (31): MaskedAffineFlow(\n",
       "      (s): MLP(\n",
       "        (net): Sequential(\n",
       "          (0): Linear(in_features=40, out_features=20, bias=True)\n",
       "          (1): LeakyReLU(negative_slope=0.0)\n",
       "          (2): Linear(in_features=20, out_features=40, bias=True)\n",
       "        )\n",
       "      )\n",
       "      (t): MLP(\n",
       "        (net): Sequential(\n",
       "          (0): Linear(in_features=40, out_features=20, bias=True)\n",
       "          (1): LeakyReLU(negative_slope=0.0)\n",
       "          (2): Linear(in_features=20, out_features=40, bias=True)\n",
       "        )\n",
       "      )\n",
       "    )\n",
       "    (32): BatchNorm()\n",
       "    (33): MaskedAffineFlow(\n",
       "      (s): MLP(\n",
       "        (net): Sequential(\n",
       "          (0): Linear(in_features=40, out_features=20, bias=True)\n",
       "          (1): LeakyReLU(negative_slope=0.0)\n",
       "          (2): Linear(in_features=20, out_features=40, bias=True)\n",
       "        )\n",
       "      )\n",
       "      (t): MLP(\n",
       "        (net): Sequential(\n",
       "          (0): Linear(in_features=40, out_features=20, bias=True)\n",
       "          (1): LeakyReLU(negative_slope=0.0)\n",
       "          (2): Linear(in_features=20, out_features=40, bias=True)\n",
       "        )\n",
       "      )\n",
       "    )\n",
       "    (34): MaskedAffineFlow(\n",
       "      (s): MLP(\n",
       "        (net): Sequential(\n",
       "          (0): Linear(in_features=40, out_features=20, bias=True)\n",
       "          (1): LeakyReLU(negative_slope=0.0)\n",
       "          (2): Linear(in_features=20, out_features=40, bias=True)\n",
       "        )\n",
       "      )\n",
       "      (t): MLP(\n",
       "        (net): Sequential(\n",
       "          (0): Linear(in_features=40, out_features=20, bias=True)\n",
       "          (1): LeakyReLU(negative_slope=0.0)\n",
       "          (2): Linear(in_features=20, out_features=40, bias=True)\n",
       "        )\n",
       "      )\n",
       "    )\n",
       "    (35): BatchNorm()\n",
       "    (36): MaskedAffineFlow(\n",
       "      (s): MLP(\n",
       "        (net): Sequential(\n",
       "          (0): Linear(in_features=40, out_features=20, bias=True)\n",
       "          (1): LeakyReLU(negative_slope=0.0)\n",
       "          (2): Linear(in_features=20, out_features=40, bias=True)\n",
       "        )\n",
       "      )\n",
       "      (t): MLP(\n",
       "        (net): Sequential(\n",
       "          (0): Linear(in_features=40, out_features=20, bias=True)\n",
       "          (1): LeakyReLU(negative_slope=0.0)\n",
       "          (2): Linear(in_features=20, out_features=40, bias=True)\n",
       "        )\n",
       "      )\n",
       "    )\n",
       "    (37): MaskedAffineFlow(\n",
       "      (s): MLP(\n",
       "        (net): Sequential(\n",
       "          (0): Linear(in_features=40, out_features=20, bias=True)\n",
       "          (1): LeakyReLU(negative_slope=0.0)\n",
       "          (2): Linear(in_features=20, out_features=40, bias=True)\n",
       "        )\n",
       "      )\n",
       "      (t): MLP(\n",
       "        (net): Sequential(\n",
       "          (0): Linear(in_features=40, out_features=20, bias=True)\n",
       "          (1): LeakyReLU(negative_slope=0.0)\n",
       "          (2): Linear(in_features=20, out_features=40, bias=True)\n",
       "        )\n",
       "      )\n",
       "    )\n",
       "    (38): BatchNorm()\n",
       "    (39): MaskedAffineFlow(\n",
       "      (s): MLP(\n",
       "        (net): Sequential(\n",
       "          (0): Linear(in_features=40, out_features=20, bias=True)\n",
       "          (1): LeakyReLU(negative_slope=0.0)\n",
       "          (2): Linear(in_features=20, out_features=40, bias=True)\n",
       "        )\n",
       "      )\n",
       "      (t): MLP(\n",
       "        (net): Sequential(\n",
       "          (0): Linear(in_features=40, out_features=20, bias=True)\n",
       "          (1): LeakyReLU(negative_slope=0.0)\n",
       "          (2): Linear(in_features=20, out_features=40, bias=True)\n",
       "        )\n",
       "      )\n",
       "    )\n",
       "    (40): MaskedAffineFlow(\n",
       "      (s): MLP(\n",
       "        (net): Sequential(\n",
       "          (0): Linear(in_features=40, out_features=20, bias=True)\n",
       "          (1): LeakyReLU(negative_slope=0.0)\n",
       "          (2): Linear(in_features=20, out_features=40, bias=True)\n",
       "        )\n",
       "      )\n",
       "      (t): MLP(\n",
       "        (net): Sequential(\n",
       "          (0): Linear(in_features=40, out_features=20, bias=True)\n",
       "          (1): LeakyReLU(negative_slope=0.0)\n",
       "          (2): Linear(in_features=20, out_features=40, bias=True)\n",
       "        )\n",
       "      )\n",
       "    )\n",
       "    (41): BatchNorm()\n",
       "    (42): MaskedAffineFlow(\n",
       "      (s): MLP(\n",
       "        (net): Sequential(\n",
       "          (0): Linear(in_features=40, out_features=20, bias=True)\n",
       "          (1): LeakyReLU(negative_slope=0.0)\n",
       "          (2): Linear(in_features=20, out_features=40, bias=True)\n",
       "        )\n",
       "      )\n",
       "      (t): MLP(\n",
       "        (net): Sequential(\n",
       "          (0): Linear(in_features=40, out_features=20, bias=True)\n",
       "          (1): LeakyReLU(negative_slope=0.0)\n",
       "          (2): Linear(in_features=20, out_features=40, bias=True)\n",
       "        )\n",
       "      )\n",
       "    )\n",
       "    (43): MaskedAffineFlow(\n",
       "      (s): MLP(\n",
       "        (net): Sequential(\n",
       "          (0): Linear(in_features=40, out_features=20, bias=True)\n",
       "          (1): LeakyReLU(negative_slope=0.0)\n",
       "          (2): Linear(in_features=20, out_features=40, bias=True)\n",
       "        )\n",
       "      )\n",
       "      (t): MLP(\n",
       "        (net): Sequential(\n",
       "          (0): Linear(in_features=40, out_features=20, bias=True)\n",
       "          (1): LeakyReLU(negative_slope=0.0)\n",
       "          (2): Linear(in_features=20, out_features=40, bias=True)\n",
       "        )\n",
       "      )\n",
       "    )\n",
       "    (44): BatchNorm()\n",
       "    (45): MaskedAffineFlow(\n",
       "      (s): MLP(\n",
       "        (net): Sequential(\n",
       "          (0): Linear(in_features=40, out_features=20, bias=True)\n",
       "          (1): LeakyReLU(negative_slope=0.0)\n",
       "          (2): Linear(in_features=20, out_features=40, bias=True)\n",
       "        )\n",
       "      )\n",
       "      (t): MLP(\n",
       "        (net): Sequential(\n",
       "          (0): Linear(in_features=40, out_features=20, bias=True)\n",
       "          (1): LeakyReLU(negative_slope=0.0)\n",
       "          (2): Linear(in_features=20, out_features=40, bias=True)\n",
       "        )\n",
       "      )\n",
       "    )\n",
       "    (46): MaskedAffineFlow(\n",
       "      (s): MLP(\n",
       "        (net): Sequential(\n",
       "          (0): Linear(in_features=40, out_features=20, bias=True)\n",
       "          (1): LeakyReLU(negative_slope=0.0)\n",
       "          (2): Linear(in_features=20, out_features=40, bias=True)\n",
       "        )\n",
       "      )\n",
       "      (t): MLP(\n",
       "        (net): Sequential(\n",
       "          (0): Linear(in_features=40, out_features=20, bias=True)\n",
       "          (1): LeakyReLU(negative_slope=0.0)\n",
       "          (2): Linear(in_features=20, out_features=40, bias=True)\n",
       "        )\n",
       "      )\n",
       "    )\n",
       "    (47): BatchNorm()\n",
       "    (48): MaskedAffineFlow(\n",
       "      (s): MLP(\n",
       "        (net): Sequential(\n",
       "          (0): Linear(in_features=40, out_features=20, bias=True)\n",
       "          (1): LeakyReLU(negative_slope=0.0)\n",
       "          (2): Linear(in_features=20, out_features=40, bias=True)\n",
       "        )\n",
       "      )\n",
       "      (t): MLP(\n",
       "        (net): Sequential(\n",
       "          (0): Linear(in_features=40, out_features=20, bias=True)\n",
       "          (1): LeakyReLU(negative_slope=0.0)\n",
       "          (2): Linear(in_features=20, out_features=40, bias=True)\n",
       "        )\n",
       "      )\n",
       "    )\n",
       "    (49): MaskedAffineFlow(\n",
       "      (s): MLP(\n",
       "        (net): Sequential(\n",
       "          (0): Linear(in_features=40, out_features=20, bias=True)\n",
       "          (1): LeakyReLU(negative_slope=0.0)\n",
       "          (2): Linear(in_features=20, out_features=40, bias=True)\n",
       "        )\n",
       "      )\n",
       "      (t): MLP(\n",
       "        (net): Sequential(\n",
       "          (0): Linear(in_features=40, out_features=20, bias=True)\n",
       "          (1): LeakyReLU(negative_slope=0.0)\n",
       "          (2): Linear(in_features=20, out_features=40, bias=True)\n",
       "        )\n",
       "      )\n",
       "    )\n",
       "    (50): BatchNorm()\n",
       "    (51): MaskedAffineFlow(\n",
       "      (s): MLP(\n",
       "        (net): Sequential(\n",
       "          (0): Linear(in_features=40, out_features=20, bias=True)\n",
       "          (1): LeakyReLU(negative_slope=0.0)\n",
       "          (2): Linear(in_features=20, out_features=40, bias=True)\n",
       "        )\n",
       "      )\n",
       "      (t): MLP(\n",
       "        (net): Sequential(\n",
       "          (0): Linear(in_features=40, out_features=20, bias=True)\n",
       "          (1): LeakyReLU(negative_slope=0.0)\n",
       "          (2): Linear(in_features=20, out_features=40, bias=True)\n",
       "        )\n",
       "      )\n",
       "    )\n",
       "    (52): MaskedAffineFlow(\n",
       "      (s): MLP(\n",
       "        (net): Sequential(\n",
       "          (0): Linear(in_features=40, out_features=20, bias=True)\n",
       "          (1): LeakyReLU(negative_slope=0.0)\n",
       "          (2): Linear(in_features=20, out_features=40, bias=True)\n",
       "        )\n",
       "      )\n",
       "      (t): MLP(\n",
       "        (net): Sequential(\n",
       "          (0): Linear(in_features=40, out_features=20, bias=True)\n",
       "          (1): LeakyReLU(negative_slope=0.0)\n",
       "          (2): Linear(in_features=20, out_features=40, bias=True)\n",
       "        )\n",
       "      )\n",
       "    )\n",
       "    (53): BatchNorm()\n",
       "    (54): MaskedAffineFlow(\n",
       "      (s): MLP(\n",
       "        (net): Sequential(\n",
       "          (0): Linear(in_features=40, out_features=20, bias=True)\n",
       "          (1): LeakyReLU(negative_slope=0.0)\n",
       "          (2): Linear(in_features=20, out_features=40, bias=True)\n",
       "        )\n",
       "      )\n",
       "      (t): MLP(\n",
       "        (net): Sequential(\n",
       "          (0): Linear(in_features=40, out_features=20, bias=True)\n",
       "          (1): LeakyReLU(negative_slope=0.0)\n",
       "          (2): Linear(in_features=20, out_features=40, bias=True)\n",
       "        )\n",
       "      )\n",
       "    )\n",
       "    (55): MaskedAffineFlow(\n",
       "      (s): MLP(\n",
       "        (net): Sequential(\n",
       "          (0): Linear(in_features=40, out_features=20, bias=True)\n",
       "          (1): LeakyReLU(negative_slope=0.0)\n",
       "          (2): Linear(in_features=20, out_features=40, bias=True)\n",
       "        )\n",
       "      )\n",
       "      (t): MLP(\n",
       "        (net): Sequential(\n",
       "          (0): Linear(in_features=40, out_features=20, bias=True)\n",
       "          (1): LeakyReLU(negative_slope=0.0)\n",
       "          (2): Linear(in_features=20, out_features=40, bias=True)\n",
       "        )\n",
       "      )\n",
       "    )\n",
       "    (56): BatchNorm()\n",
       "    (57): MaskedAffineFlow(\n",
       "      (s): MLP(\n",
       "        (net): Sequential(\n",
       "          (0): Linear(in_features=40, out_features=20, bias=True)\n",
       "          (1): LeakyReLU(negative_slope=0.0)\n",
       "          (2): Linear(in_features=20, out_features=40, bias=True)\n",
       "        )\n",
       "      )\n",
       "      (t): MLP(\n",
       "        (net): Sequential(\n",
       "          (0): Linear(in_features=40, out_features=20, bias=True)\n",
       "          (1): LeakyReLU(negative_slope=0.0)\n",
       "          (2): Linear(in_features=20, out_features=40, bias=True)\n",
       "        )\n",
       "      )\n",
       "    )\n",
       "    (58): MaskedAffineFlow(\n",
       "      (s): MLP(\n",
       "        (net): Sequential(\n",
       "          (0): Linear(in_features=40, out_features=20, bias=True)\n",
       "          (1): LeakyReLU(negative_slope=0.0)\n",
       "          (2): Linear(in_features=20, out_features=40, bias=True)\n",
       "        )\n",
       "      )\n",
       "      (t): MLP(\n",
       "        (net): Sequential(\n",
       "          (0): Linear(in_features=40, out_features=20, bias=True)\n",
       "          (1): LeakyReLU(negative_slope=0.0)\n",
       "          (2): Linear(in_features=20, out_features=40, bias=True)\n",
       "        )\n",
       "      )\n",
       "    )\n",
       "  )\n",
       "  (q0): NNDiagGaussian(\n",
       "    (net): MLP(\n",
       "      (net): Sequential(\n",
       "        (0): Linear(in_features=784, out_features=512, bias=True)\n",
       "        (1): LeakyReLU(negative_slope=0.0)\n",
       "        (2): Linear(in_features=512, out_features=256, bias=True)\n",
       "        (3): LeakyReLU(negative_slope=0.0)\n",
       "        (4): Linear(in_features=256, out_features=80, bias=True)\n",
       "      )\n",
       "    )\n",
       "  )\n",
       ")"
      ]
     },
     "execution_count": 4,
     "metadata": {},
     "output_type": "execute_result"
    }
   ],
   "source": [
    "# Set up model\n",
    "prior = torch.distributions.MultivariateNormal(torch.zeros(n_bottleneck, device=device),\n",
    "                                               torch.eye(n_bottleneck, device=device))\n",
    "encoder_nn = nf.nets.MLP(hidden_units_encoder)\n",
    "encoder = nf.distributions.NNDiagGaussian(encoder_nn)\n",
    "decoder_nn = nf.nets.MLP(hidden_units_decoder)\n",
    "decoder = nf.distributions.NNBernoulliDecoder(decoder_nn)\n",
    "\n",
    "if flow_type == 'Planar':\n",
    "    flows = [nf.flows.Planar((n_bottleneck,)) for k in range(n_flows)]\n",
    "elif flow_type == 'Radial':\n",
    "    flows = [nf.flows.Radial((n_bottleneck,)) for k in range(n_flows)]\n",
    "elif flow_type == 'RealNVP':\n",
    "    b = torch.tensor(n_bottleneck // 2 * [0, 1] + n_bottleneck % 2 * [0])\n",
    "    flows = []\n",
    "    for i in range(n_flows):\n",
    "        s = nf.nets.MLP([n_bottleneck, n_bottleneck // 2, n_bottleneck], init_zeros=True)\n",
    "        t = nf.nets.MLP([n_bottleneck, n_bottleneck // 2, n_bottleneck], init_zeros=True)\n",
    "        if i % 2 == 0:\n",
    "            flows += [nf.flows.MaskedAffineFlow(b, t, s)]\n",
    "        else:\n",
    "            flows += [nf.flows.MaskedAffineFlow(1 - b, t, s), nf.flows.BatchNorm()]\n",
    "else:\n",
    "    raise NotImplementedError\n",
    "\n",
    "flows = flows[:-1]\n",
    "nfm = nf.NormalizingFlowVAE(prior, encoder, flows, decoder)\n",
    "nfm.to(device)"
   ]
  },
  {
   "cell_type": "code",
   "execution_count": 5,
   "metadata": {
    "scrolled": false
   },
   "outputs": [
    {
     "name": "stderr",
     "output_type": "stream",
     "text": [
      "  0%|          | 1/938 [00:00<01:51,  8.42it/s]"
     ]
    },
    {
     "name": "stdout",
     "output_type": "stream",
     "text": [
      "mean_log_p,shapetorch.Size([]), -600.88232421875\n",
      "mean_log_q.shapetorch.Size([]), -56.74915313720703\n",
      "mean_log_p,shapetorch.Size([]), -599.038818359375\n",
      "mean_log_q.shapetorch.Size([]), -56.733726501464844\n",
      "mean_log_p,shapetorch.Size([]), -597.2940673828125\n",
      "mean_log_q.shapetorch.Size([]), -56.744258880615234\n"
     ]
    },
    {
     "name": "stderr",
     "output_type": "stream",
     "text": [
      "  1%|          | 8/938 [00:00<00:47, 19.47it/s]"
     ]
    },
    {
     "name": "stdout",
     "output_type": "stream",
     "text": [
      "mean_log_p,shapetorch.Size([]), -595.3580322265625\n",
      "mean_log_q.shapetorch.Size([]), -56.747657775878906\n",
      "mean_log_p,shapetorch.Size([]), -593.6387939453125\n",
      "mean_log_q.shapetorch.Size([]), -56.754188537597656\n",
      "mean_log_p,shapetorch.Size([]), -591.471923828125\n",
      "mean_log_q.shapetorch.Size([]), -56.7750244140625\n"
     ]
    },
    {
     "name": "stderr",
     "output_type": "stream",
     "text": [
      "  1%|▏         | 12/938 [00:00<00:43, 21.40it/s]"
     ]
    },
    {
     "name": "stdout",
     "output_type": "stream",
     "text": [
      "mean_log_p,shapetorch.Size([]), -589.8187255859375\n",
      "mean_log_q.shapetorch.Size([]), -56.77883529663086\n",
      "mean_log_p,shapetorch.Size([]), -588.045654296875\n",
      "mean_log_q.shapetorch.Size([]), -56.78857421875\n",
      "mean_log_p,shapetorch.Size([]), -585.98193359375\n",
      "mean_log_q.shapetorch.Size([]), -56.80601119995117\n"
     ]
    },
    {
     "name": "stderr",
     "output_type": "stream",
     "text": [
      "  2%|▏         | 15/938 [00:00<00:52, 17.49it/s]"
     ]
    },
    {
     "name": "stdout",
     "output_type": "stream",
     "text": [
      "mean_log_p,shapetorch.Size([]), -583.8499145507812\n",
      "mean_log_q.shapetorch.Size([]), -56.8369255065918\n",
      "mean_log_p,shapetorch.Size([]), -581.6996459960938\n",
      "mean_log_q.shapetorch.Size([]), -56.85662841796875\n",
      "mean_log_p,shapetorch.Size([]), -579.0811157226562\n",
      "mean_log_q.shapetorch.Size([]), -56.87031936645508\n"
     ]
    },
    {
     "name": "stderr",
     "output_type": "stream",
     "text": [
      "  2%|▏         | 19/938 [00:01<00:46, 19.70it/s]"
     ]
    },
    {
     "name": "stdout",
     "output_type": "stream",
     "text": [
      "mean_log_p,shapetorch.Size([]), -577.181640625\n",
      "mean_log_q.shapetorch.Size([]), -56.87493896484375\n",
      "mean_log_p,shapetorch.Size([]), -575.117431640625\n",
      "mean_log_q.shapetorch.Size([]), -56.901214599609375\n",
      "mean_log_p,shapetorch.Size([]), -572.604736328125\n",
      "mean_log_q.shapetorch.Size([]), -56.92265319824219\n"
     ]
    },
    {
     "name": "stderr",
     "output_type": "stream",
     "text": [
      "  3%|▎         | 24/938 [00:01<00:57, 15.83it/s]"
     ]
    },
    {
     "name": "stdout",
     "output_type": "stream",
     "text": [
      "mean_log_p,shapetorch.Size([]), -570.1680297851562\n",
      "mean_log_q.shapetorch.Size([]), -56.92918395996094\n",
      "mean_log_p,shapetorch.Size([]), -568.9051513671875\n",
      "mean_log_q.shapetorch.Size([]), -56.957061767578125\n",
      "mean_log_p,shapetorch.Size([]), -565.428955078125\n",
      "mean_log_q.shapetorch.Size([]), -56.967185974121094\n"
     ]
    },
    {
     "name": "stderr",
     "output_type": "stream",
     "text": [
      "  3%|▎         | 28/938 [00:01<00:50, 18.09it/s]"
     ]
    },
    {
     "name": "stdout",
     "output_type": "stream",
     "text": [
      "mean_log_p,shapetorch.Size([]), -562.4429931640625\n",
      "mean_log_q.shapetorch.Size([]), -56.987815856933594\n",
      "mean_log_p,shapetorch.Size([]), -558.7623291015625\n",
      "mean_log_q.shapetorch.Size([]), -57.01001739501953\n",
      "mean_log_p,shapetorch.Size([]), -555.47998046875\n",
      "mean_log_q.shapetorch.Size([]), -57.037025451660156\n"
     ]
    },
    {
     "name": "stderr",
     "output_type": "stream",
     "text": [
      "  3%|▎         | 32/938 [00:01<00:58, 15.37it/s]"
     ]
    },
    {
     "name": "stdout",
     "output_type": "stream",
     "text": [
      "mean_log_p,shapetorch.Size([]), -553.8535766601562\n",
      "mean_log_q.shapetorch.Size([]), -57.04705047607422\n",
      "mean_log_p,shapetorch.Size([]), -550.1193237304688\n",
      "mean_log_q.shapetorch.Size([]), -57.06840896606445\n",
      "mean_log_p,shapetorch.Size([]), -547.380615234375\n",
      "mean_log_q.shapetorch.Size([]), -57.08802795410156\n"
     ]
    },
    {
     "name": "stderr",
     "output_type": "stream",
     "text": [
      "  4%|▎         | 34/938 [00:02<01:03, 14.31it/s]"
     ]
    },
    {
     "name": "stdout",
     "output_type": "stream",
     "text": [
      "mean_log_p,shapetorch.Size([]), -542.4049072265625\n",
      "mean_log_q.shapetorch.Size([]), -57.118282318115234\n",
      "mean_log_p,shapetorch.Size([]), -539.378173828125\n",
      "mean_log_q.shapetorch.Size([]), -57.13338088989258\n",
      "mean_log_p,shapetorch.Size([]), -534.7783813476562\n",
      "mean_log_q.shapetorch.Size([]), -57.1502685546875\n"
     ]
    },
    {
     "name": "stderr",
     "output_type": "stream",
     "text": [
      "  4%|▍         | 40/938 [00:02<00:57, 15.68it/s]"
     ]
    },
    {
     "name": "stdout",
     "output_type": "stream",
     "text": [
      "mean_log_p,shapetorch.Size([]), -532.3925170898438\n",
      "mean_log_q.shapetorch.Size([]), -57.167293548583984\n",
      "mean_log_p,shapetorch.Size([]), -526.343505859375\n",
      "mean_log_q.shapetorch.Size([]), -57.19831848144531\n",
      "mean_log_p,shapetorch.Size([]), -522.5445556640625\n",
      "mean_log_q.shapetorch.Size([]), -57.21697235107422\n"
     ]
    },
    {
     "name": "stderr",
     "output_type": "stream",
     "text": [
      "  4%|▍         | 42/938 [00:02<01:00, 14.82it/s]"
     ]
    },
    {
     "name": "stdout",
     "output_type": "stream",
     "text": [
      "mean_log_p,shapetorch.Size([]), -518.59375\n",
      "mean_log_q.shapetorch.Size([]), -57.23088836669922\n",
      "mean_log_p,shapetorch.Size([]), -513.70703125\n",
      "mean_log_q.shapetorch.Size([]), -57.254886627197266\n",
      "mean_log_p,shapetorch.Size([]), -508.0070495605469\n",
      "mean_log_q.shapetorch.Size([]), -57.269744873046875\n"
     ]
    },
    {
     "name": "stderr",
     "output_type": "stream",
     "text": [
      "  5%|▍         | 46/938 [00:02<01:04, 13.85it/s]"
     ]
    },
    {
     "name": "stdout",
     "output_type": "stream",
     "text": [
      "mean_log_p,shapetorch.Size([]), -503.7332458496094\n",
      "mean_log_q.shapetorch.Size([]), -57.29534149169922\n",
      "mean_log_p,shapetorch.Size([]), -499.7293701171875\n",
      "mean_log_q.shapetorch.Size([]), -57.30084991455078\n",
      "mean_log_p,shapetorch.Size([]), -494.2955017089844\n",
      "mean_log_q.shapetorch.Size([]), -57.31315231323242\n"
     ]
    },
    {
     "name": "stderr",
     "output_type": "stream",
     "text": [
      "  5%|▌         | 50/938 [00:03<00:51, 17.08it/s]"
     ]
    },
    {
     "name": "stdout",
     "output_type": "stream",
     "text": [
      "mean_log_p,shapetorch.Size([]), -489.43646240234375\n",
      "mean_log_q.shapetorch.Size([]), -57.35569763183594\n",
      "mean_log_p,shapetorch.Size([]), -480.263427734375\n",
      "mean_log_q.shapetorch.Size([]), -57.36427307128906\n",
      "mean_log_p,shapetorch.Size([]), -479.044677734375\n",
      "mean_log_q.shapetorch.Size([]), -57.379051208496094\n"
     ]
    },
    {
     "name": "stderr",
     "output_type": "stream",
     "text": [
      "  6%|▌         | 54/938 [00:03<00:59, 14.74it/s]"
     ]
    },
    {
     "name": "stdout",
     "output_type": "stream",
     "text": [
      "mean_log_p,shapetorch.Size([]), -470.64239501953125\n",
      "mean_log_q.shapetorch.Size([]), -57.41629409790039\n",
      "mean_log_p,shapetorch.Size([]), -464.5621337890625\n",
      "mean_log_q.shapetorch.Size([]), -57.41399383544922\n",
      "mean_log_p,shapetorch.Size([]), -460.8095703125\n",
      "mean_log_q.shapetorch.Size([]), -57.41770935058594\n"
     ]
    },
    {
     "name": "stderr",
     "output_type": "stream",
     "text": [
      "  6%|▌         | 56/938 [00:03<01:04, 13.77it/s]"
     ]
    },
    {
     "name": "stdout",
     "output_type": "stream",
     "text": [
      "mean_log_p,shapetorch.Size([]), -452.3951721191406\n",
      "mean_log_q.shapetorch.Size([]), -57.438682556152344\n",
      "mean_log_p,shapetorch.Size([]), -448.35107421875\n",
      "mean_log_q.shapetorch.Size([]), -57.4799690246582\n",
      "mean_log_p,shapetorch.Size([]), -439.62750244140625\n",
      "mean_log_q.shapetorch.Size([]), -57.4715576171875\n"
     ]
    },
    {
     "name": "stderr",
     "output_type": "stream",
     "text": [
      "  6%|▋         | 60/938 [00:03<01:06, 13.12it/s]"
     ]
    },
    {
     "name": "stdout",
     "output_type": "stream",
     "text": [
      "mean_log_p,shapetorch.Size([]), -433.7392578125\n",
      "mean_log_q.shapetorch.Size([]), -57.46713638305664\n",
      "mean_log_p,shapetorch.Size([]), -430.30841064453125\n",
      "mean_log_q.shapetorch.Size([]), -57.46940612792969\n",
      "mean_log_p,shapetorch.Size([]), -420.04132080078125\n",
      "mean_log_q.shapetorch.Size([]), -57.503807067871094\n"
     ]
    },
    {
     "name": "stderr",
     "output_type": "stream",
     "text": [
      "  7%|▋         | 64/938 [00:04<00:53, 16.40it/s]"
     ]
    },
    {
     "name": "stdout",
     "output_type": "stream",
     "text": [
      "mean_log_p,shapetorch.Size([]), -413.6224365234375\n",
      "mean_log_q.shapetorch.Size([]), -57.535850524902344\n",
      "mean_log_p,shapetorch.Size([]), -413.0638427734375\n",
      "mean_log_q.shapetorch.Size([]), -57.53736877441406\n",
      "mean_log_p,shapetorch.Size([]), -405.22174072265625\n",
      "mean_log_q.shapetorch.Size([]), -57.534549713134766\n"
     ]
    },
    {
     "name": "stderr",
     "output_type": "stream",
     "text": [
      "  7%|▋         | 68/938 [00:04<01:00, 14.29it/s]"
     ]
    },
    {
     "name": "stdout",
     "output_type": "stream",
     "text": [
      "mean_log_p,shapetorch.Size([]), -405.08154296875\n",
      "mean_log_q.shapetorch.Size([]), -57.433204650878906\n",
      "mean_log_p,shapetorch.Size([]), -389.2828674316406\n",
      "mean_log_q.shapetorch.Size([]), -57.513877868652344\n",
      "mean_log_p,shapetorch.Size([]), -385.3446044921875\n",
      "mean_log_q.shapetorch.Size([]), -57.380760192871094\n"
     ]
    },
    {
     "name": "stderr",
     "output_type": "stream",
     "text": [
      "  7%|▋         | 70/938 [00:04<01:03, 13.65it/s]"
     ]
    },
    {
     "name": "stdout",
     "output_type": "stream",
     "text": [
      "mean_log_p,shapetorch.Size([]), -384.0191650390625\n",
      "mean_log_q.shapetorch.Size([]), -57.412315368652344\n",
      "mean_log_p,shapetorch.Size([]), -375.89605712890625\n",
      "mean_log_q.shapetorch.Size([]), -57.4736442565918\n",
      "mean_log_p,shapetorch.Size([]), -368.02362060546875\n",
      "mean_log_q.shapetorch.Size([]), -57.32856369018555\n"
     ]
    },
    {
     "name": "stderr",
     "output_type": "stream",
     "text": [
      "  8%|▊         | 74/938 [00:04<01:06, 12.92it/s]"
     ]
    },
    {
     "name": "stdout",
     "output_type": "stream",
     "text": [
      "mean_log_p,shapetorch.Size([]), -359.247802734375\n",
      "mean_log_q.shapetorch.Size([]), -57.39531326293945\n",
      "mean_log_p,shapetorch.Size([]), -362.1800537109375\n",
      "mean_log_q.shapetorch.Size([]), -57.462005615234375\n",
      "mean_log_p,shapetorch.Size([]), -355.51953125\n",
      "mean_log_q.shapetorch.Size([]), -57.31675338745117\n"
     ]
    },
    {
     "name": "stderr",
     "output_type": "stream",
     "text": [
      "  8%|▊         | 76/938 [00:04<01:07, 12.77it/s]"
     ]
    },
    {
     "name": "stdout",
     "output_type": "stream",
     "text": [
      "mean_log_p,shapetorch.Size([]), -345.4500427246094\n",
      "mean_log_q.shapetorch.Size([]), -57.337886810302734\n",
      "mean_log_p,shapetorch.Size([]), -346.66845703125\n",
      "mean_log_q.shapetorch.Size([]), -56.95940017700195\n",
      "mean_log_p,shapetorch.Size([]), -346.67437744140625\n",
      "mean_log_q.shapetorch.Size([]), -57.26364517211914\n"
     ]
    },
    {
     "name": "stderr",
     "output_type": "stream",
     "text": [
      "  9%|▊         | 82/938 [00:05<00:56, 15.19it/s]"
     ]
    },
    {
     "name": "stdout",
     "output_type": "stream",
     "text": [
      "mean_log_p,shapetorch.Size([]), -334.34283447265625\n",
      "mean_log_q.shapetorch.Size([]), -57.07595443725586\n",
      "mean_log_p,shapetorch.Size([]), -328.3756103515625\n",
      "mean_log_q.shapetorch.Size([]), -57.243072509765625\n",
      "mean_log_p,shapetorch.Size([]), -328.48681640625\n",
      "mean_log_q.shapetorch.Size([]), -56.804649353027344\n"
     ]
    },
    {
     "name": "stderr",
     "output_type": "stream",
     "text": [
      "  9%|▉         | 84/938 [00:05<00:59, 14.36it/s]"
     ]
    },
    {
     "name": "stdout",
     "output_type": "stream",
     "text": [
      "mean_log_p,shapetorch.Size([]), -328.116943359375\n",
      "mean_log_q.shapetorch.Size([]), -57.14487838745117\n",
      "mean_log_p,shapetorch.Size([]), -319.9542236328125\n",
      "mean_log_q.shapetorch.Size([]), -57.035003662109375\n",
      "mean_log_p,shapetorch.Size([]), -315.29815673828125\n",
      "mean_log_q.shapetorch.Size([]), -56.99031066894531\n"
     ]
    },
    {
     "name": "stderr",
     "output_type": "stream",
     "text": [
      "  9%|▉         | 88/938 [00:05<01:04, 13.25it/s]"
     ]
    },
    {
     "name": "stdout",
     "output_type": "stream",
     "text": [
      "mean_log_p,shapetorch.Size([]), -307.1910400390625\n",
      "mean_log_q.shapetorch.Size([]), -56.83171081542969\n",
      "mean_log_p,shapetorch.Size([]), -313.1019287109375\n",
      "mean_log_q.shapetorch.Size([]), -56.94671630859375\n",
      "mean_log_p,shapetorch.Size([]), -307.0628356933594\n",
      "mean_log_q.shapetorch.Size([]), -56.97073745727539\n"
     ]
    },
    {
     "name": "stderr",
     "output_type": "stream",
     "text": [
      " 10%|▉         | 90/938 [00:05<01:05, 12.95it/s]"
     ]
    },
    {
     "name": "stdout",
     "output_type": "stream",
     "text": [
      "mean_log_p,shapetorch.Size([]), -307.44525146484375\n",
      "mean_log_q.shapetorch.Size([]), -57.103675842285156\n",
      "mean_log_p,shapetorch.Size([]), -306.9432067871094\n",
      "mean_log_q.shapetorch.Size([]), -57.11097717285156\n",
      "mean_log_p,shapetorch.Size([]), -296.6925354003906\n",
      "mean_log_q.shapetorch.Size([]), -57.036048889160156\n"
     ]
    },
    {
     "name": "stderr",
     "output_type": "stream",
     "text": [
      " 10%|█         | 94/938 [00:06<01:07, 12.53it/s]"
     ]
    },
    {
     "name": "stdout",
     "output_type": "stream",
     "text": [
      "mean_log_p,shapetorch.Size([]), -312.5712890625\n",
      "mean_log_q.shapetorch.Size([]), -57.07781219482422\n",
      "mean_log_p,shapetorch.Size([]), -302.5785217285156\n",
      "mean_log_q.shapetorch.Size([]), -56.74623107910156\n",
      "mean_log_p,shapetorch.Size([]), -286.413330078125\n",
      "mean_log_q.shapetorch.Size([]), -56.801979064941406\n"
     ]
    },
    {
     "name": "stderr",
     "output_type": "stream",
     "text": [
      " 10%|█         | 98/938 [00:06<00:52, 16.01it/s]"
     ]
    },
    {
     "name": "stdout",
     "output_type": "stream",
     "text": [
      "mean_log_p,shapetorch.Size([]), -294.14288330078125\n",
      "mean_log_q.shapetorch.Size([]), -56.74830627441406\n",
      "mean_log_p,shapetorch.Size([]), -286.081787109375\n",
      "mean_log_q.shapetorch.Size([]), -57.0451545715332\n",
      "mean_log_p,shapetorch.Size([]), -286.1307067871094\n",
      "mean_log_q.shapetorch.Size([]), -57.26386260986328\n"
     ]
    },
    {
     "name": "stderr",
     "output_type": "stream",
     "text": [
      " 11%|█         | 102/938 [00:06<00:58, 14.21it/s]"
     ]
    },
    {
     "name": "stdout",
     "output_type": "stream",
     "text": [
      "mean_log_p,shapetorch.Size([]), -282.7562255859375\n",
      "mean_log_q.shapetorch.Size([]), -57.002525329589844\n",
      "mean_log_p,shapetorch.Size([]), -290.82855224609375\n",
      "mean_log_q.shapetorch.Size([]), -56.907936096191406\n",
      "mean_log_p,shapetorch.Size([]), -272.74505615234375\n",
      "mean_log_q.shapetorch.Size([]), -57.24462127685547\n"
     ]
    },
    {
     "name": "stderr",
     "output_type": "stream",
     "text": [
      " 11%|█         | 104/938 [00:06<01:01, 13.64it/s]"
     ]
    },
    {
     "name": "stdout",
     "output_type": "stream",
     "text": [
      "mean_log_p,shapetorch.Size([]), -284.6815185546875\n",
      "mean_log_q.shapetorch.Size([]), -57.3061637878418\n",
      "mean_log_p,shapetorch.Size([]), -288.36669921875\n",
      "mean_log_q.shapetorch.Size([]), -57.14765930175781\n",
      "mean_log_p,shapetorch.Size([]), -278.93463134765625\n",
      "mean_log_q.shapetorch.Size([]), -57.18639373779297\n"
     ]
    },
    {
     "name": "stderr",
     "output_type": "stream",
     "text": [
      " 12%|█▏        | 108/938 [00:07<01:04, 12.81it/s]"
     ]
    },
    {
     "name": "stdout",
     "output_type": "stream",
     "text": [
      "mean_log_p,shapetorch.Size([]), -287.29193115234375\n",
      "mean_log_q.shapetorch.Size([]), -56.96628952026367\n",
      "mean_log_p,shapetorch.Size([]), -273.6309509277344\n",
      "mean_log_q.shapetorch.Size([]), -57.157867431640625\n",
      "mean_log_p,shapetorch.Size([]), -275.4862060546875\n",
      "mean_log_q.shapetorch.Size([]), -56.972225189208984\n"
     ]
    },
    {
     "name": "stderr",
     "output_type": "stream",
     "text": [
      " 12%|█▏        | 110/938 [00:07<01:06, 12.54it/s]"
     ]
    },
    {
     "name": "stdout",
     "output_type": "stream",
     "text": [
      "mean_log_p,shapetorch.Size([]), -285.592529296875\n",
      "mean_log_q.shapetorch.Size([]), -56.82417297363281\n",
      "mean_log_p,shapetorch.Size([]), -275.1805114746094\n",
      "mean_log_q.shapetorch.Size([]), -57.03998947143555\n",
      "mean_log_p,shapetorch.Size([]), -265.6251525878906\n",
      "mean_log_q.shapetorch.Size([]), -57.40630340576172\n"
     ]
    },
    {
     "name": "stderr",
     "output_type": "stream",
     "text": [
      " 12%|█▏        | 114/938 [00:07<01:06, 12.44it/s]"
     ]
    },
    {
     "name": "stdout",
     "output_type": "stream",
     "text": [
      "mean_log_p,shapetorch.Size([]), -288.30059814453125\n",
      "mean_log_q.shapetorch.Size([]), -56.871055603027344\n",
      "mean_log_p,shapetorch.Size([]), -283.23681640625\n",
      "mean_log_q.shapetorch.Size([]), -56.913543701171875\n",
      "mean_log_p,shapetorch.Size([]), -276.7654724121094\n",
      "mean_log_q.shapetorch.Size([]), -57.279579162597656\n"
     ]
    },
    {
     "name": "stderr",
     "output_type": "stream",
     "text": [
      " 13%|█▎        | 118/938 [00:07<00:50, 16.17it/s]"
     ]
    },
    {
     "name": "stdout",
     "output_type": "stream",
     "text": [
      "mean_log_p,shapetorch.Size([]), -283.57757568359375\n",
      "mean_log_q.shapetorch.Size([]), -56.95041275024414\n",
      "mean_log_p,shapetorch.Size([]), -284.21600341796875\n",
      "mean_log_q.shapetorch.Size([]), -56.94071578979492\n",
      "mean_log_p,shapetorch.Size([]), -269.863525390625\n",
      "mean_log_q.shapetorch.Size([]), -57.218421936035156\n"
     ]
    },
    {
     "name": "stderr",
     "output_type": "stream",
     "text": [
      " 13%|█▎        | 122/938 [00:08<00:57, 14.28it/s]"
     ]
    },
    {
     "name": "stdout",
     "output_type": "stream",
     "text": [
      "mean_log_p,shapetorch.Size([]), -267.6781311035156\n",
      "mean_log_q.shapetorch.Size([]), -57.467140197753906\n",
      "mean_log_p,shapetorch.Size([]), -265.2420654296875\n",
      "mean_log_q.shapetorch.Size([]), -57.22026824951172\n",
      "mean_log_p,shapetorch.Size([]), -271.2862548828125\n",
      "mean_log_q.shapetorch.Size([]), -57.23754119873047\n"
     ]
    },
    {
     "name": "stderr",
     "output_type": "stream",
     "text": [
      " 13%|█▎        | 124/938 [00:08<00:59, 13.78it/s]"
     ]
    },
    {
     "name": "stdout",
     "output_type": "stream",
     "text": [
      "mean_log_p,shapetorch.Size([]), -269.2025146484375\n",
      "mean_log_q.shapetorch.Size([]), -57.634735107421875\n",
      "mean_log_p,shapetorch.Size([]), -272.58599853515625\n",
      "mean_log_q.shapetorch.Size([]), -57.345603942871094\n",
      "mean_log_p,shapetorch.Size([]), -276.571533203125\n",
      "mean_log_q.shapetorch.Size([]), -57.16623306274414\n"
     ]
    },
    {
     "name": "stderr",
     "output_type": "stream",
     "text": [
      " 14%|█▎        | 128/938 [00:08<01:02, 12.90it/s]"
     ]
    },
    {
     "name": "stdout",
     "output_type": "stream",
     "text": [
      "mean_log_p,shapetorch.Size([]), -267.4700012207031\n",
      "mean_log_q.shapetorch.Size([]), -57.39360809326172\n",
      "mean_log_p,shapetorch.Size([]), -267.78466796875\n",
      "mean_log_q.shapetorch.Size([]), -57.33955764770508\n",
      "mean_log_p,shapetorch.Size([]), -269.61993408203125\n",
      "mean_log_q.shapetorch.Size([]), -57.266334533691406\n"
     ]
    },
    {
     "name": "stderr",
     "output_type": "stream",
     "text": [
      " 14%|█▍        | 130/938 [00:08<01:04, 12.58it/s]"
     ]
    },
    {
     "name": "stdout",
     "output_type": "stream",
     "text": [
      "mean_log_p,shapetorch.Size([]), -268.74603271484375\n",
      "mean_log_q.shapetorch.Size([]), -57.43158721923828\n",
      "mean_log_p,shapetorch.Size([]), -268.9982604980469\n",
      "mean_log_q.shapetorch.Size([]), -57.42948532104492\n",
      "mean_log_p,shapetorch.Size([]), -261.0451965332031\n",
      "mean_log_q.shapetorch.Size([]), -57.67948913574219\n"
     ]
    },
    {
     "name": "stderr",
     "output_type": "stream",
     "text": [
      " 14%|█▍        | 134/938 [00:09<01:04, 12.52it/s]"
     ]
    },
    {
     "name": "stdout",
     "output_type": "stream",
     "text": [
      "mean_log_p,shapetorch.Size([]), -280.8703918457031\n",
      "mean_log_q.shapetorch.Size([]), -57.149269104003906\n",
      "mean_log_p,shapetorch.Size([]), -257.7223815917969\n",
      "mean_log_q.shapetorch.Size([]), -57.226776123046875\n",
      "mean_log_p,shapetorch.Size([]), -276.427734375\n",
      "mean_log_q.shapetorch.Size([]), -57.020660400390625\n"
     ]
    },
    {
     "name": "stderr",
     "output_type": "stream",
     "text": [
      " 14%|█▍        | 136/938 [00:09<01:04, 12.46it/s]"
     ]
    },
    {
     "name": "stdout",
     "output_type": "stream",
     "text": [
      "mean_log_p,shapetorch.Size([]), -270.130126953125\n",
      "mean_log_q.shapetorch.Size([]), -57.2667236328125\n",
      "mean_log_p,shapetorch.Size([]), -260.00506591796875\n",
      "mean_log_q.shapetorch.Size([]), -56.71044158935547\n",
      "mean_log_p,shapetorch.Size([]), -262.9333801269531\n",
      "mean_log_q.shapetorch.Size([]), -57.14380645751953\n"
     ]
    },
    {
     "name": "stderr",
     "output_type": "stream",
     "text": [
      " 15%|█▌        | 142/938 [00:09<00:53, 14.95it/s]"
     ]
    },
    {
     "name": "stdout",
     "output_type": "stream",
     "text": [
      "mean_log_p,shapetorch.Size([]), -265.06988525390625\n",
      "mean_log_q.shapetorch.Size([]), -57.20219039916992\n",
      "mean_log_p,shapetorch.Size([]), -269.484619140625\n",
      "mean_log_q.shapetorch.Size([]), -57.0933952331543\n",
      "mean_log_p,shapetorch.Size([]), -262.649169921875\n",
      "mean_log_q.shapetorch.Size([]), -57.39305114746094\n"
     ]
    },
    {
     "name": "stderr",
     "output_type": "stream",
     "text": [
      " 15%|█▌        | 144/938 [00:09<00:58, 13.65it/s]"
     ]
    },
    {
     "name": "stdout",
     "output_type": "stream",
     "text": [
      "mean_log_p,shapetorch.Size([]), -261.489501953125\n",
      "mean_log_q.shapetorch.Size([]), -57.379676818847656\n",
      "mean_log_p,shapetorch.Size([]), -276.5511474609375\n",
      "mean_log_q.shapetorch.Size([]), -57.11505126953125\n",
      "mean_log_p,shapetorch.Size([]), -263.3249816894531\n",
      "mean_log_q.shapetorch.Size([]), -57.22650146484375\n"
     ]
    },
    {
     "name": "stderr",
     "output_type": "stream",
     "text": [
      " 16%|█▌        | 148/938 [00:10<01:00, 13.03it/s]"
     ]
    },
    {
     "name": "stdout",
     "output_type": "stream",
     "text": [
      "mean_log_p,shapetorch.Size([]), -272.0777893066406\n",
      "mean_log_q.shapetorch.Size([]), -57.017669677734375\n",
      "mean_log_p,shapetorch.Size([]), -268.7384338378906\n",
      "mean_log_q.shapetorch.Size([]), -56.928009033203125\n",
      "mean_log_p,shapetorch.Size([]), -264.8330993652344\n",
      "mean_log_q.shapetorch.Size([]), -57.066650390625\n"
     ]
    },
    {
     "name": "stderr",
     "output_type": "stream",
     "text": [
      " 16%|█▌        | 150/938 [00:10<01:02, 12.67it/s]"
     ]
    },
    {
     "name": "stdout",
     "output_type": "stream",
     "text": [
      "mean_log_p,shapetorch.Size([]), -269.09893798828125\n",
      "mean_log_q.shapetorch.Size([]), -57.315093994140625\n",
      "mean_log_p,shapetorch.Size([]), -273.1217956542969\n",
      "mean_log_q.shapetorch.Size([]), -57.198524475097656\n",
      "mean_log_p,shapetorch.Size([]), -263.1424560546875\n",
      "mean_log_q.shapetorch.Size([]), -57.033302307128906\n"
     ]
    },
    {
     "name": "stderr",
     "output_type": "stream",
     "text": [
      " 16%|█▋        | 154/938 [00:10<01:02, 12.53it/s]"
     ]
    },
    {
     "name": "stdout",
     "output_type": "stream",
     "text": [
      "mean_log_p,shapetorch.Size([]), -260.0775146484375\n",
      "mean_log_q.shapetorch.Size([]), -57.46725082397461\n",
      "mean_log_p,shapetorch.Size([]), -260.84942626953125\n",
      "mean_log_q.shapetorch.Size([]), -57.63960266113281\n",
      "mean_log_p,shapetorch.Size([]), -273.0244445800781\n",
      "mean_log_q.shapetorch.Size([]), -57.69143295288086\n"
     ]
    },
    {
     "name": "stderr",
     "output_type": "stream",
     "text": [
      " 17%|█▋        | 156/938 [00:10<01:02, 12.44it/s]"
     ]
    },
    {
     "name": "stdout",
     "output_type": "stream",
     "text": [
      "mean_log_p,shapetorch.Size([]), -251.82420349121094\n",
      "mean_log_q.shapetorch.Size([]), -57.499691009521484\n",
      "mean_log_p,shapetorch.Size([]), -260.8157958984375\n",
      "mean_log_q.shapetorch.Size([]), -57.15628433227539\n",
      "mean_log_p,shapetorch.Size([]), -259.80352783203125\n",
      "mean_log_q.shapetorch.Size([]), -57.2611083984375\n"
     ]
    },
    {
     "name": "stderr",
     "output_type": "stream",
     "text": [
      " 17%|█▋        | 160/938 [00:11<01:03, 12.30it/s]"
     ]
    },
    {
     "name": "stdout",
     "output_type": "stream",
     "text": [
      "mean_log_p,shapetorch.Size([]), -267.7405090332031\n",
      "mean_log_q.shapetorch.Size([]), -57.03371047973633\n",
      "mean_log_p,shapetorch.Size([]), -262.9840393066406\n",
      "mean_log_q.shapetorch.Size([]), -57.56849670410156\n",
      "mean_log_p,shapetorch.Size([]), -259.9057312011719\n",
      "mean_log_q.shapetorch.Size([]), -57.256378173828125\n"
     ]
    },
    {
     "name": "stderr",
     "output_type": "stream",
     "text": [
      " 17%|█▋        | 164/938 [00:11<00:48, 16.00it/s]"
     ]
    },
    {
     "name": "stdout",
     "output_type": "stream",
     "text": [
      "mean_log_p,shapetorch.Size([]), -276.211181640625\n",
      "mean_log_q.shapetorch.Size([]), -56.904850006103516\n",
      "mean_log_p,shapetorch.Size([]), -269.94403076171875\n",
      "mean_log_q.shapetorch.Size([]), -57.37483596801758\n",
      "mean_log_p,shapetorch.Size([]), -268.95623779296875\n",
      "mean_log_q.shapetorch.Size([]), -57.053504943847656\n"
     ]
    },
    {
     "name": "stderr",
     "output_type": "stream",
     "text": [
      " 18%|█▊        | 168/938 [00:11<00:55, 13.93it/s]"
     ]
    },
    {
     "name": "stdout",
     "output_type": "stream",
     "text": [
      "mean_log_p,shapetorch.Size([]), -266.549560546875\n",
      "mean_log_q.shapetorch.Size([]), -56.96135330200195\n",
      "mean_log_p,shapetorch.Size([]), -277.3833923339844\n",
      "mean_log_q.shapetorch.Size([]), -56.60319519042969\n",
      "mean_log_p,shapetorch.Size([]), -266.39117431640625\n",
      "mean_log_q.shapetorch.Size([]), -56.974891662597656\n"
     ]
    },
    {
     "name": "stderr",
     "output_type": "stream",
     "text": [
      " 18%|█▊        | 170/938 [00:11<00:56, 13.53it/s]"
     ]
    },
    {
     "name": "stdout",
     "output_type": "stream",
     "text": [
      "mean_log_p,shapetorch.Size([]), -265.1837158203125\n",
      "mean_log_q.shapetorch.Size([]), -57.41748046875\n",
      "mean_log_p,shapetorch.Size([]), -264.16357421875\n",
      "mean_log_q.shapetorch.Size([]), -56.61331558227539\n",
      "mean_log_p,shapetorch.Size([]), -272.783447265625\n",
      "mean_log_q.shapetorch.Size([]), -57.105323791503906\n"
     ]
    },
    {
     "name": "stderr",
     "output_type": "stream",
     "text": [
      " 19%|█▊        | 174/938 [00:12<00:58, 13.12it/s]"
     ]
    },
    {
     "name": "stdout",
     "output_type": "stream",
     "text": [
      "mean_log_p,shapetorch.Size([]), -261.5660705566406\n",
      "mean_log_q.shapetorch.Size([]), -56.86793518066406\n",
      "mean_log_p,shapetorch.Size([]), -246.9754180908203\n",
      "mean_log_q.shapetorch.Size([]), -57.22016143798828\n",
      "mean_log_p,shapetorch.Size([]), -256.2535400390625\n",
      "mean_log_q.shapetorch.Size([]), -57.13872528076172\n"
     ]
    },
    {
     "name": "stderr",
     "output_type": "stream",
     "text": [
      " 19%|█▉        | 176/938 [00:12<01:00, 12.60it/s]"
     ]
    },
    {
     "name": "stdout",
     "output_type": "stream",
     "text": [
      "mean_log_p,shapetorch.Size([]), -259.4008483886719\n",
      "mean_log_q.shapetorch.Size([]), -57.204681396484375\n",
      "mean_log_p,shapetorch.Size([]), -254.24620056152344\n",
      "mean_log_q.shapetorch.Size([]), -57.2816047668457\n",
      "mean_log_p,shapetorch.Size([]), -254.15121459960938\n",
      "mean_log_q.shapetorch.Size([]), -56.94482421875\n"
     ]
    },
    {
     "name": "stderr",
     "output_type": "stream",
     "text": [
      " 19%|█▉        | 180/938 [00:12<01:01, 12.43it/s]"
     ]
    },
    {
     "name": "stdout",
     "output_type": "stream",
     "text": [
      "mean_log_p,shapetorch.Size([]), -260.1235656738281\n",
      "mean_log_q.shapetorch.Size([]), -57.22815704345703\n",
      "mean_log_p,shapetorch.Size([]), -263.2976379394531\n",
      "mean_log_q.shapetorch.Size([]), -56.98741912841797\n",
      "mean_log_p,shapetorch.Size([]), -261.20037841796875\n",
      "mean_log_q.shapetorch.Size([]), -57.217002868652344\n"
     ]
    },
    {
     "name": "stderr",
     "output_type": "stream",
     "text": [
      " 19%|█▉        | 182/938 [00:12<01:01, 12.30it/s]"
     ]
    },
    {
     "name": "stdout",
     "output_type": "stream",
     "text": [
      "mean_log_p,shapetorch.Size([]), -264.95001220703125\n",
      "mean_log_q.shapetorch.Size([]), -57.08985900878906\n",
      "mean_log_p,shapetorch.Size([]), -267.61798095703125\n",
      "mean_log_q.shapetorch.Size([]), -57.350311279296875\n",
      "mean_log_p,shapetorch.Size([]), -260.05828857421875\n",
      "mean_log_q.shapetorch.Size([]), -57.06385803222656\n"
     ]
    },
    {
     "name": "stderr",
     "output_type": "stream",
     "text": [
      " 20%|█▉        | 186/938 [00:13<01:01, 12.18it/s]"
     ]
    },
    {
     "name": "stdout",
     "output_type": "stream",
     "text": [
      "mean_log_p,shapetorch.Size([]), -266.5970458984375\n",
      "mean_log_q.shapetorch.Size([]), -57.08174514770508\n",
      "mean_log_p,shapetorch.Size([]), -263.4808654785156\n",
      "mean_log_q.shapetorch.Size([]), -57.099369049072266\n",
      "mean_log_p,shapetorch.Size([]), -266.141845703125\n",
      "mean_log_q.shapetorch.Size([]), -57.17422866821289\n"
     ]
    },
    {
     "name": "stderr",
     "output_type": "stream",
     "text": [
      " 20%|██        | 190/938 [00:13<00:46, 15.97it/s]"
     ]
    },
    {
     "name": "stdout",
     "output_type": "stream",
     "text": [
      "mean_log_p,shapetorch.Size([]), -274.556640625\n",
      "mean_log_q.shapetorch.Size([]), -56.85696792602539\n",
      "mean_log_p,shapetorch.Size([]), -253.26901245117188\n",
      "mean_log_q.shapetorch.Size([]), -57.24843215942383\n",
      "mean_log_p,shapetorch.Size([]), -260.0715026855469\n",
      "mean_log_q.shapetorch.Size([]), -57.08848571777344\n"
     ]
    },
    {
     "name": "stderr",
     "output_type": "stream",
     "text": [
      " 21%|██        | 194/938 [00:13<00:52, 14.11it/s]"
     ]
    },
    {
     "name": "stdout",
     "output_type": "stream",
     "text": [
      "mean_log_p,shapetorch.Size([]), -253.61044311523438\n",
      "mean_log_q.shapetorch.Size([]), -57.00049591064453\n",
      "mean_log_p,shapetorch.Size([]), -258.86767578125\n",
      "mean_log_q.shapetorch.Size([]), -57.38774108886719\n",
      "mean_log_p,shapetorch.Size([]), -261.5686340332031\n",
      "mean_log_q.shapetorch.Size([]), -57.492027282714844\n"
     ]
    },
    {
     "name": "stderr",
     "output_type": "stream",
     "text": [
      " 21%|██        | 196/938 [00:13<00:54, 13.60it/s]"
     ]
    },
    {
     "name": "stdout",
     "output_type": "stream",
     "text": [
      "mean_log_p,shapetorch.Size([]), -251.0301513671875\n",
      "mean_log_q.shapetorch.Size([]), -57.128875732421875\n",
      "mean_log_p,shapetorch.Size([]), -263.35675048828125\n",
      "mean_log_q.shapetorch.Size([]), -56.304039001464844\n",
      "mean_log_p,shapetorch.Size([]), -254.35537719726562\n",
      "mean_log_q.shapetorch.Size([]), -56.71078109741211\n"
     ]
    },
    {
     "name": "stderr",
     "output_type": "stream",
     "text": [
      " 21%|██▏       | 200/938 [00:14<00:56, 13.05it/s]"
     ]
    },
    {
     "name": "stdout",
     "output_type": "stream",
     "text": [
      "mean_log_p,shapetorch.Size([]), -252.25469970703125\n",
      "mean_log_q.shapetorch.Size([]), -56.74055480957031\n",
      "mean_log_p,shapetorch.Size([]), -258.7235107421875\n",
      "mean_log_q.shapetorch.Size([]), -56.84497833251953\n",
      "mean_log_p,shapetorch.Size([]), -259.99444580078125\n",
      "mean_log_q.shapetorch.Size([]), -56.78382110595703\n"
     ]
    },
    {
     "name": "stderr",
     "output_type": "stream",
     "text": [
      " 22%|██▏       | 202/938 [00:14<00:58, 12.54it/s]"
     ]
    },
    {
     "name": "stdout",
     "output_type": "stream",
     "text": [
      "mean_log_p,shapetorch.Size([]), -264.71795654296875\n",
      "mean_log_q.shapetorch.Size([]), -57.17009735107422\n",
      "mean_log_p,shapetorch.Size([]), -254.49571228027344\n",
      "mean_log_q.shapetorch.Size([]), -57.266944885253906\n",
      "mean_log_p,shapetorch.Size([]), -269.2721862792969\n",
      "mean_log_q.shapetorch.Size([]), -57.24012756347656\n"
     ]
    },
    {
     "name": "stderr",
     "output_type": "stream",
     "text": [
      " 22%|██▏       | 206/938 [00:14<00:58, 12.51it/s]"
     ]
    },
    {
     "name": "stdout",
     "output_type": "stream",
     "text": [
      "mean_log_p,shapetorch.Size([]), -263.32232666015625\n",
      "mean_log_q.shapetorch.Size([]), -56.46846008300781\n",
      "mean_log_p,shapetorch.Size([]), -263.46405029296875\n",
      "mean_log_q.shapetorch.Size([]), -57.646759033203125\n",
      "mean_log_p,shapetorch.Size([]), -266.7157287597656\n",
      "mean_log_q.shapetorch.Size([]), -56.94640350341797\n"
     ]
    },
    {
     "name": "stderr",
     "output_type": "stream",
     "text": [
      " 22%|██▏       | 208/938 [00:14<00:58, 12.57it/s]"
     ]
    },
    {
     "name": "stdout",
     "output_type": "stream",
     "text": [
      "mean_log_p,shapetorch.Size([]), -258.47857666015625\n",
      "mean_log_q.shapetorch.Size([]), -56.903968811035156\n",
      "mean_log_p,shapetorch.Size([]), -255.63803100585938\n",
      "mean_log_q.shapetorch.Size([]), -56.882225036621094\n",
      "mean_log_p,shapetorch.Size([]), -258.57965087890625\n",
      "mean_log_q.shapetorch.Size([]), -57.20273971557617\n"
     ]
    },
    {
     "name": "stderr",
     "output_type": "stream",
     "text": [
      " 23%|██▎       | 212/938 [00:15<00:58, 12.39it/s]"
     ]
    },
    {
     "name": "stdout",
     "output_type": "stream",
     "text": [
      "mean_log_p,shapetorch.Size([]), -252.0576934814453\n",
      "mean_log_q.shapetorch.Size([]), -56.70674133300781\n",
      "mean_log_p,shapetorch.Size([]), -269.6268310546875\n",
      "mean_log_q.shapetorch.Size([]), -56.57020950317383\n",
      "mean_log_p,shapetorch.Size([]), -264.7164306640625\n",
      "mean_log_q.shapetorch.Size([]), -56.89893341064453\n"
     ]
    },
    {
     "name": "stderr",
     "output_type": "stream",
     "text": [
      " 23%|██▎       | 214/938 [00:15<00:57, 12.49it/s]"
     ]
    },
    {
     "name": "stdout",
     "output_type": "stream",
     "text": [
      "mean_log_p,shapetorch.Size([]), -259.85009765625\n",
      "mean_log_q.shapetorch.Size([]), -57.127716064453125\n",
      "mean_log_p,shapetorch.Size([]), -261.2717590332031\n",
      "mean_log_q.shapetorch.Size([]), -56.8182487487793\n",
      "mean_log_p,shapetorch.Size([]), -255.64352416992188\n",
      "mean_log_q.shapetorch.Size([]), -56.974369049072266\n"
     ]
    },
    {
     "name": "stderr",
     "output_type": "stream",
     "text": [
      " 23%|██▎       | 220/938 [00:15<00:48, 14.96it/s]"
     ]
    },
    {
     "name": "stdout",
     "output_type": "stream",
     "text": [
      "mean_log_p,shapetorch.Size([]), -251.1625518798828\n",
      "mean_log_q.shapetorch.Size([]), -56.74235153198242\n",
      "mean_log_p,shapetorch.Size([]), -263.6904602050781\n",
      "mean_log_q.shapetorch.Size([]), -57.06376647949219\n",
      "mean_log_p,shapetorch.Size([]), -263.59637451171875\n",
      "mean_log_q.shapetorch.Size([]), -56.487159729003906\n"
     ]
    },
    {
     "name": "stderr",
     "output_type": "stream",
     "text": [
      " 24%|██▎       | 222/938 [00:15<00:50, 14.09it/s]"
     ]
    },
    {
     "name": "stdout",
     "output_type": "stream",
     "text": [
      "mean_log_p,shapetorch.Size([]), -254.02102661132812\n",
      "mean_log_q.shapetorch.Size([]), -57.393157958984375\n",
      "mean_log_p,shapetorch.Size([]), -252.14170837402344\n",
      "mean_log_q.shapetorch.Size([]), -57.18251037597656\n",
      "mean_log_p,shapetorch.Size([]), -256.78851318359375\n",
      "mean_log_q.shapetorch.Size([]), -56.66958236694336\n"
     ]
    },
    {
     "name": "stderr",
     "output_type": "stream",
     "text": [
      " 24%|██▍       | 226/938 [00:16<00:54, 12.96it/s]"
     ]
    },
    {
     "name": "stdout",
     "output_type": "stream",
     "text": [
      "mean_log_p,shapetorch.Size([]), -263.66259765625\n",
      "mean_log_q.shapetorch.Size([]), -56.211143493652344\n",
      "mean_log_p,shapetorch.Size([]), -265.87774658203125\n",
      "mean_log_q.shapetorch.Size([]), -56.82447052001953\n",
      "mean_log_p,shapetorch.Size([]), -250.2787322998047\n",
      "mean_log_q.shapetorch.Size([]), -57.36381530761719\n"
     ]
    },
    {
     "name": "stderr",
     "output_type": "stream",
     "text": [
      " 24%|██▍       | 228/938 [00:16<00:56, 12.60it/s]"
     ]
    },
    {
     "name": "stdout",
     "output_type": "stream",
     "text": [
      "mean_log_p,shapetorch.Size([]), -258.6702880859375\n",
      "mean_log_q.shapetorch.Size([]), -56.98527908325195\n",
      "mean_log_p,shapetorch.Size([]), -261.25494384765625\n",
      "mean_log_q.shapetorch.Size([]), -56.970863342285156\n",
      "mean_log_p,shapetorch.Size([]), -259.03936767578125\n",
      "mean_log_q.shapetorch.Size([]), -56.33935546875\n"
     ]
    },
    {
     "name": "stderr",
     "output_type": "stream",
     "text": [
      " 25%|██▍       | 232/938 [00:16<00:55, 12.79it/s]"
     ]
    },
    {
     "name": "stdout",
     "output_type": "stream",
     "text": [
      "mean_log_p,shapetorch.Size([]), -262.3930969238281\n",
      "mean_log_q.shapetorch.Size([]), -56.52293395996094\n",
      "mean_log_p,shapetorch.Size([]), -249.00390625\n",
      "mean_log_q.shapetorch.Size([]), -56.75505828857422\n",
      "mean_log_p,shapetorch.Size([]), -266.40179443359375\n",
      "mean_log_q.shapetorch.Size([]), -56.15992736816406\n"
     ]
    },
    {
     "name": "stderr",
     "output_type": "stream",
     "text": [
      " 25%|██▍       | 234/938 [00:16<00:57, 12.35it/s]"
     ]
    },
    {
     "name": "stdout",
     "output_type": "stream",
     "text": [
      "mean_log_p,shapetorch.Size([]), -253.91261291503906\n",
      "mean_log_q.shapetorch.Size([]), -56.703033447265625\n",
      "mean_log_p,shapetorch.Size([]), -263.1038818359375\n",
      "mean_log_q.shapetorch.Size([]), -56.776458740234375\n",
      "mean_log_p,shapetorch.Size([]), -258.81201171875\n",
      "mean_log_q.shapetorch.Size([]), -57.13109588623047\n"
     ]
    },
    {
     "name": "stderr",
     "output_type": "stream",
     "text": [
      " 25%|██▌       | 238/938 [00:17<00:56, 12.30it/s]"
     ]
    },
    {
     "name": "stdout",
     "output_type": "stream",
     "text": [
      "mean_log_p,shapetorch.Size([]), -251.75146484375\n",
      "mean_log_q.shapetorch.Size([]), -57.30962371826172\n",
      "mean_log_p,shapetorch.Size([]), -265.89617919921875\n",
      "mean_log_q.shapetorch.Size([]), -56.955509185791016\n",
      "mean_log_p,shapetorch.Size([]), -250.3904266357422\n",
      "mean_log_q.shapetorch.Size([]), -56.366302490234375\n"
     ]
    },
    {
     "name": "stderr",
     "output_type": "stream",
     "text": [
      " 26%|██▌       | 240/938 [00:17<00:56, 12.38it/s]"
     ]
    },
    {
     "name": "stdout",
     "output_type": "stream",
     "text": [
      "mean_log_p,shapetorch.Size([]), -257.561767578125\n",
      "mean_log_q.shapetorch.Size([]), -56.62770080566406\n",
      "mean_log_p,shapetorch.Size([]), -257.779296875\n",
      "mean_log_q.shapetorch.Size([]), -56.5484619140625\n",
      "mean_log_p,shapetorch.Size([]), -268.34344482421875\n",
      "mean_log_q.shapetorch.Size([]), -56.540435791015625\n"
     ]
    },
    {
     "name": "stderr",
     "output_type": "stream",
     "text": [
      " 26%|██▌       | 244/938 [00:17<00:57, 12.16it/s]"
     ]
    },
    {
     "name": "stdout",
     "output_type": "stream",
     "text": [
      "mean_log_p,shapetorch.Size([]), -262.4630126953125\n",
      "mean_log_q.shapetorch.Size([]), -56.954811096191406\n",
      "mean_log_p,shapetorch.Size([]), -258.459228515625\n",
      "mean_log_q.shapetorch.Size([]), -56.641639709472656\n",
      "mean_log_p,shapetorch.Size([]), -261.114013671875\n",
      "mean_log_q.shapetorch.Size([]), -56.308631896972656\n"
     ]
    },
    {
     "name": "stderr",
     "output_type": "stream",
     "text": [
      " 26%|██▋       | 248/938 [00:17<00:43, 15.88it/s]"
     ]
    },
    {
     "name": "stdout",
     "output_type": "stream",
     "text": [
      "mean_log_p,shapetorch.Size([]), -254.55393981933594\n",
      "mean_log_q.shapetorch.Size([]), -56.203914642333984\n",
      "mean_log_p,shapetorch.Size([]), -253.04176330566406\n",
      "mean_log_q.shapetorch.Size([]), -56.56629943847656\n",
      "mean_log_p,shapetorch.Size([]), -263.1966857910156\n",
      "mean_log_q.shapetorch.Size([]), -56.598228454589844\n"
     ]
    },
    {
     "name": "stderr",
     "output_type": "stream",
     "text": [
      " 27%|██▋       | 252/938 [00:18<00:48, 14.08it/s]"
     ]
    },
    {
     "name": "stdout",
     "output_type": "stream",
     "text": [
      "mean_log_p,shapetorch.Size([]), -257.45611572265625\n",
      "mean_log_q.shapetorch.Size([]), -56.31983184814453\n",
      "mean_log_p,shapetorch.Size([]), -253.88035583496094\n",
      "mean_log_q.shapetorch.Size([]), -56.49613952636719\n",
      "mean_log_p,shapetorch.Size([]), -252.0943603515625\n",
      "mean_log_q.shapetorch.Size([]), -55.931251525878906\n"
     ]
    },
    {
     "name": "stderr",
     "output_type": "stream",
     "text": [
      " 27%|██▋       | 254/938 [00:18<00:50, 13.44it/s]"
     ]
    },
    {
     "name": "stdout",
     "output_type": "stream",
     "text": [
      "mean_log_p,shapetorch.Size([]), -258.6397705078125\n",
      "mean_log_q.shapetorch.Size([]), -56.77104949951172\n",
      "mean_log_p,shapetorch.Size([]), -247.07852172851562\n",
      "mean_log_q.shapetorch.Size([]), -56.418540954589844\n",
      "mean_log_p,shapetorch.Size([]), -253.7581787109375\n",
      "mean_log_q.shapetorch.Size([]), -56.72830581665039\n"
     ]
    },
    {
     "name": "stderr",
     "output_type": "stream",
     "text": [
      " 28%|██▊       | 258/938 [00:18<00:53, 12.80it/s]"
     ]
    },
    {
     "name": "stdout",
     "output_type": "stream",
     "text": [
      "mean_log_p,shapetorch.Size([]), -257.3476257324219\n",
      "mean_log_q.shapetorch.Size([]), -56.49847412109375\n",
      "mean_log_p,shapetorch.Size([]), -261.9033203125\n",
      "mean_log_q.shapetorch.Size([]), -56.80645751953125\n",
      "mean_log_p,shapetorch.Size([]), -244.34326171875\n",
      "mean_log_q.shapetorch.Size([]), -56.39087677001953\n"
     ]
    },
    {
     "name": "stderr",
     "output_type": "stream",
     "text": [
      " 28%|██▊       | 260/938 [00:18<00:52, 12.86it/s]"
     ]
    },
    {
     "name": "stdout",
     "output_type": "stream",
     "text": [
      "mean_log_p,shapetorch.Size([]), -253.5511932373047\n",
      "mean_log_q.shapetorch.Size([]), -56.379154205322266\n",
      "mean_log_p,shapetorch.Size([]), -251.56259155273438\n",
      "mean_log_q.shapetorch.Size([]), -55.99214172363281\n",
      "mean_log_p,shapetorch.Size([]), -253.84552001953125\n",
      "mean_log_q.shapetorch.Size([]), -55.93877410888672\n"
     ]
    },
    {
     "name": "stderr",
     "output_type": "stream",
     "text": [
      " 28%|██▊       | 264/938 [00:19<00:52, 12.72it/s]"
     ]
    },
    {
     "name": "stdout",
     "output_type": "stream",
     "text": [
      "mean_log_p,shapetorch.Size([]), -259.22503662109375\n",
      "mean_log_q.shapetorch.Size([]), -55.932743072509766\n",
      "mean_log_p,shapetorch.Size([]), -256.7840576171875\n",
      "mean_log_q.shapetorch.Size([]), -56.8148193359375\n",
      "mean_log_p,shapetorch.Size([]), -260.24609375\n",
      "mean_log_q.shapetorch.Size([]), -56.01439666748047\n"
     ]
    },
    {
     "name": "stderr",
     "output_type": "stream",
     "text": [
      " 28%|██▊       | 266/938 [00:19<00:54, 12.40it/s]"
     ]
    },
    {
     "name": "stdout",
     "output_type": "stream",
     "text": [
      "mean_log_p,shapetorch.Size([]), -244.54183959960938\n",
      "mean_log_q.shapetorch.Size([]), -55.95090103149414\n",
      "mean_log_p,shapetorch.Size([]), -259.7733154296875\n",
      "mean_log_q.shapetorch.Size([]), -56.14006042480469\n",
      "mean_log_p,shapetorch.Size([]), -255.21841430664062\n",
      "mean_log_q.shapetorch.Size([]), -55.91188049316406\n"
     ]
    },
    {
     "name": "stderr",
     "output_type": "stream",
     "text": [
      " 29%|██▉       | 270/938 [00:19<00:52, 12.60it/s]"
     ]
    },
    {
     "name": "stdout",
     "output_type": "stream",
     "text": [
      "mean_log_p,shapetorch.Size([]), -250.0651092529297\n",
      "mean_log_q.shapetorch.Size([]), -55.68742370605469\n",
      "mean_log_p,shapetorch.Size([]), -252.27084350585938\n",
      "mean_log_q.shapetorch.Size([]), -56.76077651977539\n",
      "mean_log_p,shapetorch.Size([]), -261.4921875\n",
      "mean_log_q.shapetorch.Size([]), -56.49242401123047\n"
     ]
    },
    {
     "name": "stderr",
     "output_type": "stream",
     "text": [
      " 29%|██▉       | 272/938 [00:19<00:52, 12.63it/s]"
     ]
    },
    {
     "name": "stdout",
     "output_type": "stream",
     "text": [
      "mean_log_p,shapetorch.Size([]), -247.67625427246094\n",
      "mean_log_q.shapetorch.Size([]), -55.95396423339844\n",
      "mean_log_p,shapetorch.Size([]), -259.95770263671875\n",
      "mean_log_q.shapetorch.Size([]), -56.77587127685547\n",
      "mean_log_p,shapetorch.Size([]), -250.0309600830078\n",
      "mean_log_q.shapetorch.Size([]), -55.97278594970703\n"
     ]
    },
    {
     "name": "stderr",
     "output_type": "stream",
     "text": [
      " 29%|██▉       | 276/938 [00:20<00:55, 12.03it/s]"
     ]
    },
    {
     "name": "stdout",
     "output_type": "stream",
     "text": [
      "mean_log_p,shapetorch.Size([]), -251.35269165039062\n",
      "mean_log_q.shapetorch.Size([]), -55.96824645996094\n",
      "mean_log_p,shapetorch.Size([]), -250.0962677001953\n",
      "mean_log_q.shapetorch.Size([]), -55.573184967041016\n",
      "mean_log_p,shapetorch.Size([]), -252.09848022460938\n",
      "mean_log_q.shapetorch.Size([]), -56.04421615600586\n"
     ]
    },
    {
     "name": "stderr",
     "output_type": "stream",
     "text": [
      " 30%|██▉       | 280/938 [00:20<00:41, 15.69it/s]"
     ]
    },
    {
     "name": "stdout",
     "output_type": "stream",
     "text": [
      "mean_log_p,shapetorch.Size([]), -259.2830810546875\n",
      "mean_log_q.shapetorch.Size([]), -56.55604934692383\n",
      "mean_log_p,shapetorch.Size([]), -244.66769409179688\n",
      "mean_log_q.shapetorch.Size([]), -56.61219024658203\n",
      "mean_log_p,shapetorch.Size([]), -251.36865234375\n",
      "mean_log_q.shapetorch.Size([]), -56.0413932800293\n"
     ]
    },
    {
     "name": "stderr",
     "output_type": "stream",
     "text": [
      " 30%|███       | 284/938 [00:20<00:46, 13.93it/s]"
     ]
    },
    {
     "name": "stdout",
     "output_type": "stream",
     "text": [
      "mean_log_p,shapetorch.Size([]), -254.8876953125\n",
      "mean_log_q.shapetorch.Size([]), -56.02882385253906\n",
      "mean_log_p,shapetorch.Size([]), -262.0780944824219\n",
      "mean_log_q.shapetorch.Size([]), -56.45440673828125\n",
      "mean_log_p,shapetorch.Size([]), -252.3809814453125\n",
      "mean_log_q.shapetorch.Size([]), -55.77737045288086\n"
     ]
    },
    {
     "name": "stderr",
     "output_type": "stream",
     "text": [
      " 30%|███       | 286/938 [00:20<00:48, 13.50it/s]"
     ]
    },
    {
     "name": "stdout",
     "output_type": "stream",
     "text": [
      "mean_log_p,shapetorch.Size([]), -255.5175323486328\n",
      "mean_log_q.shapetorch.Size([]), -55.90223693847656\n",
      "mean_log_p,shapetorch.Size([]), -262.8320007324219\n",
      "mean_log_q.shapetorch.Size([]), -55.293033599853516\n",
      "mean_log_p,shapetorch.Size([]), -267.286865234375\n",
      "mean_log_q.shapetorch.Size([]), -55.35210418701172\n"
     ]
    },
    {
     "name": "stderr",
     "output_type": "stream",
     "text": [
      " 31%|███       | 290/938 [00:21<00:52, 12.34it/s]"
     ]
    },
    {
     "name": "stdout",
     "output_type": "stream",
     "text": [
      "mean_log_p,shapetorch.Size([]), -258.4154357910156\n",
      "mean_log_q.shapetorch.Size([]), -56.02081298828125\n",
      "mean_log_p,shapetorch.Size([]), -248.93405151367188\n",
      "mean_log_q.shapetorch.Size([]), -56.72913360595703\n",
      "mean_log_p,shapetorch.Size([]), -251.03529357910156\n",
      "mean_log_q.shapetorch.Size([]), -55.97557830810547\n"
     ]
    },
    {
     "name": "stderr",
     "output_type": "stream",
     "text": [
      " 31%|███       | 292/938 [00:21<00:53, 12.10it/s]"
     ]
    },
    {
     "name": "stdout",
     "output_type": "stream",
     "text": [
      "mean_log_p,shapetorch.Size([]), -263.1370849609375\n",
      "mean_log_q.shapetorch.Size([]), -55.80451202392578\n",
      "mean_log_p,shapetorch.Size([]), -249.8546142578125\n",
      "mean_log_q.shapetorch.Size([]), -56.21461868286133\n",
      "mean_log_p,shapetorch.Size([]), -260.2877197265625\n",
      "mean_log_q.shapetorch.Size([]), -56.16084289550781\n"
     ]
    },
    {
     "name": "stderr",
     "output_type": "stream",
     "text": [
      " 32%|███▏      | 296/938 [00:21<00:52, 12.27it/s]"
     ]
    },
    {
     "name": "stdout",
     "output_type": "stream",
     "text": [
      "mean_log_p,shapetorch.Size([]), -258.31536865234375\n",
      "mean_log_q.shapetorch.Size([]), -56.29351043701172\n",
      "mean_log_p,shapetorch.Size([]), -249.21913146972656\n",
      "mean_log_q.shapetorch.Size([]), -55.63666534423828\n",
      "mean_log_p,shapetorch.Size([]), -256.152099609375\n",
      "mean_log_q.shapetorch.Size([]), -54.41978073120117\n"
     ]
    },
    {
     "name": "stderr",
     "output_type": "stream",
     "text": [
      " 32%|███▏      | 298/938 [00:21<00:51, 12.37it/s]"
     ]
    },
    {
     "name": "stdout",
     "output_type": "stream",
     "text": [
      "mean_log_p,shapetorch.Size([]), -246.1987762451172\n",
      "mean_log_q.shapetorch.Size([]), -56.4200325012207\n",
      "mean_log_p,shapetorch.Size([]), -249.0817108154297\n",
      "mean_log_q.shapetorch.Size([]), -55.83068084716797\n",
      "mean_log_p,shapetorch.Size([]), -262.1261901855469\n",
      "mean_log_q.shapetorch.Size([]), -55.97638702392578\n"
     ]
    },
    {
     "name": "stderr",
     "output_type": "stream",
     "text": [
      " 32%|███▏      | 302/938 [00:22<00:51, 12.29it/s]"
     ]
    },
    {
     "name": "stdout",
     "output_type": "stream",
     "text": [
      "mean_log_p,shapetorch.Size([]), -251.38290405273438\n",
      "mean_log_q.shapetorch.Size([]), -56.33379364013672\n",
      "mean_log_p,shapetorch.Size([]), -263.5924072265625\n",
      "mean_log_q.shapetorch.Size([]), -56.07411193847656\n",
      "mean_log_p,shapetorch.Size([]), -252.33302307128906\n",
      "mean_log_q.shapetorch.Size([]), -55.516876220703125\n"
     ]
    },
    {
     "name": "stderr",
     "output_type": "stream",
     "text": [
      " 32%|███▏      | 304/938 [00:22<00:50, 12.48it/s]"
     ]
    },
    {
     "name": "stdout",
     "output_type": "stream",
     "text": [
      "mean_log_p,shapetorch.Size([]), -247.4082794189453\n",
      "mean_log_q.shapetorch.Size([]), -56.32442855834961\n",
      "mean_log_p,shapetorch.Size([]), -250.96084594726562\n",
      "mean_log_q.shapetorch.Size([]), -56.3069953918457\n",
      "mean_log_p,shapetorch.Size([]), -250.681640625\n",
      "mean_log_q.shapetorch.Size([]), -55.04572296142578\n"
     ]
    },
    {
     "name": "stderr",
     "output_type": "stream",
     "text": [
      " 33%|███▎      | 308/938 [00:22<00:50, 12.45it/s]"
     ]
    },
    {
     "name": "stdout",
     "output_type": "stream",
     "text": [
      "mean_log_p,shapetorch.Size([]), -256.91925048828125\n",
      "mean_log_q.shapetorch.Size([]), -55.86903381347656\n",
      "mean_log_p,shapetorch.Size([]), -254.9282989501953\n",
      "mean_log_q.shapetorch.Size([]), -55.649776458740234\n",
      "mean_log_p,shapetorch.Size([]), -243.39144897460938\n",
      "mean_log_q.shapetorch.Size([]), -55.77402114868164\n"
     ]
    },
    {
     "name": "stderr",
     "output_type": "stream",
     "text": [
      " 33%|███▎      | 310/938 [00:22<00:52, 12.02it/s]"
     ]
    },
    {
     "name": "stdout",
     "output_type": "stream",
     "text": [
      "mean_log_p,shapetorch.Size([]), -243.92434692382812\n",
      "mean_log_q.shapetorch.Size([]), -55.411529541015625\n",
      "mean_log_p,shapetorch.Size([]), -260.18658447265625\n",
      "mean_log_q.shapetorch.Size([]), -56.36851119995117\n",
      "mean_log_p,shapetorch.Size([]), -239.135009765625\n",
      "mean_log_q.shapetorch.Size([]), -55.936798095703125\n"
     ]
    },
    {
     "name": "stderr",
     "output_type": "stream",
     "text": [
      " 34%|███▎      | 316/938 [00:22<00:42, 14.63it/s]"
     ]
    },
    {
     "name": "stdout",
     "output_type": "stream",
     "text": [
      "mean_log_p,shapetorch.Size([]), -244.59129333496094\n",
      "mean_log_q.shapetorch.Size([]), -55.78307342529297\n",
      "mean_log_p,shapetorch.Size([]), -251.22824096679688\n",
      "mean_log_q.shapetorch.Size([]), -55.73426818847656\n",
      "mean_log_p,shapetorch.Size([]), -251.82882690429688\n",
      "mean_log_q.shapetorch.Size([]), -56.09857177734375\n"
     ]
    },
    {
     "name": "stderr",
     "output_type": "stream",
     "text": [
      " 34%|███▍      | 320/938 [00:23<00:45, 13.61it/s]"
     ]
    },
    {
     "name": "stdout",
     "output_type": "stream",
     "text": [
      "mean_log_p,shapetorch.Size([]), -249.72560119628906\n",
      "mean_log_q.shapetorch.Size([]), -56.012474060058594\n",
      "mean_log_p,shapetorch.Size([]), -248.3939208984375\n",
      "mean_log_q.shapetorch.Size([]), -54.64427947998047\n",
      "mean_log_p,shapetorch.Size([]), -257.39129638671875\n",
      "mean_log_q.shapetorch.Size([]), -55.390708923339844\n"
     ]
    },
    {
     "name": "stderr",
     "output_type": "stream",
     "text": [
      " 34%|███▍      | 322/938 [00:23<00:46, 13.13it/s]"
     ]
    },
    {
     "name": "stdout",
     "output_type": "stream",
     "text": [
      "mean_log_p,shapetorch.Size([]), -254.9375457763672\n",
      "mean_log_q.shapetorch.Size([]), -55.87350082397461\n",
      "mean_log_p,shapetorch.Size([]), -252.6717529296875\n",
      "mean_log_q.shapetorch.Size([]), -56.2520637512207\n",
      "mean_log_p,shapetorch.Size([]), -241.89508056640625\n",
      "mean_log_q.shapetorch.Size([]), -56.10456085205078\n"
     ]
    },
    {
     "name": "stderr",
     "output_type": "stream",
     "text": [
      " 35%|███▍      | 324/938 [00:23<00:47, 13.03it/s]"
     ]
    },
    {
     "name": "stdout",
     "output_type": "stream",
     "text": [
      "mean_log_p,shapetorch.Size([]), -261.15472412109375\n",
      "mean_log_q.shapetorch.Size([]), -55.20728302001953\n",
      "mean_log_p,shapetorch.Size([]), -247.7930145263672\n",
      "mean_log_q.shapetorch.Size([]), -55.45298385620117\n",
      "mean_log_p,shapetorch.Size([]), -252.49075317382812\n",
      "mean_log_q.shapetorch.Size([]), -55.04798126220703\n"
     ]
    },
    {
     "name": "stderr",
     "output_type": "stream",
     "text": [
      " 35%|███▍      | 328/938 [00:23<00:48, 12.67it/s]"
     ]
    },
    {
     "name": "stdout",
     "output_type": "stream",
     "text": [
      "mean_log_p,shapetorch.Size([]), -251.12472534179688\n",
      "mean_log_q.shapetorch.Size([]), -55.41574478149414\n",
      "mean_log_p,shapetorch.Size([]), -254.57061767578125\n",
      "mean_log_q.shapetorch.Size([]), -56.352561950683594\n",
      "mean_log_p,shapetorch.Size([]), -257.44854736328125\n",
      "mean_log_q.shapetorch.Size([]), -55.248207092285156\n"
     ]
    },
    {
     "name": "stderr",
     "output_type": "stream",
     "text": [
      " 35%|███▌      | 330/938 [00:24<00:48, 12.65it/s]"
     ]
    },
    {
     "name": "stdout",
     "output_type": "stream",
     "text": [
      "mean_log_p,shapetorch.Size([]), -249.44491577148438\n",
      "mean_log_q.shapetorch.Size([]), -55.20842742919922\n",
      "mean_log_p,shapetorch.Size([]), -249.68850708007812\n",
      "mean_log_q.shapetorch.Size([]), -55.30006408691406\n",
      "mean_log_p,shapetorch.Size([]), -245.70166015625\n",
      "mean_log_q.shapetorch.Size([]), -54.436012268066406\n"
     ]
    },
    {
     "name": "stderr",
     "output_type": "stream",
     "text": [
      " 36%|███▌      | 334/938 [00:24<00:49, 12.28it/s]"
     ]
    },
    {
     "name": "stdout",
     "output_type": "stream",
     "text": [
      "mean_log_p,shapetorch.Size([]), -252.3309783935547\n",
      "mean_log_q.shapetorch.Size([]), -55.375648498535156\n",
      "mean_log_p,shapetorch.Size([]), -260.0881042480469\n",
      "mean_log_q.shapetorch.Size([]), -54.89109420776367\n",
      "mean_log_p,shapetorch.Size([]), -240.205078125\n",
      "mean_log_q.shapetorch.Size([]), -55.598060607910156\n"
     ]
    },
    {
     "name": "stderr",
     "output_type": "stream",
     "text": [
      " 36%|███▌      | 336/938 [00:24<00:48, 12.40it/s]"
     ]
    },
    {
     "name": "stdout",
     "output_type": "stream",
     "text": [
      "mean_log_p,shapetorch.Size([]), -238.0319366455078\n",
      "mean_log_q.shapetorch.Size([]), -54.759971618652344\n",
      "mean_log_p,shapetorch.Size([]), -239.7615509033203\n",
      "mean_log_q.shapetorch.Size([]), -55.69856262207031\n",
      "mean_log_p,shapetorch.Size([]), -249.5171356201172\n",
      "mean_log_q.shapetorch.Size([]), -55.553672790527344\n"
     ]
    },
    {
     "name": "stderr",
     "output_type": "stream",
     "text": [
      " 36%|███▌      | 340/938 [00:24<00:49, 11.97it/s]"
     ]
    },
    {
     "name": "stdout",
     "output_type": "stream",
     "text": [
      "mean_log_p,shapetorch.Size([]), -245.45074462890625\n",
      "mean_log_q.shapetorch.Size([]), -55.470184326171875\n",
      "mean_log_p,shapetorch.Size([]), -255.506103515625\n",
      "mean_log_q.shapetorch.Size([]), -55.89289093017578\n",
      "mean_log_p,shapetorch.Size([]), -251.99903869628906\n",
      "mean_log_q.shapetorch.Size([]), -54.610687255859375\n"
     ]
    },
    {
     "name": "stderr",
     "output_type": "stream",
     "text": [
      " 36%|███▋      | 342/938 [00:25<00:48, 12.20it/s]"
     ]
    },
    {
     "name": "stdout",
     "output_type": "stream",
     "text": [
      "mean_log_p,shapetorch.Size([]), -255.250244140625\n",
      "mean_log_q.shapetorch.Size([]), -55.73204803466797\n",
      "mean_log_p,shapetorch.Size([]), -236.68560791015625\n",
      "mean_log_q.shapetorch.Size([]), -55.430213928222656\n",
      "mean_log_p,shapetorch.Size([]), -252.16567993164062\n",
      "mean_log_q.shapetorch.Size([]), -55.28765106201172\n"
     ]
    },
    {
     "name": "stderr",
     "output_type": "stream",
     "text": [
      " 37%|███▋      | 346/938 [00:25<00:48, 12.11it/s]"
     ]
    },
    {
     "name": "stdout",
     "output_type": "stream",
     "text": [
      "mean_log_p,shapetorch.Size([]), -249.482421875\n",
      "mean_log_q.shapetorch.Size([]), -55.02864074707031\n",
      "mean_log_p,shapetorch.Size([]), -241.85205078125\n",
      "mean_log_q.shapetorch.Size([]), -55.09658432006836\n",
      "mean_log_p,shapetorch.Size([]), -251.81710815429688\n",
      "mean_log_q.shapetorch.Size([]), -54.821388244628906\n"
     ]
    },
    {
     "name": "stderr",
     "output_type": "stream",
     "text": [
      " 37%|███▋      | 350/938 [00:25<00:36, 15.97it/s]"
     ]
    },
    {
     "name": "stdout",
     "output_type": "stream",
     "text": [
      "mean_log_p,shapetorch.Size([]), -264.3048400878906\n",
      "mean_log_q.shapetorch.Size([]), -54.82099914550781\n",
      "mean_log_p,shapetorch.Size([]), -250.66065979003906\n",
      "mean_log_q.shapetorch.Size([]), -55.57837677001953\n",
      "mean_log_p,shapetorch.Size([]), -249.96719360351562\n",
      "mean_log_q.shapetorch.Size([]), -55.26673889160156\n"
     ]
    },
    {
     "name": "stderr",
     "output_type": "stream",
     "text": [
      " 38%|███▊      | 354/938 [00:25<00:41, 14.11it/s]"
     ]
    },
    {
     "name": "stdout",
     "output_type": "stream",
     "text": [
      "mean_log_p,shapetorch.Size([]), -254.28823852539062\n",
      "mean_log_q.shapetorch.Size([]), -56.052490234375\n",
      "mean_log_p,shapetorch.Size([]), -249.257568359375\n",
      "mean_log_q.shapetorch.Size([]), -54.812095642089844\n",
      "mean_log_p,shapetorch.Size([]), -255.30929565429688\n",
      "mean_log_q.shapetorch.Size([]), -55.34272003173828\n"
     ]
    },
    {
     "name": "stderr",
     "output_type": "stream",
     "text": [
      " 38%|███▊      | 356/938 [00:26<00:43, 13.37it/s]"
     ]
    },
    {
     "name": "stdout",
     "output_type": "stream",
     "text": [
      "mean_log_p,shapetorch.Size([]), -246.26528930664062\n",
      "mean_log_q.shapetorch.Size([]), -55.688209533691406\n",
      "mean_log_p,shapetorch.Size([]), -258.5771484375\n",
      "mean_log_q.shapetorch.Size([]), -55.29751968383789\n",
      "mean_log_p,shapetorch.Size([]), -249.96127319335938\n",
      "mean_log_q.shapetorch.Size([]), -55.12821960449219\n"
     ]
    },
    {
     "name": "stderr",
     "output_type": "stream",
     "text": [
      " 38%|███▊      | 360/938 [00:26<00:44, 12.86it/s]"
     ]
    },
    {
     "name": "stdout",
     "output_type": "stream",
     "text": [
      "mean_log_p,shapetorch.Size([]), -250.66490173339844\n",
      "mean_log_q.shapetorch.Size([]), -54.96432113647461\n",
      "mean_log_p,shapetorch.Size([]), -245.173583984375\n",
      "mean_log_q.shapetorch.Size([]), -55.50095748901367\n",
      "mean_log_p,shapetorch.Size([]), -245.08526611328125\n",
      "mean_log_q.shapetorch.Size([]), -54.96234893798828\n"
     ]
    },
    {
     "name": "stderr",
     "output_type": "stream",
     "text": [
      " 39%|███▊      | 362/938 [00:26<00:45, 12.72it/s]"
     ]
    },
    {
     "name": "stdout",
     "output_type": "stream",
     "text": [
      "mean_log_p,shapetorch.Size([]), -247.49659729003906\n",
      "mean_log_q.shapetorch.Size([]), -55.07120895385742\n",
      "mean_log_p,shapetorch.Size([]), -247.82028198242188\n",
      "mean_log_q.shapetorch.Size([]), -55.12310791015625\n",
      "mean_log_p,shapetorch.Size([]), -245.31814575195312\n",
      "mean_log_q.shapetorch.Size([]), -55.472389221191406\n"
     ]
    },
    {
     "name": "stderr",
     "output_type": "stream",
     "text": [
      " 39%|███▉      | 366/938 [00:26<00:45, 12.66it/s]"
     ]
    },
    {
     "name": "stdout",
     "output_type": "stream",
     "text": [
      "mean_log_p,shapetorch.Size([]), -247.91595458984375\n",
      "mean_log_q.shapetorch.Size([]), -55.2441520690918\n",
      "mean_log_p,shapetorch.Size([]), -245.53839111328125\n",
      "mean_log_q.shapetorch.Size([]), -54.13131332397461\n",
      "mean_log_p,shapetorch.Size([]), -250.10316467285156\n",
      "mean_log_q.shapetorch.Size([]), -54.49851989746094\n"
     ]
    },
    {
     "name": "stderr",
     "output_type": "stream",
     "text": [
      " 39%|███▉      | 368/938 [00:27<00:45, 12.49it/s]"
     ]
    },
    {
     "name": "stdout",
     "output_type": "stream",
     "text": [
      "mean_log_p,shapetorch.Size([]), -247.47862243652344\n",
      "mean_log_q.shapetorch.Size([]), -54.01350021362305\n",
      "mean_log_p,shapetorch.Size([]), -246.89593505859375\n",
      "mean_log_q.shapetorch.Size([]), -55.11933898925781\n",
      "mean_log_p,shapetorch.Size([]), -238.7744140625\n",
      "mean_log_q.shapetorch.Size([]), -54.8692741394043\n"
     ]
    },
    {
     "name": "stderr",
     "output_type": "stream",
     "text": [
      " 40%|███▉      | 372/938 [00:27<00:45, 12.58it/s]"
     ]
    },
    {
     "name": "stdout",
     "output_type": "stream",
     "text": [
      "mean_log_p,shapetorch.Size([]), -240.65194702148438\n",
      "mean_log_q.shapetorch.Size([]), -55.013160705566406\n",
      "mean_log_p,shapetorch.Size([]), -244.97669982910156\n",
      "mean_log_q.shapetorch.Size([]), -54.43605041503906\n",
      "mean_log_p,shapetorch.Size([]), -245.4390869140625\n",
      "mean_log_q.shapetorch.Size([]), -54.569915771484375\n"
     ]
    },
    {
     "name": "stderr",
     "output_type": "stream",
     "text": [
      " 40%|███▉      | 374/938 [00:27<00:44, 12.65it/s]"
     ]
    },
    {
     "name": "stdout",
     "output_type": "stream",
     "text": [
      "mean_log_p,shapetorch.Size([]), -247.344970703125\n",
      "mean_log_q.shapetorch.Size([]), -55.04388427734375\n",
      "mean_log_p,shapetorch.Size([]), -238.20953369140625\n",
      "mean_log_q.shapetorch.Size([]), -54.65089797973633\n",
      "mean_log_p,shapetorch.Size([]), -251.2913818359375\n",
      "mean_log_q.shapetorch.Size([]), -55.08990478515625\n"
     ]
    },
    {
     "name": "stderr",
     "output_type": "stream",
     "text": [
      " 40%|████      | 378/938 [00:27<00:45, 12.38it/s]"
     ]
    },
    {
     "name": "stdout",
     "output_type": "stream",
     "text": [
      "mean_log_p,shapetorch.Size([]), -243.6612091064453\n",
      "mean_log_q.shapetorch.Size([]), -54.11289978027344\n",
      "mean_log_p,shapetorch.Size([]), -257.0439453125\n",
      "mean_log_q.shapetorch.Size([]), -54.79034423828125\n",
      "mean_log_p,shapetorch.Size([]), -247.59542846679688\n",
      "mean_log_q.shapetorch.Size([]), -54.424285888671875\n"
     ]
    },
    {
     "name": "stderr",
     "output_type": "stream",
     "text": [
      " 41%|████      | 380/938 [00:28<00:45, 12.35it/s]"
     ]
    },
    {
     "name": "stdout",
     "output_type": "stream",
     "text": [
      "mean_log_p,shapetorch.Size([]), -261.458251953125\n",
      "mean_log_q.shapetorch.Size([]), -53.847412109375\n",
      "mean_log_p,shapetorch.Size([]), -247.76531982421875\n",
      "mean_log_q.shapetorch.Size([]), -54.56855010986328\n",
      "mean_log_p,shapetorch.Size([]), -253.8004150390625\n",
      "mean_log_q.shapetorch.Size([]), -54.87714385986328\n"
     ]
    },
    {
     "name": "stderr",
     "output_type": "stream",
     "text": [
      " 41%|████      | 384/938 [00:28<00:45, 12.31it/s]"
     ]
    },
    {
     "name": "stdout",
     "output_type": "stream",
     "text": [
      "mean_log_p,shapetorch.Size([]), -245.6603546142578\n",
      "mean_log_q.shapetorch.Size([]), -54.67700958251953\n",
      "mean_log_p,shapetorch.Size([]), -249.21392822265625\n",
      "mean_log_q.shapetorch.Size([]), -55.23572540283203\n",
      "mean_log_p,shapetorch.Size([]), -252.2999267578125\n",
      "mean_log_q.shapetorch.Size([]), -54.16706085205078\n"
     ]
    },
    {
     "name": "stderr",
     "output_type": "stream",
     "text": [
      " 41%|████▏     | 388/938 [00:28<00:34, 16.09it/s]"
     ]
    },
    {
     "name": "stdout",
     "output_type": "stream",
     "text": [
      "mean_log_p,shapetorch.Size([]), -247.61488342285156\n",
      "mean_log_q.shapetorch.Size([]), -54.928775787353516\n",
      "mean_log_p,shapetorch.Size([]), -238.41116333007812\n",
      "mean_log_q.shapetorch.Size([]), -54.64302062988281\n",
      "mean_log_p,shapetorch.Size([]), -247.4359588623047\n",
      "mean_log_q.shapetorch.Size([]), -55.1939811706543\n"
     ]
    },
    {
     "name": "stderr",
     "output_type": "stream",
     "text": [
      " 42%|████▏     | 392/938 [00:28<00:38, 14.29it/s]"
     ]
    },
    {
     "name": "stdout",
     "output_type": "stream",
     "text": [
      "mean_log_p,shapetorch.Size([]), -242.56063842773438\n",
      "mean_log_q.shapetorch.Size([]), -54.842796325683594\n",
      "mean_log_p,shapetorch.Size([]), -242.32139587402344\n",
      "mean_log_q.shapetorch.Size([]), -54.402374267578125\n",
      "mean_log_p,shapetorch.Size([]), -242.27223205566406\n",
      "mean_log_q.shapetorch.Size([]), -53.69381332397461\n"
     ]
    },
    {
     "name": "stderr",
     "output_type": "stream",
     "text": [
      " 42%|████▏     | 394/938 [00:29<00:39, 13.85it/s]"
     ]
    },
    {
     "name": "stdout",
     "output_type": "stream",
     "text": [
      "mean_log_p,shapetorch.Size([]), -249.24459838867188\n",
      "mean_log_q.shapetorch.Size([]), -54.823692321777344\n",
      "mean_log_p,shapetorch.Size([]), -240.94598388671875\n",
      "mean_log_q.shapetorch.Size([]), -54.2918586730957\n",
      "mean_log_p,shapetorch.Size([]), -243.54891967773438\n",
      "mean_log_q.shapetorch.Size([]), -53.84553527832031\n"
     ]
    },
    {
     "name": "stderr",
     "output_type": "stream",
     "text": [
      " 42%|████▏     | 398/938 [00:29<00:41, 13.15it/s]"
     ]
    },
    {
     "name": "stdout",
     "output_type": "stream",
     "text": [
      "mean_log_p,shapetorch.Size([]), -250.022705078125\n",
      "mean_log_q.shapetorch.Size([]), -54.23912048339844\n",
      "mean_log_p,shapetorch.Size([]), -247.15872192382812\n",
      "mean_log_q.shapetorch.Size([]), -54.15353012084961\n",
      "mean_log_p,shapetorch.Size([]), -231.73101806640625\n",
      "mean_log_q.shapetorch.Size([]), -53.28269958496094\n"
     ]
    },
    {
     "name": "stderr",
     "output_type": "stream",
     "text": [
      " 43%|████▎     | 400/938 [00:29<00:41, 12.94it/s]"
     ]
    },
    {
     "name": "stdout",
     "output_type": "stream",
     "text": [
      "mean_log_p,shapetorch.Size([]), -247.0396270751953\n",
      "mean_log_q.shapetorch.Size([]), -54.34520721435547\n",
      "mean_log_p,shapetorch.Size([]), -235.48599243164062\n",
      "mean_log_q.shapetorch.Size([]), -53.683738708496094\n",
      "mean_log_p,shapetorch.Size([]), -244.4959716796875\n",
      "mean_log_q.shapetorch.Size([]), -54.25706481933594\n"
     ]
    },
    {
     "name": "stderr",
     "output_type": "stream",
     "text": [
      " 43%|████▎     | 404/938 [00:29<00:42, 12.61it/s]"
     ]
    },
    {
     "name": "stdout",
     "output_type": "stream",
     "text": [
      "mean_log_p,shapetorch.Size([]), -244.05679321289062\n",
      "mean_log_q.shapetorch.Size([]), -53.72153854370117\n",
      "mean_log_p,shapetorch.Size([]), -245.435791015625\n",
      "mean_log_q.shapetorch.Size([]), -55.23903274536133\n",
      "mean_log_p,shapetorch.Size([]), -252.26675415039062\n",
      "mean_log_q.shapetorch.Size([]), -54.323734283447266\n"
     ]
    },
    {
     "name": "stderr",
     "output_type": "stream",
     "text": [
      " 43%|████▎     | 406/938 [00:29<00:42, 12.55it/s]"
     ]
    },
    {
     "name": "stdout",
     "output_type": "stream",
     "text": [
      "mean_log_p,shapetorch.Size([]), -239.09043884277344\n",
      "mean_log_q.shapetorch.Size([]), -53.146873474121094\n",
      "mean_log_p,shapetorch.Size([]), -234.016845703125\n",
      "mean_log_q.shapetorch.Size([]), -55.02593231201172\n",
      "mean_log_p,shapetorch.Size([]), -243.7051544189453\n",
      "mean_log_q.shapetorch.Size([]), -54.45705795288086\n"
     ]
    },
    {
     "name": "stderr",
     "output_type": "stream",
     "text": [
      " 44%|████▎     | 410/938 [00:30<00:42, 12.41it/s]"
     ]
    },
    {
     "name": "stdout",
     "output_type": "stream",
     "text": [
      "mean_log_p,shapetorch.Size([]), -250.66482543945312\n",
      "mean_log_q.shapetorch.Size([]), -54.18367004394531\n",
      "mean_log_p,shapetorch.Size([]), -261.0197448730469\n",
      "mean_log_q.shapetorch.Size([]), -54.78559875488281\n",
      "mean_log_p,shapetorch.Size([]), -236.50021362304688\n",
      "mean_log_q.shapetorch.Size([]), -53.63981246948242\n"
     ]
    },
    {
     "name": "stderr",
     "output_type": "stream",
     "text": [
      " 44%|████▍     | 412/938 [00:30<00:42, 12.35it/s]"
     ]
    },
    {
     "name": "stdout",
     "output_type": "stream",
     "text": [
      "mean_log_p,shapetorch.Size([]), -243.4537353515625\n",
      "mean_log_q.shapetorch.Size([]), -53.68478775024414\n",
      "mean_log_p,shapetorch.Size([]), -245.0946044921875\n",
      "mean_log_q.shapetorch.Size([]), -54.358978271484375\n",
      "mean_log_p,shapetorch.Size([]), -249.04623413085938\n",
      "mean_log_q.shapetorch.Size([]), -54.41687774658203\n"
     ]
    },
    {
     "name": "stderr",
     "output_type": "stream",
     "text": [
      " 44%|████▍     | 416/938 [00:30<00:42, 12.28it/s]"
     ]
    },
    {
     "name": "stdout",
     "output_type": "stream",
     "text": [
      "mean_log_p,shapetorch.Size([]), -252.72227478027344\n",
      "mean_log_q.shapetorch.Size([]), -54.504661560058594\n",
      "mean_log_p,shapetorch.Size([]), -239.99334716796875\n",
      "mean_log_q.shapetorch.Size([]), -54.25785827636719\n",
      "mean_log_p,shapetorch.Size([]), -239.5762939453125\n",
      "mean_log_q.shapetorch.Size([]), -54.02386474609375\n"
     ]
    },
    {
     "name": "stderr",
     "output_type": "stream",
     "text": [
      " 45%|████▍     | 418/938 [00:30<00:41, 12.40it/s]"
     ]
    },
    {
     "name": "stdout",
     "output_type": "stream",
     "text": [
      "mean_log_p,shapetorch.Size([]), -238.689208984375\n",
      "mean_log_q.shapetorch.Size([]), -53.974639892578125\n",
      "mean_log_p,shapetorch.Size([]), -243.76185607910156\n",
      "mean_log_q.shapetorch.Size([]), -54.340885162353516\n",
      "mean_log_p,shapetorch.Size([]), -236.48861694335938\n",
      "mean_log_q.shapetorch.Size([]), -53.27336120605469\n"
     ]
    },
    {
     "name": "stderr",
     "output_type": "stream",
     "text": [
      " 45%|████▍     | 422/938 [00:31<00:41, 12.36it/s]"
     ]
    },
    {
     "name": "stdout",
     "output_type": "stream",
     "text": [
      "mean_log_p,shapetorch.Size([]), -244.3169708251953\n",
      "mean_log_q.shapetorch.Size([]), -53.78001403808594\n",
      "mean_log_p,shapetorch.Size([]), -242.40524291992188\n",
      "mean_log_q.shapetorch.Size([]), -54.03376770019531\n",
      "mean_log_p,shapetorch.Size([]), -236.85638427734375\n",
      "mean_log_q.shapetorch.Size([]), -53.31682586669922\n"
     ]
    },
    {
     "name": "stderr",
     "output_type": "stream",
     "text": [
      " 45%|████▌     | 424/938 [00:31<00:42, 12.18it/s]"
     ]
    },
    {
     "name": "stdout",
     "output_type": "stream",
     "text": [
      "mean_log_p,shapetorch.Size([]), -240.05419921875\n",
      "mean_log_q.shapetorch.Size([]), -53.99541473388672\n",
      "mean_log_p,shapetorch.Size([]), -241.45223999023438\n",
      "mean_log_q.shapetorch.Size([]), -53.55435562133789\n",
      "mean_log_p,shapetorch.Size([]), -253.00997924804688\n",
      "mean_log_q.shapetorch.Size([]), -53.37232208251953\n"
     ]
    },
    {
     "name": "stderr",
     "output_type": "stream",
     "text": [
      " 46%|████▌     | 430/938 [00:31<00:34, 14.52it/s]"
     ]
    },
    {
     "name": "stdout",
     "output_type": "stream",
     "text": [
      "mean_log_p,shapetorch.Size([]), -237.7159423828125\n",
      "mean_log_q.shapetorch.Size([]), -53.58607864379883\n",
      "mean_log_p,shapetorch.Size([]), -238.1786651611328\n",
      "mean_log_q.shapetorch.Size([]), -53.79090881347656\n",
      "mean_log_p,shapetorch.Size([]), -254.20663452148438\n",
      "mean_log_q.shapetorch.Size([]), -54.28125762939453\n"
     ]
    },
    {
     "name": "stderr",
     "output_type": "stream",
     "text": [
      " 46%|████▌     | 432/938 [00:31<00:36, 13.92it/s]"
     ]
    },
    {
     "name": "stdout",
     "output_type": "stream",
     "text": [
      "mean_log_p,shapetorch.Size([]), -246.17266845703125\n",
      "mean_log_q.shapetorch.Size([]), -54.52676010131836\n",
      "mean_log_p,shapetorch.Size([]), -228.2596435546875\n",
      "mean_log_q.shapetorch.Size([]), -53.94435119628906\n",
      "mean_log_p,shapetorch.Size([]), -232.37265014648438\n",
      "mean_log_q.shapetorch.Size([]), -53.36669158935547\n"
     ]
    },
    {
     "name": "stderr",
     "output_type": "stream",
     "text": [
      " 46%|████▋     | 436/938 [00:32<00:38, 13.04it/s]"
     ]
    },
    {
     "name": "stdout",
     "output_type": "stream",
     "text": [
      "mean_log_p,shapetorch.Size([]), -243.54739379882812\n",
      "mean_log_q.shapetorch.Size([]), -53.52201843261719\n",
      "mean_log_p,shapetorch.Size([]), -242.66168212890625\n",
      "mean_log_q.shapetorch.Size([]), -53.14347457885742\n",
      "mean_log_p,shapetorch.Size([]), -238.89608764648438\n",
      "mean_log_q.shapetorch.Size([]), -53.76801681518555\n"
     ]
    },
    {
     "name": "stderr",
     "output_type": "stream",
     "text": [
      " 47%|████▋     | 438/938 [00:32<00:39, 12.65it/s]"
     ]
    },
    {
     "name": "stdout",
     "output_type": "stream",
     "text": [
      "mean_log_p,shapetorch.Size([]), -236.40573120117188\n",
      "mean_log_q.shapetorch.Size([]), -53.5880241394043\n",
      "mean_log_p,shapetorch.Size([]), -236.36181640625\n",
      "mean_log_q.shapetorch.Size([]), -53.45576095581055\n",
      "mean_log_p,shapetorch.Size([]), -239.6852569580078\n",
      "mean_log_q.shapetorch.Size([]), -53.74408721923828\n"
     ]
    },
    {
     "name": "stderr",
     "output_type": "stream",
     "text": [
      " 47%|████▋     | 442/938 [00:32<00:40, 12.27it/s]"
     ]
    },
    {
     "name": "stdout",
     "output_type": "stream",
     "text": [
      "mean_log_p,shapetorch.Size([]), -240.322998046875\n",
      "mean_log_q.shapetorch.Size([]), -53.4144172668457\n",
      "mean_log_p,shapetorch.Size([]), -245.85177612304688\n",
      "mean_log_q.shapetorch.Size([]), -53.54895782470703\n",
      "mean_log_p,shapetorch.Size([]), -251.60891723632812\n",
      "mean_log_q.shapetorch.Size([]), -53.64451599121094\n"
     ]
    },
    {
     "name": "stderr",
     "output_type": "stream",
     "text": [
      " 47%|████▋     | 444/938 [00:32<00:40, 12.21it/s]"
     ]
    },
    {
     "name": "stdout",
     "output_type": "stream",
     "text": [
      "mean_log_p,shapetorch.Size([]), -234.55679321289062\n",
      "mean_log_q.shapetorch.Size([]), -53.774139404296875\n",
      "mean_log_p,shapetorch.Size([]), -234.79150390625\n",
      "mean_log_q.shapetorch.Size([]), -53.306114196777344\n",
      "mean_log_p,shapetorch.Size([]), -242.30001831054688\n",
      "mean_log_q.shapetorch.Size([]), -52.768798828125\n"
     ]
    },
    {
     "name": "stderr",
     "output_type": "stream",
     "text": [
      " 48%|████▊     | 448/938 [00:33<00:39, 12.39it/s]"
     ]
    },
    {
     "name": "stdout",
     "output_type": "stream",
     "text": [
      "mean_log_p,shapetorch.Size([]), -248.63711547851562\n",
      "mean_log_q.shapetorch.Size([]), -53.57152557373047\n",
      "mean_log_p,shapetorch.Size([]), -231.69091796875\n",
      "mean_log_q.shapetorch.Size([]), -53.49539566040039\n",
      "mean_log_p,shapetorch.Size([]), -241.0960235595703\n",
      "mean_log_q.shapetorch.Size([]), -53.59760284423828\n"
     ]
    },
    {
     "name": "stderr",
     "output_type": "stream",
     "text": [
      " 48%|████▊     | 450/938 [00:33<00:39, 12.41it/s]"
     ]
    },
    {
     "name": "stdout",
     "output_type": "stream",
     "text": [
      "mean_log_p,shapetorch.Size([]), -242.2109832763672\n",
      "mean_log_q.shapetorch.Size([]), -53.63074493408203\n",
      "mean_log_p,shapetorch.Size([]), -232.80450439453125\n",
      "mean_log_q.shapetorch.Size([]), -53.257652282714844\n",
      "mean_log_p,shapetorch.Size([]), -240.18734741210938\n",
      "mean_log_q.shapetorch.Size([]), -54.61518859863281\n"
     ]
    },
    {
     "name": "stderr",
     "output_type": "stream",
     "text": [
      " 48%|████▊     | 454/938 [00:33<00:39, 12.35it/s]"
     ]
    },
    {
     "name": "stdout",
     "output_type": "stream",
     "text": [
      "mean_log_p,shapetorch.Size([]), -241.98703002929688\n",
      "mean_log_q.shapetorch.Size([]), -52.98027801513672\n",
      "mean_log_p,shapetorch.Size([]), -236.56857299804688\n",
      "mean_log_q.shapetorch.Size([]), -54.22705078125\n",
      "mean_log_p,shapetorch.Size([]), -240.09019470214844\n",
      "mean_log_q.shapetorch.Size([]), -54.468406677246094\n"
     ]
    },
    {
     "name": "stderr",
     "output_type": "stream",
     "text": [
      " 49%|████▊     | 456/938 [00:33<00:38, 12.38it/s]"
     ]
    },
    {
     "name": "stdout",
     "output_type": "stream",
     "text": [
      "mean_log_p,shapetorch.Size([]), -238.43991088867188\n",
      "mean_log_q.shapetorch.Size([]), -53.98982238769531\n",
      "mean_log_p,shapetorch.Size([]), -231.96719360351562\n",
      "mean_log_q.shapetorch.Size([]), -54.357425689697266\n",
      "mean_log_p,shapetorch.Size([]), -238.31509399414062\n",
      "mean_log_q.shapetorch.Size([]), -52.900604248046875\n"
     ]
    },
    {
     "name": "stderr",
     "output_type": "stream",
     "text": [
      " 49%|████▉     | 460/938 [00:34<00:40, 11.94it/s]"
     ]
    },
    {
     "name": "stdout",
     "output_type": "stream",
     "text": [
      "mean_log_p,shapetorch.Size([]), -247.77130126953125\n",
      "mean_log_q.shapetorch.Size([]), -53.49904251098633\n",
      "mean_log_p,shapetorch.Size([]), -226.689208984375\n",
      "mean_log_q.shapetorch.Size([]), -54.17264175415039\n",
      "mean_log_p,shapetorch.Size([]), -236.73483276367188\n",
      "mean_log_q.shapetorch.Size([]), -53.0931510925293\n"
     ]
    },
    {
     "name": "stderr",
     "output_type": "stream",
     "text": [
      " 49%|████▉     | 464/938 [00:34<00:37, 12.68it/s]"
     ]
    },
    {
     "name": "stdout",
     "output_type": "stream",
     "text": [
      "mean_log_p,shapetorch.Size([]), -228.86892700195312\n",
      "mean_log_q.shapetorch.Size([]), -52.423561096191406\n",
      "mean_log_p,shapetorch.Size([]), -246.4073486328125\n",
      "mean_log_q.shapetorch.Size([]), -52.95333480834961\n",
      "mean_log_p,shapetorch.Size([]), -238.11260986328125\n",
      "mean_log_q.shapetorch.Size([]), -53.236778259277344\n"
     ]
    },
    {
     "name": "stderr",
     "output_type": "stream",
     "text": [
      " 50%|████▉     | 466/938 [00:34<00:36, 12.93it/s]"
     ]
    },
    {
     "name": "stdout",
     "output_type": "stream",
     "text": [
      "mean_log_p,shapetorch.Size([]), -242.05715942382812\n",
      "mean_log_q.shapetorch.Size([]), -53.313934326171875\n",
      "mean_log_p,shapetorch.Size([]), -236.16607666015625\n",
      "mean_log_q.shapetorch.Size([]), -53.21083068847656\n",
      "mean_log_p,shapetorch.Size([]), -240.32681274414062\n",
      "mean_log_q.shapetorch.Size([]), -53.18309020996094\n"
     ]
    },
    {
     "name": "stderr",
     "output_type": "stream",
     "text": [
      " 50%|█████     | 472/938 [00:34<00:29, 15.97it/s]"
     ]
    },
    {
     "name": "stdout",
     "output_type": "stream",
     "text": [
      "mean_log_p,shapetorch.Size([]), -230.26101684570312\n",
      "mean_log_q.shapetorch.Size([]), -53.29764938354492\n",
      "mean_log_p,shapetorch.Size([]), -236.8469696044922\n",
      "mean_log_q.shapetorch.Size([]), -53.303314208984375\n",
      "mean_log_p,shapetorch.Size([]), -248.34173583984375\n",
      "mean_log_q.shapetorch.Size([]), -53.96965789794922\n"
     ]
    },
    {
     "name": "stderr",
     "output_type": "stream",
     "text": [
      " 51%|█████     | 474/938 [00:35<00:30, 15.21it/s]"
     ]
    },
    {
     "name": "stdout",
     "output_type": "stream",
     "text": [
      "mean_log_p,shapetorch.Size([]), -238.6837615966797\n",
      "mean_log_q.shapetorch.Size([]), -53.08657455444336\n",
      "mean_log_p,shapetorch.Size([]), -249.51419067382812\n",
      "mean_log_q.shapetorch.Size([]), -53.72722625732422\n",
      "mean_log_p,shapetorch.Size([]), -237.03433227539062\n",
      "mean_log_q.shapetorch.Size([]), -53.47738265991211\n"
     ]
    },
    {
     "name": "stderr",
     "output_type": "stream",
     "text": [
      " 51%|█████     | 478/938 [00:35<00:32, 14.31it/s]"
     ]
    },
    {
     "name": "stdout",
     "output_type": "stream",
     "text": [
      "mean_log_p,shapetorch.Size([]), -242.56390380859375\n",
      "mean_log_q.shapetorch.Size([]), -53.28623962402344\n",
      "mean_log_p,shapetorch.Size([]), -238.9600372314453\n",
      "mean_log_q.shapetorch.Size([]), -53.52997589111328\n",
      "mean_log_p,shapetorch.Size([]), -238.80096435546875\n",
      "mean_log_q.shapetorch.Size([]), -53.015262603759766\n"
     ]
    },
    {
     "name": "stderr",
     "output_type": "stream",
     "text": [
      " 51%|█████     | 480/938 [00:35<00:32, 14.08it/s]"
     ]
    },
    {
     "name": "stdout",
     "output_type": "stream",
     "text": [
      "mean_log_p,shapetorch.Size([]), -233.7122802734375\n",
      "mean_log_q.shapetorch.Size([]), -53.446983337402344\n",
      "mean_log_p,shapetorch.Size([]), -234.23263549804688\n",
      "mean_log_q.shapetorch.Size([]), -53.34783172607422\n",
      "mean_log_p,shapetorch.Size([]), -247.73828125\n",
      "mean_log_q.shapetorch.Size([]), -52.36766052246094\n"
     ]
    },
    {
     "name": "stderr",
     "output_type": "stream",
     "text": [
      " 52%|█████▏    | 484/938 [00:35<00:32, 13.88it/s]"
     ]
    },
    {
     "name": "stdout",
     "output_type": "stream",
     "text": [
      "mean_log_p,shapetorch.Size([]), -234.75894165039062\n",
      "mean_log_q.shapetorch.Size([]), -53.43857192993164\n",
      "mean_log_p,shapetorch.Size([]), -232.3643341064453\n",
      "mean_log_q.shapetorch.Size([]), -53.83152770996094\n",
      "mean_log_p,shapetorch.Size([]), -234.78878784179688\n",
      "mean_log_q.shapetorch.Size([]), -53.30278778076172\n"
     ]
    },
    {
     "name": "stderr",
     "output_type": "stream",
     "text": [
      " 52%|█████▏    | 486/938 [00:36<00:32, 13.80it/s]"
     ]
    },
    {
     "name": "stdout",
     "output_type": "stream",
     "text": [
      "mean_log_p,shapetorch.Size([]), -238.52420043945312\n",
      "mean_log_q.shapetorch.Size([]), -53.94999694824219\n",
      "mean_log_p,shapetorch.Size([]), -237.923583984375\n",
      "mean_log_q.shapetorch.Size([]), -53.28251266479492\n",
      "mean_log_p,shapetorch.Size([]), -242.246826171875\n",
      "mean_log_q.shapetorch.Size([]), -53.18230438232422\n"
     ]
    },
    {
     "name": "stderr",
     "output_type": "stream",
     "text": [
      " 52%|█████▏    | 490/938 [00:36<00:32, 13.69it/s]"
     ]
    },
    {
     "name": "stdout",
     "output_type": "stream",
     "text": [
      "mean_log_p,shapetorch.Size([]), -245.91787719726562\n",
      "mean_log_q.shapetorch.Size([]), -53.71569061279297\n",
      "mean_log_p,shapetorch.Size([]), -237.4075164794922\n",
      "mean_log_q.shapetorch.Size([]), -53.553924560546875\n",
      "mean_log_p,shapetorch.Size([]), -239.8730010986328\n",
      "mean_log_q.shapetorch.Size([]), -53.088478088378906\n"
     ]
    },
    {
     "name": "stderr",
     "output_type": "stream",
     "text": [
      " 52%|█████▏    | 492/938 [00:36<00:32, 13.68it/s]"
     ]
    },
    {
     "name": "stdout",
     "output_type": "stream",
     "text": [
      "mean_log_p,shapetorch.Size([]), -232.59384155273438\n",
      "mean_log_q.shapetorch.Size([]), -53.13341522216797\n",
      "mean_log_p,shapetorch.Size([]), -234.7823486328125\n",
      "mean_log_q.shapetorch.Size([]), -53.02162551879883\n",
      "mean_log_p,shapetorch.Size([]), -235.2100830078125\n",
      "mean_log_q.shapetorch.Size([]), -53.62965774536133\n"
     ]
    },
    {
     "name": "stderr",
     "output_type": "stream",
     "text": [
      " 53%|█████▎    | 496/938 [00:36<00:32, 13.62it/s]"
     ]
    },
    {
     "name": "stdout",
     "output_type": "stream",
     "text": [
      "mean_log_p,shapetorch.Size([]), -232.0211181640625\n",
      "mean_log_q.shapetorch.Size([]), -52.93147277832031\n",
      "mean_log_p,shapetorch.Size([]), -233.536376953125\n",
      "mean_log_q.shapetorch.Size([]), -53.87415313720703\n",
      "mean_log_p,shapetorch.Size([]), -231.6028594970703\n",
      "mean_log_q.shapetorch.Size([]), -52.70368194580078\n"
     ]
    },
    {
     "name": "stderr",
     "output_type": "stream",
     "text": [
      " 53%|█████▎    | 498/938 [00:36<00:32, 13.61it/s]"
     ]
    },
    {
     "name": "stdout",
     "output_type": "stream",
     "text": [
      "mean_log_p,shapetorch.Size([]), -230.85601806640625\n",
      "mean_log_q.shapetorch.Size([]), -53.588871002197266\n",
      "mean_log_p,shapetorch.Size([]), -232.63040161132812\n",
      "mean_log_q.shapetorch.Size([]), -52.633705139160156\n",
      "mean_log_p,shapetorch.Size([]), -232.82113647460938\n",
      "mean_log_q.shapetorch.Size([]), -52.76239776611328\n"
     ]
    },
    {
     "name": "stderr",
     "output_type": "stream",
     "text": [
      " 54%|█████▎    | 502/938 [00:37<00:32, 13.58it/s]"
     ]
    },
    {
     "name": "stdout",
     "output_type": "stream",
     "text": [
      "mean_log_p,shapetorch.Size([]), -242.7058563232422\n",
      "mean_log_q.shapetorch.Size([]), -52.82838821411133\n",
      "mean_log_p,shapetorch.Size([]), -236.6490478515625\n",
      "mean_log_q.shapetorch.Size([]), -52.584625244140625\n",
      "mean_log_p,shapetorch.Size([]), -228.74591064453125\n",
      "mean_log_q.shapetorch.Size([]), -53.02604675292969\n"
     ]
    },
    {
     "name": "stderr",
     "output_type": "stream",
     "text": [
      " 54%|█████▎    | 504/938 [00:37<00:32, 13.56it/s]"
     ]
    },
    {
     "name": "stdout",
     "output_type": "stream",
     "text": [
      "mean_log_p,shapetorch.Size([]), -231.45938110351562\n",
      "mean_log_q.shapetorch.Size([]), -52.53864288330078\n",
      "mean_log_p,shapetorch.Size([]), -237.21884155273438\n",
      "mean_log_q.shapetorch.Size([]), -53.40386962890625\n",
      "mean_log_p,shapetorch.Size([]), -244.009521484375\n",
      "mean_log_q.shapetorch.Size([]), -53.33446502685547\n"
     ]
    },
    {
     "name": "stderr",
     "output_type": "stream",
     "text": [
      " 54%|█████▍    | 508/938 [00:37<00:31, 13.56it/s]"
     ]
    },
    {
     "name": "stdout",
     "output_type": "stream",
     "text": [
      "mean_log_p,shapetorch.Size([]), -237.60960388183594\n",
      "mean_log_q.shapetorch.Size([]), -53.568641662597656\n",
      "mean_log_p,shapetorch.Size([]), -237.52162170410156\n",
      "mean_log_q.shapetorch.Size([]), -52.93812942504883\n",
      "mean_log_p,shapetorch.Size([]), -242.32925415039062\n",
      "mean_log_q.shapetorch.Size([]), -53.59357833862305\n"
     ]
    },
    {
     "name": "stderr",
     "output_type": "stream",
     "text": [
      " 54%|█████▍    | 510/938 [00:37<00:31, 13.44it/s]"
     ]
    },
    {
     "name": "stdout",
     "output_type": "stream",
     "text": [
      "mean_log_p,shapetorch.Size([]), -231.3846893310547\n",
      "mean_log_q.shapetorch.Size([]), -53.53471374511719\n",
      "mean_log_p,shapetorch.Size([]), -237.99411010742188\n",
      "mean_log_q.shapetorch.Size([]), -53.20728302001953\n",
      "mean_log_p,shapetorch.Size([]), -231.85003662109375\n",
      "mean_log_q.shapetorch.Size([]), -52.795379638671875\n"
     ]
    },
    {
     "name": "stderr",
     "output_type": "stream",
     "text": [
      " 55%|█████▌    | 516/938 [00:38<00:25, 16.32it/s]"
     ]
    },
    {
     "name": "stdout",
     "output_type": "stream",
     "text": [
      "mean_log_p,shapetorch.Size([]), -226.885009765625\n",
      "mean_log_q.shapetorch.Size([]), -52.553977966308594\n",
      "mean_log_p,shapetorch.Size([]), -225.77378845214844\n",
      "mean_log_q.shapetorch.Size([]), -51.914306640625\n",
      "mean_log_p,shapetorch.Size([]), -231.24441528320312\n",
      "mean_log_q.shapetorch.Size([]), -52.46418380737305\n"
     ]
    },
    {
     "name": "stderr",
     "output_type": "stream",
     "text": [
      " 55%|█████▌    | 518/938 [00:38<00:27, 15.47it/s]"
     ]
    },
    {
     "name": "stdout",
     "output_type": "stream",
     "text": [
      "mean_log_p,shapetorch.Size([]), -225.75924682617188\n",
      "mean_log_q.shapetorch.Size([]), -52.78496551513672\n",
      "mean_log_p,shapetorch.Size([]), -234.35464477539062\n",
      "mean_log_q.shapetorch.Size([]), -52.778282165527344\n",
      "mean_log_p,shapetorch.Size([]), -241.49551391601562\n",
      "mean_log_q.shapetorch.Size([]), -52.5843505859375\n"
     ]
    },
    {
     "name": "stderr",
     "output_type": "stream",
     "text": [
      " 56%|█████▌    | 522/938 [00:38<00:28, 14.49it/s]"
     ]
    },
    {
     "name": "stdout",
     "output_type": "stream",
     "text": [
      "mean_log_p,shapetorch.Size([]), -244.82107543945312\n",
      "mean_log_q.shapetorch.Size([]), -52.29509735107422\n",
      "mean_log_p,shapetorch.Size([]), -234.35787963867188\n",
      "mean_log_q.shapetorch.Size([]), -52.658119201660156\n",
      "mean_log_p,shapetorch.Size([]), -237.9569854736328\n",
      "mean_log_q.shapetorch.Size([]), -52.59807205200195\n"
     ]
    },
    {
     "name": "stderr",
     "output_type": "stream",
     "text": [
      " 56%|█████▌    | 524/938 [00:38<00:29, 14.20it/s]"
     ]
    },
    {
     "name": "stdout",
     "output_type": "stream",
     "text": [
      "mean_log_p,shapetorch.Size([]), -243.1955108642578\n",
      "mean_log_q.shapetorch.Size([]), -52.67509078979492\n",
      "mean_log_p,shapetorch.Size([]), -236.57945251464844\n",
      "mean_log_q.shapetorch.Size([]), -52.93486404418945\n",
      "mean_log_p,shapetorch.Size([]), -233.84561157226562\n",
      "mean_log_q.shapetorch.Size([]), -52.621761322021484\n"
     ]
    },
    {
     "name": "stderr",
     "output_type": "stream",
     "text": [
      " 56%|█████▋    | 528/938 [00:38<00:29, 13.82it/s]"
     ]
    },
    {
     "name": "stdout",
     "output_type": "stream",
     "text": [
      "mean_log_p,shapetorch.Size([]), -236.948486328125\n",
      "mean_log_q.shapetorch.Size([]), -53.138832092285156\n",
      "mean_log_p,shapetorch.Size([]), -236.09051513671875\n",
      "mean_log_q.shapetorch.Size([]), -53.06224822998047\n",
      "mean_log_p,shapetorch.Size([]), -247.20262145996094\n",
      "mean_log_q.shapetorch.Size([]), -52.546905517578125\n"
     ]
    },
    {
     "name": "stderr",
     "output_type": "stream",
     "text": [
      " 57%|█████▋    | 530/938 [00:39<00:29, 13.71it/s]"
     ]
    },
    {
     "name": "stdout",
     "output_type": "stream",
     "text": [
      "mean_log_p,shapetorch.Size([]), -226.6390380859375\n",
      "mean_log_q.shapetorch.Size([]), -52.873130798339844\n",
      "mean_log_p,shapetorch.Size([]), -233.47003173828125\n",
      "mean_log_q.shapetorch.Size([]), -52.66892623901367\n",
      "mean_log_p,shapetorch.Size([]), -229.1978302001953\n",
      "mean_log_q.shapetorch.Size([]), -53.22501754760742\n"
     ]
    },
    {
     "name": "stderr",
     "output_type": "stream",
     "text": [
      " 57%|█████▋    | 534/938 [00:39<00:29, 13.56it/s]"
     ]
    },
    {
     "name": "stdout",
     "output_type": "stream",
     "text": [
      "mean_log_p,shapetorch.Size([]), -234.4934844970703\n",
      "mean_log_q.shapetorch.Size([]), -52.206024169921875\n",
      "mean_log_p,shapetorch.Size([]), -239.16134643554688\n",
      "mean_log_q.shapetorch.Size([]), -52.83539581298828\n",
      "mean_log_p,shapetorch.Size([]), -229.4159393310547\n",
      "mean_log_q.shapetorch.Size([]), -52.22100830078125\n"
     ]
    },
    {
     "name": "stderr",
     "output_type": "stream",
     "text": [
      " 57%|█████▋    | 536/938 [00:39<00:29, 13.54it/s]"
     ]
    },
    {
     "name": "stdout",
     "output_type": "stream",
     "text": [
      "mean_log_p,shapetorch.Size([]), -225.4124755859375\n",
      "mean_log_q.shapetorch.Size([]), -52.77545928955078\n",
      "mean_log_p,shapetorch.Size([]), -233.19851684570312\n",
      "mean_log_q.shapetorch.Size([]), -52.13163375854492\n",
      "mean_log_p,shapetorch.Size([]), -238.79818725585938\n",
      "mean_log_q.shapetorch.Size([]), -51.9288330078125\n"
     ]
    },
    {
     "name": "stderr",
     "output_type": "stream",
     "text": [
      " 58%|█████▊    | 540/938 [00:39<00:29, 13.50it/s]"
     ]
    },
    {
     "name": "stdout",
     "output_type": "stream",
     "text": [
      "mean_log_p,shapetorch.Size([]), -232.2370147705078\n",
      "mean_log_q.shapetorch.Size([]), -52.79098129272461\n",
      "mean_log_p,shapetorch.Size([]), -223.96014404296875\n",
      "mean_log_q.shapetorch.Size([]), -52.64531707763672\n",
      "mean_log_p,shapetorch.Size([]), -235.77996826171875\n",
      "mean_log_q.shapetorch.Size([]), -52.61806869506836\n"
     ]
    },
    {
     "name": "stderr",
     "output_type": "stream",
     "text": [
      " 58%|█████▊    | 542/938 [00:40<00:29, 13.47it/s]"
     ]
    },
    {
     "name": "stdout",
     "output_type": "stream",
     "text": [
      "mean_log_p,shapetorch.Size([]), -234.94473266601562\n",
      "mean_log_q.shapetorch.Size([]), -52.448020935058594\n",
      "mean_log_p,shapetorch.Size([]), -236.64181518554688\n",
      "mean_log_q.shapetorch.Size([]), -52.41583251953125\n",
      "mean_log_p,shapetorch.Size([]), -231.60952758789062\n",
      "mean_log_q.shapetorch.Size([]), -53.364097595214844\n"
     ]
    },
    {
     "name": "stderr",
     "output_type": "stream",
     "text": [
      " 58%|█████▊    | 546/938 [00:40<00:29, 13.46it/s]"
     ]
    },
    {
     "name": "stdout",
     "output_type": "stream",
     "text": [
      "mean_log_p,shapetorch.Size([]), -236.8758544921875\n",
      "mean_log_q.shapetorch.Size([]), -52.124488830566406\n",
      "mean_log_p,shapetorch.Size([]), -233.12362670898438\n",
      "mean_log_q.shapetorch.Size([]), -51.986881256103516\n",
      "mean_log_p,shapetorch.Size([]), -232.76821899414062\n",
      "mean_log_q.shapetorch.Size([]), -52.75148010253906\n"
     ]
    },
    {
     "name": "stderr",
     "output_type": "stream",
     "text": [
      " 58%|█████▊    | 548/938 [00:40<00:28, 13.46it/s]"
     ]
    },
    {
     "name": "stdout",
     "output_type": "stream",
     "text": [
      "mean_log_p,shapetorch.Size([]), -234.41943359375\n",
      "mean_log_q.shapetorch.Size([]), -52.66471481323242\n",
      "mean_log_p,shapetorch.Size([]), -229.787109375\n",
      "mean_log_q.shapetorch.Size([]), -53.14568328857422\n",
      "mean_log_p,shapetorch.Size([]), -233.3671417236328\n",
      "mean_log_q.shapetorch.Size([]), -52.500091552734375\n"
     ]
    },
    {
     "name": "stderr",
     "output_type": "stream",
     "text": [
      " 59%|█████▉    | 552/938 [00:40<00:28, 13.47it/s]"
     ]
    },
    {
     "name": "stdout",
     "output_type": "stream",
     "text": [
      "mean_log_p,shapetorch.Size([]), -234.38247680664062\n",
      "mean_log_q.shapetorch.Size([]), -51.87757873535156\n",
      "mean_log_p,shapetorch.Size([]), -230.55885314941406\n",
      "mean_log_q.shapetorch.Size([]), -52.69852828979492\n",
      "mean_log_p,shapetorch.Size([]), -226.8253173828125\n",
      "mean_log_q.shapetorch.Size([]), -52.33441162109375\n"
     ]
    },
    {
     "name": "stderr",
     "output_type": "stream",
     "text": [
      " 59%|█████▉    | 554/938 [00:40<00:28, 13.50it/s]"
     ]
    },
    {
     "name": "stdout",
     "output_type": "stream",
     "text": [
      "mean_log_p,shapetorch.Size([]), -240.0259552001953\n",
      "mean_log_q.shapetorch.Size([]), -52.52136993408203\n",
      "mean_log_p,shapetorch.Size([]), -233.28762817382812\n",
      "mean_log_q.shapetorch.Size([]), -52.520687103271484\n",
      "mean_log_p,shapetorch.Size([]), -237.10935974121094\n",
      "mean_log_q.shapetorch.Size([]), -52.697975158691406\n"
     ]
    },
    {
     "name": "stderr",
     "output_type": "stream",
     "text": [
      " 60%|█████▉    | 560/938 [00:41<00:21, 17.50it/s]"
     ]
    },
    {
     "name": "stdout",
     "output_type": "stream",
     "text": [
      "mean_log_p,shapetorch.Size([]), -228.43698120117188\n",
      "mean_log_q.shapetorch.Size([]), -51.43315124511719\n",
      "mean_log_p,shapetorch.Size([]), -232.8373260498047\n",
      "mean_log_q.shapetorch.Size([]), -52.489845275878906\n",
      "mean_log_p,shapetorch.Size([]), -232.01589965820312\n",
      "mean_log_q.shapetorch.Size([]), -52.76509094238281\n"
     ]
    },
    {
     "name": "stderr",
     "output_type": "stream",
     "text": [
      " 60%|█████▉    | 562/938 [00:41<00:23, 16.28it/s]"
     ]
    },
    {
     "name": "stdout",
     "output_type": "stream",
     "text": [
      "mean_log_p,shapetorch.Size([]), -228.53262329101562\n",
      "mean_log_q.shapetorch.Size([]), -52.54236602783203\n",
      "mean_log_p,shapetorch.Size([]), -233.7498016357422\n",
      "mean_log_q.shapetorch.Size([]), -52.59845733642578\n",
      "mean_log_p,shapetorch.Size([]), -231.44598388671875\n",
      "mean_log_q.shapetorch.Size([]), -52.611541748046875\n"
     ]
    },
    {
     "name": "stderr",
     "output_type": "stream",
     "text": [
      " 60%|██████    | 566/938 [00:41<00:25, 14.84it/s]"
     ]
    },
    {
     "name": "stdout",
     "output_type": "stream",
     "text": [
      "mean_log_p,shapetorch.Size([]), -226.38014221191406\n",
      "mean_log_q.shapetorch.Size([]), -51.881385803222656\n",
      "mean_log_p,shapetorch.Size([]), -225.88800048828125\n",
      "mean_log_q.shapetorch.Size([]), -52.082969665527344\n",
      "mean_log_p,shapetorch.Size([]), -232.0203399658203\n",
      "mean_log_q.shapetorch.Size([]), -51.92203140258789\n"
     ]
    },
    {
     "name": "stderr",
     "output_type": "stream",
     "text": [
      " 61%|██████    | 568/938 [00:41<00:25, 14.45it/s]"
     ]
    },
    {
     "name": "stdout",
     "output_type": "stream",
     "text": [
      "mean_log_p,shapetorch.Size([]), -228.79690551757812\n",
      "mean_log_q.shapetorch.Size([]), -52.45151138305664\n",
      "mean_log_p,shapetorch.Size([]), -223.3533935546875\n",
      "mean_log_q.shapetorch.Size([]), -51.727333068847656\n",
      "mean_log_p,shapetorch.Size([]), -221.18446350097656\n",
      "mean_log_q.shapetorch.Size([]), -52.00559997558594\n"
     ]
    },
    {
     "name": "stderr",
     "output_type": "stream",
     "text": [
      " 61%|██████    | 572/938 [00:42<00:26, 13.92it/s]"
     ]
    },
    {
     "name": "stdout",
     "output_type": "stream",
     "text": [
      "mean_log_p,shapetorch.Size([]), -231.7010040283203\n",
      "mean_log_q.shapetorch.Size([]), -52.15556335449219\n",
      "mean_log_p,shapetorch.Size([]), -231.05482482910156\n",
      "mean_log_q.shapetorch.Size([]), -51.607696533203125\n",
      "mean_log_p,shapetorch.Size([]), -226.14404296875\n",
      "mean_log_q.shapetorch.Size([]), -51.25019073486328\n"
     ]
    },
    {
     "name": "stderr",
     "output_type": "stream",
     "text": [
      " 61%|██████    | 574/938 [00:42<00:26, 13.76it/s]"
     ]
    },
    {
     "name": "stdout",
     "output_type": "stream",
     "text": [
      "mean_log_p,shapetorch.Size([]), -232.76242065429688\n",
      "mean_log_q.shapetorch.Size([]), -51.09367752075195\n",
      "mean_log_p,shapetorch.Size([]), -235.78407287597656\n",
      "mean_log_q.shapetorch.Size([]), -51.45901107788086\n",
      "mean_log_p,shapetorch.Size([]), -229.1977996826172\n",
      "mean_log_q.shapetorch.Size([]), -51.5579948425293\n"
     ]
    },
    {
     "name": "stderr",
     "output_type": "stream",
     "text": [
      " 62%|██████▏   | 578/938 [00:42<00:26, 13.56it/s]"
     ]
    },
    {
     "name": "stdout",
     "output_type": "stream",
     "text": [
      "mean_log_p,shapetorch.Size([]), -228.44308471679688\n",
      "mean_log_q.shapetorch.Size([]), -51.61418914794922\n",
      "mean_log_p,shapetorch.Size([]), -234.16195678710938\n",
      "mean_log_q.shapetorch.Size([]), -51.49936294555664\n",
      "mean_log_p,shapetorch.Size([]), -231.9931640625\n",
      "mean_log_q.shapetorch.Size([]), -51.377342224121094\n"
     ]
    },
    {
     "name": "stderr",
     "output_type": "stream",
     "text": [
      " 62%|██████▏   | 580/938 [00:42<00:26, 13.53it/s]"
     ]
    },
    {
     "name": "stdout",
     "output_type": "stream",
     "text": [
      "mean_log_p,shapetorch.Size([]), -230.29055786132812\n",
      "mean_log_q.shapetorch.Size([]), -51.810726165771484\n",
      "mean_log_p,shapetorch.Size([]), -230.00726318359375\n",
      "mean_log_q.shapetorch.Size([]), -52.18951416015625\n",
      "mean_log_p,shapetorch.Size([]), -220.71591186523438\n",
      "mean_log_q.shapetorch.Size([]), -51.64564895629883\n"
     ]
    },
    {
     "name": "stderr",
     "output_type": "stream",
     "text": [
      " 62%|██████▏   | 584/938 [00:43<00:26, 13.44it/s]"
     ]
    },
    {
     "name": "stdout",
     "output_type": "stream",
     "text": [
      "mean_log_p,shapetorch.Size([]), -232.45596313476562\n",
      "mean_log_q.shapetorch.Size([]), -52.233089447021484\n",
      "mean_log_p,shapetorch.Size([]), -228.43386840820312\n",
      "mean_log_q.shapetorch.Size([]), -51.71595001220703\n",
      "mean_log_p,shapetorch.Size([]), -242.50340270996094\n",
      "mean_log_q.shapetorch.Size([]), -52.20073318481445\n"
     ]
    },
    {
     "name": "stderr",
     "output_type": "stream",
     "text": [
      " 62%|██████▏   | 586/938 [00:43<00:26, 13.46it/s]"
     ]
    },
    {
     "name": "stdout",
     "output_type": "stream",
     "text": [
      "mean_log_p,shapetorch.Size([]), -234.21426391601562\n",
      "mean_log_q.shapetorch.Size([]), -51.64109802246094\n",
      "mean_log_p,shapetorch.Size([]), -223.06341552734375\n",
      "mean_log_q.shapetorch.Size([]), -52.09709930419922\n",
      "mean_log_p,shapetorch.Size([]), -240.6580810546875\n",
      "mean_log_q.shapetorch.Size([]), -51.59600067138672\n"
     ]
    },
    {
     "name": "stderr",
     "output_type": "stream",
     "text": [
      " 63%|██████▎   | 590/938 [00:43<00:25, 13.47it/s]"
     ]
    },
    {
     "name": "stdout",
     "output_type": "stream",
     "text": [
      "mean_log_p,shapetorch.Size([]), -223.42739868164062\n",
      "mean_log_q.shapetorch.Size([]), -50.75115966796875\n",
      "mean_log_p,shapetorch.Size([]), -222.28506469726562\n",
      "mean_log_q.shapetorch.Size([]), -51.38575744628906\n",
      "mean_log_p,shapetorch.Size([]), -228.24049377441406\n",
      "mean_log_q.shapetorch.Size([]), -51.815128326416016\n"
     ]
    },
    {
     "name": "stderr",
     "output_type": "stream",
     "text": [
      " 63%|██████▎   | 592/938 [00:43<00:25, 13.47it/s]"
     ]
    },
    {
     "name": "stdout",
     "output_type": "stream",
     "text": [
      "mean_log_p,shapetorch.Size([]), -230.8629608154297\n",
      "mean_log_q.shapetorch.Size([]), -51.01091384887695\n",
      "mean_log_p,shapetorch.Size([]), -230.30026245117188\n",
      "mean_log_q.shapetorch.Size([]), -52.08252716064453\n",
      "mean_log_p,shapetorch.Size([]), -229.28390502929688\n",
      "mean_log_q.shapetorch.Size([]), -51.444969177246094\n"
     ]
    },
    {
     "name": "stderr",
     "output_type": "stream",
     "text": [
      " 64%|██████▎   | 596/938 [00:43<00:25, 13.49it/s]"
     ]
    },
    {
     "name": "stdout",
     "output_type": "stream",
     "text": [
      "mean_log_p,shapetorch.Size([]), -228.95114135742188\n",
      "mean_log_q.shapetorch.Size([]), -51.579490661621094\n",
      "mean_log_p,shapetorch.Size([]), -219.23312377929688\n",
      "mean_log_q.shapetorch.Size([]), -51.8819580078125\n",
      "mean_log_p,shapetorch.Size([]), -232.75799560546875\n",
      "mean_log_q.shapetorch.Size([]), -51.377662658691406\n"
     ]
    },
    {
     "name": "stderr",
     "output_type": "stream",
     "text": [
      " 64%|██████▍   | 598/938 [00:44<00:25, 13.53it/s]"
     ]
    },
    {
     "name": "stdout",
     "output_type": "stream",
     "text": [
      "mean_log_p,shapetorch.Size([]), -232.58212280273438\n",
      "mean_log_q.shapetorch.Size([]), -51.91297149658203\n",
      "mean_log_p,shapetorch.Size([]), -224.20359802246094\n",
      "mean_log_q.shapetorch.Size([]), -51.85292053222656\n",
      "mean_log_p,shapetorch.Size([]), -229.07374572753906\n",
      "mean_log_q.shapetorch.Size([]), -51.64286804199219\n"
     ]
    },
    {
     "name": "stderr",
     "output_type": "stream",
     "text": [
      " 64%|██████▍   | 602/938 [00:44<00:24, 13.48it/s]"
     ]
    },
    {
     "name": "stdout",
     "output_type": "stream",
     "text": [
      "mean_log_p,shapetorch.Size([]), -227.1064910888672\n",
      "mean_log_q.shapetorch.Size([]), -51.97957229614258\n",
      "mean_log_p,shapetorch.Size([]), -229.6163787841797\n",
      "mean_log_q.shapetorch.Size([]), -50.72747039794922\n",
      "mean_log_p,shapetorch.Size([]), -227.6361541748047\n",
      "mean_log_q.shapetorch.Size([]), -51.2928581237793\n"
     ]
    },
    {
     "name": "stderr",
     "output_type": "stream",
     "text": [
      " 64%|██████▍   | 604/938 [00:44<00:24, 13.43it/s]"
     ]
    },
    {
     "name": "stdout",
     "output_type": "stream",
     "text": [
      "mean_log_p,shapetorch.Size([]), -229.10081481933594\n",
      "mean_log_q.shapetorch.Size([]), -51.686378479003906\n",
      "mean_log_p,shapetorch.Size([]), -231.98684692382812\n",
      "mean_log_q.shapetorch.Size([]), -50.947486877441406\n",
      "mean_log_p,shapetorch.Size([]), -220.61294555664062\n",
      "mean_log_q.shapetorch.Size([]), -51.17853546142578\n"
     ]
    },
    {
     "name": "stderr",
     "output_type": "stream",
     "text": [
      " 65%|██████▌   | 610/938 [00:44<00:20, 16.30it/s]"
     ]
    },
    {
     "name": "stdout",
     "output_type": "stream",
     "text": [
      "mean_log_p,shapetorch.Size([]), -225.85858154296875\n",
      "mean_log_q.shapetorch.Size([]), -51.159706115722656\n",
      "mean_log_p,shapetorch.Size([]), -228.77359008789062\n",
      "mean_log_q.shapetorch.Size([]), -51.950157165527344\n",
      "mean_log_p,shapetorch.Size([]), -237.9816131591797\n",
      "mean_log_q.shapetorch.Size([]), -51.74358367919922\n"
     ]
    },
    {
     "name": "stderr",
     "output_type": "stream",
     "text": [
      " 65%|██████▌   | 612/938 [00:44<00:21, 15.45it/s]"
     ]
    },
    {
     "name": "stdout",
     "output_type": "stream",
     "text": [
      "mean_log_p,shapetorch.Size([]), -224.97506713867188\n",
      "mean_log_q.shapetorch.Size([]), -50.81178665161133\n",
      "mean_log_p,shapetorch.Size([]), -235.79144287109375\n",
      "mean_log_q.shapetorch.Size([]), -51.401519775390625\n",
      "mean_log_p,shapetorch.Size([]), -235.42266845703125\n",
      "mean_log_q.shapetorch.Size([]), -50.723899841308594\n"
     ]
    },
    {
     "name": "stderr",
     "output_type": "stream",
     "text": [
      " 66%|██████▌   | 616/938 [00:45<00:22, 14.40it/s]"
     ]
    },
    {
     "name": "stdout",
     "output_type": "stream",
     "text": [
      "mean_log_p,shapetorch.Size([]), -227.8896484375\n",
      "mean_log_q.shapetorch.Size([]), -50.05564880371094\n",
      "mean_log_p,shapetorch.Size([]), -235.14895629882812\n",
      "mean_log_q.shapetorch.Size([]), -51.82085418701172\n",
      "mean_log_p,shapetorch.Size([]), -231.95965576171875\n",
      "mean_log_q.shapetorch.Size([]), -51.441184997558594\n"
     ]
    },
    {
     "name": "stderr",
     "output_type": "stream",
     "text": [
      " 66%|██████▌   | 618/938 [00:45<00:22, 14.15it/s]"
     ]
    },
    {
     "name": "stdout",
     "output_type": "stream",
     "text": [
      "mean_log_p,shapetorch.Size([]), -219.231689453125\n",
      "mean_log_q.shapetorch.Size([]), -50.57011413574219\n",
      "mean_log_p,shapetorch.Size([]), -227.4915008544922\n",
      "mean_log_q.shapetorch.Size([]), -51.702415466308594\n",
      "mean_log_p,shapetorch.Size([]), -222.0407257080078\n",
      "mean_log_q.shapetorch.Size([]), -51.871185302734375\n"
     ]
    },
    {
     "name": "stderr",
     "output_type": "stream",
     "text": [
      " 66%|██████▋   | 622/938 [00:45<00:22, 13.78it/s]"
     ]
    },
    {
     "name": "stdout",
     "output_type": "stream",
     "text": [
      "mean_log_p,shapetorch.Size([]), -235.5985107421875\n",
      "mean_log_q.shapetorch.Size([]), -51.59302520751953\n",
      "mean_log_p,shapetorch.Size([]), -220.25148010253906\n",
      "mean_log_q.shapetorch.Size([]), -51.080589294433594\n",
      "mean_log_p,shapetorch.Size([]), -226.38308715820312\n",
      "mean_log_q.shapetorch.Size([]), -51.48905944824219\n"
     ]
    },
    {
     "name": "stderr",
     "output_type": "stream",
     "text": [
      " 67%|██████▋   | 624/938 [00:45<00:22, 13.66it/s]"
     ]
    },
    {
     "name": "stdout",
     "output_type": "stream",
     "text": [
      "mean_log_p,shapetorch.Size([]), -223.14292907714844\n",
      "mean_log_q.shapetorch.Size([]), -51.15986251831055\n",
      "mean_log_p,shapetorch.Size([]), -225.38397216796875\n",
      "mean_log_q.shapetorch.Size([]), -50.58082962036133\n",
      "mean_log_p,shapetorch.Size([]), -227.31719970703125\n",
      "mean_log_q.shapetorch.Size([]), -50.78364181518555\n"
     ]
    },
    {
     "name": "stderr",
     "output_type": "stream",
     "text": [
      " 67%|██████▋   | 628/938 [00:46<00:22, 13.53it/s]"
     ]
    },
    {
     "name": "stdout",
     "output_type": "stream",
     "text": [
      "mean_log_p,shapetorch.Size([]), -221.28564453125\n",
      "mean_log_q.shapetorch.Size([]), -51.47995376586914\n",
      "mean_log_p,shapetorch.Size([]), -217.9820556640625\n",
      "mean_log_q.shapetorch.Size([]), -50.573482513427734\n",
      "mean_log_p,shapetorch.Size([]), -223.58682250976562\n",
      "mean_log_q.shapetorch.Size([]), -50.80390167236328\n"
     ]
    },
    {
     "name": "stderr",
     "output_type": "stream",
     "text": [
      " 67%|██████▋   | 630/938 [00:46<00:22, 13.50it/s]"
     ]
    },
    {
     "name": "stdout",
     "output_type": "stream",
     "text": [
      "mean_log_p,shapetorch.Size([]), -223.15493774414062\n",
      "mean_log_q.shapetorch.Size([]), -50.841461181640625\n",
      "mean_log_p,shapetorch.Size([]), -223.47116088867188\n",
      "mean_log_q.shapetorch.Size([]), -51.274269104003906\n",
      "mean_log_p,shapetorch.Size([]), -219.4981231689453\n",
      "mean_log_q.shapetorch.Size([]), -49.85129928588867\n"
     ]
    },
    {
     "name": "stderr",
     "output_type": "stream",
     "text": [
      " 68%|██████▊   | 634/938 [00:46<00:22, 13.47it/s]"
     ]
    },
    {
     "name": "stdout",
     "output_type": "stream",
     "text": [
      "mean_log_p,shapetorch.Size([]), -223.10470581054688\n",
      "mean_log_q.shapetorch.Size([]), -50.880523681640625\n",
      "mean_log_p,shapetorch.Size([]), -219.83908081054688\n",
      "mean_log_q.shapetorch.Size([]), -50.98191452026367\n",
      "mean_log_p,shapetorch.Size([]), -227.98831176757812\n",
      "mean_log_q.shapetorch.Size([]), -50.440975189208984\n"
     ]
    },
    {
     "name": "stderr",
     "output_type": "stream",
     "text": [
      " 68%|██████▊   | 636/938 [00:46<00:22, 13.47it/s]"
     ]
    },
    {
     "name": "stdout",
     "output_type": "stream",
     "text": [
      "mean_log_p,shapetorch.Size([]), -219.7504119873047\n",
      "mean_log_q.shapetorch.Size([]), -50.75402069091797\n",
      "mean_log_p,shapetorch.Size([]), -217.64785766601562\n",
      "mean_log_q.shapetorch.Size([]), -50.72679901123047\n",
      "mean_log_p,shapetorch.Size([]), -218.2300567626953\n",
      "mean_log_q.shapetorch.Size([]), -51.116294860839844\n"
     ]
    },
    {
     "name": "stderr",
     "output_type": "stream",
     "text": [
      " 68%|██████▊   | 640/938 [00:47<00:22, 13.45it/s]"
     ]
    },
    {
     "name": "stdout",
     "output_type": "stream",
     "text": [
      "mean_log_p,shapetorch.Size([]), -225.80377197265625\n",
      "mean_log_q.shapetorch.Size([]), -50.71561813354492\n",
      "mean_log_p,shapetorch.Size([]), -209.6307373046875\n",
      "mean_log_q.shapetorch.Size([]), -51.6063232421875\n",
      "mean_log_p,shapetorch.Size([]), -219.4631805419922\n",
      "mean_log_q.shapetorch.Size([]), -50.48512268066406\n"
     ]
    },
    {
     "name": "stderr",
     "output_type": "stream",
     "text": [
      " 68%|██████▊   | 642/938 [00:47<00:21, 13.46it/s]"
     ]
    },
    {
     "name": "stdout",
     "output_type": "stream",
     "text": [
      "mean_log_p,shapetorch.Size([]), -232.88414001464844\n",
      "mean_log_q.shapetorch.Size([]), -50.82326889038086\n",
      "mean_log_p,shapetorch.Size([]), -224.48910522460938\n",
      "mean_log_q.shapetorch.Size([]), -50.38304901123047\n",
      "mean_log_p,shapetorch.Size([]), -228.13912963867188\n",
      "mean_log_q.shapetorch.Size([]), -50.0818977355957\n"
     ]
    },
    {
     "name": "stderr",
     "output_type": "stream",
     "text": [
      " 69%|██████▉   | 646/938 [00:47<00:21, 13.42it/s]"
     ]
    },
    {
     "name": "stdout",
     "output_type": "stream",
     "text": [
      "mean_log_p,shapetorch.Size([]), -220.03289794921875\n",
      "mean_log_q.shapetorch.Size([]), -51.000083923339844\n",
      "mean_log_p,shapetorch.Size([]), -224.85617065429688\n",
      "mean_log_q.shapetorch.Size([]), -50.705509185791016\n",
      "mean_log_p,shapetorch.Size([]), -230.1669921875\n",
      "mean_log_q.shapetorch.Size([]), -50.63505554199219\n"
     ]
    },
    {
     "name": "stderr",
     "output_type": "stream",
     "text": [
      " 69%|██████▉   | 648/938 [00:47<00:21, 13.43it/s]"
     ]
    },
    {
     "name": "stdout",
     "output_type": "stream",
     "text": [
      "mean_log_p,shapetorch.Size([]), -232.74795532226562\n",
      "mean_log_q.shapetorch.Size([]), -49.969337463378906\n",
      "mean_log_p,shapetorch.Size([]), -223.61990356445312\n",
      "mean_log_q.shapetorch.Size([]), -50.43320083618164\n",
      "mean_log_p,shapetorch.Size([]), -222.27879333496094\n",
      "mean_log_q.shapetorch.Size([]), -50.50885009765625\n"
     ]
    },
    {
     "name": "stderr",
     "output_type": "stream",
     "text": [
      " 70%|██████▉   | 652/938 [00:47<00:21, 13.33it/s]"
     ]
    },
    {
     "name": "stdout",
     "output_type": "stream",
     "text": [
      "mean_log_p,shapetorch.Size([]), -227.94772338867188\n",
      "mean_log_q.shapetorch.Size([]), -50.918373107910156\n",
      "mean_log_p,shapetorch.Size([]), -220.63247680664062\n",
      "mean_log_q.shapetorch.Size([]), -50.36276626586914\n",
      "mean_log_p,shapetorch.Size([]), -221.96029663085938\n",
      "mean_log_q.shapetorch.Size([]), -49.907989501953125\n"
     ]
    },
    {
     "name": "stderr",
     "output_type": "stream",
     "text": [
      " 70%|██████▉   | 654/938 [00:48<00:21, 13.34it/s]"
     ]
    },
    {
     "name": "stdout",
     "output_type": "stream",
     "text": [
      "mean_log_p,shapetorch.Size([]), -217.54905700683594\n",
      "mean_log_q.shapetorch.Size([]), -50.13068389892578\n",
      "mean_log_p,shapetorch.Size([]), -213.4625244140625\n",
      "mean_log_q.shapetorch.Size([]), -50.82928466796875\n",
      "mean_log_p,shapetorch.Size([]), -230.603515625\n",
      "mean_log_q.shapetorch.Size([]), -50.55134201049805\n"
     ]
    },
    {
     "name": "stderr",
     "output_type": "stream",
     "text": [
      " 70%|███████   | 660/938 [00:48<00:17, 16.18it/s]"
     ]
    },
    {
     "name": "stdout",
     "output_type": "stream",
     "text": [
      "mean_log_p,shapetorch.Size([]), -225.25799560546875\n",
      "mean_log_q.shapetorch.Size([]), -50.74985122680664\n",
      "mean_log_p,shapetorch.Size([]), -229.6943817138672\n",
      "mean_log_q.shapetorch.Size([]), -50.678009033203125\n",
      "mean_log_p,shapetorch.Size([]), -232.896728515625\n",
      "mean_log_q.shapetorch.Size([]), -50.23613739013672\n"
     ]
    },
    {
     "name": "stderr",
     "output_type": "stream",
     "text": [
      " 71%|███████   | 662/938 [00:48<00:17, 15.34it/s]"
     ]
    },
    {
     "name": "stdout",
     "output_type": "stream",
     "text": [
      "mean_log_p,shapetorch.Size([]), -221.79159545898438\n",
      "mean_log_q.shapetorch.Size([]), -51.28715896606445\n",
      "mean_log_p,shapetorch.Size([]), -220.70535278320312\n",
      "mean_log_q.shapetorch.Size([]), -49.588600158691406\n",
      "mean_log_p,shapetorch.Size([]), -219.22598266601562\n",
      "mean_log_q.shapetorch.Size([]), -50.347694396972656\n"
     ]
    },
    {
     "name": "stderr",
     "output_type": "stream",
     "text": [
      " 71%|███████   | 666/938 [00:48<00:18, 14.37it/s]"
     ]
    },
    {
     "name": "stdout",
     "output_type": "stream",
     "text": [
      "mean_log_p,shapetorch.Size([]), -237.313232421875\n",
      "mean_log_q.shapetorch.Size([]), -50.64892578125\n",
      "mean_log_p,shapetorch.Size([]), -221.19281005859375\n",
      "mean_log_q.shapetorch.Size([]), -51.22373580932617\n",
      "mean_log_p,shapetorch.Size([]), -226.2975616455078\n",
      "mean_log_q.shapetorch.Size([]), -50.29464340209961\n"
     ]
    },
    {
     "name": "stderr",
     "output_type": "stream",
     "text": [
      " 71%|███████   | 668/938 [00:48<00:19, 14.05it/s]"
     ]
    },
    {
     "name": "stdout",
     "output_type": "stream",
     "text": [
      "mean_log_p,shapetorch.Size([]), -224.27032470703125\n",
      "mean_log_q.shapetorch.Size([]), -51.03998947143555\n",
      "mean_log_p,shapetorch.Size([]), -235.48046875\n",
      "mean_log_q.shapetorch.Size([]), -50.126373291015625\n",
      "mean_log_p,shapetorch.Size([]), -231.79702758789062\n",
      "mean_log_q.shapetorch.Size([]), -50.46697235107422\n"
     ]
    },
    {
     "name": "stderr",
     "output_type": "stream",
     "text": [
      " 72%|███████▏  | 672/938 [00:49<00:19, 13.72it/s]"
     ]
    },
    {
     "name": "stdout",
     "output_type": "stream",
     "text": [
      "mean_log_p,shapetorch.Size([]), -228.51675415039062\n",
      "mean_log_q.shapetorch.Size([]), -51.205162048339844\n",
      "mean_log_p,shapetorch.Size([]), -221.2792205810547\n",
      "mean_log_q.shapetorch.Size([]), -50.58945083618164\n",
      "mean_log_p,shapetorch.Size([]), -232.58493041992188\n",
      "mean_log_q.shapetorch.Size([]), -50.708229064941406\n"
     ]
    },
    {
     "name": "stderr",
     "output_type": "stream",
     "text": [
      " 72%|███████▏  | 674/938 [00:49<00:19, 13.66it/s]"
     ]
    },
    {
     "name": "stdout",
     "output_type": "stream",
     "text": [
      "mean_log_p,shapetorch.Size([]), -220.99752807617188\n",
      "mean_log_q.shapetorch.Size([]), -49.91804122924805\n",
      "mean_log_p,shapetorch.Size([]), -223.51962280273438\n",
      "mean_log_q.shapetorch.Size([]), -50.435325622558594\n",
      "mean_log_p,shapetorch.Size([]), -222.99066162109375\n",
      "mean_log_q.shapetorch.Size([]), -50.42881393432617\n"
     ]
    },
    {
     "name": "stderr",
     "output_type": "stream",
     "text": [
      " 72%|███████▏  | 678/938 [00:49<00:19, 13.57it/s]"
     ]
    },
    {
     "name": "stdout",
     "output_type": "stream",
     "text": [
      "mean_log_p,shapetorch.Size([]), -219.67730712890625\n",
      "mean_log_q.shapetorch.Size([]), -50.989906311035156\n",
      "mean_log_p,shapetorch.Size([]), -212.51084899902344\n",
      "mean_log_q.shapetorch.Size([]), -50.23332977294922\n",
      "mean_log_p,shapetorch.Size([]), -216.6021270751953\n",
      "mean_log_q.shapetorch.Size([]), -50.674171447753906\n"
     ]
    },
    {
     "name": "stderr",
     "output_type": "stream",
     "text": [
      " 72%|███████▏  | 680/938 [00:49<00:19, 13.52it/s]"
     ]
    },
    {
     "name": "stdout",
     "output_type": "stream",
     "text": [
      "mean_log_p,shapetorch.Size([]), -213.61207580566406\n",
      "mean_log_q.shapetorch.Size([]), -50.4532356262207\n",
      "mean_log_p,shapetorch.Size([]), -220.07577514648438\n",
      "mean_log_q.shapetorch.Size([]), -49.96507263183594\n",
      "mean_log_p,shapetorch.Size([]), -219.2542724609375\n",
      "mean_log_q.shapetorch.Size([]), -49.73802185058594\n"
     ]
    },
    {
     "name": "stderr",
     "output_type": "stream",
     "text": [
      " 73%|███████▎  | 684/938 [00:50<00:18, 13.49it/s]"
     ]
    },
    {
     "name": "stdout",
     "output_type": "stream",
     "text": [
      "mean_log_p,shapetorch.Size([]), -229.84397888183594\n",
      "mean_log_q.shapetorch.Size([]), -50.02397155761719\n",
      "mean_log_p,shapetorch.Size([]), -220.5550537109375\n",
      "mean_log_q.shapetorch.Size([]), -49.53468322753906\n",
      "mean_log_p,shapetorch.Size([]), -223.9735107421875\n",
      "mean_log_q.shapetorch.Size([]), -50.6269645690918\n"
     ]
    },
    {
     "name": "stderr",
     "output_type": "stream",
     "text": [
      " 73%|███████▎  | 686/938 [00:50<00:18, 13.49it/s]"
     ]
    },
    {
     "name": "stdout",
     "output_type": "stream",
     "text": [
      "mean_log_p,shapetorch.Size([]), -219.09727478027344\n",
      "mean_log_q.shapetorch.Size([]), -49.84305953979492\n",
      "mean_log_p,shapetorch.Size([]), -216.6970977783203\n",
      "mean_log_q.shapetorch.Size([]), -50.23208999633789\n",
      "mean_log_p,shapetorch.Size([]), -221.70297241210938\n",
      "mean_log_q.shapetorch.Size([]), -50.23331069946289\n"
     ]
    },
    {
     "name": "stderr",
     "output_type": "stream",
     "text": [
      " 74%|███████▎  | 690/938 [00:50<00:18, 13.47it/s]"
     ]
    },
    {
     "name": "stdout",
     "output_type": "stream",
     "text": [
      "mean_log_p,shapetorch.Size([]), -229.19256591796875\n",
      "mean_log_q.shapetorch.Size([]), -49.50895690917969\n",
      "mean_log_p,shapetorch.Size([]), -214.3612823486328\n",
      "mean_log_q.shapetorch.Size([]), -50.13739776611328\n",
      "mean_log_p,shapetorch.Size([]), -219.83419799804688\n",
      "mean_log_q.shapetorch.Size([]), -49.75386428833008\n"
     ]
    },
    {
     "name": "stderr",
     "output_type": "stream",
     "text": [
      " 74%|███████▍  | 692/938 [00:50<00:18, 13.48it/s]"
     ]
    },
    {
     "name": "stdout",
     "output_type": "stream",
     "text": [
      "mean_log_p,shapetorch.Size([]), -212.63824462890625\n",
      "mean_log_q.shapetorch.Size([]), -48.681365966796875\n",
      "mean_log_p,shapetorch.Size([]), -212.0834503173828\n",
      "mean_log_q.shapetorch.Size([]), -49.24386978149414\n",
      "mean_log_p,shapetorch.Size([]), -223.85716247558594\n",
      "mean_log_q.shapetorch.Size([]), -49.625396728515625\n"
     ]
    },
    {
     "name": "stderr",
     "output_type": "stream",
     "text": [
      " 74%|███████▍  | 696/938 [00:51<00:17, 13.48it/s]"
     ]
    },
    {
     "name": "stdout",
     "output_type": "stream",
     "text": [
      "mean_log_p,shapetorch.Size([]), -222.64649963378906\n",
      "mean_log_q.shapetorch.Size([]), -50.45887756347656\n",
      "mean_log_p,shapetorch.Size([]), -223.79429626464844\n",
      "mean_log_q.shapetorch.Size([]), -50.242549896240234\n",
      "mean_log_p,shapetorch.Size([]), -218.1842803955078\n",
      "mean_log_q.shapetorch.Size([]), -49.61479949951172\n"
     ]
    },
    {
     "name": "stderr",
     "output_type": "stream",
     "text": [
      " 74%|███████▍  | 698/938 [00:51<00:17, 13.47it/s]"
     ]
    },
    {
     "name": "stdout",
     "output_type": "stream",
     "text": [
      "mean_log_p,shapetorch.Size([]), -225.6417694091797\n",
      "mean_log_q.shapetorch.Size([]), -50.301177978515625\n",
      "mean_log_p,shapetorch.Size([]), -215.7313690185547\n",
      "mean_log_q.shapetorch.Size([]), -49.8245849609375\n",
      "mean_log_p,shapetorch.Size([]), -213.1143798828125\n",
      "mean_log_q.shapetorch.Size([]), -49.62569046020508\n"
     ]
    },
    {
     "name": "stderr",
     "output_type": "stream",
     "text": [
      " 75%|███████▍  | 702/938 [00:51<00:17, 13.46it/s]"
     ]
    },
    {
     "name": "stdout",
     "output_type": "stream",
     "text": [
      "mean_log_p,shapetorch.Size([]), -221.72662353515625\n",
      "mean_log_q.shapetorch.Size([]), -49.31262969970703\n",
      "mean_log_p,shapetorch.Size([]), -226.08563232421875\n",
      "mean_log_q.shapetorch.Size([]), -49.3350830078125\n",
      "mean_log_p,shapetorch.Size([]), -217.3736572265625\n",
      "mean_log_q.shapetorch.Size([]), -49.479190826416016\n"
     ]
    },
    {
     "name": "stderr",
     "output_type": "stream",
     "text": [
      " 75%|███████▌  | 704/938 [00:51<00:17, 13.45it/s]"
     ]
    },
    {
     "name": "stdout",
     "output_type": "stream",
     "text": [
      "mean_log_p,shapetorch.Size([]), -216.989501953125\n",
      "mean_log_q.shapetorch.Size([]), -49.47018814086914\n",
      "mean_log_p,shapetorch.Size([]), -220.62576293945312\n",
      "mean_log_q.shapetorch.Size([]), -49.932777404785156\n",
      "mean_log_p,shapetorch.Size([]), -221.28482055664062\n",
      "mean_log_q.shapetorch.Size([]), -49.350250244140625\n"
     ]
    },
    {
     "name": "stderr",
     "output_type": "stream",
     "text": [
      " 76%|███████▌  | 710/938 [00:51<00:13, 17.31it/s]"
     ]
    },
    {
     "name": "stdout",
     "output_type": "stream",
     "text": [
      "mean_log_p,shapetorch.Size([]), -217.9033203125\n",
      "mean_log_q.shapetorch.Size([]), -50.25923156738281\n",
      "mean_log_p,shapetorch.Size([]), -218.81573486328125\n",
      "mean_log_q.shapetorch.Size([]), -49.94215393066406\n",
      "mean_log_p,shapetorch.Size([]), -218.16796875\n",
      "mean_log_q.shapetorch.Size([]), -50.316505432128906\n"
     ]
    },
    {
     "name": "stderr",
     "output_type": "stream",
     "text": [
      " 76%|███████▌  | 712/938 [00:52<00:13, 16.18it/s]"
     ]
    },
    {
     "name": "stdout",
     "output_type": "stream",
     "text": [
      "mean_log_p,shapetorch.Size([]), -211.84967041015625\n",
      "mean_log_q.shapetorch.Size([]), -50.048431396484375\n",
      "mean_log_p,shapetorch.Size([]), -211.01864624023438\n",
      "mean_log_q.shapetorch.Size([]), -49.775726318359375\n",
      "mean_log_p,shapetorch.Size([]), -223.5442352294922\n",
      "mean_log_q.shapetorch.Size([]), -49.83028030395508\n"
     ]
    },
    {
     "name": "stderr",
     "output_type": "stream",
     "text": [
      " 76%|███████▋  | 716/938 [00:52<00:15, 14.75it/s]"
     ]
    },
    {
     "name": "stdout",
     "output_type": "stream",
     "text": [
      "mean_log_p,shapetorch.Size([]), -215.4564208984375\n",
      "mean_log_q.shapetorch.Size([]), -49.806060791015625\n",
      "mean_log_p,shapetorch.Size([]), -216.93746948242188\n",
      "mean_log_q.shapetorch.Size([]), -49.84354782104492\n",
      "mean_log_p,shapetorch.Size([]), -209.63552856445312\n",
      "mean_log_q.shapetorch.Size([]), -49.065826416015625\n"
     ]
    },
    {
     "name": "stderr",
     "output_type": "stream",
     "text": [
      " 77%|███████▋  | 718/938 [00:52<00:15, 14.32it/s]"
     ]
    },
    {
     "name": "stdout",
     "output_type": "stream",
     "text": [
      "mean_log_p,shapetorch.Size([]), -220.35284423828125\n",
      "mean_log_q.shapetorch.Size([]), -49.767696380615234\n",
      "mean_log_p,shapetorch.Size([]), -215.00112915039062\n",
      "mean_log_q.shapetorch.Size([]), -49.622528076171875\n",
      "mean_log_p,shapetorch.Size([]), -221.74960327148438\n",
      "mean_log_q.shapetorch.Size([]), -48.55546569824219\n"
     ]
    },
    {
     "name": "stderr",
     "output_type": "stream",
     "text": [
      " 77%|███████▋  | 722/938 [00:52<00:15, 13.84it/s]"
     ]
    },
    {
     "name": "stdout",
     "output_type": "stream",
     "text": [
      "mean_log_p,shapetorch.Size([]), -212.26638793945312\n",
      "mean_log_q.shapetorch.Size([]), -49.494930267333984\n",
      "mean_log_p,shapetorch.Size([]), -206.656494140625\n",
      "mean_log_q.shapetorch.Size([]), -49.88011169433594\n",
      "mean_log_p,shapetorch.Size([]), -224.28158569335938\n",
      "mean_log_q.shapetorch.Size([]), -49.432212829589844\n"
     ]
    },
    {
     "name": "stderr",
     "output_type": "stream",
     "text": [
      " 77%|███████▋  | 724/938 [00:52<00:15, 13.63it/s]"
     ]
    },
    {
     "name": "stdout",
     "output_type": "stream",
     "text": [
      "mean_log_p,shapetorch.Size([]), -216.66921997070312\n",
      "mean_log_q.shapetorch.Size([]), -49.54977798461914\n",
      "mean_log_p,shapetorch.Size([]), -223.11184692382812\n",
      "mean_log_q.shapetorch.Size([]), -50.55645751953125\n",
      "mean_log_p,shapetorch.Size([]), -213.81410217285156\n",
      "mean_log_q.shapetorch.Size([]), -49.929569244384766\n"
     ]
    },
    {
     "name": "stderr",
     "output_type": "stream",
     "text": [
      " 78%|███████▊  | 728/938 [00:53<00:15, 13.51it/s]"
     ]
    },
    {
     "name": "stdout",
     "output_type": "stream",
     "text": [
      "mean_log_p,shapetorch.Size([]), -220.74594116210938\n",
      "mean_log_q.shapetorch.Size([]), -50.50952911376953\n",
      "mean_log_p,shapetorch.Size([]), -227.18386840820312\n",
      "mean_log_q.shapetorch.Size([]), -50.06956100463867\n",
      "mean_log_p,shapetorch.Size([]), -206.4231719970703\n",
      "mean_log_q.shapetorch.Size([]), -49.83112335205078\n"
     ]
    },
    {
     "name": "stderr",
     "output_type": "stream",
     "text": [
      " 78%|███████▊  | 730/938 [00:53<00:15, 13.47it/s]"
     ]
    },
    {
     "name": "stdout",
     "output_type": "stream",
     "text": [
      "mean_log_p,shapetorch.Size([]), -214.21539306640625\n",
      "mean_log_q.shapetorch.Size([]), -49.53547668457031\n",
      "mean_log_p,shapetorch.Size([]), -209.02691650390625\n",
      "mean_log_q.shapetorch.Size([]), -50.0830078125\n",
      "mean_log_p,shapetorch.Size([]), -214.43569946289062\n",
      "mean_log_q.shapetorch.Size([]), -49.39663314819336\n"
     ]
    },
    {
     "name": "stderr",
     "output_type": "stream",
     "text": [
      " 78%|███████▊  | 734/938 [00:53<00:15, 13.44it/s]"
     ]
    },
    {
     "name": "stdout",
     "output_type": "stream",
     "text": [
      "mean_log_p,shapetorch.Size([]), -213.8186798095703\n",
      "mean_log_q.shapetorch.Size([]), -49.40726852416992\n",
      "mean_log_p,shapetorch.Size([]), -216.30892944335938\n",
      "mean_log_q.shapetorch.Size([]), -49.394256591796875\n",
      "mean_log_p,shapetorch.Size([]), -207.1055908203125\n",
      "mean_log_q.shapetorch.Size([]), -49.04093933105469\n"
     ]
    },
    {
     "name": "stderr",
     "output_type": "stream",
     "text": [
      " 78%|███████▊  | 736/938 [00:53<00:15, 13.44it/s]"
     ]
    },
    {
     "name": "stdout",
     "output_type": "stream",
     "text": [
      "mean_log_p,shapetorch.Size([]), -210.89576721191406\n",
      "mean_log_q.shapetorch.Size([]), -49.25763702392578\n",
      "mean_log_p,shapetorch.Size([]), -217.820068359375\n",
      "mean_log_q.shapetorch.Size([]), -47.864959716796875\n",
      "mean_log_p,shapetorch.Size([]), -211.9468994140625\n",
      "mean_log_q.shapetorch.Size([]), -49.495121002197266\n"
     ]
    },
    {
     "name": "stderr",
     "output_type": "stream",
     "text": [
      " 79%|███████▉  | 740/938 [00:54<00:14, 13.45it/s]"
     ]
    },
    {
     "name": "stdout",
     "output_type": "stream",
     "text": [
      "mean_log_p,shapetorch.Size([]), -209.80723571777344\n",
      "mean_log_q.shapetorch.Size([]), -49.23857116699219\n",
      "mean_log_p,shapetorch.Size([]), -219.77493286132812\n",
      "mean_log_q.shapetorch.Size([]), -49.135379791259766\n",
      "mean_log_p,shapetorch.Size([]), -221.48013305664062\n",
      "mean_log_q.shapetorch.Size([]), -49.306793212890625\n"
     ]
    },
    {
     "name": "stderr",
     "output_type": "stream",
     "text": [
      " 79%|███████▉  | 742/938 [00:54<00:14, 13.34it/s]"
     ]
    },
    {
     "name": "stdout",
     "output_type": "stream",
     "text": [
      "mean_log_p,shapetorch.Size([]), -218.57652282714844\n",
      "mean_log_q.shapetorch.Size([]), -48.88774108886719\n",
      "mean_log_p,shapetorch.Size([]), -219.26187133789062\n",
      "mean_log_q.shapetorch.Size([]), -50.17371368408203\n",
      "mean_log_p,shapetorch.Size([]), -212.31356811523438\n",
      "mean_log_q.shapetorch.Size([]), -49.69092559814453\n"
     ]
    },
    {
     "name": "stderr",
     "output_type": "stream",
     "text": [
      " 80%|███████▉  | 746/938 [00:54<00:14, 13.29it/s]"
     ]
    },
    {
     "name": "stdout",
     "output_type": "stream",
     "text": [
      "mean_log_p,shapetorch.Size([]), -213.66098022460938\n",
      "mean_log_q.shapetorch.Size([]), -49.224613189697266\n",
      "mean_log_p,shapetorch.Size([]), -211.7296600341797\n",
      "mean_log_q.shapetorch.Size([]), -49.62421798706055\n",
      "mean_log_p,shapetorch.Size([]), -207.53172302246094\n",
      "mean_log_q.shapetorch.Size([]), -49.540138244628906\n"
     ]
    },
    {
     "name": "stderr",
     "output_type": "stream",
     "text": [
      " 80%|███████▉  | 748/938 [00:54<00:14, 13.32it/s]"
     ]
    },
    {
     "name": "stdout",
     "output_type": "stream",
     "text": [
      "mean_log_p,shapetorch.Size([]), -219.46316528320312\n",
      "mean_log_q.shapetorch.Size([]), -49.299476623535156\n",
      "mean_log_p,shapetorch.Size([]), -208.91314697265625\n",
      "mean_log_q.shapetorch.Size([]), -49.526756286621094\n",
      "mean_log_p,shapetorch.Size([]), -217.21800231933594\n",
      "mean_log_q.shapetorch.Size([]), -50.682037353515625\n"
     ]
    },
    {
     "name": "stderr",
     "output_type": "stream",
     "text": [
      " 80%|████████  | 752/938 [00:55<00:13, 13.33it/s]"
     ]
    },
    {
     "name": "stdout",
     "output_type": "stream",
     "text": [
      "mean_log_p,shapetorch.Size([]), -216.19772338867188\n",
      "mean_log_q.shapetorch.Size([]), -49.18621826171875\n",
      "mean_log_p,shapetorch.Size([]), -210.51626586914062\n",
      "mean_log_q.shapetorch.Size([]), -49.270606994628906\n",
      "mean_log_p,shapetorch.Size([]), -215.8231201171875\n",
      "mean_log_q.shapetorch.Size([]), -49.388427734375\n"
     ]
    },
    {
     "name": "stderr",
     "output_type": "stream",
     "text": [
      " 80%|████████  | 754/938 [00:55<00:13, 13.35it/s]"
     ]
    },
    {
     "name": "stdout",
     "output_type": "stream",
     "text": [
      "mean_log_p,shapetorch.Size([]), -211.42787170410156\n",
      "mean_log_q.shapetorch.Size([]), -49.17708206176758\n",
      "mean_log_p,shapetorch.Size([]), -215.67027282714844\n",
      "mean_log_q.shapetorch.Size([]), -49.09228515625\n",
      "mean_log_p,shapetorch.Size([]), -217.42166137695312\n",
      "mean_log_q.shapetorch.Size([]), -48.656715393066406\n"
     ]
    },
    {
     "name": "stderr",
     "output_type": "stream",
     "text": [
      " 81%|████████  | 758/938 [00:55<00:13, 13.38it/s]"
     ]
    },
    {
     "name": "stdout",
     "output_type": "stream",
     "text": [
      "mean_log_p,shapetorch.Size([]), -223.74313354492188\n",
      "mean_log_q.shapetorch.Size([]), -49.45564651489258\n",
      "mean_log_p,shapetorch.Size([]), -210.14170837402344\n",
      "mean_log_q.shapetorch.Size([]), -47.635902404785156\n",
      "mean_log_p,shapetorch.Size([]), -227.2898712158203\n",
      "mean_log_q.shapetorch.Size([]), -48.59540939331055\n"
     ]
    },
    {
     "name": "stderr",
     "output_type": "stream",
     "text": [
      " 81%|████████  | 760/938 [00:55<00:13, 13.41it/s]"
     ]
    },
    {
     "name": "stdout",
     "output_type": "stream",
     "text": [
      "mean_log_p,shapetorch.Size([]), -208.46676635742188\n",
      "mean_log_q.shapetorch.Size([]), -49.40114212036133\n",
      "mean_log_p,shapetorch.Size([]), -215.7551727294922\n",
      "mean_log_q.shapetorch.Size([]), -50.010826110839844\n",
      "mean_log_p,shapetorch.Size([]), -225.34327697753906\n",
      "mean_log_q.shapetorch.Size([]), -49.06731414794922\n"
     ]
    },
    {
     "name": "stderr",
     "output_type": "stream",
     "text": [
      " 82%|████████▏ | 766/938 [00:55<00:10, 16.21it/s]"
     ]
    },
    {
     "name": "stdout",
     "output_type": "stream",
     "text": [
      "mean_log_p,shapetorch.Size([]), -212.55154418945312\n",
      "mean_log_q.shapetorch.Size([]), -49.4188232421875\n",
      "mean_log_p,shapetorch.Size([]), -213.29888916015625\n",
      "mean_log_q.shapetorch.Size([]), -50.0318489074707\n",
      "mean_log_p,shapetorch.Size([]), -220.08331298828125\n",
      "mean_log_q.shapetorch.Size([]), -49.73525619506836\n"
     ]
    },
    {
     "name": "stderr",
     "output_type": "stream",
     "text": [
      " 82%|████████▏ | 768/938 [00:56<00:11, 15.37it/s]"
     ]
    },
    {
     "name": "stdout",
     "output_type": "stream",
     "text": [
      "mean_log_p,shapetorch.Size([]), -204.6524658203125\n",
      "mean_log_q.shapetorch.Size([]), -49.424232482910156\n",
      "mean_log_p,shapetorch.Size([]), -215.54318237304688\n",
      "mean_log_q.shapetorch.Size([]), -49.3940544128418\n",
      "mean_log_p,shapetorch.Size([]), -215.8455810546875\n",
      "mean_log_q.shapetorch.Size([]), -50.02909851074219\n"
     ]
    },
    {
     "name": "stderr",
     "output_type": "stream",
     "text": [
      " 82%|████████▏ | 772/938 [00:56<00:11, 14.38it/s]"
     ]
    },
    {
     "name": "stdout",
     "output_type": "stream",
     "text": [
      "mean_log_p,shapetorch.Size([]), -212.30667114257812\n",
      "mean_log_q.shapetorch.Size([]), -49.142860412597656\n",
      "mean_log_p,shapetorch.Size([]), -213.90145874023438\n",
      "mean_log_q.shapetorch.Size([]), -49.29914855957031\n",
      "mean_log_p,shapetorch.Size([]), -203.93234252929688\n",
      "mean_log_q.shapetorch.Size([]), -48.42082595825195\n"
     ]
    },
    {
     "name": "stderr",
     "output_type": "stream",
     "text": [
      " 83%|████████▎ | 774/938 [00:56<00:11, 14.11it/s]"
     ]
    },
    {
     "name": "stdout",
     "output_type": "stream",
     "text": [
      "mean_log_p,shapetorch.Size([]), -209.76181030273438\n",
      "mean_log_q.shapetorch.Size([]), -49.288272857666016\n",
      "mean_log_p,shapetorch.Size([]), -215.70797729492188\n",
      "mean_log_q.shapetorch.Size([]), -48.901519775390625\n",
      "mean_log_p,shapetorch.Size([]), -209.29443359375\n",
      "mean_log_q.shapetorch.Size([]), -48.825531005859375\n"
     ]
    },
    {
     "name": "stderr",
     "output_type": "stream",
     "text": [
      " 83%|████████▎ | 778/938 [00:56<00:11, 13.76it/s]"
     ]
    },
    {
     "name": "stdout",
     "output_type": "stream",
     "text": [
      "mean_log_p,shapetorch.Size([]), -214.42678833007812\n",
      "mean_log_q.shapetorch.Size([]), -48.658206939697266\n",
      "mean_log_p,shapetorch.Size([]), -209.3525390625\n",
      "mean_log_q.shapetorch.Size([]), -48.78734588623047\n",
      "mean_log_p,shapetorch.Size([]), -202.57858276367188\n",
      "mean_log_q.shapetorch.Size([]), -48.26738739013672\n"
     ]
    },
    {
     "name": "stderr",
     "output_type": "stream",
     "text": [
      " 83%|████████▎ | 780/938 [00:57<00:11, 13.65it/s]"
     ]
    },
    {
     "name": "stdout",
     "output_type": "stream",
     "text": [
      "mean_log_p,shapetorch.Size([]), -207.72164916992188\n",
      "mean_log_q.shapetorch.Size([]), -49.69200134277344\n",
      "mean_log_p,shapetorch.Size([]), -211.43746948242188\n",
      "mean_log_q.shapetorch.Size([]), -48.91360092163086\n",
      "mean_log_p,shapetorch.Size([]), -211.94961547851562\n",
      "mean_log_q.shapetorch.Size([]), -48.7900390625\n"
     ]
    },
    {
     "name": "stderr",
     "output_type": "stream",
     "text": [
      " 84%|████████▎ | 784/938 [00:57<00:11, 13.54it/s]"
     ]
    },
    {
     "name": "stdout",
     "output_type": "stream",
     "text": [
      "mean_log_p,shapetorch.Size([]), -213.117431640625\n",
      "mean_log_q.shapetorch.Size([]), -49.20978927612305\n",
      "mean_log_p,shapetorch.Size([]), -207.71371459960938\n",
      "mean_log_q.shapetorch.Size([]), -49.52726745605469\n",
      "mean_log_p,shapetorch.Size([]), -211.1490936279297\n",
      "mean_log_q.shapetorch.Size([]), -48.85740661621094\n"
     ]
    },
    {
     "name": "stderr",
     "output_type": "stream",
     "text": [
      " 84%|████████▍ | 786/938 [00:57<00:11, 13.50it/s]"
     ]
    },
    {
     "name": "stdout",
     "output_type": "stream",
     "text": [
      "mean_log_p,shapetorch.Size([]), -217.26779174804688\n",
      "mean_log_q.shapetorch.Size([]), -49.20914077758789\n",
      "mean_log_p,shapetorch.Size([]), -208.65585327148438\n",
      "mean_log_q.shapetorch.Size([]), -48.962646484375\n",
      "mean_log_p,shapetorch.Size([]), -204.32632446289062\n",
      "mean_log_q.shapetorch.Size([]), -48.412139892578125\n"
     ]
    },
    {
     "name": "stderr",
     "output_type": "stream",
     "text": [
      " 84%|████████▍ | 790/938 [00:57<00:11, 13.45it/s]"
     ]
    },
    {
     "name": "stdout",
     "output_type": "stream",
     "text": [
      "mean_log_p,shapetorch.Size([]), -229.42320251464844\n",
      "mean_log_q.shapetorch.Size([]), -48.913970947265625\n",
      "mean_log_p,shapetorch.Size([]), -217.00270080566406\n",
      "mean_log_q.shapetorch.Size([]), -48.67737579345703\n",
      "mean_log_p,shapetorch.Size([]), -210.8604736328125\n",
      "mean_log_q.shapetorch.Size([]), -48.78008270263672\n"
     ]
    },
    {
     "name": "stderr",
     "output_type": "stream",
     "text": [
      " 84%|████████▍ | 792/938 [00:57<00:10, 13.37it/s]"
     ]
    },
    {
     "name": "stdout",
     "output_type": "stream",
     "text": [
      "mean_log_p,shapetorch.Size([]), -208.83779907226562\n",
      "mean_log_q.shapetorch.Size([]), -49.573951721191406\n",
      "mean_log_p,shapetorch.Size([]), -211.36105346679688\n",
      "mean_log_q.shapetorch.Size([]), -48.68225860595703\n",
      "mean_log_p,shapetorch.Size([]), -209.19024658203125\n",
      "mean_log_q.shapetorch.Size([]), -48.40150451660156\n"
     ]
    },
    {
     "name": "stderr",
     "output_type": "stream",
     "text": [
      " 85%|████████▍ | 796/938 [00:58<00:10, 13.38it/s]"
     ]
    },
    {
     "name": "stdout",
     "output_type": "stream",
     "text": [
      "mean_log_p,shapetorch.Size([]), -210.9850311279297\n",
      "mean_log_q.shapetorch.Size([]), -48.37845230102539\n",
      "mean_log_p,shapetorch.Size([]), -215.99896240234375\n",
      "mean_log_q.shapetorch.Size([]), -48.2858772277832\n",
      "mean_log_p,shapetorch.Size([]), -210.26901245117188\n",
      "mean_log_q.shapetorch.Size([]), -48.784305572509766\n"
     ]
    },
    {
     "name": "stderr",
     "output_type": "stream",
     "text": [
      " 85%|████████▌ | 798/938 [00:58<00:10, 13.39it/s]"
     ]
    },
    {
     "name": "stdout",
     "output_type": "stream",
     "text": [
      "mean_log_p,shapetorch.Size([]), -222.72198486328125\n",
      "mean_log_q.shapetorch.Size([]), -48.29973602294922\n",
      "mean_log_p,shapetorch.Size([]), -207.50587463378906\n",
      "mean_log_q.shapetorch.Size([]), -49.08146667480469\n",
      "mean_log_p,shapetorch.Size([]), -206.12823486328125\n",
      "mean_log_q.shapetorch.Size([]), -48.9019775390625\n"
     ]
    },
    {
     "name": "stderr",
     "output_type": "stream",
     "text": [
      " 86%|████████▌ | 802/938 [00:58<00:10, 13.40it/s]"
     ]
    },
    {
     "name": "stdout",
     "output_type": "stream",
     "text": [
      "mean_log_p,shapetorch.Size([]), -212.96910095214844\n",
      "mean_log_q.shapetorch.Size([]), -48.74066162109375\n",
      "mean_log_p,shapetorch.Size([]), -207.1671142578125\n",
      "mean_log_q.shapetorch.Size([]), -49.13584899902344\n",
      "mean_log_p,shapetorch.Size([]), -211.44442749023438\n",
      "mean_log_q.shapetorch.Size([]), -48.96730422973633\n"
     ]
    },
    {
     "name": "stderr",
     "output_type": "stream",
     "text": [
      " 86%|████████▌ | 804/938 [00:58<00:09, 13.42it/s]"
     ]
    },
    {
     "name": "stdout",
     "output_type": "stream",
     "text": [
      "mean_log_p,shapetorch.Size([]), -214.0506591796875\n",
      "mean_log_q.shapetorch.Size([]), -48.88993835449219\n",
      "mean_log_p,shapetorch.Size([]), -211.939208984375\n",
      "mean_log_q.shapetorch.Size([]), -48.55324172973633\n",
      "mean_log_p,shapetorch.Size([]), -204.89254760742188\n",
      "mean_log_q.shapetorch.Size([]), -48.39449691772461\n"
     ]
    },
    {
     "name": "stderr",
     "output_type": "stream",
     "text": [
      " 86%|████████▌ | 808/938 [00:59<00:09, 13.45it/s]"
     ]
    },
    {
     "name": "stdout",
     "output_type": "stream",
     "text": [
      "mean_log_p,shapetorch.Size([]), -208.96571350097656\n",
      "mean_log_q.shapetorch.Size([]), -48.70198440551758\n",
      "mean_log_p,shapetorch.Size([]), -214.47207641601562\n",
      "mean_log_q.shapetorch.Size([]), -49.06986999511719\n",
      "mean_log_p,shapetorch.Size([]), -209.94554138183594\n",
      "mean_log_q.shapetorch.Size([]), -49.1337890625\n"
     ]
    },
    {
     "name": "stderr",
     "output_type": "stream",
     "text": [
      " 86%|████████▋ | 810/938 [00:59<00:09, 13.45it/s]"
     ]
    },
    {
     "name": "stdout",
     "output_type": "stream",
     "text": [
      "mean_log_p,shapetorch.Size([]), -205.54925537109375\n",
      "mean_log_q.shapetorch.Size([]), -48.609580993652344\n",
      "mean_log_p,shapetorch.Size([]), -207.76318359375\n",
      "mean_log_q.shapetorch.Size([]), -48.108673095703125\n",
      "mean_log_p,shapetorch.Size([]), -209.9879608154297\n",
      "mean_log_q.shapetorch.Size([]), -48.78211212158203\n"
     ]
    },
    {
     "name": "stderr",
     "output_type": "stream",
     "text": [
      " 87%|████████▋ | 814/938 [00:59<00:09, 13.47it/s]"
     ]
    },
    {
     "name": "stdout",
     "output_type": "stream",
     "text": [
      "mean_log_p,shapetorch.Size([]), -216.00816345214844\n",
      "mean_log_q.shapetorch.Size([]), -48.06533432006836\n",
      "mean_log_p,shapetorch.Size([]), -211.85145568847656\n",
      "mean_log_q.shapetorch.Size([]), -48.92140579223633\n",
      "mean_log_p,shapetorch.Size([]), -205.9427947998047\n",
      "mean_log_q.shapetorch.Size([]), -48.98966598510742\n"
     ]
    },
    {
     "name": "stderr",
     "output_type": "stream",
     "text": [
      " 87%|████████▋ | 816/938 [00:59<00:09, 13.45it/s]"
     ]
    },
    {
     "name": "stdout",
     "output_type": "stream",
     "text": [
      "mean_log_p,shapetorch.Size([]), -210.02301025390625\n",
      "mean_log_q.shapetorch.Size([]), -48.161354064941406\n",
      "mean_log_p,shapetorch.Size([]), -207.1458282470703\n",
      "mean_log_q.shapetorch.Size([]), -48.479248046875\n",
      "mean_log_p,shapetorch.Size([]), -211.30197143554688\n",
      "mean_log_q.shapetorch.Size([]), -48.30353927612305\n"
     ]
    },
    {
     "name": "stderr",
     "output_type": "stream",
     "text": [
      " 88%|████████▊ | 822/938 [01:00<00:07, 16.27it/s]"
     ]
    },
    {
     "name": "stdout",
     "output_type": "stream",
     "text": [
      "mean_log_p,shapetorch.Size([]), -201.94284057617188\n",
      "mean_log_q.shapetorch.Size([]), -48.709537506103516\n",
      "mean_log_p,shapetorch.Size([]), -203.2087860107422\n",
      "mean_log_q.shapetorch.Size([]), -49.71807861328125\n",
      "mean_log_p,shapetorch.Size([]), -211.422607421875\n",
      "mean_log_q.shapetorch.Size([]), -48.976661682128906\n"
     ]
    },
    {
     "name": "stderr",
     "output_type": "stream",
     "text": [
      " 88%|████████▊ | 824/938 [01:00<00:07, 15.41it/s]"
     ]
    },
    {
     "name": "stdout",
     "output_type": "stream",
     "text": [
      "mean_log_p,shapetorch.Size([]), -210.7779998779297\n",
      "mean_log_q.shapetorch.Size([]), -49.60084533691406\n",
      "mean_log_p,shapetorch.Size([]), -204.73562622070312\n",
      "mean_log_q.shapetorch.Size([]), -49.72712326049805\n",
      "mean_log_p,shapetorch.Size([]), -206.9491424560547\n",
      "mean_log_q.shapetorch.Size([]), -49.09811782836914\n"
     ]
    },
    {
     "name": "stderr",
     "output_type": "stream",
     "text": [
      " 88%|████████▊ | 828/938 [01:00<00:07, 14.41it/s]"
     ]
    },
    {
     "name": "stdout",
     "output_type": "stream",
     "text": [
      "mean_log_p,shapetorch.Size([]), -212.97035217285156\n",
      "mean_log_q.shapetorch.Size([]), -48.78044891357422\n",
      "mean_log_p,shapetorch.Size([]), -203.09548950195312\n",
      "mean_log_q.shapetorch.Size([]), -48.89238739013672\n",
      "mean_log_p,shapetorch.Size([]), -205.0462646484375\n",
      "mean_log_q.shapetorch.Size([]), -48.22827911376953\n"
     ]
    },
    {
     "name": "stderr",
     "output_type": "stream",
     "text": [
      " 88%|████████▊ | 830/938 [01:00<00:07, 14.14it/s]"
     ]
    },
    {
     "name": "stdout",
     "output_type": "stream",
     "text": [
      "mean_log_p,shapetorch.Size([]), -203.89639282226562\n",
      "mean_log_q.shapetorch.Size([]), -49.28935241699219\n",
      "mean_log_p,shapetorch.Size([]), -206.55552673339844\n",
      "mean_log_q.shapetorch.Size([]), -47.746856689453125\n",
      "mean_log_p,shapetorch.Size([]), -215.54144287109375\n",
      "mean_log_q.shapetorch.Size([]), -48.87224578857422\n"
     ]
    },
    {
     "name": "stderr",
     "output_type": "stream",
     "text": [
      " 89%|████████▉ | 834/938 [01:00<00:07, 13.79it/s]"
     ]
    },
    {
     "name": "stdout",
     "output_type": "stream",
     "text": [
      "mean_log_p,shapetorch.Size([]), -203.41502380371094\n",
      "mean_log_q.shapetorch.Size([]), -48.18058776855469\n",
      "mean_log_p,shapetorch.Size([]), -207.7659149169922\n",
      "mean_log_q.shapetorch.Size([]), -48.40706253051758\n",
      "mean_log_p,shapetorch.Size([]), -208.32064819335938\n",
      "mean_log_q.shapetorch.Size([]), -49.926734924316406\n"
     ]
    },
    {
     "name": "stderr",
     "output_type": "stream",
     "text": [
      " 89%|████████▉ | 836/938 [01:01<00:07, 13.67it/s]"
     ]
    },
    {
     "name": "stdout",
     "output_type": "stream",
     "text": [
      "mean_log_p,shapetorch.Size([]), -195.8346405029297\n",
      "mean_log_q.shapetorch.Size([]), -48.86260986328125\n",
      "mean_log_p,shapetorch.Size([]), -205.7327880859375\n",
      "mean_log_q.shapetorch.Size([]), -48.39324188232422\n",
      "mean_log_p,shapetorch.Size([]), -205.92372131347656\n",
      "mean_log_q.shapetorch.Size([]), -48.92131805419922\n"
     ]
    },
    {
     "name": "stderr",
     "output_type": "stream",
     "text": [
      " 90%|████████▉ | 840/938 [01:01<00:07, 13.57it/s]"
     ]
    },
    {
     "name": "stdout",
     "output_type": "stream",
     "text": [
      "mean_log_p,shapetorch.Size([]), -208.85787963867188\n",
      "mean_log_q.shapetorch.Size([]), -49.329612731933594\n",
      "mean_log_p,shapetorch.Size([]), -207.12564086914062\n",
      "mean_log_q.shapetorch.Size([]), -48.41061019897461\n",
      "mean_log_p,shapetorch.Size([]), -200.89744567871094\n",
      "mean_log_q.shapetorch.Size([]), -48.61041259765625\n"
     ]
    },
    {
     "name": "stderr",
     "output_type": "stream",
     "text": [
      " 90%|████████▉ | 842/938 [01:01<00:07, 13.52it/s]"
     ]
    },
    {
     "name": "stdout",
     "output_type": "stream",
     "text": [
      "mean_log_p,shapetorch.Size([]), -205.2700958251953\n",
      "mean_log_q.shapetorch.Size([]), -48.598575592041016\n",
      "mean_log_p,shapetorch.Size([]), -216.8936004638672\n",
      "mean_log_q.shapetorch.Size([]), -48.11141586303711\n",
      "mean_log_p,shapetorch.Size([]), -200.2974853515625\n",
      "mean_log_q.shapetorch.Size([]), -48.85132598876953\n"
     ]
    },
    {
     "name": "stderr",
     "output_type": "stream",
     "text": [
      " 90%|█████████ | 846/938 [01:01<00:06, 13.46it/s]"
     ]
    },
    {
     "name": "stdout",
     "output_type": "stream",
     "text": [
      "mean_log_p,shapetorch.Size([]), -197.17269897460938\n",
      "mean_log_q.shapetorch.Size([]), -48.384151458740234\n",
      "mean_log_p,shapetorch.Size([]), -208.3118438720703\n",
      "mean_log_q.shapetorch.Size([]), -48.71949005126953\n",
      "mean_log_p,shapetorch.Size([]), -208.02444458007812\n",
      "mean_log_q.shapetorch.Size([]), -48.379634857177734\n"
     ]
    },
    {
     "name": "stderr",
     "output_type": "stream",
     "text": [
      " 90%|█████████ | 848/938 [01:01<00:06, 13.45it/s]"
     ]
    },
    {
     "name": "stdout",
     "output_type": "stream",
     "text": [
      "mean_log_p,shapetorch.Size([]), -212.27645874023438\n",
      "mean_log_q.shapetorch.Size([]), -49.336055755615234\n",
      "mean_log_p,shapetorch.Size([]), -203.82235717773438\n",
      "mean_log_q.shapetorch.Size([]), -48.51866912841797\n",
      "mean_log_p,shapetorch.Size([]), -208.9407958984375\n",
      "mean_log_q.shapetorch.Size([]), -48.260616302490234\n"
     ]
    },
    {
     "name": "stderr",
     "output_type": "stream",
     "text": [
      " 91%|█████████ | 852/938 [01:02<00:06, 13.43it/s]"
     ]
    },
    {
     "name": "stdout",
     "output_type": "stream",
     "text": [
      "mean_log_p,shapetorch.Size([]), -199.66278076171875\n",
      "mean_log_q.shapetorch.Size([]), -48.607269287109375\n",
      "mean_log_p,shapetorch.Size([]), -200.83335876464844\n",
      "mean_log_q.shapetorch.Size([]), -48.548255920410156\n",
      "mean_log_p,shapetorch.Size([]), -206.3202362060547\n",
      "mean_log_q.shapetorch.Size([]), -48.536014556884766\n"
     ]
    },
    {
     "name": "stderr",
     "output_type": "stream",
     "text": [
      " 91%|█████████ | 854/938 [01:02<00:06, 13.43it/s]"
     ]
    },
    {
     "name": "stdout",
     "output_type": "stream",
     "text": [
      "mean_log_p,shapetorch.Size([]), -207.96218872070312\n",
      "mean_log_q.shapetorch.Size([]), -48.49156188964844\n",
      "mean_log_p,shapetorch.Size([]), -206.0618896484375\n",
      "mean_log_q.shapetorch.Size([]), -48.78136444091797\n",
      "mean_log_p,shapetorch.Size([]), -205.3300323486328\n",
      "mean_log_q.shapetorch.Size([]), -48.343162536621094\n"
     ]
    },
    {
     "name": "stderr",
     "output_type": "stream",
     "text": [
      " 91%|█████████▏| 858/938 [01:02<00:05, 13.42it/s]"
     ]
    },
    {
     "name": "stdout",
     "output_type": "stream",
     "text": [
      "mean_log_p,shapetorch.Size([]), -201.28591918945312\n",
      "mean_log_q.shapetorch.Size([]), -48.49492263793945\n",
      "mean_log_p,shapetorch.Size([]), -209.53811645507812\n",
      "mean_log_q.shapetorch.Size([]), -48.39385986328125\n",
      "mean_log_p,shapetorch.Size([]), -204.0308837890625\n",
      "mean_log_q.shapetorch.Size([]), -48.9891242980957\n"
     ]
    },
    {
     "name": "stderr",
     "output_type": "stream",
     "text": [
      " 92%|█████████▏| 860/938 [01:02<00:05, 13.40it/s]"
     ]
    },
    {
     "name": "stdout",
     "output_type": "stream",
     "text": [
      "mean_log_p,shapetorch.Size([]), -215.47540283203125\n",
      "mean_log_q.shapetorch.Size([]), -48.88775634765625\n",
      "mean_log_p,shapetorch.Size([]), -206.74343872070312\n",
      "mean_log_q.shapetorch.Size([]), -47.59628677368164\n",
      "mean_log_p,shapetorch.Size([]), -206.278564453125\n",
      "mean_log_q.shapetorch.Size([]), -49.16320037841797\n"
     ]
    },
    {
     "name": "stderr",
     "output_type": "stream",
     "text": [
      " 92%|█████████▏| 864/938 [01:03<00:05, 13.32it/s]"
     ]
    },
    {
     "name": "stdout",
     "output_type": "stream",
     "text": [
      "mean_log_p,shapetorch.Size([]), -210.47256469726562\n",
      "mean_log_q.shapetorch.Size([]), -48.18412399291992\n",
      "mean_log_p,shapetorch.Size([]), -204.20314025878906\n",
      "mean_log_q.shapetorch.Size([]), -50.05960464477539\n",
      "mean_log_p,shapetorch.Size([]), -206.37026977539062\n",
      "mean_log_q.shapetorch.Size([]), -48.871829986572266\n"
     ]
    },
    {
     "name": "stderr",
     "output_type": "stream",
     "text": [
      " 92%|█████████▏| 866/938 [01:03<00:05, 13.40it/s]"
     ]
    },
    {
     "name": "stdout",
     "output_type": "stream",
     "text": [
      "mean_log_p,shapetorch.Size([]), -204.07814025878906\n",
      "mean_log_q.shapetorch.Size([]), -49.05070495605469\n",
      "mean_log_p,shapetorch.Size([]), -204.59701538085938\n",
      "mean_log_q.shapetorch.Size([]), -49.033790588378906\n",
      "mean_log_p,shapetorch.Size([]), -198.98712158203125\n",
      "mean_log_q.shapetorch.Size([]), -49.19441604614258\n"
     ]
    },
    {
     "name": "stderr",
     "output_type": "stream",
     "text": [
      " 93%|█████████▎| 870/938 [01:03<00:05, 13.51it/s]"
     ]
    },
    {
     "name": "stdout",
     "output_type": "stream",
     "text": [
      "mean_log_p,shapetorch.Size([]), -207.35751342773438\n",
      "mean_log_q.shapetorch.Size([]), -48.784786224365234\n",
      "mean_log_p,shapetorch.Size([]), -210.2602081298828\n",
      "mean_log_q.shapetorch.Size([]), -48.29167175292969\n",
      "mean_log_p,shapetorch.Size([]), -203.62530517578125\n",
      "mean_log_q.shapetorch.Size([]), -47.60870361328125\n"
     ]
    },
    {
     "name": "stderr",
     "output_type": "stream",
     "text": [
      " 93%|█████████▎| 872/938 [01:03<00:04, 13.51it/s]"
     ]
    },
    {
     "name": "stdout",
     "output_type": "stream",
     "text": [
      "mean_log_p,shapetorch.Size([]), -210.9143829345703\n",
      "mean_log_q.shapetorch.Size([]), -48.39567565917969\n",
      "mean_log_p,shapetorch.Size([]), -205.6654052734375\n",
      "mean_log_q.shapetorch.Size([]), -48.38294982910156\n",
      "mean_log_p,shapetorch.Size([]), -202.420166015625\n",
      "mean_log_q.shapetorch.Size([]), -48.18827819824219\n"
     ]
    },
    {
     "name": "stderr",
     "output_type": "stream",
     "text": [
      " 94%|█████████▎| 878/938 [01:04<00:03, 17.43it/s]"
     ]
    },
    {
     "name": "stdout",
     "output_type": "stream",
     "text": [
      "mean_log_p,shapetorch.Size([]), -207.98486328125\n",
      "mean_log_q.shapetorch.Size([]), -48.30307388305664\n",
      "mean_log_p,shapetorch.Size([]), -201.82373046875\n",
      "mean_log_q.shapetorch.Size([]), -48.397499084472656\n",
      "mean_log_p,shapetorch.Size([]), -202.88394165039062\n",
      "mean_log_q.shapetorch.Size([]), -48.08872985839844\n"
     ]
    },
    {
     "name": "stderr",
     "output_type": "stream",
     "text": [
      " 94%|█████████▍| 880/938 [01:04<00:03, 16.20it/s]"
     ]
    },
    {
     "name": "stdout",
     "output_type": "stream",
     "text": [
      "mean_log_p,shapetorch.Size([]), -202.44760131835938\n",
      "mean_log_q.shapetorch.Size([]), -48.60633850097656\n",
      "mean_log_p,shapetorch.Size([]), -200.9587860107422\n",
      "mean_log_q.shapetorch.Size([]), -49.01457595825195\n",
      "mean_log_p,shapetorch.Size([]), -206.16964721679688\n",
      "mean_log_q.shapetorch.Size([]), -48.26485061645508\n"
     ]
    },
    {
     "name": "stderr",
     "output_type": "stream",
     "text": [
      " 94%|█████████▍| 884/938 [01:04<00:03, 14.75it/s]"
     ]
    },
    {
     "name": "stdout",
     "output_type": "stream",
     "text": [
      "mean_log_p,shapetorch.Size([]), -206.57379150390625\n",
      "mean_log_q.shapetorch.Size([]), -48.11878204345703\n",
      "mean_log_p,shapetorch.Size([]), -209.79379272460938\n",
      "mean_log_q.shapetorch.Size([]), -48.752037048339844\n",
      "mean_log_p,shapetorch.Size([]), -198.61404418945312\n",
      "mean_log_q.shapetorch.Size([]), -48.39371871948242\n"
     ]
    },
    {
     "name": "stderr",
     "output_type": "stream",
     "text": [
      " 94%|█████████▍| 886/938 [01:04<00:03, 14.35it/s]"
     ]
    },
    {
     "name": "stdout",
     "output_type": "stream",
     "text": [
      "mean_log_p,shapetorch.Size([]), -202.04539489746094\n",
      "mean_log_q.shapetorch.Size([]), -48.10048294067383\n",
      "mean_log_p,shapetorch.Size([]), -199.6853485107422\n",
      "mean_log_q.shapetorch.Size([]), -48.27605056762695\n",
      "mean_log_p,shapetorch.Size([]), -206.98028564453125\n",
      "mean_log_q.shapetorch.Size([]), -47.761512756347656\n"
     ]
    },
    {
     "name": "stderr",
     "output_type": "stream",
     "text": [
      " 95%|█████████▍| 890/938 [01:04<00:03, 13.87it/s]"
     ]
    },
    {
     "name": "stdout",
     "output_type": "stream",
     "text": [
      "mean_log_p,shapetorch.Size([]), -202.9423065185547\n",
      "mean_log_q.shapetorch.Size([]), -47.73263168334961\n",
      "mean_log_p,shapetorch.Size([]), -209.32083129882812\n",
      "mean_log_q.shapetorch.Size([]), -47.93682861328125\n",
      "mean_log_p,shapetorch.Size([]), -204.34197998046875\n",
      "mean_log_q.shapetorch.Size([]), -48.66033172607422\n"
     ]
    },
    {
     "name": "stderr",
     "output_type": "stream",
     "text": [
      " 95%|█████████▌| 892/938 [01:05<00:03, 13.72it/s]"
     ]
    },
    {
     "name": "stdout",
     "output_type": "stream",
     "text": [
      "mean_log_p,shapetorch.Size([]), -199.92628479003906\n",
      "mean_log_q.shapetorch.Size([]), -47.394737243652344\n",
      "mean_log_p,shapetorch.Size([]), -198.68295288085938\n",
      "mean_log_q.shapetorch.Size([]), -47.92457962036133\n",
      "mean_log_p,shapetorch.Size([]), -199.3155517578125\n",
      "mean_log_q.shapetorch.Size([]), -48.771026611328125\n"
     ]
    },
    {
     "name": "stderr",
     "output_type": "stream",
     "text": [
      " 96%|█████████▌| 896/938 [01:05<00:03, 13.60it/s]"
     ]
    },
    {
     "name": "stdout",
     "output_type": "stream",
     "text": [
      "mean_log_p,shapetorch.Size([]), -197.80960083007812\n",
      "mean_log_q.shapetorch.Size([]), -48.39702224731445\n",
      "mean_log_p,shapetorch.Size([]), -198.62374877929688\n",
      "mean_log_q.shapetorch.Size([]), -48.732994079589844\n",
      "mean_log_p,shapetorch.Size([]), -209.46365356445312\n",
      "mean_log_q.shapetorch.Size([]), -48.40764617919922\n"
     ]
    },
    {
     "name": "stderr",
     "output_type": "stream",
     "text": [
      " 96%|█████████▌| 898/938 [01:05<00:02, 13.51it/s]"
     ]
    },
    {
     "name": "stdout",
     "output_type": "stream",
     "text": [
      "mean_log_p,shapetorch.Size([]), -204.25631713867188\n",
      "mean_log_q.shapetorch.Size([]), -48.7869873046875\n",
      "mean_log_p,shapetorch.Size([]), -206.98336791992188\n",
      "mean_log_q.shapetorch.Size([]), -49.08504104614258\n",
      "mean_log_p,shapetorch.Size([]), -192.20233154296875\n",
      "mean_log_q.shapetorch.Size([]), -49.49163055419922\n"
     ]
    },
    {
     "name": "stderr",
     "output_type": "stream",
     "text": [
      " 96%|█████████▌| 902/938 [01:05<00:02, 13.45it/s]"
     ]
    },
    {
     "name": "stdout",
     "output_type": "stream",
     "text": [
      "mean_log_p,shapetorch.Size([]), -204.73342895507812\n",
      "mean_log_q.shapetorch.Size([]), -49.3205680847168\n",
      "mean_log_p,shapetorch.Size([]), -201.015380859375\n",
      "mean_log_q.shapetorch.Size([]), -48.40507888793945\n",
      "mean_log_p,shapetorch.Size([]), -211.8751220703125\n",
      "mean_log_q.shapetorch.Size([]), -48.629066467285156\n"
     ]
    },
    {
     "name": "stderr",
     "output_type": "stream",
     "text": [
      " 96%|█████████▋| 904/938 [01:05<00:02, 13.45it/s]"
     ]
    },
    {
     "name": "stdout",
     "output_type": "stream",
     "text": [
      "mean_log_p,shapetorch.Size([]), -198.48056030273438\n",
      "mean_log_q.shapetorch.Size([]), -48.853614807128906\n",
      "mean_log_p,shapetorch.Size([]), -214.9941864013672\n",
      "mean_log_q.shapetorch.Size([]), -47.991432189941406\n",
      "mean_log_p,shapetorch.Size([]), -202.06863403320312\n",
      "mean_log_q.shapetorch.Size([]), -48.789283752441406\n"
     ]
    },
    {
     "name": "stderr",
     "output_type": "stream",
     "text": [
      " 97%|█████████▋| 908/938 [01:06<00:02, 13.43it/s]"
     ]
    },
    {
     "name": "stdout",
     "output_type": "stream",
     "text": [
      "mean_log_p,shapetorch.Size([]), -200.89340209960938\n",
      "mean_log_q.shapetorch.Size([]), -47.250980377197266\n",
      "mean_log_p,shapetorch.Size([]), -211.0750732421875\n",
      "mean_log_q.shapetorch.Size([]), -48.41858673095703\n",
      "mean_log_p,shapetorch.Size([]), -212.8031005859375\n",
      "mean_log_q.shapetorch.Size([]), -47.86808776855469\n"
     ]
    },
    {
     "name": "stderr",
     "output_type": "stream",
     "text": [
      " 97%|█████████▋| 910/938 [01:06<00:02, 13.43it/s]"
     ]
    },
    {
     "name": "stdout",
     "output_type": "stream",
     "text": [
      "mean_log_p,shapetorch.Size([]), -199.11849975585938\n",
      "mean_log_q.shapetorch.Size([]), -47.87322235107422\n",
      "mean_log_p,shapetorch.Size([]), -205.46353149414062\n",
      "mean_log_q.shapetorch.Size([]), -48.34204864501953\n",
      "mean_log_p,shapetorch.Size([]), -200.92501831054688\n",
      "mean_log_q.shapetorch.Size([]), -48.638648986816406\n"
     ]
    },
    {
     "name": "stderr",
     "output_type": "stream",
     "text": [
      " 97%|█████████▋| 914/938 [01:06<00:01, 13.45it/s]"
     ]
    },
    {
     "name": "stdout",
     "output_type": "stream",
     "text": [
      "mean_log_p,shapetorch.Size([]), -204.701904296875\n",
      "mean_log_q.shapetorch.Size([]), -48.229583740234375\n",
      "mean_log_p,shapetorch.Size([]), -206.80072021484375\n",
      "mean_log_q.shapetorch.Size([]), -48.693931579589844\n",
      "mean_log_p,shapetorch.Size([]), -209.84750366210938\n",
      "mean_log_q.shapetorch.Size([]), -48.895355224609375\n"
     ]
    },
    {
     "name": "stderr",
     "output_type": "stream",
     "text": [
      " 98%|█████████▊| 916/938 [01:06<00:01, 13.44it/s]"
     ]
    },
    {
     "name": "stdout",
     "output_type": "stream",
     "text": [
      "mean_log_p,shapetorch.Size([]), -197.10968017578125\n",
      "mean_log_q.shapetorch.Size([]), -49.04106521606445\n",
      "mean_log_p,shapetorch.Size([]), -214.49191284179688\n",
      "mean_log_q.shapetorch.Size([]), -48.27610778808594\n",
      "mean_log_p,shapetorch.Size([]), -196.78591918945312\n",
      "mean_log_q.shapetorch.Size([]), -49.53469467163086\n"
     ]
    },
    {
     "name": "stderr",
     "output_type": "stream",
     "text": [
      " 98%|█████████▊| 920/938 [01:07<00:01, 13.39it/s]"
     ]
    },
    {
     "name": "stdout",
     "output_type": "stream",
     "text": [
      "mean_log_p,shapetorch.Size([]), -196.40582275390625\n",
      "mean_log_q.shapetorch.Size([]), -48.973411560058594\n",
      "mean_log_p,shapetorch.Size([]), -204.79612731933594\n",
      "mean_log_q.shapetorch.Size([]), -48.26963806152344\n",
      "mean_log_p,shapetorch.Size([]), -197.60018920898438\n",
      "mean_log_q.shapetorch.Size([]), -47.23552703857422\n"
     ]
    },
    {
     "name": "stderr",
     "output_type": "stream",
     "text": [
      " 98%|█████████▊| 922/938 [01:07<00:01, 13.40it/s]"
     ]
    },
    {
     "name": "stdout",
     "output_type": "stream",
     "text": [
      "mean_log_p,shapetorch.Size([]), -199.87881469726562\n",
      "mean_log_q.shapetorch.Size([]), -47.25718307495117\n",
      "mean_log_p,shapetorch.Size([]), -202.60617065429688\n",
      "mean_log_q.shapetorch.Size([]), -48.91178512573242\n",
      "mean_log_p,shapetorch.Size([]), -204.5428466796875\n",
      "mean_log_q.shapetorch.Size([]), -47.87957763671875\n"
     ]
    },
    {
     "name": "stderr",
     "output_type": "stream",
     "text": [
      " 99%|█████████▊| 926/938 [01:07<00:00, 13.42it/s]"
     ]
    },
    {
     "name": "stdout",
     "output_type": "stream",
     "text": [
      "mean_log_p,shapetorch.Size([]), -201.419677734375\n",
      "mean_log_q.shapetorch.Size([]), -48.618614196777344\n",
      "mean_log_p,shapetorch.Size([]), -204.68341064453125\n",
      "mean_log_q.shapetorch.Size([]), -48.198822021484375\n",
      "mean_log_p,shapetorch.Size([]), -213.76971435546875\n",
      "mean_log_q.shapetorch.Size([]), -47.6943359375\n"
     ]
    },
    {
     "name": "stderr",
     "output_type": "stream",
     "text": [
      " 99%|█████████▉| 928/938 [01:07<00:00, 13.43it/s]"
     ]
    },
    {
     "name": "stdout",
     "output_type": "stream",
     "text": [
      "mean_log_p,shapetorch.Size([]), -195.96743774414062\n",
      "mean_log_q.shapetorch.Size([]), -48.298095703125\n",
      "mean_log_p,shapetorch.Size([]), -198.9084014892578\n",
      "mean_log_q.shapetorch.Size([]), -47.68906021118164\n",
      "mean_log_p,shapetorch.Size([]), -205.62918090820312\n",
      "mean_log_q.shapetorch.Size([]), -47.47199630737305\n"
     ]
    },
    {
     "name": "stderr",
     "output_type": "stream",
     "text": [
      " 99%|█████████▉| 932/938 [01:08<00:00, 13.36it/s]"
     ]
    },
    {
     "name": "stdout",
     "output_type": "stream",
     "text": [
      "mean_log_p,shapetorch.Size([]), -208.20741271972656\n",
      "mean_log_q.shapetorch.Size([]), -48.66260528564453\n",
      "mean_log_p,shapetorch.Size([]), -204.97984313964844\n",
      "mean_log_q.shapetorch.Size([]), -48.85806655883789\n",
      "mean_log_p,shapetorch.Size([]), -199.42630004882812\n",
      "mean_log_q.shapetorch.Size([]), -47.990596771240234\n"
     ]
    },
    {
     "name": "stderr",
     "output_type": "stream",
     "text": [
      "100%|█████████▉| 934/938 [01:08<00:00, 13.35it/s]"
     ]
    },
    {
     "name": "stdout",
     "output_type": "stream",
     "text": [
      "mean_log_p,shapetorch.Size([]), -212.22366333007812\n",
      "mean_log_q.shapetorch.Size([]), -48.74113464355469\n",
      "mean_log_p,shapetorch.Size([]), -192.64590454101562\n",
      "mean_log_q.shapetorch.Size([]), -48.758968353271484\n",
      "mean_log_p,shapetorch.Size([]), -198.27252197265625\n",
      "mean_log_q.shapetorch.Size([]), -48.23339080810547\n"
     ]
    },
    {
     "name": "stderr",
     "output_type": "stream",
     "text": [
      "940it [01:08, 16.18it/s]                         "
     ]
    },
    {
     "name": "stdout",
     "output_type": "stream",
     "text": [
      "mean_log_p,shapetorch.Size([]), -201.1073760986328\n",
      "mean_log_q.shapetorch.Size([]), -48.32395935058594\n",
      "mean_log_p,shapetorch.Size([]), -203.92828369140625\n",
      "mean_log_q.shapetorch.Size([]), -47.41666030883789\n",
      "mean_log_p,shapetorch.Size([]), -201.77828979492188\n",
      "mean_log_q.shapetorch.Size([]), -48.22904968261719\n"
     ]
    },
    {
     "name": "stderr",
     "output_type": "stream",
     "text": [
      "942it [01:08, 15.36it/s]"
     ]
    },
    {
     "name": "stdout",
     "output_type": "stream",
     "text": [
      "mean_log_p,shapetorch.Size([]), -206.93687438964844\n",
      "mean_log_q.shapetorch.Size([]), -47.817745208740234\n",
      "mean_log_p,shapetorch.Size([]), -203.13320922851562\n",
      "mean_log_q.shapetorch.Size([]), -47.142337799072266\n",
      "mean_log_p,shapetorch.Size([]), -198.09124755859375\n",
      "mean_log_q.shapetorch.Size([]), -48.2943115234375\n"
     ]
    },
    {
     "name": "stderr",
     "output_type": "stream",
     "text": [
      "946it [01:08, 14.40it/s]"
     ]
    },
    {
     "name": "stdout",
     "output_type": "stream",
     "text": [
      "mean_log_p,shapetorch.Size([]), -194.0548553466797\n",
      "mean_log_q.shapetorch.Size([]), -47.443199157714844\n",
      "mean_log_p,shapetorch.Size([]), -206.15647888183594\n",
      "mean_log_q.shapetorch.Size([]), -48.8695068359375\n",
      "mean_log_p,shapetorch.Size([]), -211.13296508789062\n",
      "mean_log_q.shapetorch.Size([]), -47.694908142089844\n"
     ]
    },
    {
     "name": "stderr",
     "output_type": "stream",
     "text": [
      "948it [01:09, 14.12it/s]"
     ]
    },
    {
     "name": "stdout",
     "output_type": "stream",
     "text": [
      "mean_log_p,shapetorch.Size([]), -198.51629638671875\n",
      "mean_log_q.shapetorch.Size([]), -48.61190414428711\n",
      "mean_log_p,shapetorch.Size([]), -197.49801635742188\n",
      "mean_log_q.shapetorch.Size([]), -47.89237594604492\n",
      "mean_log_p,shapetorch.Size([]), -206.91909790039062\n",
      "mean_log_q.shapetorch.Size([]), -48.356163024902344\n"
     ]
    },
    {
     "name": "stderr",
     "output_type": "stream",
     "text": [
      "952it [01:09, 13.76it/s]"
     ]
    },
    {
     "name": "stdout",
     "output_type": "stream",
     "text": [
      "mean_log_p,shapetorch.Size([]), -199.37928771972656\n",
      "mean_log_q.shapetorch.Size([]), -49.34620666503906\n",
      "mean_log_p,shapetorch.Size([]), -207.8274688720703\n",
      "mean_log_q.shapetorch.Size([]), -48.21000289916992\n",
      "mean_log_p,shapetorch.Size([]), -198.47320556640625\n",
      "mean_log_q.shapetorch.Size([]), -48.21998596191406\n"
     ]
    },
    {
     "name": "stderr",
     "output_type": "stream",
     "text": [
      "954it [01:09, 13.67it/s]"
     ]
    },
    {
     "name": "stdout",
     "output_type": "stream",
     "text": [
      "mean_log_p,shapetorch.Size([]), -198.76657104492188\n",
      "mean_log_q.shapetorch.Size([]), -49.284034729003906\n",
      "mean_log_p,shapetorch.Size([]), -195.2256622314453\n",
      "mean_log_q.shapetorch.Size([]), -47.47697448730469\n",
      "mean_log_p,shapetorch.Size([]), -198.67584228515625\n",
      "mean_log_q.shapetorch.Size([]), -48.40618896484375\n"
     ]
    },
    {
     "name": "stderr",
     "output_type": "stream",
     "text": [
      "958it [01:09, 13.55it/s]"
     ]
    },
    {
     "name": "stdout",
     "output_type": "stream",
     "text": [
      "mean_log_p,shapetorch.Size([]), -201.06134033203125\n",
      "mean_log_q.shapetorch.Size([]), -48.270545959472656\n",
      "mean_log_p,shapetorch.Size([]), -207.707763671875\n",
      "mean_log_q.shapetorch.Size([]), -48.74415588378906\n",
      "mean_log_p,shapetorch.Size([]), -202.5175323486328\n",
      "mean_log_q.shapetorch.Size([]), -48.038787841796875\n"
     ]
    },
    {
     "name": "stderr",
     "output_type": "stream",
     "text": [
      "960it [01:10, 13.52it/s]"
     ]
    },
    {
     "name": "stdout",
     "output_type": "stream",
     "text": [
      "mean_log_p,shapetorch.Size([]), -191.80325317382812\n",
      "mean_log_q.shapetorch.Size([]), -46.82301330566406\n",
      "mean_log_p,shapetorch.Size([]), -200.67684936523438\n",
      "mean_log_q.shapetorch.Size([]), -46.97709655761719\n",
      "mean_log_p,shapetorch.Size([]), -195.42697143554688\n",
      "mean_log_q.shapetorch.Size([]), -47.695926666259766\n"
     ]
    },
    {
     "name": "stderr",
     "output_type": "stream",
     "text": [
      "964it [01:10, 13.50it/s]"
     ]
    },
    {
     "name": "stdout",
     "output_type": "stream",
     "text": [
      "mean_log_p,shapetorch.Size([]), -190.8195343017578\n",
      "mean_log_q.shapetorch.Size([]), -48.06482696533203\n",
      "mean_log_p,shapetorch.Size([]), -196.49386596679688\n",
      "mean_log_q.shapetorch.Size([]), -46.59839630126953\n",
      "mean_log_p,shapetorch.Size([]), -203.16355895996094\n",
      "mean_log_q.shapetorch.Size([]), -47.20317077636719\n"
     ]
    },
    {
     "name": "stderr",
     "output_type": "stream",
     "text": [
      "966it [01:10, 13.49it/s]"
     ]
    },
    {
     "name": "stdout",
     "output_type": "stream",
     "text": [
      "mean_log_p,shapetorch.Size([]), -202.44464111328125\n",
      "mean_log_q.shapetorch.Size([]), -47.867401123046875\n",
      "mean_log_p,shapetorch.Size([]), -200.59375\n",
      "mean_log_q.shapetorch.Size([]), -47.947601318359375\n",
      "mean_log_p,shapetorch.Size([]), -201.92562866210938\n",
      "mean_log_q.shapetorch.Size([]), -48.156883239746094\n"
     ]
    },
    {
     "name": "stderr",
     "output_type": "stream",
     "text": [
      "970it [01:10, 13.49it/s]"
     ]
    },
    {
     "name": "stdout",
     "output_type": "stream",
     "text": [
      "mean_log_p,shapetorch.Size([]), -196.7150421142578\n",
      "mean_log_q.shapetorch.Size([]), -48.83008575439453\n",
      "mean_log_p,shapetorch.Size([]), -195.7278594970703\n",
      "mean_log_q.shapetorch.Size([]), -47.9427490234375\n",
      "mean_log_p,shapetorch.Size([]), -198.87364196777344\n",
      "mean_log_q.shapetorch.Size([]), -48.15532684326172\n"
     ]
    },
    {
     "name": "stderr",
     "output_type": "stream",
     "text": [
      "972it [01:10, 13.50it/s]"
     ]
    },
    {
     "name": "stdout",
     "output_type": "stream",
     "text": [
      "mean_log_p,shapetorch.Size([]), -196.3186798095703\n",
      "mean_log_q.shapetorch.Size([]), -48.243141174316406\n",
      "mean_log_p,shapetorch.Size([]), -206.27162170410156\n",
      "mean_log_q.shapetorch.Size([]), -47.73581314086914\n",
      "mean_log_p,shapetorch.Size([]), -211.46682739257812\n",
      "mean_log_q.shapetorch.Size([]), -47.7804069519043\n"
     ]
    },
    {
     "name": "stderr",
     "output_type": "stream",
     "text": [
      "976it [01:11, 13.47it/s]"
     ]
    },
    {
     "name": "stdout",
     "output_type": "stream",
     "text": [
      "mean_log_p,shapetorch.Size([]), -194.4583282470703\n",
      "mean_log_q.shapetorch.Size([]), -47.914886474609375\n",
      "mean_log_p,shapetorch.Size([]), -199.86471557617188\n",
      "mean_log_q.shapetorch.Size([]), -47.481929779052734\n",
      "mean_log_p,shapetorch.Size([]), -197.96434020996094\n",
      "mean_log_q.shapetorch.Size([]), -48.64434814453125\n"
     ]
    },
    {
     "name": "stderr",
     "output_type": "stream",
     "text": [
      "978it [01:11, 13.46it/s]"
     ]
    },
    {
     "name": "stdout",
     "output_type": "stream",
     "text": [
      "mean_log_p,shapetorch.Size([]), -199.09320068359375\n",
      "mean_log_q.shapetorch.Size([]), -47.082679748535156\n",
      "mean_log_p,shapetorch.Size([]), -190.74853515625\n",
      "mean_log_q.shapetorch.Size([]), -48.34910583496094\n",
      "mean_log_p,shapetorch.Size([]), -190.62484741210938\n",
      "mean_log_q.shapetorch.Size([]), -47.421348571777344\n"
     ]
    },
    {
     "name": "stderr",
     "output_type": "stream",
     "text": [
      "982it [01:11, 13.45it/s]"
     ]
    },
    {
     "name": "stdout",
     "output_type": "stream",
     "text": [
      "mean_log_p,shapetorch.Size([]), -194.64944458007812\n",
      "mean_log_q.shapetorch.Size([]), -48.02299499511719\n",
      "mean_log_p,shapetorch.Size([]), -205.2178955078125\n",
      "mean_log_q.shapetorch.Size([]), -47.63108825683594\n",
      "mean_log_p,shapetorch.Size([]), -207.22454833984375\n",
      "mean_log_q.shapetorch.Size([]), -47.989261627197266\n"
     ]
    },
    {
     "name": "stderr",
     "output_type": "stream",
     "text": [
      "984it [01:11, 13.45it/s]"
     ]
    },
    {
     "name": "stdout",
     "output_type": "stream",
     "text": [
      "mean_log_p,shapetorch.Size([]), -204.03297424316406\n",
      "mean_log_q.shapetorch.Size([]), -48.632484436035156\n",
      "mean_log_p,shapetorch.Size([]), -213.80792236328125\n",
      "mean_log_q.shapetorch.Size([]), -47.702354431152344\n",
      "mean_log_p,shapetorch.Size([]), -195.32318115234375\n",
      "mean_log_q.shapetorch.Size([]), -48.9299430847168\n"
     ]
    },
    {
     "name": "stderr",
     "output_type": "stream",
     "text": [
      "988it [01:12, 13.43it/s]"
     ]
    },
    {
     "name": "stdout",
     "output_type": "stream",
     "text": [
      "mean_log_p,shapetorch.Size([]), -201.96914672851562\n",
      "mean_log_q.shapetorch.Size([]), -48.16269302368164\n",
      "mean_log_p,shapetorch.Size([]), -197.76364135742188\n",
      "mean_log_q.shapetorch.Size([]), -48.375186920166016\n",
      "mean_log_p,shapetorch.Size([]), -213.53591918945312\n",
      "mean_log_q.shapetorch.Size([]), -48.156192779541016\n"
     ]
    },
    {
     "name": "stderr",
     "output_type": "stream",
     "text": [
      "990it [01:12, 13.44it/s]"
     ]
    },
    {
     "name": "stdout",
     "output_type": "stream",
     "text": [
      "mean_log_p,shapetorch.Size([]), -199.30255126953125\n",
      "mean_log_q.shapetorch.Size([]), -48.25904083251953\n",
      "mean_log_p,shapetorch.Size([]), -194.40818786621094\n",
      "mean_log_q.shapetorch.Size([]), -47.27083206176758\n",
      "mean_log_p,shapetorch.Size([]), -200.79995727539062\n",
      "mean_log_q.shapetorch.Size([]), -47.77779769897461\n"
     ]
    },
    {
     "name": "stderr",
     "output_type": "stream",
     "text": [
      "994it [01:12, 13.42it/s]"
     ]
    },
    {
     "name": "stdout",
     "output_type": "stream",
     "text": [
      "mean_log_p,shapetorch.Size([]), -204.0741729736328\n",
      "mean_log_q.shapetorch.Size([]), -47.88447570800781\n",
      "mean_log_p,shapetorch.Size([]), -200.81251525878906\n",
      "mean_log_q.shapetorch.Size([]), -47.69310760498047\n",
      "mean_log_p,shapetorch.Size([]), -200.77804565429688\n",
      "mean_log_q.shapetorch.Size([]), -47.51551818847656\n"
     ]
    },
    {
     "name": "stderr",
     "output_type": "stream",
     "text": [
      "996it [01:12, 13.43it/s]"
     ]
    },
    {
     "name": "stdout",
     "output_type": "stream",
     "text": [
      "mean_log_p,shapetorch.Size([]), -204.3870086669922\n",
      "mean_log_q.shapetorch.Size([]), -47.08734130859375\n",
      "mean_log_p,shapetorch.Size([]), -196.5223846435547\n",
      "mean_log_q.shapetorch.Size([]), -47.767967224121094\n",
      "mean_log_p,shapetorch.Size([]), -192.0170440673828\n",
      "mean_log_q.shapetorch.Size([]), -47.17677307128906\n"
     ]
    },
    {
     "name": "stderr",
     "output_type": "stream",
     "text": [
      "100%|██████████| 938/938 [01:12<00:00, 12.86it/s]\n"
     ]
    },
    {
     "name": "stdout",
     "output_type": "stream",
     "text": [
      "mean_log_p,shapetorch.Size([]), -205.56593322753906\n",
      "mean_log_q.shapetorch.Size([]), -46.7558708190918\n",
      "mean_log_p,shapetorch.Size([]), -193.1160430908203\n",
      "mean_log_q.shapetorch.Size([]), -48.78278732299805\n",
      "Train Epoch: 0 [29984/60000 (100%)]\tLoss: 144.501511\n"
     ]
    },
    {
     "name": "stderr",
     "output_type": "stream",
     "text": [
      "  0%|          | 0/938 [00:00<?, ?it/s]"
     ]
    },
    {
     "name": "stdout",
     "output_type": "stream",
     "text": [
      "mean_log_p,shapetorch.Size([]), -191.41116333007812\n",
      "mean_log_q.shapetorch.Size([]), -47.863624572753906\n"
     ]
    },
    {
     "name": "stderr",
     "output_type": "stream",
     "text": [
      "  0%|          | 2/938 [00:00<01:16, 12.17it/s]"
     ]
    },
    {
     "name": "stdout",
     "output_type": "stream",
     "text": [
      "mean_log_p,shapetorch.Size([]), -196.04005432128906\n",
      "mean_log_q.shapetorch.Size([]), -47.04386520385742\n",
      "mean_log_p,shapetorch.Size([]), -195.2735137939453\n",
      "mean_log_q.shapetorch.Size([]), -47.496795654296875\n"
     ]
    },
    {
     "name": "stderr",
     "output_type": "stream",
     "text": [
      "  1%|          | 6/938 [00:00<00:45, 20.40it/s]"
     ]
    },
    {
     "name": "stdout",
     "output_type": "stream",
     "text": [
      "mean_log_p,shapetorch.Size([]), -198.34902954101562\n",
      "mean_log_q.shapetorch.Size([]), -48.2386474609375\n"
     ]
    },
    {
     "name": "stderr",
     "output_type": "stream",
     "text": [
      "  1%|          | 11/938 [00:00<00:35, 26.14it/s]"
     ]
    },
    {
     "name": "stdout",
     "output_type": "stream",
     "text": [
      "mean_log_p,shapetorch.Size([]), -197.58966064453125\n",
      "mean_log_q.shapetorch.Size([]), -48.071563720703125\n",
      "mean_log_p,shapetorch.Size([]), -203.2427978515625\n",
      "mean_log_q.shapetorch.Size([]), -48.05866241455078\n",
      "mean_log_p,shapetorch.Size([]), -195.86672973632812\n",
      "mean_log_q.shapetorch.Size([]), -47.74610900878906\n"
     ]
    },
    {
     "name": "stderr",
     "output_type": "stream",
     "text": [
      "  1%|▏         | 14/938 [00:00<00:46, 19.84it/s]"
     ]
    },
    {
     "name": "stdout",
     "output_type": "stream",
     "text": [
      "mean_log_p,shapetorch.Size([]), -203.60690307617188\n",
      "mean_log_q.shapetorch.Size([]), -48.055328369140625\n",
      "mean_log_p,shapetorch.Size([]), -192.03616333007812\n",
      "mean_log_q.shapetorch.Size([]), -47.60565948486328\n",
      "mean_log_p,shapetorch.Size([]), -205.47015380859375\n",
      "mean_log_q.shapetorch.Size([]), -46.68685531616211\n"
     ]
    },
    {
     "name": "stderr",
     "output_type": "stream",
     "text": [
      "  2%|▏         | 19/938 [00:00<00:38, 24.14it/s]"
     ]
    },
    {
     "name": "stdout",
     "output_type": "stream",
     "text": [
      "mean_log_p,shapetorch.Size([]), -210.123291015625\n",
      "mean_log_q.shapetorch.Size([]), -47.49485397338867\n",
      "mean_log_p,shapetorch.Size([]), -200.67745971679688\n",
      "mean_log_q.shapetorch.Size([]), -46.940162658691406\n",
      "mean_log_p,shapetorch.Size([]), -188.79660034179688\n",
      "mean_log_q.shapetorch.Size([]), -47.434383392333984\n"
     ]
    },
    {
     "name": "stderr",
     "output_type": "stream",
     "text": [
      "  2%|▏         | 22/938 [00:01<00:46, 19.82it/s]"
     ]
    },
    {
     "name": "stdout",
     "output_type": "stream",
     "text": [
      "mean_log_p,shapetorch.Size([]), -206.64483642578125\n",
      "mean_log_q.shapetorch.Size([]), -47.31358337402344\n",
      "mean_log_p,shapetorch.Size([]), -198.39222717285156\n",
      "mean_log_q.shapetorch.Size([]), -47.28879928588867\n",
      "mean_log_p,shapetorch.Size([]), -197.21859741210938\n",
      "mean_log_q.shapetorch.Size([]), -47.388336181640625\n"
     ]
    },
    {
     "name": "stderr",
     "output_type": "stream",
     "text": [
      "  3%|▎         | 25/938 [00:01<00:52, 17.38it/s]"
     ]
    },
    {
     "name": "stdout",
     "output_type": "stream",
     "text": [
      "mean_log_p,shapetorch.Size([]), -192.55955505371094\n",
      "mean_log_q.shapetorch.Size([]), -48.33810043334961\n",
      "mean_log_p,shapetorch.Size([]), -196.5264434814453\n",
      "mean_log_q.shapetorch.Size([]), -48.841064453125\n"
     ]
    },
    {
     "name": "stderr",
     "output_type": "stream",
     "text": [
      "  3%|▎         | 30/938 [00:01<00:42, 21.61it/s]"
     ]
    },
    {
     "name": "stdout",
     "output_type": "stream",
     "text": [
      "mean_log_p,shapetorch.Size([]), -195.3061065673828\n",
      "mean_log_q.shapetorch.Size([]), -47.69590377807617\n",
      "mean_log_p,shapetorch.Size([]), -184.08187866210938\n",
      "mean_log_q.shapetorch.Size([]), -48.45503234863281\n",
      "mean_log_p,shapetorch.Size([]), -197.07363891601562\n",
      "mean_log_q.shapetorch.Size([]), -48.650634765625\n"
     ]
    },
    {
     "name": "stderr",
     "output_type": "stream",
     "text": [
      "  4%|▎         | 33/938 [00:01<00:48, 18.84it/s]"
     ]
    },
    {
     "name": "stdout",
     "output_type": "stream",
     "text": [
      "mean_log_p,shapetorch.Size([]), -210.52743530273438\n",
      "mean_log_q.shapetorch.Size([]), -47.43553161621094\n",
      "mean_log_p,shapetorch.Size([]), -196.3912353515625\n",
      "mean_log_q.shapetorch.Size([]), -48.785552978515625\n",
      "mean_log_p,shapetorch.Size([]), -199.02725219726562\n",
      "mean_log_q.shapetorch.Size([]), -46.96733093261719\n"
     ]
    },
    {
     "name": "stderr",
     "output_type": "stream",
     "text": [
      "  4%|▍         | 36/938 [00:01<00:52, 17.14it/s]"
     ]
    },
    {
     "name": "stdout",
     "output_type": "stream",
     "text": [
      "mean_log_p,shapetorch.Size([]), -204.3743133544922\n",
      "mean_log_q.shapetorch.Size([]), -47.13774490356445\n"
     ]
    },
    {
     "name": "stderr",
     "output_type": "stream",
     "text": [
      "  4%|▍         | 38/938 [00:02<00:55, 16.33it/s]"
     ]
    },
    {
     "name": "stdout",
     "output_type": "stream",
     "text": [
      "mean_log_p,shapetorch.Size([]), -187.08099365234375\n",
      "mean_log_q.shapetorch.Size([]), -47.30657196044922\n",
      "mean_log_p,shapetorch.Size([]), -203.5762939453125\n",
      "mean_log_q.shapetorch.Size([]), -46.13684844970703\n",
      "mean_log_p,shapetorch.Size([]), -193.5791473388672\n",
      "mean_log_q.shapetorch.Size([]), -47.3089714050293\n"
     ]
    },
    {
     "name": "stderr",
     "output_type": "stream",
     "text": [
      "  4%|▍         | 42/938 [00:02<00:46, 19.16it/s]"
     ]
    },
    {
     "name": "stdout",
     "output_type": "stream",
     "text": [
      "mean_log_p,shapetorch.Size([]), -208.80526733398438\n",
      "mean_log_q.shapetorch.Size([]), -46.31543731689453\n",
      "mean_log_p,shapetorch.Size([]), -192.81813049316406\n",
      "mean_log_q.shapetorch.Size([]), -46.93878936767578\n",
      "mean_log_p,shapetorch.Size([]), -198.9593048095703\n",
      "mean_log_q.shapetorch.Size([]), -46.82151794433594\n"
     ]
    },
    {
     "name": "stderr",
     "output_type": "stream",
     "text": [
      "  5%|▍         | 45/938 [00:02<00:51, 17.23it/s]"
     ]
    },
    {
     "name": "stdout",
     "output_type": "stream",
     "text": [
      "mean_log_p,shapetorch.Size([]), -188.4789581298828\n",
      "mean_log_q.shapetorch.Size([]), -47.996185302734375\n",
      "mean_log_p,shapetorch.Size([]), -195.8048095703125\n",
      "mean_log_q.shapetorch.Size([]), -48.13461685180664\n"
     ]
    },
    {
     "name": "stderr",
     "output_type": "stream",
     "text": [
      "  5%|▌         | 47/938 [00:02<00:54, 16.36it/s]"
     ]
    },
    {
     "name": "stdout",
     "output_type": "stream",
     "text": [
      "mean_log_p,shapetorch.Size([]), -201.86056518554688\n",
      "mean_log_q.shapetorch.Size([]), -48.621089935302734\n"
     ]
    },
    {
     "name": "stderr",
     "output_type": "stream",
     "text": [
      "  5%|▌         | 49/938 [00:02<00:56, 15.65it/s]"
     ]
    },
    {
     "name": "stdout",
     "output_type": "stream",
     "text": [
      "mean_log_p,shapetorch.Size([]), -197.32705688476562\n",
      "mean_log_q.shapetorch.Size([]), -48.017372131347656\n",
      "mean_log_p,shapetorch.Size([]), -193.580810546875\n",
      "mean_log_q.shapetorch.Size([]), -48.23931121826172\n",
      "mean_log_p,shapetorch.Size([]), -198.50315856933594\n",
      "mean_log_q.shapetorch.Size([]), -48.61933898925781\n"
     ]
    },
    {
     "name": "stderr",
     "output_type": "stream",
     "text": [
      "  5%|▌         | 51/938 [00:02<00:58, 15.10it/s]"
     ]
    },
    {
     "name": "stdout",
     "output_type": "stream",
     "text": [
      "mean_log_p,shapetorch.Size([]), -192.95928955078125\n",
      "mean_log_q.shapetorch.Size([]), -47.65193176269531\n",
      "mean_log_p,shapetorch.Size([]), -199.2733612060547\n",
      "mean_log_q.shapetorch.Size([]), -47.90361404418945\n"
     ]
    },
    {
     "name": "stderr",
     "output_type": "stream",
     "text": [
      "  6%|▌         | 53/938 [00:02<01:00, 14.72it/s]"
     ]
    },
    {
     "name": "stdout",
     "output_type": "stream",
     "text": [
      "mean_log_p,shapetorch.Size([]), -205.3592071533203\n",
      "mean_log_q.shapetorch.Size([]), -47.21726989746094\n"
     ]
    },
    {
     "name": "stderr",
     "output_type": "stream",
     "text": [
      "  6%|▌         | 57/938 [00:03<00:47, 18.36it/s]"
     ]
    },
    {
     "name": "stdout",
     "output_type": "stream",
     "text": [
      "mean_log_p,shapetorch.Size([]), -191.56069946289062\n",
      "mean_log_q.shapetorch.Size([]), -47.19425964355469\n",
      "mean_log_p,shapetorch.Size([]), -192.49969482421875\n",
      "mean_log_q.shapetorch.Size([]), -46.691162109375\n",
      "mean_log_p,shapetorch.Size([]), -201.32688903808594\n",
      "mean_log_q.shapetorch.Size([]), -46.35399627685547\n"
     ]
    },
    {
     "name": "stderr",
     "output_type": "stream",
     "text": [
      "  6%|▋         | 59/938 [00:03<00:51, 17.01it/s]"
     ]
    },
    {
     "name": "stdout",
     "output_type": "stream",
     "text": [
      "mean_log_p,shapetorch.Size([]), -196.18838500976562\n",
      "mean_log_q.shapetorch.Size([]), -46.99442672729492\n",
      "mean_log_p,shapetorch.Size([]), -195.7588653564453\n",
      "mean_log_q.shapetorch.Size([]), -45.93636703491211\n"
     ]
    },
    {
     "name": "stderr",
     "output_type": "stream",
     "text": [
      "  7%|▋         | 61/938 [00:03<00:54, 16.03it/s]"
     ]
    },
    {
     "name": "stdout",
     "output_type": "stream",
     "text": [
      "mean_log_p,shapetorch.Size([]), -189.91622924804688\n",
      "mean_log_q.shapetorch.Size([]), -47.27619934082031\n"
     ]
    },
    {
     "name": "stderr",
     "output_type": "stream",
     "text": [
      "  7%|▋         | 63/938 [00:03<00:57, 15.33it/s]"
     ]
    },
    {
     "name": "stdout",
     "output_type": "stream",
     "text": [
      "mean_log_p,shapetorch.Size([]), -198.83432006835938\n",
      "mean_log_q.shapetorch.Size([]), -48.082942962646484\n",
      "mean_log_p,shapetorch.Size([]), -189.7222900390625\n",
      "mean_log_q.shapetorch.Size([]), -47.873016357421875\n",
      "mean_log_p,shapetorch.Size([]), -195.41714477539062\n",
      "mean_log_q.shapetorch.Size([]), -47.817237854003906\n"
     ]
    },
    {
     "name": "stderr",
     "output_type": "stream",
     "text": [
      "  7%|▋         | 65/938 [00:03<00:58, 14.84it/s]"
     ]
    },
    {
     "name": "stdout",
     "output_type": "stream",
     "text": [
      "mean_log_p,shapetorch.Size([]), -200.08975219726562\n",
      "mean_log_q.shapetorch.Size([]), -48.37641906738281\n",
      "mean_log_p,shapetorch.Size([]), -192.9309539794922\n",
      "mean_log_q.shapetorch.Size([]), -48.109832763671875\n"
     ]
    },
    {
     "name": "stderr",
     "output_type": "stream",
     "text": [
      "  7%|▋         | 67/938 [00:03<00:59, 14.52it/s]"
     ]
    },
    {
     "name": "stdout",
     "output_type": "stream",
     "text": [
      "mean_log_p,shapetorch.Size([]), -203.51895141601562\n",
      "mean_log_q.shapetorch.Size([]), -47.352996826171875\n"
     ]
    },
    {
     "name": "stderr",
     "output_type": "stream",
     "text": [
      "  7%|▋         | 69/938 [00:03<01:01, 14.16it/s]"
     ]
    },
    {
     "name": "stdout",
     "output_type": "stream",
     "text": [
      "mean_log_p,shapetorch.Size([]), -190.99533081054688\n",
      "mean_log_q.shapetorch.Size([]), -47.8612060546875\n",
      "mean_log_p,shapetorch.Size([]), -190.58599853515625\n",
      "mean_log_q.shapetorch.Size([]), -47.36516571044922\n",
      "mean_log_p,shapetorch.Size([]), -194.75942993164062\n",
      "mean_log_q.shapetorch.Size([]), -47.34187698364258\n"
     ]
    },
    {
     "name": "stderr",
     "output_type": "stream",
     "text": [
      "  8%|▊         | 73/938 [00:04<00:47, 18.07it/s]"
     ]
    },
    {
     "name": "stdout",
     "output_type": "stream",
     "text": [
      "mean_log_p,shapetorch.Size([]), -199.77810668945312\n",
      "mean_log_q.shapetorch.Size([]), -47.29447937011719\n",
      "mean_log_p,shapetorch.Size([]), -197.716552734375\n",
      "mean_log_q.shapetorch.Size([]), -46.05495834350586\n"
     ]
    },
    {
     "name": "stderr",
     "output_type": "stream",
     "text": [
      "  8%|▊         | 75/938 [00:04<00:51, 16.77it/s]"
     ]
    },
    {
     "name": "stdout",
     "output_type": "stream",
     "text": [
      "mean_log_p,shapetorch.Size([]), -190.38137817382812\n",
      "mean_log_q.shapetorch.Size([]), -46.203758239746094\n"
     ]
    },
    {
     "name": "stderr",
     "output_type": "stream",
     "text": [
      "  8%|▊         | 77/938 [00:04<00:54, 15.75it/s]"
     ]
    },
    {
     "name": "stdout",
     "output_type": "stream",
     "text": [
      "mean_log_p,shapetorch.Size([]), -197.44435119628906\n",
      "mean_log_q.shapetorch.Size([]), -46.388877868652344\n",
      "mean_log_p,shapetorch.Size([]), -199.88455200195312\n",
      "mean_log_q.shapetorch.Size([]), -47.24629211425781\n",
      "mean_log_p,shapetorch.Size([]), -197.15811157226562\n",
      "mean_log_q.shapetorch.Size([]), -47.16753387451172\n"
     ]
    },
    {
     "name": "stderr",
     "output_type": "stream",
     "text": [
      "  8%|▊         | 79/938 [00:04<00:56, 15.11it/s]"
     ]
    },
    {
     "name": "stdout",
     "output_type": "stream",
     "text": [
      "mean_log_p,shapetorch.Size([]), -187.62545776367188\n",
      "mean_log_q.shapetorch.Size([]), -47.45733642578125\n",
      "mean_log_p,shapetorch.Size([]), -198.52532958984375\n",
      "mean_log_q.shapetorch.Size([]), -47.97042465209961\n"
     ]
    },
    {
     "name": "stderr",
     "output_type": "stream",
     "text": [
      "  9%|▊         | 81/938 [00:04<00:58, 14.71it/s]"
     ]
    },
    {
     "name": "stdout",
     "output_type": "stream",
     "text": [
      "mean_log_p,shapetorch.Size([]), -192.07090759277344\n",
      "mean_log_q.shapetorch.Size([]), -47.80646514892578\n"
     ]
    },
    {
     "name": "stderr",
     "output_type": "stream",
     "text": [
      "  9%|▉         | 83/938 [00:04<00:59, 14.28it/s]"
     ]
    },
    {
     "name": "stdout",
     "output_type": "stream",
     "text": [
      "mean_log_p,shapetorch.Size([]), -202.7651824951172\n",
      "mean_log_q.shapetorch.Size([]), -48.225364685058594\n",
      "mean_log_p,shapetorch.Size([]), -191.94906616210938\n",
      "mean_log_q.shapetorch.Size([]), -48.1441650390625\n",
      "mean_log_p,shapetorch.Size([]), -196.75416564941406\n",
      "mean_log_q.shapetorch.Size([]), -47.32732391357422\n"
     ]
    },
    {
     "name": "stderr",
     "output_type": "stream",
     "text": [
      "  9%|▉         | 85/938 [00:05<01:00, 14.08it/s]"
     ]
    },
    {
     "name": "stdout",
     "output_type": "stream",
     "text": [
      "mean_log_p,shapetorch.Size([]), -190.7600555419922\n",
      "mean_log_q.shapetorch.Size([]), -48.142173767089844\n",
      "mean_log_p,shapetorch.Size([]), -192.84262084960938\n",
      "mean_log_q.shapetorch.Size([]), -47.415618896484375\n"
     ]
    },
    {
     "name": "stderr",
     "output_type": "stream",
     "text": [
      "  9%|▉         | 87/938 [00:05<01:01, 13.89it/s]"
     ]
    },
    {
     "name": "stdout",
     "output_type": "stream",
     "text": [
      "mean_log_p,shapetorch.Size([]), -201.567626953125\n",
      "mean_log_q.shapetorch.Size([]), -47.785667419433594\n",
      "mean_log_p,shapetorch.Size([]), -191.87026977539062\n",
      "mean_log_q.shapetorch.Size([]), -46.66619110107422\n",
      "mean_log_p,shapetorch.Size([]), -201.05807495117188\n",
      "mean_log_q.shapetorch.Size([]), -46.62624740600586\n"
     ]
    },
    {
     "name": "stderr",
     "output_type": "stream",
     "text": [
      " 10%|▉         | 91/938 [00:05<00:47, 17.67it/s]"
     ]
    },
    {
     "name": "stdout",
     "output_type": "stream",
     "text": [
      "mean_log_p,shapetorch.Size([]), -198.501953125\n",
      "mean_log_q.shapetorch.Size([]), -47.43011474609375\n"
     ]
    },
    {
     "name": "stderr",
     "output_type": "stream",
     "text": [
      " 10%|▉         | 93/938 [00:05<00:52, 15.96it/s]"
     ]
    },
    {
     "name": "stdout",
     "output_type": "stream",
     "text": [
      "mean_log_p,shapetorch.Size([]), -206.6707305908203\n",
      "mean_log_q.shapetorch.Size([]), -46.1263313293457\n",
      "mean_log_p,shapetorch.Size([]), -193.1226806640625\n",
      "mean_log_q.shapetorch.Size([]), -46.79298400878906\n",
      "mean_log_p,shapetorch.Size([]), -200.40069580078125\n",
      "mean_log_q.shapetorch.Size([]), -47.38606262207031\n"
     ]
    },
    {
     "name": "stderr",
     "output_type": "stream",
     "text": [
      " 10%|█         | 95/938 [00:05<00:56, 14.86it/s]"
     ]
    },
    {
     "name": "stdout",
     "output_type": "stream",
     "text": [
      "mean_log_p,shapetorch.Size([]), -193.5296630859375\n",
      "mean_log_q.shapetorch.Size([]), -46.8320426940918\n",
      "mean_log_p,shapetorch.Size([]), -191.43203735351562\n",
      "mean_log_q.shapetorch.Size([]), -47.61781311035156\n"
     ]
    },
    {
     "name": "stderr",
     "output_type": "stream",
     "text": [
      " 10%|█         | 97/938 [00:05<01:00, 13.85it/s]"
     ]
    },
    {
     "name": "stdout",
     "output_type": "stream",
     "text": [
      "mean_log_p,shapetorch.Size([]), -198.74124145507812\n",
      "mean_log_q.shapetorch.Size([]), -47.68083190917969\n"
     ]
    },
    {
     "name": "stderr",
     "output_type": "stream",
     "text": [
      " 11%|█         | 99/938 [00:05<01:02, 13.35it/s]"
     ]
    },
    {
     "name": "stdout",
     "output_type": "stream",
     "text": [
      "mean_log_p,shapetorch.Size([]), -193.487548828125\n",
      "mean_log_q.shapetorch.Size([]), -47.928157806396484\n",
      "mean_log_p,shapetorch.Size([]), -204.09912109375\n",
      "mean_log_q.shapetorch.Size([]), -47.81758117675781\n",
      "mean_log_p,shapetorch.Size([]), -191.80133056640625\n",
      "mean_log_q.shapetorch.Size([]), -47.63197326660156\n"
     ]
    },
    {
     "name": "stderr",
     "output_type": "stream",
     "text": [
      " 11%|█         | 101/938 [00:06<01:04, 12.93it/s]"
     ]
    },
    {
     "name": "stdout",
     "output_type": "stream",
     "text": [
      "mean_log_p,shapetorch.Size([]), -192.33416748046875\n",
      "mean_log_q.shapetorch.Size([]), -47.73035430908203\n",
      "mean_log_p,shapetorch.Size([]), -208.17672729492188\n",
      "mean_log_q.shapetorch.Size([]), -48.204193115234375\n"
     ]
    },
    {
     "name": "stderr",
     "output_type": "stream",
     "text": [
      " 11%|█         | 103/938 [00:06<01:05, 12.76it/s]"
     ]
    },
    {
     "name": "stdout",
     "output_type": "stream",
     "text": [
      "mean_log_p,shapetorch.Size([]), -197.941650390625\n",
      "mean_log_q.shapetorch.Size([]), -47.3231201171875\n"
     ]
    },
    {
     "name": "stderr",
     "output_type": "stream",
     "text": [
      " 11%|█         | 105/938 [00:06<01:05, 12.69it/s]"
     ]
    },
    {
     "name": "stdout",
     "output_type": "stream",
     "text": [
      "mean_log_p,shapetorch.Size([]), -198.43109130859375\n",
      "mean_log_q.shapetorch.Size([]), -46.98023986816406\n",
      "mean_log_p,shapetorch.Size([]), -198.42221069335938\n",
      "mean_log_q.shapetorch.Size([]), -47.131587982177734\n",
      "mean_log_p,shapetorch.Size([]), -195.15553283691406\n",
      "mean_log_q.shapetorch.Size([]), -47.36460876464844\n"
     ]
    },
    {
     "name": "stderr",
     "output_type": "stream",
     "text": [
      " 11%|█▏        | 107/938 [00:06<01:06, 12.49it/s]"
     ]
    },
    {
     "name": "stdout",
     "output_type": "stream",
     "text": [
      "mean_log_p,shapetorch.Size([]), -196.20782470703125\n",
      "mean_log_q.shapetorch.Size([]), -47.31209182739258\n",
      "mean_log_p,shapetorch.Size([]), -195.90093994140625\n",
      "mean_log_q.shapetorch.Size([]), -46.501914978027344\n"
     ]
    },
    {
     "name": "stderr",
     "output_type": "stream",
     "text": [
      " 12%|█▏        | 111/938 [00:06<00:51, 16.04it/s]"
     ]
    },
    {
     "name": "stdout",
     "output_type": "stream",
     "text": [
      "mean_log_p,shapetorch.Size([]), -203.7882843017578\n",
      "mean_log_q.shapetorch.Size([]), -46.7654914855957\n"
     ]
    },
    {
     "name": "stderr",
     "output_type": "stream",
     "text": [
      " 12%|█▏        | 113/938 [00:06<00:55, 14.96it/s]"
     ]
    },
    {
     "name": "stdout",
     "output_type": "stream",
     "text": [
      "mean_log_p,shapetorch.Size([]), -192.42176818847656\n",
      "mean_log_q.shapetorch.Size([]), -46.3813591003418\n",
      "mean_log_p,shapetorch.Size([]), -188.82626342773438\n",
      "mean_log_q.shapetorch.Size([]), -46.24680709838867\n",
      "mean_log_p,shapetorch.Size([]), -192.09051513671875\n",
      "mean_log_q.shapetorch.Size([]), -47.1357421875\n"
     ]
    },
    {
     "name": "stderr",
     "output_type": "stream",
     "text": [
      " 12%|█▏        | 115/938 [00:07<00:59, 13.84it/s]"
     ]
    },
    {
     "name": "stdout",
     "output_type": "stream",
     "text": [
      "mean_log_p,shapetorch.Size([]), -191.7511749267578\n",
      "mean_log_q.shapetorch.Size([]), -47.161659240722656\n",
      "mean_log_p,shapetorch.Size([]), -187.17897033691406\n",
      "mean_log_q.shapetorch.Size([]), -47.56713104248047\n"
     ]
    },
    {
     "name": "stderr",
     "output_type": "stream",
     "text": [
      " 12%|█▏        | 117/938 [00:07<01:02, 13.17it/s]"
     ]
    },
    {
     "name": "stdout",
     "output_type": "stream",
     "text": [
      "mean_log_p,shapetorch.Size([]), -191.8624725341797\n",
      "mean_log_q.shapetorch.Size([]), -46.331336975097656\n"
     ]
    },
    {
     "name": "stderr",
     "output_type": "stream",
     "text": [
      " 13%|█▎        | 119/938 [00:07<01:03, 12.91it/s]"
     ]
    },
    {
     "name": "stdout",
     "output_type": "stream",
     "text": [
      "mean_log_p,shapetorch.Size([]), -191.6387939453125\n",
      "mean_log_q.shapetorch.Size([]), -46.808258056640625\n",
      "mean_log_p,shapetorch.Size([]), -195.25778198242188\n",
      "mean_log_q.shapetorch.Size([]), -47.84911346435547\n",
      "mean_log_p,shapetorch.Size([]), -196.03955078125\n",
      "mean_log_q.shapetorch.Size([]), -47.029754638671875\n"
     ]
    },
    {
     "name": "stderr",
     "output_type": "stream",
     "text": [
      " 13%|█▎        | 121/938 [00:07<01:04, 12.72it/s]"
     ]
    },
    {
     "name": "stdout",
     "output_type": "stream",
     "text": [
      "mean_log_p,shapetorch.Size([]), -192.3099365234375\n",
      "mean_log_q.shapetorch.Size([]), -47.087120056152344\n",
      "mean_log_p,shapetorch.Size([]), -194.0893096923828\n",
      "mean_log_q.shapetorch.Size([]), -47.259803771972656\n"
     ]
    },
    {
     "name": "stderr",
     "output_type": "stream",
     "text": [
      " 13%|█▎        | 123/938 [00:07<01:04, 12.71it/s]"
     ]
    },
    {
     "name": "stdout",
     "output_type": "stream",
     "text": [
      "mean_log_p,shapetorch.Size([]), -195.53707885742188\n",
      "mean_log_q.shapetorch.Size([]), -47.19489288330078\n"
     ]
    },
    {
     "name": "stderr",
     "output_type": "stream",
     "text": [
      " 13%|█▎        | 125/938 [00:07<01:04, 12.65it/s]"
     ]
    },
    {
     "name": "stdout",
     "output_type": "stream",
     "text": [
      "mean_log_p,shapetorch.Size([]), -184.54115295410156\n",
      "mean_log_q.shapetorch.Size([]), -46.37168884277344\n",
      "mean_log_p,shapetorch.Size([]), -203.11801147460938\n",
      "mean_log_q.shapetorch.Size([]), -47.517677307128906\n",
      "mean_log_p,shapetorch.Size([]), -191.11386108398438\n",
      "mean_log_q.shapetorch.Size([]), -46.43800354003906\n"
     ]
    },
    {
     "name": "stderr",
     "output_type": "stream",
     "text": [
      " 14%|█▎        | 127/938 [00:08<01:03, 12.71it/s]"
     ]
    },
    {
     "name": "stdout",
     "output_type": "stream",
     "text": [
      "mean_log_p,shapetorch.Size([]), -202.25564575195312\n",
      "mean_log_q.shapetorch.Size([]), -46.646453857421875\n",
      "mean_log_p,shapetorch.Size([]), -186.27920532226562\n",
      "mean_log_q.shapetorch.Size([]), -46.150062561035156\n"
     ]
    },
    {
     "name": "stderr",
     "output_type": "stream",
     "text": [
      " 14%|█▍        | 129/938 [00:08<01:03, 12.71it/s]"
     ]
    },
    {
     "name": "stdout",
     "output_type": "stream",
     "text": [
      "mean_log_p,shapetorch.Size([]), -199.7077178955078\n",
      "mean_log_q.shapetorch.Size([]), -46.482574462890625\n"
     ]
    },
    {
     "name": "stderr",
     "output_type": "stream",
     "text": [
      " 14%|█▍        | 133/938 [00:08<00:49, 16.34it/s]"
     ]
    },
    {
     "name": "stdout",
     "output_type": "stream",
     "text": [
      "mean_log_p,shapetorch.Size([]), -187.91586303710938\n",
      "mean_log_q.shapetorch.Size([]), -47.0838737487793\n",
      "mean_log_p,shapetorch.Size([]), -189.90310668945312\n",
      "mean_log_q.shapetorch.Size([]), -47.131126403808594\n",
      "mean_log_p,shapetorch.Size([]), -202.2760009765625\n",
      "mean_log_q.shapetorch.Size([]), -47.53635025024414\n"
     ]
    },
    {
     "name": "stderr",
     "output_type": "stream",
     "text": [
      " 14%|█▍        | 135/938 [00:08<00:53, 15.05it/s]"
     ]
    },
    {
     "name": "stdout",
     "output_type": "stream",
     "text": [
      "mean_log_p,shapetorch.Size([]), -194.50192260742188\n",
      "mean_log_q.shapetorch.Size([]), -46.26348876953125\n",
      "mean_log_p,shapetorch.Size([]), -186.5125732421875\n",
      "mean_log_q.shapetorch.Size([]), -46.71803665161133\n"
     ]
    },
    {
     "name": "stderr",
     "output_type": "stream",
     "text": [
      " 15%|█▍        | 137/938 [00:08<00:55, 14.44it/s]"
     ]
    },
    {
     "name": "stdout",
     "output_type": "stream",
     "text": [
      "mean_log_p,shapetorch.Size([]), -196.4837646484375\n",
      "mean_log_q.shapetorch.Size([]), -46.68267822265625\n"
     ]
    },
    {
     "name": "stderr",
     "output_type": "stream",
     "text": [
      " 15%|█▍        | 139/938 [00:08<00:57, 13.92it/s]"
     ]
    },
    {
     "name": "stdout",
     "output_type": "stream",
     "text": [
      "mean_log_p,shapetorch.Size([]), -199.27333068847656\n",
      "mean_log_q.shapetorch.Size([]), -46.5318603515625\n",
      "mean_log_p,shapetorch.Size([]), -178.1947021484375\n",
      "mean_log_q.shapetorch.Size([]), -46.625205993652344\n",
      "mean_log_p,shapetorch.Size([]), -193.83297729492188\n",
      "mean_log_q.shapetorch.Size([]), -47.54318618774414\n"
     ]
    },
    {
     "name": "stderr",
     "output_type": "stream",
     "text": [
      " 15%|█▌        | 141/938 [00:09<01:00, 13.26it/s]"
     ]
    },
    {
     "name": "stdout",
     "output_type": "stream",
     "text": [
      "mean_log_p,shapetorch.Size([]), -198.55191040039062\n",
      "mean_log_q.shapetorch.Size([]), -46.61219024658203\n",
      "mean_log_p,shapetorch.Size([]), -184.6805419921875\n",
      "mean_log_q.shapetorch.Size([]), -46.891849517822266\n"
     ]
    },
    {
     "name": "stderr",
     "output_type": "stream",
     "text": [
      " 15%|█▌        | 143/938 [00:09<01:00, 13.15it/s]"
     ]
    },
    {
     "name": "stdout",
     "output_type": "stream",
     "text": [
      "mean_log_p,shapetorch.Size([]), -187.46292114257812\n",
      "mean_log_q.shapetorch.Size([]), -47.13025665283203\n"
     ]
    },
    {
     "name": "stderr",
     "output_type": "stream",
     "text": [
      " 15%|█▌        | 145/938 [00:09<01:01, 13.00it/s]"
     ]
    },
    {
     "name": "stdout",
     "output_type": "stream",
     "text": [
      "mean_log_p,shapetorch.Size([]), -197.49761962890625\n",
      "mean_log_q.shapetorch.Size([]), -47.43109130859375\n",
      "mean_log_p,shapetorch.Size([]), -188.31671142578125\n",
      "mean_log_q.shapetorch.Size([]), -47.06227111816406\n",
      "mean_log_p,shapetorch.Size([]), -195.71446228027344\n",
      "mean_log_q.shapetorch.Size([]), -47.04594421386719\n"
     ]
    },
    {
     "name": "stderr",
     "output_type": "stream",
     "text": [
      " 16%|█▌        | 147/938 [00:09<01:03, 12.55it/s]"
     ]
    },
    {
     "name": "stdout",
     "output_type": "stream",
     "text": [
      "mean_log_p,shapetorch.Size([]), -194.166748046875\n",
      "mean_log_q.shapetorch.Size([]), -46.67656707763672\n",
      "mean_log_p,shapetorch.Size([]), -190.2065887451172\n",
      "mean_log_q.shapetorch.Size([]), -47.36344909667969\n"
     ]
    },
    {
     "name": "stderr",
     "output_type": "stream",
     "text": [
      " 16%|█▌        | 149/938 [00:09<01:02, 12.59it/s]"
     ]
    },
    {
     "name": "stdout",
     "output_type": "stream",
     "text": [
      "mean_log_p,shapetorch.Size([]), -198.68275451660156\n",
      "mean_log_q.shapetorch.Size([]), -46.481441497802734\n"
     ]
    },
    {
     "name": "stderr",
     "output_type": "stream",
     "text": [
      " 16%|█▌        | 151/938 [00:09<01:02, 12.60it/s]"
     ]
    },
    {
     "name": "stdout",
     "output_type": "stream",
     "text": [
      "mean_log_p,shapetorch.Size([]), -188.38265991210938\n",
      "mean_log_q.shapetorch.Size([]), -46.38995361328125\n",
      "mean_log_p,shapetorch.Size([]), -189.38726806640625\n",
      "mean_log_q.shapetorch.Size([]), -47.28751754760742\n",
      "mean_log_p,shapetorch.Size([]), -190.13052368164062\n",
      "mean_log_q.shapetorch.Size([]), -47.795631408691406\n"
     ]
    },
    {
     "name": "stderr",
     "output_type": "stream",
     "text": [
      " 16%|█▋        | 153/938 [00:10<01:04, 12.18it/s]"
     ]
    },
    {
     "name": "stdout",
     "output_type": "stream",
     "text": [
      "mean_log_p,shapetorch.Size([]), -193.34469604492188\n",
      "mean_log_q.shapetorch.Size([]), -47.02783966064453\n",
      "mean_log_p,shapetorch.Size([]), -187.17172241210938\n",
      "mean_log_q.shapetorch.Size([]), -46.75901412963867\n"
     ]
    },
    {
     "name": "stderr",
     "output_type": "stream",
     "text": [
      " 17%|█▋        | 157/938 [00:10<00:49, 15.66it/s]"
     ]
    },
    {
     "name": "stdout",
     "output_type": "stream",
     "text": [
      "mean_log_p,shapetorch.Size([]), -189.62966918945312\n",
      "mean_log_q.shapetorch.Size([]), -46.930030822753906\n"
     ]
    },
    {
     "name": "stderr",
     "output_type": "stream",
     "text": [
      " 17%|█▋        | 159/938 [00:10<00:53, 14.58it/s]"
     ]
    },
    {
     "name": "stdout",
     "output_type": "stream",
     "text": [
      "mean_log_p,shapetorch.Size([]), -193.51734924316406\n",
      "mean_log_q.shapetorch.Size([]), -46.80461883544922\n",
      "mean_log_p,shapetorch.Size([]), -193.75540161132812\n",
      "mean_log_q.shapetorch.Size([]), -46.684967041015625\n",
      "mean_log_p,shapetorch.Size([]), -190.62200927734375\n",
      "mean_log_q.shapetorch.Size([]), -46.23883819580078\n"
     ]
    },
    {
     "name": "stderr",
     "output_type": "stream",
     "text": [
      " 17%|█▋        | 161/938 [00:10<00:56, 13.75it/s]"
     ]
    },
    {
     "name": "stdout",
     "output_type": "stream",
     "text": [
      "mean_log_p,shapetorch.Size([]), -205.77655029296875\n",
      "mean_log_q.shapetorch.Size([]), -46.68769454956055\n",
      "mean_log_p,shapetorch.Size([]), -195.69021606445312\n",
      "mean_log_q.shapetorch.Size([]), -47.56059646606445\n"
     ]
    },
    {
     "name": "stderr",
     "output_type": "stream",
     "text": [
      " 17%|█▋        | 163/938 [00:10<00:57, 13.46it/s]"
     ]
    },
    {
     "name": "stdout",
     "output_type": "stream",
     "text": [
      "mean_log_p,shapetorch.Size([]), -196.55673217773438\n",
      "mean_log_q.shapetorch.Size([]), -46.957706451416016\n"
     ]
    },
    {
     "name": "stderr",
     "output_type": "stream",
     "text": [
      " 18%|█▊        | 165/938 [00:10<00:59, 13.05it/s]"
     ]
    },
    {
     "name": "stdout",
     "output_type": "stream",
     "text": [
      "mean_log_p,shapetorch.Size([]), -194.7521514892578\n",
      "mean_log_q.shapetorch.Size([]), -47.259185791015625\n",
      "mean_log_p,shapetorch.Size([]), -191.96034240722656\n",
      "mean_log_q.shapetorch.Size([]), -46.047569274902344\n",
      "mean_log_p,shapetorch.Size([]), -188.43186950683594\n",
      "mean_log_q.shapetorch.Size([]), -46.91607666015625\n"
     ]
    },
    {
     "name": "stderr",
     "output_type": "stream",
     "text": [
      " 18%|█▊        | 167/938 [00:11<00:59, 12.88it/s]"
     ]
    },
    {
     "name": "stdout",
     "output_type": "stream",
     "text": [
      "mean_log_p,shapetorch.Size([]), -188.33251953125\n",
      "mean_log_q.shapetorch.Size([]), -46.50035095214844\n",
      "mean_log_p,shapetorch.Size([]), -202.3536376953125\n",
      "mean_log_q.shapetorch.Size([]), -46.35188293457031\n"
     ]
    },
    {
     "name": "stderr",
     "output_type": "stream",
     "text": [
      " 18%|█▊        | 169/938 [00:11<00:59, 12.91it/s]"
     ]
    },
    {
     "name": "stdout",
     "output_type": "stream",
     "text": [
      "mean_log_p,shapetorch.Size([]), -180.66744995117188\n",
      "mean_log_q.shapetorch.Size([]), -46.35725021362305\n"
     ]
    },
    {
     "name": "stderr",
     "output_type": "stream",
     "text": [
      " 18%|█▊        | 171/938 [00:11<01:01, 12.55it/s]"
     ]
    },
    {
     "name": "stdout",
     "output_type": "stream",
     "text": [
      "mean_log_p,shapetorch.Size([]), -199.71533203125\n",
      "mean_log_q.shapetorch.Size([]), -48.004947662353516\n",
      "mean_log_p,shapetorch.Size([]), -189.2744140625\n",
      "mean_log_q.shapetorch.Size([]), -46.54389572143555\n",
      "mean_log_p,shapetorch.Size([]), -185.61370849609375\n",
      "mean_log_q.shapetorch.Size([]), -47.475311279296875\n"
     ]
    },
    {
     "name": "stderr",
     "output_type": "stream",
     "text": [
      " 18%|█▊        | 173/938 [00:11<01:00, 12.60it/s]"
     ]
    },
    {
     "name": "stdout",
     "output_type": "stream",
     "text": [
      "mean_log_p,shapetorch.Size([]), -203.86978149414062\n",
      "mean_log_q.shapetorch.Size([]), -46.001609802246094\n",
      "mean_log_p,shapetorch.Size([]), -198.50599670410156\n",
      "mean_log_q.shapetorch.Size([]), -47.381492614746094\n"
     ]
    },
    {
     "name": "stderr",
     "output_type": "stream",
     "text": [
      " 19%|█▊        | 175/938 [00:11<01:00, 12.57it/s]"
     ]
    },
    {
     "name": "stdout",
     "output_type": "stream",
     "text": [
      "mean_log_p,shapetorch.Size([]), -194.12173461914062\n",
      "mean_log_q.shapetorch.Size([]), -46.518882751464844\n"
     ]
    },
    {
     "name": "stderr",
     "output_type": "stream",
     "text": [
      " 19%|█▉        | 177/938 [00:11<01:01, 12.32it/s]"
     ]
    },
    {
     "name": "stdout",
     "output_type": "stream",
     "text": [
      "mean_log_p,shapetorch.Size([]), -197.85397338867188\n",
      "mean_log_q.shapetorch.Size([]), -46.76963806152344\n",
      "mean_log_p,shapetorch.Size([]), -188.228515625\n",
      "mean_log_q.shapetorch.Size([]), -46.50736999511719\n",
      "mean_log_p,shapetorch.Size([]), -192.98233032226562\n",
      "mean_log_q.shapetorch.Size([]), -46.439186096191406\n"
     ]
    },
    {
     "name": "stderr",
     "output_type": "stream",
     "text": [
      " 19%|█▉        | 179/938 [00:12<01:01, 12.27it/s]"
     ]
    },
    {
     "name": "stdout",
     "output_type": "stream",
     "text": [
      "mean_log_p,shapetorch.Size([]), -198.87246704101562\n",
      "mean_log_q.shapetorch.Size([]), -46.138614654541016\n",
      "mean_log_p,shapetorch.Size([]), -191.28182983398438\n",
      "mean_log_q.shapetorch.Size([]), -45.6116828918457\n"
     ]
    },
    {
     "name": "stderr",
     "output_type": "stream",
     "text": [
      " 20%|█▉        | 183/938 [00:12<00:46, 16.21it/s]"
     ]
    },
    {
     "name": "stdout",
     "output_type": "stream",
     "text": [
      "mean_log_p,shapetorch.Size([]), -190.34393310546875\n",
      "mean_log_q.shapetorch.Size([]), -46.71772766113281\n"
     ]
    },
    {
     "name": "stderr",
     "output_type": "stream",
     "text": [
      " 20%|█▉        | 185/938 [00:12<00:49, 15.21it/s]"
     ]
    },
    {
     "name": "stdout",
     "output_type": "stream",
     "text": [
      "mean_log_p,shapetorch.Size([]), -192.14503479003906\n",
      "mean_log_q.shapetorch.Size([]), -46.30619812011719\n",
      "mean_log_p,shapetorch.Size([]), -187.56915283203125\n",
      "mean_log_q.shapetorch.Size([]), -47.0977783203125\n",
      "mean_log_p,shapetorch.Size([]), -205.31182861328125\n",
      "mean_log_q.shapetorch.Size([]), -47.18354797363281\n"
     ]
    },
    {
     "name": "stderr",
     "output_type": "stream",
     "text": [
      " 20%|█▉        | 187/938 [00:12<00:53, 14.00it/s]"
     ]
    },
    {
     "name": "stdout",
     "output_type": "stream",
     "text": [
      "mean_log_p,shapetorch.Size([]), -193.48388671875\n",
      "mean_log_q.shapetorch.Size([]), -47.57733917236328\n",
      "mean_log_p,shapetorch.Size([]), -191.27630615234375\n",
      "mean_log_q.shapetorch.Size([]), -47.469757080078125\n"
     ]
    },
    {
     "name": "stderr",
     "output_type": "stream",
     "text": [
      " 20%|██        | 189/938 [00:12<00:57, 13.01it/s]"
     ]
    },
    {
     "name": "stdout",
     "output_type": "stream",
     "text": [
      "mean_log_p,shapetorch.Size([]), -193.128173828125\n",
      "mean_log_q.shapetorch.Size([]), -47.62582015991211\n"
     ]
    },
    {
     "name": "stderr",
     "output_type": "stream",
     "text": [
      " 20%|██        | 191/938 [00:12<00:57, 12.92it/s]"
     ]
    },
    {
     "name": "stdout",
     "output_type": "stream",
     "text": [
      "mean_log_p,shapetorch.Size([]), -184.22793579101562\n",
      "mean_log_q.shapetorch.Size([]), -47.44224548339844\n",
      "mean_log_p,shapetorch.Size([]), -192.3916015625\n",
      "mean_log_q.shapetorch.Size([]), -47.0731201171875\n",
      "mean_log_p,shapetorch.Size([]), -195.50462341308594\n",
      "mean_log_q.shapetorch.Size([]), -46.65699005126953\n"
     ]
    },
    {
     "name": "stderr",
     "output_type": "stream",
     "text": [
      " 21%|██        | 193/938 [00:13<00:59, 12.45it/s]"
     ]
    },
    {
     "name": "stdout",
     "output_type": "stream",
     "text": [
      "mean_log_p,shapetorch.Size([]), -183.69253540039062\n",
      "mean_log_q.shapetorch.Size([]), -46.381866455078125\n",
      "mean_log_p,shapetorch.Size([]), -201.8349151611328\n",
      "mean_log_q.shapetorch.Size([]), -45.74546813964844\n"
     ]
    },
    {
     "name": "stderr",
     "output_type": "stream",
     "text": [
      " 21%|██        | 195/938 [00:13<01:00, 12.38it/s]"
     ]
    },
    {
     "name": "stdout",
     "output_type": "stream",
     "text": [
      "mean_log_p,shapetorch.Size([]), -187.33718872070312\n",
      "mean_log_q.shapetorch.Size([]), -47.11865234375\n"
     ]
    },
    {
     "name": "stderr",
     "output_type": "stream",
     "text": [
      " 21%|██        | 197/938 [00:13<01:00, 12.24it/s]"
     ]
    },
    {
     "name": "stdout",
     "output_type": "stream",
     "text": [
      "mean_log_p,shapetorch.Size([]), -189.95484924316406\n",
      "mean_log_q.shapetorch.Size([]), -46.30217742919922\n",
      "mean_log_p,shapetorch.Size([]), -187.06314086914062\n",
      "mean_log_q.shapetorch.Size([]), -46.40078353881836\n",
      "mean_log_p,shapetorch.Size([]), -196.91180419921875\n",
      "mean_log_q.shapetorch.Size([]), -44.913055419921875\n"
     ]
    },
    {
     "name": "stderr",
     "output_type": "stream",
     "text": [
      " 21%|██        | 199/938 [00:13<01:00, 12.23it/s]"
     ]
    },
    {
     "name": "stdout",
     "output_type": "stream",
     "text": [
      "mean_log_p,shapetorch.Size([]), -183.14303588867188\n",
      "mean_log_q.shapetorch.Size([]), -46.522430419921875\n",
      "mean_log_p,shapetorch.Size([]), -189.75941467285156\n",
      "mean_log_q.shapetorch.Size([]), -46.37810134887695\n"
     ]
    },
    {
     "name": "stderr",
     "output_type": "stream",
     "text": [
      " 21%|██▏       | 201/938 [00:13<00:59, 12.35it/s]"
     ]
    },
    {
     "name": "stdout",
     "output_type": "stream",
     "text": [
      "mean_log_p,shapetorch.Size([]), -191.2875518798828\n",
      "mean_log_q.shapetorch.Size([]), -46.213623046875\n"
     ]
    },
    {
     "name": "stderr",
     "output_type": "stream",
     "text": [
      " 22%|██▏       | 203/938 [00:13<00:59, 12.26it/s]"
     ]
    },
    {
     "name": "stdout",
     "output_type": "stream",
     "text": [
      "mean_log_p,shapetorch.Size([]), -195.638671875\n",
      "mean_log_q.shapetorch.Size([]), -46.92351531982422\n",
      "mean_log_p,shapetorch.Size([]), -205.2013702392578\n",
      "mean_log_q.shapetorch.Size([]), -46.13553237915039\n",
      "mean_log_p,shapetorch.Size([]), -193.99826049804688\n",
      "mean_log_q.shapetorch.Size([]), -46.37432861328125\n"
     ]
    },
    {
     "name": "stderr",
     "output_type": "stream",
     "text": [
      " 22%|██▏       | 205/938 [00:14<01:00, 12.18it/s]"
     ]
    },
    {
     "name": "stdout",
     "output_type": "stream",
     "text": [
      "mean_log_p,shapetorch.Size([]), -191.6039581298828\n",
      "mean_log_q.shapetorch.Size([]), -45.907203674316406\n",
      "mean_log_p,shapetorch.Size([]), -194.00738525390625\n",
      "mean_log_q.shapetorch.Size([]), -47.410369873046875\n"
     ]
    },
    {
     "name": "stderr",
     "output_type": "stream",
     "text": [
      " 22%|██▏       | 207/938 [00:14<01:00, 12.16it/s]"
     ]
    },
    {
     "name": "stdout",
     "output_type": "stream",
     "text": [
      "mean_log_p,shapetorch.Size([]), -193.63267517089844\n",
      "mean_log_q.shapetorch.Size([]), -46.51417541503906\n"
     ]
    },
    {
     "name": "stderr",
     "output_type": "stream",
     "text": [
      " 22%|██▏       | 211/938 [00:14<00:45, 15.94it/s]"
     ]
    },
    {
     "name": "stdout",
     "output_type": "stream",
     "text": [
      "mean_log_p,shapetorch.Size([]), -192.11367797851562\n",
      "mean_log_q.shapetorch.Size([]), -46.470279693603516\n",
      "mean_log_p,shapetorch.Size([]), -196.20648193359375\n",
      "mean_log_q.shapetorch.Size([]), -46.52683639526367\n",
      "mean_log_p,shapetorch.Size([]), -191.95623779296875\n",
      "mean_log_q.shapetorch.Size([]), -46.86592483520508\n"
     ]
    },
    {
     "name": "stderr",
     "output_type": "stream",
     "text": [
      " 23%|██▎       | 213/938 [00:14<00:49, 14.65it/s]"
     ]
    },
    {
     "name": "stdout",
     "output_type": "stream",
     "text": [
      "mean_log_p,shapetorch.Size([]), -181.3419647216797\n",
      "mean_log_q.shapetorch.Size([]), -46.617855072021484\n",
      "mean_log_p,shapetorch.Size([]), -194.02200317382812\n",
      "mean_log_q.shapetorch.Size([]), -46.22434997558594\n"
     ]
    },
    {
     "name": "stderr",
     "output_type": "stream",
     "text": [
      " 23%|██▎       | 215/938 [00:14<00:51, 14.02it/s]"
     ]
    },
    {
     "name": "stdout",
     "output_type": "stream",
     "text": [
      "mean_log_p,shapetorch.Size([]), -187.49905395507812\n",
      "mean_log_q.shapetorch.Size([]), -46.81470489501953\n"
     ]
    },
    {
     "name": "stderr",
     "output_type": "stream",
     "text": [
      " 23%|██▎       | 217/938 [00:14<00:53, 13.51it/s]"
     ]
    },
    {
     "name": "stdout",
     "output_type": "stream",
     "text": [
      "mean_log_p,shapetorch.Size([]), -190.7581024169922\n",
      "mean_log_q.shapetorch.Size([]), -47.018760681152344\n",
      "mean_log_p,shapetorch.Size([]), -185.06117248535156\n",
      "mean_log_q.shapetorch.Size([]), -47.01649475097656\n",
      "mean_log_p,shapetorch.Size([]), -191.93466186523438\n",
      "mean_log_q.shapetorch.Size([]), -46.820072174072266\n"
     ]
    },
    {
     "name": "stderr",
     "output_type": "stream",
     "text": [
      " 23%|██▎       | 219/938 [00:14<00:55, 12.86it/s]"
     ]
    },
    {
     "name": "stdout",
     "output_type": "stream",
     "text": [
      "mean_log_p,shapetorch.Size([]), -202.04452514648438\n",
      "mean_log_q.shapetorch.Size([]), -46.1068229675293\n",
      "mean_log_p,shapetorch.Size([]), -192.92575073242188\n",
      "mean_log_q.shapetorch.Size([]), -47.217926025390625\n"
     ]
    },
    {
     "name": "stderr",
     "output_type": "stream",
     "text": [
      " 24%|██▎       | 221/938 [00:15<00:56, 12.72it/s]"
     ]
    },
    {
     "name": "stdout",
     "output_type": "stream",
     "text": [
      "mean_log_p,shapetorch.Size([]), -192.27560424804688\n",
      "mean_log_q.shapetorch.Size([]), -46.381553649902344\n"
     ]
    },
    {
     "name": "stderr",
     "output_type": "stream",
     "text": [
      " 24%|██▍       | 223/938 [00:15<00:57, 12.47it/s]"
     ]
    },
    {
     "name": "stdout",
     "output_type": "stream",
     "text": [
      "mean_log_p,shapetorch.Size([]), -184.03802490234375\n",
      "mean_log_q.shapetorch.Size([]), -46.629390716552734\n",
      "mean_log_p,shapetorch.Size([]), -191.88580322265625\n",
      "mean_log_q.shapetorch.Size([]), -45.89411926269531\n",
      "mean_log_p,shapetorch.Size([]), -182.54043579101562\n",
      "mean_log_q.shapetorch.Size([]), -46.389747619628906\n"
     ]
    },
    {
     "name": "stderr",
     "output_type": "stream",
     "text": [
      " 24%|██▍       | 225/938 [00:15<00:59, 12.02it/s]"
     ]
    },
    {
     "name": "stdout",
     "output_type": "stream",
     "text": [
      "mean_log_p,shapetorch.Size([]), -193.63648986816406\n",
      "mean_log_q.shapetorch.Size([]), -46.303680419921875\n",
      "mean_log_p,shapetorch.Size([]), -193.60714721679688\n",
      "mean_log_q.shapetorch.Size([]), -45.93888854980469\n"
     ]
    },
    {
     "name": "stderr",
     "output_type": "stream",
     "text": [
      " 24%|██▍       | 227/938 [00:15<00:58, 12.16it/s]"
     ]
    },
    {
     "name": "stdout",
     "output_type": "stream",
     "text": [
      "mean_log_p,shapetorch.Size([]), -186.2881622314453\n",
      "mean_log_q.shapetorch.Size([]), -45.75352478027344\n"
     ]
    },
    {
     "name": "stderr",
     "output_type": "stream",
     "text": [
      " 24%|██▍       | 229/938 [00:15<00:59, 12.01it/s]"
     ]
    },
    {
     "name": "stdout",
     "output_type": "stream",
     "text": [
      "mean_log_p,shapetorch.Size([]), -189.3982696533203\n",
      "mean_log_q.shapetorch.Size([]), -46.772918701171875\n",
      "mean_log_p,shapetorch.Size([]), -189.07186889648438\n",
      "mean_log_q.shapetorch.Size([]), -46.670555114746094\n",
      "mean_log_p,shapetorch.Size([]), -190.11517333984375\n",
      "mean_log_q.shapetorch.Size([]), -46.94842529296875\n"
     ]
    },
    {
     "name": "stderr",
     "output_type": "stream",
     "text": [
      " 25%|██▍       | 231/938 [00:16<01:00, 11.64it/s]"
     ]
    },
    {
     "name": "stdout",
     "output_type": "stream",
     "text": [
      "mean_log_p,shapetorch.Size([]), -187.18734741210938\n",
      "mean_log_q.shapetorch.Size([]), -47.328453063964844\n",
      "mean_log_p,shapetorch.Size([]), -195.05792236328125\n",
      "mean_log_q.shapetorch.Size([]), -46.7550048828125\n"
     ]
    },
    {
     "name": "stderr",
     "output_type": "stream",
     "text": [
      " 25%|██▍       | 233/938 [00:16<00:59, 11.95it/s]"
     ]
    },
    {
     "name": "stdout",
     "output_type": "stream",
     "text": [
      "mean_log_p,shapetorch.Size([]), -190.927490234375\n",
      "mean_log_q.shapetorch.Size([]), -47.22789764404297\n"
     ]
    },
    {
     "name": "stderr",
     "output_type": "stream",
     "text": [
      " 25%|██▌       | 235/938 [00:16<00:58, 12.11it/s]"
     ]
    },
    {
     "name": "stdout",
     "output_type": "stream",
     "text": [
      "mean_log_p,shapetorch.Size([]), -184.93927001953125\n",
      "mean_log_q.shapetorch.Size([]), -46.85786056518555\n",
      "mean_log_p,shapetorch.Size([]), -195.16256713867188\n",
      "mean_log_q.shapetorch.Size([]), -47.361839294433594\n",
      "mean_log_p,shapetorch.Size([]), -182.97833251953125\n",
      "mean_log_q.shapetorch.Size([]), -45.67799377441406\n"
     ]
    },
    {
     "name": "stderr",
     "output_type": "stream",
     "text": [
      " 25%|██▌       | 237/938 [00:16<00:57, 12.11it/s]"
     ]
    },
    {
     "name": "stdout",
     "output_type": "stream",
     "text": [
      "mean_log_p,shapetorch.Size([]), -193.45245361328125\n",
      "mean_log_q.shapetorch.Size([]), -45.88978958129883\n",
      "mean_log_p,shapetorch.Size([]), -189.82272338867188\n",
      "mean_log_q.shapetorch.Size([]), -45.98615646362305\n"
     ]
    },
    {
     "name": "stderr",
     "output_type": "stream",
     "text": [
      " 26%|██▌       | 241/938 [00:16<00:45, 15.25it/s]"
     ]
    },
    {
     "name": "stdout",
     "output_type": "stream",
     "text": [
      "mean_log_p,shapetorch.Size([]), -190.45242309570312\n",
      "mean_log_q.shapetorch.Size([]), -45.59264373779297\n"
     ]
    },
    {
     "name": "stderr",
     "output_type": "stream",
     "text": [
      " 26%|██▌       | 243/938 [00:16<00:48, 14.20it/s]"
     ]
    },
    {
     "name": "stdout",
     "output_type": "stream",
     "text": [
      "mean_log_p,shapetorch.Size([]), -189.66329956054688\n",
      "mean_log_q.shapetorch.Size([]), -45.76679229736328\n",
      "mean_log_p,shapetorch.Size([]), -197.6039581298828\n",
      "mean_log_q.shapetorch.Size([]), -45.59844207763672\n",
      "mean_log_p,shapetorch.Size([]), -195.39285278320312\n",
      "mean_log_q.shapetorch.Size([]), -45.80943298339844\n"
     ]
    },
    {
     "name": "stderr",
     "output_type": "stream",
     "text": [
      " 26%|██▌       | 245/938 [00:17<00:50, 13.75it/s]"
     ]
    },
    {
     "name": "stdout",
     "output_type": "stream",
     "text": [
      "mean_log_p,shapetorch.Size([]), -186.12527465820312\n",
      "mean_log_q.shapetorch.Size([]), -45.370853424072266\n",
      "mean_log_p,shapetorch.Size([]), -192.61288452148438\n",
      "mean_log_q.shapetorch.Size([]), -45.50857162475586\n"
     ]
    },
    {
     "name": "stderr",
     "output_type": "stream",
     "text": [
      " 26%|██▋       | 247/938 [00:17<00:51, 13.35it/s]"
     ]
    },
    {
     "name": "stdout",
     "output_type": "stream",
     "text": [
      "mean_log_p,shapetorch.Size([]), -197.24575805664062\n",
      "mean_log_q.shapetorch.Size([]), -45.56843566894531\n"
     ]
    },
    {
     "name": "stderr",
     "output_type": "stream",
     "text": [
      " 27%|██▋       | 249/938 [00:17<00:53, 12.95it/s]"
     ]
    },
    {
     "name": "stdout",
     "output_type": "stream",
     "text": [
      "mean_log_p,shapetorch.Size([]), -181.908935546875\n",
      "mean_log_q.shapetorch.Size([]), -46.470497131347656\n",
      "mean_log_p,shapetorch.Size([]), -186.82180786132812\n",
      "mean_log_q.shapetorch.Size([]), -46.24507141113281\n",
      "mean_log_p,shapetorch.Size([]), -190.28565979003906\n",
      "mean_log_q.shapetorch.Size([]), -46.274200439453125\n"
     ]
    },
    {
     "name": "stderr",
     "output_type": "stream",
     "text": [
      " 27%|██▋       | 251/938 [00:17<00:53, 12.83it/s]"
     ]
    },
    {
     "name": "stdout",
     "output_type": "stream",
     "text": [
      "mean_log_p,shapetorch.Size([]), -196.47280883789062\n",
      "mean_log_q.shapetorch.Size([]), -46.645084381103516\n",
      "mean_log_p,shapetorch.Size([]), -193.70968627929688\n",
      "mean_log_q.shapetorch.Size([]), -46.34660720825195\n"
     ]
    },
    {
     "name": "stderr",
     "output_type": "stream",
     "text": [
      " 27%|██▋       | 253/938 [00:17<00:53, 12.75it/s]"
     ]
    },
    {
     "name": "stdout",
     "output_type": "stream",
     "text": [
      "mean_log_p,shapetorch.Size([]), -186.71615600585938\n",
      "mean_log_q.shapetorch.Size([]), -46.209800720214844\n"
     ]
    },
    {
     "name": "stderr",
     "output_type": "stream",
     "text": [
      " 27%|██▋       | 255/938 [00:17<00:54, 12.45it/s]"
     ]
    },
    {
     "name": "stdout",
     "output_type": "stream",
     "text": [
      "mean_log_p,shapetorch.Size([]), -194.17034912109375\n",
      "mean_log_q.shapetorch.Size([]), -46.51161575317383\n",
      "mean_log_p,shapetorch.Size([]), -198.36245727539062\n",
      "mean_log_q.shapetorch.Size([]), -46.7011604309082\n",
      "mean_log_p,shapetorch.Size([]), -184.9847869873047\n",
      "mean_log_q.shapetorch.Size([]), -46.11585235595703\n"
     ]
    },
    {
     "name": "stderr",
     "output_type": "stream",
     "text": [
      " 27%|██▋       | 257/938 [00:17<00:54, 12.54it/s]"
     ]
    },
    {
     "name": "stdout",
     "output_type": "stream",
     "text": [
      "mean_log_p,shapetorch.Size([]), -189.69500732421875\n",
      "mean_log_q.shapetorch.Size([]), -46.86164855957031\n",
      "mean_log_p,shapetorch.Size([]), -191.44256591796875\n",
      "mean_log_q.shapetorch.Size([]), -46.91705322265625\n"
     ]
    },
    {
     "name": "stderr",
     "output_type": "stream",
     "text": [
      " 28%|██▊       | 259/938 [00:18<00:53, 12.62it/s]"
     ]
    },
    {
     "name": "stdout",
     "output_type": "stream",
     "text": [
      "mean_log_p,shapetorch.Size([]), -188.67205810546875\n",
      "mean_log_q.shapetorch.Size([]), -45.99073028564453\n"
     ]
    },
    {
     "name": "stderr",
     "output_type": "stream",
     "text": [
      " 28%|██▊       | 261/938 [00:18<00:53, 12.60it/s]"
     ]
    },
    {
     "name": "stdout",
     "output_type": "stream",
     "text": [
      "mean_log_p,shapetorch.Size([]), -182.96536254882812\n",
      "mean_log_q.shapetorch.Size([]), -46.17268371582031\n",
      "mean_log_p,shapetorch.Size([]), -189.2792205810547\n",
      "mean_log_q.shapetorch.Size([]), -46.07106018066406\n",
      "mean_log_p,shapetorch.Size([]), -192.13792419433594\n",
      "mean_log_q.shapetorch.Size([]), -46.30370330810547\n"
     ]
    },
    {
     "name": "stderr",
     "output_type": "stream",
     "text": [
      " 28%|██▊       | 263/938 [00:18<00:53, 12.64it/s]"
     ]
    },
    {
     "name": "stdout",
     "output_type": "stream",
     "text": [
      "mean_log_p,shapetorch.Size([]), -194.97096252441406\n",
      "mean_log_q.shapetorch.Size([]), -45.676761627197266\n",
      "mean_log_p,shapetorch.Size([]), -183.29153442382812\n",
      "mean_log_q.shapetorch.Size([]), -45.703155517578125\n"
     ]
    },
    {
     "name": "stderr",
     "output_type": "stream",
     "text": [
      " 28%|██▊       | 265/938 [00:18<00:53, 12.69it/s]"
     ]
    },
    {
     "name": "stdout",
     "output_type": "stream",
     "text": [
      "mean_log_p,shapetorch.Size([]), -188.61636352539062\n",
      "mean_log_q.shapetorch.Size([]), -45.183258056640625\n"
     ]
    },
    {
     "name": "stderr",
     "output_type": "stream",
     "text": [
      " 28%|██▊       | 267/938 [00:18<00:54, 12.30it/s]"
     ]
    },
    {
     "name": "stdout",
     "output_type": "stream",
     "text": [
      "mean_log_p,shapetorch.Size([]), -178.29434204101562\n",
      "mean_log_q.shapetorch.Size([]), -46.813194274902344\n",
      "mean_log_p,shapetorch.Size([]), -189.24783325195312\n",
      "mean_log_q.shapetorch.Size([]), -46.28526306152344\n",
      "mean_log_p,shapetorch.Size([]), -198.25350952148438\n",
      "mean_log_q.shapetorch.Size([]), -46.06654357910156\n"
     ]
    },
    {
     "name": "stderr",
     "output_type": "stream",
     "text": [
      " 29%|██▊       | 269/938 [00:18<00:53, 12.49it/s]"
     ]
    },
    {
     "name": "stdout",
     "output_type": "stream",
     "text": [
      "mean_log_p,shapetorch.Size([]), -204.10733032226562\n",
      "mean_log_q.shapetorch.Size([]), -46.546363830566406\n",
      "mean_log_p,shapetorch.Size([]), -187.67776489257812\n",
      "mean_log_q.shapetorch.Size([]), -45.98597717285156\n"
     ]
    },
    {
     "name": "stderr",
     "output_type": "stream",
     "text": [
      " 29%|██▉       | 273/938 [00:19<00:40, 16.27it/s]"
     ]
    },
    {
     "name": "stdout",
     "output_type": "stream",
     "text": [
      "mean_log_p,shapetorch.Size([]), -195.35641479492188\n",
      "mean_log_q.shapetorch.Size([]), -47.24370193481445\n"
     ]
    },
    {
     "name": "stderr",
     "output_type": "stream",
     "text": [
      " 29%|██▉       | 275/938 [00:19<00:44, 14.90it/s]"
     ]
    },
    {
     "name": "stdout",
     "output_type": "stream",
     "text": [
      "mean_log_p,shapetorch.Size([]), -196.01133728027344\n",
      "mean_log_q.shapetorch.Size([]), -46.396759033203125\n",
      "mean_log_p,shapetorch.Size([]), -193.36459350585938\n",
      "mean_log_q.shapetorch.Size([]), -46.70924758911133\n",
      "mean_log_p,shapetorch.Size([]), -192.1438446044922\n",
      "mean_log_q.shapetorch.Size([]), -46.89790725708008\n"
     ]
    },
    {
     "name": "stderr",
     "output_type": "stream",
     "text": [
      " 30%|██▉       | 277/938 [00:19<00:47, 14.06it/s]"
     ]
    },
    {
     "name": "stdout",
     "output_type": "stream",
     "text": [
      "mean_log_p,shapetorch.Size([]), -193.8363037109375\n",
      "mean_log_q.shapetorch.Size([]), -46.00060272216797\n",
      "mean_log_p,shapetorch.Size([]), -194.16378784179688\n",
      "mean_log_q.shapetorch.Size([]), -45.762290954589844\n"
     ]
    },
    {
     "name": "stderr",
     "output_type": "stream",
     "text": [
      " 30%|██▉       | 279/938 [00:19<00:48, 13.66it/s]"
     ]
    },
    {
     "name": "stdout",
     "output_type": "stream",
     "text": [
      "mean_log_p,shapetorch.Size([]), -189.84799194335938\n",
      "mean_log_q.shapetorch.Size([]), -46.25442886352539\n"
     ]
    },
    {
     "name": "stderr",
     "output_type": "stream",
     "text": [
      " 30%|██▉       | 281/938 [00:19<00:49, 13.23it/s]"
     ]
    },
    {
     "name": "stdout",
     "output_type": "stream",
     "text": [
      "mean_log_p,shapetorch.Size([]), -193.64309692382812\n",
      "mean_log_q.shapetorch.Size([]), -45.71147918701172\n",
      "mean_log_p,shapetorch.Size([]), -206.51177978515625\n",
      "mean_log_q.shapetorch.Size([]), -45.87779235839844\n",
      "mean_log_p,shapetorch.Size([]), -191.82630920410156\n",
      "mean_log_q.shapetorch.Size([]), -46.2347412109375\n"
     ]
    },
    {
     "name": "stderr",
     "output_type": "stream",
     "text": [
      " 30%|███       | 283/938 [00:19<00:51, 12.76it/s]"
     ]
    },
    {
     "name": "stdout",
     "output_type": "stream",
     "text": [
      "mean_log_p,shapetorch.Size([]), -185.8546142578125\n",
      "mean_log_q.shapetorch.Size([]), -45.54648971557617\n",
      "mean_log_p,shapetorch.Size([]), -193.13458251953125\n",
      "mean_log_q.shapetorch.Size([]), -46.426475524902344\n"
     ]
    },
    {
     "name": "stderr",
     "output_type": "stream",
     "text": [
      " 30%|███       | 285/938 [00:20<00:51, 12.58it/s]"
     ]
    },
    {
     "name": "stdout",
     "output_type": "stream",
     "text": [
      "mean_log_p,shapetorch.Size([]), -195.32394409179688\n",
      "mean_log_q.shapetorch.Size([]), -46.03517150878906\n"
     ]
    },
    {
     "name": "stderr",
     "output_type": "stream",
     "text": [
      " 31%|███       | 287/938 [00:20<00:51, 12.56it/s]"
     ]
    },
    {
     "name": "stdout",
     "output_type": "stream",
     "text": [
      "mean_log_p,shapetorch.Size([]), -191.3847198486328\n",
      "mean_log_q.shapetorch.Size([]), -46.42725372314453\n",
      "mean_log_p,shapetorch.Size([]), -184.35708618164062\n",
      "mean_log_q.shapetorch.Size([]), -46.85246276855469\n",
      "mean_log_p,shapetorch.Size([]), -188.65573120117188\n",
      "mean_log_q.shapetorch.Size([]), -46.0340576171875\n"
     ]
    },
    {
     "name": "stderr",
     "output_type": "stream",
     "text": [
      " 31%|███       | 289/938 [00:20<00:53, 12.15it/s]"
     ]
    },
    {
     "name": "stdout",
     "output_type": "stream",
     "text": [
      "mean_log_p,shapetorch.Size([]), -191.7917022705078\n",
      "mean_log_q.shapetorch.Size([]), -46.44978332519531\n",
      "mean_log_p,shapetorch.Size([]), -199.78939819335938\n",
      "mean_log_q.shapetorch.Size([]), -46.89837646484375\n"
     ]
    },
    {
     "name": "stderr",
     "output_type": "stream",
     "text": [
      " 31%|███       | 291/938 [00:20<00:53, 12.02it/s]"
     ]
    },
    {
     "name": "stdout",
     "output_type": "stream",
     "text": [
      "mean_log_p,shapetorch.Size([]), -191.28622436523438\n",
      "mean_log_q.shapetorch.Size([]), -47.05419921875\n"
     ]
    },
    {
     "name": "stderr",
     "output_type": "stream",
     "text": [
      " 31%|███       | 293/938 [00:20<00:54, 11.91it/s]"
     ]
    },
    {
     "name": "stdout",
     "output_type": "stream",
     "text": [
      "mean_log_p,shapetorch.Size([]), -189.30047607421875\n",
      "mean_log_q.shapetorch.Size([]), -46.42127227783203\n",
      "mean_log_p,shapetorch.Size([]), -186.39797973632812\n",
      "mean_log_q.shapetorch.Size([]), -45.80353927612305\n",
      "mean_log_p,shapetorch.Size([]), -186.064697265625\n",
      "mean_log_q.shapetorch.Size([]), -46.448577880859375\n"
     ]
    },
    {
     "name": "stderr",
     "output_type": "stream",
     "text": [
      " 31%|███▏      | 295/938 [00:20<00:54, 11.89it/s]"
     ]
    },
    {
     "name": "stdout",
     "output_type": "stream",
     "text": [
      "mean_log_p,shapetorch.Size([]), -190.9287109375\n",
      "mean_log_q.shapetorch.Size([]), -46.30988311767578\n",
      "mean_log_p,shapetorch.Size([]), -185.43881225585938\n",
      "mean_log_q.shapetorch.Size([]), -46.05879211425781\n"
     ]
    },
    {
     "name": "stderr",
     "output_type": "stream",
     "text": [
      " 32%|███▏      | 297/938 [00:21<00:54, 11.75it/s]"
     ]
    },
    {
     "name": "stdout",
     "output_type": "stream",
     "text": [
      "mean_log_p,shapetorch.Size([]), -192.4443359375\n",
      "mean_log_q.shapetorch.Size([]), -45.49198913574219\n"
     ]
    },
    {
     "name": "stderr",
     "output_type": "stream",
     "text": [
      " 32%|███▏      | 299/938 [00:21<00:54, 11.74it/s]"
     ]
    },
    {
     "name": "stdout",
     "output_type": "stream",
     "text": [
      "mean_log_p,shapetorch.Size([]), -189.32546997070312\n",
      "mean_log_q.shapetorch.Size([]), -45.91962432861328\n",
      "mean_log_p,shapetorch.Size([]), -190.24368286132812\n",
      "mean_log_q.shapetorch.Size([]), -46.108909606933594\n",
      "mean_log_p,shapetorch.Size([]), -188.75869750976562\n",
      "mean_log_q.shapetorch.Size([]), -45.08412551879883\n"
     ]
    },
    {
     "name": "stderr",
     "output_type": "stream",
     "text": [
      " 32%|███▏      | 301/938 [00:21<00:53, 11.92it/s]"
     ]
    },
    {
     "name": "stdout",
     "output_type": "stream",
     "text": [
      "mean_log_p,shapetorch.Size([]), -194.70401000976562\n",
      "mean_log_q.shapetorch.Size([]), -45.14048385620117\n",
      "mean_log_p,shapetorch.Size([]), -191.1383514404297\n",
      "mean_log_q.shapetorch.Size([]), -45.351707458496094\n"
     ]
    },
    {
     "name": "stderr",
     "output_type": "stream",
     "text": [
      " 32%|███▏      | 303/938 [00:21<00:52, 12.15it/s]"
     ]
    },
    {
     "name": "stdout",
     "output_type": "stream",
     "text": [
      "mean_log_p,shapetorch.Size([]), -188.19903564453125\n",
      "mean_log_q.shapetorch.Size([]), -46.583946228027344\n"
     ]
    },
    {
     "name": "stderr",
     "output_type": "stream",
     "text": [
      " 33%|███▎      | 307/938 [00:21<00:40, 15.65it/s]"
     ]
    },
    {
     "name": "stdout",
     "output_type": "stream",
     "text": [
      "mean_log_p,shapetorch.Size([]), -181.71559143066406\n",
      "mean_log_q.shapetorch.Size([]), -46.02533721923828\n",
      "mean_log_p,shapetorch.Size([]), -195.99581909179688\n",
      "mean_log_q.shapetorch.Size([]), -45.90529251098633\n",
      "mean_log_p,shapetorch.Size([]), -188.30374145507812\n",
      "mean_log_q.shapetorch.Size([]), -45.54597854614258\n"
     ]
    },
    {
     "name": "stderr",
     "output_type": "stream",
     "text": [
      " 33%|███▎      | 309/938 [00:21<00:43, 14.62it/s]"
     ]
    },
    {
     "name": "stdout",
     "output_type": "stream",
     "text": [
      "mean_log_p,shapetorch.Size([]), -187.47584533691406\n",
      "mean_log_q.shapetorch.Size([]), -46.131046295166016\n",
      "mean_log_p,shapetorch.Size([]), -184.75924682617188\n",
      "mean_log_q.shapetorch.Size([]), -45.598114013671875\n"
     ]
    },
    {
     "name": "stderr",
     "output_type": "stream",
     "text": [
      " 33%|███▎      | 311/938 [00:22<00:44, 14.01it/s]"
     ]
    },
    {
     "name": "stdout",
     "output_type": "stream",
     "text": [
      "mean_log_p,shapetorch.Size([]), -184.370849609375\n",
      "mean_log_q.shapetorch.Size([]), -45.4555549621582\n"
     ]
    },
    {
     "name": "stderr",
     "output_type": "stream",
     "text": [
      " 33%|███▎      | 313/938 [00:22<00:46, 13.49it/s]"
     ]
    },
    {
     "name": "stdout",
     "output_type": "stream",
     "text": [
      "mean_log_p,shapetorch.Size([]), -192.87069702148438\n",
      "mean_log_q.shapetorch.Size([]), -46.732181549072266\n",
      "mean_log_p,shapetorch.Size([]), -183.7115478515625\n",
      "mean_log_q.shapetorch.Size([]), -46.05105972290039\n",
      "mean_log_p,shapetorch.Size([]), -193.19842529296875\n",
      "mean_log_q.shapetorch.Size([]), -46.077884674072266\n"
     ]
    },
    {
     "name": "stderr",
     "output_type": "stream",
     "text": [
      " 34%|███▎      | 315/938 [00:22<00:48, 12.96it/s]"
     ]
    },
    {
     "name": "stdout",
     "output_type": "stream",
     "text": [
      "mean_log_p,shapetorch.Size([]), -190.78497314453125\n",
      "mean_log_q.shapetorch.Size([]), -45.70198440551758\n",
      "mean_log_p,shapetorch.Size([]), -187.42909240722656\n",
      "mean_log_q.shapetorch.Size([]), -46.004215240478516\n"
     ]
    },
    {
     "name": "stderr",
     "output_type": "stream",
     "text": [
      " 34%|███▍      | 317/938 [00:22<00:49, 12.67it/s]"
     ]
    },
    {
     "name": "stdout",
     "output_type": "stream",
     "text": [
      "mean_log_p,shapetorch.Size([]), -187.5428009033203\n",
      "mean_log_q.shapetorch.Size([]), -45.77722930908203\n"
     ]
    },
    {
     "name": "stderr",
     "output_type": "stream",
     "text": [
      " 34%|███▍      | 319/938 [00:22<00:49, 12.42it/s]"
     ]
    },
    {
     "name": "stdout",
     "output_type": "stream",
     "text": [
      "mean_log_p,shapetorch.Size([]), -193.29324340820312\n",
      "mean_log_q.shapetorch.Size([]), -46.65699768066406\n",
      "mean_log_p,shapetorch.Size([]), -188.99176025390625\n",
      "mean_log_q.shapetorch.Size([]), -47.088890075683594\n",
      "mean_log_p,shapetorch.Size([]), -189.71365356445312\n",
      "mean_log_q.shapetorch.Size([]), -46.23228073120117\n"
     ]
    },
    {
     "name": "stderr",
     "output_type": "stream",
     "text": [
      " 34%|███▍      | 321/938 [00:22<00:49, 12.57it/s]"
     ]
    },
    {
     "name": "stdout",
     "output_type": "stream",
     "text": [
      "mean_log_p,shapetorch.Size([]), -185.40821838378906\n",
      "mean_log_q.shapetorch.Size([]), -45.80132293701172\n",
      "mean_log_p,shapetorch.Size([]), -191.87355041503906\n",
      "mean_log_q.shapetorch.Size([]), -45.93659210205078\n"
     ]
    },
    {
     "name": "stderr",
     "output_type": "stream",
     "text": [
      " 34%|███▍      | 323/938 [00:23<00:49, 12.44it/s]"
     ]
    },
    {
     "name": "stdout",
     "output_type": "stream",
     "text": [
      "mean_log_p,shapetorch.Size([]), -185.70201110839844\n",
      "mean_log_q.shapetorch.Size([]), -45.907100677490234\n"
     ]
    },
    {
     "name": "stderr",
     "output_type": "stream",
     "text": [
      " 35%|███▍      | 325/938 [00:23<00:48, 12.56it/s]"
     ]
    },
    {
     "name": "stdout",
     "output_type": "stream",
     "text": [
      "mean_log_p,shapetorch.Size([]), -186.4712677001953\n",
      "mean_log_q.shapetorch.Size([]), -45.86034393310547\n",
      "mean_log_p,shapetorch.Size([]), -186.364990234375\n",
      "mean_log_q.shapetorch.Size([]), -46.190425872802734\n",
      "mean_log_p,shapetorch.Size([]), -187.5233154296875\n",
      "mean_log_q.shapetorch.Size([]), -45.88019561767578\n"
     ]
    },
    {
     "name": "stderr",
     "output_type": "stream",
     "text": [
      " 35%|███▍      | 327/938 [00:23<00:49, 12.45it/s]"
     ]
    },
    {
     "name": "stdout",
     "output_type": "stream",
     "text": [
      "mean_log_p,shapetorch.Size([]), -181.6614990234375\n",
      "mean_log_q.shapetorch.Size([]), -45.42183303833008\n",
      "mean_log_p,shapetorch.Size([]), -186.5400390625\n",
      "mean_log_q.shapetorch.Size([]), -45.79473114013672\n"
     ]
    },
    {
     "name": "stderr",
     "output_type": "stream",
     "text": [
      " 35%|███▌      | 329/938 [00:23<00:48, 12.47it/s]"
     ]
    },
    {
     "name": "stdout",
     "output_type": "stream",
     "text": [
      "mean_log_p,shapetorch.Size([]), -185.253662109375\n",
      "mean_log_q.shapetorch.Size([]), -45.23335266113281\n"
     ]
    },
    {
     "name": "stderr",
     "output_type": "stream",
     "text": [
      " 35%|███▌      | 331/938 [00:23<00:49, 12.21it/s]"
     ]
    },
    {
     "name": "stdout",
     "output_type": "stream",
     "text": [
      "mean_log_p,shapetorch.Size([]), -181.46780395507812\n",
      "mean_log_q.shapetorch.Size([]), -45.94270324707031\n",
      "mean_log_p,shapetorch.Size([]), -188.64747619628906\n",
      "mean_log_q.shapetorch.Size([]), -45.132022857666016\n",
      "mean_log_p,shapetorch.Size([]), -185.2699432373047\n",
      "mean_log_q.shapetorch.Size([]), -45.1011962890625\n"
     ]
    },
    {
     "name": "stderr",
     "output_type": "stream",
     "text": [
      " 36%|███▌      | 333/938 [00:23<00:49, 12.29it/s]"
     ]
    },
    {
     "name": "stdout",
     "output_type": "stream",
     "text": [
      "mean_log_p,shapetorch.Size([]), -183.6828155517578\n",
      "mean_log_q.shapetorch.Size([]), -44.5531120300293\n",
      "mean_log_p,shapetorch.Size([]), -187.78732299804688\n",
      "mean_log_q.shapetorch.Size([]), -45.281471252441406\n"
     ]
    },
    {
     "name": "stderr",
     "output_type": "stream",
     "text": [
      " 36%|███▌      | 335/938 [00:24<00:49, 12.28it/s]"
     ]
    },
    {
     "name": "stdout",
     "output_type": "stream",
     "text": [
      "mean_log_p,shapetorch.Size([]), -191.99551391601562\n",
      "mean_log_q.shapetorch.Size([]), -46.173423767089844\n"
     ]
    },
    {
     "name": "stderr",
     "output_type": "stream",
     "text": [
      " 36%|███▌      | 337/938 [00:24<00:48, 12.28it/s]"
     ]
    },
    {
     "name": "stdout",
     "output_type": "stream",
     "text": [
      "mean_log_p,shapetorch.Size([]), -195.02951049804688\n",
      "mean_log_q.shapetorch.Size([]), -45.38887405395508\n",
      "mean_log_p,shapetorch.Size([]), -183.48983764648438\n",
      "mean_log_q.shapetorch.Size([]), -46.184974670410156\n",
      "mean_log_p,shapetorch.Size([]), -191.99880981445312\n",
      "mean_log_q.shapetorch.Size([]), -46.214752197265625\n"
     ]
    },
    {
     "name": "stderr",
     "output_type": "stream",
     "text": [
      " 36%|███▌      | 339/938 [00:24<00:48, 12.29it/s]"
     ]
    },
    {
     "name": "stdout",
     "output_type": "stream",
     "text": [
      "mean_log_p,shapetorch.Size([]), -202.08914184570312\n",
      "mean_log_q.shapetorch.Size([]), -46.53865051269531\n",
      "mean_log_p,shapetorch.Size([]), -188.44898986816406\n",
      "mean_log_q.shapetorch.Size([]), -46.34425354003906\n"
     ]
    },
    {
     "name": "stderr",
     "output_type": "stream",
     "text": [
      " 37%|███▋      | 343/938 [00:24<00:38, 15.57it/s]"
     ]
    },
    {
     "name": "stdout",
     "output_type": "stream",
     "text": [
      "mean_log_p,shapetorch.Size([]), -196.4324951171875\n",
      "mean_log_q.shapetorch.Size([]), -45.9554557800293\n"
     ]
    },
    {
     "name": "stderr",
     "output_type": "stream",
     "text": [
      " 37%|███▋      | 345/938 [00:24<00:41, 14.33it/s]"
     ]
    },
    {
     "name": "stdout",
     "output_type": "stream",
     "text": [
      "mean_log_p,shapetorch.Size([]), -187.21835327148438\n",
      "mean_log_q.shapetorch.Size([]), -45.62324905395508\n",
      "mean_log_p,shapetorch.Size([]), -188.6527099609375\n",
      "mean_log_q.shapetorch.Size([]), -46.192230224609375\n",
      "mean_log_p,shapetorch.Size([]), -181.77252197265625\n",
      "mean_log_q.shapetorch.Size([]), -46.65947723388672\n"
     ]
    },
    {
     "name": "stderr",
     "output_type": "stream",
     "text": [
      " 37%|███▋      | 347/938 [00:24<00:43, 13.70it/s]"
     ]
    },
    {
     "name": "stdout",
     "output_type": "stream",
     "text": [
      "mean_log_p,shapetorch.Size([]), -186.3264923095703\n",
      "mean_log_q.shapetorch.Size([]), -46.49203872680664\n",
      "mean_log_p,shapetorch.Size([]), -184.55625915527344\n",
      "mean_log_q.shapetorch.Size([]), -45.596397399902344\n"
     ]
    },
    {
     "name": "stderr",
     "output_type": "stream",
     "text": [
      " 37%|███▋      | 349/938 [00:25<00:44, 13.35it/s]"
     ]
    },
    {
     "name": "stdout",
     "output_type": "stream",
     "text": [
      "mean_log_p,shapetorch.Size([]), -189.64878845214844\n",
      "mean_log_q.shapetorch.Size([]), -46.352088928222656\n"
     ]
    },
    {
     "name": "stderr",
     "output_type": "stream",
     "text": [
      " 37%|███▋      | 351/938 [00:25<00:44, 13.10it/s]"
     ]
    },
    {
     "name": "stdout",
     "output_type": "stream",
     "text": [
      "mean_log_p,shapetorch.Size([]), -184.77285766601562\n",
      "mean_log_q.shapetorch.Size([]), -45.83087158203125\n",
      "mean_log_p,shapetorch.Size([]), -188.91433715820312\n",
      "mean_log_q.shapetorch.Size([]), -46.27436828613281\n",
      "mean_log_p,shapetorch.Size([]), -180.83053588867188\n",
      "mean_log_q.shapetorch.Size([]), -46.33979034423828\n"
     ]
    },
    {
     "name": "stderr",
     "output_type": "stream",
     "text": [
      " 38%|███▊      | 353/938 [00:25<00:46, 12.68it/s]"
     ]
    },
    {
     "name": "stdout",
     "output_type": "stream",
     "text": [
      "mean_log_p,shapetorch.Size([]), -191.33578491210938\n",
      "mean_log_q.shapetorch.Size([]), -46.26099395751953\n",
      "mean_log_p,shapetorch.Size([]), -181.93728637695312\n",
      "mean_log_q.shapetorch.Size([]), -45.900634765625\n"
     ]
    },
    {
     "name": "stderr",
     "output_type": "stream",
     "text": [
      " 38%|███▊      | 355/938 [00:25<00:46, 12.63it/s]"
     ]
    },
    {
     "name": "stdout",
     "output_type": "stream",
     "text": [
      "mean_log_p,shapetorch.Size([]), -186.10552978515625\n",
      "mean_log_q.shapetorch.Size([]), -45.67585754394531\n"
     ]
    },
    {
     "name": "stderr",
     "output_type": "stream",
     "text": [
      " 38%|███▊      | 357/938 [00:25<00:46, 12.56it/s]"
     ]
    },
    {
     "name": "stdout",
     "output_type": "stream",
     "text": [
      "mean_log_p,shapetorch.Size([]), -196.0904998779297\n",
      "mean_log_q.shapetorch.Size([]), -45.8187370300293\n",
      "mean_log_p,shapetorch.Size([]), -189.17474365234375\n",
      "mean_log_q.shapetorch.Size([]), -45.779380798339844\n",
      "mean_log_p,shapetorch.Size([]), -186.344482421875\n",
      "mean_log_q.shapetorch.Size([]), -46.38534927368164\n"
     ]
    },
    {
     "name": "stderr",
     "output_type": "stream",
     "text": [
      " 38%|███▊      | 359/938 [00:25<00:47, 12.08it/s]"
     ]
    },
    {
     "name": "stdout",
     "output_type": "stream",
     "text": [
      "mean_log_p,shapetorch.Size([]), -178.227294921875\n",
      "mean_log_q.shapetorch.Size([]), -45.83717727661133\n",
      "mean_log_p,shapetorch.Size([]), -190.28140258789062\n",
      "mean_log_q.shapetorch.Size([]), -45.564640045166016\n"
     ]
    },
    {
     "name": "stderr",
     "output_type": "stream",
     "text": [
      " 38%|███▊      | 361/938 [00:26<00:48, 11.99it/s]"
     ]
    },
    {
     "name": "stdout",
     "output_type": "stream",
     "text": [
      "mean_log_p,shapetorch.Size([]), -199.88336181640625\n",
      "mean_log_q.shapetorch.Size([]), -45.55131530761719\n"
     ]
    },
    {
     "name": "stderr",
     "output_type": "stream",
     "text": [
      " 39%|███▊      | 363/938 [00:26<00:47, 12.16it/s]"
     ]
    },
    {
     "name": "stdout",
     "output_type": "stream",
     "text": [
      "mean_log_p,shapetorch.Size([]), -186.8593292236328\n",
      "mean_log_q.shapetorch.Size([]), -45.7642936706543\n",
      "mean_log_p,shapetorch.Size([]), -189.70420837402344\n",
      "mean_log_q.shapetorch.Size([]), -44.89917755126953\n",
      "mean_log_p,shapetorch.Size([]), -184.4082794189453\n",
      "mean_log_q.shapetorch.Size([]), -46.11387634277344\n"
     ]
    },
    {
     "name": "stderr",
     "output_type": "stream",
     "text": [
      " 39%|███▉      | 365/938 [00:26<00:47, 12.02it/s]"
     ]
    },
    {
     "name": "stdout",
     "output_type": "stream",
     "text": [
      "mean_log_p,shapetorch.Size([]), -187.5674285888672\n",
      "mean_log_q.shapetorch.Size([]), -45.43567657470703\n",
      "mean_log_p,shapetorch.Size([]), -178.4032440185547\n",
      "mean_log_q.shapetorch.Size([]), -44.756587982177734\n"
     ]
    },
    {
     "name": "stderr",
     "output_type": "stream",
     "text": [
      " 39%|███▉      | 367/938 [00:26<00:47, 12.06it/s]"
     ]
    },
    {
     "name": "stdout",
     "output_type": "stream",
     "text": [
      "mean_log_p,shapetorch.Size([]), -189.287353515625\n",
      "mean_log_q.shapetorch.Size([]), -45.910850524902344\n"
     ]
    },
    {
     "name": "stderr",
     "output_type": "stream",
     "text": [
      " 39%|███▉      | 369/938 [00:26<00:47, 12.06it/s]"
     ]
    },
    {
     "name": "stdout",
     "output_type": "stream",
     "text": [
      "mean_log_p,shapetorch.Size([]), -193.76364135742188\n",
      "mean_log_q.shapetorch.Size([]), -45.353641510009766\n",
      "mean_log_p,shapetorch.Size([]), -185.61065673828125\n",
      "mean_log_q.shapetorch.Size([]), -45.86244201660156\n",
      "mean_log_p,shapetorch.Size([]), -192.6597900390625\n",
      "mean_log_q.shapetorch.Size([]), -45.790191650390625\n"
     ]
    },
    {
     "name": "stderr",
     "output_type": "stream",
     "text": [
      " 40%|███▉      | 371/938 [00:26<00:46, 12.21it/s]"
     ]
    },
    {
     "name": "stdout",
     "output_type": "stream",
     "text": [
      "mean_log_p,shapetorch.Size([]), -194.85867309570312\n",
      "mean_log_q.shapetorch.Size([]), -45.737571716308594\n",
      "mean_log_p,shapetorch.Size([]), -198.26426696777344\n",
      "mean_log_q.shapetorch.Size([]), -45.8603515625\n"
     ]
    },
    {
     "name": "stderr",
     "output_type": "stream",
     "text": [
      " 40%|███▉      | 373/938 [00:27<00:46, 12.17it/s]"
     ]
    },
    {
     "name": "stdout",
     "output_type": "stream",
     "text": [
      "mean_log_p,shapetorch.Size([]), -187.14964294433594\n",
      "mean_log_q.shapetorch.Size([]), -46.09398651123047\n"
     ]
    },
    {
     "name": "stderr",
     "output_type": "stream",
     "text": [
      " 40%|███▉      | 375/938 [00:27<00:45, 12.28it/s]"
     ]
    },
    {
     "name": "stdout",
     "output_type": "stream",
     "text": [
      "mean_log_p,shapetorch.Size([]), -182.25906372070312\n",
      "mean_log_q.shapetorch.Size([]), -45.655887603759766\n",
      "mean_log_p,shapetorch.Size([]), -196.35922241210938\n",
      "mean_log_q.shapetorch.Size([]), -46.01129913330078\n",
      "mean_log_p,shapetorch.Size([]), -190.97061157226562\n",
      "mean_log_q.shapetorch.Size([]), -45.162193298339844\n"
     ]
    },
    {
     "name": "stderr",
     "output_type": "stream",
     "text": [
      " 40%|████      | 377/938 [00:27<00:45, 12.38it/s]"
     ]
    },
    {
     "name": "stdout",
     "output_type": "stream",
     "text": [
      "mean_log_p,shapetorch.Size([]), -189.56619262695312\n",
      "mean_log_q.shapetorch.Size([]), -45.284202575683594\n",
      "mean_log_p,shapetorch.Size([]), -181.17205810546875\n",
      "mean_log_q.shapetorch.Size([]), -44.98683547973633\n"
     ]
    },
    {
     "name": "stderr",
     "output_type": "stream",
     "text": [
      " 41%|████      | 381/938 [00:27<00:34, 16.30it/s]"
     ]
    },
    {
     "name": "stdout",
     "output_type": "stream",
     "text": [
      "mean_log_p,shapetorch.Size([]), -184.62860107421875\n",
      "mean_log_q.shapetorch.Size([]), -44.5762939453125\n"
     ]
    },
    {
     "name": "stderr",
     "output_type": "stream",
     "text": [
      " 41%|████      | 383/938 [00:27<00:36, 15.07it/s]"
     ]
    },
    {
     "name": "stdout",
     "output_type": "stream",
     "text": [
      "mean_log_p,shapetorch.Size([]), -188.5263671875\n",
      "mean_log_q.shapetorch.Size([]), -45.416893005371094\n",
      "mean_log_p,shapetorch.Size([]), -187.24005126953125\n",
      "mean_log_q.shapetorch.Size([]), -46.0902099609375\n",
      "mean_log_p,shapetorch.Size([]), -192.70339965820312\n",
      "mean_log_q.shapetorch.Size([]), -46.06214141845703\n"
     ]
    },
    {
     "name": "stderr",
     "output_type": "stream",
     "text": [
      " 41%|████      | 385/938 [00:27<00:39, 14.09it/s]"
     ]
    },
    {
     "name": "stdout",
     "output_type": "stream",
     "text": [
      "mean_log_p,shapetorch.Size([]), -191.62045288085938\n",
      "mean_log_q.shapetorch.Size([]), -45.69425964355469\n",
      "mean_log_p,shapetorch.Size([]), -190.10879516601562\n",
      "mean_log_q.shapetorch.Size([]), -45.841163635253906\n"
     ]
    },
    {
     "name": "stderr",
     "output_type": "stream",
     "text": [
      " 41%|████▏     | 387/938 [00:28<00:40, 13.53it/s]"
     ]
    },
    {
     "name": "stdout",
     "output_type": "stream",
     "text": [
      "mean_log_p,shapetorch.Size([]), -190.87100219726562\n",
      "mean_log_q.shapetorch.Size([]), -45.57661437988281\n"
     ]
    },
    {
     "name": "stderr",
     "output_type": "stream",
     "text": [
      " 41%|████▏     | 389/938 [00:28<00:41, 13.17it/s]"
     ]
    },
    {
     "name": "stdout",
     "output_type": "stream",
     "text": [
      "mean_log_p,shapetorch.Size([]), -182.50860595703125\n",
      "mean_log_q.shapetorch.Size([]), -46.057430267333984\n",
      "mean_log_p,shapetorch.Size([]), -181.93600463867188\n",
      "mean_log_q.shapetorch.Size([]), -46.32070541381836\n",
      "mean_log_p,shapetorch.Size([]), -180.53018188476562\n",
      "mean_log_q.shapetorch.Size([]), -46.285526275634766\n"
     ]
    },
    {
     "name": "stderr",
     "output_type": "stream",
     "text": [
      " 42%|████▏     | 391/938 [00:28<00:43, 12.62it/s]"
     ]
    },
    {
     "name": "stdout",
     "output_type": "stream",
     "text": [
      "mean_log_p,shapetorch.Size([]), -196.289306640625\n",
      "mean_log_q.shapetorch.Size([]), -46.753257751464844\n",
      "mean_log_p,shapetorch.Size([]), -187.27114868164062\n",
      "mean_log_q.shapetorch.Size([]), -46.93206787109375\n"
     ]
    },
    {
     "name": "stderr",
     "output_type": "stream",
     "text": [
      " 42%|████▏     | 393/938 [00:28<00:43, 12.44it/s]"
     ]
    },
    {
     "name": "stdout",
     "output_type": "stream",
     "text": [
      "mean_log_p,shapetorch.Size([]), -178.99331665039062\n",
      "mean_log_q.shapetorch.Size([]), -46.176551818847656\n"
     ]
    },
    {
     "name": "stderr",
     "output_type": "stream",
     "text": [
      " 42%|████▏     | 395/938 [00:28<00:43, 12.46it/s]"
     ]
    },
    {
     "name": "stdout",
     "output_type": "stream",
     "text": [
      "mean_log_p,shapetorch.Size([]), -191.49423217773438\n",
      "mean_log_q.shapetorch.Size([]), -45.83812713623047\n",
      "mean_log_p,shapetorch.Size([]), -184.3838348388672\n",
      "mean_log_q.shapetorch.Size([]), -45.126060485839844\n",
      "mean_log_p,shapetorch.Size([]), -188.24444580078125\n",
      "mean_log_q.shapetorch.Size([]), -45.70439147949219\n"
     ]
    },
    {
     "name": "stderr",
     "output_type": "stream",
     "text": [
      " 42%|████▏     | 397/938 [00:28<00:44, 12.11it/s]"
     ]
    },
    {
     "name": "stdout",
     "output_type": "stream",
     "text": [
      "mean_log_p,shapetorch.Size([]), -185.32749938964844\n",
      "mean_log_q.shapetorch.Size([]), -45.808815002441406\n",
      "mean_log_p,shapetorch.Size([]), -182.319580078125\n",
      "mean_log_q.shapetorch.Size([]), -45.498626708984375\n"
     ]
    },
    {
     "name": "stderr",
     "output_type": "stream",
     "text": [
      " 43%|████▎     | 399/938 [00:29<00:43, 12.26it/s]"
     ]
    },
    {
     "name": "stdout",
     "output_type": "stream",
     "text": [
      "mean_log_p,shapetorch.Size([]), -189.57464599609375\n",
      "mean_log_q.shapetorch.Size([]), -43.78536605834961\n"
     ]
    },
    {
     "name": "stderr",
     "output_type": "stream",
     "text": [
      " 43%|████▎     | 401/938 [00:29<00:44, 12.08it/s]"
     ]
    },
    {
     "name": "stdout",
     "output_type": "stream",
     "text": [
      "mean_log_p,shapetorch.Size([]), -186.29901123046875\n",
      "mean_log_q.shapetorch.Size([]), -45.366905212402344\n",
      "mean_log_p,shapetorch.Size([]), -174.354248046875\n",
      "mean_log_q.shapetorch.Size([]), -44.7362174987793\n",
      "mean_log_p,shapetorch.Size([]), -183.51182556152344\n",
      "mean_log_q.shapetorch.Size([]), -44.34748077392578\n"
     ]
    },
    {
     "name": "stderr",
     "output_type": "stream",
     "text": [
      " 43%|████▎     | 403/938 [00:29<00:43, 12.17it/s]"
     ]
    },
    {
     "name": "stdout",
     "output_type": "stream",
     "text": [
      "mean_log_p,shapetorch.Size([]), -178.01182556152344\n",
      "mean_log_q.shapetorch.Size([]), -44.91598892211914\n",
      "mean_log_p,shapetorch.Size([]), -190.92095947265625\n",
      "mean_log_q.shapetorch.Size([]), -44.755615234375\n"
     ]
    },
    {
     "name": "stderr",
     "output_type": "stream",
     "text": [
      " 43%|████▎     | 405/938 [00:29<00:43, 12.31it/s]"
     ]
    },
    {
     "name": "stdout",
     "output_type": "stream",
     "text": [
      "mean_log_p,shapetorch.Size([]), -178.55421447753906\n",
      "mean_log_q.shapetorch.Size([]), -46.44268798828125\n"
     ]
    },
    {
     "name": "stderr",
     "output_type": "stream",
     "text": [
      " 43%|████▎     | 407/938 [00:29<00:43, 12.28it/s]"
     ]
    },
    {
     "name": "stdout",
     "output_type": "stream",
     "text": [
      "mean_log_p,shapetorch.Size([]), -181.1223907470703\n",
      "mean_log_q.shapetorch.Size([]), -45.63421630859375\n",
      "mean_log_p,shapetorch.Size([]), -191.96414184570312\n",
      "mean_log_q.shapetorch.Size([]), -45.66583251953125\n",
      "mean_log_p,shapetorch.Size([]), -195.3675537109375\n",
      "mean_log_q.shapetorch.Size([]), -46.51066207885742\n"
     ]
    },
    {
     "name": "stderr",
     "output_type": "stream",
     "text": [
      " 44%|████▎     | 409/938 [00:29<00:43, 12.18it/s]"
     ]
    },
    {
     "name": "stdout",
     "output_type": "stream",
     "text": [
      "mean_log_p,shapetorch.Size([]), -190.5620574951172\n",
      "mean_log_q.shapetorch.Size([]), -46.41358947753906\n",
      "mean_log_p,shapetorch.Size([]), -177.61131286621094\n",
      "mean_log_q.shapetorch.Size([]), -44.770729064941406\n"
     ]
    },
    {
     "name": "stderr",
     "output_type": "stream",
     "text": [
      " 44%|████▍     | 411/938 [00:29<00:42, 12.36it/s]"
     ]
    },
    {
     "name": "stdout",
     "output_type": "stream",
     "text": [
      "mean_log_p,shapetorch.Size([]), -194.57766723632812\n",
      "mean_log_q.shapetorch.Size([]), -44.935691833496094\n"
     ]
    },
    {
     "name": "stderr",
     "output_type": "stream",
     "text": [
      " 44%|████▍     | 413/938 [00:30<00:43, 12.20it/s]"
     ]
    },
    {
     "name": "stdout",
     "output_type": "stream",
     "text": [
      "mean_log_p,shapetorch.Size([]), -183.30088806152344\n",
      "mean_log_q.shapetorch.Size([]), -46.032623291015625\n",
      "mean_log_p,shapetorch.Size([]), -190.46524047851562\n",
      "mean_log_q.shapetorch.Size([]), -45.506980895996094\n",
      "mean_log_p,shapetorch.Size([]), -178.8016815185547\n",
      "mean_log_q.shapetorch.Size([]), -44.7291259765625\n"
     ]
    },
    {
     "name": "stderr",
     "output_type": "stream",
     "text": [
      " 44%|████▍     | 415/938 [00:30<00:42, 12.23it/s]"
     ]
    },
    {
     "name": "stdout",
     "output_type": "stream",
     "text": [
      "mean_log_p,shapetorch.Size([]), -186.24444580078125\n",
      "mean_log_q.shapetorch.Size([]), -45.22227478027344\n",
      "mean_log_p,shapetorch.Size([]), -184.86544799804688\n",
      "mean_log_q.shapetorch.Size([]), -44.90364074707031\n"
     ]
    },
    {
     "name": "stderr",
     "output_type": "stream",
     "text": [
      " 44%|████▍     | 417/938 [00:30<00:42, 12.14it/s]"
     ]
    },
    {
     "name": "stdout",
     "output_type": "stream",
     "text": [
      "mean_log_p,shapetorch.Size([]), -187.81536865234375\n",
      "mean_log_q.shapetorch.Size([]), -45.4675178527832\n"
     ]
    },
    {
     "name": "stderr",
     "output_type": "stream",
     "text": [
      " 45%|████▍     | 421/938 [00:30<00:32, 15.68it/s]"
     ]
    },
    {
     "name": "stdout",
     "output_type": "stream",
     "text": [
      "mean_log_p,shapetorch.Size([]), -195.97738647460938\n",
      "mean_log_q.shapetorch.Size([]), -45.383113861083984\n",
      "mean_log_p,shapetorch.Size([]), -183.3428497314453\n",
      "mean_log_q.shapetorch.Size([]), -45.780052185058594\n",
      "mean_log_p,shapetorch.Size([]), -192.62399291992188\n",
      "mean_log_q.shapetorch.Size([]), -46.58221435546875\n"
     ]
    },
    {
     "name": "stderr",
     "output_type": "stream",
     "text": [
      " 45%|████▌     | 423/938 [00:30<00:34, 14.72it/s]"
     ]
    },
    {
     "name": "stdout",
     "output_type": "stream",
     "text": [
      "mean_log_p,shapetorch.Size([]), -179.56170654296875\n",
      "mean_log_q.shapetorch.Size([]), -45.12852478027344\n",
      "mean_log_p,shapetorch.Size([]), -187.70904541015625\n",
      "mean_log_q.shapetorch.Size([]), -46.705299377441406\n"
     ]
    },
    {
     "name": "stderr",
     "output_type": "stream",
     "text": [
      " 45%|████▌     | 425/938 [00:30<00:36, 14.08it/s]"
     ]
    },
    {
     "name": "stdout",
     "output_type": "stream",
     "text": [
      "mean_log_p,shapetorch.Size([]), -190.74932861328125\n",
      "mean_log_q.shapetorch.Size([]), -45.59040832519531\n"
     ]
    },
    {
     "name": "stderr",
     "output_type": "stream",
     "text": [
      " 46%|████▌     | 427/938 [00:31<00:38, 13.41it/s]"
     ]
    },
    {
     "name": "stdout",
     "output_type": "stream",
     "text": [
      "mean_log_p,shapetorch.Size([]), -190.71424865722656\n",
      "mean_log_q.shapetorch.Size([]), -45.11085510253906\n",
      "mean_log_p,shapetorch.Size([]), -185.1285858154297\n",
      "mean_log_q.shapetorch.Size([]), -44.824432373046875\n",
      "mean_log_p,shapetorch.Size([]), -181.672119140625\n",
      "mean_log_q.shapetorch.Size([]), -45.45868682861328\n"
     ]
    },
    {
     "name": "stderr",
     "output_type": "stream",
     "text": [
      " 46%|████▌     | 429/938 [00:31<00:39, 12.96it/s]"
     ]
    },
    {
     "name": "stdout",
     "output_type": "stream",
     "text": [
      "mean_log_p,shapetorch.Size([]), -187.79859924316406\n",
      "mean_log_q.shapetorch.Size([]), -45.87833786010742\n",
      "mean_log_p,shapetorch.Size([]), -190.26333618164062\n",
      "mean_log_q.shapetorch.Size([]), -44.99999237060547\n"
     ]
    },
    {
     "name": "stderr",
     "output_type": "stream",
     "text": [
      " 46%|████▌     | 431/938 [00:31<00:39, 12.94it/s]"
     ]
    },
    {
     "name": "stdout",
     "output_type": "stream",
     "text": [
      "mean_log_p,shapetorch.Size([]), -179.67852783203125\n",
      "mean_log_q.shapetorch.Size([]), -44.577205657958984\n"
     ]
    },
    {
     "name": "stderr",
     "output_type": "stream",
     "text": [
      " 46%|████▌     | 433/938 [00:31<00:39, 12.65it/s]"
     ]
    },
    {
     "name": "stdout",
     "output_type": "stream",
     "text": [
      "mean_log_p,shapetorch.Size([]), -187.74481201171875\n",
      "mean_log_q.shapetorch.Size([]), -45.59534454345703\n",
      "mean_log_p,shapetorch.Size([]), -183.93508911132812\n",
      "mean_log_q.shapetorch.Size([]), -45.263389587402344\n",
      "mean_log_p,shapetorch.Size([]), -178.4383087158203\n",
      "mean_log_q.shapetorch.Size([]), -45.620513916015625\n"
     ]
    },
    {
     "name": "stderr",
     "output_type": "stream",
     "text": [
      " 46%|████▋     | 435/938 [00:31<00:41, 12.18it/s]"
     ]
    },
    {
     "name": "stdout",
     "output_type": "stream",
     "text": [
      "mean_log_p,shapetorch.Size([]), -186.29269409179688\n",
      "mean_log_q.shapetorch.Size([]), -45.83462905883789\n",
      "mean_log_p,shapetorch.Size([]), -180.56771850585938\n",
      "mean_log_q.shapetorch.Size([]), -45.8546257019043\n"
     ]
    },
    {
     "name": "stderr",
     "output_type": "stream",
     "text": [
      " 47%|████▋     | 437/938 [00:31<00:41, 11.95it/s]"
     ]
    },
    {
     "name": "stdout",
     "output_type": "stream",
     "text": [
      "mean_log_p,shapetorch.Size([]), -177.86619567871094\n",
      "mean_log_q.shapetorch.Size([]), -45.70921325683594\n"
     ]
    },
    {
     "name": "stderr",
     "output_type": "stream",
     "text": [
      " 47%|████▋     | 439/938 [00:32<00:41, 12.12it/s]"
     ]
    },
    {
     "name": "stdout",
     "output_type": "stream",
     "text": [
      "mean_log_p,shapetorch.Size([]), -183.42332458496094\n",
      "mean_log_q.shapetorch.Size([]), -45.78923034667969\n",
      "mean_log_p,shapetorch.Size([]), -181.5052947998047\n",
      "mean_log_q.shapetorch.Size([]), -44.80180740356445\n",
      "mean_log_p,shapetorch.Size([]), -183.1416015625\n",
      "mean_log_q.shapetorch.Size([]), -45.27085494995117\n"
     ]
    },
    {
     "name": "stderr",
     "output_type": "stream",
     "text": [
      " 47%|████▋     | 441/938 [00:32<00:41, 11.95it/s]"
     ]
    },
    {
     "name": "stdout",
     "output_type": "stream",
     "text": [
      "mean_log_p,shapetorch.Size([]), -176.3965606689453\n",
      "mean_log_q.shapetorch.Size([]), -44.86279296875\n",
      "mean_log_p,shapetorch.Size([]), -189.08203125\n",
      "mean_log_q.shapetorch.Size([]), -44.57910919189453\n"
     ]
    },
    {
     "name": "stderr",
     "output_type": "stream",
     "text": [
      " 47%|████▋     | 443/938 [00:32<00:40, 12.13it/s]"
     ]
    },
    {
     "name": "stdout",
     "output_type": "stream",
     "text": [
      "mean_log_p,shapetorch.Size([]), -193.65725708007812\n",
      "mean_log_q.shapetorch.Size([]), -44.15594482421875\n"
     ]
    },
    {
     "name": "stderr",
     "output_type": "stream",
     "text": [
      " 47%|████▋     | 445/938 [00:32<00:40, 12.25it/s]"
     ]
    },
    {
     "name": "stdout",
     "output_type": "stream",
     "text": [
      "mean_log_p,shapetorch.Size([]), -193.73704528808594\n",
      "mean_log_q.shapetorch.Size([]), -44.50732421875\n",
      "mean_log_p,shapetorch.Size([]), -185.45616149902344\n",
      "mean_log_q.shapetorch.Size([]), -44.59844970703125\n",
      "mean_log_p,shapetorch.Size([]), -182.6874237060547\n",
      "mean_log_q.shapetorch.Size([]), -45.29913330078125\n"
     ]
    },
    {
     "name": "stderr",
     "output_type": "stream",
     "text": [
      " 48%|████▊     | 447/938 [00:32<00:41, 11.93it/s]"
     ]
    },
    {
     "name": "stdout",
     "output_type": "stream",
     "text": [
      "mean_log_p,shapetorch.Size([]), -187.60853576660156\n",
      "mean_log_q.shapetorch.Size([]), -45.296260833740234\n",
      "mean_log_p,shapetorch.Size([]), -185.99722290039062\n",
      "mean_log_q.shapetorch.Size([]), -45.78715896606445\n"
     ]
    },
    {
     "name": "stderr",
     "output_type": "stream",
     "text": [
      " 48%|████▊     | 449/938 [00:32<00:40, 12.05it/s]"
     ]
    },
    {
     "name": "stdout",
     "output_type": "stream",
     "text": [
      "mean_log_p,shapetorch.Size([]), -188.95106506347656\n",
      "mean_log_q.shapetorch.Size([]), -46.02935791015625\n"
     ]
    },
    {
     "name": "stderr",
     "output_type": "stream",
     "text": [
      " 48%|████▊     | 451/938 [00:33<00:40, 12.17it/s]"
     ]
    },
    {
     "name": "stdout",
     "output_type": "stream",
     "text": [
      "mean_log_p,shapetorch.Size([]), -198.80252075195312\n",
      "mean_log_q.shapetorch.Size([]), -45.570396423339844\n",
      "mean_log_p,shapetorch.Size([]), -184.42242431640625\n",
      "mean_log_q.shapetorch.Size([]), -46.62737274169922\n",
      "mean_log_p,shapetorch.Size([]), -177.68431091308594\n",
      "mean_log_q.shapetorch.Size([]), -46.75736618041992\n"
     ]
    },
    {
     "name": "stderr",
     "output_type": "stream",
     "text": [
      " 48%|████▊     | 453/938 [00:33<00:40, 12.00it/s]"
     ]
    },
    {
     "name": "stdout",
     "output_type": "stream",
     "text": [
      "mean_log_p,shapetorch.Size([]), -185.61947631835938\n",
      "mean_log_q.shapetorch.Size([]), -46.53789138793945\n",
      "mean_log_p,shapetorch.Size([]), -182.15719604492188\n",
      "mean_log_q.shapetorch.Size([]), -45.503089904785156\n"
     ]
    },
    {
     "name": "stderr",
     "output_type": "stream",
     "text": [
      " 49%|████▊     | 455/938 [00:33<00:39, 12.08it/s]"
     ]
    },
    {
     "name": "stdout",
     "output_type": "stream",
     "text": [
      "mean_log_p,shapetorch.Size([]), -184.58035278320312\n",
      "mean_log_q.shapetorch.Size([]), -46.33465576171875\n"
     ]
    },
    {
     "name": "stderr",
     "output_type": "stream",
     "text": [
      " 49%|████▊     | 457/938 [00:33<00:39, 12.08it/s]"
     ]
    },
    {
     "name": "stdout",
     "output_type": "stream",
     "text": [
      "mean_log_p,shapetorch.Size([]), -180.55477905273438\n",
      "mean_log_q.shapetorch.Size([]), -45.847572326660156\n",
      "mean_log_p,shapetorch.Size([]), -185.6007843017578\n",
      "mean_log_q.shapetorch.Size([]), -45.26740646362305\n",
      "mean_log_p,shapetorch.Size([]), -178.20010375976562\n",
      "mean_log_q.shapetorch.Size([]), -45.076534271240234\n"
     ]
    },
    {
     "name": "stderr",
     "output_type": "stream",
     "text": [
      " 49%|████▉     | 459/938 [00:33<00:38, 12.31it/s]"
     ]
    },
    {
     "name": "stdout",
     "output_type": "stream",
     "text": [
      "mean_log_p,shapetorch.Size([]), -184.7161865234375\n",
      "mean_log_q.shapetorch.Size([]), -45.205020904541016\n",
      "mean_log_p,shapetorch.Size([]), -184.35968017578125\n",
      "mean_log_q.shapetorch.Size([]), -44.62775421142578\n"
     ]
    },
    {
     "name": "stderr",
     "output_type": "stream",
     "text": [
      " 49%|████▉     | 463/938 [00:33<00:29, 16.13it/s]"
     ]
    },
    {
     "name": "stdout",
     "output_type": "stream",
     "text": [
      "mean_log_p,shapetorch.Size([]), -183.61019897460938\n",
      "mean_log_q.shapetorch.Size([]), -44.95677947998047\n"
     ]
    },
    {
     "name": "stderr",
     "output_type": "stream",
     "text": [
      " 50%|████▉     | 465/938 [00:34<00:32, 14.74it/s]"
     ]
    },
    {
     "name": "stdout",
     "output_type": "stream",
     "text": [
      "mean_log_p,shapetorch.Size([]), -188.89996337890625\n",
      "mean_log_q.shapetorch.Size([]), -43.84683609008789\n",
      "mean_log_p,shapetorch.Size([]), -179.25286865234375\n",
      "mean_log_q.shapetorch.Size([]), -44.414329528808594\n",
      "mean_log_p,shapetorch.Size([]), -188.5560302734375\n",
      "mean_log_q.shapetorch.Size([]), -44.70551300048828\n"
     ]
    },
    {
     "name": "stderr",
     "output_type": "stream",
     "text": [
      " 50%|████▉     | 467/938 [00:34<00:34, 13.83it/s]"
     ]
    },
    {
     "name": "stdout",
     "output_type": "stream",
     "text": [
      "mean_log_p,shapetorch.Size([]), -194.13589477539062\n",
      "mean_log_q.shapetorch.Size([]), -44.822776794433594\n",
      "mean_log_p,shapetorch.Size([]), -185.8722686767578\n",
      "mean_log_q.shapetorch.Size([]), -45.51637649536133\n"
     ]
    },
    {
     "name": "stderr",
     "output_type": "stream",
     "text": [
      " 50%|█████     | 469/938 [00:34<00:34, 13.47it/s]"
     ]
    },
    {
     "name": "stdout",
     "output_type": "stream",
     "text": [
      "mean_log_p,shapetorch.Size([]), -186.52560424804688\n",
      "mean_log_q.shapetorch.Size([]), -45.61406707763672\n"
     ]
    },
    {
     "name": "stderr",
     "output_type": "stream",
     "text": [
      " 50%|█████     | 471/938 [00:34<00:35, 13.01it/s]"
     ]
    },
    {
     "name": "stdout",
     "output_type": "stream",
     "text": [
      "mean_log_p,shapetorch.Size([]), -195.69989013671875\n",
      "mean_log_q.shapetorch.Size([]), -45.25860595703125\n",
      "mean_log_p,shapetorch.Size([]), -193.04888916015625\n",
      "mean_log_q.shapetorch.Size([]), -45.76872253417969\n",
      "mean_log_p,shapetorch.Size([]), -183.9034423828125\n",
      "mean_log_q.shapetorch.Size([]), -45.40143585205078\n"
     ]
    },
    {
     "name": "stderr",
     "output_type": "stream",
     "text": [
      " 50%|█████     | 473/938 [00:34<00:36, 12.73it/s]"
     ]
    },
    {
     "name": "stdout",
     "output_type": "stream",
     "text": [
      "mean_log_p,shapetorch.Size([]), -188.16046142578125\n",
      "mean_log_q.shapetorch.Size([]), -46.57061004638672\n",
      "mean_log_p,shapetorch.Size([]), -188.47669982910156\n",
      "mean_log_q.shapetorch.Size([]), -45.504844665527344\n"
     ]
    },
    {
     "name": "stderr",
     "output_type": "stream",
     "text": [
      " 51%|█████     | 475/938 [00:34<00:36, 12.69it/s]"
     ]
    },
    {
     "name": "stdout",
     "output_type": "stream",
     "text": [
      "mean_log_p,shapetorch.Size([]), -181.97247314453125\n",
      "mean_log_q.shapetorch.Size([]), -45.406219482421875\n"
     ]
    },
    {
     "name": "stderr",
     "output_type": "stream",
     "text": [
      " 51%|█████     | 477/938 [00:35<00:37, 12.29it/s]"
     ]
    },
    {
     "name": "stdout",
     "output_type": "stream",
     "text": [
      "mean_log_p,shapetorch.Size([]), -182.456787109375\n",
      "mean_log_q.shapetorch.Size([]), -44.27073669433594\n",
      "mean_log_p,shapetorch.Size([]), -180.11541748046875\n",
      "mean_log_q.shapetorch.Size([]), -45.33530044555664\n",
      "mean_log_p,shapetorch.Size([]), -184.93212890625\n",
      "mean_log_q.shapetorch.Size([]), -45.316314697265625\n"
     ]
    },
    {
     "name": "stderr",
     "output_type": "stream",
     "text": [
      " 51%|█████     | 479/938 [00:35<00:37, 12.35it/s]"
     ]
    },
    {
     "name": "stdout",
     "output_type": "stream",
     "text": [
      "mean_log_p,shapetorch.Size([]), -183.8131103515625\n",
      "mean_log_q.shapetorch.Size([]), -45.030517578125\n",
      "mean_log_p,shapetorch.Size([]), -190.9283447265625\n",
      "mean_log_q.shapetorch.Size([]), -45.27018737792969\n"
     ]
    },
    {
     "name": "stderr",
     "output_type": "stream",
     "text": [
      " 51%|█████▏    | 481/938 [00:35<00:37, 12.33it/s]"
     ]
    },
    {
     "name": "stdout",
     "output_type": "stream",
     "text": [
      "mean_log_p,shapetorch.Size([]), -187.84539794921875\n",
      "mean_log_q.shapetorch.Size([]), -44.718544006347656\n"
     ]
    },
    {
     "name": "stderr",
     "output_type": "stream",
     "text": [
      " 51%|█████▏    | 483/938 [00:35<00:36, 12.32it/s]"
     ]
    },
    {
     "name": "stdout",
     "output_type": "stream",
     "text": [
      "mean_log_p,shapetorch.Size([]), -185.49456787109375\n",
      "mean_log_q.shapetorch.Size([]), -45.709197998046875\n",
      "mean_log_p,shapetorch.Size([]), -198.58306884765625\n",
      "mean_log_q.shapetorch.Size([]), -45.3088493347168\n",
      "mean_log_p,shapetorch.Size([]), -182.9779815673828\n",
      "mean_log_q.shapetorch.Size([]), -44.54599380493164\n"
     ]
    },
    {
     "name": "stderr",
     "output_type": "stream",
     "text": [
      " 52%|█████▏    | 485/938 [00:35<00:36, 12.53it/s]"
     ]
    },
    {
     "name": "stdout",
     "output_type": "stream",
     "text": [
      "mean_log_p,shapetorch.Size([]), -184.00143432617188\n",
      "mean_log_q.shapetorch.Size([]), -45.32506561279297\n",
      "mean_log_p,shapetorch.Size([]), -189.62672424316406\n",
      "mean_log_q.shapetorch.Size([]), -45.701141357421875\n"
     ]
    },
    {
     "name": "stderr",
     "output_type": "stream",
     "text": [
      " 52%|█████▏    | 487/938 [00:35<00:36, 12.29it/s]"
     ]
    },
    {
     "name": "stdout",
     "output_type": "stream",
     "text": [
      "mean_log_p,shapetorch.Size([]), -183.78494262695312\n",
      "mean_log_q.shapetorch.Size([]), -45.893131256103516\n"
     ]
    },
    {
     "name": "stderr",
     "output_type": "stream",
     "text": [
      " 52%|█████▏    | 489/938 [00:36<00:35, 12.48it/s]"
     ]
    },
    {
     "name": "stdout",
     "output_type": "stream",
     "text": [
      "mean_log_p,shapetorch.Size([]), -184.1846923828125\n",
      "mean_log_q.shapetorch.Size([]), -45.409423828125\n",
      "mean_log_p,shapetorch.Size([]), -187.84512329101562\n",
      "mean_log_q.shapetorch.Size([]), -45.81202697753906\n",
      "mean_log_p,shapetorch.Size([]), -185.02796936035156\n",
      "mean_log_q.shapetorch.Size([]), -45.10572052001953\n"
     ]
    },
    {
     "name": "stderr",
     "output_type": "stream",
     "text": [
      " 52%|█████▏    | 491/938 [00:36<00:35, 12.60it/s]"
     ]
    },
    {
     "name": "stdout",
     "output_type": "stream",
     "text": [
      "mean_log_p,shapetorch.Size([]), -189.22067260742188\n",
      "mean_log_q.shapetorch.Size([]), -45.48711395263672\n",
      "mean_log_p,shapetorch.Size([]), -180.78936767578125\n",
      "mean_log_q.shapetorch.Size([]), -44.89115905761719\n"
     ]
    },
    {
     "name": "stderr",
     "output_type": "stream",
     "text": [
      " 53%|█████▎    | 493/938 [00:36<00:36, 12.34it/s]"
     ]
    },
    {
     "name": "stdout",
     "output_type": "stream",
     "text": [
      "mean_log_p,shapetorch.Size([]), -183.24966430664062\n",
      "mean_log_q.shapetorch.Size([]), -46.00300598144531\n"
     ]
    },
    {
     "name": "stderr",
     "output_type": "stream",
     "text": [
      " 53%|█████▎    | 495/938 [00:36<00:35, 12.44it/s]"
     ]
    },
    {
     "name": "stdout",
     "output_type": "stream",
     "text": [
      "mean_log_p,shapetorch.Size([]), -177.28897094726562\n",
      "mean_log_q.shapetorch.Size([]), -45.916568756103516\n",
      "mean_log_p,shapetorch.Size([]), -189.75210571289062\n",
      "mean_log_q.shapetorch.Size([]), -44.62635040283203\n",
      "mean_log_p,shapetorch.Size([]), -187.24349975585938\n",
      "mean_log_q.shapetorch.Size([]), -44.96803283691406\n"
     ]
    },
    {
     "name": "stderr",
     "output_type": "stream",
     "text": [
      " 53%|█████▎    | 497/938 [00:36<00:36, 12.20it/s]"
     ]
    },
    {
     "name": "stdout",
     "output_type": "stream",
     "text": [
      "mean_log_p,shapetorch.Size([]), -177.03318786621094\n",
      "mean_log_q.shapetorch.Size([]), -44.25496292114258\n",
      "mean_log_p,shapetorch.Size([]), -173.09645080566406\n",
      "mean_log_q.shapetorch.Size([]), -44.94969940185547\n"
     ]
    },
    {
     "name": "stderr",
     "output_type": "stream",
     "text": [
      " 53%|█████▎    | 499/938 [00:36<00:35, 12.22it/s]"
     ]
    },
    {
     "name": "stdout",
     "output_type": "stream",
     "text": [
      "mean_log_p,shapetorch.Size([]), -183.052490234375\n",
      "mean_log_q.shapetorch.Size([]), -45.42940902709961\n"
     ]
    },
    {
     "name": "stderr",
     "output_type": "stream",
     "text": [
      " 53%|█████▎    | 501/938 [00:37<00:35, 12.29it/s]"
     ]
    },
    {
     "name": "stdout",
     "output_type": "stream",
     "text": [
      "mean_log_p,shapetorch.Size([]), -183.96340942382812\n",
      "mean_log_q.shapetorch.Size([]), -45.16156005859375\n",
      "mean_log_p,shapetorch.Size([]), -192.13670349121094\n",
      "mean_log_q.shapetorch.Size([]), -45.20039367675781\n",
      "mean_log_p,shapetorch.Size([]), -204.40594482421875\n",
      "mean_log_q.shapetorch.Size([]), -45.310115814208984\n"
     ]
    },
    {
     "name": "stderr",
     "output_type": "stream",
     "text": [
      " 54%|█████▎    | 503/938 [00:37<00:35, 12.40it/s]"
     ]
    },
    {
     "name": "stdout",
     "output_type": "stream",
     "text": [
      "mean_log_p,shapetorch.Size([]), -187.18679809570312\n",
      "mean_log_q.shapetorch.Size([]), -45.85844039916992\n",
      "mean_log_p,shapetorch.Size([]), -180.0772705078125\n",
      "mean_log_q.shapetorch.Size([]), -45.32924270629883\n"
     ]
    },
    {
     "name": "stderr",
     "output_type": "stream",
     "text": [
      " 54%|█████▍    | 507/938 [00:37<00:27, 15.75it/s]"
     ]
    },
    {
     "name": "stdout",
     "output_type": "stream",
     "text": [
      "mean_log_p,shapetorch.Size([]), -179.40650939941406\n",
      "mean_log_q.shapetorch.Size([]), -45.21644973754883\n"
     ]
    },
    {
     "name": "stderr",
     "output_type": "stream",
     "text": [
      " 54%|█████▍    | 509/938 [00:37<00:28, 14.84it/s]"
     ]
    },
    {
     "name": "stdout",
     "output_type": "stream",
     "text": [
      "mean_log_p,shapetorch.Size([]), -189.22164916992188\n",
      "mean_log_q.shapetorch.Size([]), -45.15595245361328\n",
      "mean_log_p,shapetorch.Size([]), -182.03125\n",
      "mean_log_q.shapetorch.Size([]), -43.71150207519531\n",
      "mean_log_p,shapetorch.Size([]), -183.08013916015625\n",
      "mean_log_q.shapetorch.Size([]), -44.910240173339844\n"
     ]
    },
    {
     "name": "stderr",
     "output_type": "stream",
     "text": [
      " 54%|█████▍    | 511/938 [00:37<00:31, 13.69it/s]"
     ]
    },
    {
     "name": "stdout",
     "output_type": "stream",
     "text": [
      "mean_log_p,shapetorch.Size([]), -175.65045166015625\n",
      "mean_log_q.shapetorch.Size([]), -44.7679443359375\n",
      "mean_log_p,shapetorch.Size([]), -180.6349639892578\n",
      "mean_log_q.shapetorch.Size([]), -43.83699035644531\n"
     ]
    },
    {
     "name": "stderr",
     "output_type": "stream",
     "text": [
      " 55%|█████▍    | 513/938 [00:37<00:32, 13.16it/s]"
     ]
    },
    {
     "name": "stdout",
     "output_type": "stream",
     "text": [
      "mean_log_p,shapetorch.Size([]), -182.97715759277344\n",
      "mean_log_q.shapetorch.Size([]), -45.78718185424805\n"
     ]
    },
    {
     "name": "stderr",
     "output_type": "stream",
     "text": [
      " 55%|█████▍    | 515/938 [00:38<00:32, 12.83it/s]"
     ]
    },
    {
     "name": "stdout",
     "output_type": "stream",
     "text": [
      "mean_log_p,shapetorch.Size([]), -187.09034729003906\n",
      "mean_log_q.shapetorch.Size([]), -45.1562385559082\n",
      "mean_log_p,shapetorch.Size([]), -184.8448028564453\n",
      "mean_log_q.shapetorch.Size([]), -44.772499084472656\n",
      "mean_log_p,shapetorch.Size([]), -181.64849853515625\n",
      "mean_log_q.shapetorch.Size([]), -44.31257247924805\n"
     ]
    },
    {
     "name": "stderr",
     "output_type": "stream",
     "text": [
      " 55%|█████▌    | 517/938 [00:38<00:33, 12.51it/s]"
     ]
    },
    {
     "name": "stdout",
     "output_type": "stream",
     "text": [
      "mean_log_p,shapetorch.Size([]), -184.39187622070312\n",
      "mean_log_q.shapetorch.Size([]), -44.56074523925781\n",
      "mean_log_p,shapetorch.Size([]), -192.94674682617188\n",
      "mean_log_q.shapetorch.Size([]), -45.246490478515625\n"
     ]
    },
    {
     "name": "stderr",
     "output_type": "stream",
     "text": [
      " 55%|█████▌    | 519/938 [00:38<00:34, 12.23it/s]"
     ]
    },
    {
     "name": "stdout",
     "output_type": "stream",
     "text": [
      "mean_log_p,shapetorch.Size([]), -183.9843292236328\n",
      "mean_log_q.shapetorch.Size([]), -45.20100402832031\n"
     ]
    },
    {
     "name": "stderr",
     "output_type": "stream",
     "text": [
      " 56%|█████▌    | 521/938 [00:38<00:34, 12.00it/s]"
     ]
    },
    {
     "name": "stdout",
     "output_type": "stream",
     "text": [
      "mean_log_p,shapetorch.Size([]), -190.92002868652344\n",
      "mean_log_q.shapetorch.Size([]), -45.96915054321289\n",
      "mean_log_p,shapetorch.Size([]), -184.68487548828125\n",
      "mean_log_q.shapetorch.Size([]), -44.408206939697266\n",
      "mean_log_p,shapetorch.Size([]), -188.99708557128906\n",
      "mean_log_q.shapetorch.Size([]), -45.88062286376953\n"
     ]
    },
    {
     "name": "stderr",
     "output_type": "stream",
     "text": [
      " 56%|█████▌    | 523/938 [00:38<00:34, 12.04it/s]"
     ]
    },
    {
     "name": "stdout",
     "output_type": "stream",
     "text": [
      "mean_log_p,shapetorch.Size([]), -185.23757934570312\n",
      "mean_log_q.shapetorch.Size([]), -45.608394622802734\n",
      "mean_log_p,shapetorch.Size([]), -177.4229736328125\n",
      "mean_log_q.shapetorch.Size([]), -45.50359344482422\n"
     ]
    },
    {
     "name": "stderr",
     "output_type": "stream",
     "text": [
      " 56%|█████▌    | 525/938 [00:38<00:34, 12.14it/s]"
     ]
    },
    {
     "name": "stdout",
     "output_type": "stream",
     "text": [
      "mean_log_p,shapetorch.Size([]), -182.9218292236328\n",
      "mean_log_q.shapetorch.Size([]), -45.89558410644531\n"
     ]
    },
    {
     "name": "stderr",
     "output_type": "stream",
     "text": [
      " 56%|█████▌    | 527/938 [00:39<00:33, 12.11it/s]"
     ]
    },
    {
     "name": "stdout",
     "output_type": "stream",
     "text": [
      "mean_log_p,shapetorch.Size([]), -182.7001953125\n",
      "mean_log_q.shapetorch.Size([]), -45.21514129638672\n",
      "mean_log_p,shapetorch.Size([]), -183.02001953125\n",
      "mean_log_q.shapetorch.Size([]), -45.46245574951172\n",
      "mean_log_p,shapetorch.Size([]), -176.02908325195312\n",
      "mean_log_q.shapetorch.Size([]), -44.57672119140625\n"
     ]
    },
    {
     "name": "stderr",
     "output_type": "stream",
     "text": [
      " 56%|█████▋    | 529/938 [00:39<00:33, 12.09it/s]"
     ]
    },
    {
     "name": "stdout",
     "output_type": "stream",
     "text": [
      "mean_log_p,shapetorch.Size([]), -191.0112762451172\n",
      "mean_log_q.shapetorch.Size([]), -44.500587463378906\n",
      "mean_log_p,shapetorch.Size([]), -178.9547119140625\n",
      "mean_log_q.shapetorch.Size([]), -45.440486907958984\n"
     ]
    },
    {
     "name": "stderr",
     "output_type": "stream",
     "text": [
      " 57%|█████▋    | 531/938 [00:39<00:33, 12.17it/s]"
     ]
    },
    {
     "name": "stdout",
     "output_type": "stream",
     "text": [
      "mean_log_p,shapetorch.Size([]), -186.30496215820312\n",
      "mean_log_q.shapetorch.Size([]), -44.671905517578125\n"
     ]
    },
    {
     "name": "stderr",
     "output_type": "stream",
     "text": [
      " 57%|█████▋    | 533/938 [00:39<00:33, 12.21it/s]"
     ]
    },
    {
     "name": "stdout",
     "output_type": "stream",
     "text": [
      "mean_log_p,shapetorch.Size([]), -183.11712646484375\n",
      "mean_log_q.shapetorch.Size([]), -45.417850494384766\n",
      "mean_log_p,shapetorch.Size([]), -178.51358032226562\n",
      "mean_log_q.shapetorch.Size([]), -43.473670959472656\n",
      "mean_log_p,shapetorch.Size([]), -182.90090942382812\n",
      "mean_log_q.shapetorch.Size([]), -44.96259307861328\n"
     ]
    },
    {
     "name": "stderr",
     "output_type": "stream",
     "text": [
      " 57%|█████▋    | 535/938 [00:39<00:33, 12.06it/s]"
     ]
    },
    {
     "name": "stdout",
     "output_type": "stream",
     "text": [
      "mean_log_p,shapetorch.Size([]), -175.0931854248047\n",
      "mean_log_q.shapetorch.Size([]), -45.23827362060547\n",
      "mean_log_p,shapetorch.Size([]), -184.9151611328125\n",
      "mean_log_q.shapetorch.Size([]), -44.15757751464844\n"
     ]
    },
    {
     "name": "stderr",
     "output_type": "stream",
     "text": [
      " 57%|█████▋    | 537/938 [00:39<00:32, 12.21it/s]"
     ]
    },
    {
     "name": "stdout",
     "output_type": "stream",
     "text": [
      "mean_log_p,shapetorch.Size([]), -181.03399658203125\n",
      "mean_log_q.shapetorch.Size([]), -44.7943115234375\n"
     ]
    },
    {
     "name": "stderr",
     "output_type": "stream",
     "text": [
      " 57%|█████▋    | 539/938 [00:40<00:32, 12.25it/s]"
     ]
    },
    {
     "name": "stdout",
     "output_type": "stream",
     "text": [
      "mean_log_p,shapetorch.Size([]), -193.5384521484375\n",
      "mean_log_q.shapetorch.Size([]), -44.91236877441406\n",
      "mean_log_p,shapetorch.Size([]), -177.21810913085938\n",
      "mean_log_q.shapetorch.Size([]), -45.45270538330078\n",
      "mean_log_p,shapetorch.Size([]), -181.89761352539062\n",
      "mean_log_q.shapetorch.Size([]), -44.19681167602539\n"
     ]
    },
    {
     "name": "stderr",
     "output_type": "stream",
     "text": [
      " 58%|█████▊    | 541/938 [00:40<00:32, 12.10it/s]"
     ]
    },
    {
     "name": "stdout",
     "output_type": "stream",
     "text": [
      "mean_log_p,shapetorch.Size([]), -183.35293579101562\n",
      "mean_log_q.shapetorch.Size([]), -44.92176055908203\n",
      "mean_log_p,shapetorch.Size([]), -183.91859436035156\n",
      "mean_log_q.shapetorch.Size([]), -45.06590270996094\n"
     ]
    },
    {
     "name": "stderr",
     "output_type": "stream",
     "text": [
      " 58%|█████▊    | 543/938 [00:40<00:32, 12.06it/s]"
     ]
    },
    {
     "name": "stdout",
     "output_type": "stream",
     "text": [
      "mean_log_p,shapetorch.Size([]), -181.91464233398438\n",
      "mean_log_q.shapetorch.Size([]), -44.721778869628906\n"
     ]
    },
    {
     "name": "stderr",
     "output_type": "stream",
     "text": [
      " 58%|█████▊    | 545/938 [00:40<00:32, 11.95it/s]"
     ]
    },
    {
     "name": "stdout",
     "output_type": "stream",
     "text": [
      "mean_log_p,shapetorch.Size([]), -182.69027709960938\n",
      "mean_log_q.shapetorch.Size([]), -44.764434814453125\n",
      "mean_log_p,shapetorch.Size([]), -180.29495239257812\n",
      "mean_log_q.shapetorch.Size([]), -45.589569091796875\n",
      "mean_log_p,shapetorch.Size([]), -183.67050170898438\n",
      "mean_log_q.shapetorch.Size([]), -44.97373962402344\n"
     ]
    },
    {
     "name": "stderr",
     "output_type": "stream",
     "text": [
      " 58%|█████▊    | 547/938 [00:40<00:32, 12.15it/s]"
     ]
    },
    {
     "name": "stdout",
     "output_type": "stream",
     "text": [
      "mean_log_p,shapetorch.Size([]), -174.03582763671875\n",
      "mean_log_q.shapetorch.Size([]), -45.081546783447266\n",
      "mean_log_p,shapetorch.Size([]), -179.6356201171875\n",
      "mean_log_q.shapetorch.Size([]), -44.363346099853516\n"
     ]
    },
    {
     "name": "stderr",
     "output_type": "stream",
     "text": [
      " 59%|█████▊    | 549/938 [00:40<00:32, 11.95it/s]"
     ]
    },
    {
     "name": "stdout",
     "output_type": "stream",
     "text": [
      "mean_log_p,shapetorch.Size([]), -189.78256225585938\n",
      "mean_log_q.shapetorch.Size([]), -44.472694396972656\n"
     ]
    },
    {
     "name": "stderr",
     "output_type": "stream",
     "text": [
      " 59%|█████▉    | 553/938 [00:41<00:24, 15.58it/s]"
     ]
    },
    {
     "name": "stdout",
     "output_type": "stream",
     "text": [
      "mean_log_p,shapetorch.Size([]), -179.14053344726562\n",
      "mean_log_q.shapetorch.Size([]), -45.596153259277344\n",
      "mean_log_p,shapetorch.Size([]), -188.59774780273438\n",
      "mean_log_q.shapetorch.Size([]), -44.351253509521484\n",
      "mean_log_p,shapetorch.Size([]), -180.52076721191406\n",
      "mean_log_q.shapetorch.Size([]), -44.556854248046875\n"
     ]
    },
    {
     "name": "stderr",
     "output_type": "stream",
     "text": [
      " 59%|█████▉    | 555/938 [00:41<00:26, 14.50it/s]"
     ]
    },
    {
     "name": "stdout",
     "output_type": "stream",
     "text": [
      "mean_log_p,shapetorch.Size([]), -181.975830078125\n",
      "mean_log_q.shapetorch.Size([]), -45.394264221191406\n",
      "mean_log_p,shapetorch.Size([]), -184.31137084960938\n",
      "mean_log_q.shapetorch.Size([]), -44.1956787109375\n"
     ]
    },
    {
     "name": "stderr",
     "output_type": "stream",
     "text": [
      " 59%|█████▉    | 557/938 [00:41<00:27, 13.86it/s]"
     ]
    },
    {
     "name": "stdout",
     "output_type": "stream",
     "text": [
      "mean_log_p,shapetorch.Size([]), -187.857177734375\n",
      "mean_log_q.shapetorch.Size([]), -45.314510345458984\n"
     ]
    },
    {
     "name": "stderr",
     "output_type": "stream",
     "text": [
      " 60%|█████▉    | 559/938 [00:41<00:28, 13.39it/s]"
     ]
    },
    {
     "name": "stdout",
     "output_type": "stream",
     "text": [
      "mean_log_p,shapetorch.Size([]), -183.63885498046875\n",
      "mean_log_q.shapetorch.Size([]), -45.06848907470703\n",
      "mean_log_p,shapetorch.Size([]), -177.2744140625\n",
      "mean_log_q.shapetorch.Size([]), -44.565269470214844\n",
      "mean_log_p,shapetorch.Size([]), -182.1725311279297\n",
      "mean_log_q.shapetorch.Size([]), -44.19891357421875\n"
     ]
    },
    {
     "name": "stderr",
     "output_type": "stream",
     "text": [
      " 60%|█████▉    | 561/938 [00:41<00:29, 12.90it/s]"
     ]
    },
    {
     "name": "stdout",
     "output_type": "stream",
     "text": [
      "mean_log_p,shapetorch.Size([]), -177.83670043945312\n",
      "mean_log_q.shapetorch.Size([]), -44.794830322265625\n",
      "mean_log_p,shapetorch.Size([]), -178.8857421875\n",
      "mean_log_q.shapetorch.Size([]), -44.544437408447266\n"
     ]
    },
    {
     "name": "stderr",
     "output_type": "stream",
     "text": [
      " 60%|██████    | 563/938 [00:41<00:29, 12.93it/s]"
     ]
    },
    {
     "name": "stdout",
     "output_type": "stream",
     "text": [
      "mean_log_p,shapetorch.Size([]), -181.29319763183594\n",
      "mean_log_q.shapetorch.Size([]), -44.80124282836914\n"
     ]
    },
    {
     "name": "stderr",
     "output_type": "stream",
     "text": [
      " 60%|██████    | 565/938 [00:42<00:29, 12.60it/s]"
     ]
    },
    {
     "name": "stdout",
     "output_type": "stream",
     "text": [
      "mean_log_p,shapetorch.Size([]), -184.6153564453125\n",
      "mean_log_q.shapetorch.Size([]), -44.5367317199707\n",
      "mean_log_p,shapetorch.Size([]), -184.73379516601562\n",
      "mean_log_q.shapetorch.Size([]), -43.970733642578125\n",
      "mean_log_p,shapetorch.Size([]), -180.13473510742188\n",
      "mean_log_q.shapetorch.Size([]), -44.46574401855469\n"
     ]
    },
    {
     "name": "stderr",
     "output_type": "stream",
     "text": [
      " 60%|██████    | 567/938 [00:42<00:29, 12.47it/s]"
     ]
    },
    {
     "name": "stdout",
     "output_type": "stream",
     "text": [
      "mean_log_p,shapetorch.Size([]), -192.7435302734375\n",
      "mean_log_q.shapetorch.Size([]), -45.06263732910156\n",
      "mean_log_p,shapetorch.Size([]), -187.07034301757812\n",
      "mean_log_q.shapetorch.Size([]), -44.8764762878418\n"
     ]
    },
    {
     "name": "stderr",
     "output_type": "stream",
     "text": [
      " 61%|██████    | 569/938 [00:42<00:29, 12.33it/s]"
     ]
    },
    {
     "name": "stdout",
     "output_type": "stream",
     "text": [
      "mean_log_p,shapetorch.Size([]), -177.74411010742188\n",
      "mean_log_q.shapetorch.Size([]), -45.290164947509766\n"
     ]
    },
    {
     "name": "stderr",
     "output_type": "stream",
     "text": [
      " 61%|██████    | 571/938 [00:42<00:30, 12.20it/s]"
     ]
    },
    {
     "name": "stdout",
     "output_type": "stream",
     "text": [
      "mean_log_p,shapetorch.Size([]), -179.15509033203125\n",
      "mean_log_q.shapetorch.Size([]), -44.82935333251953\n",
      "mean_log_p,shapetorch.Size([]), -188.16514587402344\n",
      "mean_log_q.shapetorch.Size([]), -44.74805450439453\n",
      "mean_log_p,shapetorch.Size([]), -189.28138732910156\n",
      "mean_log_q.shapetorch.Size([]), -44.39549255371094\n"
     ]
    },
    {
     "name": "stderr",
     "output_type": "stream",
     "text": [
      " 61%|██████    | 573/938 [00:42<00:30, 11.95it/s]"
     ]
    },
    {
     "name": "stdout",
     "output_type": "stream",
     "text": [
      "mean_log_p,shapetorch.Size([]), -177.41787719726562\n",
      "mean_log_q.shapetorch.Size([]), -44.680763244628906\n",
      "mean_log_p,shapetorch.Size([]), -182.5561065673828\n",
      "mean_log_q.shapetorch.Size([]), -43.86483383178711\n"
     ]
    },
    {
     "name": "stderr",
     "output_type": "stream",
     "text": [
      " 61%|██████▏   | 575/938 [00:42<00:29, 12.11it/s]"
     ]
    },
    {
     "name": "stdout",
     "output_type": "stream",
     "text": [
      "mean_log_p,shapetorch.Size([]), -179.4803924560547\n",
      "mean_log_q.shapetorch.Size([]), -45.46461486816406\n"
     ]
    },
    {
     "name": "stderr",
     "output_type": "stream",
     "text": [
      " 62%|██████▏   | 577/938 [00:43<00:29, 12.12it/s]"
     ]
    },
    {
     "name": "stdout",
     "output_type": "stream",
     "text": [
      "mean_log_p,shapetorch.Size([]), -180.61273193359375\n",
      "mean_log_q.shapetorch.Size([]), -44.99260711669922\n",
      "mean_log_p,shapetorch.Size([]), -181.93881225585938\n",
      "mean_log_q.shapetorch.Size([]), -44.735382080078125\n",
      "mean_log_p,shapetorch.Size([]), -184.70236206054688\n",
      "mean_log_q.shapetorch.Size([]), -45.23691940307617\n"
     ]
    },
    {
     "name": "stderr",
     "output_type": "stream",
     "text": [
      " 62%|██████▏   | 579/938 [00:43<00:29, 12.02it/s]"
     ]
    },
    {
     "name": "stdout",
     "output_type": "stream",
     "text": [
      "mean_log_p,shapetorch.Size([]), -177.80917358398438\n",
      "mean_log_q.shapetorch.Size([]), -45.56862258911133\n",
      "mean_log_p,shapetorch.Size([]), -177.96102905273438\n",
      "mean_log_q.shapetorch.Size([]), -44.95820236206055\n"
     ]
    },
    {
     "name": "stderr",
     "output_type": "stream",
     "text": [
      " 62%|██████▏   | 581/938 [00:43<00:29, 12.04it/s]"
     ]
    },
    {
     "name": "stdout",
     "output_type": "stream",
     "text": [
      "mean_log_p,shapetorch.Size([]), -180.40673828125\n",
      "mean_log_q.shapetorch.Size([]), -45.32987976074219\n"
     ]
    },
    {
     "name": "stderr",
     "output_type": "stream",
     "text": [
      " 62%|██████▏   | 583/938 [00:43<00:29, 12.09it/s]"
     ]
    },
    {
     "name": "stdout",
     "output_type": "stream",
     "text": [
      "mean_log_p,shapetorch.Size([]), -186.90426635742188\n",
      "mean_log_q.shapetorch.Size([]), -44.23041915893555\n",
      "mean_log_p,shapetorch.Size([]), -177.7379150390625\n",
      "mean_log_q.shapetorch.Size([]), -44.688148498535156\n",
      "mean_log_p,shapetorch.Size([]), -186.71023559570312\n",
      "mean_log_q.shapetorch.Size([]), -44.57879638671875\n"
     ]
    },
    {
     "name": "stderr",
     "output_type": "stream",
     "text": [
      " 62%|██████▏   | 585/938 [00:43<00:28, 12.27it/s]"
     ]
    },
    {
     "name": "stdout",
     "output_type": "stream",
     "text": [
      "mean_log_p,shapetorch.Size([]), -180.568115234375\n",
      "mean_log_q.shapetorch.Size([]), -45.17317199707031\n",
      "mean_log_p,shapetorch.Size([]), -183.00498962402344\n",
      "mean_log_q.shapetorch.Size([]), -44.93928527832031\n"
     ]
    },
    {
     "name": "stderr",
     "output_type": "stream",
     "text": [
      " 63%|██████▎   | 587/938 [00:43<00:28, 12.28it/s]"
     ]
    },
    {
     "name": "stdout",
     "output_type": "stream",
     "text": [
      "mean_log_p,shapetorch.Size([]), -179.54684448242188\n",
      "mean_log_q.shapetorch.Size([]), -44.03965759277344\n"
     ]
    },
    {
     "name": "stderr",
     "output_type": "stream",
     "text": [
      " 63%|██████▎   | 589/938 [00:44<00:28, 12.22it/s]"
     ]
    },
    {
     "name": "stdout",
     "output_type": "stream",
     "text": [
      "mean_log_p,shapetorch.Size([]), -175.471923828125\n",
      "mean_log_q.shapetorch.Size([]), -44.14508819580078\n",
      "mean_log_p,shapetorch.Size([]), -181.58926391601562\n",
      "mean_log_q.shapetorch.Size([]), -44.87208557128906\n",
      "mean_log_p,shapetorch.Size([]), -189.29302978515625\n",
      "mean_log_q.shapetorch.Size([]), -44.0198974609375\n"
     ]
    },
    {
     "name": "stderr",
     "output_type": "stream",
     "text": [
      " 63%|██████▎   | 591/938 [00:44<00:27, 12.44it/s]"
     ]
    },
    {
     "name": "stdout",
     "output_type": "stream",
     "text": [
      "mean_log_p,shapetorch.Size([]), -181.4020538330078\n",
      "mean_log_q.shapetorch.Size([]), -44.79972457885742\n",
      "mean_log_p,shapetorch.Size([]), -183.84393310546875\n",
      "mean_log_q.shapetorch.Size([]), -44.52067565917969\n"
     ]
    },
    {
     "name": "stderr",
     "output_type": "stream",
     "text": [
      " 63%|██████▎   | 593/938 [00:44<00:27, 12.44it/s]"
     ]
    },
    {
     "name": "stdout",
     "output_type": "stream",
     "text": [
      "mean_log_p,shapetorch.Size([]), -181.36761474609375\n",
      "mean_log_q.shapetorch.Size([]), -44.23292541503906\n"
     ]
    },
    {
     "name": "stderr",
     "output_type": "stream",
     "text": [
      " 63%|██████▎   | 595/938 [00:44<00:27, 12.40it/s]"
     ]
    },
    {
     "name": "stdout",
     "output_type": "stream",
     "text": [
      "mean_log_p,shapetorch.Size([]), -177.9331817626953\n",
      "mean_log_q.shapetorch.Size([]), -44.71465301513672\n",
      "mean_log_p,shapetorch.Size([]), -180.35382080078125\n",
      "mean_log_q.shapetorch.Size([]), -43.8267936706543\n",
      "mean_log_p,shapetorch.Size([]), -183.00360107421875\n",
      "mean_log_q.shapetorch.Size([]), -44.89324951171875\n"
     ]
    },
    {
     "name": "stderr",
     "output_type": "stream",
     "text": [
      " 64%|██████▎   | 597/938 [00:44<00:28, 12.12it/s]"
     ]
    },
    {
     "name": "stdout",
     "output_type": "stream",
     "text": [
      "mean_log_p,shapetorch.Size([]), -182.6336669921875\n",
      "mean_log_q.shapetorch.Size([]), -44.23533630371094\n",
      "mean_log_p,shapetorch.Size([]), -181.0665283203125\n",
      "mean_log_q.shapetorch.Size([]), -44.53034210205078\n"
     ]
    },
    {
     "name": "stderr",
     "output_type": "stream",
     "text": [
      " 64%|██████▍   | 601/938 [00:44<00:21, 15.76it/s]"
     ]
    },
    {
     "name": "stdout",
     "output_type": "stream",
     "text": [
      "mean_log_p,shapetorch.Size([]), -183.30421447753906\n",
      "mean_log_q.shapetorch.Size([]), -44.791908264160156\n"
     ]
    },
    {
     "name": "stderr",
     "output_type": "stream",
     "text": [
      " 64%|██████▍   | 603/938 [00:45<00:23, 14.42it/s]"
     ]
    },
    {
     "name": "stdout",
     "output_type": "stream",
     "text": [
      "mean_log_p,shapetorch.Size([]), -182.726806640625\n",
      "mean_log_q.shapetorch.Size([]), -44.5866584777832\n",
      "mean_log_p,shapetorch.Size([]), -181.9437713623047\n",
      "mean_log_q.shapetorch.Size([]), -45.16459655761719\n",
      "mean_log_p,shapetorch.Size([]), -186.23655700683594\n",
      "mean_log_q.shapetorch.Size([]), -44.0543098449707\n"
     ]
    },
    {
     "name": "stderr",
     "output_type": "stream",
     "text": [
      " 64%|██████▍   | 605/938 [00:45<00:23, 13.96it/s]"
     ]
    },
    {
     "name": "stdout",
     "output_type": "stream",
     "text": [
      "mean_log_p,shapetorch.Size([]), -178.63803100585938\n",
      "mean_log_q.shapetorch.Size([]), -44.72340393066406\n",
      "mean_log_p,shapetorch.Size([]), -180.12957763671875\n",
      "mean_log_q.shapetorch.Size([]), -44.943267822265625\n"
     ]
    },
    {
     "name": "stderr",
     "output_type": "stream",
     "text": [
      " 65%|██████▍   | 607/938 [00:45<00:24, 13.49it/s]"
     ]
    },
    {
     "name": "stdout",
     "output_type": "stream",
     "text": [
      "mean_log_p,shapetorch.Size([]), -176.27413940429688\n",
      "mean_log_q.shapetorch.Size([]), -44.76325988769531\n"
     ]
    },
    {
     "name": "stderr",
     "output_type": "stream",
     "text": [
      " 65%|██████▍   | 609/938 [00:45<00:25, 13.16it/s]"
     ]
    },
    {
     "name": "stdout",
     "output_type": "stream",
     "text": [
      "mean_log_p,shapetorch.Size([]), -185.95498657226562\n",
      "mean_log_q.shapetorch.Size([]), -45.1597900390625\n",
      "mean_log_p,shapetorch.Size([]), -179.9414520263672\n",
      "mean_log_q.shapetorch.Size([]), -45.03990173339844\n",
      "mean_log_p,shapetorch.Size([]), -182.0861358642578\n",
      "mean_log_q.shapetorch.Size([]), -45.53438186645508\n"
     ]
    },
    {
     "name": "stderr",
     "output_type": "stream",
     "text": [
      " 65%|██████▌   | 611/938 [00:45<00:25, 12.82it/s]"
     ]
    },
    {
     "name": "stdout",
     "output_type": "stream",
     "text": [
      "mean_log_p,shapetorch.Size([]), -179.62225341796875\n",
      "mean_log_q.shapetorch.Size([]), -45.27943420410156\n",
      "mean_log_p,shapetorch.Size([]), -183.47018432617188\n",
      "mean_log_q.shapetorch.Size([]), -44.87371826171875\n"
     ]
    },
    {
     "name": "stderr",
     "output_type": "stream",
     "text": [
      " 65%|██████▌   | 613/938 [00:45<00:25, 12.69it/s]"
     ]
    },
    {
     "name": "stdout",
     "output_type": "stream",
     "text": [
      "mean_log_p,shapetorch.Size([]), -177.44381713867188\n",
      "mean_log_q.shapetorch.Size([]), -44.73724365234375\n"
     ]
    },
    {
     "name": "stderr",
     "output_type": "stream",
     "text": [
      " 66%|██████▌   | 615/938 [00:46<00:26, 12.26it/s]"
     ]
    },
    {
     "name": "stdout",
     "output_type": "stream",
     "text": [
      "mean_log_p,shapetorch.Size([]), -181.17208862304688\n",
      "mean_log_q.shapetorch.Size([]), -44.95156478881836\n",
      "mean_log_p,shapetorch.Size([]), -179.0482635498047\n",
      "mean_log_q.shapetorch.Size([]), -43.86414337158203\n",
      "mean_log_p,shapetorch.Size([]), -180.3352508544922\n",
      "mean_log_q.shapetorch.Size([]), -44.352210998535156\n"
     ]
    },
    {
     "name": "stderr",
     "output_type": "stream",
     "text": [
      " 66%|██████▌   | 617/938 [00:46<00:26, 12.12it/s]"
     ]
    },
    {
     "name": "stdout",
     "output_type": "stream",
     "text": [
      "mean_log_p,shapetorch.Size([]), -181.26980590820312\n",
      "mean_log_q.shapetorch.Size([]), -44.06592559814453\n",
      "mean_log_p,shapetorch.Size([]), -176.7047119140625\n",
      "mean_log_q.shapetorch.Size([]), -44.73113250732422\n"
     ]
    },
    {
     "name": "stderr",
     "output_type": "stream",
     "text": [
      " 66%|██████▌   | 619/938 [00:46<00:26, 12.13it/s]"
     ]
    },
    {
     "name": "stdout",
     "output_type": "stream",
     "text": [
      "mean_log_p,shapetorch.Size([]), -186.2747039794922\n",
      "mean_log_q.shapetorch.Size([]), -44.40386199951172\n"
     ]
    },
    {
     "name": "stderr",
     "output_type": "stream",
     "text": [
      " 66%|██████▌   | 621/938 [00:46<00:26, 12.04it/s]"
     ]
    },
    {
     "name": "stdout",
     "output_type": "stream",
     "text": [
      "mean_log_p,shapetorch.Size([]), -179.5360565185547\n",
      "mean_log_q.shapetorch.Size([]), -44.53338623046875\n",
      "mean_log_p,shapetorch.Size([]), -181.80718994140625\n",
      "mean_log_q.shapetorch.Size([]), -44.16804885864258\n",
      "mean_log_p,shapetorch.Size([]), -176.7205352783203\n",
      "mean_log_q.shapetorch.Size([]), -45.01485824584961\n"
     ]
    },
    {
     "name": "stderr",
     "output_type": "stream",
     "text": [
      " 66%|██████▋   | 623/938 [00:46<00:26, 11.96it/s]"
     ]
    },
    {
     "name": "stdout",
     "output_type": "stream",
     "text": [
      "mean_log_p,shapetorch.Size([]), -178.29208374023438\n",
      "mean_log_q.shapetorch.Size([]), -45.7183952331543\n",
      "mean_log_p,shapetorch.Size([]), -182.09442138671875\n",
      "mean_log_q.shapetorch.Size([]), -45.244163513183594\n"
     ]
    },
    {
     "name": "stderr",
     "output_type": "stream",
     "text": [
      " 67%|██████▋   | 625/938 [00:46<00:26, 12.03it/s]"
     ]
    },
    {
     "name": "stdout",
     "output_type": "stream",
     "text": [
      "mean_log_p,shapetorch.Size([]), -184.9063720703125\n",
      "mean_log_q.shapetorch.Size([]), -45.59214401245117\n"
     ]
    },
    {
     "name": "stderr",
     "output_type": "stream",
     "text": [
      " 67%|██████▋   | 627/938 [00:47<00:26, 11.89it/s]"
     ]
    },
    {
     "name": "stdout",
     "output_type": "stream",
     "text": [
      "mean_log_p,shapetorch.Size([]), -183.39254760742188\n",
      "mean_log_q.shapetorch.Size([]), -44.167320251464844\n",
      "mean_log_p,shapetorch.Size([]), -176.36068725585938\n",
      "mean_log_q.shapetorch.Size([]), -44.1383171081543\n",
      "mean_log_p,shapetorch.Size([]), -183.218505859375\n",
      "mean_log_q.shapetorch.Size([]), -44.29165267944336\n"
     ]
    },
    {
     "name": "stderr",
     "output_type": "stream",
     "text": [
      " 67%|██████▋   | 629/938 [00:47<00:25, 12.03it/s]"
     ]
    },
    {
     "name": "stdout",
     "output_type": "stream",
     "text": [
      "mean_log_p,shapetorch.Size([]), -180.2371826171875\n",
      "mean_log_q.shapetorch.Size([]), -44.58458709716797\n",
      "mean_log_p,shapetorch.Size([]), -182.62916564941406\n",
      "mean_log_q.shapetorch.Size([]), -45.265594482421875\n"
     ]
    },
    {
     "name": "stderr",
     "output_type": "stream",
     "text": [
      " 67%|██████▋   | 631/938 [00:47<00:24, 12.32it/s]"
     ]
    },
    {
     "name": "stdout",
     "output_type": "stream",
     "text": [
      "mean_log_p,shapetorch.Size([]), -173.94578552246094\n",
      "mean_log_q.shapetorch.Size([]), -44.68186950683594\n"
     ]
    },
    {
     "name": "stderr",
     "output_type": "stream",
     "text": [
      " 67%|██████▋   | 633/938 [00:47<00:24, 12.64it/s]"
     ]
    },
    {
     "name": "stdout",
     "output_type": "stream",
     "text": [
      "mean_log_p,shapetorch.Size([]), -179.55264282226562\n",
      "mean_log_q.shapetorch.Size([]), -44.1495475769043\n",
      "mean_log_p,shapetorch.Size([]), -182.57296752929688\n",
      "mean_log_q.shapetorch.Size([]), -44.395957946777344\n"
     ]
    },
    {
     "name": "stderr",
     "output_type": "stream",
     "text": [
      " 68%|██████▊   | 635/938 [00:47<00:23, 12.87it/s]"
     ]
    },
    {
     "name": "stdout",
     "output_type": "stream",
     "text": [
      "mean_log_p,shapetorch.Size([]), -185.63067626953125\n",
      "mean_log_q.shapetorch.Size([]), -44.204261779785156\n"
     ]
    },
    {
     "name": "stderr",
     "output_type": "stream",
     "text": [
      " 68%|██████▊   | 637/938 [00:47<00:23, 13.06it/s]"
     ]
    },
    {
     "name": "stdout",
     "output_type": "stream",
     "text": [
      "mean_log_p,shapetorch.Size([]), -175.84286499023438\n",
      "mean_log_q.shapetorch.Size([]), -43.879661560058594\n",
      "mean_log_p,shapetorch.Size([]), -179.48199462890625\n",
      "mean_log_q.shapetorch.Size([]), -44.88790512084961\n",
      "mean_log_p,shapetorch.Size([]), -181.5155487060547\n",
      "mean_log_q.shapetorch.Size([]), -44.865516662597656\n"
     ]
    },
    {
     "name": "stderr",
     "output_type": "stream",
     "text": [
      " 68%|██████▊   | 639/938 [00:47<00:22, 13.15it/s]"
     ]
    },
    {
     "name": "stdout",
     "output_type": "stream",
     "text": [
      "mean_log_p,shapetorch.Size([]), -188.7615966796875\n",
      "mean_log_q.shapetorch.Size([]), -44.75135803222656\n",
      "mean_log_p,shapetorch.Size([]), -176.97341918945312\n",
      "mean_log_q.shapetorch.Size([]), -44.35820770263672\n"
     ]
    },
    {
     "name": "stderr",
     "output_type": "stream",
     "text": [
      " 68%|██████▊   | 641/938 [00:48<00:22, 13.27it/s]"
     ]
    },
    {
     "name": "stdout",
     "output_type": "stream",
     "text": [
      "mean_log_p,shapetorch.Size([]), -173.98464965820312\n",
      "mean_log_q.shapetorch.Size([]), -44.91399383544922\n"
     ]
    },
    {
     "name": "stderr",
     "output_type": "stream",
     "text": [
      " 69%|██████▊   | 643/938 [00:48<00:22, 13.33it/s]"
     ]
    },
    {
     "name": "stdout",
     "output_type": "stream",
     "text": [
      "mean_log_p,shapetorch.Size([]), -179.37725830078125\n",
      "mean_log_q.shapetorch.Size([]), -44.72149658203125\n",
      "mean_log_p,shapetorch.Size([]), -175.3423614501953\n",
      "mean_log_q.shapetorch.Size([]), -45.361202239990234\n",
      "mean_log_p,shapetorch.Size([]), -181.94334411621094\n",
      "mean_log_q.shapetorch.Size([]), -44.42922592163086\n"
     ]
    },
    {
     "name": "stderr",
     "output_type": "stream",
     "text": [
      " 69%|██████▉   | 645/938 [00:48<00:21, 13.37it/s]"
     ]
    },
    {
     "name": "stdout",
     "output_type": "stream",
     "text": [
      "mean_log_p,shapetorch.Size([]), -180.94558715820312\n",
      "mean_log_q.shapetorch.Size([]), -44.122928619384766\n",
      "mean_log_p,shapetorch.Size([]), -185.36474609375\n",
      "mean_log_q.shapetorch.Size([]), -44.27688217163086\n"
     ]
    },
    {
     "name": "stderr",
     "output_type": "stream",
     "text": [
      " 69%|██████▉   | 647/938 [00:48<00:21, 13.40it/s]"
     ]
    },
    {
     "name": "stdout",
     "output_type": "stream",
     "text": [
      "mean_log_p,shapetorch.Size([]), -186.39256286621094\n",
      "mean_log_q.shapetorch.Size([]), -44.70973587036133\n"
     ]
    },
    {
     "name": "stderr",
     "output_type": "stream",
     "text": [
      " 69%|██████▉   | 651/938 [00:48<00:16, 17.47it/s]"
     ]
    },
    {
     "name": "stdout",
     "output_type": "stream",
     "text": [
      "mean_log_p,shapetorch.Size([]), -171.72598266601562\n",
      "mean_log_q.shapetorch.Size([]), -43.77291488647461\n",
      "mean_log_p,shapetorch.Size([]), -173.98785400390625\n",
      "mean_log_q.shapetorch.Size([]), -43.52782440185547\n",
      "mean_log_p,shapetorch.Size([]), -187.20590209960938\n",
      "mean_log_q.shapetorch.Size([]), -43.924468994140625\n"
     ]
    },
    {
     "name": "stderr",
     "output_type": "stream",
     "text": [
      " 70%|██████▉   | 653/938 [00:48<00:17, 16.20it/s]"
     ]
    },
    {
     "name": "stdout",
     "output_type": "stream",
     "text": [
      "mean_log_p,shapetorch.Size([]), -177.6260528564453\n",
      "mean_log_q.shapetorch.Size([]), -44.19749450683594\n",
      "mean_log_p,shapetorch.Size([]), -182.91677856445312\n",
      "mean_log_q.shapetorch.Size([]), -44.14390563964844\n"
     ]
    },
    {
     "name": "stderr",
     "output_type": "stream",
     "text": [
      " 70%|██████▉   | 655/938 [00:48<00:18, 15.40it/s]"
     ]
    },
    {
     "name": "stdout",
     "output_type": "stream",
     "text": [
      "mean_log_p,shapetorch.Size([]), -182.5107421875\n",
      "mean_log_q.shapetorch.Size([]), -43.36363220214844\n"
     ]
    },
    {
     "name": "stderr",
     "output_type": "stream",
     "text": [
      " 70%|███████   | 657/938 [00:49<00:18, 14.85it/s]"
     ]
    },
    {
     "name": "stdout",
     "output_type": "stream",
     "text": [
      "mean_log_p,shapetorch.Size([]), -176.91233825683594\n",
      "mean_log_q.shapetorch.Size([]), -45.102821350097656\n",
      "mean_log_p,shapetorch.Size([]), -187.98529052734375\n",
      "mean_log_q.shapetorch.Size([]), -44.23500061035156\n",
      "mean_log_p,shapetorch.Size([]), -180.72955322265625\n",
      "mean_log_q.shapetorch.Size([]), -45.115745544433594\n"
     ]
    },
    {
     "name": "stderr",
     "output_type": "stream",
     "text": [
      " 70%|███████   | 659/938 [00:49<00:19, 14.44it/s]"
     ]
    },
    {
     "name": "stdout",
     "output_type": "stream",
     "text": [
      "mean_log_p,shapetorch.Size([]), -184.8911895751953\n",
      "mean_log_q.shapetorch.Size([]), -44.352935791015625\n",
      "mean_log_p,shapetorch.Size([]), -186.4278564453125\n",
      "mean_log_q.shapetorch.Size([]), -44.87846374511719\n"
     ]
    },
    {
     "name": "stderr",
     "output_type": "stream",
     "text": [
      " 70%|███████   | 661/938 [00:49<00:19, 14.16it/s]"
     ]
    },
    {
     "name": "stdout",
     "output_type": "stream",
     "text": [
      "mean_log_p,shapetorch.Size([]), -184.26358032226562\n",
      "mean_log_q.shapetorch.Size([]), -44.194786071777344\n"
     ]
    },
    {
     "name": "stderr",
     "output_type": "stream",
     "text": [
      " 71%|███████   | 663/938 [00:49<00:19, 13.94it/s]"
     ]
    },
    {
     "name": "stdout",
     "output_type": "stream",
     "text": [
      "mean_log_p,shapetorch.Size([]), -177.88348388671875\n",
      "mean_log_q.shapetorch.Size([]), -44.41040802001953\n",
      "mean_log_p,shapetorch.Size([]), -177.65184020996094\n",
      "mean_log_q.shapetorch.Size([]), -44.219459533691406\n",
      "mean_log_p,shapetorch.Size([]), -177.68856811523438\n",
      "mean_log_q.shapetorch.Size([]), -45.30322265625\n"
     ]
    },
    {
     "name": "stderr",
     "output_type": "stream",
     "text": [
      " 71%|███████   | 665/938 [00:49<00:19, 13.77it/s]"
     ]
    },
    {
     "name": "stdout",
     "output_type": "stream",
     "text": [
      "mean_log_p,shapetorch.Size([]), -178.29403686523438\n",
      "mean_log_q.shapetorch.Size([]), -44.550785064697266\n",
      "mean_log_p,shapetorch.Size([]), -178.4983367919922\n",
      "mean_log_q.shapetorch.Size([]), -44.672142028808594\n"
     ]
    },
    {
     "name": "stderr",
     "output_type": "stream",
     "text": [
      " 71%|███████   | 667/938 [00:49<00:19, 13.70it/s]"
     ]
    },
    {
     "name": "stdout",
     "output_type": "stream",
     "text": [
      "mean_log_p,shapetorch.Size([]), -185.6190948486328\n",
      "mean_log_q.shapetorch.Size([]), -44.92117691040039\n"
     ]
    },
    {
     "name": "stderr",
     "output_type": "stream",
     "text": [
      " 71%|███████▏  | 669/938 [00:50<00:19, 13.62it/s]"
     ]
    },
    {
     "name": "stdout",
     "output_type": "stream",
     "text": [
      "mean_log_p,shapetorch.Size([]), -171.33306884765625\n",
      "mean_log_q.shapetorch.Size([]), -44.601200103759766\n",
      "mean_log_p,shapetorch.Size([]), -172.51309204101562\n",
      "mean_log_q.shapetorch.Size([]), -45.29899597167969\n",
      "mean_log_p,shapetorch.Size([]), -178.98577880859375\n",
      "mean_log_q.shapetorch.Size([]), -44.51673889160156\n"
     ]
    },
    {
     "name": "stderr",
     "output_type": "stream",
     "text": [
      " 72%|███████▏  | 671/938 [00:50<00:19, 13.56it/s]"
     ]
    },
    {
     "name": "stdout",
     "output_type": "stream",
     "text": [
      "mean_log_p,shapetorch.Size([]), -182.76185607910156\n",
      "mean_log_q.shapetorch.Size([]), -44.74833679199219\n",
      "mean_log_p,shapetorch.Size([]), -168.83628845214844\n",
      "mean_log_q.shapetorch.Size([]), -43.9988899230957\n"
     ]
    },
    {
     "name": "stderr",
     "output_type": "stream",
     "text": [
      " 72%|███████▏  | 673/938 [00:50<00:19, 13.53it/s]"
     ]
    },
    {
     "name": "stdout",
     "output_type": "stream",
     "text": [
      "mean_log_p,shapetorch.Size([]), -176.61434936523438\n",
      "mean_log_q.shapetorch.Size([]), -43.93351364135742\n"
     ]
    },
    {
     "name": "stderr",
     "output_type": "stream",
     "text": [
      " 72%|███████▏  | 675/938 [00:50<00:19, 13.50it/s]"
     ]
    },
    {
     "name": "stdout",
     "output_type": "stream",
     "text": [
      "mean_log_p,shapetorch.Size([]), -177.71713256835938\n",
      "mean_log_q.shapetorch.Size([]), -43.02692413330078\n",
      "mean_log_p,shapetorch.Size([]), -171.93368530273438\n",
      "mean_log_q.shapetorch.Size([]), -43.508872985839844\n",
      "mean_log_p,shapetorch.Size([]), -174.42698669433594\n",
      "mean_log_q.shapetorch.Size([]), -42.86422348022461\n"
     ]
    },
    {
     "name": "stderr",
     "output_type": "stream",
     "text": [
      " 72%|███████▏  | 677/938 [00:50<00:19, 13.44it/s]"
     ]
    },
    {
     "name": "stdout",
     "output_type": "stream",
     "text": [
      "mean_log_p,shapetorch.Size([]), -178.902099609375\n",
      "mean_log_q.shapetorch.Size([]), -43.96846008300781\n",
      "mean_log_p,shapetorch.Size([]), -172.57781982421875\n",
      "mean_log_q.shapetorch.Size([]), -43.65073013305664\n"
     ]
    },
    {
     "name": "stderr",
     "output_type": "stream",
     "text": [
      " 72%|███████▏  | 679/938 [00:50<00:19, 13.38it/s]"
     ]
    },
    {
     "name": "stdout",
     "output_type": "stream",
     "text": [
      "mean_log_p,shapetorch.Size([]), -181.41253662109375\n",
      "mean_log_q.shapetorch.Size([]), -44.32215881347656\n"
     ]
    },
    {
     "name": "stderr",
     "output_type": "stream",
     "text": [
      " 73%|███████▎  | 681/938 [00:50<00:19, 13.41it/s]"
     ]
    },
    {
     "name": "stdout",
     "output_type": "stream",
     "text": [
      "mean_log_p,shapetorch.Size([]), -171.67230224609375\n",
      "mean_log_q.shapetorch.Size([]), -43.87955856323242\n",
      "mean_log_p,shapetorch.Size([]), -176.9937744140625\n",
      "mean_log_q.shapetorch.Size([]), -45.09272766113281\n",
      "mean_log_p,shapetorch.Size([]), -174.43980407714844\n",
      "mean_log_q.shapetorch.Size([]), -44.76087188720703\n"
     ]
    },
    {
     "name": "stderr",
     "output_type": "stream",
     "text": [
      " 73%|███████▎  | 683/938 [00:51<00:19, 13.41it/s]"
     ]
    },
    {
     "name": "stdout",
     "output_type": "stream",
     "text": [
      "mean_log_p,shapetorch.Size([]), -173.81427001953125\n",
      "mean_log_q.shapetorch.Size([]), -45.16138458251953\n",
      "mean_log_p,shapetorch.Size([]), -184.38449096679688\n",
      "mean_log_q.shapetorch.Size([]), -45.6236686706543\n"
     ]
    },
    {
     "name": "stderr",
     "output_type": "stream",
     "text": [
      " 73%|███████▎  | 685/938 [00:51<00:18, 13.38it/s]"
     ]
    },
    {
     "name": "stdout",
     "output_type": "stream",
     "text": [
      "mean_log_p,shapetorch.Size([]), -181.35523986816406\n",
      "mean_log_q.shapetorch.Size([]), -45.075538635253906\n"
     ]
    },
    {
     "name": "stderr",
     "output_type": "stream",
     "text": [
      " 73%|███████▎  | 687/938 [00:51<00:18, 13.38it/s]"
     ]
    },
    {
     "name": "stdout",
     "output_type": "stream",
     "text": [
      "mean_log_p,shapetorch.Size([]), -183.16737365722656\n",
      "mean_log_q.shapetorch.Size([]), -45.030433654785156\n",
      "mean_log_p,shapetorch.Size([]), -182.05209350585938\n",
      "mean_log_q.shapetorch.Size([]), -45.20825958251953\n",
      "mean_log_p,shapetorch.Size([]), -173.06878662109375\n",
      "mean_log_q.shapetorch.Size([]), -44.00215148925781\n"
     ]
    },
    {
     "name": "stderr",
     "output_type": "stream",
     "text": [
      " 73%|███████▎  | 689/938 [00:51<00:18, 13.40it/s]"
     ]
    },
    {
     "name": "stdout",
     "output_type": "stream",
     "text": [
      "mean_log_p,shapetorch.Size([]), -177.33685302734375\n",
      "mean_log_q.shapetorch.Size([]), -44.533485412597656\n",
      "mean_log_p,shapetorch.Size([]), -175.61557006835938\n",
      "mean_log_q.shapetorch.Size([]), -43.88180160522461\n"
     ]
    },
    {
     "name": "stderr",
     "output_type": "stream",
     "text": [
      " 74%|███████▎  | 691/938 [00:51<00:18, 13.42it/s]"
     ]
    },
    {
     "name": "stdout",
     "output_type": "stream",
     "text": [
      "mean_log_p,shapetorch.Size([]), -178.032470703125\n",
      "mean_log_q.shapetorch.Size([]), -43.259422302246094\n"
     ]
    },
    {
     "name": "stderr",
     "output_type": "stream",
     "text": [
      " 74%|███████▍  | 693/938 [00:51<00:18, 13.40it/s]"
     ]
    },
    {
     "name": "stdout",
     "output_type": "stream",
     "text": [
      "mean_log_p,shapetorch.Size([]), -181.73101806640625\n",
      "mean_log_q.shapetorch.Size([]), -43.45907211303711\n",
      "mean_log_p,shapetorch.Size([]), -175.8165740966797\n",
      "mean_log_q.shapetorch.Size([]), -43.84278106689453\n",
      "mean_log_p,shapetorch.Size([]), -180.40176391601562\n",
      "mean_log_q.shapetorch.Size([]), -43.752742767333984\n"
     ]
    },
    {
     "name": "stderr",
     "output_type": "stream",
     "text": [
      " 74%|███████▍  | 695/938 [00:51<00:18, 13.39it/s]"
     ]
    },
    {
     "name": "stdout",
     "output_type": "stream",
     "text": [
      "mean_log_p,shapetorch.Size([]), -179.33804321289062\n",
      "mean_log_q.shapetorch.Size([]), -44.180870056152344\n",
      "mean_log_p,shapetorch.Size([]), -174.93597412109375\n",
      "mean_log_q.shapetorch.Size([]), -43.815399169921875\n"
     ]
    },
    {
     "name": "stderr",
     "output_type": "stream",
     "text": [
      " 74%|███████▍  | 697/938 [00:52<00:17, 13.40it/s]"
     ]
    },
    {
     "name": "stdout",
     "output_type": "stream",
     "text": [
      "mean_log_p,shapetorch.Size([]), -175.7371368408203\n",
      "mean_log_q.shapetorch.Size([]), -44.09883117675781\n"
     ]
    },
    {
     "name": "stderr",
     "output_type": "stream",
     "text": [
      " 75%|███████▍  | 699/938 [00:52<00:17, 13.40it/s]"
     ]
    },
    {
     "name": "stdout",
     "output_type": "stream",
     "text": [
      "mean_log_p,shapetorch.Size([]), -182.444580078125\n",
      "mean_log_q.shapetorch.Size([]), -44.256813049316406\n",
      "mean_log_p,shapetorch.Size([]), -178.9648895263672\n",
      "mean_log_q.shapetorch.Size([]), -45.29084777832031\n",
      "mean_log_p,shapetorch.Size([]), -184.43746948242188\n",
      "mean_log_q.shapetorch.Size([]), -43.79843521118164\n"
     ]
    },
    {
     "name": "stderr",
     "output_type": "stream",
     "text": [
      " 75%|███████▍  | 703/938 [00:52<00:13, 17.37it/s]"
     ]
    },
    {
     "name": "stdout",
     "output_type": "stream",
     "text": [
      "mean_log_p,shapetorch.Size([]), -175.96331787109375\n",
      "mean_log_q.shapetorch.Size([]), -44.184852600097656\n",
      "mean_log_p,shapetorch.Size([]), -180.58033752441406\n",
      "mean_log_q.shapetorch.Size([]), -44.07038497924805\n"
     ]
    },
    {
     "name": "stderr",
     "output_type": "stream",
     "text": [
      " 75%|███████▌  | 705/938 [00:52<00:14, 16.16it/s]"
     ]
    },
    {
     "name": "stdout",
     "output_type": "stream",
     "text": [
      "mean_log_p,shapetorch.Size([]), -177.21578979492188\n",
      "mean_log_q.shapetorch.Size([]), -44.51509475708008\n"
     ]
    },
    {
     "name": "stderr",
     "output_type": "stream",
     "text": [
      " 75%|███████▌  | 707/938 [00:52<00:15, 15.34it/s]"
     ]
    },
    {
     "name": "stdout",
     "output_type": "stream",
     "text": [
      "mean_log_p,shapetorch.Size([]), -184.72021484375\n",
      "mean_log_q.shapetorch.Size([]), -43.80436325073242\n",
      "mean_log_p,shapetorch.Size([]), -184.13246154785156\n",
      "mean_log_q.shapetorch.Size([]), -43.98687744140625\n",
      "mean_log_p,shapetorch.Size([]), -183.42129516601562\n",
      "mean_log_q.shapetorch.Size([]), -44.384315490722656\n"
     ]
    },
    {
     "name": "stderr",
     "output_type": "stream",
     "text": [
      " 76%|███████▌  | 709/938 [00:52<00:15, 14.76it/s]"
     ]
    },
    {
     "name": "stdout",
     "output_type": "stream",
     "text": [
      "mean_log_p,shapetorch.Size([]), -184.7438201904297\n",
      "mean_log_q.shapetorch.Size([]), -43.59543991088867\n",
      "mean_log_p,shapetorch.Size([]), -183.65859985351562\n",
      "mean_log_q.shapetorch.Size([]), -43.71989059448242\n"
     ]
    },
    {
     "name": "stderr",
     "output_type": "stream",
     "text": [
      " 76%|███████▌  | 711/938 [00:52<00:15, 14.36it/s]"
     ]
    },
    {
     "name": "stdout",
     "output_type": "stream",
     "text": [
      "mean_log_p,shapetorch.Size([]), -181.4690399169922\n",
      "mean_log_q.shapetorch.Size([]), -43.85100555419922\n"
     ]
    },
    {
     "name": "stderr",
     "output_type": "stream",
     "text": [
      " 76%|███████▌  | 713/938 [00:53<00:15, 14.09it/s]"
     ]
    },
    {
     "name": "stdout",
     "output_type": "stream",
     "text": [
      "mean_log_p,shapetorch.Size([]), -183.19415283203125\n",
      "mean_log_q.shapetorch.Size([]), -44.32908248901367\n",
      "mean_log_p,shapetorch.Size([]), -178.900146484375\n",
      "mean_log_q.shapetorch.Size([]), -44.07959747314453\n",
      "mean_log_p,shapetorch.Size([]), -180.05050659179688\n",
      "mean_log_q.shapetorch.Size([]), -43.976097106933594\n"
     ]
    },
    {
     "name": "stderr",
     "output_type": "stream",
     "text": [
      " 76%|███████▌  | 715/938 [00:53<00:16, 13.89it/s]"
     ]
    },
    {
     "name": "stdout",
     "output_type": "stream",
     "text": [
      "mean_log_p,shapetorch.Size([]), -176.8728790283203\n",
      "mean_log_q.shapetorch.Size([]), -44.23627471923828\n",
      "mean_log_p,shapetorch.Size([]), -178.10958862304688\n",
      "mean_log_q.shapetorch.Size([]), -44.67890167236328\n"
     ]
    },
    {
     "name": "stderr",
     "output_type": "stream",
     "text": [
      " 76%|███████▋  | 717/938 [00:53<00:16, 13.76it/s]"
     ]
    },
    {
     "name": "stdout",
     "output_type": "stream",
     "text": [
      "mean_log_p,shapetorch.Size([]), -178.6967315673828\n",
      "mean_log_q.shapetorch.Size([]), -44.953392028808594\n"
     ]
    },
    {
     "name": "stderr",
     "output_type": "stream",
     "text": [
      " 77%|███████▋  | 719/938 [00:53<00:16, 13.66it/s]"
     ]
    },
    {
     "name": "stdout",
     "output_type": "stream",
     "text": [
      "mean_log_p,shapetorch.Size([]), -178.35423278808594\n",
      "mean_log_q.shapetorch.Size([]), -45.30817794799805\n",
      "mean_log_p,shapetorch.Size([]), -180.00682067871094\n",
      "mean_log_q.shapetorch.Size([]), -46.35835647583008\n",
      "mean_log_p,shapetorch.Size([]), -186.66162109375\n",
      "mean_log_q.shapetorch.Size([]), -44.50164794921875\n"
     ]
    },
    {
     "name": "stderr",
     "output_type": "stream",
     "text": [
      " 77%|███████▋  | 721/938 [00:53<00:15, 13.59it/s]"
     ]
    },
    {
     "name": "stdout",
     "output_type": "stream",
     "text": [
      "mean_log_p,shapetorch.Size([]), -183.9683837890625\n",
      "mean_log_q.shapetorch.Size([]), -45.21710205078125\n",
      "mean_log_p,shapetorch.Size([]), -182.79908752441406\n",
      "mean_log_q.shapetorch.Size([]), -45.200740814208984\n"
     ]
    },
    {
     "name": "stderr",
     "output_type": "stream",
     "text": [
      " 77%|███████▋  | 723/938 [00:53<00:15, 13.54it/s]"
     ]
    },
    {
     "name": "stdout",
     "output_type": "stream",
     "text": [
      "mean_log_p,shapetorch.Size([]), -180.09963989257812\n",
      "mean_log_q.shapetorch.Size([]), -43.29263687133789\n"
     ]
    },
    {
     "name": "stderr",
     "output_type": "stream",
     "text": [
      " 77%|███████▋  | 725/938 [00:54<00:15, 13.52it/s]"
     ]
    },
    {
     "name": "stdout",
     "output_type": "stream",
     "text": [
      "mean_log_p,shapetorch.Size([]), -177.7862091064453\n",
      "mean_log_q.shapetorch.Size([]), -43.76768112182617\n",
      "mean_log_p,shapetorch.Size([]), -174.17593383789062\n",
      "mean_log_q.shapetorch.Size([]), -44.13983154296875\n",
      "mean_log_p,shapetorch.Size([]), -177.6153564453125\n",
      "mean_log_q.shapetorch.Size([]), -42.989112854003906\n"
     ]
    },
    {
     "name": "stderr",
     "output_type": "stream",
     "text": [
      " 78%|███████▊  | 727/938 [00:54<00:15, 13.49it/s]"
     ]
    },
    {
     "name": "stdout",
     "output_type": "stream",
     "text": [
      "mean_log_p,shapetorch.Size([]), -170.41311645507812\n",
      "mean_log_q.shapetorch.Size([]), -43.92530059814453\n",
      "mean_log_p,shapetorch.Size([]), -189.7812042236328\n",
      "mean_log_q.shapetorch.Size([]), -43.616783142089844\n"
     ]
    },
    {
     "name": "stderr",
     "output_type": "stream",
     "text": [
      " 78%|███████▊  | 729/938 [00:54<00:15, 13.45it/s]"
     ]
    },
    {
     "name": "stdout",
     "output_type": "stream",
     "text": [
      "mean_log_p,shapetorch.Size([]), -173.76809692382812\n",
      "mean_log_q.shapetorch.Size([]), -43.78456115722656\n"
     ]
    },
    {
     "name": "stderr",
     "output_type": "stream",
     "text": [
      " 78%|███████▊  | 731/938 [00:54<00:15, 13.46it/s]"
     ]
    },
    {
     "name": "stdout",
     "output_type": "stream",
     "text": [
      "mean_log_p,shapetorch.Size([]), -176.80557250976562\n",
      "mean_log_q.shapetorch.Size([]), -44.25497055053711\n",
      "mean_log_p,shapetorch.Size([]), -189.20263671875\n",
      "mean_log_q.shapetorch.Size([]), -44.031959533691406\n",
      "mean_log_p,shapetorch.Size([]), -189.21990966796875\n",
      "mean_log_q.shapetorch.Size([]), -44.29212188720703\n"
     ]
    },
    {
     "name": "stderr",
     "output_type": "stream",
     "text": [
      " 78%|███████▊  | 733/938 [00:54<00:15, 13.42it/s]"
     ]
    },
    {
     "name": "stdout",
     "output_type": "stream",
     "text": [
      "mean_log_p,shapetorch.Size([]), -180.8192138671875\n",
      "mean_log_q.shapetorch.Size([]), -43.62599182128906\n",
      "mean_log_p,shapetorch.Size([]), -186.36558532714844\n",
      "mean_log_q.shapetorch.Size([]), -45.265892028808594\n"
     ]
    },
    {
     "name": "stderr",
     "output_type": "stream",
     "text": [
      " 78%|███████▊  | 735/938 [00:54<00:15, 13.43it/s]"
     ]
    },
    {
     "name": "stdout",
     "output_type": "stream",
     "text": [
      "mean_log_p,shapetorch.Size([]), -182.50143432617188\n",
      "mean_log_q.shapetorch.Size([]), -44.39252471923828\n"
     ]
    },
    {
     "name": "stderr",
     "output_type": "stream",
     "text": [
      " 79%|███████▊  | 737/938 [00:54<00:14, 13.44it/s]"
     ]
    },
    {
     "name": "stdout",
     "output_type": "stream",
     "text": [
      "mean_log_p,shapetorch.Size([]), -173.98114013671875\n",
      "mean_log_q.shapetorch.Size([]), -45.19387435913086\n",
      "mean_log_p,shapetorch.Size([]), -179.71022033691406\n",
      "mean_log_q.shapetorch.Size([]), -44.36988830566406\n",
      "mean_log_p,shapetorch.Size([]), -191.56211853027344\n",
      "mean_log_q.shapetorch.Size([]), -43.786563873291016\n"
     ]
    },
    {
     "name": "stderr",
     "output_type": "stream",
     "text": [
      " 79%|███████▉  | 739/938 [00:55<00:14, 13.45it/s]"
     ]
    },
    {
     "name": "stdout",
     "output_type": "stream",
     "text": [
      "mean_log_p,shapetorch.Size([]), -177.18673706054688\n",
      "mean_log_q.shapetorch.Size([]), -44.83875274658203\n",
      "mean_log_p,shapetorch.Size([]), -169.42462158203125\n",
      "mean_log_q.shapetorch.Size([]), -44.509918212890625\n"
     ]
    },
    {
     "name": "stderr",
     "output_type": "stream",
     "text": [
      " 79%|███████▉  | 741/938 [00:55<00:14, 13.44it/s]"
     ]
    },
    {
     "name": "stdout",
     "output_type": "stream",
     "text": [
      "mean_log_p,shapetorch.Size([]), -180.3543243408203\n",
      "mean_log_q.shapetorch.Size([]), -44.957008361816406\n"
     ]
    },
    {
     "name": "stderr",
     "output_type": "stream",
     "text": [
      " 79%|███████▉  | 743/938 [00:55<00:14, 13.43it/s]"
     ]
    },
    {
     "name": "stdout",
     "output_type": "stream",
     "text": [
      "mean_log_p,shapetorch.Size([]), -178.7251434326172\n",
      "mean_log_q.shapetorch.Size([]), -43.86257553100586\n",
      "mean_log_p,shapetorch.Size([]), -175.3380126953125\n",
      "mean_log_q.shapetorch.Size([]), -44.22221374511719\n",
      "mean_log_p,shapetorch.Size([]), -177.6754150390625\n",
      "mean_log_q.shapetorch.Size([]), -44.075958251953125\n"
     ]
    },
    {
     "name": "stderr",
     "output_type": "stream",
     "text": [
      " 79%|███████▉  | 745/938 [00:55<00:14, 13.40it/s]"
     ]
    },
    {
     "name": "stdout",
     "output_type": "stream",
     "text": [
      "mean_log_p,shapetorch.Size([]), -180.59320068359375\n",
      "mean_log_q.shapetorch.Size([]), -44.279842376708984\n",
      "mean_log_p,shapetorch.Size([]), -178.37893676757812\n",
      "mean_log_q.shapetorch.Size([]), -44.55617904663086\n"
     ]
    },
    {
     "name": "stderr",
     "output_type": "stream",
     "text": [
      " 80%|███████▉  | 747/938 [00:55<00:14, 13.37it/s]"
     ]
    },
    {
     "name": "stdout",
     "output_type": "stream",
     "text": [
      "mean_log_p,shapetorch.Size([]), -175.06781005859375\n",
      "mean_log_q.shapetorch.Size([]), -44.586490631103516\n"
     ]
    },
    {
     "name": "stderr",
     "output_type": "stream",
     "text": [
      " 80%|███████▉  | 749/938 [00:55<00:14, 13.35it/s]"
     ]
    },
    {
     "name": "stdout",
     "output_type": "stream",
     "text": [
      "mean_log_p,shapetorch.Size([]), -179.4779815673828\n",
      "mean_log_q.shapetorch.Size([]), -43.32737731933594\n",
      "mean_log_p,shapetorch.Size([]), -171.9910125732422\n",
      "mean_log_q.shapetorch.Size([]), -43.96282196044922\n",
      "mean_log_p,shapetorch.Size([]), -179.13137817382812\n",
      "mean_log_q.shapetorch.Size([]), -43.39350128173828\n"
     ]
    },
    {
     "name": "stderr",
     "output_type": "stream",
     "text": [
      " 80%|████████  | 751/938 [00:55<00:13, 13.36it/s]"
     ]
    },
    {
     "name": "stdout",
     "output_type": "stream",
     "text": [
      "mean_log_p,shapetorch.Size([]), -176.06015014648438\n",
      "mean_log_q.shapetorch.Size([]), -44.36643981933594\n",
      "mean_log_p,shapetorch.Size([]), -179.5535888671875\n",
      "mean_log_q.shapetorch.Size([]), -43.796905517578125\n"
     ]
    },
    {
     "name": "stderr",
     "output_type": "stream",
     "text": [
      " 80%|████████  | 753/938 [00:56<00:13, 13.39it/s]"
     ]
    },
    {
     "name": "stdout",
     "output_type": "stream",
     "text": [
      "mean_log_p,shapetorch.Size([]), -177.4764862060547\n",
      "mean_log_q.shapetorch.Size([]), -44.327789306640625\n"
     ]
    },
    {
     "name": "stderr",
     "output_type": "stream",
     "text": [
      " 81%|████████  | 757/938 [00:56<00:10, 17.39it/s]"
     ]
    },
    {
     "name": "stdout",
     "output_type": "stream",
     "text": [
      "mean_log_p,shapetorch.Size([]), -186.7429656982422\n",
      "mean_log_q.shapetorch.Size([]), -44.2269401550293\n",
      "mean_log_p,shapetorch.Size([]), -180.31707763671875\n",
      "mean_log_q.shapetorch.Size([]), -43.218353271484375\n",
      "mean_log_p,shapetorch.Size([]), -176.22296142578125\n",
      "mean_log_q.shapetorch.Size([]), -43.367897033691406\n"
     ]
    },
    {
     "name": "stderr",
     "output_type": "stream",
     "text": [
      " 81%|████████  | 759/938 [00:56<00:11, 16.17it/s]"
     ]
    },
    {
     "name": "stdout",
     "output_type": "stream",
     "text": [
      "mean_log_p,shapetorch.Size([]), -174.03134155273438\n",
      "mean_log_q.shapetorch.Size([]), -42.62249755859375\n",
      "mean_log_p,shapetorch.Size([]), -179.64688110351562\n",
      "mean_log_q.shapetorch.Size([]), -42.71385955810547\n"
     ]
    },
    {
     "name": "stderr",
     "output_type": "stream",
     "text": [
      " 81%|████████  | 761/938 [00:56<00:11, 15.35it/s]"
     ]
    },
    {
     "name": "stdout",
     "output_type": "stream",
     "text": [
      "mean_log_p,shapetorch.Size([]), -179.2549285888672\n",
      "mean_log_q.shapetorch.Size([]), -42.83071517944336\n"
     ]
    },
    {
     "name": "stderr",
     "output_type": "stream",
     "text": [
      " 81%|████████▏ | 763/938 [00:56<00:11, 14.75it/s]"
     ]
    },
    {
     "name": "stdout",
     "output_type": "stream",
     "text": [
      "mean_log_p,shapetorch.Size([]), -182.68505859375\n",
      "mean_log_q.shapetorch.Size([]), -43.92656707763672\n",
      "mean_log_p,shapetorch.Size([]), -167.3466796875\n",
      "mean_log_q.shapetorch.Size([]), -43.59869384765625\n",
      "mean_log_p,shapetorch.Size([]), -182.12164306640625\n",
      "mean_log_q.shapetorch.Size([]), -43.5220947265625\n"
     ]
    },
    {
     "name": "stderr",
     "output_type": "stream",
     "text": [
      " 82%|████████▏ | 765/938 [00:56<00:12, 14.35it/s]"
     ]
    },
    {
     "name": "stdout",
     "output_type": "stream",
     "text": [
      "mean_log_p,shapetorch.Size([]), -165.60855102539062\n",
      "mean_log_q.shapetorch.Size([]), -44.067955017089844\n",
      "mean_log_p,shapetorch.Size([]), -178.58740234375\n",
      "mean_log_q.shapetorch.Size([]), -44.75623321533203\n"
     ]
    },
    {
     "name": "stderr",
     "output_type": "stream",
     "text": [
      " 82%|████████▏ | 767/938 [00:57<00:12, 14.06it/s]"
     ]
    },
    {
     "name": "stdout",
     "output_type": "stream",
     "text": [
      "mean_log_p,shapetorch.Size([]), -176.13995361328125\n",
      "mean_log_q.shapetorch.Size([]), -45.2158317565918\n"
     ]
    },
    {
     "name": "stderr",
     "output_type": "stream",
     "text": [
      " 82%|████████▏ | 769/938 [00:57<00:12, 13.86it/s]"
     ]
    },
    {
     "name": "stdout",
     "output_type": "stream",
     "text": [
      "mean_log_p,shapetorch.Size([]), -188.30404663085938\n",
      "mean_log_q.shapetorch.Size([]), -44.92852783203125\n",
      "mean_log_p,shapetorch.Size([]), -172.67822265625\n",
      "mean_log_q.shapetorch.Size([]), -44.76384735107422\n",
      "mean_log_p,shapetorch.Size([]), -177.4228973388672\n",
      "mean_log_q.shapetorch.Size([]), -45.35303497314453\n"
     ]
    },
    {
     "name": "stderr",
     "output_type": "stream",
     "text": [
      " 82%|████████▏ | 771/938 [00:57<00:12, 13.78it/s]"
     ]
    },
    {
     "name": "stdout",
     "output_type": "stream",
     "text": [
      "mean_log_p,shapetorch.Size([]), -175.06182861328125\n",
      "mean_log_q.shapetorch.Size([]), -44.80712127685547\n",
      "mean_log_p,shapetorch.Size([]), -171.31883239746094\n",
      "mean_log_q.shapetorch.Size([]), -45.31318664550781\n"
     ]
    },
    {
     "name": "stderr",
     "output_type": "stream",
     "text": [
      " 82%|████████▏ | 773/938 [00:57<00:12, 13.69it/s]"
     ]
    },
    {
     "name": "stdout",
     "output_type": "stream",
     "text": [
      "mean_log_p,shapetorch.Size([]), -177.6585693359375\n",
      "mean_log_q.shapetorch.Size([]), -43.70357894897461\n"
     ]
    },
    {
     "name": "stderr",
     "output_type": "stream",
     "text": [
      " 83%|████████▎ | 775/938 [00:57<00:11, 13.60it/s]"
     ]
    },
    {
     "name": "stdout",
     "output_type": "stream",
     "text": [
      "mean_log_p,shapetorch.Size([]), -171.6378936767578\n",
      "mean_log_q.shapetorch.Size([]), -44.86838150024414\n",
      "mean_log_p,shapetorch.Size([]), -184.1647491455078\n",
      "mean_log_q.shapetorch.Size([]), -43.7742919921875\n",
      "mean_log_p,shapetorch.Size([]), -176.58644104003906\n",
      "mean_log_q.shapetorch.Size([]), -43.336830139160156\n"
     ]
    },
    {
     "name": "stderr",
     "output_type": "stream",
     "text": [
      " 83%|████████▎ | 777/938 [00:57<00:11, 13.48it/s]"
     ]
    },
    {
     "name": "stdout",
     "output_type": "stream",
     "text": [
      "mean_log_p,shapetorch.Size([]), -181.88870239257812\n",
      "mean_log_q.shapetorch.Size([]), -43.603816986083984\n",
      "mean_log_p,shapetorch.Size([]), -168.92071533203125\n",
      "mean_log_q.shapetorch.Size([]), -43.833797454833984\n"
     ]
    },
    {
     "name": "stderr",
     "output_type": "stream",
     "text": [
      " 83%|████████▎ | 779/938 [00:57<00:11, 13.42it/s]"
     ]
    },
    {
     "name": "stdout",
     "output_type": "stream",
     "text": [
      "mean_log_p,shapetorch.Size([]), -175.86521911621094\n",
      "mean_log_q.shapetorch.Size([]), -43.1334114074707\n"
     ]
    },
    {
     "name": "stderr",
     "output_type": "stream",
     "text": [
      " 83%|████████▎ | 781/938 [00:58<00:11, 13.43it/s]"
     ]
    },
    {
     "name": "stdout",
     "output_type": "stream",
     "text": [
      "mean_log_p,shapetorch.Size([]), -179.76368713378906\n",
      "mean_log_q.shapetorch.Size([]), -43.289405822753906\n",
      "mean_log_p,shapetorch.Size([]), -181.12208557128906\n",
      "mean_log_q.shapetorch.Size([]), -43.670799255371094\n",
      "mean_log_p,shapetorch.Size([]), -173.459228515625\n",
      "mean_log_q.shapetorch.Size([]), -44.36159133911133\n"
     ]
    },
    {
     "name": "stderr",
     "output_type": "stream",
     "text": [
      " 83%|████████▎ | 783/938 [00:58<00:11, 13.40it/s]"
     ]
    },
    {
     "name": "stdout",
     "output_type": "stream",
     "text": [
      "mean_log_p,shapetorch.Size([]), -177.12481689453125\n",
      "mean_log_q.shapetorch.Size([]), -43.52980041503906\n",
      "mean_log_p,shapetorch.Size([]), -177.75640869140625\n",
      "mean_log_q.shapetorch.Size([]), -44.09903335571289\n"
     ]
    },
    {
     "name": "stderr",
     "output_type": "stream",
     "text": [
      " 84%|████████▎ | 785/938 [00:58<00:11, 13.42it/s]"
     ]
    },
    {
     "name": "stdout",
     "output_type": "stream",
     "text": [
      "mean_log_p,shapetorch.Size([]), -172.43406677246094\n",
      "mean_log_q.shapetorch.Size([]), -43.861507415771484\n"
     ]
    },
    {
     "name": "stderr",
     "output_type": "stream",
     "text": [
      " 84%|████████▍ | 787/938 [00:58<00:11, 13.41it/s]"
     ]
    },
    {
     "name": "stdout",
     "output_type": "stream",
     "text": [
      "mean_log_p,shapetorch.Size([]), -182.45401000976562\n",
      "mean_log_q.shapetorch.Size([]), -43.950645446777344\n",
      "mean_log_p,shapetorch.Size([]), -184.80465698242188\n",
      "mean_log_q.shapetorch.Size([]), -44.631996154785156\n",
      "mean_log_p,shapetorch.Size([]), -177.48898315429688\n",
      "mean_log_q.shapetorch.Size([]), -43.92799377441406\n"
     ]
    },
    {
     "name": "stderr",
     "output_type": "stream",
     "text": [
      " 84%|████████▍ | 789/938 [00:58<00:11, 13.40it/s]"
     ]
    },
    {
     "name": "stdout",
     "output_type": "stream",
     "text": [
      "mean_log_p,shapetorch.Size([]), -180.3235321044922\n",
      "mean_log_q.shapetorch.Size([]), -43.49614334106445\n",
      "mean_log_p,shapetorch.Size([]), -180.40280151367188\n",
      "mean_log_q.shapetorch.Size([]), -43.90381622314453\n"
     ]
    },
    {
     "name": "stderr",
     "output_type": "stream",
     "text": [
      " 84%|████████▍ | 791/938 [00:58<00:11, 13.36it/s]"
     ]
    },
    {
     "name": "stdout",
     "output_type": "stream",
     "text": [
      "mean_log_p,shapetorch.Size([]), -179.19749450683594\n",
      "mean_log_q.shapetorch.Size([]), -43.47990417480469\n"
     ]
    },
    {
     "name": "stderr",
     "output_type": "stream",
     "text": [
      " 85%|████████▍ | 793/938 [00:58<00:10, 13.37it/s]"
     ]
    },
    {
     "name": "stdout",
     "output_type": "stream",
     "text": [
      "mean_log_p,shapetorch.Size([]), -174.50926208496094\n",
      "mean_log_q.shapetorch.Size([]), -42.866947174072266\n",
      "mean_log_p,shapetorch.Size([]), -172.80599975585938\n",
      "mean_log_q.shapetorch.Size([]), -43.17845153808594\n",
      "mean_log_p,shapetorch.Size([]), -176.685546875\n",
      "mean_log_q.shapetorch.Size([]), -43.70799255371094\n"
     ]
    },
    {
     "name": "stderr",
     "output_type": "stream",
     "text": [
      " 85%|████████▍ | 795/938 [00:59<00:10, 13.39it/s]"
     ]
    },
    {
     "name": "stdout",
     "output_type": "stream",
     "text": [
      "mean_log_p,shapetorch.Size([]), -173.2495574951172\n",
      "mean_log_q.shapetorch.Size([]), -44.21663284301758\n",
      "mean_log_p,shapetorch.Size([]), -175.04421997070312\n",
      "mean_log_q.shapetorch.Size([]), -43.600982666015625\n"
     ]
    },
    {
     "name": "stderr",
     "output_type": "stream",
     "text": [
      " 85%|████████▍ | 797/938 [00:59<00:10, 13.36it/s]"
     ]
    },
    {
     "name": "stdout",
     "output_type": "stream",
     "text": [
      "mean_log_p,shapetorch.Size([]), -181.46298217773438\n",
      "mean_log_q.shapetorch.Size([]), -44.46174621582031\n"
     ]
    },
    {
     "name": "stderr",
     "output_type": "stream",
     "text": [
      " 85%|████████▌ | 799/938 [00:59<00:10, 13.38it/s]"
     ]
    },
    {
     "name": "stdout",
     "output_type": "stream",
     "text": [
      "mean_log_p,shapetorch.Size([]), -175.03765869140625\n",
      "mean_log_q.shapetorch.Size([]), -44.513309478759766\n",
      "mean_log_p,shapetorch.Size([]), -184.32461547851562\n",
      "mean_log_q.shapetorch.Size([]), -44.25830841064453\n",
      "mean_log_p,shapetorch.Size([]), -178.01129150390625\n",
      "mean_log_q.shapetorch.Size([]), -44.37714385986328\n"
     ]
    },
    {
     "name": "stderr",
     "output_type": "stream",
     "text": [
      " 85%|████████▌ | 801/938 [00:59<00:10, 13.36it/s]"
     ]
    },
    {
     "name": "stdout",
     "output_type": "stream",
     "text": [
      "mean_log_p,shapetorch.Size([]), -176.75320434570312\n",
      "mean_log_q.shapetorch.Size([]), -44.40486145019531\n",
      "mean_log_p,shapetorch.Size([]), -167.05206298828125\n",
      "mean_log_q.shapetorch.Size([]), -44.267765045166016\n"
     ]
    },
    {
     "name": "stderr",
     "output_type": "stream",
     "text": [
      " 86%|████████▌ | 803/938 [00:59<00:10, 13.37it/s]"
     ]
    },
    {
     "name": "stdout",
     "output_type": "stream",
     "text": [
      "mean_log_p,shapetorch.Size([]), -175.43429565429688\n",
      "mean_log_q.shapetorch.Size([]), -43.494876861572266\n"
     ]
    },
    {
     "name": "stderr",
     "output_type": "stream",
     "text": [
      " 86%|████████▌ | 805/938 [00:59<00:09, 13.40it/s]"
     ]
    },
    {
     "name": "stdout",
     "output_type": "stream",
     "text": [
      "mean_log_p,shapetorch.Size([]), -181.51846313476562\n",
      "mean_log_q.shapetorch.Size([]), -44.113311767578125\n",
      "mean_log_p,shapetorch.Size([]), -177.75401306152344\n",
      "mean_log_q.shapetorch.Size([]), -43.320438385009766\n",
      "mean_log_p,shapetorch.Size([]), -174.05224609375\n",
      "mean_log_q.shapetorch.Size([]), -43.71901321411133\n"
     ]
    },
    {
     "name": "stderr",
     "output_type": "stream",
     "text": [
      " 86%|████████▌ | 807/938 [01:00<00:09, 13.34it/s]"
     ]
    },
    {
     "name": "stdout",
     "output_type": "stream",
     "text": [
      "mean_log_p,shapetorch.Size([]), -179.4710693359375\n",
      "mean_log_q.shapetorch.Size([]), -43.02489471435547\n",
      "mean_log_p,shapetorch.Size([]), -179.80348205566406\n",
      "mean_log_q.shapetorch.Size([]), -43.904693603515625\n"
     ]
    },
    {
     "name": "stderr",
     "output_type": "stream",
     "text": [
      " 86%|████████▌ | 809/938 [01:00<00:09, 13.37it/s]"
     ]
    },
    {
     "name": "stdout",
     "output_type": "stream",
     "text": [
      "mean_log_p,shapetorch.Size([]), -174.65830993652344\n",
      "mean_log_q.shapetorch.Size([]), -43.606781005859375\n"
     ]
    },
    {
     "name": "stderr",
     "output_type": "stream",
     "text": [
      " 87%|████████▋ | 813/938 [01:00<00:07, 17.44it/s]"
     ]
    },
    {
     "name": "stdout",
     "output_type": "stream",
     "text": [
      "mean_log_p,shapetorch.Size([]), -169.6762237548828\n",
      "mean_log_q.shapetorch.Size([]), -44.03620910644531\n",
      "mean_log_p,shapetorch.Size([]), -168.10812377929688\n",
      "mean_log_q.shapetorch.Size([]), -43.46587371826172\n",
      "mean_log_p,shapetorch.Size([]), -172.57472229003906\n",
      "mean_log_q.shapetorch.Size([]), -43.35176086425781\n"
     ]
    },
    {
     "name": "stderr",
     "output_type": "stream",
     "text": [
      " 87%|████████▋ | 815/938 [01:00<00:07, 16.18it/s]"
     ]
    },
    {
     "name": "stdout",
     "output_type": "stream",
     "text": [
      "mean_log_p,shapetorch.Size([]), -180.02313232421875\n",
      "mean_log_q.shapetorch.Size([]), -44.52690124511719\n",
      "mean_log_p,shapetorch.Size([]), -172.37051391601562\n",
      "mean_log_q.shapetorch.Size([]), -44.367984771728516\n"
     ]
    },
    {
     "name": "stderr",
     "output_type": "stream",
     "text": [
      " 87%|████████▋ | 817/938 [01:00<00:07, 15.41it/s]"
     ]
    },
    {
     "name": "stdout",
     "output_type": "stream",
     "text": [
      "mean_log_p,shapetorch.Size([]), -176.52598571777344\n",
      "mean_log_q.shapetorch.Size([]), -44.097862243652344\n"
     ]
    },
    {
     "name": "stderr",
     "output_type": "stream",
     "text": [
      " 87%|████████▋ | 819/938 [01:00<00:08, 14.72it/s]"
     ]
    },
    {
     "name": "stdout",
     "output_type": "stream",
     "text": [
      "mean_log_p,shapetorch.Size([]), -176.72091674804688\n",
      "mean_log_q.shapetorch.Size([]), -44.384307861328125\n",
      "mean_log_p,shapetorch.Size([]), -172.62356567382812\n",
      "mean_log_q.shapetorch.Size([]), -44.246761322021484\n",
      "mean_log_p,shapetorch.Size([]), -174.75926208496094\n",
      "mean_log_q.shapetorch.Size([]), -44.04690170288086\n"
     ]
    },
    {
     "name": "stderr",
     "output_type": "stream",
     "text": [
      " 88%|████████▊ | 821/938 [01:00<00:08, 14.30it/s]"
     ]
    },
    {
     "name": "stdout",
     "output_type": "stream",
     "text": [
      "mean_log_p,shapetorch.Size([]), -186.67344665527344\n",
      "mean_log_q.shapetorch.Size([]), -42.97574996948242\n",
      "mean_log_p,shapetorch.Size([]), -187.2093505859375\n",
      "mean_log_q.shapetorch.Size([]), -43.567161560058594\n"
     ]
    },
    {
     "name": "stderr",
     "output_type": "stream",
     "text": [
      " 88%|████████▊ | 823/938 [01:01<00:08, 14.05it/s]"
     ]
    },
    {
     "name": "stdout",
     "output_type": "stream",
     "text": [
      "mean_log_p,shapetorch.Size([]), -178.5836944580078\n",
      "mean_log_q.shapetorch.Size([]), -42.99034881591797\n"
     ]
    },
    {
     "name": "stderr",
     "output_type": "stream",
     "text": [
      " 88%|████████▊ | 825/938 [01:01<00:08, 13.86it/s]"
     ]
    },
    {
     "name": "stdout",
     "output_type": "stream",
     "text": [
      "mean_log_p,shapetorch.Size([]), -174.57615661621094\n",
      "mean_log_q.shapetorch.Size([]), -43.11685562133789\n",
      "mean_log_p,shapetorch.Size([]), -168.16500854492188\n",
      "mean_log_q.shapetorch.Size([]), -42.92201232910156\n",
      "mean_log_p,shapetorch.Size([]), -173.38238525390625\n",
      "mean_log_q.shapetorch.Size([]), -43.38355255126953\n"
     ]
    },
    {
     "name": "stderr",
     "output_type": "stream",
     "text": [
      " 88%|████████▊ | 827/938 [01:01<00:08, 13.70it/s]"
     ]
    },
    {
     "name": "stdout",
     "output_type": "stream",
     "text": [
      "mean_log_p,shapetorch.Size([]), -181.636474609375\n",
      "mean_log_q.shapetorch.Size([]), -43.18902587890625\n",
      "mean_log_p,shapetorch.Size([]), -176.56463623046875\n",
      "mean_log_q.shapetorch.Size([]), -43.27832794189453\n"
     ]
    },
    {
     "name": "stderr",
     "output_type": "stream",
     "text": [
      " 88%|████████▊ | 829/938 [01:01<00:08, 13.61it/s]"
     ]
    },
    {
     "name": "stdout",
     "output_type": "stream",
     "text": [
      "mean_log_p,shapetorch.Size([]), -171.8934783935547\n",
      "mean_log_q.shapetorch.Size([]), -43.97978973388672\n"
     ]
    },
    {
     "name": "stderr",
     "output_type": "stream",
     "text": [
      " 89%|████████▊ | 831/938 [01:01<00:07, 13.56it/s]"
     ]
    },
    {
     "name": "stdout",
     "output_type": "stream",
     "text": [
      "mean_log_p,shapetorch.Size([]), -172.42713928222656\n",
      "mean_log_q.shapetorch.Size([]), -44.7734260559082\n",
      "mean_log_p,shapetorch.Size([]), -178.57322692871094\n",
      "mean_log_q.shapetorch.Size([]), -45.677001953125\n",
      "mean_log_p,shapetorch.Size([]), -180.46685791015625\n",
      "mean_log_q.shapetorch.Size([]), -45.01863098144531\n"
     ]
    },
    {
     "name": "stderr",
     "output_type": "stream",
     "text": [
      " 89%|████████▉ | 833/938 [01:01<00:07, 13.51it/s]"
     ]
    },
    {
     "name": "stdout",
     "output_type": "stream",
     "text": [
      "mean_log_p,shapetorch.Size([]), -174.97579956054688\n",
      "mean_log_q.shapetorch.Size([]), -44.894142150878906\n",
      "mean_log_p,shapetorch.Size([]), -171.7070770263672\n",
      "mean_log_q.shapetorch.Size([]), -45.071739196777344\n"
     ]
    },
    {
     "name": "stderr",
     "output_type": "stream",
     "text": [
      " 89%|████████▉ | 835/938 [01:01<00:07, 13.46it/s]"
     ]
    },
    {
     "name": "stdout",
     "output_type": "stream",
     "text": [
      "mean_log_p,shapetorch.Size([]), -176.6842498779297\n",
      "mean_log_q.shapetorch.Size([]), -44.20207977294922\n"
     ]
    },
    {
     "name": "stderr",
     "output_type": "stream",
     "text": [
      " 89%|████████▉ | 837/938 [01:02<00:07, 13.45it/s]"
     ]
    },
    {
     "name": "stdout",
     "output_type": "stream",
     "text": [
      "mean_log_p,shapetorch.Size([]), -176.7940216064453\n",
      "mean_log_q.shapetorch.Size([]), -44.310325622558594\n",
      "mean_log_p,shapetorch.Size([]), -174.7827911376953\n",
      "mean_log_q.shapetorch.Size([]), -44.263572692871094\n",
      "mean_log_p,shapetorch.Size([]), -182.97982788085938\n",
      "mean_log_q.shapetorch.Size([]), -44.05381393432617\n"
     ]
    },
    {
     "name": "stderr",
     "output_type": "stream",
     "text": [
      " 89%|████████▉ | 839/938 [01:02<00:07, 13.43it/s]"
     ]
    },
    {
     "name": "stdout",
     "output_type": "stream",
     "text": [
      "mean_log_p,shapetorch.Size([]), -182.16331481933594\n",
      "mean_log_q.shapetorch.Size([]), -43.99006652832031\n",
      "mean_log_p,shapetorch.Size([]), -175.2141571044922\n",
      "mean_log_q.shapetorch.Size([]), -42.95893096923828\n"
     ]
    },
    {
     "name": "stderr",
     "output_type": "stream",
     "text": [
      " 90%|████████▉ | 841/938 [01:02<00:07, 13.42it/s]"
     ]
    },
    {
     "name": "stdout",
     "output_type": "stream",
     "text": [
      "mean_log_p,shapetorch.Size([]), -173.47042846679688\n",
      "mean_log_q.shapetorch.Size([]), -42.7900390625\n"
     ]
    },
    {
     "name": "stderr",
     "output_type": "stream",
     "text": [
      " 90%|████████▉ | 843/938 [01:02<00:07, 13.43it/s]"
     ]
    },
    {
     "name": "stdout",
     "output_type": "stream",
     "text": [
      "mean_log_p,shapetorch.Size([]), -182.0889129638672\n",
      "mean_log_q.shapetorch.Size([]), -42.247886657714844\n",
      "mean_log_p,shapetorch.Size([]), -180.4056396484375\n",
      "mean_log_q.shapetorch.Size([]), -43.725135803222656\n",
      "mean_log_p,shapetorch.Size([]), -180.835693359375\n",
      "mean_log_q.shapetorch.Size([]), -42.617469787597656\n"
     ]
    },
    {
     "name": "stderr",
     "output_type": "stream",
     "text": [
      " 90%|█████████ | 845/938 [01:02<00:06, 13.40it/s]"
     ]
    },
    {
     "name": "stdout",
     "output_type": "stream",
     "text": [
      "mean_log_p,shapetorch.Size([]), -177.21377563476562\n",
      "mean_log_q.shapetorch.Size([]), -43.17292022705078\n",
      "mean_log_p,shapetorch.Size([]), -169.78854370117188\n",
      "mean_log_q.shapetorch.Size([]), -42.866024017333984\n"
     ]
    },
    {
     "name": "stderr",
     "output_type": "stream",
     "text": [
      " 90%|█████████ | 847/938 [01:02<00:06, 13.42it/s]"
     ]
    },
    {
     "name": "stdout",
     "output_type": "stream",
     "text": [
      "mean_log_p,shapetorch.Size([]), -184.60589599609375\n",
      "mean_log_q.shapetorch.Size([]), -44.2227783203125\n"
     ]
    },
    {
     "name": "stderr",
     "output_type": "stream",
     "text": [
      " 91%|█████████ | 849/938 [01:02<00:06, 13.42it/s]"
     ]
    },
    {
     "name": "stdout",
     "output_type": "stream",
     "text": [
      "mean_log_p,shapetorch.Size([]), -170.04515075683594\n",
      "mean_log_q.shapetorch.Size([]), -43.51069641113281\n",
      "mean_log_p,shapetorch.Size([]), -180.7985382080078\n",
      "mean_log_q.shapetorch.Size([]), -44.16603088378906\n",
      "mean_log_p,shapetorch.Size([]), -167.95706176757812\n",
      "mean_log_q.shapetorch.Size([]), -44.32954025268555\n"
     ]
    },
    {
     "name": "stderr",
     "output_type": "stream",
     "text": [
      " 91%|█████████ | 851/938 [01:03<00:06, 13.40it/s]"
     ]
    },
    {
     "name": "stdout",
     "output_type": "stream",
     "text": [
      "mean_log_p,shapetorch.Size([]), -180.3124542236328\n",
      "mean_log_q.shapetorch.Size([]), -43.894832611083984\n",
      "mean_log_p,shapetorch.Size([]), -181.67837524414062\n",
      "mean_log_q.shapetorch.Size([]), -44.31803894042969\n"
     ]
    },
    {
     "name": "stderr",
     "output_type": "stream",
     "text": [
      " 91%|█████████ | 853/938 [01:03<00:06, 13.42it/s]"
     ]
    },
    {
     "name": "stdout",
     "output_type": "stream",
     "text": [
      "mean_log_p,shapetorch.Size([]), -182.2742462158203\n",
      "mean_log_q.shapetorch.Size([]), -43.898887634277344\n"
     ]
    },
    {
     "name": "stderr",
     "output_type": "stream",
     "text": [
      " 91%|█████████ | 855/938 [01:03<00:06, 13.40it/s]"
     ]
    },
    {
     "name": "stdout",
     "output_type": "stream",
     "text": [
      "mean_log_p,shapetorch.Size([]), -176.24801635742188\n",
      "mean_log_q.shapetorch.Size([]), -44.196510314941406\n",
      "mean_log_p,shapetorch.Size([]), -177.59336853027344\n",
      "mean_log_q.shapetorch.Size([]), -43.601905822753906\n",
      "mean_log_p,shapetorch.Size([]), -173.78579711914062\n",
      "mean_log_q.shapetorch.Size([]), -43.24100875854492\n"
     ]
    },
    {
     "name": "stderr",
     "output_type": "stream",
     "text": [
      " 91%|█████████▏| 857/938 [01:03<00:06, 13.41it/s]"
     ]
    },
    {
     "name": "stdout",
     "output_type": "stream",
     "text": [
      "mean_log_p,shapetorch.Size([]), -181.66880798339844\n",
      "mean_log_q.shapetorch.Size([]), -42.95134735107422\n",
      "mean_log_p,shapetorch.Size([]), -173.13800048828125\n",
      "mean_log_q.shapetorch.Size([]), -44.01435470581055\n"
     ]
    },
    {
     "name": "stderr",
     "output_type": "stream",
     "text": [
      " 92%|█████████▏| 859/938 [01:03<00:05, 13.39it/s]"
     ]
    },
    {
     "name": "stdout",
     "output_type": "stream",
     "text": [
      "mean_log_p,shapetorch.Size([]), -182.42254638671875\n",
      "mean_log_q.shapetorch.Size([]), -44.3709831237793\n"
     ]
    },
    {
     "name": "stderr",
     "output_type": "stream",
     "text": [
      " 92%|█████████▏| 861/938 [01:03<00:05, 13.40it/s]"
     ]
    },
    {
     "name": "stdout",
     "output_type": "stream",
     "text": [
      "mean_log_p,shapetorch.Size([]), -179.7258758544922\n",
      "mean_log_q.shapetorch.Size([]), -43.66094207763672\n",
      "mean_log_p,shapetorch.Size([]), -179.58395385742188\n",
      "mean_log_q.shapetorch.Size([]), -43.803836822509766\n",
      "mean_log_p,shapetorch.Size([]), -179.95639038085938\n",
      "mean_log_q.shapetorch.Size([]), -43.678016662597656\n"
     ]
    },
    {
     "name": "stderr",
     "output_type": "stream",
     "text": [
      " 92%|█████████▏| 863/938 [01:04<00:05, 13.35it/s]"
     ]
    },
    {
     "name": "stdout",
     "output_type": "stream",
     "text": [
      "mean_log_p,shapetorch.Size([]), -179.47494506835938\n",
      "mean_log_q.shapetorch.Size([]), -44.72904968261719\n",
      "mean_log_p,shapetorch.Size([]), -179.4483642578125\n",
      "mean_log_q.shapetorch.Size([]), -44.132080078125\n"
     ]
    },
    {
     "name": "stderr",
     "output_type": "stream",
     "text": [
      " 92%|█████████▏| 865/938 [01:04<00:05, 13.38it/s]"
     ]
    },
    {
     "name": "stdout",
     "output_type": "stream",
     "text": [
      "mean_log_p,shapetorch.Size([]), -179.37210083007812\n",
      "mean_log_q.shapetorch.Size([]), -43.38774108886719\n"
     ]
    },
    {
     "name": "stderr",
     "output_type": "stream",
     "text": [
      " 92%|█████████▏| 867/938 [01:04<00:05, 13.44it/s]"
     ]
    },
    {
     "name": "stdout",
     "output_type": "stream",
     "text": [
      "mean_log_p,shapetorch.Size([]), -186.54600524902344\n",
      "mean_log_q.shapetorch.Size([]), -43.815879821777344\n",
      "mean_log_p,shapetorch.Size([]), -176.5423126220703\n",
      "mean_log_q.shapetorch.Size([]), -43.502662658691406\n",
      "mean_log_p,shapetorch.Size([]), -176.1424560546875\n",
      "mean_log_q.shapetorch.Size([]), -42.5897102355957\n"
     ]
    },
    {
     "name": "stderr",
     "output_type": "stream",
     "text": [
      " 93%|█████████▎| 871/938 [01:04<00:03, 17.43it/s]"
     ]
    },
    {
     "name": "stdout",
     "output_type": "stream",
     "text": [
      "mean_log_p,shapetorch.Size([]), -174.53115844726562\n",
      "mean_log_q.shapetorch.Size([]), -42.98912811279297\n",
      "mean_log_p,shapetorch.Size([]), -181.762939453125\n",
      "mean_log_q.shapetorch.Size([]), -42.850120544433594\n"
     ]
    },
    {
     "name": "stderr",
     "output_type": "stream",
     "text": [
      " 93%|█████████▎| 873/938 [01:04<00:03, 16.25it/s]"
     ]
    },
    {
     "name": "stdout",
     "output_type": "stream",
     "text": [
      "mean_log_p,shapetorch.Size([]), -175.39614868164062\n",
      "mean_log_q.shapetorch.Size([]), -43.27568054199219\n"
     ]
    },
    {
     "name": "stderr",
     "output_type": "stream",
     "text": [
      " 93%|█████████▎| 875/938 [01:04<00:04, 15.40it/s]"
     ]
    },
    {
     "name": "stdout",
     "output_type": "stream",
     "text": [
      "mean_log_p,shapetorch.Size([]), -182.2239990234375\n",
      "mean_log_q.shapetorch.Size([]), -42.58038330078125\n",
      "mean_log_p,shapetorch.Size([]), -179.43325805664062\n",
      "mean_log_q.shapetorch.Size([]), -43.48808670043945\n",
      "mean_log_p,shapetorch.Size([]), -179.79922485351562\n",
      "mean_log_q.shapetorch.Size([]), -43.196388244628906\n"
     ]
    },
    {
     "name": "stderr",
     "output_type": "stream",
     "text": [
      " 93%|█████████▎| 877/938 [01:04<00:04, 14.80it/s]"
     ]
    },
    {
     "name": "stdout",
     "output_type": "stream",
     "text": [
      "mean_log_p,shapetorch.Size([]), -181.07839965820312\n",
      "mean_log_q.shapetorch.Size([]), -42.3499755859375\n",
      "mean_log_p,shapetorch.Size([]), -179.24240112304688\n",
      "mean_log_q.shapetorch.Size([]), -43.87327575683594\n"
     ]
    },
    {
     "name": "stderr",
     "output_type": "stream",
     "text": [
      " 94%|█████████▎| 879/938 [01:05<00:04, 14.39it/s]"
     ]
    },
    {
     "name": "stdout",
     "output_type": "stream",
     "text": [
      "mean_log_p,shapetorch.Size([]), -188.66851806640625\n",
      "mean_log_q.shapetorch.Size([]), -42.954742431640625\n"
     ]
    },
    {
     "name": "stderr",
     "output_type": "stream",
     "text": [
      " 94%|█████████▍| 881/938 [01:05<00:04, 14.11it/s]"
     ]
    },
    {
     "name": "stdout",
     "output_type": "stream",
     "text": [
      "mean_log_p,shapetorch.Size([]), -175.3369903564453\n",
      "mean_log_q.shapetorch.Size([]), -43.7642936706543\n",
      "mean_log_p,shapetorch.Size([]), -184.51113891601562\n",
      "mean_log_q.shapetorch.Size([]), -43.36953353881836\n",
      "mean_log_p,shapetorch.Size([]), -177.281005859375\n",
      "mean_log_q.shapetorch.Size([]), -44.18072509765625\n"
     ]
    },
    {
     "name": "stderr",
     "output_type": "stream",
     "text": [
      " 94%|█████████▍| 883/938 [01:05<00:03, 13.92it/s]"
     ]
    },
    {
     "name": "stdout",
     "output_type": "stream",
     "text": [
      "mean_log_p,shapetorch.Size([]), -173.35031127929688\n",
      "mean_log_q.shapetorch.Size([]), -43.44319534301758\n",
      "mean_log_p,shapetorch.Size([]), -176.43951416015625\n",
      "mean_log_q.shapetorch.Size([]), -43.7364501953125\n"
     ]
    },
    {
     "name": "stderr",
     "output_type": "stream",
     "text": [
      " 94%|█████████▍| 885/938 [01:05<00:03, 13.74it/s]"
     ]
    },
    {
     "name": "stdout",
     "output_type": "stream",
     "text": [
      "mean_log_p,shapetorch.Size([]), -168.9704132080078\n",
      "mean_log_q.shapetorch.Size([]), -43.46723937988281\n"
     ]
    },
    {
     "name": "stderr",
     "output_type": "stream",
     "text": [
      " 95%|█████████▍| 887/938 [01:05<00:03, 13.62it/s]"
     ]
    },
    {
     "name": "stdout",
     "output_type": "stream",
     "text": [
      "mean_log_p,shapetorch.Size([]), -170.87554931640625\n",
      "mean_log_q.shapetorch.Size([]), -43.752159118652344\n",
      "mean_log_p,shapetorch.Size([]), -169.50755310058594\n",
      "mean_log_q.shapetorch.Size([]), -44.355125427246094\n",
      "mean_log_p,shapetorch.Size([]), -184.35894775390625\n",
      "mean_log_q.shapetorch.Size([]), -43.7404899597168\n"
     ]
    },
    {
     "name": "stderr",
     "output_type": "stream",
     "text": [
      " 95%|█████████▍| 889/938 [01:05<00:03, 13.40it/s]"
     ]
    },
    {
     "name": "stdout",
     "output_type": "stream",
     "text": [
      "mean_log_p,shapetorch.Size([]), -178.3904266357422\n",
      "mean_log_q.shapetorch.Size([]), -42.798667907714844\n",
      "mean_log_p,shapetorch.Size([]), -173.97994995117188\n",
      "mean_log_q.shapetorch.Size([]), -43.688880920410156\n"
     ]
    },
    {
     "name": "stderr",
     "output_type": "stream",
     "text": [
      " 95%|█████████▍| 891/938 [01:05<00:03, 13.41it/s]"
     ]
    },
    {
     "name": "stdout",
     "output_type": "stream",
     "text": [
      "mean_log_p,shapetorch.Size([]), -172.13333129882812\n",
      "mean_log_q.shapetorch.Size([]), -44.52228927612305\n"
     ]
    },
    {
     "name": "stderr",
     "output_type": "stream",
     "text": [
      " 95%|█████████▌| 893/938 [01:06<00:03, 13.40it/s]"
     ]
    },
    {
     "name": "stdout",
     "output_type": "stream",
     "text": [
      "mean_log_p,shapetorch.Size([]), -172.5128173828125\n",
      "mean_log_q.shapetorch.Size([]), -43.89174270629883\n",
      "mean_log_p,shapetorch.Size([]), -171.14105224609375\n",
      "mean_log_q.shapetorch.Size([]), -44.546043395996094\n",
      "mean_log_p,shapetorch.Size([]), -174.17132568359375\n",
      "mean_log_q.shapetorch.Size([]), -43.33470916748047\n"
     ]
    },
    {
     "name": "stderr",
     "output_type": "stream",
     "text": [
      " 95%|█████████▌| 895/938 [01:06<00:03, 13.39it/s]"
     ]
    },
    {
     "name": "stdout",
     "output_type": "stream",
     "text": [
      "mean_log_p,shapetorch.Size([]), -175.2846221923828\n",
      "mean_log_q.shapetorch.Size([]), -43.13603973388672\n",
      "mean_log_p,shapetorch.Size([]), -181.26876831054688\n",
      "mean_log_q.shapetorch.Size([]), -41.4183349609375\n"
     ]
    },
    {
     "name": "stderr",
     "output_type": "stream",
     "text": [
      " 96%|█████████▌| 897/938 [01:06<00:03, 13.38it/s]"
     ]
    },
    {
     "name": "stdout",
     "output_type": "stream",
     "text": [
      "mean_log_p,shapetorch.Size([]), -172.1483917236328\n",
      "mean_log_q.shapetorch.Size([]), -42.99260711669922\n"
     ]
    },
    {
     "name": "stderr",
     "output_type": "stream",
     "text": [
      " 96%|█████████▌| 899/938 [01:06<00:02, 13.39it/s]"
     ]
    },
    {
     "name": "stdout",
     "output_type": "stream",
     "text": [
      "mean_log_p,shapetorch.Size([]), -175.231201171875\n",
      "mean_log_q.shapetorch.Size([]), -42.78664016723633\n",
      "mean_log_p,shapetorch.Size([]), -171.11856079101562\n",
      "mean_log_q.shapetorch.Size([]), -42.851348876953125\n",
      "mean_log_p,shapetorch.Size([]), -176.7470703125\n",
      "mean_log_q.shapetorch.Size([]), -42.892189025878906\n"
     ]
    },
    {
     "name": "stderr",
     "output_type": "stream",
     "text": [
      " 96%|█████████▌| 901/938 [01:06<00:02, 13.37it/s]"
     ]
    },
    {
     "name": "stdout",
     "output_type": "stream",
     "text": [
      "mean_log_p,shapetorch.Size([]), -173.70263671875\n",
      "mean_log_q.shapetorch.Size([]), -43.1441535949707\n",
      "mean_log_p,shapetorch.Size([]), -178.16586303710938\n",
      "mean_log_q.shapetorch.Size([]), -43.16212463378906\n"
     ]
    },
    {
     "name": "stderr",
     "output_type": "stream",
     "text": [
      " 96%|█████████▋| 903/938 [01:06<00:02, 13.38it/s]"
     ]
    },
    {
     "name": "stdout",
     "output_type": "stream",
     "text": [
      "mean_log_p,shapetorch.Size([]), -168.3266143798828\n",
      "mean_log_q.shapetorch.Size([]), -43.04004669189453\n"
     ]
    },
    {
     "name": "stderr",
     "output_type": "stream",
     "text": [
      " 96%|█████████▋| 905/938 [01:07<00:02, 13.38it/s]"
     ]
    },
    {
     "name": "stdout",
     "output_type": "stream",
     "text": [
      "mean_log_p,shapetorch.Size([]), -178.65853881835938\n",
      "mean_log_q.shapetorch.Size([]), -43.42221450805664\n",
      "mean_log_p,shapetorch.Size([]), -182.2505340576172\n",
      "mean_log_q.shapetorch.Size([]), -43.40216827392578\n",
      "mean_log_p,shapetorch.Size([]), -183.60775756835938\n",
      "mean_log_q.shapetorch.Size([]), -43.62757873535156\n"
     ]
    },
    {
     "name": "stderr",
     "output_type": "stream",
     "text": [
      " 97%|█████████▋| 907/938 [01:07<00:02, 13.37it/s]"
     ]
    },
    {
     "name": "stdout",
     "output_type": "stream",
     "text": [
      "mean_log_p,shapetorch.Size([]), -182.322021484375\n",
      "mean_log_q.shapetorch.Size([]), -43.316139221191406\n",
      "mean_log_p,shapetorch.Size([]), -168.20108032226562\n",
      "mean_log_q.shapetorch.Size([]), -44.20384979248047\n"
     ]
    },
    {
     "name": "stderr",
     "output_type": "stream",
     "text": [
      " 97%|█████████▋| 909/938 [01:07<00:02, 13.41it/s]"
     ]
    },
    {
     "name": "stdout",
     "output_type": "stream",
     "text": [
      "mean_log_p,shapetorch.Size([]), -174.0427703857422\n",
      "mean_log_q.shapetorch.Size([]), -43.27743911743164\n",
      "mean_log_p,shapetorch.Size([]), -175.2310333251953\n",
      "mean_log_q.shapetorch.Size([]), -42.65636444091797\n",
      "mean_log_p,shapetorch.Size([]), -178.71572875976562\n",
      "mean_log_q.shapetorch.Size([]), -43.367454528808594\n"
     ]
    },
    {
     "name": "stderr",
     "output_type": "stream",
     "text": [
      " 97%|█████████▋| 911/938 [01:07<00:02, 13.31it/s]"
     ]
    },
    {
     "name": "stdout",
     "output_type": "stream",
     "text": [
      "mean_log_p,shapetorch.Size([]), -170.12063598632812\n",
      "mean_log_q.shapetorch.Size([]), -43.34699249267578\n"
     ]
    },
    {
     "name": "stderr",
     "output_type": "stream",
     "text": [
      " 97%|█████████▋| 913/938 [01:07<00:01, 13.25it/s]"
     ]
    },
    {
     "name": "stdout",
     "output_type": "stream",
     "text": [
      "mean_log_p,shapetorch.Size([]), -176.62850952148438\n",
      "mean_log_q.shapetorch.Size([]), -42.856834411621094\n",
      "mean_log_p,shapetorch.Size([]), -175.76394653320312\n",
      "mean_log_q.shapetorch.Size([]), -43.21711730957031\n"
     ]
    },
    {
     "name": "stderr",
     "output_type": "stream",
     "text": [
      " 98%|█████████▊| 915/938 [01:07<00:01, 13.28it/s]"
     ]
    },
    {
     "name": "stdout",
     "output_type": "stream",
     "text": [
      "mean_log_p,shapetorch.Size([]), -171.13436889648438\n",
      "mean_log_q.shapetorch.Size([]), -43.94584655761719\n"
     ]
    },
    {
     "name": "stderr",
     "output_type": "stream",
     "text": [
      " 98%|█████████▊| 917/938 [01:07<00:01, 13.24it/s]"
     ]
    },
    {
     "name": "stdout",
     "output_type": "stream",
     "text": [
      "mean_log_p,shapetorch.Size([]), -173.26666259765625\n",
      "mean_log_q.shapetorch.Size([]), -44.55097579956055\n",
      "mean_log_p,shapetorch.Size([]), -175.9861297607422\n",
      "mean_log_q.shapetorch.Size([]), -43.798301696777344\n",
      "mean_log_p,shapetorch.Size([]), -167.70315551757812\n",
      "mean_log_q.shapetorch.Size([]), -44.06169509887695\n"
     ]
    },
    {
     "name": "stderr",
     "output_type": "stream",
     "text": [
      " 98%|█████████▊| 919/938 [01:08<00:01, 13.20it/s]"
     ]
    },
    {
     "name": "stdout",
     "output_type": "stream",
     "text": [
      "mean_log_p,shapetorch.Size([]), -171.2633056640625\n",
      "mean_log_q.shapetorch.Size([]), -43.22508239746094\n",
      "mean_log_p,shapetorch.Size([]), -170.95553588867188\n",
      "mean_log_q.shapetorch.Size([]), -43.4622802734375\n",
      "mean_log_p,shapetorch.Size([]), -185.30616760253906\n",
      "mean_log_q.shapetorch.Size([]), -43.574462890625\n"
     ]
    },
    {
     "name": "stderr",
     "output_type": "stream",
     "text": [
      " 98%|█████████▊| 921/938 [01:08<00:01, 13.11it/s]"
     ]
    },
    {
     "name": "stdout",
     "output_type": "stream",
     "text": [
      "mean_log_p,shapetorch.Size([]), -176.27529907226562\n",
      "mean_log_q.shapetorch.Size([]), -42.92667007446289\n",
      "mean_log_p,shapetorch.Size([]), -170.80300903320312\n",
      "mean_log_q.shapetorch.Size([]), -43.266357421875\n"
     ]
    },
    {
     "name": "stderr",
     "output_type": "stream",
     "text": [
      " 98%|█████████▊| 923/938 [01:08<00:01, 13.10it/s]"
     ]
    },
    {
     "name": "stdout",
     "output_type": "stream",
     "text": [
      "mean_log_p,shapetorch.Size([]), -173.4588623046875\n",
      "mean_log_q.shapetorch.Size([]), -42.53611755371094\n"
     ]
    },
    {
     "name": "stderr",
     "output_type": "stream",
     "text": [
      " 99%|█████████▊| 925/938 [01:08<00:00, 13.17it/s]"
     ]
    },
    {
     "name": "stdout",
     "output_type": "stream",
     "text": [
      "mean_log_p,shapetorch.Size([]), -181.4327392578125\n",
      "mean_log_q.shapetorch.Size([]), -42.47254180908203\n",
      "mean_log_p,shapetorch.Size([]), -169.22488403320312\n",
      "mean_log_q.shapetorch.Size([]), -43.158966064453125\n"
     ]
    },
    {
     "name": "stderr",
     "output_type": "stream",
     "text": [
      " 99%|█████████▉| 927/938 [01:08<00:00, 13.21it/s]"
     ]
    },
    {
     "name": "stdout",
     "output_type": "stream",
     "text": [
      "mean_log_p,shapetorch.Size([]), -170.1405029296875\n",
      "mean_log_q.shapetorch.Size([]), -43.218292236328125\n"
     ]
    },
    {
     "name": "stderr",
     "output_type": "stream",
     "text": [
      " 99%|█████████▉| 931/938 [01:08<00:00, 17.17it/s]"
     ]
    },
    {
     "name": "stdout",
     "output_type": "stream",
     "text": [
      "mean_log_p,shapetorch.Size([]), -173.078369140625\n",
      "mean_log_q.shapetorch.Size([]), -43.54905700683594\n",
      "mean_log_p,shapetorch.Size([]), -167.41812133789062\n",
      "mean_log_q.shapetorch.Size([]), -42.56451416015625\n",
      "mean_log_p,shapetorch.Size([]), -178.68576049804688\n",
      "mean_log_q.shapetorch.Size([]), -42.57604217529297\n"
     ]
    },
    {
     "name": "stderr",
     "output_type": "stream",
     "text": [
      " 99%|█████████▉| 933/938 [01:09<00:00, 16.03it/s]"
     ]
    },
    {
     "name": "stdout",
     "output_type": "stream",
     "text": [
      "mean_log_p,shapetorch.Size([]), -167.28907775878906\n",
      "mean_log_q.shapetorch.Size([]), -43.7861213684082\n",
      "mean_log_p,shapetorch.Size([]), -174.38711547851562\n",
      "mean_log_q.shapetorch.Size([]), -42.754058837890625\n"
     ]
    },
    {
     "name": "stderr",
     "output_type": "stream",
     "text": [
      "100%|█████████▉| 935/938 [01:09<00:00, 15.22it/s]"
     ]
    },
    {
     "name": "stdout",
     "output_type": "stream",
     "text": [
      "mean_log_p,shapetorch.Size([]), -174.67935180664062\n",
      "mean_log_q.shapetorch.Size([]), -43.37561798095703\n"
     ]
    },
    {
     "name": "stderr",
     "output_type": "stream",
     "text": [
      "100%|█████████▉| 937/938 [01:09<00:00, 14.65it/s]"
     ]
    },
    {
     "name": "stdout",
     "output_type": "stream",
     "text": [
      "mean_log_p,shapetorch.Size([]), -174.21597290039062\n",
      "mean_log_q.shapetorch.Size([]), -43.52904510498047\n",
      "mean_log_p,shapetorch.Size([]), -177.95806884765625\n",
      "mean_log_q.shapetorch.Size([]), -44.06073760986328\n",
      "mean_log_p,shapetorch.Size([]), -170.39334106445312\n",
      "mean_log_q.shapetorch.Size([]), -44.58486557006836\n"
     ]
    },
    {
     "name": "stderr",
     "output_type": "stream",
     "text": [
      "939it [01:09, 14.23it/s]                         "
     ]
    },
    {
     "name": "stdout",
     "output_type": "stream",
     "text": [
      "mean_log_p,shapetorch.Size([]), -175.8479461669922\n",
      "mean_log_q.shapetorch.Size([]), -43.31989288330078\n",
      "mean_log_p,shapetorch.Size([]), -190.05368041992188\n",
      "mean_log_q.shapetorch.Size([]), -43.208152770996094\n"
     ]
    },
    {
     "name": "stderr",
     "output_type": "stream",
     "text": [
      "941it [01:09, 13.96it/s]"
     ]
    },
    {
     "name": "stdout",
     "output_type": "stream",
     "text": [
      "mean_log_p,shapetorch.Size([]), -176.1102752685547\n",
      "mean_log_q.shapetorch.Size([]), -43.100067138671875\n"
     ]
    },
    {
     "name": "stderr",
     "output_type": "stream",
     "text": [
      "943it [01:09, 13.79it/s]"
     ]
    },
    {
     "name": "stdout",
     "output_type": "stream",
     "text": [
      "mean_log_p,shapetorch.Size([]), -173.8268585205078\n",
      "mean_log_q.shapetorch.Size([]), -43.82328414916992\n",
      "mean_log_p,shapetorch.Size([]), -172.5112762451172\n",
      "mean_log_q.shapetorch.Size([]), -43.00367736816406\n",
      "mean_log_p,shapetorch.Size([]), -166.085693359375\n",
      "mean_log_q.shapetorch.Size([]), -43.013671875\n"
     ]
    },
    {
     "name": "stderr",
     "output_type": "stream",
     "text": [
      "945it [01:09, 13.66it/s]"
     ]
    },
    {
     "name": "stdout",
     "output_type": "stream",
     "text": [
      "mean_log_p,shapetorch.Size([]), -168.59283447265625\n",
      "mean_log_q.shapetorch.Size([]), -43.797306060791016\n",
      "mean_log_p,shapetorch.Size([]), -179.71420288085938\n",
      "mean_log_q.shapetorch.Size([]), -42.93838119506836\n"
     ]
    },
    {
     "name": "stderr",
     "output_type": "stream",
     "text": [
      "947it [01:10, 13.59it/s]"
     ]
    },
    {
     "name": "stdout",
     "output_type": "stream",
     "text": [
      "mean_log_p,shapetorch.Size([]), -174.26315307617188\n",
      "mean_log_q.shapetorch.Size([]), -43.774166107177734\n"
     ]
    },
    {
     "name": "stderr",
     "output_type": "stream",
     "text": [
      "949it [01:10, 13.51it/s]"
     ]
    },
    {
     "name": "stdout",
     "output_type": "stream",
     "text": [
      "mean_log_p,shapetorch.Size([]), -183.6336669921875\n",
      "mean_log_q.shapetorch.Size([]), -43.31928634643555\n",
      "mean_log_p,shapetorch.Size([]), -173.54405212402344\n",
      "mean_log_q.shapetorch.Size([]), -43.337196350097656\n",
      "mean_log_p,shapetorch.Size([]), -183.8690185546875\n",
      "mean_log_q.shapetorch.Size([]), -42.97297668457031\n"
     ]
    },
    {
     "name": "stderr",
     "output_type": "stream",
     "text": [
      "951it [01:10, 13.48it/s]"
     ]
    },
    {
     "name": "stdout",
     "output_type": "stream",
     "text": [
      "mean_log_p,shapetorch.Size([]), -172.7847442626953\n",
      "mean_log_q.shapetorch.Size([]), -44.22029113769531\n",
      "mean_log_p,shapetorch.Size([]), -172.7421875\n",
      "mean_log_q.shapetorch.Size([]), -43.058319091796875\n"
     ]
    },
    {
     "name": "stderr",
     "output_type": "stream",
     "text": [
      "953it [01:10, 13.43it/s]"
     ]
    },
    {
     "name": "stdout",
     "output_type": "stream",
     "text": [
      "mean_log_p,shapetorch.Size([]), -175.64755249023438\n",
      "mean_log_q.shapetorch.Size([]), -43.0158805847168\n"
     ]
    },
    {
     "name": "stderr",
     "output_type": "stream",
     "text": [
      "955it [01:10, 13.38it/s]"
     ]
    },
    {
     "name": "stdout",
     "output_type": "stream",
     "text": [
      "mean_log_p,shapetorch.Size([]), -174.33624267578125\n",
      "mean_log_q.shapetorch.Size([]), -43.088890075683594\n",
      "mean_log_p,shapetorch.Size([]), -168.68411254882812\n",
      "mean_log_q.shapetorch.Size([]), -43.54856491088867\n",
      "mean_log_p,shapetorch.Size([]), -178.89019775390625\n",
      "mean_log_q.shapetorch.Size([]), -43.066932678222656\n"
     ]
    },
    {
     "name": "stderr",
     "output_type": "stream",
     "text": [
      "957it [01:10, 13.28it/s]"
     ]
    },
    {
     "name": "stdout",
     "output_type": "stream",
     "text": [
      "mean_log_p,shapetorch.Size([]), -171.7198486328125\n",
      "mean_log_q.shapetorch.Size([]), -43.644500732421875\n",
      "mean_log_p,shapetorch.Size([]), -175.66897583007812\n",
      "mean_log_q.shapetorch.Size([]), -42.863792419433594\n",
      "mean_log_p,shapetorch.Size([]), -170.08673095703125\n",
      "mean_log_q.shapetorch.Size([]), -43.92345428466797\n"
     ]
    },
    {
     "name": "stderr",
     "output_type": "stream",
     "text": [
      "961it [01:11, 13.32it/s]"
     ]
    },
    {
     "name": "stdout",
     "output_type": "stream",
     "text": [
      "mean_log_p,shapetorch.Size([]), -175.72134399414062\n",
      "mean_log_q.shapetorch.Size([]), -43.23978042602539\n",
      "mean_log_p,shapetorch.Size([]), -174.36415100097656\n",
      "mean_log_q.shapetorch.Size([]), -43.47715759277344\n",
      "mean_log_p,shapetorch.Size([]), -175.53517150878906\n",
      "mean_log_q.shapetorch.Size([]), -44.07244110107422\n"
     ]
    },
    {
     "name": "stderr",
     "output_type": "stream",
     "text": [
      "963it [01:11, 13.33it/s]"
     ]
    },
    {
     "name": "stdout",
     "output_type": "stream",
     "text": [
      "mean_log_p,shapetorch.Size([]), -169.8876953125\n",
      "mean_log_q.shapetorch.Size([]), -43.99652099609375\n",
      "mean_log_p,shapetorch.Size([]), -180.0633087158203\n",
      "mean_log_q.shapetorch.Size([]), -43.79156494140625\n"
     ]
    },
    {
     "name": "stderr",
     "output_type": "stream",
     "text": [
      "965it [01:11, 13.35it/s]"
     ]
    },
    {
     "name": "stdout",
     "output_type": "stream",
     "text": [
      "mean_log_p,shapetorch.Size([]), -187.24940490722656\n",
      "mean_log_q.shapetorch.Size([]), -42.16786193847656\n"
     ]
    },
    {
     "name": "stderr",
     "output_type": "stream",
     "text": [
      "967it [01:11, 13.35it/s]"
     ]
    },
    {
     "name": "stdout",
     "output_type": "stream",
     "text": [
      "mean_log_p,shapetorch.Size([]), -178.39822387695312\n",
      "mean_log_q.shapetorch.Size([]), -43.24778366088867\n",
      "mean_log_p,shapetorch.Size([]), -175.46636962890625\n",
      "mean_log_q.shapetorch.Size([]), -42.60906982421875\n",
      "mean_log_p,shapetorch.Size([]), -179.25970458984375\n",
      "mean_log_q.shapetorch.Size([]), -43.16373062133789\n"
     ]
    },
    {
     "name": "stderr",
     "output_type": "stream",
     "text": [
      "969it [01:11, 13.35it/s]"
     ]
    },
    {
     "name": "stdout",
     "output_type": "stream",
     "text": [
      "mean_log_p,shapetorch.Size([]), -164.39102172851562\n",
      "mean_log_q.shapetorch.Size([]), -41.916297912597656\n",
      "mean_log_p,shapetorch.Size([]), -172.30667114257812\n",
      "mean_log_q.shapetorch.Size([]), -43.12440490722656\n"
     ]
    },
    {
     "name": "stderr",
     "output_type": "stream",
     "text": [
      "971it [01:11, 13.35it/s]"
     ]
    },
    {
     "name": "stdout",
     "output_type": "stream",
     "text": [
      "mean_log_p,shapetorch.Size([]), -177.52346801757812\n",
      "mean_log_q.shapetorch.Size([]), -42.519256591796875\n"
     ]
    },
    {
     "name": "stderr",
     "output_type": "stream",
     "text": [
      "973it [01:12, 13.31it/s]"
     ]
    },
    {
     "name": "stdout",
     "output_type": "stream",
     "text": [
      "mean_log_p,shapetorch.Size([]), -177.02523803710938\n",
      "mean_log_q.shapetorch.Size([]), -43.02585220336914\n",
      "mean_log_p,shapetorch.Size([]), -176.83213806152344\n",
      "mean_log_q.shapetorch.Size([]), -43.1555061340332\n",
      "mean_log_p,shapetorch.Size([]), -181.1516571044922\n",
      "mean_log_q.shapetorch.Size([]), -42.89414978027344\n"
     ]
    },
    {
     "name": "stderr",
     "output_type": "stream",
     "text": [
      "975it [01:12, 13.24it/s]"
     ]
    },
    {
     "name": "stdout",
     "output_type": "stream",
     "text": [
      "mean_log_p,shapetorch.Size([]), -170.86346435546875\n",
      "mean_log_q.shapetorch.Size([]), -43.19396209716797\n",
      "mean_log_p,shapetorch.Size([]), -167.8222198486328\n",
      "mean_log_q.shapetorch.Size([]), -44.08716583251953\n"
     ]
    },
    {
     "name": "stderr",
     "output_type": "stream",
     "text": [
      "977it [01:12, 13.25it/s]"
     ]
    },
    {
     "name": "stdout",
     "output_type": "stream",
     "text": [
      "mean_log_p,shapetorch.Size([]), -166.52809143066406\n",
      "mean_log_q.shapetorch.Size([]), -43.90668869018555\n"
     ]
    },
    {
     "name": "stderr",
     "output_type": "stream",
     "text": [
      "979it [01:12, 13.24it/s]"
     ]
    },
    {
     "name": "stdout",
     "output_type": "stream",
     "text": [
      "mean_log_p,shapetorch.Size([]), -172.38238525390625\n",
      "mean_log_q.shapetorch.Size([]), -43.939788818359375\n",
      "mean_log_p,shapetorch.Size([]), -186.52647399902344\n",
      "mean_log_q.shapetorch.Size([]), -44.146575927734375\n",
      "mean_log_p,shapetorch.Size([]), -176.20272827148438\n",
      "mean_log_q.shapetorch.Size([]), -43.39674377441406\n"
     ]
    },
    {
     "name": "stderr",
     "output_type": "stream",
     "text": [
      "981it [01:12, 13.23it/s]"
     ]
    },
    {
     "name": "stdout",
     "output_type": "stream",
     "text": [
      "mean_log_p,shapetorch.Size([]), -166.36358642578125\n",
      "mean_log_q.shapetorch.Size([]), -42.80194091796875\n",
      "mean_log_p,shapetorch.Size([]), -168.16831970214844\n",
      "mean_log_q.shapetorch.Size([]), -43.36469268798828\n"
     ]
    },
    {
     "name": "stderr",
     "output_type": "stream",
     "text": [
      "983it [01:12, 13.21it/s]"
     ]
    },
    {
     "name": "stdout",
     "output_type": "stream",
     "text": [
      "mean_log_p,shapetorch.Size([]), -169.37350463867188\n",
      "mean_log_q.shapetorch.Size([]), -42.81544494628906\n"
     ]
    },
    {
     "name": "stderr",
     "output_type": "stream",
     "text": [
      "985it [01:12, 13.22it/s]"
     ]
    },
    {
     "name": "stdout",
     "output_type": "stream",
     "text": [
      "mean_log_p,shapetorch.Size([]), -174.00344848632812\n",
      "mean_log_q.shapetorch.Size([]), -43.336177825927734\n",
      "mean_log_p,shapetorch.Size([]), -174.05148315429688\n",
      "mean_log_q.shapetorch.Size([]), -42.71687316894531\n",
      "mean_log_p,shapetorch.Size([]), -172.1307373046875\n",
      "mean_log_q.shapetorch.Size([]), -43.09235382080078\n"
     ]
    },
    {
     "name": "stderr",
     "output_type": "stream",
     "text": [
      "987it [01:13, 13.23it/s]"
     ]
    },
    {
     "name": "stdout",
     "output_type": "stream",
     "text": [
      "mean_log_p,shapetorch.Size([]), -169.59878540039062\n",
      "mean_log_q.shapetorch.Size([]), -43.60118103027344\n",
      "mean_log_p,shapetorch.Size([]), -182.36273193359375\n",
      "mean_log_q.shapetorch.Size([]), -43.210296630859375\n"
     ]
    },
    {
     "name": "stderr",
     "output_type": "stream",
     "text": [
      "989it [01:13, 13.25it/s]"
     ]
    },
    {
     "name": "stdout",
     "output_type": "stream",
     "text": [
      "mean_log_p,shapetorch.Size([]), -169.07920837402344\n",
      "mean_log_q.shapetorch.Size([]), -42.667869567871094\n"
     ]
    },
    {
     "name": "stderr",
     "output_type": "stream",
     "text": [
      "993it [01:13, 17.23it/s]"
     ]
    },
    {
     "name": "stdout",
     "output_type": "stream",
     "text": [
      "mean_log_p,shapetorch.Size([]), -177.481201171875\n",
      "mean_log_q.shapetorch.Size([]), -43.62666320800781\n",
      "mean_log_p,shapetorch.Size([]), -168.08888244628906\n",
      "mean_log_q.shapetorch.Size([]), -42.99097442626953\n",
      "mean_log_p,shapetorch.Size([]), -164.24879455566406\n",
      "mean_log_q.shapetorch.Size([]), -44.33354568481445\n"
     ]
    },
    {
     "name": "stderr",
     "output_type": "stream",
     "text": [
      "995it [01:13, 16.01it/s]"
     ]
    },
    {
     "name": "stdout",
     "output_type": "stream",
     "text": [
      "mean_log_p,shapetorch.Size([]), -171.8099822998047\n",
      "mean_log_q.shapetorch.Size([]), -42.82288360595703\n",
      "mean_log_p,shapetorch.Size([]), -174.8846435546875\n",
      "mean_log_q.shapetorch.Size([]), -43.806758880615234\n"
     ]
    },
    {
     "name": "stderr",
     "output_type": "stream",
     "text": [
      "997it [01:13, 15.19it/s]"
     ]
    },
    {
     "name": "stdout",
     "output_type": "stream",
     "text": [
      "mean_log_p,shapetorch.Size([]), -172.51927185058594\n",
      "mean_log_q.shapetorch.Size([]), -43.298004150390625\n"
     ]
    },
    {
     "name": "stderr",
     "output_type": "stream",
     "text": [
      "999it [01:13, 14.58it/s]"
     ]
    },
    {
     "name": "stdout",
     "output_type": "stream",
     "text": [
      "mean_log_p,shapetorch.Size([]), -170.18463134765625\n",
      "mean_log_q.shapetorch.Size([]), -43.45658874511719\n",
      "mean_log_p,shapetorch.Size([]), -177.20355224609375\n",
      "mean_log_q.shapetorch.Size([]), -43.321533203125\n",
      "mean_log_p,shapetorch.Size([]), -163.25843811035156\n",
      "mean_log_q.shapetorch.Size([]), -42.373291015625\n"
     ]
    },
    {
     "name": "stderr",
     "output_type": "stream",
     "text": [
      "100%|██████████| 938/938 [01:13<00:00, 12.68it/s]\n"
     ]
    },
    {
     "name": "stdout",
     "output_type": "stream",
     "text": [
      "mean_log_p,shapetorch.Size([]), -182.2499237060547\n",
      "mean_log_q.shapetorch.Size([]), -43.082984924316406\n",
      "Train Epoch: 1 [29984/60000 (100%)]\tLoss: 139.322388\n"
     ]
    },
    {
     "name": "stderr",
     "output_type": "stream",
     "text": [
      "  0%|          | 0/938 [00:00<?, ?it/s]"
     ]
    },
    {
     "name": "stdout",
     "output_type": "stream",
     "text": [
      "mean_log_p,shapetorch.Size([]), -168.78750610351562\n",
      "mean_log_q.shapetorch.Size([]), -42.462432861328125\n",
      "mean_log_p,shapetorch.Size([]), -175.18408203125\n",
      "mean_log_q.shapetorch.Size([]), -42.32695007324219\n"
     ]
    },
    {
     "name": "stderr",
     "output_type": "stream",
     "text": [
      "  0%|          | 2/938 [00:00<01:16, 12.22it/s]"
     ]
    },
    {
     "name": "stdout",
     "output_type": "stream",
     "text": [
      "mean_log_p,shapetorch.Size([]), -178.3880615234375\n",
      "mean_log_q.shapetorch.Size([]), -42.25044250488281\n",
      "mean_log_p,shapetorch.Size([]), -173.53672790527344\n",
      "mean_log_q.shapetorch.Size([]), -42.11363220214844\n"
     ]
    },
    {
     "name": "stderr",
     "output_type": "stream",
     "text": [
      "  1%|          | 6/938 [00:00<00:46, 20.26it/s]"
     ]
    },
    {
     "name": "stdout",
     "output_type": "stream",
     "text": [
      "mean_log_p,shapetorch.Size([]), -177.64495849609375\n",
      "mean_log_q.shapetorch.Size([]), -42.34885025024414\n"
     ]
    },
    {
     "name": "stderr",
     "output_type": "stream",
     "text": [
      "  1%|          | 11/938 [00:00<00:35, 25.99it/s]"
     ]
    },
    {
     "name": "stdout",
     "output_type": "stream",
     "text": [
      "mean_log_p,shapetorch.Size([]), -172.27427673339844\n",
      "mean_log_q.shapetorch.Size([]), -42.365257263183594\n",
      "mean_log_p,shapetorch.Size([]), -170.5943145751953\n",
      "mean_log_q.shapetorch.Size([]), -43.33473205566406\n",
      "mean_log_p,shapetorch.Size([]), -172.65721130371094\n",
      "mean_log_q.shapetorch.Size([]), -43.00788879394531\n"
     ]
    },
    {
     "name": "stderr",
     "output_type": "stream",
     "text": [
      "  1%|▏         | 14/938 [00:00<00:46, 19.75it/s]"
     ]
    },
    {
     "name": "stdout",
     "output_type": "stream",
     "text": [
      "mean_log_p,shapetorch.Size([]), -172.97938537597656\n",
      "mean_log_q.shapetorch.Size([]), -43.238563537597656\n",
      "mean_log_p,shapetorch.Size([]), -175.42425537109375\n",
      "mean_log_q.shapetorch.Size([]), -43.74652862548828\n",
      "mean_log_p,shapetorch.Size([]), -173.34056091308594\n",
      "mean_log_q.shapetorch.Size([]), -43.63147735595703\n"
     ]
    },
    {
     "name": "stderr",
     "output_type": "stream",
     "text": [
      "  2%|▏         | 19/938 [00:00<00:38, 23.92it/s]"
     ]
    },
    {
     "name": "stdout",
     "output_type": "stream",
     "text": [
      "mean_log_p,shapetorch.Size([]), -175.80612182617188\n",
      "mean_log_q.shapetorch.Size([]), -44.11360168457031\n",
      "mean_log_p,shapetorch.Size([]), -174.84014892578125\n",
      "mean_log_q.shapetorch.Size([]), -43.190303802490234\n"
     ]
    },
    {
     "name": "stderr",
     "output_type": "stream",
     "text": [
      "  2%|▏         | 22/938 [00:01<00:46, 19.58it/s]"
     ]
    },
    {
     "name": "stdout",
     "output_type": "stream",
     "text": [
      "mean_log_p,shapetorch.Size([]), -167.2726593017578\n",
      "mean_log_q.shapetorch.Size([]), -43.87770080566406\n",
      "mean_log_p,shapetorch.Size([]), -176.99595642089844\n",
      "mean_log_q.shapetorch.Size([]), -43.340545654296875\n",
      "mean_log_p,shapetorch.Size([]), -165.38124084472656\n",
      "mean_log_q.shapetorch.Size([]), -42.651554107666016\n"
     ]
    },
    {
     "name": "stderr",
     "output_type": "stream",
     "text": [
      "  3%|▎         | 25/938 [00:01<00:52, 17.25it/s]"
     ]
    },
    {
     "name": "stdout",
     "output_type": "stream",
     "text": [
      "mean_log_p,shapetorch.Size([]), -168.35015869140625\n",
      "mean_log_q.shapetorch.Size([]), -43.061683654785156\n",
      "mean_log_p,shapetorch.Size([]), -168.00750732421875\n",
      "mean_log_q.shapetorch.Size([]), -42.32633590698242\n"
     ]
    },
    {
     "name": "stderr",
     "output_type": "stream",
     "text": [
      "  3%|▎         | 30/938 [00:01<00:42, 21.33it/s]"
     ]
    },
    {
     "name": "stdout",
     "output_type": "stream",
     "text": [
      "mean_log_p,shapetorch.Size([]), -171.60528564453125\n",
      "mean_log_q.shapetorch.Size([]), -41.643550872802734\n",
      "mean_log_p,shapetorch.Size([]), -174.2474822998047\n",
      "mean_log_q.shapetorch.Size([]), -42.289337158203125\n",
      "mean_log_p,shapetorch.Size([]), -174.446533203125\n",
      "mean_log_q.shapetorch.Size([]), -42.31853485107422\n"
     ]
    },
    {
     "name": "stderr",
     "output_type": "stream",
     "text": [
      "  4%|▎         | 33/938 [00:01<00:49, 18.44it/s]"
     ]
    },
    {
     "name": "stdout",
     "output_type": "stream",
     "text": [
      "mean_log_p,shapetorch.Size([]), -173.02798461914062\n",
      "mean_log_q.shapetorch.Size([]), -42.275733947753906\n",
      "mean_log_p,shapetorch.Size([]), -167.84243774414062\n",
      "mean_log_q.shapetorch.Size([]), -42.7958984375\n",
      "mean_log_p,shapetorch.Size([]), -173.48150634765625\n",
      "mean_log_q.shapetorch.Size([]), -42.46760559082031\n",
      "mean_log_p,shapetorch.Size([]), -174.87417602539062\n",
      "mean_log_q.shapetorch.Size([]), -43.43901062011719\n"
     ]
    },
    {
     "name": "stderr",
     "output_type": "stream",
     "text": [
      "  4%|▍         | 36/938 [00:01<00:54, 16.58it/s]"
     ]
    },
    {
     "name": "stdout",
     "output_type": "stream",
     "text": [
      "mean_log_p,shapetorch.Size([]), -171.3753662109375\n",
      "mean_log_q.shapetorch.Size([]), -43.62444305419922\n",
      "mean_log_p,shapetorch.Size([]), -173.58334350585938\n",
      "mean_log_q.shapetorch.Size([]), -43.516357421875\n"
     ]
    },
    {
     "name": "stderr",
     "output_type": "stream",
     "text": [
      "  4%|▍         | 38/938 [00:02<00:57, 15.72it/s]"
     ]
    },
    {
     "name": "stdout",
     "output_type": "stream",
     "text": [
      "mean_log_p,shapetorch.Size([]), -164.21383666992188\n",
      "mean_log_q.shapetorch.Size([]), -44.55451965332031\n",
      "mean_log_p,shapetorch.Size([]), -175.76156616210938\n",
      "mean_log_q.shapetorch.Size([]), -43.619285583496094\n"
     ]
    },
    {
     "name": "stderr",
     "output_type": "stream",
     "text": [
      "  4%|▍         | 42/938 [00:02<00:48, 18.45it/s]"
     ]
    },
    {
     "name": "stdout",
     "output_type": "stream",
     "text": [
      "mean_log_p,shapetorch.Size([]), -165.75328063964844\n",
      "mean_log_q.shapetorch.Size([]), -44.02081298828125\n",
      "mean_log_p,shapetorch.Size([]), -185.33047485351562\n",
      "mean_log_q.shapetorch.Size([]), -43.44190216064453\n"
     ]
    },
    {
     "name": "stderr",
     "output_type": "stream",
     "text": [
      "  5%|▍         | 44/938 [00:02<00:52, 17.03it/s]"
     ]
    },
    {
     "name": "stdout",
     "output_type": "stream",
     "text": [
      "mean_log_p,shapetorch.Size([]), -164.69314575195312\n",
      "mean_log_q.shapetorch.Size([]), -44.16285705566406\n",
      "mean_log_p,shapetorch.Size([]), -167.25340270996094\n",
      "mean_log_q.shapetorch.Size([]), -43.27320098876953\n"
     ]
    },
    {
     "name": "stderr",
     "output_type": "stream",
     "text": [
      "  5%|▍         | 46/938 [00:02<00:55, 15.94it/s]"
     ]
    },
    {
     "name": "stdout",
     "output_type": "stream",
     "text": [
      "mean_log_p,shapetorch.Size([]), -179.82403564453125\n",
      "mean_log_q.shapetorch.Size([]), -43.426483154296875\n"
     ]
    },
    {
     "name": "stderr",
     "output_type": "stream",
     "text": [
      "  5%|▌         | 48/938 [00:02<00:58, 15.17it/s]"
     ]
    },
    {
     "name": "stdout",
     "output_type": "stream",
     "text": [
      "mean_log_p,shapetorch.Size([]), -177.66494750976562\n",
      "mean_log_q.shapetorch.Size([]), -41.71282196044922\n",
      "mean_log_p,shapetorch.Size([]), -170.17279052734375\n",
      "mean_log_q.shapetorch.Size([]), -42.542572021484375\n"
     ]
    },
    {
     "name": "stderr",
     "output_type": "stream",
     "text": [
      "  5%|▌         | 50/938 [00:02<01:00, 14.67it/s]"
     ]
    },
    {
     "name": "stdout",
     "output_type": "stream",
     "text": [
      "mean_log_p,shapetorch.Size([]), -170.91868591308594\n",
      "mean_log_q.shapetorch.Size([]), -41.72496795654297\n",
      "mean_log_p,shapetorch.Size([]), -169.89590454101562\n",
      "mean_log_q.shapetorch.Size([]), -42.97308349609375\n"
     ]
    },
    {
     "name": "stderr",
     "output_type": "stream",
     "text": [
      "  6%|▌         | 52/938 [00:02<01:01, 14.32it/s]"
     ]
    },
    {
     "name": "stdout",
     "output_type": "stream",
     "text": [
      "mean_log_p,shapetorch.Size([]), -168.0885009765625\n",
      "mean_log_q.shapetorch.Size([]), -42.59596252441406\n",
      "mean_log_p,shapetorch.Size([]), -172.94970703125\n",
      "mean_log_q.shapetorch.Size([]), -43.24032974243164\n"
     ]
    },
    {
     "name": "stderr",
     "output_type": "stream",
     "text": [
      "  6%|▌         | 56/938 [00:03<00:49, 18.00it/s]"
     ]
    },
    {
     "name": "stdout",
     "output_type": "stream",
     "text": [
      "mean_log_p,shapetorch.Size([]), -170.85533142089844\n",
      "mean_log_q.shapetorch.Size([]), -43.00677490234375\n",
      "mean_log_p,shapetorch.Size([]), -166.45111083984375\n",
      "mean_log_q.shapetorch.Size([]), -42.75858688354492\n",
      "mean_log_p,shapetorch.Size([]), -166.19357299804688\n",
      "mean_log_q.shapetorch.Size([]), -43.02473831176758\n"
     ]
    },
    {
     "name": "stderr",
     "output_type": "stream",
     "text": [
      "  6%|▌         | 58/938 [00:03<00:53, 16.52it/s]"
     ]
    },
    {
     "name": "stdout",
     "output_type": "stream",
     "text": [
      "mean_log_p,shapetorch.Size([]), -183.46237182617188\n",
      "mean_log_q.shapetorch.Size([]), -43.25642013549805\n",
      "mean_log_p,shapetorch.Size([]), -169.9746856689453\n",
      "mean_log_q.shapetorch.Size([]), -43.92155456542969\n"
     ]
    },
    {
     "name": "stderr",
     "output_type": "stream",
     "text": [
      "  6%|▋         | 60/938 [00:03<00:56, 15.51it/s]"
     ]
    },
    {
     "name": "stdout",
     "output_type": "stream",
     "text": [
      "mean_log_p,shapetorch.Size([]), -170.90478515625\n",
      "mean_log_q.shapetorch.Size([]), -43.04214859008789\n",
      "mean_log_p,shapetorch.Size([]), -175.80271911621094\n",
      "mean_log_q.shapetorch.Size([]), -43.60419464111328\n"
     ]
    },
    {
     "name": "stderr",
     "output_type": "stream",
     "text": [
      "  7%|▋         | 62/938 [00:03<00:59, 14.79it/s]"
     ]
    },
    {
     "name": "stdout",
     "output_type": "stream",
     "text": [
      "mean_log_p,shapetorch.Size([]), -169.14549255371094\n",
      "mean_log_q.shapetorch.Size([]), -43.16462707519531\n",
      "mean_log_p,shapetorch.Size([]), -172.23399353027344\n",
      "mean_log_q.shapetorch.Size([]), -42.464149475097656\n"
     ]
    },
    {
     "name": "stderr",
     "output_type": "stream",
     "text": [
      "  7%|▋         | 64/938 [00:03<01:01, 14.27it/s]"
     ]
    },
    {
     "name": "stdout",
     "output_type": "stream",
     "text": [
      "mean_log_p,shapetorch.Size([]), -171.61517333984375\n",
      "mean_log_q.shapetorch.Size([]), -42.84382629394531\n"
     ]
    },
    {
     "name": "stderr",
     "output_type": "stream",
     "text": [
      "  7%|▋         | 66/938 [00:03<01:02, 13.97it/s]"
     ]
    },
    {
     "name": "stdout",
     "output_type": "stream",
     "text": [
      "mean_log_p,shapetorch.Size([]), -172.83444213867188\n",
      "mean_log_q.shapetorch.Size([]), -42.8201904296875\n",
      "mean_log_p,shapetorch.Size([]), -166.61158752441406\n",
      "mean_log_q.shapetorch.Size([]), -42.619651794433594\n"
     ]
    },
    {
     "name": "stderr",
     "output_type": "stream",
     "text": [
      "  7%|▋         | 68/938 [00:04<01:03, 13.77it/s]"
     ]
    },
    {
     "name": "stdout",
     "output_type": "stream",
     "text": [
      "mean_log_p,shapetorch.Size([]), -173.97509765625\n",
      "mean_log_q.shapetorch.Size([]), -41.472984313964844\n",
      "mean_log_p,shapetorch.Size([]), -168.97959899902344\n",
      "mean_log_q.shapetorch.Size([]), -42.933494567871094\n"
     ]
    },
    {
     "name": "stderr",
     "output_type": "stream",
     "text": [
      "  8%|▊         | 72/938 [00:04<00:49, 17.63it/s]"
     ]
    },
    {
     "name": "stdout",
     "output_type": "stream",
     "text": [
      "mean_log_p,shapetorch.Size([]), -168.71861267089844\n",
      "mean_log_q.shapetorch.Size([]), -42.87135314941406\n",
      "mean_log_p,shapetorch.Size([]), -174.47802734375\n",
      "mean_log_q.shapetorch.Size([]), -42.76128005981445\n"
     ]
    },
    {
     "name": "stderr",
     "output_type": "stream",
     "text": [
      "  8%|▊         | 74/938 [00:04<00:52, 16.35it/s]"
     ]
    },
    {
     "name": "stdout",
     "output_type": "stream",
     "text": [
      "mean_log_p,shapetorch.Size([]), -174.94183349609375\n",
      "mean_log_q.shapetorch.Size([]), -42.75141906738281\n",
      "mean_log_p,shapetorch.Size([]), -169.87637329101562\n",
      "mean_log_q.shapetorch.Size([]), -42.91110610961914\n"
     ]
    },
    {
     "name": "stderr",
     "output_type": "stream",
     "text": [
      "  8%|▊         | 76/938 [00:04<00:55, 15.40it/s]"
     ]
    },
    {
     "name": "stdout",
     "output_type": "stream",
     "text": [
      "mean_log_p,shapetorch.Size([]), -171.50634765625\n",
      "mean_log_q.shapetorch.Size([]), -42.35519027709961\n",
      "mean_log_p,shapetorch.Size([]), -165.02487182617188\n",
      "mean_log_q.shapetorch.Size([]), -43.38867950439453\n",
      "mean_log_p,shapetorch.Size([]), -171.9493408203125\n",
      "mean_log_q.shapetorch.Size([]), -43.315486907958984\n"
     ]
    },
    {
     "name": "stderr",
     "output_type": "stream",
     "text": [
      "  8%|▊         | 78/938 [00:04<00:58, 14.72it/s]"
     ]
    },
    {
     "name": "stdout",
     "output_type": "stream",
     "text": [
      "mean_log_p,shapetorch.Size([]), -169.28973388671875\n",
      "mean_log_q.shapetorch.Size([]), -43.71030807495117\n"
     ]
    },
    {
     "name": "stderr",
     "output_type": "stream",
     "text": [
      "  9%|▊         | 80/938 [00:04<00:59, 14.31it/s]"
     ]
    },
    {
     "name": "stdout",
     "output_type": "stream",
     "text": [
      "mean_log_p,shapetorch.Size([]), -171.81643676757812\n",
      "mean_log_q.shapetorch.Size([]), -43.72413635253906\n",
      "mean_log_p,shapetorch.Size([]), -177.7733612060547\n",
      "mean_log_q.shapetorch.Size([]), -43.448570251464844\n"
     ]
    },
    {
     "name": "stderr",
     "output_type": "stream",
     "text": [
      "  9%|▊         | 82/938 [00:04<01:01, 14.00it/s]"
     ]
    },
    {
     "name": "stdout",
     "output_type": "stream",
     "text": [
      "mean_log_p,shapetorch.Size([]), -175.7422332763672\n",
      "mean_log_q.shapetorch.Size([]), -43.143768310546875\n",
      "mean_log_p,shapetorch.Size([]), -172.57757568359375\n",
      "mean_log_q.shapetorch.Size([]), -44.01500701904297\n"
     ]
    },
    {
     "name": "stderr",
     "output_type": "stream",
     "text": [
      "  9%|▉         | 84/938 [00:05<01:01, 13.78it/s]"
     ]
    },
    {
     "name": "stdout",
     "output_type": "stream",
     "text": [
      "mean_log_p,shapetorch.Size([]), -161.4744873046875\n",
      "mean_log_q.shapetorch.Size([]), -42.709388732910156\n",
      "mean_log_p,shapetorch.Size([]), -179.61337280273438\n",
      "mean_log_q.shapetorch.Size([]), -42.44127655029297\n"
     ]
    },
    {
     "name": "stderr",
     "output_type": "stream",
     "text": [
      "  9%|▉         | 86/938 [00:05<01:02, 13.67it/s]"
     ]
    },
    {
     "name": "stdout",
     "output_type": "stream",
     "text": [
      "mean_log_p,shapetorch.Size([]), -166.2313690185547\n",
      "mean_log_q.shapetorch.Size([]), -42.711402893066406\n",
      "mean_log_p,shapetorch.Size([]), -168.2913818359375\n",
      "mean_log_q.shapetorch.Size([]), -41.8743896484375\n"
     ]
    },
    {
     "name": "stderr",
     "output_type": "stream",
     "text": [
      " 10%|▉         | 90/938 [00:05<00:48, 17.57it/s]"
     ]
    },
    {
     "name": "stdout",
     "output_type": "stream",
     "text": [
      "mean_log_p,shapetorch.Size([]), -172.68435668945312\n",
      "mean_log_q.shapetorch.Size([]), -42.02178192138672\n",
      "mean_log_p,shapetorch.Size([]), -172.861328125\n",
      "mean_log_q.shapetorch.Size([]), -41.911842346191406\n"
     ]
    },
    {
     "name": "stderr",
     "output_type": "stream",
     "text": [
      " 10%|▉         | 92/938 [00:05<00:51, 16.31it/s]"
     ]
    },
    {
     "name": "stdout",
     "output_type": "stream",
     "text": [
      "mean_log_p,shapetorch.Size([]), -173.18087768554688\n",
      "mean_log_q.shapetorch.Size([]), -42.07251739501953\n",
      "mean_log_p,shapetorch.Size([]), -175.84988403320312\n",
      "mean_log_q.shapetorch.Size([]), -41.62347412109375\n"
     ]
    },
    {
     "name": "stderr",
     "output_type": "stream",
     "text": [
      " 10%|█         | 94/938 [00:05<00:54, 15.40it/s]"
     ]
    },
    {
     "name": "stdout",
     "output_type": "stream",
     "text": [
      "mean_log_p,shapetorch.Size([]), -178.3648223876953\n",
      "mean_log_q.shapetorch.Size([]), -42.723514556884766\n",
      "mean_log_p,shapetorch.Size([]), -170.81243896484375\n",
      "mean_log_q.shapetorch.Size([]), -43.5335578918457\n"
     ]
    },
    {
     "name": "stderr",
     "output_type": "stream",
     "text": [
      " 10%|█         | 96/938 [00:05<00:57, 14.74it/s]"
     ]
    },
    {
     "name": "stdout",
     "output_type": "stream",
     "text": [
      "mean_log_p,shapetorch.Size([]), -179.46002197265625\n",
      "mean_log_q.shapetorch.Size([]), -42.253868103027344\n",
      "mean_log_p,shapetorch.Size([]), -169.57986450195312\n",
      "mean_log_q.shapetorch.Size([]), -43.349205017089844\n",
      "mean_log_p,shapetorch.Size([]), -172.96746826171875\n",
      "mean_log_q.shapetorch.Size([]), -43.48084259033203\n"
     ]
    },
    {
     "name": "stderr",
     "output_type": "stream",
     "text": [
      " 10%|█         | 98/938 [00:05<00:58, 14.27it/s]"
     ]
    },
    {
     "name": "stdout",
     "output_type": "stream",
     "text": [
      "mean_log_p,shapetorch.Size([]), -170.62551879882812\n",
      "mean_log_q.shapetorch.Size([]), -43.199981689453125\n"
     ]
    },
    {
     "name": "stderr",
     "output_type": "stream",
     "text": [
      " 11%|█         | 100/938 [00:06<01:00, 13.95it/s]"
     ]
    },
    {
     "name": "stdout",
     "output_type": "stream",
     "text": [
      "mean_log_p,shapetorch.Size([]), -171.94677734375\n",
      "mean_log_q.shapetorch.Size([]), -43.02272033691406\n",
      "mean_log_p,shapetorch.Size([]), -169.41168212890625\n",
      "mean_log_q.shapetorch.Size([]), -43.359622955322266\n"
     ]
    },
    {
     "name": "stderr",
     "output_type": "stream",
     "text": [
      " 11%|█         | 102/938 [00:06<01:00, 13.71it/s]"
     ]
    },
    {
     "name": "stdout",
     "output_type": "stream",
     "text": [
      "mean_log_p,shapetorch.Size([]), -169.76480102539062\n",
      "mean_log_q.shapetorch.Size([]), -42.21177291870117\n",
      "mean_log_p,shapetorch.Size([]), -172.83749389648438\n",
      "mean_log_q.shapetorch.Size([]), -43.88101577758789\n",
      "mean_log_p,shapetorch.Size([]), -184.28564453125\n",
      "mean_log_q.shapetorch.Size([]), -43.117591857910156\n"
     ]
    },
    {
     "name": "stderr",
     "output_type": "stream",
     "text": [
      " 11%|█         | 104/938 [00:06<01:01, 13.56it/s]"
     ]
    },
    {
     "name": "stdout",
     "output_type": "stream",
     "text": [
      "mean_log_p,shapetorch.Size([]), -173.9932861328125\n",
      "mean_log_q.shapetorch.Size([]), -43.06036376953125\n",
      "mean_log_p,shapetorch.Size([]), -175.79037475585938\n",
      "mean_log_q.shapetorch.Size([]), -43.099853515625\n"
     ]
    },
    {
     "name": "stderr",
     "output_type": "stream",
     "text": [
      " 11%|█▏        | 106/938 [00:06<01:01, 13.43it/s]"
     ]
    },
    {
     "name": "stdout",
     "output_type": "stream",
     "text": [
      "mean_log_p,shapetorch.Size([]), -178.6676025390625\n",
      "mean_log_q.shapetorch.Size([]), -43.32185363769531\n",
      "mean_log_p,shapetorch.Size([]), -175.54420471191406\n",
      "mean_log_q.shapetorch.Size([]), -43.43292236328125\n"
     ]
    },
    {
     "name": "stderr",
     "output_type": "stream",
     "text": [
      " 12%|█▏        | 110/938 [00:06<00:47, 17.30it/s]"
     ]
    },
    {
     "name": "stdout",
     "output_type": "stream",
     "text": [
      "mean_log_p,shapetorch.Size([]), -182.60879516601562\n",
      "mean_log_q.shapetorch.Size([]), -42.33445358276367\n",
      "mean_log_p,shapetorch.Size([]), -175.217529296875\n",
      "mean_log_q.shapetorch.Size([]), -42.645362854003906\n"
     ]
    },
    {
     "name": "stderr",
     "output_type": "stream",
     "text": [
      " 12%|█▏        | 112/938 [00:06<00:51, 16.00it/s]"
     ]
    },
    {
     "name": "stdout",
     "output_type": "stream",
     "text": [
      "mean_log_p,shapetorch.Size([]), -164.02780151367188\n",
      "mean_log_q.shapetorch.Size([]), -42.14502716064453\n",
      "mean_log_p,shapetorch.Size([]), -175.97866821289062\n",
      "mean_log_q.shapetorch.Size([]), -43.33221435546875\n"
     ]
    },
    {
     "name": "stderr",
     "output_type": "stream",
     "text": [
      " 12%|█▏        | 114/938 [00:07<00:54, 15.11it/s]"
     ]
    },
    {
     "name": "stdout",
     "output_type": "stream",
     "text": [
      "mean_log_p,shapetorch.Size([]), -168.80364990234375\n",
      "mean_log_q.shapetorch.Size([]), -43.193077087402344\n",
      "mean_log_p,shapetorch.Size([]), -172.18740844726562\n",
      "mean_log_q.shapetorch.Size([]), -43.117462158203125\n"
     ]
    },
    {
     "name": "stderr",
     "output_type": "stream",
     "text": [
      " 12%|█▏        | 116/938 [00:07<00:56, 14.53it/s]"
     ]
    },
    {
     "name": "stdout",
     "output_type": "stream",
     "text": [
      "mean_log_p,shapetorch.Size([]), -162.93975830078125\n",
      "mean_log_q.shapetorch.Size([]), -42.73947525024414\n",
      "mean_log_p,shapetorch.Size([]), -169.83035278320312\n",
      "mean_log_q.shapetorch.Size([]), -42.87571716308594\n"
     ]
    },
    {
     "name": "stderr",
     "output_type": "stream",
     "text": [
      " 13%|█▎        | 118/938 [00:07<00:58, 14.13it/s]"
     ]
    },
    {
     "name": "stdout",
     "output_type": "stream",
     "text": [
      "mean_log_p,shapetorch.Size([]), -170.4852294921875\n",
      "mean_log_q.shapetorch.Size([]), -42.956844329833984\n"
     ]
    },
    {
     "name": "stderr",
     "output_type": "stream",
     "text": [
      " 13%|█▎        | 120/938 [00:07<00:59, 13.86it/s]"
     ]
    },
    {
     "name": "stdout",
     "output_type": "stream",
     "text": [
      "mean_log_p,shapetorch.Size([]), -166.881591796875\n",
      "mean_log_q.shapetorch.Size([]), -42.46418762207031\n",
      "mean_log_p,shapetorch.Size([]), -180.4654998779297\n",
      "mean_log_q.shapetorch.Size([]), -42.84624481201172\n"
     ]
    },
    {
     "name": "stderr",
     "output_type": "stream",
     "text": [
      " 13%|█▎        | 122/938 [00:07<00:59, 13.69it/s]"
     ]
    },
    {
     "name": "stdout",
     "output_type": "stream",
     "text": [
      "mean_log_p,shapetorch.Size([]), -170.21043395996094\n",
      "mean_log_q.shapetorch.Size([]), -42.48046112060547\n",
      "mean_log_p,shapetorch.Size([]), -176.0597686767578\n",
      "mean_log_q.shapetorch.Size([]), -43.23111343383789\n"
     ]
    },
    {
     "name": "stderr",
     "output_type": "stream",
     "text": [
      " 13%|█▎        | 124/938 [00:07<00:59, 13.58it/s]"
     ]
    },
    {
     "name": "stdout",
     "output_type": "stream",
     "text": [
      "mean_log_p,shapetorch.Size([]), -180.16021728515625\n",
      "mean_log_q.shapetorch.Size([]), -41.99810028076172\n",
      "mean_log_p,shapetorch.Size([]), -171.95034790039062\n",
      "mean_log_q.shapetorch.Size([]), -42.11003494262695\n",
      "mean_log_p,shapetorch.Size([]), -170.44801330566406\n",
      "mean_log_q.shapetorch.Size([]), -42.54419708251953\n"
     ]
    },
    {
     "name": "stderr",
     "output_type": "stream",
     "text": [
      " 13%|█▎        | 126/938 [00:07<01:00, 13.44it/s]"
     ]
    },
    {
     "name": "stdout",
     "output_type": "stream",
     "text": [
      "mean_log_p,shapetorch.Size([]), -171.92263793945312\n",
      "mean_log_q.shapetorch.Size([]), -41.71031951904297\n"
     ]
    },
    {
     "name": "stderr",
     "output_type": "stream",
     "text": [
      " 14%|█▎        | 128/938 [00:08<01:00, 13.41it/s]"
     ]
    },
    {
     "name": "stdout",
     "output_type": "stream",
     "text": [
      "mean_log_p,shapetorch.Size([]), -170.24655151367188\n",
      "mean_log_q.shapetorch.Size([]), -42.18942642211914\n",
      "mean_log_p,shapetorch.Size([]), -169.59849548339844\n",
      "mean_log_q.shapetorch.Size([]), -42.362186431884766\n"
     ]
    },
    {
     "name": "stderr",
     "output_type": "stream",
     "text": [
      " 14%|█▍        | 132/938 [00:08<00:46, 17.37it/s]"
     ]
    },
    {
     "name": "stdout",
     "output_type": "stream",
     "text": [
      "mean_log_p,shapetorch.Size([]), -170.1185302734375\n",
      "mean_log_q.shapetorch.Size([]), -42.77907180786133\n",
      "mean_log_p,shapetorch.Size([]), -170.7181396484375\n",
      "mean_log_q.shapetorch.Size([]), -43.162376403808594\n"
     ]
    },
    {
     "name": "stderr",
     "output_type": "stream",
     "text": [
      " 14%|█▍        | 134/938 [00:08<00:49, 16.18it/s]"
     ]
    },
    {
     "name": "stdout",
     "output_type": "stream",
     "text": [
      "mean_log_p,shapetorch.Size([]), -173.55340576171875\n",
      "mean_log_q.shapetorch.Size([]), -43.435546875\n",
      "mean_log_p,shapetorch.Size([]), -171.97500610351562\n",
      "mean_log_q.shapetorch.Size([]), -43.372108459472656\n"
     ]
    },
    {
     "name": "stderr",
     "output_type": "stream",
     "text": [
      " 14%|█▍        | 136/938 [00:08<00:52, 15.31it/s]"
     ]
    },
    {
     "name": "stdout",
     "output_type": "stream",
     "text": [
      "mean_log_p,shapetorch.Size([]), -170.07557678222656\n",
      "mean_log_q.shapetorch.Size([]), -43.702796936035156\n",
      "mean_log_p,shapetorch.Size([]), -172.02720642089844\n",
      "mean_log_q.shapetorch.Size([]), -43.51801681518555\n"
     ]
    },
    {
     "name": "stderr",
     "output_type": "stream",
     "text": [
      " 15%|█▍        | 138/938 [00:08<00:54, 14.73it/s]"
     ]
    },
    {
     "name": "stdout",
     "output_type": "stream",
     "text": [
      "mean_log_p,shapetorch.Size([]), -171.416259765625\n",
      "mean_log_q.shapetorch.Size([]), -44.339927673339844\n",
      "mean_log_p,shapetorch.Size([]), -161.011962890625\n",
      "mean_log_q.shapetorch.Size([]), -43.75560760498047\n"
     ]
    },
    {
     "name": "stderr",
     "output_type": "stream",
     "text": [
      " 15%|█▍        | 140/938 [00:08<00:55, 14.31it/s]"
     ]
    },
    {
     "name": "stdout",
     "output_type": "stream",
     "text": [
      "mean_log_p,shapetorch.Size([]), -169.4527130126953\n",
      "mean_log_q.shapetorch.Size([]), -42.850975036621094\n",
      "mean_log_p,shapetorch.Size([]), -165.55294799804688\n",
      "mean_log_q.shapetorch.Size([]), -42.807735443115234\n"
     ]
    },
    {
     "name": "stderr",
     "output_type": "stream",
     "text": [
      " 15%|█▌        | 142/938 [00:09<00:56, 14.03it/s]"
     ]
    },
    {
     "name": "stdout",
     "output_type": "stream",
     "text": [
      "mean_log_p,shapetorch.Size([]), -176.3780517578125\n",
      "mean_log_q.shapetorch.Size([]), -41.910888671875\n",
      "mean_log_p,shapetorch.Size([]), -168.10997009277344\n",
      "mean_log_q.shapetorch.Size([]), -42.74420166015625\n"
     ]
    },
    {
     "name": "stderr",
     "output_type": "stream",
     "text": [
      " 15%|█▌        | 144/938 [00:09<00:57, 13.83it/s]"
     ]
    },
    {
     "name": "stdout",
     "output_type": "stream",
     "text": [
      "mean_log_p,shapetorch.Size([]), -175.95497131347656\n",
      "mean_log_q.shapetorch.Size([]), -42.19751739501953\n",
      "mean_log_p,shapetorch.Size([]), -173.7080078125\n",
      "mean_log_q.shapetorch.Size([]), -42.08864212036133\n"
     ]
    },
    {
     "name": "stderr",
     "output_type": "stream",
     "text": [
      " 16%|█▌        | 146/938 [00:09<00:57, 13.69it/s]"
     ]
    },
    {
     "name": "stdout",
     "output_type": "stream",
     "text": [
      "mean_log_p,shapetorch.Size([]), -169.62037658691406\n",
      "mean_log_q.shapetorch.Size([]), -41.490699768066406\n",
      "mean_log_p,shapetorch.Size([]), -168.65625\n",
      "mean_log_q.shapetorch.Size([]), -41.626708984375\n"
     ]
    },
    {
     "name": "stderr",
     "output_type": "stream",
     "text": [
      " 16%|█▌        | 148/938 [00:09<00:58, 13.59it/s]"
     ]
    },
    {
     "name": "stdout",
     "output_type": "stream",
     "text": [
      "mean_log_p,shapetorch.Size([]), -161.08404541015625\n",
      "mean_log_q.shapetorch.Size([]), -41.62360763549805\n",
      "mean_log_p,shapetorch.Size([]), -167.75619506835938\n",
      "mean_log_q.shapetorch.Size([]), -42.190155029296875\n"
     ]
    },
    {
     "name": "stderr",
     "output_type": "stream",
     "text": [
      " 16%|█▌        | 150/938 [00:09<00:58, 13.51it/s]"
     ]
    },
    {
     "name": "stdout",
     "output_type": "stream",
     "text": [
      "mean_log_p,shapetorch.Size([]), -167.35609436035156\n",
      "mean_log_q.shapetorch.Size([]), -41.879547119140625\n",
      "mean_log_p,shapetorch.Size([]), -173.11349487304688\n",
      "mean_log_q.shapetorch.Size([]), -42.87689208984375\n"
     ]
    },
    {
     "name": "stderr",
     "output_type": "stream",
     "text": [
      " 16%|█▌        | 152/938 [00:09<00:58, 13.47it/s]"
     ]
    },
    {
     "name": "stdout",
     "output_type": "stream",
     "text": [
      "mean_log_p,shapetorch.Size([]), -171.86578369140625\n",
      "mean_log_q.shapetorch.Size([]), -42.860595703125\n",
      "mean_log_p,shapetorch.Size([]), -166.24835205078125\n",
      "mean_log_q.shapetorch.Size([]), -43.282169342041016\n"
     ]
    },
    {
     "name": "stderr",
     "output_type": "stream",
     "text": [
      " 17%|█▋        | 156/938 [00:09<00:44, 17.43it/s]"
     ]
    },
    {
     "name": "stdout",
     "output_type": "stream",
     "text": [
      "mean_log_p,shapetorch.Size([]), -173.52401733398438\n",
      "mean_log_q.shapetorch.Size([]), -43.48542404174805\n",
      "mean_log_p,shapetorch.Size([]), -163.25360107421875\n",
      "mean_log_q.shapetorch.Size([]), -43.98210906982422\n"
     ]
    },
    {
     "name": "stderr",
     "output_type": "stream",
     "text": [
      " 17%|█▋        | 158/938 [00:10<00:48, 16.21it/s]"
     ]
    },
    {
     "name": "stdout",
     "output_type": "stream",
     "text": [
      "mean_log_p,shapetorch.Size([]), -164.24156188964844\n",
      "mean_log_q.shapetorch.Size([]), -43.66181564331055\n",
      "mean_log_p,shapetorch.Size([]), -169.81146240234375\n",
      "mean_log_q.shapetorch.Size([]), -43.62418746948242\n"
     ]
    },
    {
     "name": "stderr",
     "output_type": "stream",
     "text": [
      " 17%|█▋        | 160/938 [00:10<00:50, 15.35it/s]"
     ]
    },
    {
     "name": "stdout",
     "output_type": "stream",
     "text": [
      "mean_log_p,shapetorch.Size([]), -171.24282836914062\n",
      "mean_log_q.shapetorch.Size([]), -43.01826477050781\n",
      "mean_log_p,shapetorch.Size([]), -165.62542724609375\n",
      "mean_log_q.shapetorch.Size([]), -43.456207275390625\n",
      "mean_log_p,shapetorch.Size([]), -171.4351348876953\n",
      "mean_log_q.shapetorch.Size([]), -42.618988037109375\n"
     ]
    },
    {
     "name": "stderr",
     "output_type": "stream",
     "text": [
      " 17%|█▋        | 162/938 [00:10<00:53, 14.63it/s]"
     ]
    },
    {
     "name": "stdout",
     "output_type": "stream",
     "text": [
      "mean_log_p,shapetorch.Size([]), -175.22760009765625\n",
      "mean_log_q.shapetorch.Size([]), -43.05207824707031\n",
      "mean_log_p,shapetorch.Size([]), -166.49270629882812\n",
      "mean_log_q.shapetorch.Size([]), -42.47960662841797\n"
     ]
    },
    {
     "name": "stderr",
     "output_type": "stream",
     "text": [
      " 17%|█▋        | 164/938 [00:10<00:54, 14.23it/s]"
     ]
    },
    {
     "name": "stdout",
     "output_type": "stream",
     "text": [
      "mean_log_p,shapetorch.Size([]), -176.72256469726562\n",
      "mean_log_q.shapetorch.Size([]), -41.119903564453125\n"
     ]
    },
    {
     "name": "stderr",
     "output_type": "stream",
     "text": [
      " 18%|█▊        | 166/938 [00:10<00:55, 13.97it/s]"
     ]
    },
    {
     "name": "stdout",
     "output_type": "stream",
     "text": [
      "mean_log_p,shapetorch.Size([]), -167.79591369628906\n",
      "mean_log_q.shapetorch.Size([]), -42.798336029052734\n",
      "mean_log_p,shapetorch.Size([]), -168.4231414794922\n",
      "mean_log_q.shapetorch.Size([]), -41.86582565307617\n"
     ]
    },
    {
     "name": "stderr",
     "output_type": "stream",
     "text": [
      " 18%|█▊        | 168/938 [00:10<00:55, 13.79it/s]"
     ]
    },
    {
     "name": "stdout",
     "output_type": "stream",
     "text": [
      "mean_log_p,shapetorch.Size([]), -168.83212280273438\n",
      "mean_log_q.shapetorch.Size([]), -41.65072250366211\n",
      "mean_log_p,shapetorch.Size([]), -157.29177856445312\n",
      "mean_log_q.shapetorch.Size([]), -41.72916030883789\n"
     ]
    },
    {
     "name": "stderr",
     "output_type": "stream",
     "text": [
      " 18%|█▊        | 170/938 [00:10<00:56, 13.68it/s]"
     ]
    },
    {
     "name": "stdout",
     "output_type": "stream",
     "text": [
      "mean_log_p,shapetorch.Size([]), -173.50949096679688\n",
      "mean_log_q.shapetorch.Size([]), -42.64216232299805\n",
      "mean_log_p,shapetorch.Size([]), -174.32191467285156\n",
      "mean_log_q.shapetorch.Size([]), -42.26118087768555\n"
     ]
    },
    {
     "name": "stderr",
     "output_type": "stream",
     "text": [
      " 18%|█▊        | 172/938 [00:11<00:56, 13.60it/s]"
     ]
    },
    {
     "name": "stdout",
     "output_type": "stream",
     "text": [
      "mean_log_p,shapetorch.Size([]), -165.29342651367188\n",
      "mean_log_q.shapetorch.Size([]), -42.36030578613281\n",
      "mean_log_p,shapetorch.Size([]), -174.23648071289062\n",
      "mean_log_q.shapetorch.Size([]), -42.657737731933594\n"
     ]
    },
    {
     "name": "stderr",
     "output_type": "stream",
     "text": [
      " 19%|█▊        | 174/938 [00:11<00:56, 13.53it/s]"
     ]
    },
    {
     "name": "stdout",
     "output_type": "stream",
     "text": [
      "mean_log_p,shapetorch.Size([]), -162.5696258544922\n",
      "mean_log_q.shapetorch.Size([]), -42.94557571411133\n",
      "mean_log_p,shapetorch.Size([]), -169.0587158203125\n",
      "mean_log_q.shapetorch.Size([]), -43.25355529785156\n"
     ]
    },
    {
     "name": "stderr",
     "output_type": "stream",
     "text": [
      " 19%|█▉        | 176/938 [00:11<00:56, 13.50it/s]"
     ]
    },
    {
     "name": "stdout",
     "output_type": "stream",
     "text": [
      "mean_log_p,shapetorch.Size([]), -163.56076049804688\n",
      "mean_log_q.shapetorch.Size([]), -43.33856964111328\n",
      "mean_log_p,shapetorch.Size([]), -184.94325256347656\n",
      "mean_log_q.shapetorch.Size([]), -42.226539611816406\n"
     ]
    },
    {
     "name": "stderr",
     "output_type": "stream",
     "text": [
      " 19%|█▉        | 178/938 [00:11<00:56, 13.48it/s]"
     ]
    },
    {
     "name": "stdout",
     "output_type": "stream",
     "text": [
      "mean_log_p,shapetorch.Size([]), -164.89132690429688\n",
      "mean_log_q.shapetorch.Size([]), -43.08198547363281\n",
      "mean_log_p,shapetorch.Size([]), -160.7464599609375\n",
      "mean_log_q.shapetorch.Size([]), -42.913543701171875\n"
     ]
    },
    {
     "name": "stderr",
     "output_type": "stream",
     "text": [
      " 19%|█▉        | 182/938 [00:11<00:43, 17.48it/s]"
     ]
    },
    {
     "name": "stdout",
     "output_type": "stream",
     "text": [
      "mean_log_p,shapetorch.Size([]), -164.92788696289062\n",
      "mean_log_q.shapetorch.Size([]), -42.81475830078125\n",
      "mean_log_p,shapetorch.Size([]), -163.96884155273438\n",
      "mean_log_q.shapetorch.Size([]), -42.78831100463867\n"
     ]
    },
    {
     "name": "stderr",
     "output_type": "stream",
     "text": [
      " 20%|█▉        | 184/938 [00:11<00:46, 16.28it/s]"
     ]
    },
    {
     "name": "stdout",
     "output_type": "stream",
     "text": [
      "mean_log_p,shapetorch.Size([]), -170.19277954101562\n",
      "mean_log_q.shapetorch.Size([]), -42.757286071777344\n",
      "mean_log_p,shapetorch.Size([]), -175.87255859375\n",
      "mean_log_q.shapetorch.Size([]), -42.1682243347168\n"
     ]
    },
    {
     "name": "stderr",
     "output_type": "stream",
     "text": [
      " 20%|█▉        | 186/938 [00:12<00:49, 15.33it/s]"
     ]
    },
    {
     "name": "stdout",
     "output_type": "stream",
     "text": [
      "mean_log_p,shapetorch.Size([]), -176.0721435546875\n",
      "mean_log_q.shapetorch.Size([]), -42.37047576904297\n",
      "mean_log_p,shapetorch.Size([]), -172.09573364257812\n",
      "mean_log_q.shapetorch.Size([]), -41.37501525878906\n"
     ]
    },
    {
     "name": "stderr",
     "output_type": "stream",
     "text": [
      " 20%|██        | 188/938 [00:12<00:50, 14.76it/s]"
     ]
    },
    {
     "name": "stdout",
     "output_type": "stream",
     "text": [
      "mean_log_p,shapetorch.Size([]), -172.95724487304688\n",
      "mean_log_q.shapetorch.Size([]), -42.19398498535156\n",
      "mean_log_p,shapetorch.Size([]), -163.77828979492188\n",
      "mean_log_q.shapetorch.Size([]), -42.466278076171875\n"
     ]
    },
    {
     "name": "stderr",
     "output_type": "stream",
     "text": [
      " 20%|██        | 190/938 [00:12<00:51, 14.42it/s]"
     ]
    },
    {
     "name": "stdout",
     "output_type": "stream",
     "text": [
      "mean_log_p,shapetorch.Size([]), -170.71881103515625\n",
      "mean_log_q.shapetorch.Size([]), -43.08710861206055\n",
      "mean_log_p,shapetorch.Size([]), -177.4139404296875\n",
      "mean_log_q.shapetorch.Size([]), -41.65476989746094\n"
     ]
    },
    {
     "name": "stderr",
     "output_type": "stream",
     "text": [
      " 20%|██        | 192/938 [00:12<00:52, 14.19it/s]"
     ]
    },
    {
     "name": "stdout",
     "output_type": "stream",
     "text": [
      "mean_log_p,shapetorch.Size([]), -173.69781494140625\n",
      "mean_log_q.shapetorch.Size([]), -41.46076202392578\n",
      "mean_log_p,shapetorch.Size([]), -171.49526977539062\n",
      "mean_log_q.shapetorch.Size([]), -42.36425018310547\n"
     ]
    },
    {
     "name": "stderr",
     "output_type": "stream",
     "text": [
      " 21%|██        | 194/938 [00:12<00:53, 13.99it/s]"
     ]
    },
    {
     "name": "stdout",
     "output_type": "stream",
     "text": [
      "mean_log_p,shapetorch.Size([]), -180.38037109375\n",
      "mean_log_q.shapetorch.Size([]), -42.08191680908203\n",
      "mean_log_p,shapetorch.Size([]), -169.7808074951172\n",
      "mean_log_q.shapetorch.Size([]), -41.67216110229492\n"
     ]
    },
    {
     "name": "stderr",
     "output_type": "stream",
     "text": [
      " 21%|██        | 196/938 [00:12<00:53, 13.77it/s]"
     ]
    },
    {
     "name": "stdout",
     "output_type": "stream",
     "text": [
      "mean_log_p,shapetorch.Size([]), -170.2041015625\n",
      "mean_log_q.shapetorch.Size([]), -41.754547119140625\n",
      "mean_log_p,shapetorch.Size([]), -165.44358825683594\n",
      "mean_log_q.shapetorch.Size([]), -43.338653564453125\n"
     ]
    },
    {
     "name": "stderr",
     "output_type": "stream",
     "text": [
      " 21%|██        | 198/938 [00:12<00:54, 13.63it/s]"
     ]
    },
    {
     "name": "stdout",
     "output_type": "stream",
     "text": [
      "mean_log_p,shapetorch.Size([]), -171.38623046875\n",
      "mean_log_q.shapetorch.Size([]), -42.02489471435547\n",
      "mean_log_p,shapetorch.Size([]), -168.80343627929688\n",
      "mean_log_q.shapetorch.Size([]), -42.774715423583984\n"
     ]
    },
    {
     "name": "stderr",
     "output_type": "stream",
     "text": [
      " 21%|██▏       | 200/938 [00:13<00:54, 13.54it/s]"
     ]
    },
    {
     "name": "stdout",
     "output_type": "stream",
     "text": [
      "mean_log_p,shapetorch.Size([]), -165.21795654296875\n",
      "mean_log_q.shapetorch.Size([]), -43.880619049072266\n",
      "mean_log_p,shapetorch.Size([]), -172.3234100341797\n",
      "mean_log_q.shapetorch.Size([]), -43.729736328125\n"
     ]
    },
    {
     "name": "stderr",
     "output_type": "stream",
     "text": [
      " 22%|██▏       | 202/938 [00:13<00:54, 13.46it/s]"
     ]
    },
    {
     "name": "stdout",
     "output_type": "stream",
     "text": [
      "mean_log_p,shapetorch.Size([]), -178.48977661132812\n",
      "mean_log_q.shapetorch.Size([]), -43.33747100830078\n",
      "mean_log_p,shapetorch.Size([]), -170.19622802734375\n",
      "mean_log_q.shapetorch.Size([]), -43.68183135986328\n"
     ]
    },
    {
     "name": "stderr",
     "output_type": "stream",
     "text": [
      " 22%|██▏       | 204/938 [00:13<00:54, 13.41it/s]"
     ]
    },
    {
     "name": "stdout",
     "output_type": "stream",
     "text": [
      "mean_log_p,shapetorch.Size([]), -165.78158569335938\n",
      "mean_log_q.shapetorch.Size([]), -43.0003776550293\n",
      "mean_log_p,shapetorch.Size([]), -181.7044677734375\n",
      "mean_log_q.shapetorch.Size([]), -42.24420166015625\n"
     ]
    },
    {
     "name": "stderr",
     "output_type": "stream",
     "text": [
      " 22%|██▏       | 206/938 [00:13<00:54, 13.34it/s]"
     ]
    },
    {
     "name": "stdout",
     "output_type": "stream",
     "text": [
      "mean_log_p,shapetorch.Size([]), -167.08352661132812\n",
      "mean_log_q.shapetorch.Size([]), -42.73411560058594\n",
      "mean_log_p,shapetorch.Size([]), -165.1828155517578\n",
      "mean_log_q.shapetorch.Size([]), -42.39889907836914\n"
     ]
    },
    {
     "name": "stderr",
     "output_type": "stream",
     "text": [
      " 22%|██▏       | 210/938 [00:13<00:41, 17.48it/s]"
     ]
    },
    {
     "name": "stdout",
     "output_type": "stream",
     "text": [
      "mean_log_p,shapetorch.Size([]), -160.05905151367188\n",
      "mean_log_q.shapetorch.Size([]), -42.218387603759766\n",
      "mean_log_p,shapetorch.Size([]), -163.1180877685547\n",
      "mean_log_q.shapetorch.Size([]), -42.34984588623047\n"
     ]
    },
    {
     "name": "stderr",
     "output_type": "stream",
     "text": [
      " 23%|██▎       | 212/938 [00:13<00:44, 16.36it/s]"
     ]
    },
    {
     "name": "stdout",
     "output_type": "stream",
     "text": [
      "mean_log_p,shapetorch.Size([]), -167.17041015625\n",
      "mean_log_q.shapetorch.Size([]), -41.75602340698242\n",
      "mean_log_p,shapetorch.Size([]), -166.84164428710938\n",
      "mean_log_q.shapetorch.Size([]), -41.534263610839844\n"
     ]
    },
    {
     "name": "stderr",
     "output_type": "stream",
     "text": [
      " 23%|██▎       | 214/938 [00:13<00:46, 15.59it/s]"
     ]
    },
    {
     "name": "stdout",
     "output_type": "stream",
     "text": [
      "mean_log_p,shapetorch.Size([]), -166.12725830078125\n",
      "mean_log_q.shapetorch.Size([]), -42.25596618652344\n",
      "mean_log_p,shapetorch.Size([]), -167.9434356689453\n",
      "mean_log_q.shapetorch.Size([]), -42.245975494384766\n"
     ]
    },
    {
     "name": "stderr",
     "output_type": "stream",
     "text": [
      " 23%|██▎       | 216/938 [00:14<00:47, 15.05it/s]"
     ]
    },
    {
     "name": "stdout",
     "output_type": "stream",
     "text": [
      "mean_log_p,shapetorch.Size([]), -162.77682495117188\n",
      "mean_log_q.shapetorch.Size([]), -42.275238037109375\n",
      "mean_log_p,shapetorch.Size([]), -174.17938232421875\n",
      "mean_log_q.shapetorch.Size([]), -42.252811431884766\n"
     ]
    },
    {
     "name": "stderr",
     "output_type": "stream",
     "text": [
      " 23%|██▎       | 218/938 [00:14<00:49, 14.60it/s]"
     ]
    },
    {
     "name": "stdout",
     "output_type": "stream",
     "text": [
      "mean_log_p,shapetorch.Size([]), -167.43753051757812\n",
      "mean_log_q.shapetorch.Size([]), -43.21625518798828\n",
      "mean_log_p,shapetorch.Size([]), -175.206787109375\n",
      "mean_log_q.shapetorch.Size([]), -42.157379150390625\n"
     ]
    },
    {
     "name": "stderr",
     "output_type": "stream",
     "text": [
      " 23%|██▎       | 220/938 [00:14<00:50, 14.34it/s]"
     ]
    },
    {
     "name": "stdout",
     "output_type": "stream",
     "text": [
      "mean_log_p,shapetorch.Size([]), -173.86611938476562\n",
      "mean_log_q.shapetorch.Size([]), -43.10322570800781\n",
      "mean_log_p,shapetorch.Size([]), -168.69447326660156\n",
      "mean_log_q.shapetorch.Size([]), -43.140071868896484\n"
     ]
    },
    {
     "name": "stderr",
     "output_type": "stream",
     "text": [
      " 24%|██▎       | 222/938 [00:14<00:50, 14.15it/s]"
     ]
    },
    {
     "name": "stdout",
     "output_type": "stream",
     "text": [
      "mean_log_p,shapetorch.Size([]), -175.03892517089844\n",
      "mean_log_q.shapetorch.Size([]), -41.68242645263672\n",
      "mean_log_p,shapetorch.Size([]), -169.9352569580078\n",
      "mean_log_q.shapetorch.Size([]), -42.0841064453125\n"
     ]
    },
    {
     "name": "stderr",
     "output_type": "stream",
     "text": [
      " 24%|██▍       | 224/938 [00:14<00:50, 14.02it/s]"
     ]
    },
    {
     "name": "stdout",
     "output_type": "stream",
     "text": [
      "mean_log_p,shapetorch.Size([]), -170.36708068847656\n",
      "mean_log_q.shapetorch.Size([]), -41.91139602661133\n",
      "mean_log_p,shapetorch.Size([]), -165.6404266357422\n",
      "mean_log_q.shapetorch.Size([]), -41.77906799316406\n"
     ]
    },
    {
     "name": "stderr",
     "output_type": "stream",
     "text": [
      " 24%|██▍       | 226/938 [00:14<00:51, 13.94it/s]"
     ]
    },
    {
     "name": "stdout",
     "output_type": "stream",
     "text": [
      "mean_log_p,shapetorch.Size([]), -168.5863037109375\n",
      "mean_log_q.shapetorch.Size([]), -41.99537658691406\n",
      "mean_log_p,shapetorch.Size([]), -164.3997802734375\n",
      "mean_log_q.shapetorch.Size([]), -42.2904052734375\n"
     ]
    },
    {
     "name": "stderr",
     "output_type": "stream",
     "text": [
      " 24%|██▍       | 228/938 [00:14<00:51, 13.81it/s]"
     ]
    },
    {
     "name": "stdout",
     "output_type": "stream",
     "text": [
      "mean_log_p,shapetorch.Size([]), -170.37258911132812\n",
      "mean_log_q.shapetorch.Size([]), -42.28784942626953\n",
      "mean_log_p,shapetorch.Size([]), -168.9005889892578\n",
      "mean_log_q.shapetorch.Size([]), -40.94782638549805\n"
     ]
    },
    {
     "name": "stderr",
     "output_type": "stream",
     "text": [
      " 25%|██▍       | 230/938 [00:15<00:51, 13.78it/s]"
     ]
    },
    {
     "name": "stdout",
     "output_type": "stream",
     "text": [
      "mean_log_p,shapetorch.Size([]), -165.89166259765625\n",
      "mean_log_q.shapetorch.Size([]), -41.988189697265625\n",
      "mean_log_p,shapetorch.Size([]), -174.97286987304688\n",
      "mean_log_q.shapetorch.Size([]), -42.081668853759766\n"
     ]
    },
    {
     "name": "stderr",
     "output_type": "stream",
     "text": [
      " 25%|██▍       | 232/938 [00:15<00:51, 13.77it/s]"
     ]
    },
    {
     "name": "stdout",
     "output_type": "stream",
     "text": [
      "mean_log_p,shapetorch.Size([]), -171.234375\n",
      "mean_log_q.shapetorch.Size([]), -42.33729553222656\n",
      "mean_log_p,shapetorch.Size([]), -170.74917602539062\n",
      "mean_log_q.shapetorch.Size([]), -42.462059020996094\n"
     ]
    },
    {
     "name": "stderr",
     "output_type": "stream",
     "text": [
      " 25%|██▍       | 234/938 [00:15<00:51, 13.74it/s]"
     ]
    },
    {
     "name": "stdout",
     "output_type": "stream",
     "text": [
      "mean_log_p,shapetorch.Size([]), -170.5362548828125\n",
      "mean_log_q.shapetorch.Size([]), -42.77032470703125\n",
      "mean_log_p,shapetorch.Size([]), -170.63677978515625\n",
      "mean_log_q.shapetorch.Size([]), -42.426246643066406\n"
     ]
    },
    {
     "name": "stderr",
     "output_type": "stream",
     "text": [
      " 25%|██▌       | 236/938 [00:15<00:51, 13.73it/s]"
     ]
    },
    {
     "name": "stdout",
     "output_type": "stream",
     "text": [
      "mean_log_p,shapetorch.Size([]), -169.9373779296875\n",
      "mean_log_q.shapetorch.Size([]), -43.367618560791016\n",
      "mean_log_p,shapetorch.Size([]), -174.275146484375\n",
      "mean_log_q.shapetorch.Size([]), -41.65043640136719\n"
     ]
    },
    {
     "name": "stderr",
     "output_type": "stream",
     "text": [
      " 26%|██▌       | 240/938 [00:15<00:39, 17.85it/s]"
     ]
    },
    {
     "name": "stdout",
     "output_type": "stream",
     "text": [
      "mean_log_p,shapetorch.Size([]), -171.93353271484375\n",
      "mean_log_q.shapetorch.Size([]), -42.118614196777344\n",
      "mean_log_p,shapetorch.Size([]), -175.5209197998047\n",
      "mean_log_q.shapetorch.Size([]), -42.494956970214844\n"
     ]
    },
    {
     "name": "stderr",
     "output_type": "stream",
     "text": [
      " 26%|██▌       | 242/938 [00:15<00:41, 16.61it/s]"
     ]
    },
    {
     "name": "stdout",
     "output_type": "stream",
     "text": [
      "mean_log_p,shapetorch.Size([]), -175.4198760986328\n",
      "mean_log_q.shapetorch.Size([]), -41.65776062011719\n",
      "mean_log_p,shapetorch.Size([]), -180.26206970214844\n",
      "mean_log_q.shapetorch.Size([]), -41.90766143798828\n"
     ]
    },
    {
     "name": "stderr",
     "output_type": "stream",
     "text": [
      " 26%|██▌       | 244/938 [00:15<00:44, 15.75it/s]"
     ]
    },
    {
     "name": "stdout",
     "output_type": "stream",
     "text": [
      "mean_log_p,shapetorch.Size([]), -170.45242309570312\n",
      "mean_log_q.shapetorch.Size([]), -42.39955139160156\n",
      "mean_log_p,shapetorch.Size([]), -161.24752807617188\n",
      "mean_log_q.shapetorch.Size([]), -43.06736755371094\n"
     ]
    },
    {
     "name": "stderr",
     "output_type": "stream",
     "text": [
      " 26%|██▌       | 246/938 [00:16<00:45, 15.15it/s]"
     ]
    },
    {
     "name": "stdout",
     "output_type": "stream",
     "text": [
      "mean_log_p,shapetorch.Size([]), -171.48236083984375\n",
      "mean_log_q.shapetorch.Size([]), -42.887611389160156\n",
      "mean_log_p,shapetorch.Size([]), -182.76077270507812\n",
      "mean_log_q.shapetorch.Size([]), -42.30121612548828\n"
     ]
    },
    {
     "name": "stderr",
     "output_type": "stream",
     "text": [
      " 26%|██▋       | 248/938 [00:16<00:46, 14.72it/s]"
     ]
    },
    {
     "name": "stdout",
     "output_type": "stream",
     "text": [
      "mean_log_p,shapetorch.Size([]), -168.73777770996094\n",
      "mean_log_q.shapetorch.Size([]), -42.58295822143555\n",
      "mean_log_p,shapetorch.Size([]), -164.70095825195312\n",
      "mean_log_q.shapetorch.Size([]), -42.52322769165039\n"
     ]
    },
    {
     "name": "stderr",
     "output_type": "stream",
     "text": [
      " 27%|██▋       | 250/938 [00:16<00:47, 14.42it/s]"
     ]
    },
    {
     "name": "stdout",
     "output_type": "stream",
     "text": [
      "mean_log_p,shapetorch.Size([]), -166.18218994140625\n",
      "mean_log_q.shapetorch.Size([]), -42.05388641357422\n",
      "mean_log_p,shapetorch.Size([]), -162.53945922851562\n",
      "mean_log_q.shapetorch.Size([]), -42.34803771972656\n"
     ]
    },
    {
     "name": "stderr",
     "output_type": "stream",
     "text": [
      " 27%|██▋       | 252/938 [00:16<00:48, 14.20it/s]"
     ]
    },
    {
     "name": "stdout",
     "output_type": "stream",
     "text": [
      "mean_log_p,shapetorch.Size([]), -170.5513458251953\n",
      "mean_log_q.shapetorch.Size([]), -42.130271911621094\n",
      "mean_log_p,shapetorch.Size([]), -163.69244384765625\n",
      "mean_log_q.shapetorch.Size([]), -42.61107635498047\n"
     ]
    },
    {
     "name": "stderr",
     "output_type": "stream",
     "text": [
      " 27%|██▋       | 254/938 [00:16<00:48, 14.04it/s]"
     ]
    },
    {
     "name": "stdout",
     "output_type": "stream",
     "text": [
      "mean_log_p,shapetorch.Size([]), -169.09466552734375\n",
      "mean_log_q.shapetorch.Size([]), -43.169654846191406\n",
      "mean_log_p,shapetorch.Size([]), -163.31573486328125\n",
      "mean_log_q.shapetorch.Size([]), -42.31726837158203\n"
     ]
    },
    {
     "name": "stderr",
     "output_type": "stream",
     "text": [
      " 27%|██▋       | 256/938 [00:16<00:49, 13.83it/s]"
     ]
    },
    {
     "name": "stdout",
     "output_type": "stream",
     "text": [
      "mean_log_p,shapetorch.Size([]), -169.15916442871094\n",
      "mean_log_q.shapetorch.Size([]), -42.313045501708984\n",
      "mean_log_p,shapetorch.Size([]), -163.64451599121094\n",
      "mean_log_q.shapetorch.Size([]), -42.315162658691406\n"
     ]
    },
    {
     "name": "stderr",
     "output_type": "stream",
     "text": [
      " 28%|██▊       | 258/938 [00:17<00:49, 13.64it/s]"
     ]
    },
    {
     "name": "stdout",
     "output_type": "stream",
     "text": [
      "mean_log_p,shapetorch.Size([]), -168.3182830810547\n",
      "mean_log_q.shapetorch.Size([]), -41.99451446533203\n",
      "mean_log_p,shapetorch.Size([]), -173.30767822265625\n",
      "mean_log_q.shapetorch.Size([]), -42.94178771972656\n"
     ]
    },
    {
     "name": "stderr",
     "output_type": "stream",
     "text": [
      " 28%|██▊       | 260/938 [00:17<00:49, 13.61it/s]"
     ]
    },
    {
     "name": "stdout",
     "output_type": "stream",
     "text": [
      "mean_log_p,shapetorch.Size([]), -168.6991424560547\n",
      "mean_log_q.shapetorch.Size([]), -42.51256561279297\n",
      "mean_log_p,shapetorch.Size([]), -170.97076416015625\n",
      "mean_log_q.shapetorch.Size([]), -42.357608795166016\n"
     ]
    },
    {
     "name": "stderr",
     "output_type": "stream",
     "text": [
      " 28%|██▊       | 262/938 [00:17<00:50, 13.52it/s]"
     ]
    },
    {
     "name": "stdout",
     "output_type": "stream",
     "text": [
      "mean_log_p,shapetorch.Size([]), -171.79644775390625\n",
      "mean_log_q.shapetorch.Size([]), -42.292171478271484\n",
      "mean_log_p,shapetorch.Size([]), -160.32791137695312\n",
      "mean_log_q.shapetorch.Size([]), -42.57505798339844\n"
     ]
    },
    {
     "name": "stderr",
     "output_type": "stream",
     "text": [
      " 28%|██▊       | 264/938 [00:17<00:49, 13.51it/s]"
     ]
    },
    {
     "name": "stdout",
     "output_type": "stream",
     "text": [
      "mean_log_p,shapetorch.Size([]), -171.00555419921875\n",
      "mean_log_q.shapetorch.Size([]), -41.629493713378906\n",
      "mean_log_p,shapetorch.Size([]), -177.5526123046875\n",
      "mean_log_q.shapetorch.Size([]), -42.546295166015625\n"
     ]
    },
    {
     "name": "stderr",
     "output_type": "stream",
     "text": [
      " 28%|██▊       | 266/938 [00:17<00:49, 13.50it/s]"
     ]
    },
    {
     "name": "stdout",
     "output_type": "stream",
     "text": [
      "mean_log_p,shapetorch.Size([]), -164.28884887695312\n",
      "mean_log_q.shapetorch.Size([]), -42.18013000488281\n",
      "mean_log_p,shapetorch.Size([]), -177.33233642578125\n",
      "mean_log_q.shapetorch.Size([]), -41.98888397216797\n"
     ]
    },
    {
     "name": "stderr",
     "output_type": "stream",
     "text": [
      " 29%|██▊       | 268/938 [00:17<00:49, 13.43it/s]"
     ]
    },
    {
     "name": "stdout",
     "output_type": "stream",
     "text": [
      "mean_log_p,shapetorch.Size([]), -168.0860137939453\n",
      "mean_log_q.shapetorch.Size([]), -42.05101013183594\n",
      "mean_log_p,shapetorch.Size([]), -171.43096923828125\n",
      "mean_log_q.shapetorch.Size([]), -42.97026824951172\n"
     ]
    },
    {
     "name": "stderr",
     "output_type": "stream",
     "text": [
      " 29%|██▉       | 272/938 [00:17<00:38, 17.44it/s]"
     ]
    },
    {
     "name": "stdout",
     "output_type": "stream",
     "text": [
      "mean_log_p,shapetorch.Size([]), -168.88580322265625\n",
      "mean_log_q.shapetorch.Size([]), -42.1785888671875\n",
      "mean_log_p,shapetorch.Size([]), -171.14422607421875\n",
      "mean_log_q.shapetorch.Size([]), -41.09709930419922\n"
     ]
    },
    {
     "name": "stderr",
     "output_type": "stream",
     "text": [
      " 29%|██▉       | 274/938 [00:18<00:40, 16.29it/s]"
     ]
    },
    {
     "name": "stdout",
     "output_type": "stream",
     "text": [
      "mean_log_p,shapetorch.Size([]), -168.69253540039062\n",
      "mean_log_q.shapetorch.Size([]), -41.349491119384766\n",
      "mean_log_p,shapetorch.Size([]), -165.77444458007812\n",
      "mean_log_q.shapetorch.Size([]), -40.884185791015625\n"
     ]
    },
    {
     "name": "stderr",
     "output_type": "stream",
     "text": [
      " 29%|██▉       | 276/938 [00:18<00:43, 15.34it/s]"
     ]
    },
    {
     "name": "stdout",
     "output_type": "stream",
     "text": [
      "mean_log_p,shapetorch.Size([]), -180.38336181640625\n",
      "mean_log_q.shapetorch.Size([]), -42.321964263916016\n",
      "mean_log_p,shapetorch.Size([]), -165.18136596679688\n",
      "mean_log_q.shapetorch.Size([]), -43.08917236328125\n",
      "mean_log_p,shapetorch.Size([]), -170.32113647460938\n",
      "mean_log_q.shapetorch.Size([]), -41.994606018066406\n"
     ]
    },
    {
     "name": "stderr",
     "output_type": "stream",
     "text": [
      " 30%|██▉       | 278/938 [00:18<00:46, 14.30it/s]"
     ]
    },
    {
     "name": "stdout",
     "output_type": "stream",
     "text": [
      "mean_log_p,shapetorch.Size([]), -163.9088134765625\n",
      "mean_log_q.shapetorch.Size([]), -42.48417663574219\n",
      "mean_log_p,shapetorch.Size([]), -164.70733642578125\n",
      "mean_log_q.shapetorch.Size([]), -41.67350769042969\n"
     ]
    },
    {
     "name": "stderr",
     "output_type": "stream",
     "text": [
      " 30%|██▉       | 280/938 [00:18<00:47, 13.73it/s]"
     ]
    },
    {
     "name": "stdout",
     "output_type": "stream",
     "text": [
      "mean_log_p,shapetorch.Size([]), -171.37637329101562\n",
      "mean_log_q.shapetorch.Size([]), -42.436302185058594\n",
      "mean_log_p,shapetorch.Size([]), -165.48252868652344\n",
      "mean_log_q.shapetorch.Size([]), -42.37308883666992\n"
     ]
    },
    {
     "name": "stderr",
     "output_type": "stream",
     "text": [
      " 30%|███       | 282/938 [00:18<00:50, 13.11it/s]"
     ]
    },
    {
     "name": "stdout",
     "output_type": "stream",
     "text": [
      "mean_log_p,shapetorch.Size([]), -170.12869262695312\n",
      "mean_log_q.shapetorch.Size([]), -43.3889274597168\n",
      "mean_log_p,shapetorch.Size([]), -168.02951049804688\n",
      "mean_log_q.shapetorch.Size([]), -42.67939758300781\n"
     ]
    },
    {
     "name": "stderr",
     "output_type": "stream",
     "text": [
      " 30%|███       | 284/938 [00:18<00:49, 13.09it/s]"
     ]
    },
    {
     "name": "stdout",
     "output_type": "stream",
     "text": [
      "mean_log_p,shapetorch.Size([]), -168.96408081054688\n",
      "mean_log_q.shapetorch.Size([]), -42.52703094482422\n",
      "mean_log_p,shapetorch.Size([]), -173.93240356445312\n",
      "mean_log_q.shapetorch.Size([]), -42.547733306884766\n"
     ]
    },
    {
     "name": "stderr",
     "output_type": "stream",
     "text": [
      " 30%|███       | 286/938 [00:19<00:51, 12.72it/s]"
     ]
    },
    {
     "name": "stdout",
     "output_type": "stream",
     "text": [
      "mean_log_p,shapetorch.Size([]), -169.36593627929688\n",
      "mean_log_q.shapetorch.Size([]), -42.5576057434082\n",
      "mean_log_p,shapetorch.Size([]), -167.79803466796875\n",
      "mean_log_q.shapetorch.Size([]), -42.37596893310547\n"
     ]
    },
    {
     "name": "stderr",
     "output_type": "stream",
     "text": [
      " 31%|███       | 288/938 [00:19<00:52, 12.47it/s]"
     ]
    },
    {
     "name": "stdout",
     "output_type": "stream",
     "text": [
      "mean_log_p,shapetorch.Size([]), -173.3617706298828\n",
      "mean_log_q.shapetorch.Size([]), -41.94983673095703\n",
      "mean_log_p,shapetorch.Size([]), -170.70175170898438\n",
      "mean_log_q.shapetorch.Size([]), -42.303977966308594\n"
     ]
    },
    {
     "name": "stderr",
     "output_type": "stream",
     "text": [
      " 31%|███       | 290/938 [00:19<00:52, 12.33it/s]"
     ]
    },
    {
     "name": "stdout",
     "output_type": "stream",
     "text": [
      "mean_log_p,shapetorch.Size([]), -175.27362060546875\n",
      "mean_log_q.shapetorch.Size([]), -40.53219985961914\n",
      "mean_log_p,shapetorch.Size([]), -168.6507568359375\n",
      "mean_log_q.shapetorch.Size([]), -41.80999755859375\n"
     ]
    },
    {
     "name": "stderr",
     "output_type": "stream",
     "text": [
      " 31%|███       | 292/938 [00:19<00:52, 12.33it/s]"
     ]
    },
    {
     "name": "stdout",
     "output_type": "stream",
     "text": [
      "mean_log_p,shapetorch.Size([]), -162.70176696777344\n",
      "mean_log_q.shapetorch.Size([]), -41.860145568847656\n",
      "mean_log_p,shapetorch.Size([]), -165.81063842773438\n",
      "mean_log_q.shapetorch.Size([]), -41.21149444580078\n"
     ]
    },
    {
     "name": "stderr",
     "output_type": "stream",
     "text": [
      " 31%|███▏      | 294/938 [00:19<00:52, 12.19it/s]"
     ]
    },
    {
     "name": "stdout",
     "output_type": "stream",
     "text": [
      "mean_log_p,shapetorch.Size([]), -171.7777099609375\n",
      "mean_log_q.shapetorch.Size([]), -42.006710052490234\n",
      "mean_log_p,shapetorch.Size([]), -172.01705932617188\n",
      "mean_log_q.shapetorch.Size([]), -42.81547164916992\n"
     ]
    },
    {
     "name": "stderr",
     "output_type": "stream",
     "text": [
      " 32%|███▏      | 296/938 [00:19<00:52, 12.23it/s]"
     ]
    },
    {
     "name": "stdout",
     "output_type": "stream",
     "text": [
      "mean_log_p,shapetorch.Size([]), -163.9691162109375\n",
      "mean_log_q.shapetorch.Size([]), -42.587608337402344\n",
      "mean_log_p,shapetorch.Size([]), -171.45462036132812\n",
      "mean_log_q.shapetorch.Size([]), -42.597137451171875\n"
     ]
    },
    {
     "name": "stderr",
     "output_type": "stream",
     "text": [
      " 32%|███▏      | 298/938 [00:20<00:51, 12.38it/s]"
     ]
    },
    {
     "name": "stdout",
     "output_type": "stream",
     "text": [
      "mean_log_p,shapetorch.Size([]), -177.97462463378906\n",
      "mean_log_q.shapetorch.Size([]), -42.61351013183594\n",
      "mean_log_p,shapetorch.Size([]), -171.76675415039062\n",
      "mean_log_q.shapetorch.Size([]), -42.17395782470703\n"
     ]
    },
    {
     "name": "stderr",
     "output_type": "stream",
     "text": [
      " 32%|███▏      | 300/938 [00:20<00:52, 12.24it/s]"
     ]
    },
    {
     "name": "stdout",
     "output_type": "stream",
     "text": [
      "mean_log_p,shapetorch.Size([]), -166.04226684570312\n",
      "mean_log_q.shapetorch.Size([]), -41.998695373535156\n",
      "mean_log_p,shapetorch.Size([]), -179.6455535888672\n",
      "mean_log_q.shapetorch.Size([]), -41.922752380371094\n"
     ]
    },
    {
     "name": "stderr",
     "output_type": "stream",
     "text": [
      " 32%|███▏      | 302/938 [00:20<00:51, 12.25it/s]"
     ]
    },
    {
     "name": "stdout",
     "output_type": "stream",
     "text": [
      "mean_log_p,shapetorch.Size([]), -162.2762908935547\n",
      "mean_log_q.shapetorch.Size([]), -42.09725570678711\n",
      "mean_log_p,shapetorch.Size([]), -170.46563720703125\n",
      "mean_log_q.shapetorch.Size([]), -41.320308685302734\n"
     ]
    },
    {
     "name": "stderr",
     "output_type": "stream",
     "text": [
      " 33%|███▎      | 306/938 [00:20<00:40, 15.67it/s]"
     ]
    },
    {
     "name": "stdout",
     "output_type": "stream",
     "text": [
      "mean_log_p,shapetorch.Size([]), -163.12918090820312\n",
      "mean_log_q.shapetorch.Size([]), -42.183570861816406\n",
      "mean_log_p,shapetorch.Size([]), -168.744873046875\n",
      "mean_log_q.shapetorch.Size([]), -41.938804626464844\n"
     ]
    },
    {
     "name": "stderr",
     "output_type": "stream",
     "text": [
      " 33%|███▎      | 308/938 [00:20<00:42, 14.85it/s]"
     ]
    },
    {
     "name": "stdout",
     "output_type": "stream",
     "text": [
      "mean_log_p,shapetorch.Size([]), -164.68031311035156\n",
      "mean_log_q.shapetorch.Size([]), -41.17580032348633\n",
      "mean_log_p,shapetorch.Size([]), -167.4497528076172\n",
      "mean_log_q.shapetorch.Size([]), -41.91436767578125\n"
     ]
    },
    {
     "name": "stderr",
     "output_type": "stream",
     "text": [
      " 33%|███▎      | 310/938 [00:20<00:44, 14.03it/s]"
     ]
    },
    {
     "name": "stdout",
     "output_type": "stream",
     "text": [
      "mean_log_p,shapetorch.Size([]), -160.87521362304688\n",
      "mean_log_q.shapetorch.Size([]), -41.401878356933594\n",
      "mean_log_p,shapetorch.Size([]), -169.4468994140625\n",
      "mean_log_q.shapetorch.Size([]), -41.884403228759766\n"
     ]
    },
    {
     "name": "stderr",
     "output_type": "stream",
     "text": [
      " 33%|███▎      | 312/938 [00:21<00:46, 13.35it/s]"
     ]
    },
    {
     "name": "stdout",
     "output_type": "stream",
     "text": [
      "mean_log_p,shapetorch.Size([]), -168.19334411621094\n",
      "mean_log_q.shapetorch.Size([]), -42.739219665527344\n",
      "mean_log_p,shapetorch.Size([]), -164.9984893798828\n",
      "mean_log_q.shapetorch.Size([]), -43.38097381591797\n"
     ]
    },
    {
     "name": "stderr",
     "output_type": "stream",
     "text": [
      " 33%|███▎      | 314/938 [00:21<00:48, 12.84it/s]"
     ]
    },
    {
     "name": "stdout",
     "output_type": "stream",
     "text": [
      "mean_log_p,shapetorch.Size([]), -172.5682373046875\n",
      "mean_log_q.shapetorch.Size([]), -42.566139221191406\n",
      "mean_log_p,shapetorch.Size([]), -169.93438720703125\n",
      "mean_log_q.shapetorch.Size([]), -42.85832977294922\n"
     ]
    },
    {
     "name": "stderr",
     "output_type": "stream",
     "text": [
      " 34%|███▎      | 316/938 [00:21<00:49, 12.66it/s]"
     ]
    },
    {
     "name": "stdout",
     "output_type": "stream",
     "text": [
      "mean_log_p,shapetorch.Size([]), -166.86106872558594\n",
      "mean_log_q.shapetorch.Size([]), -42.32607650756836\n",
      "mean_log_p,shapetorch.Size([]), -170.2969970703125\n",
      "mean_log_q.shapetorch.Size([]), -42.14765167236328\n"
     ]
    },
    {
     "name": "stderr",
     "output_type": "stream",
     "text": [
      " 34%|███▍      | 318/938 [00:21<00:49, 12.53it/s]"
     ]
    },
    {
     "name": "stdout",
     "output_type": "stream",
     "text": [
      "mean_log_p,shapetorch.Size([]), -171.4101104736328\n",
      "mean_log_q.shapetorch.Size([]), -42.381465911865234\n",
      "mean_log_p,shapetorch.Size([]), -167.75079345703125\n",
      "mean_log_q.shapetorch.Size([]), -42.27967071533203\n"
     ]
    },
    {
     "name": "stderr",
     "output_type": "stream",
     "text": [
      " 34%|███▍      | 320/938 [00:21<00:49, 12.38it/s]"
     ]
    },
    {
     "name": "stdout",
     "output_type": "stream",
     "text": [
      "mean_log_p,shapetorch.Size([]), -170.62860107421875\n",
      "mean_log_q.shapetorch.Size([]), -42.49915313720703\n",
      "mean_log_p,shapetorch.Size([]), -176.77325439453125\n",
      "mean_log_q.shapetorch.Size([]), -40.53657913208008\n"
     ]
    },
    {
     "name": "stderr",
     "output_type": "stream",
     "text": [
      " 34%|███▍      | 322/938 [00:21<00:49, 12.45it/s]"
     ]
    },
    {
     "name": "stdout",
     "output_type": "stream",
     "text": [
      "mean_log_p,shapetorch.Size([]), -169.14183044433594\n",
      "mean_log_q.shapetorch.Size([]), -41.25122833251953\n",
      "mean_log_p,shapetorch.Size([]), -173.3353729248047\n",
      "mean_log_q.shapetorch.Size([]), -40.47963333129883\n"
     ]
    },
    {
     "name": "stderr",
     "output_type": "stream",
     "text": [
      " 35%|███▍      | 324/938 [00:21<00:49, 12.35it/s]"
     ]
    },
    {
     "name": "stdout",
     "output_type": "stream",
     "text": [
      "mean_log_p,shapetorch.Size([]), -168.16873168945312\n",
      "mean_log_q.shapetorch.Size([]), -40.92939758300781\n",
      "mean_log_p,shapetorch.Size([]), -166.33863830566406\n",
      "mean_log_q.shapetorch.Size([]), -41.15198516845703\n"
     ]
    },
    {
     "name": "stderr",
     "output_type": "stream",
     "text": [
      " 35%|███▍      | 326/938 [00:22<00:50, 12.12it/s]"
     ]
    },
    {
     "name": "stdout",
     "output_type": "stream",
     "text": [
      "mean_log_p,shapetorch.Size([]), -170.59469604492188\n",
      "mean_log_q.shapetorch.Size([]), -40.05683898925781\n",
      "mean_log_p,shapetorch.Size([]), -172.4799346923828\n",
      "mean_log_q.shapetorch.Size([]), -40.99305725097656\n"
     ]
    },
    {
     "name": "stderr",
     "output_type": "stream",
     "text": [
      " 35%|███▍      | 328/938 [00:22<00:50, 12.07it/s]"
     ]
    },
    {
     "name": "stdout",
     "output_type": "stream",
     "text": [
      "mean_log_p,shapetorch.Size([]), -170.9674835205078\n",
      "mean_log_q.shapetorch.Size([]), -41.83930969238281\n",
      "mean_log_p,shapetorch.Size([]), -172.09521484375\n",
      "mean_log_q.shapetorch.Size([]), -41.9749870300293\n"
     ]
    },
    {
     "name": "stderr",
     "output_type": "stream",
     "text": [
      " 35%|███▌      | 330/938 [00:22<00:50, 11.94it/s]"
     ]
    },
    {
     "name": "stdout",
     "output_type": "stream",
     "text": [
      "mean_log_p,shapetorch.Size([]), -173.50070190429688\n",
      "mean_log_q.shapetorch.Size([]), -42.143638610839844\n",
      "mean_log_p,shapetorch.Size([]), -169.82888793945312\n",
      "mean_log_q.shapetorch.Size([]), -43.125755310058594\n"
     ]
    },
    {
     "name": "stderr",
     "output_type": "stream",
     "text": [
      " 35%|███▌      | 332/938 [00:22<00:50, 11.95it/s]"
     ]
    },
    {
     "name": "stdout",
     "output_type": "stream",
     "text": [
      "mean_log_p,shapetorch.Size([]), -163.23028564453125\n",
      "mean_log_q.shapetorch.Size([]), -43.503353118896484\n",
      "mean_log_p,shapetorch.Size([]), -182.44192504882812\n",
      "mean_log_q.shapetorch.Size([]), -42.2347297668457\n"
     ]
    },
    {
     "name": "stderr",
     "output_type": "stream",
     "text": [
      " 36%|███▌      | 334/938 [00:22<00:50, 11.88it/s]"
     ]
    },
    {
     "name": "stdout",
     "output_type": "stream",
     "text": [
      "mean_log_p,shapetorch.Size([]), -173.31280517578125\n",
      "mean_log_q.shapetorch.Size([]), -42.59074401855469\n",
      "mean_log_p,shapetorch.Size([]), -169.90756225585938\n",
      "mean_log_q.shapetorch.Size([]), -42.77479934692383\n"
     ]
    },
    {
     "name": "stderr",
     "output_type": "stream",
     "text": [
      " 36%|███▌      | 336/938 [00:23<00:50, 11.91it/s]"
     ]
    },
    {
     "name": "stdout",
     "output_type": "stream",
     "text": [
      "mean_log_p,shapetorch.Size([]), -167.02426147460938\n",
      "mean_log_q.shapetorch.Size([]), -42.34933090209961\n",
      "mean_log_p,shapetorch.Size([]), -166.59457397460938\n",
      "mean_log_q.shapetorch.Size([]), -41.316551208496094\n"
     ]
    },
    {
     "name": "stderr",
     "output_type": "stream",
     "text": [
      " 36%|███▌      | 338/938 [00:23<00:50, 11.89it/s]"
     ]
    },
    {
     "name": "stdout",
     "output_type": "stream",
     "text": [
      "mean_log_p,shapetorch.Size([]), -174.88258361816406\n",
      "mean_log_q.shapetorch.Size([]), -42.28289031982422\n",
      "mean_log_p,shapetorch.Size([]), -161.44992065429688\n",
      "mean_log_q.shapetorch.Size([]), -41.30712890625\n"
     ]
    },
    {
     "name": "stderr",
     "output_type": "stream",
     "text": [
      " 36%|███▋      | 342/938 [00:23<00:37, 15.83it/s]"
     ]
    },
    {
     "name": "stdout",
     "output_type": "stream",
     "text": [
      "mean_log_p,shapetorch.Size([]), -165.11074829101562\n",
      "mean_log_q.shapetorch.Size([]), -41.40154266357422\n",
      "mean_log_p,shapetorch.Size([]), -166.24766540527344\n",
      "mean_log_q.shapetorch.Size([]), -41.193302154541016\n"
     ]
    },
    {
     "name": "stderr",
     "output_type": "stream",
     "text": [
      " 37%|███▋      | 344/938 [00:23<00:40, 14.71it/s]"
     ]
    },
    {
     "name": "stdout",
     "output_type": "stream",
     "text": [
      "mean_log_p,shapetorch.Size([]), -162.21835327148438\n",
      "mean_log_q.shapetorch.Size([]), -40.452205657958984\n",
      "mean_log_p,shapetorch.Size([]), -167.13021850585938\n",
      "mean_log_q.shapetorch.Size([]), -41.23209762573242\n"
     ]
    },
    {
     "name": "stderr",
     "output_type": "stream",
     "text": [
      " 37%|███▋      | 346/938 [00:23<00:43, 13.71it/s]"
     ]
    },
    {
     "name": "stdout",
     "output_type": "stream",
     "text": [
      "mean_log_p,shapetorch.Size([]), -161.68865966796875\n",
      "mean_log_q.shapetorch.Size([]), -41.68006134033203\n",
      "mean_log_p,shapetorch.Size([]), -157.88241577148438\n",
      "mean_log_q.shapetorch.Size([]), -42.11542510986328\n"
     ]
    },
    {
     "name": "stderr",
     "output_type": "stream",
     "text": [
      " 37%|███▋      | 348/938 [00:23<00:44, 13.22it/s]"
     ]
    },
    {
     "name": "stdout",
     "output_type": "stream",
     "text": [
      "mean_log_p,shapetorch.Size([]), -179.98162841796875\n",
      "mean_log_q.shapetorch.Size([]), -42.729339599609375\n",
      "mean_log_p,shapetorch.Size([]), -166.91946411132812\n",
      "mean_log_q.shapetorch.Size([]), -42.71870422363281\n"
     ]
    },
    {
     "name": "stderr",
     "output_type": "stream",
     "text": [
      " 37%|███▋      | 350/938 [00:24<00:46, 12.76it/s]"
     ]
    },
    {
     "name": "stdout",
     "output_type": "stream",
     "text": [
      "mean_log_p,shapetorch.Size([]), -169.0692138671875\n",
      "mean_log_q.shapetorch.Size([]), -42.20152282714844\n",
      "mean_log_p,shapetorch.Size([]), -172.14288330078125\n",
      "mean_log_q.shapetorch.Size([]), -42.394203186035156\n"
     ]
    },
    {
     "name": "stderr",
     "output_type": "stream",
     "text": [
      " 38%|███▊      | 352/938 [00:24<00:47, 12.39it/s]"
     ]
    },
    {
     "name": "stdout",
     "output_type": "stream",
     "text": [
      "mean_log_p,shapetorch.Size([]), -162.22560119628906\n",
      "mean_log_q.shapetorch.Size([]), -41.81316375732422\n",
      "mean_log_p,shapetorch.Size([]), -177.84799194335938\n",
      "mean_log_q.shapetorch.Size([]), -42.39930725097656\n"
     ]
    },
    {
     "name": "stderr",
     "output_type": "stream",
     "text": [
      " 38%|███▊      | 354/938 [00:24<00:47, 12.18it/s]"
     ]
    },
    {
     "name": "stdout",
     "output_type": "stream",
     "text": [
      "mean_log_p,shapetorch.Size([]), -170.42526245117188\n",
      "mean_log_q.shapetorch.Size([]), -41.72712326049805\n",
      "mean_log_p,shapetorch.Size([]), -165.10382080078125\n",
      "mean_log_q.shapetorch.Size([]), -42.776878356933594\n"
     ]
    },
    {
     "name": "stderr",
     "output_type": "stream",
     "text": [
      " 38%|███▊      | 356/938 [00:24<00:47, 12.33it/s]"
     ]
    },
    {
     "name": "stdout",
     "output_type": "stream",
     "text": [
      "mean_log_p,shapetorch.Size([]), -166.4166259765625\n",
      "mean_log_q.shapetorch.Size([]), -41.34404373168945\n",
      "mean_log_p,shapetorch.Size([]), -159.82118225097656\n",
      "mean_log_q.shapetorch.Size([]), -42.27204513549805\n"
     ]
    },
    {
     "name": "stderr",
     "output_type": "stream",
     "text": [
      " 38%|███▊      | 358/938 [00:24<00:46, 12.39it/s]"
     ]
    },
    {
     "name": "stdout",
     "output_type": "stream",
     "text": [
      "mean_log_p,shapetorch.Size([]), -163.97286987304688\n",
      "mean_log_q.shapetorch.Size([]), -41.699790954589844\n",
      "mean_log_p,shapetorch.Size([]), -162.03219604492188\n",
      "mean_log_q.shapetorch.Size([]), -41.376197814941406\n"
     ]
    },
    {
     "name": "stderr",
     "output_type": "stream",
     "text": [
      " 38%|███▊      | 360/938 [00:24<00:47, 12.25it/s]"
     ]
    },
    {
     "name": "stdout",
     "output_type": "stream",
     "text": [
      "mean_log_p,shapetorch.Size([]), -172.31446838378906\n",
      "mean_log_q.shapetorch.Size([]), -41.63334274291992\n",
      "mean_log_p,shapetorch.Size([]), -169.92547607421875\n",
      "mean_log_q.shapetorch.Size([]), -42.641483306884766\n"
     ]
    },
    {
     "name": "stderr",
     "output_type": "stream",
     "text": [
      " 39%|███▊      | 362/938 [00:24<00:46, 12.36it/s]"
     ]
    },
    {
     "name": "stdout",
     "output_type": "stream",
     "text": [
      "mean_log_p,shapetorch.Size([]), -171.97874450683594\n",
      "mean_log_q.shapetorch.Size([]), -42.10502624511719\n",
      "mean_log_p,shapetorch.Size([]), -163.56973266601562\n",
      "mean_log_q.shapetorch.Size([]), -42.644065856933594\n"
     ]
    },
    {
     "name": "stderr",
     "output_type": "stream",
     "text": [
      " 39%|███▉      | 364/938 [00:25<00:47, 12.18it/s]"
     ]
    },
    {
     "name": "stdout",
     "output_type": "stream",
     "text": [
      "mean_log_p,shapetorch.Size([]), -178.87913513183594\n",
      "mean_log_q.shapetorch.Size([]), -41.5312614440918\n",
      "mean_log_p,shapetorch.Size([]), -168.13363647460938\n",
      "mean_log_q.shapetorch.Size([]), -41.409950256347656\n"
     ]
    },
    {
     "name": "stderr",
     "output_type": "stream",
     "text": [
      " 39%|███▉      | 366/938 [00:25<00:48, 11.87it/s]"
     ]
    },
    {
     "name": "stdout",
     "output_type": "stream",
     "text": [
      "mean_log_p,shapetorch.Size([]), -166.92454528808594\n",
      "mean_log_q.shapetorch.Size([]), -42.49772644042969\n",
      "mean_log_p,shapetorch.Size([]), -165.97610473632812\n",
      "mean_log_q.shapetorch.Size([]), -41.66590881347656\n"
     ]
    },
    {
     "name": "stderr",
     "output_type": "stream",
     "text": [
      " 39%|███▉      | 368/938 [00:25<00:48, 11.78it/s]"
     ]
    },
    {
     "name": "stdout",
     "output_type": "stream",
     "text": [
      "mean_log_p,shapetorch.Size([]), -169.30477905273438\n",
      "mean_log_q.shapetorch.Size([]), -41.859275817871094\n",
      "mean_log_p,shapetorch.Size([]), -162.66543579101562\n",
      "mean_log_q.shapetorch.Size([]), -41.57624816894531\n"
     ]
    },
    {
     "name": "stderr",
     "output_type": "stream",
     "text": [
      " 39%|███▉      | 370/938 [00:25<00:48, 11.71it/s]"
     ]
    },
    {
     "name": "stdout",
     "output_type": "stream",
     "text": [
      "mean_log_p,shapetorch.Size([]), -166.70474243164062\n",
      "mean_log_q.shapetorch.Size([]), -41.48963928222656\n",
      "mean_log_p,shapetorch.Size([]), -164.05992126464844\n",
      "mean_log_q.shapetorch.Size([]), -41.69231033325195\n"
     ]
    },
    {
     "name": "stderr",
     "output_type": "stream",
     "text": [
      " 40%|███▉      | 372/938 [00:25<00:48, 11.66it/s]"
     ]
    },
    {
     "name": "stdout",
     "output_type": "stream",
     "text": [
      "mean_log_p,shapetorch.Size([]), -162.37911987304688\n",
      "mean_log_q.shapetorch.Size([]), -42.17421340942383\n",
      "mean_log_p,shapetorch.Size([]), -168.1927947998047\n",
      "mean_log_q.shapetorch.Size([]), -41.87092971801758\n"
     ]
    },
    {
     "name": "stderr",
     "output_type": "stream",
     "text": [
      " 40%|███▉      | 374/938 [00:26<00:49, 11.48it/s]"
     ]
    },
    {
     "name": "stdout",
     "output_type": "stream",
     "text": [
      "mean_log_p,shapetorch.Size([]), -164.864990234375\n",
      "mean_log_q.shapetorch.Size([]), -41.92240524291992\n",
      "mean_log_p,shapetorch.Size([]), -170.86546325683594\n",
      "mean_log_q.shapetorch.Size([]), -42.277671813964844\n"
     ]
    },
    {
     "name": "stderr",
     "output_type": "stream",
     "text": [
      " 40%|████      | 376/938 [00:26<00:48, 11.61it/s]"
     ]
    },
    {
     "name": "stdout",
     "output_type": "stream",
     "text": [
      "mean_log_p,shapetorch.Size([]), -172.7342071533203\n",
      "mean_log_q.shapetorch.Size([]), -42.476837158203125\n",
      "mean_log_p,shapetorch.Size([]), -166.9053192138672\n",
      "mean_log_q.shapetorch.Size([]), -42.163963317871094\n"
     ]
    },
    {
     "name": "stderr",
     "output_type": "stream",
     "text": [
      " 41%|████      | 380/938 [00:26<00:36, 15.38it/s]"
     ]
    },
    {
     "name": "stdout",
     "output_type": "stream",
     "text": [
      "mean_log_p,shapetorch.Size([]), -169.45602416992188\n",
      "mean_log_q.shapetorch.Size([]), -41.87394714355469\n",
      "mean_log_p,shapetorch.Size([]), -173.74798583984375\n",
      "mean_log_q.shapetorch.Size([]), -42.102638244628906\n"
     ]
    },
    {
     "name": "stderr",
     "output_type": "stream",
     "text": [
      " 41%|████      | 382/938 [00:26<00:39, 14.10it/s]"
     ]
    },
    {
     "name": "stdout",
     "output_type": "stream",
     "text": [
      "mean_log_p,shapetorch.Size([]), -165.95571899414062\n",
      "mean_log_q.shapetorch.Size([]), -41.793025970458984\n",
      "mean_log_p,shapetorch.Size([]), -162.22071838378906\n",
      "mean_log_q.shapetorch.Size([]), -41.925140380859375\n"
     ]
    },
    {
     "name": "stderr",
     "output_type": "stream",
     "text": [
      " 41%|████      | 384/938 [00:26<00:40, 13.60it/s]"
     ]
    },
    {
     "name": "stdout",
     "output_type": "stream",
     "text": [
      "mean_log_p,shapetorch.Size([]), -157.1145477294922\n",
      "mean_log_q.shapetorch.Size([]), -42.64912033081055\n",
      "mean_log_p,shapetorch.Size([]), -168.0226287841797\n",
      "mean_log_q.shapetorch.Size([]), -42.187564849853516\n"
     ]
    },
    {
     "name": "stderr",
     "output_type": "stream",
     "text": [
      " 41%|████      | 386/938 [00:26<00:41, 13.29it/s]"
     ]
    },
    {
     "name": "stdout",
     "output_type": "stream",
     "text": [
      "mean_log_p,shapetorch.Size([]), -163.3105010986328\n",
      "mean_log_q.shapetorch.Size([]), -42.16706466674805\n",
      "mean_log_p,shapetorch.Size([]), -167.55758666992188\n",
      "mean_log_q.shapetorch.Size([]), -42.09672546386719\n"
     ]
    },
    {
     "name": "stderr",
     "output_type": "stream",
     "text": [
      " 41%|████▏     | 388/938 [00:27<00:42, 12.99it/s]"
     ]
    },
    {
     "name": "stdout",
     "output_type": "stream",
     "text": [
      "mean_log_p,shapetorch.Size([]), -173.20562744140625\n",
      "mean_log_q.shapetorch.Size([]), -42.04643630981445\n",
      "mean_log_p,shapetorch.Size([]), -165.88414001464844\n",
      "mean_log_q.shapetorch.Size([]), -41.951541900634766\n"
     ]
    },
    {
     "name": "stderr",
     "output_type": "stream",
     "text": [
      " 42%|████▏     | 390/938 [00:27<00:43, 12.70it/s]"
     ]
    },
    {
     "name": "stdout",
     "output_type": "stream",
     "text": [
      "mean_log_p,shapetorch.Size([]), -164.63040161132812\n",
      "mean_log_q.shapetorch.Size([]), -42.150997161865234\n",
      "mean_log_p,shapetorch.Size([]), -158.47314453125\n",
      "mean_log_q.shapetorch.Size([]), -41.363426208496094\n"
     ]
    },
    {
     "name": "stderr",
     "output_type": "stream",
     "text": [
      " 42%|████▏     | 392/938 [00:27<00:43, 12.45it/s]"
     ]
    },
    {
     "name": "stdout",
     "output_type": "stream",
     "text": [
      "mean_log_p,shapetorch.Size([]), -172.4505157470703\n",
      "mean_log_q.shapetorch.Size([]), -41.94264221191406\n",
      "mean_log_p,shapetorch.Size([]), -166.17831420898438\n",
      "mean_log_q.shapetorch.Size([]), -41.09983825683594\n"
     ]
    },
    {
     "name": "stderr",
     "output_type": "stream",
     "text": [
      " 42%|████▏     | 394/938 [00:27<00:44, 12.28it/s]"
     ]
    },
    {
     "name": "stdout",
     "output_type": "stream",
     "text": [
      "mean_log_p,shapetorch.Size([]), -167.2642822265625\n",
      "mean_log_q.shapetorch.Size([]), -41.54587173461914\n",
      "mean_log_p,shapetorch.Size([]), -172.673583984375\n",
      "mean_log_q.shapetorch.Size([]), -41.747047424316406\n"
     ]
    },
    {
     "name": "stderr",
     "output_type": "stream",
     "text": [
      " 42%|████▏     | 396/938 [00:27<00:44, 12.28it/s]"
     ]
    },
    {
     "name": "stdout",
     "output_type": "stream",
     "text": [
      "mean_log_p,shapetorch.Size([]), -176.08993530273438\n",
      "mean_log_q.shapetorch.Size([]), -41.558929443359375\n",
      "mean_log_p,shapetorch.Size([]), -175.74603271484375\n",
      "mean_log_q.shapetorch.Size([]), -41.266815185546875\n"
     ]
    },
    {
     "name": "stderr",
     "output_type": "stream",
     "text": [
      " 42%|████▏     | 398/938 [00:27<00:43, 12.45it/s]"
     ]
    },
    {
     "name": "stdout",
     "output_type": "stream",
     "text": [
      "mean_log_p,shapetorch.Size([]), -168.837890625\n",
      "mean_log_q.shapetorch.Size([]), -41.69123077392578\n",
      "mean_log_p,shapetorch.Size([]), -158.6817626953125\n",
      "mean_log_q.shapetorch.Size([]), -41.34441375732422\n"
     ]
    },
    {
     "name": "stderr",
     "output_type": "stream",
     "text": [
      " 43%|████▎     | 400/938 [00:28<00:44, 12.22it/s]"
     ]
    },
    {
     "name": "stdout",
     "output_type": "stream",
     "text": [
      "mean_log_p,shapetorch.Size([]), -166.12103271484375\n",
      "mean_log_q.shapetorch.Size([]), -40.87058639526367\n",
      "mean_log_p,shapetorch.Size([]), -162.3240203857422\n",
      "mean_log_q.shapetorch.Size([]), -41.72243881225586\n"
     ]
    },
    {
     "name": "stderr",
     "output_type": "stream",
     "text": [
      " 43%|████▎     | 402/938 [00:28<00:44, 11.96it/s]"
     ]
    },
    {
     "name": "stdout",
     "output_type": "stream",
     "text": [
      "mean_log_p,shapetorch.Size([]), -171.43743896484375\n",
      "mean_log_q.shapetorch.Size([]), -41.77349853515625\n",
      "mean_log_p,shapetorch.Size([]), -164.1414337158203\n",
      "mean_log_q.shapetorch.Size([]), -41.60405731201172\n"
     ]
    },
    {
     "name": "stderr",
     "output_type": "stream",
     "text": [
      " 43%|████▎     | 404/938 [00:28<00:45, 11.83it/s]"
     ]
    },
    {
     "name": "stdout",
     "output_type": "stream",
     "text": [
      "mean_log_p,shapetorch.Size([]), -172.46595764160156\n",
      "mean_log_q.shapetorch.Size([]), -41.4951286315918\n",
      "mean_log_p,shapetorch.Size([]), -160.10818481445312\n",
      "mean_log_q.shapetorch.Size([]), -42.33915710449219\n"
     ]
    },
    {
     "name": "stderr",
     "output_type": "stream",
     "text": [
      " 43%|████▎     | 406/938 [00:28<00:45, 11.64it/s]"
     ]
    },
    {
     "name": "stdout",
     "output_type": "stream",
     "text": [
      "mean_log_p,shapetorch.Size([]), -162.08737182617188\n",
      "mean_log_q.shapetorch.Size([]), -42.27629470825195\n",
      "mean_log_p,shapetorch.Size([]), -165.68240356445312\n",
      "mean_log_q.shapetorch.Size([]), -42.457191467285156\n"
     ]
    },
    {
     "name": "stderr",
     "output_type": "stream",
     "text": [
      " 43%|████▎     | 408/938 [00:28<00:45, 11.73it/s]"
     ]
    },
    {
     "name": "stdout",
     "output_type": "stream",
     "text": [
      "mean_log_p,shapetorch.Size([]), -179.04054260253906\n",
      "mean_log_q.shapetorch.Size([]), -42.261844635009766\n",
      "mean_log_p,shapetorch.Size([]), -168.63967895507812\n",
      "mean_log_q.shapetorch.Size([]), -42.71391296386719\n"
     ]
    },
    {
     "name": "stderr",
     "output_type": "stream",
     "text": [
      " 44%|████▎     | 410/938 [00:28<00:45, 11.59it/s]"
     ]
    },
    {
     "name": "stdout",
     "output_type": "stream",
     "text": [
      "mean_log_p,shapetorch.Size([]), -166.25424194335938\n",
      "mean_log_q.shapetorch.Size([]), -42.390838623046875\n",
      "mean_log_p,shapetorch.Size([]), -172.56430053710938\n",
      "mean_log_q.shapetorch.Size([]), -41.99152374267578\n"
     ]
    },
    {
     "name": "stderr",
     "output_type": "stream",
     "text": [
      " 44%|████▍     | 412/938 [00:29<00:45, 11.57it/s]"
     ]
    },
    {
     "name": "stdout",
     "output_type": "stream",
     "text": [
      "mean_log_p,shapetorch.Size([]), -167.54566955566406\n",
      "mean_log_q.shapetorch.Size([]), -41.79584503173828\n",
      "mean_log_p,shapetorch.Size([]), -164.5528564453125\n",
      "mean_log_q.shapetorch.Size([]), -41.31520462036133\n"
     ]
    },
    {
     "name": "stderr",
     "output_type": "stream",
     "text": [
      " 44%|████▍     | 414/938 [00:29<00:44, 11.64it/s]"
     ]
    },
    {
     "name": "stdout",
     "output_type": "stream",
     "text": [
      "mean_log_p,shapetorch.Size([]), -163.80580139160156\n",
      "mean_log_q.shapetorch.Size([]), -41.73748779296875\n",
      "mean_log_p,shapetorch.Size([]), -177.97360229492188\n",
      "mean_log_q.shapetorch.Size([]), -40.91001892089844\n"
     ]
    },
    {
     "name": "stderr",
     "output_type": "stream",
     "text": [
      " 44%|████▍     | 416/938 [00:29<00:44, 11.77it/s]"
     ]
    },
    {
     "name": "stdout",
     "output_type": "stream",
     "text": [
      "mean_log_p,shapetorch.Size([]), -166.10922241210938\n",
      "mean_log_q.shapetorch.Size([]), -41.60926818847656\n",
      "mean_log_p,shapetorch.Size([]), -168.36981201171875\n",
      "mean_log_q.shapetorch.Size([]), -40.931522369384766\n"
     ]
    },
    {
     "name": "stderr",
     "output_type": "stream",
     "text": [
      " 45%|████▍     | 420/938 [00:29<00:33, 15.63it/s]"
     ]
    },
    {
     "name": "stdout",
     "output_type": "stream",
     "text": [
      "mean_log_p,shapetorch.Size([]), -165.04116821289062\n",
      "mean_log_q.shapetorch.Size([]), -41.264129638671875\n",
      "mean_log_p,shapetorch.Size([]), -169.15318298339844\n",
      "mean_log_q.shapetorch.Size([]), -41.88029479980469\n"
     ]
    },
    {
     "name": "stderr",
     "output_type": "stream",
     "text": [
      " 45%|████▍     | 422/938 [00:29<00:35, 14.49it/s]"
     ]
    },
    {
     "name": "stdout",
     "output_type": "stream",
     "text": [
      "mean_log_p,shapetorch.Size([]), -166.06394958496094\n",
      "mean_log_q.shapetorch.Size([]), -41.962806701660156\n",
      "mean_log_p,shapetorch.Size([]), -173.010498046875\n",
      "mean_log_q.shapetorch.Size([]), -41.90122985839844\n"
     ]
    },
    {
     "name": "stderr",
     "output_type": "stream",
     "text": [
      " 45%|████▌     | 424/938 [00:29<00:37, 13.65it/s]"
     ]
    },
    {
     "name": "stdout",
     "output_type": "stream",
     "text": [
      "mean_log_p,shapetorch.Size([]), -165.3749542236328\n",
      "mean_log_q.shapetorch.Size([]), -42.27340316772461\n",
      "mean_log_p,shapetorch.Size([]), -165.29364013671875\n",
      "mean_log_q.shapetorch.Size([]), -42.612613677978516\n"
     ]
    },
    {
     "name": "stderr",
     "output_type": "stream",
     "text": [
      " 45%|████▌     | 426/938 [00:30<00:38, 13.42it/s]"
     ]
    },
    {
     "name": "stdout",
     "output_type": "stream",
     "text": [
      "mean_log_p,shapetorch.Size([]), -177.66818237304688\n",
      "mean_log_q.shapetorch.Size([]), -41.696144104003906\n",
      "mean_log_p,shapetorch.Size([]), -171.66339111328125\n",
      "mean_log_q.shapetorch.Size([]), -43.120635986328125\n"
     ]
    },
    {
     "name": "stderr",
     "output_type": "stream",
     "text": [
      " 46%|████▌     | 428/938 [00:30<00:39, 13.02it/s]"
     ]
    },
    {
     "name": "stdout",
     "output_type": "stream",
     "text": [
      "mean_log_p,shapetorch.Size([]), -163.79611206054688\n",
      "mean_log_q.shapetorch.Size([]), -42.453857421875\n",
      "mean_log_p,shapetorch.Size([]), -166.76486206054688\n",
      "mean_log_q.shapetorch.Size([]), -41.06560516357422\n"
     ]
    },
    {
     "name": "stderr",
     "output_type": "stream",
     "text": [
      " 46%|████▌     | 430/938 [00:30<00:39, 12.89it/s]"
     ]
    },
    {
     "name": "stdout",
     "output_type": "stream",
     "text": [
      "mean_log_p,shapetorch.Size([]), -168.6737060546875\n",
      "mean_log_q.shapetorch.Size([]), -41.96829605102539\n",
      "mean_log_p,shapetorch.Size([]), -167.02694702148438\n",
      "mean_log_q.shapetorch.Size([]), -41.818641662597656\n"
     ]
    },
    {
     "name": "stderr",
     "output_type": "stream",
     "text": [
      " 46%|████▌     | 432/938 [00:30<00:40, 12.53it/s]"
     ]
    },
    {
     "name": "stdout",
     "output_type": "stream",
     "text": [
      "mean_log_p,shapetorch.Size([]), -169.57870483398438\n",
      "mean_log_q.shapetorch.Size([]), -41.31680679321289\n",
      "mean_log_p,shapetorch.Size([]), -170.2770233154297\n",
      "mean_log_q.shapetorch.Size([]), -41.170082092285156\n"
     ]
    },
    {
     "name": "stderr",
     "output_type": "stream",
     "text": [
      " 46%|████▋     | 434/938 [00:30<00:40, 12.48it/s]"
     ]
    },
    {
     "name": "stdout",
     "output_type": "stream",
     "text": [
      "mean_log_p,shapetorch.Size([]), -168.92745971679688\n",
      "mean_log_q.shapetorch.Size([]), -40.94328308105469\n",
      "mean_log_p,shapetorch.Size([]), -169.531005859375\n",
      "mean_log_q.shapetorch.Size([]), -41.356971740722656\n"
     ]
    },
    {
     "name": "stderr",
     "output_type": "stream",
     "text": [
      " 46%|████▋     | 436/938 [00:30<00:40, 12.27it/s]"
     ]
    },
    {
     "name": "stdout",
     "output_type": "stream",
     "text": [
      "mean_log_p,shapetorch.Size([]), -162.6564178466797\n",
      "mean_log_q.shapetorch.Size([]), -41.093544006347656\n",
      "mean_log_p,shapetorch.Size([]), -167.02752685546875\n",
      "mean_log_q.shapetorch.Size([]), -41.721710205078125\n"
     ]
    },
    {
     "name": "stderr",
     "output_type": "stream",
     "text": [
      " 47%|████▋     | 438/938 [00:31<00:40, 12.37it/s]"
     ]
    },
    {
     "name": "stdout",
     "output_type": "stream",
     "text": [
      "mean_log_p,shapetorch.Size([]), -176.26588439941406\n",
      "mean_log_q.shapetorch.Size([]), -41.61316680908203\n",
      "mean_log_p,shapetorch.Size([]), -168.91012573242188\n",
      "mean_log_q.shapetorch.Size([]), -41.46772766113281\n"
     ]
    },
    {
     "name": "stderr",
     "output_type": "stream",
     "text": [
      " 47%|████▋     | 440/938 [00:31<00:41, 12.08it/s]"
     ]
    },
    {
     "name": "stdout",
     "output_type": "stream",
     "text": [
      "mean_log_p,shapetorch.Size([]), -168.03741455078125\n",
      "mean_log_q.shapetorch.Size([]), -40.930519104003906\n",
      "mean_log_p,shapetorch.Size([]), -169.85118103027344\n",
      "mean_log_q.shapetorch.Size([]), -40.58293533325195\n"
     ]
    },
    {
     "name": "stderr",
     "output_type": "stream",
     "text": [
      " 47%|████▋     | 442/938 [00:31<00:41, 12.04it/s]"
     ]
    },
    {
     "name": "stdout",
     "output_type": "stream",
     "text": [
      "mean_log_p,shapetorch.Size([]), -167.4825897216797\n",
      "mean_log_q.shapetorch.Size([]), -41.13560485839844\n",
      "mean_log_p,shapetorch.Size([]), -165.13986206054688\n",
      "mean_log_q.shapetorch.Size([]), -41.99040603637695\n"
     ]
    },
    {
     "name": "stderr",
     "output_type": "stream",
     "text": [
      " 47%|████▋     | 444/938 [00:31<00:40, 12.10it/s]"
     ]
    },
    {
     "name": "stdout",
     "output_type": "stream",
     "text": [
      "mean_log_p,shapetorch.Size([]), -168.2080535888672\n",
      "mean_log_q.shapetorch.Size([]), -41.64601135253906\n",
      "mean_log_p,shapetorch.Size([]), -163.09814453125\n",
      "mean_log_q.shapetorch.Size([]), -42.33417892456055\n"
     ]
    },
    {
     "name": "stderr",
     "output_type": "stream",
     "text": [
      " 48%|████▊     | 446/938 [00:31<00:40, 12.00it/s]"
     ]
    },
    {
     "name": "stdout",
     "output_type": "stream",
     "text": [
      "mean_log_p,shapetorch.Size([]), -165.68475341796875\n",
      "mean_log_q.shapetorch.Size([]), -42.537269592285156\n",
      "mean_log_p,shapetorch.Size([]), -164.34695434570312\n",
      "mean_log_q.shapetorch.Size([]), -41.84375\n"
     ]
    },
    {
     "name": "stderr",
     "output_type": "stream",
     "text": [
      " 48%|████▊     | 448/938 [00:31<00:41, 11.92it/s]"
     ]
    },
    {
     "name": "stdout",
     "output_type": "stream",
     "text": [
      "mean_log_p,shapetorch.Size([]), -168.17489624023438\n",
      "mean_log_q.shapetorch.Size([]), -42.1937370300293\n",
      "mean_log_p,shapetorch.Size([]), -167.2763671875\n",
      "mean_log_q.shapetorch.Size([]), -41.78614044189453\n"
     ]
    },
    {
     "name": "stderr",
     "output_type": "stream",
     "text": [
      " 48%|████▊     | 450/938 [00:32<00:40, 12.07it/s]"
     ]
    },
    {
     "name": "stdout",
     "output_type": "stream",
     "text": [
      "mean_log_p,shapetorch.Size([]), -173.06890869140625\n",
      "mean_log_q.shapetorch.Size([]), -41.838218688964844\n",
      "mean_log_p,shapetorch.Size([]), -165.81021118164062\n",
      "mean_log_q.shapetorch.Size([]), -41.442718505859375\n"
     ]
    },
    {
     "name": "stderr",
     "output_type": "stream",
     "text": [
      " 48%|████▊     | 452/938 [00:32<00:40, 12.07it/s]"
     ]
    },
    {
     "name": "stdout",
     "output_type": "stream",
     "text": [
      "mean_log_p,shapetorch.Size([]), -162.78533935546875\n",
      "mean_log_q.shapetorch.Size([]), -42.16600799560547\n",
      "mean_log_p,shapetorch.Size([]), -170.5240478515625\n",
      "mean_log_q.shapetorch.Size([]), -41.42724609375\n"
     ]
    },
    {
     "name": "stderr",
     "output_type": "stream",
     "text": [
      " 48%|████▊     | 454/938 [00:32<00:40, 11.88it/s]"
     ]
    },
    {
     "name": "stdout",
     "output_type": "stream",
     "text": [
      "mean_log_p,shapetorch.Size([]), -163.45684814453125\n",
      "mean_log_q.shapetorch.Size([]), -42.33306121826172\n",
      "mean_log_p,shapetorch.Size([]), -175.53778076171875\n",
      "mean_log_q.shapetorch.Size([]), -41.48722839355469\n"
     ]
    },
    {
     "name": "stderr",
     "output_type": "stream",
     "text": [
      " 49%|████▊     | 456/938 [00:32<00:40, 11.78it/s]"
     ]
    },
    {
     "name": "stdout",
     "output_type": "stream",
     "text": [
      "mean_log_p,shapetorch.Size([]), -166.200927734375\n",
      "mean_log_q.shapetorch.Size([]), -40.93860626220703\n",
      "mean_log_p,shapetorch.Size([]), -169.21884155273438\n",
      "mean_log_q.shapetorch.Size([]), -41.50794219970703\n"
     ]
    },
    {
     "name": "stderr",
     "output_type": "stream",
     "text": [
      " 49%|████▉     | 458/938 [00:32<00:39, 12.08it/s]"
     ]
    },
    {
     "name": "stdout",
     "output_type": "stream",
     "text": [
      "mean_log_p,shapetorch.Size([]), -164.18923950195312\n",
      "mean_log_q.shapetorch.Size([]), -41.48160934448242\n",
      "mean_log_p,shapetorch.Size([]), -157.2843017578125\n",
      "mean_log_q.shapetorch.Size([]), -41.058773040771484\n"
     ]
    },
    {
     "name": "stderr",
     "output_type": "stream",
     "text": [
      " 49%|████▉     | 462/938 [00:32<00:30, 15.56it/s]"
     ]
    },
    {
     "name": "stdout",
     "output_type": "stream",
     "text": [
      "mean_log_p,shapetorch.Size([]), -173.77468872070312\n",
      "mean_log_q.shapetorch.Size([]), -40.71364212036133\n",
      "mean_log_p,shapetorch.Size([]), -163.66030883789062\n",
      "mean_log_q.shapetorch.Size([]), -40.714561462402344\n"
     ]
    },
    {
     "name": "stderr",
     "output_type": "stream",
     "text": [
      " 49%|████▉     | 464/938 [00:33<00:33, 14.33it/s]"
     ]
    },
    {
     "name": "stdout",
     "output_type": "stream",
     "text": [
      "mean_log_p,shapetorch.Size([]), -161.85589599609375\n",
      "mean_log_q.shapetorch.Size([]), -41.04365921020508\n",
      "mean_log_p,shapetorch.Size([]), -169.89576721191406\n",
      "mean_log_q.shapetorch.Size([]), -41.446258544921875\n"
     ]
    },
    {
     "name": "stderr",
     "output_type": "stream",
     "text": [
      " 50%|████▉     | 466/938 [00:33<00:34, 13.60it/s]"
     ]
    },
    {
     "name": "stdout",
     "output_type": "stream",
     "text": [
      "mean_log_p,shapetorch.Size([]), -164.8271026611328\n",
      "mean_log_q.shapetorch.Size([]), -41.9315299987793\n",
      "mean_log_p,shapetorch.Size([]), -168.6693572998047\n",
      "mean_log_q.shapetorch.Size([]), -41.603843688964844\n"
     ]
    },
    {
     "name": "stderr",
     "output_type": "stream",
     "text": [
      " 50%|████▉     | 468/938 [00:33<00:35, 13.20it/s]"
     ]
    },
    {
     "name": "stdout",
     "output_type": "stream",
     "text": [
      "mean_log_p,shapetorch.Size([]), -166.65826416015625\n",
      "mean_log_q.shapetorch.Size([]), -41.34056091308594\n",
      "mean_log_p,shapetorch.Size([]), -162.05352783203125\n",
      "mean_log_q.shapetorch.Size([]), -41.78575897216797\n"
     ]
    },
    {
     "name": "stderr",
     "output_type": "stream",
     "text": [
      " 50%|█████     | 470/938 [00:33<00:36, 12.82it/s]"
     ]
    },
    {
     "name": "stdout",
     "output_type": "stream",
     "text": [
      "mean_log_p,shapetorch.Size([]), -168.35623168945312\n",
      "mean_log_q.shapetorch.Size([]), -41.53459930419922\n",
      "mean_log_p,shapetorch.Size([]), -170.09298706054688\n",
      "mean_log_q.shapetorch.Size([]), -41.399147033691406\n"
     ]
    },
    {
     "name": "stderr",
     "output_type": "stream",
     "text": [
      " 50%|█████     | 472/938 [00:33<00:36, 12.81it/s]"
     ]
    },
    {
     "name": "stdout",
     "output_type": "stream",
     "text": [
      "mean_log_p,shapetorch.Size([]), -171.9579620361328\n",
      "mean_log_q.shapetorch.Size([]), -40.64683151245117\n",
      "mean_log_p,shapetorch.Size([]), -171.08355712890625\n",
      "mean_log_q.shapetorch.Size([]), -41.15277099609375\n"
     ]
    },
    {
     "name": "stderr",
     "output_type": "stream",
     "text": [
      " 51%|█████     | 474/938 [00:33<00:36, 12.58it/s]"
     ]
    },
    {
     "name": "stdout",
     "output_type": "stream",
     "text": [
      "mean_log_p,shapetorch.Size([]), -174.50582885742188\n",
      "mean_log_q.shapetorch.Size([]), -41.12590026855469\n",
      "mean_log_p,shapetorch.Size([]), -166.4656219482422\n",
      "mean_log_q.shapetorch.Size([]), -41.589317321777344\n"
     ]
    },
    {
     "name": "stderr",
     "output_type": "stream",
     "text": [
      " 51%|█████     | 476/938 [00:34<00:37, 12.45it/s]"
     ]
    },
    {
     "name": "stdout",
     "output_type": "stream",
     "text": [
      "mean_log_p,shapetorch.Size([]), -163.2568359375\n",
      "mean_log_q.shapetorch.Size([]), -41.92310333251953\n",
      "mean_log_p,shapetorch.Size([]), -164.2610321044922\n",
      "mean_log_q.shapetorch.Size([]), -41.39794921875\n"
     ]
    },
    {
     "name": "stderr",
     "output_type": "stream",
     "text": [
      " 51%|█████     | 478/938 [00:34<00:37, 12.34it/s]"
     ]
    },
    {
     "name": "stdout",
     "output_type": "stream",
     "text": [
      "mean_log_p,shapetorch.Size([]), -164.87562561035156\n",
      "mean_log_q.shapetorch.Size([]), -42.37785339355469\n",
      "mean_log_p,shapetorch.Size([]), -172.10073852539062\n",
      "mean_log_q.shapetorch.Size([]), -41.901283264160156\n"
     ]
    },
    {
     "name": "stderr",
     "output_type": "stream",
     "text": [
      " 51%|█████     | 480/938 [00:34<00:37, 12.29it/s]"
     ]
    },
    {
     "name": "stdout",
     "output_type": "stream",
     "text": [
      "mean_log_p,shapetorch.Size([]), -155.8621368408203\n",
      "mean_log_q.shapetorch.Size([]), -42.59685516357422\n",
      "mean_log_p,shapetorch.Size([]), -162.2164306640625\n",
      "mean_log_q.shapetorch.Size([]), -42.69975280761719\n"
     ]
    },
    {
     "name": "stderr",
     "output_type": "stream",
     "text": [
      " 51%|█████▏    | 482/938 [00:34<00:37, 12.24it/s]"
     ]
    },
    {
     "name": "stdout",
     "output_type": "stream",
     "text": [
      "mean_log_p,shapetorch.Size([]), -173.84530639648438\n",
      "mean_log_q.shapetorch.Size([]), -40.97211456298828\n",
      "mean_log_p,shapetorch.Size([]), -168.42825317382812\n",
      "mean_log_q.shapetorch.Size([]), -41.26567077636719\n"
     ]
    },
    {
     "name": "stderr",
     "output_type": "stream",
     "text": [
      " 52%|█████▏    | 484/938 [00:34<00:36, 12.34it/s]"
     ]
    },
    {
     "name": "stdout",
     "output_type": "stream",
     "text": [
      "mean_log_p,shapetorch.Size([]), -159.4386444091797\n",
      "mean_log_q.shapetorch.Size([]), -42.09107208251953\n",
      "mean_log_p,shapetorch.Size([]), -173.68336486816406\n",
      "mean_log_q.shapetorch.Size([]), -41.96044158935547\n"
     ]
    },
    {
     "name": "stderr",
     "output_type": "stream",
     "text": [
      " 52%|█████▏    | 486/938 [00:34<00:37, 12.12it/s]"
     ]
    },
    {
     "name": "stdout",
     "output_type": "stream",
     "text": [
      "mean_log_p,shapetorch.Size([]), -163.4976806640625\n",
      "mean_log_q.shapetorch.Size([]), -41.31139373779297\n",
      "mean_log_p,shapetorch.Size([]), -165.1705322265625\n",
      "mean_log_q.shapetorch.Size([]), -41.34117126464844\n"
     ]
    },
    {
     "name": "stderr",
     "output_type": "stream",
     "text": [
      " 52%|█████▏    | 488/938 [00:35<00:36, 12.24it/s]"
     ]
    },
    {
     "name": "stdout",
     "output_type": "stream",
     "text": [
      "mean_log_p,shapetorch.Size([]), -169.7882080078125\n",
      "mean_log_q.shapetorch.Size([]), -40.966278076171875\n",
      "mean_log_p,shapetorch.Size([]), -171.90652465820312\n",
      "mean_log_q.shapetorch.Size([]), -40.60065460205078\n"
     ]
    },
    {
     "name": "stderr",
     "output_type": "stream",
     "text": [
      " 52%|█████▏    | 490/938 [00:35<00:36, 12.22it/s]"
     ]
    },
    {
     "name": "stdout",
     "output_type": "stream",
     "text": [
      "mean_log_p,shapetorch.Size([]), -160.04844665527344\n",
      "mean_log_q.shapetorch.Size([]), -40.81822204589844\n",
      "mean_log_p,shapetorch.Size([]), -162.1523895263672\n",
      "mean_log_q.shapetorch.Size([]), -41.29869842529297\n"
     ]
    },
    {
     "name": "stderr",
     "output_type": "stream",
     "text": [
      " 52%|█████▏    | 492/938 [00:35<00:36, 12.28it/s]"
     ]
    },
    {
     "name": "stdout",
     "output_type": "stream",
     "text": [
      "mean_log_p,shapetorch.Size([]), -157.9473419189453\n",
      "mean_log_q.shapetorch.Size([]), -41.30519104003906\n",
      "mean_log_p,shapetorch.Size([]), -168.22549438476562\n",
      "mean_log_q.shapetorch.Size([]), -41.832542419433594\n"
     ]
    },
    {
     "name": "stderr",
     "output_type": "stream",
     "text": [
      " 53%|█████▎    | 494/938 [00:35<00:35, 12.40it/s]"
     ]
    },
    {
     "name": "stdout",
     "output_type": "stream",
     "text": [
      "mean_log_p,shapetorch.Size([]), -163.73123168945312\n",
      "mean_log_q.shapetorch.Size([]), -42.02308654785156\n",
      "mean_log_p,shapetorch.Size([]), -172.74966430664062\n",
      "mean_log_q.shapetorch.Size([]), -41.831260681152344\n"
     ]
    },
    {
     "name": "stderr",
     "output_type": "stream",
     "text": [
      " 53%|█████▎    | 496/938 [00:35<00:36, 12.27it/s]"
     ]
    },
    {
     "name": "stdout",
     "output_type": "stream",
     "text": [
      "mean_log_p,shapetorch.Size([]), -161.45291137695312\n",
      "mean_log_q.shapetorch.Size([]), -42.43738555908203\n",
      "mean_log_p,shapetorch.Size([]), -160.0036163330078\n",
      "mean_log_q.shapetorch.Size([]), -42.64409637451172\n"
     ]
    },
    {
     "name": "stderr",
     "output_type": "stream",
     "text": [
      " 53%|█████▎    | 498/938 [00:35<00:36, 12.12it/s]"
     ]
    },
    {
     "name": "stdout",
     "output_type": "stream",
     "text": [
      "mean_log_p,shapetorch.Size([]), -166.4247589111328\n",
      "mean_log_q.shapetorch.Size([]), -41.76742172241211\n",
      "mean_log_p,shapetorch.Size([]), -172.00198364257812\n",
      "mean_log_q.shapetorch.Size([]), -41.04924774169922\n"
     ]
    },
    {
     "name": "stderr",
     "output_type": "stream",
     "text": [
      " 53%|█████▎    | 500/938 [00:36<00:36, 11.97it/s]"
     ]
    },
    {
     "name": "stdout",
     "output_type": "stream",
     "text": [
      "mean_log_p,shapetorch.Size([]), -164.1465301513672\n",
      "mean_log_q.shapetorch.Size([]), -41.70653533935547\n",
      "mean_log_p,shapetorch.Size([]), -168.87283325195312\n",
      "mean_log_q.shapetorch.Size([]), -41.240814208984375\n"
     ]
    },
    {
     "name": "stderr",
     "output_type": "stream",
     "text": [
      " 54%|█████▎    | 502/938 [00:36<00:36, 12.00it/s]"
     ]
    },
    {
     "name": "stdout",
     "output_type": "stream",
     "text": [
      "mean_log_p,shapetorch.Size([]), -159.93939208984375\n",
      "mean_log_q.shapetorch.Size([]), -40.69871520996094\n",
      "mean_log_p,shapetorch.Size([]), -169.58938598632812\n",
      "mean_log_q.shapetorch.Size([]), -40.876670837402344\n"
     ]
    },
    {
     "name": "stderr",
     "output_type": "stream",
     "text": [
      " 54%|█████▍    | 506/938 [00:36<00:27, 15.93it/s]"
     ]
    },
    {
     "name": "stdout",
     "output_type": "stream",
     "text": [
      "mean_log_p,shapetorch.Size([]), -170.85943603515625\n",
      "mean_log_q.shapetorch.Size([]), -40.43744659423828\n",
      "mean_log_p,shapetorch.Size([]), -165.85255432128906\n",
      "mean_log_q.shapetorch.Size([]), -40.26959228515625\n"
     ]
    },
    {
     "name": "stderr",
     "output_type": "stream",
     "text": [
      " 54%|█████▍    | 508/938 [00:36<00:28, 14.86it/s]"
     ]
    },
    {
     "name": "stdout",
     "output_type": "stream",
     "text": [
      "mean_log_p,shapetorch.Size([]), -176.41549682617188\n",
      "mean_log_q.shapetorch.Size([]), -40.72187042236328\n",
      "mean_log_p,shapetorch.Size([]), -170.02398681640625\n",
      "mean_log_q.shapetorch.Size([]), -41.065155029296875\n"
     ]
    },
    {
     "name": "stderr",
     "output_type": "stream",
     "text": [
      " 54%|█████▍    | 510/938 [00:36<00:30, 14.07it/s]"
     ]
    },
    {
     "name": "stdout",
     "output_type": "stream",
     "text": [
      "mean_log_p,shapetorch.Size([]), -167.0659942626953\n",
      "mean_log_q.shapetorch.Size([]), -40.60043716430664\n",
      "mean_log_p,shapetorch.Size([]), -164.0237274169922\n",
      "mean_log_q.shapetorch.Size([]), -41.143707275390625\n"
     ]
    },
    {
     "name": "stderr",
     "output_type": "stream",
     "text": [
      " 55%|█████▍    | 512/938 [00:36<00:31, 13.49it/s]"
     ]
    },
    {
     "name": "stdout",
     "output_type": "stream",
     "text": [
      "mean_log_p,shapetorch.Size([]), -165.21273803710938\n",
      "mean_log_q.shapetorch.Size([]), -42.19393539428711\n",
      "mean_log_p,shapetorch.Size([]), -164.05496215820312\n",
      "mean_log_q.shapetorch.Size([]), -41.99504852294922\n"
     ]
    },
    {
     "name": "stderr",
     "output_type": "stream",
     "text": [
      " 55%|█████▍    | 514/938 [00:37<00:32, 12.97it/s]"
     ]
    },
    {
     "name": "stdout",
     "output_type": "stream",
     "text": [
      "mean_log_p,shapetorch.Size([]), -164.490966796875\n",
      "mean_log_q.shapetorch.Size([]), -42.88618087768555\n",
      "mean_log_p,shapetorch.Size([]), -166.99935913085938\n",
      "mean_log_q.shapetorch.Size([]), -42.81574249267578\n"
     ]
    },
    {
     "name": "stderr",
     "output_type": "stream",
     "text": [
      " 55%|█████▌    | 516/938 [00:37<00:33, 12.51it/s]"
     ]
    },
    {
     "name": "stdout",
     "output_type": "stream",
     "text": [
      "mean_log_p,shapetorch.Size([]), -176.92715454101562\n",
      "mean_log_q.shapetorch.Size([]), -42.79764175415039\n",
      "mean_log_p,shapetorch.Size([]), -167.6040496826172\n",
      "mean_log_q.shapetorch.Size([]), -42.6445198059082\n"
     ]
    },
    {
     "name": "stderr",
     "output_type": "stream",
     "text": [
      " 55%|█████▌    | 518/938 [00:37<00:33, 12.42it/s]"
     ]
    },
    {
     "name": "stdout",
     "output_type": "stream",
     "text": [
      "mean_log_p,shapetorch.Size([]), -172.03164672851562\n",
      "mean_log_q.shapetorch.Size([]), -42.99176025390625\n",
      "mean_log_p,shapetorch.Size([]), -168.08094787597656\n",
      "mean_log_q.shapetorch.Size([]), -41.822540283203125\n"
     ]
    },
    {
     "name": "stderr",
     "output_type": "stream",
     "text": [
      " 55%|█████▌    | 520/938 [00:37<00:33, 12.42it/s]"
     ]
    },
    {
     "name": "stdout",
     "output_type": "stream",
     "text": [
      "mean_log_p,shapetorch.Size([]), -166.92843627929688\n",
      "mean_log_q.shapetorch.Size([]), -41.38084030151367\n",
      "mean_log_p,shapetorch.Size([]), -164.36154174804688\n",
      "mean_log_q.shapetorch.Size([]), -41.663002014160156\n"
     ]
    },
    {
     "name": "stderr",
     "output_type": "stream",
     "text": [
      " 56%|█████▌    | 522/938 [00:37<00:33, 12.28it/s]"
     ]
    },
    {
     "name": "stdout",
     "output_type": "stream",
     "text": [
      "mean_log_p,shapetorch.Size([]), -165.38677978515625\n",
      "mean_log_q.shapetorch.Size([]), -41.37199401855469\n",
      "mean_log_p,shapetorch.Size([]), -171.1562042236328\n",
      "mean_log_q.shapetorch.Size([]), -40.76141357421875\n"
     ]
    },
    {
     "name": "stderr",
     "output_type": "stream",
     "text": [
      " 56%|█████▌    | 524/938 [00:37<00:33, 12.19it/s]"
     ]
    },
    {
     "name": "stdout",
     "output_type": "stream",
     "text": [
      "mean_log_p,shapetorch.Size([]), -160.20779418945312\n",
      "mean_log_q.shapetorch.Size([]), -41.475101470947266\n",
      "mean_log_p,shapetorch.Size([]), -163.3641357421875\n",
      "mean_log_q.shapetorch.Size([]), -41.659385681152344\n"
     ]
    },
    {
     "name": "stderr",
     "output_type": "stream",
     "text": [
      " 56%|█████▌    | 526/938 [00:38<00:34, 12.05it/s]"
     ]
    },
    {
     "name": "stdout",
     "output_type": "stream",
     "text": [
      "mean_log_p,shapetorch.Size([]), -161.046142578125\n",
      "mean_log_q.shapetorch.Size([]), -40.36460876464844\n",
      "mean_log_p,shapetorch.Size([]), -164.62704467773438\n",
      "mean_log_q.shapetorch.Size([]), -41.047569274902344\n"
     ]
    },
    {
     "name": "stderr",
     "output_type": "stream",
     "text": [
      " 56%|█████▋    | 528/938 [00:38<00:34, 11.86it/s]"
     ]
    },
    {
     "name": "stdout",
     "output_type": "stream",
     "text": [
      "mean_log_p,shapetorch.Size([]), -173.9376983642578\n",
      "mean_log_q.shapetorch.Size([]), -40.29150390625\n",
      "mean_log_p,shapetorch.Size([]), -173.3592987060547\n",
      "mean_log_q.shapetorch.Size([]), -41.19297790527344\n"
     ]
    },
    {
     "name": "stderr",
     "output_type": "stream",
     "text": [
      " 57%|█████▋    | 530/938 [00:38<00:34, 11.89it/s]"
     ]
    },
    {
     "name": "stdout",
     "output_type": "stream",
     "text": [
      "mean_log_p,shapetorch.Size([]), -173.27699279785156\n",
      "mean_log_q.shapetorch.Size([]), -40.68751525878906\n",
      "mean_log_p,shapetorch.Size([]), -162.46563720703125\n",
      "mean_log_q.shapetorch.Size([]), -40.57175827026367\n"
     ]
    },
    {
     "name": "stderr",
     "output_type": "stream",
     "text": [
      " 57%|█████▋    | 532/938 [00:38<00:34, 11.75it/s]"
     ]
    },
    {
     "name": "stdout",
     "output_type": "stream",
     "text": [
      "mean_log_p,shapetorch.Size([]), -166.98715209960938\n",
      "mean_log_q.shapetorch.Size([]), -41.41276550292969\n",
      "mean_log_p,shapetorch.Size([]), -162.9876708984375\n",
      "mean_log_q.shapetorch.Size([]), -40.92679977416992\n"
     ]
    },
    {
     "name": "stderr",
     "output_type": "stream",
     "text": [
      " 57%|█████▋    | 534/938 [00:38<00:35, 11.44it/s]"
     ]
    },
    {
     "name": "stdout",
     "output_type": "stream",
     "text": [
      "mean_log_p,shapetorch.Size([]), -169.95172119140625\n",
      "mean_log_q.shapetorch.Size([]), -41.11994552612305\n",
      "mean_log_p,shapetorch.Size([]), -160.72760009765625\n",
      "mean_log_q.shapetorch.Size([]), -40.985313415527344\n"
     ]
    },
    {
     "name": "stderr",
     "output_type": "stream",
     "text": [
      " 57%|█████▋    | 536/938 [00:38<00:34, 11.65it/s]"
     ]
    },
    {
     "name": "stdout",
     "output_type": "stream",
     "text": [
      "mean_log_p,shapetorch.Size([]), -166.5816650390625\n",
      "mean_log_q.shapetorch.Size([]), -41.14183807373047\n",
      "mean_log_p,shapetorch.Size([]), -174.02880859375\n",
      "mean_log_q.shapetorch.Size([]), -41.89154052734375\n"
     ]
    },
    {
     "name": "stderr",
     "output_type": "stream",
     "text": [
      " 57%|█████▋    | 538/938 [00:39<00:34, 11.54it/s]"
     ]
    },
    {
     "name": "stdout",
     "output_type": "stream",
     "text": [
      "mean_log_p,shapetorch.Size([]), -170.73602294921875\n",
      "mean_log_q.shapetorch.Size([]), -40.65887451171875\n",
      "mean_log_p,shapetorch.Size([]), -165.29592895507812\n",
      "mean_log_q.shapetorch.Size([]), -41.2746696472168\n"
     ]
    },
    {
     "name": "stderr",
     "output_type": "stream",
     "text": [
      " 58%|█████▊    | 540/938 [00:39<00:34, 11.70it/s]"
     ]
    },
    {
     "name": "stdout",
     "output_type": "stream",
     "text": [
      "mean_log_p,shapetorch.Size([]), -172.81927490234375\n",
      "mean_log_q.shapetorch.Size([]), -41.16185760498047\n",
      "mean_log_p,shapetorch.Size([]), -161.54861450195312\n",
      "mean_log_q.shapetorch.Size([]), -42.200347900390625\n"
     ]
    },
    {
     "name": "stderr",
     "output_type": "stream",
     "text": [
      " 58%|█████▊    | 542/938 [00:39<00:33, 11.90it/s]"
     ]
    },
    {
     "name": "stdout",
     "output_type": "stream",
     "text": [
      "mean_log_p,shapetorch.Size([]), -166.99786376953125\n",
      "mean_log_q.shapetorch.Size([]), -41.12599182128906\n",
      "mean_log_p,shapetorch.Size([]), -170.79769897460938\n",
      "mean_log_q.shapetorch.Size([]), -41.28385925292969\n"
     ]
    },
    {
     "name": "stderr",
     "output_type": "stream",
     "text": [
      " 58%|█████▊    | 544/938 [00:39<00:33, 11.82it/s]"
     ]
    },
    {
     "name": "stdout",
     "output_type": "stream",
     "text": [
      "mean_log_p,shapetorch.Size([]), -171.7822265625\n",
      "mean_log_q.shapetorch.Size([]), -40.853641510009766\n",
      "mean_log_p,shapetorch.Size([]), -166.1754608154297\n",
      "mean_log_q.shapetorch.Size([]), -41.44944763183594\n"
     ]
    },
    {
     "name": "stderr",
     "output_type": "stream",
     "text": [
      " 58%|█████▊    | 546/938 [00:39<00:32, 11.98it/s]"
     ]
    },
    {
     "name": "stdout",
     "output_type": "stream",
     "text": [
      "mean_log_p,shapetorch.Size([]), -163.91583251953125\n",
      "mean_log_q.shapetorch.Size([]), -41.22661590576172\n",
      "mean_log_p,shapetorch.Size([]), -174.0091552734375\n",
      "mean_log_q.shapetorch.Size([]), -41.788604736328125\n"
     ]
    },
    {
     "name": "stderr",
     "output_type": "stream",
     "text": [
      " 58%|█████▊    | 548/938 [00:39<00:32, 11.95it/s]"
     ]
    },
    {
     "name": "stdout",
     "output_type": "stream",
     "text": [
      "mean_log_p,shapetorch.Size([]), -165.76564025878906\n",
      "mean_log_q.shapetorch.Size([]), -41.44152069091797\n",
      "mean_log_p,shapetorch.Size([]), -168.05699157714844\n",
      "mean_log_q.shapetorch.Size([]), -40.951210021972656\n"
     ]
    },
    {
     "name": "stderr",
     "output_type": "stream",
     "text": [
      " 59%|█████▉    | 552/938 [00:40<00:24, 15.58it/s]"
     ]
    },
    {
     "name": "stdout",
     "output_type": "stream",
     "text": [
      "mean_log_p,shapetorch.Size([]), -165.16445922851562\n",
      "mean_log_q.shapetorch.Size([]), -41.91478729248047\n",
      "mean_log_p,shapetorch.Size([]), -169.84689331054688\n",
      "mean_log_q.shapetorch.Size([]), -41.24009704589844\n"
     ]
    },
    {
     "name": "stderr",
     "output_type": "stream",
     "text": [
      " 59%|█████▉    | 554/938 [00:40<00:26, 14.76it/s]"
     ]
    },
    {
     "name": "stdout",
     "output_type": "stream",
     "text": [
      "mean_log_p,shapetorch.Size([]), -163.53810119628906\n",
      "mean_log_q.shapetorch.Size([]), -41.24224090576172\n",
      "mean_log_p,shapetorch.Size([]), -157.93112182617188\n",
      "mean_log_q.shapetorch.Size([]), -41.531700134277344\n"
     ]
    },
    {
     "name": "stderr",
     "output_type": "stream",
     "text": [
      " 59%|█████▉    | 556/938 [00:40<00:27, 13.98it/s]"
     ]
    },
    {
     "name": "stdout",
     "output_type": "stream",
     "text": [
      "mean_log_p,shapetorch.Size([]), -164.87820434570312\n",
      "mean_log_q.shapetorch.Size([]), -42.286293029785156\n",
      "mean_log_p,shapetorch.Size([]), -163.6549072265625\n",
      "mean_log_q.shapetorch.Size([]), -42.155494689941406\n"
     ]
    },
    {
     "name": "stderr",
     "output_type": "stream",
     "text": [
      " 59%|█████▉    | 558/938 [00:40<00:28, 13.54it/s]"
     ]
    },
    {
     "name": "stdout",
     "output_type": "stream",
     "text": [
      "mean_log_p,shapetorch.Size([]), -165.5651397705078\n",
      "mean_log_q.shapetorch.Size([]), -41.692527770996094\n",
      "mean_log_p,shapetorch.Size([]), -166.47955322265625\n",
      "mean_log_q.shapetorch.Size([]), -41.470245361328125\n"
     ]
    },
    {
     "name": "stderr",
     "output_type": "stream",
     "text": [
      " 60%|█████▉    | 560/938 [00:40<00:29, 13.01it/s]"
     ]
    },
    {
     "name": "stdout",
     "output_type": "stream",
     "text": [
      "mean_log_p,shapetorch.Size([]), -169.783935546875\n",
      "mean_log_q.shapetorch.Size([]), -41.45451354980469\n",
      "mean_log_p,shapetorch.Size([]), -169.09353637695312\n",
      "mean_log_q.shapetorch.Size([]), -40.49462127685547\n"
     ]
    },
    {
     "name": "stderr",
     "output_type": "stream",
     "text": [
      " 60%|█████▉    | 562/938 [00:40<00:29, 12.79it/s]"
     ]
    },
    {
     "name": "stdout",
     "output_type": "stream",
     "text": [
      "mean_log_p,shapetorch.Size([]), -167.5648651123047\n",
      "mean_log_q.shapetorch.Size([]), -42.26803207397461\n",
      "mean_log_p,shapetorch.Size([]), -165.84234619140625\n",
      "mean_log_q.shapetorch.Size([]), -40.710262298583984\n"
     ]
    },
    {
     "name": "stderr",
     "output_type": "stream",
     "text": [
      " 60%|██████    | 564/938 [00:41<00:29, 12.69it/s]"
     ]
    },
    {
     "name": "stdout",
     "output_type": "stream",
     "text": [
      "mean_log_p,shapetorch.Size([]), -168.50071716308594\n",
      "mean_log_q.shapetorch.Size([]), -40.83118438720703\n",
      "mean_log_p,shapetorch.Size([]), -160.20770263671875\n",
      "mean_log_q.shapetorch.Size([]), -40.139747619628906\n"
     ]
    },
    {
     "name": "stderr",
     "output_type": "stream",
     "text": [
      " 60%|██████    | 566/938 [00:41<00:29, 12.47it/s]"
     ]
    },
    {
     "name": "stdout",
     "output_type": "stream",
     "text": [
      "mean_log_p,shapetorch.Size([]), -170.77102661132812\n",
      "mean_log_q.shapetorch.Size([]), -40.26042175292969\n",
      "mean_log_p,shapetorch.Size([]), -165.07949829101562\n",
      "mean_log_q.shapetorch.Size([]), -40.788169860839844\n"
     ]
    },
    {
     "name": "stderr",
     "output_type": "stream",
     "text": [
      " 61%|██████    | 568/938 [00:41<00:29, 12.36it/s]"
     ]
    },
    {
     "name": "stdout",
     "output_type": "stream",
     "text": [
      "mean_log_p,shapetorch.Size([]), -166.6470947265625\n",
      "mean_log_q.shapetorch.Size([]), -40.17123031616211\n",
      "mean_log_p,shapetorch.Size([]), -165.2728271484375\n",
      "mean_log_q.shapetorch.Size([]), -41.097381591796875\n"
     ]
    },
    {
     "name": "stderr",
     "output_type": "stream",
     "text": [
      " 61%|██████    | 570/938 [00:41<00:29, 12.41it/s]"
     ]
    },
    {
     "name": "stdout",
     "output_type": "stream",
     "text": [
      "mean_log_p,shapetorch.Size([]), -156.3256378173828\n",
      "mean_log_q.shapetorch.Size([]), -40.769527435302734\n",
      "mean_log_p,shapetorch.Size([]), -164.68099975585938\n",
      "mean_log_q.shapetorch.Size([]), -40.75242614746094\n"
     ]
    },
    {
     "name": "stderr",
     "output_type": "stream",
     "text": [
      " 61%|██████    | 572/938 [00:41<00:29, 12.27it/s]"
     ]
    },
    {
     "name": "stdout",
     "output_type": "stream",
     "text": [
      "mean_log_p,shapetorch.Size([]), -167.56045532226562\n",
      "mean_log_q.shapetorch.Size([]), -40.97056198120117\n",
      "mean_log_p,shapetorch.Size([]), -167.18527221679688\n",
      "mean_log_q.shapetorch.Size([]), -41.96542739868164\n"
     ]
    },
    {
     "name": "stderr",
     "output_type": "stream",
     "text": [
      " 61%|██████    | 574/938 [00:41<00:29, 12.19it/s]"
     ]
    },
    {
     "name": "stdout",
     "output_type": "stream",
     "text": [
      "mean_log_p,shapetorch.Size([]), -170.8097381591797\n",
      "mean_log_q.shapetorch.Size([]), -41.81729507446289\n",
      "mean_log_p,shapetorch.Size([]), -169.7151641845703\n",
      "mean_log_q.shapetorch.Size([]), -41.489830017089844\n"
     ]
    },
    {
     "name": "stderr",
     "output_type": "stream",
     "text": [
      " 61%|██████▏   | 576/938 [00:42<00:29, 12.17it/s]"
     ]
    },
    {
     "name": "stdout",
     "output_type": "stream",
     "text": [
      "mean_log_p,shapetorch.Size([]), -166.62774658203125\n",
      "mean_log_q.shapetorch.Size([]), -41.38416290283203\n",
      "mean_log_p,shapetorch.Size([]), -169.3939666748047\n",
      "mean_log_q.shapetorch.Size([]), -42.07410430908203\n"
     ]
    },
    {
     "name": "stderr",
     "output_type": "stream",
     "text": [
      " 62%|██████▏   | 578/938 [00:42<00:29, 12.11it/s]"
     ]
    },
    {
     "name": "stdout",
     "output_type": "stream",
     "text": [
      "mean_log_p,shapetorch.Size([]), -165.6499786376953\n",
      "mean_log_q.shapetorch.Size([]), -41.933921813964844\n",
      "mean_log_p,shapetorch.Size([]), -172.0293731689453\n",
      "mean_log_q.shapetorch.Size([]), -41.093936920166016\n"
     ]
    },
    {
     "name": "stderr",
     "output_type": "stream",
     "text": [
      " 62%|██████▏   | 580/938 [00:42<00:29, 12.18it/s]"
     ]
    },
    {
     "name": "stdout",
     "output_type": "stream",
     "text": [
      "mean_log_p,shapetorch.Size([]), -174.35427856445312\n",
      "mean_log_q.shapetorch.Size([]), -41.79035568237305\n",
      "mean_log_p,shapetorch.Size([]), -165.5660858154297\n",
      "mean_log_q.shapetorch.Size([]), -39.896934509277344\n"
     ]
    },
    {
     "name": "stderr",
     "output_type": "stream",
     "text": [
      " 62%|██████▏   | 582/938 [00:42<00:29, 12.12it/s]"
     ]
    },
    {
     "name": "stdout",
     "output_type": "stream",
     "text": [
      "mean_log_p,shapetorch.Size([]), -162.43231201171875\n",
      "mean_log_q.shapetorch.Size([]), -41.409915924072266\n",
      "mean_log_p,shapetorch.Size([]), -166.2249755859375\n",
      "mean_log_q.shapetorch.Size([]), -40.664546966552734\n"
     ]
    },
    {
     "name": "stderr",
     "output_type": "stream",
     "text": [
      " 62%|██████▏   | 584/938 [00:42<00:29, 12.12it/s]"
     ]
    },
    {
     "name": "stdout",
     "output_type": "stream",
     "text": [
      "mean_log_p,shapetorch.Size([]), -163.48834228515625\n",
      "mean_log_q.shapetorch.Size([]), -41.12578582763672\n",
      "mean_log_p,shapetorch.Size([]), -154.49838256835938\n",
      "mean_log_q.shapetorch.Size([]), -41.02490997314453\n"
     ]
    },
    {
     "name": "stderr",
     "output_type": "stream",
     "text": [
      " 62%|██████▏   | 586/938 [00:42<00:28, 12.28it/s]"
     ]
    },
    {
     "name": "stdout",
     "output_type": "stream",
     "text": [
      "mean_log_p,shapetorch.Size([]), -161.39285278320312\n",
      "mean_log_q.shapetorch.Size([]), -40.93572998046875\n",
      "mean_log_p,shapetorch.Size([]), -164.27735900878906\n",
      "mean_log_q.shapetorch.Size([]), -41.55750274658203\n"
     ]
    },
    {
     "name": "stderr",
     "output_type": "stream",
     "text": [
      " 63%|██████▎   | 588/938 [00:42<00:28, 12.31it/s]"
     ]
    },
    {
     "name": "stdout",
     "output_type": "stream",
     "text": [
      "mean_log_p,shapetorch.Size([]), -164.4525604248047\n",
      "mean_log_q.shapetorch.Size([]), -41.116798400878906\n",
      "mean_log_p,shapetorch.Size([]), -160.52108764648438\n",
      "mean_log_q.shapetorch.Size([]), -41.425567626953125\n"
     ]
    },
    {
     "name": "stderr",
     "output_type": "stream",
     "text": [
      " 63%|██████▎   | 590/938 [00:43<00:29, 11.88it/s]"
     ]
    },
    {
     "name": "stdout",
     "output_type": "stream",
     "text": [
      "mean_log_p,shapetorch.Size([]), -163.99440002441406\n",
      "mean_log_q.shapetorch.Size([]), -40.481666564941406\n",
      "mean_log_p,shapetorch.Size([]), -155.40931701660156\n",
      "mean_log_q.shapetorch.Size([]), -41.76432800292969\n"
     ]
    },
    {
     "name": "stderr",
     "output_type": "stream",
     "text": [
      " 63%|██████▎   | 592/938 [00:43<00:28, 11.95it/s]"
     ]
    },
    {
     "name": "stdout",
     "output_type": "stream",
     "text": [
      "mean_log_p,shapetorch.Size([]), -166.4559783935547\n",
      "mean_log_q.shapetorch.Size([]), -41.887107849121094\n",
      "mean_log_p,shapetorch.Size([]), -168.72122192382812\n",
      "mean_log_q.shapetorch.Size([]), -40.78385925292969\n"
     ]
    },
    {
     "name": "stderr",
     "output_type": "stream",
     "text": [
      " 63%|██████▎   | 594/938 [00:43<00:28, 12.16it/s]"
     ]
    },
    {
     "name": "stdout",
     "output_type": "stream",
     "text": [
      "mean_log_p,shapetorch.Size([]), -172.33261108398438\n",
      "mean_log_q.shapetorch.Size([]), -41.559539794921875\n",
      "mean_log_p,shapetorch.Size([]), -164.8057861328125\n",
      "mean_log_q.shapetorch.Size([]), -40.9594841003418\n"
     ]
    },
    {
     "name": "stderr",
     "output_type": "stream",
     "text": [
      " 64%|██████▎   | 596/938 [00:43<00:28, 12.10it/s]"
     ]
    },
    {
     "name": "stdout",
     "output_type": "stream",
     "text": [
      "mean_log_p,shapetorch.Size([]), -162.27476501464844\n",
      "mean_log_q.shapetorch.Size([]), -41.551361083984375\n",
      "mean_log_p,shapetorch.Size([]), -172.6109619140625\n",
      "mean_log_q.shapetorch.Size([]), -40.51429748535156\n"
     ]
    },
    {
     "name": "stderr",
     "output_type": "stream",
     "text": [
      " 64%|██████▍   | 600/938 [00:43<00:21, 15.83it/s]"
     ]
    },
    {
     "name": "stdout",
     "output_type": "stream",
     "text": [
      "mean_log_p,shapetorch.Size([]), -165.03887939453125\n",
      "mean_log_q.shapetorch.Size([]), -40.99285125732422\n",
      "mean_log_p,shapetorch.Size([]), -166.15081787109375\n",
      "mean_log_q.shapetorch.Size([]), -41.44313049316406\n"
     ]
    },
    {
     "name": "stderr",
     "output_type": "stream",
     "text": [
      " 64%|██████▍   | 602/938 [00:43<00:22, 14.77it/s]"
     ]
    },
    {
     "name": "stdout",
     "output_type": "stream",
     "text": [
      "mean_log_p,shapetorch.Size([]), -162.75869750976562\n",
      "mean_log_q.shapetorch.Size([]), -40.583988189697266\n",
      "mean_log_p,shapetorch.Size([]), -163.23757934570312\n",
      "mean_log_q.shapetorch.Size([]), -41.16695785522461\n"
     ]
    },
    {
     "name": "stderr",
     "output_type": "stream",
     "text": [
      " 64%|██████▍   | 604/938 [00:44<00:23, 13.99it/s]"
     ]
    },
    {
     "name": "stdout",
     "output_type": "stream",
     "text": [
      "mean_log_p,shapetorch.Size([]), -166.58590698242188\n",
      "mean_log_q.shapetorch.Size([]), -41.092506408691406\n",
      "mean_log_p,shapetorch.Size([]), -167.00930786132812\n",
      "mean_log_q.shapetorch.Size([]), -41.43505096435547\n"
     ]
    },
    {
     "name": "stderr",
     "output_type": "stream",
     "text": [
      " 65%|██████▍   | 606/938 [00:44<00:25, 13.08it/s]"
     ]
    },
    {
     "name": "stdout",
     "output_type": "stream",
     "text": [
      "mean_log_p,shapetorch.Size([]), -160.80389404296875\n",
      "mean_log_q.shapetorch.Size([]), -40.455360412597656\n",
      "mean_log_p,shapetorch.Size([]), -160.00912475585938\n",
      "mean_log_q.shapetorch.Size([]), -41.153228759765625\n"
     ]
    },
    {
     "name": "stderr",
     "output_type": "stream",
     "text": [
      " 65%|██████▍   | 608/938 [00:44<00:26, 12.58it/s]"
     ]
    },
    {
     "name": "stdout",
     "output_type": "stream",
     "text": [
      "mean_log_p,shapetorch.Size([]), -160.8640594482422\n",
      "mean_log_q.shapetorch.Size([]), -41.59790802001953\n",
      "mean_log_p,shapetorch.Size([]), -161.46707153320312\n",
      "mean_log_q.shapetorch.Size([]), -41.06822204589844\n"
     ]
    },
    {
     "name": "stderr",
     "output_type": "stream",
     "text": [
      " 65%|██████▌   | 610/938 [00:44<00:26, 12.43it/s]"
     ]
    },
    {
     "name": "stdout",
     "output_type": "stream",
     "text": [
      "mean_log_p,shapetorch.Size([]), -168.13204956054688\n",
      "mean_log_q.shapetorch.Size([]), -41.11368179321289\n",
      "mean_log_p,shapetorch.Size([]), -166.99411010742188\n",
      "mean_log_q.shapetorch.Size([]), -40.68324279785156\n"
     ]
    },
    {
     "name": "stderr",
     "output_type": "stream",
     "text": [
      " 65%|██████▌   | 612/938 [00:44<00:26, 12.44it/s]"
     ]
    },
    {
     "name": "stdout",
     "output_type": "stream",
     "text": [
      "mean_log_p,shapetorch.Size([]), -160.00369262695312\n",
      "mean_log_q.shapetorch.Size([]), -41.47586441040039\n",
      "mean_log_p,shapetorch.Size([]), -162.57679748535156\n",
      "mean_log_q.shapetorch.Size([]), -40.43514633178711\n"
     ]
    },
    {
     "name": "stderr",
     "output_type": "stream",
     "text": [
      " 65%|██████▌   | 614/938 [00:45<00:26, 12.26it/s]"
     ]
    },
    {
     "name": "stdout",
     "output_type": "stream",
     "text": [
      "mean_log_p,shapetorch.Size([]), -161.37542724609375\n",
      "mean_log_q.shapetorch.Size([]), -41.32347106933594\n",
      "mean_log_p,shapetorch.Size([]), -154.23179626464844\n",
      "mean_log_q.shapetorch.Size([]), -40.686859130859375\n"
     ]
    },
    {
     "name": "stderr",
     "output_type": "stream",
     "text": [
      " 66%|██████▌   | 616/938 [00:45<00:26, 11.95it/s]"
     ]
    },
    {
     "name": "stdout",
     "output_type": "stream",
     "text": [
      "mean_log_p,shapetorch.Size([]), -170.570068359375\n",
      "mean_log_q.shapetorch.Size([]), -40.212608337402344\n",
      "mean_log_p,shapetorch.Size([]), -161.07411193847656\n",
      "mean_log_q.shapetorch.Size([]), -40.99659729003906\n"
     ]
    },
    {
     "name": "stderr",
     "output_type": "stream",
     "text": [
      " 66%|██████▌   | 618/938 [00:45<00:27, 11.63it/s]"
     ]
    },
    {
     "name": "stdout",
     "output_type": "stream",
     "text": [
      "mean_log_p,shapetorch.Size([]), -165.14358520507812\n",
      "mean_log_q.shapetorch.Size([]), -41.054622650146484\n",
      "mean_log_p,shapetorch.Size([]), -162.78286743164062\n",
      "mean_log_q.shapetorch.Size([]), -41.46143341064453\n"
     ]
    },
    {
     "name": "stderr",
     "output_type": "stream",
     "text": [
      " 66%|██████▌   | 620/938 [00:45<00:27, 11.72it/s]"
     ]
    },
    {
     "name": "stdout",
     "output_type": "stream",
     "text": [
      "mean_log_p,shapetorch.Size([]), -165.55348205566406\n",
      "mean_log_q.shapetorch.Size([]), -40.942962646484375\n",
      "mean_log_p,shapetorch.Size([]), -162.68447875976562\n",
      "mean_log_q.shapetorch.Size([]), -40.61126708984375\n"
     ]
    },
    {
     "name": "stderr",
     "output_type": "stream",
     "text": [
      " 66%|██████▋   | 622/938 [00:45<00:26, 11.73it/s]"
     ]
    },
    {
     "name": "stdout",
     "output_type": "stream",
     "text": [
      "mean_log_p,shapetorch.Size([]), -166.7902069091797\n",
      "mean_log_q.shapetorch.Size([]), -41.02756881713867\n",
      "mean_log_p,shapetorch.Size([]), -159.13766479492188\n",
      "mean_log_q.shapetorch.Size([]), -41.53292465209961\n"
     ]
    },
    {
     "name": "stderr",
     "output_type": "stream",
     "text": [
      " 67%|██████▋   | 624/938 [00:45<00:26, 11.95it/s]"
     ]
    },
    {
     "name": "stdout",
     "output_type": "stream",
     "text": [
      "mean_log_p,shapetorch.Size([]), -163.24278259277344\n",
      "mean_log_q.shapetorch.Size([]), -41.548580169677734\n",
      "mean_log_p,shapetorch.Size([]), -168.19033813476562\n",
      "mean_log_q.shapetorch.Size([]), -41.45133972167969\n"
     ]
    },
    {
     "name": "stderr",
     "output_type": "stream",
     "text": [
      " 67%|██████▋   | 626/938 [00:46<00:26, 12.00it/s]"
     ]
    },
    {
     "name": "stdout",
     "output_type": "stream",
     "text": [
      "mean_log_p,shapetorch.Size([]), -163.103515625\n",
      "mean_log_q.shapetorch.Size([]), -41.011940002441406\n",
      "mean_log_p,shapetorch.Size([]), -170.06988525390625\n",
      "mean_log_q.shapetorch.Size([]), -41.264869689941406\n"
     ]
    },
    {
     "name": "stderr",
     "output_type": "stream",
     "text": [
      " 67%|██████▋   | 628/938 [00:46<00:25, 12.09it/s]"
     ]
    },
    {
     "name": "stdout",
     "output_type": "stream",
     "text": [
      "mean_log_p,shapetorch.Size([]), -168.61236572265625\n",
      "mean_log_q.shapetorch.Size([]), -42.04309844970703\n",
      "mean_log_p,shapetorch.Size([]), -166.13394165039062\n",
      "mean_log_q.shapetorch.Size([]), -41.06972122192383\n"
     ]
    },
    {
     "name": "stderr",
     "output_type": "stream",
     "text": [
      " 67%|██████▋   | 630/938 [00:46<00:25, 12.17it/s]"
     ]
    },
    {
     "name": "stdout",
     "output_type": "stream",
     "text": [
      "mean_log_p,shapetorch.Size([]), -171.56802368164062\n",
      "mean_log_q.shapetorch.Size([]), -40.67721176147461\n",
      "mean_log_p,shapetorch.Size([]), -162.4386444091797\n",
      "mean_log_q.shapetorch.Size([]), -40.652313232421875\n"
     ]
    },
    {
     "name": "stderr",
     "output_type": "stream",
     "text": [
      " 67%|██████▋   | 632/938 [00:46<00:25, 12.09it/s]"
     ]
    },
    {
     "name": "stdout",
     "output_type": "stream",
     "text": [
      "mean_log_p,shapetorch.Size([]), -166.3883056640625\n",
      "mean_log_q.shapetorch.Size([]), -40.74348449707031\n",
      "mean_log_p,shapetorch.Size([]), -165.88418579101562\n",
      "mean_log_q.shapetorch.Size([]), -40.50736999511719\n"
     ]
    },
    {
     "name": "stderr",
     "output_type": "stream",
     "text": [
      " 68%|██████▊   | 634/938 [00:46<00:25, 11.99it/s]"
     ]
    },
    {
     "name": "stdout",
     "output_type": "stream",
     "text": [
      "mean_log_p,shapetorch.Size([]), -165.35971069335938\n",
      "mean_log_q.shapetorch.Size([]), -41.58168029785156\n",
      "mean_log_p,shapetorch.Size([]), -158.60906982421875\n",
      "mean_log_q.shapetorch.Size([]), -40.96141815185547\n"
     ]
    },
    {
     "name": "stderr",
     "output_type": "stream",
     "text": [
      " 68%|██████▊   | 636/938 [00:46<00:24, 12.17it/s]"
     ]
    },
    {
     "name": "stdout",
     "output_type": "stream",
     "text": [
      "mean_log_p,shapetorch.Size([]), -158.3678436279297\n",
      "mean_log_q.shapetorch.Size([]), -41.95310974121094\n",
      "mean_log_p,shapetorch.Size([]), -173.6422576904297\n",
      "mean_log_q.shapetorch.Size([]), -40.85596466064453\n"
     ]
    },
    {
     "name": "stderr",
     "output_type": "stream",
     "text": [
      " 68%|██████▊   | 638/938 [00:47<00:24, 12.03it/s]"
     ]
    },
    {
     "name": "stdout",
     "output_type": "stream",
     "text": [
      "mean_log_p,shapetorch.Size([]), -166.75689697265625\n",
      "mean_log_q.shapetorch.Size([]), -41.990997314453125\n",
      "mean_log_p,shapetorch.Size([]), -160.98208618164062\n",
      "mean_log_q.shapetorch.Size([]), -41.745635986328125\n"
     ]
    },
    {
     "name": "stderr",
     "output_type": "stream",
     "text": [
      " 68%|██████▊   | 640/938 [00:47<00:24, 12.00it/s]"
     ]
    },
    {
     "name": "stdout",
     "output_type": "stream",
     "text": [
      "mean_log_p,shapetorch.Size([]), -173.0396270751953\n",
      "mean_log_q.shapetorch.Size([]), -41.267459869384766\n",
      "mean_log_p,shapetorch.Size([]), -165.03543090820312\n",
      "mean_log_q.shapetorch.Size([]), -41.62150192260742\n"
     ]
    },
    {
     "name": "stderr",
     "output_type": "stream",
     "text": [
      " 68%|██████▊   | 642/938 [00:47<00:24, 12.16it/s]"
     ]
    },
    {
     "name": "stdout",
     "output_type": "stream",
     "text": [
      "mean_log_p,shapetorch.Size([]), -165.08937072753906\n",
      "mean_log_q.shapetorch.Size([]), -40.95458221435547\n",
      "mean_log_p,shapetorch.Size([]), -164.07713317871094\n",
      "mean_log_q.shapetorch.Size([]), -41.206207275390625\n"
     ]
    },
    {
     "name": "stderr",
     "output_type": "stream",
     "text": [
      " 69%|██████▊   | 644/938 [00:47<00:24, 12.13it/s]"
     ]
    },
    {
     "name": "stdout",
     "output_type": "stream",
     "text": [
      "mean_log_p,shapetorch.Size([]), -163.7420654296875\n",
      "mean_log_q.shapetorch.Size([]), -40.937950134277344\n",
      "mean_log_p,shapetorch.Size([]), -168.22682189941406\n",
      "mean_log_q.shapetorch.Size([]), -39.94068145751953\n"
     ]
    },
    {
     "name": "stderr",
     "output_type": "stream",
     "text": [
      " 69%|██████▉   | 646/938 [00:47<00:24, 12.07it/s]"
     ]
    },
    {
     "name": "stdout",
     "output_type": "stream",
     "text": [
      "mean_log_p,shapetorch.Size([]), -164.1240234375\n",
      "mean_log_q.shapetorch.Size([]), -40.79909896850586\n",
      "mean_log_p,shapetorch.Size([]), -157.8082275390625\n",
      "mean_log_q.shapetorch.Size([]), -40.73337173461914\n"
     ]
    },
    {
     "name": "stderr",
     "output_type": "stream",
     "text": [
      " 69%|██████▉   | 650/938 [00:47<00:18, 15.53it/s]"
     ]
    },
    {
     "name": "stdout",
     "output_type": "stream",
     "text": [
      "mean_log_p,shapetorch.Size([]), -162.71046447753906\n",
      "mean_log_q.shapetorch.Size([]), -40.81386184692383\n",
      "mean_log_p,shapetorch.Size([]), -163.13323974609375\n",
      "mean_log_q.shapetorch.Size([]), -40.44102096557617\n"
     ]
    },
    {
     "name": "stderr",
     "output_type": "stream",
     "text": [
      " 70%|██████▉   | 652/938 [00:48<00:19, 14.53it/s]"
     ]
    },
    {
     "name": "stdout",
     "output_type": "stream",
     "text": [
      "mean_log_p,shapetorch.Size([]), -169.07162475585938\n",
      "mean_log_q.shapetorch.Size([]), -41.188453674316406\n",
      "mean_log_p,shapetorch.Size([]), -166.95159912109375\n",
      "mean_log_q.shapetorch.Size([]), -40.791866302490234\n"
     ]
    },
    {
     "name": "stderr",
     "output_type": "stream",
     "text": [
      " 70%|██████▉   | 654/938 [00:48<00:20, 13.76it/s]"
     ]
    },
    {
     "name": "stdout",
     "output_type": "stream",
     "text": [
      "mean_log_p,shapetorch.Size([]), -164.98513793945312\n",
      "mean_log_q.shapetorch.Size([]), -41.10914611816406\n",
      "mean_log_p,shapetorch.Size([]), -161.19161987304688\n",
      "mean_log_q.shapetorch.Size([]), -41.54987335205078\n"
     ]
    },
    {
     "name": "stderr",
     "output_type": "stream",
     "text": [
      " 70%|██████▉   | 656/938 [00:48<00:21, 13.33it/s]"
     ]
    },
    {
     "name": "stdout",
     "output_type": "stream",
     "text": [
      "mean_log_p,shapetorch.Size([]), -167.13754272460938\n",
      "mean_log_q.shapetorch.Size([]), -41.208518981933594\n",
      "mean_log_p,shapetorch.Size([]), -156.5655517578125\n",
      "mean_log_q.shapetorch.Size([]), -40.688255310058594\n"
     ]
    },
    {
     "name": "stderr",
     "output_type": "stream",
     "text": [
      " 70%|███████   | 658/938 [00:48<00:21, 12.89it/s]"
     ]
    },
    {
     "name": "stdout",
     "output_type": "stream",
     "text": [
      "mean_log_p,shapetorch.Size([]), -167.19940185546875\n",
      "mean_log_q.shapetorch.Size([]), -41.38060760498047\n",
      "mean_log_p,shapetorch.Size([]), -162.59451293945312\n",
      "mean_log_q.shapetorch.Size([]), -40.77609634399414\n"
     ]
    },
    {
     "name": "stderr",
     "output_type": "stream",
     "text": [
      " 70%|███████   | 660/938 [00:48<00:21, 12.66it/s]"
     ]
    },
    {
     "name": "stdout",
     "output_type": "stream",
     "text": [
      "mean_log_p,shapetorch.Size([]), -166.55381774902344\n",
      "mean_log_q.shapetorch.Size([]), -41.03989028930664\n",
      "mean_log_p,shapetorch.Size([]), -160.88308715820312\n",
      "mean_log_q.shapetorch.Size([]), -40.96376419067383\n"
     ]
    },
    {
     "name": "stderr",
     "output_type": "stream",
     "text": [
      " 71%|███████   | 662/938 [00:48<00:22, 12.54it/s]"
     ]
    },
    {
     "name": "stdout",
     "output_type": "stream",
     "text": [
      "mean_log_p,shapetorch.Size([]), -160.66015625\n",
      "mean_log_q.shapetorch.Size([]), -40.779258728027344\n",
      "mean_log_p,shapetorch.Size([]), -165.56396484375\n",
      "mean_log_q.shapetorch.Size([]), -40.626461029052734\n"
     ]
    },
    {
     "name": "stderr",
     "output_type": "stream",
     "text": [
      " 71%|███████   | 664/938 [00:49<00:22, 12.33it/s]"
     ]
    },
    {
     "name": "stdout",
     "output_type": "stream",
     "text": [
      "mean_log_p,shapetorch.Size([]), -158.50448608398438\n",
      "mean_log_q.shapetorch.Size([]), -41.438743591308594\n",
      "mean_log_p,shapetorch.Size([]), -160.60177612304688\n",
      "mean_log_q.shapetorch.Size([]), -41.35574722290039\n"
     ]
    },
    {
     "name": "stderr",
     "output_type": "stream",
     "text": [
      " 71%|███████   | 666/938 [00:49<00:21, 12.38it/s]"
     ]
    },
    {
     "name": "stdout",
     "output_type": "stream",
     "text": [
      "mean_log_p,shapetorch.Size([]), -167.34130859375\n",
      "mean_log_q.shapetorch.Size([]), -40.94682312011719\n",
      "mean_log_p,shapetorch.Size([]), -163.04200744628906\n",
      "mean_log_q.shapetorch.Size([]), -40.84160614013672\n"
     ]
    },
    {
     "name": "stderr",
     "output_type": "stream",
     "text": [
      " 71%|███████   | 668/938 [00:49<00:22, 12.26it/s]"
     ]
    },
    {
     "name": "stdout",
     "output_type": "stream",
     "text": [
      "mean_log_p,shapetorch.Size([]), -169.42770385742188\n",
      "mean_log_q.shapetorch.Size([]), -41.39572525024414\n",
      "mean_log_p,shapetorch.Size([]), -160.5852813720703\n",
      "mean_log_q.shapetorch.Size([]), -41.202457427978516\n"
     ]
    },
    {
     "name": "stderr",
     "output_type": "stream",
     "text": [
      " 71%|███████▏  | 670/938 [00:49<00:22, 12.08it/s]"
     ]
    },
    {
     "name": "stdout",
     "output_type": "stream",
     "text": [
      "mean_log_p,shapetorch.Size([]), -166.54229736328125\n",
      "mean_log_q.shapetorch.Size([]), -40.73149490356445\n",
      "mean_log_p,shapetorch.Size([]), -164.86993408203125\n",
      "mean_log_q.shapetorch.Size([]), -41.16112518310547\n"
     ]
    },
    {
     "name": "stderr",
     "output_type": "stream",
     "text": [
      " 72%|███████▏  | 672/938 [00:49<00:21, 12.25it/s]"
     ]
    },
    {
     "name": "stdout",
     "output_type": "stream",
     "text": [
      "mean_log_p,shapetorch.Size([]), -166.695556640625\n",
      "mean_log_q.shapetorch.Size([]), -40.87797546386719\n",
      "mean_log_p,shapetorch.Size([]), -156.86221313476562\n",
      "mean_log_q.shapetorch.Size([]), -40.689125061035156\n"
     ]
    },
    {
     "name": "stderr",
     "output_type": "stream",
     "text": [
      " 72%|███████▏  | 674/938 [00:49<00:22, 11.95it/s]"
     ]
    },
    {
     "name": "stdout",
     "output_type": "stream",
     "text": [
      "mean_log_p,shapetorch.Size([]), -166.35589599609375\n",
      "mean_log_q.shapetorch.Size([]), -41.26380920410156\n",
      "mean_log_p,shapetorch.Size([]), -164.69192504882812\n",
      "mean_log_q.shapetorch.Size([]), -40.74983596801758\n"
     ]
    },
    {
     "name": "stderr",
     "output_type": "stream",
     "text": [
      " 72%|███████▏  | 676/938 [00:50<00:21, 11.97it/s]"
     ]
    },
    {
     "name": "stdout",
     "output_type": "stream",
     "text": [
      "mean_log_p,shapetorch.Size([]), -163.12164306640625\n",
      "mean_log_q.shapetorch.Size([]), -40.95880889892578\n",
      "mean_log_p,shapetorch.Size([]), -162.657470703125\n",
      "mean_log_q.shapetorch.Size([]), -41.396297454833984\n"
     ]
    },
    {
     "name": "stderr",
     "output_type": "stream",
     "text": [
      " 72%|███████▏  | 678/938 [00:50<00:22, 11.74it/s]"
     ]
    },
    {
     "name": "stdout",
     "output_type": "stream",
     "text": [
      "mean_log_p,shapetorch.Size([]), -167.63516235351562\n",
      "mean_log_q.shapetorch.Size([]), -40.74312973022461\n",
      "mean_log_p,shapetorch.Size([]), -157.6576690673828\n",
      "mean_log_q.shapetorch.Size([]), -40.534934997558594\n"
     ]
    },
    {
     "name": "stderr",
     "output_type": "stream",
     "text": [
      " 72%|███████▏  | 680/938 [00:50<00:22, 11.53it/s]"
     ]
    },
    {
     "name": "stdout",
     "output_type": "stream",
     "text": [
      "mean_log_p,shapetorch.Size([]), -168.52688598632812\n",
      "mean_log_q.shapetorch.Size([]), -40.48709487915039\n",
      "mean_log_p,shapetorch.Size([]), -159.89427185058594\n",
      "mean_log_q.shapetorch.Size([]), -40.148216247558594\n"
     ]
    },
    {
     "name": "stderr",
     "output_type": "stream",
     "text": [
      " 73%|███████▎  | 682/938 [00:50<00:21, 11.77it/s]"
     ]
    },
    {
     "name": "stdout",
     "output_type": "stream",
     "text": [
      "mean_log_p,shapetorch.Size([]), -158.15420532226562\n",
      "mean_log_q.shapetorch.Size([]), -41.32378387451172\n",
      "mean_log_p,shapetorch.Size([]), -159.99574279785156\n",
      "mean_log_q.shapetorch.Size([]), -40.168243408203125\n"
     ]
    },
    {
     "name": "stderr",
     "output_type": "stream",
     "text": [
      " 73%|███████▎  | 684/938 [00:50<00:21, 11.74it/s]"
     ]
    },
    {
     "name": "stdout",
     "output_type": "stream",
     "text": [
      "mean_log_p,shapetorch.Size([]), -167.72637939453125\n",
      "mean_log_q.shapetorch.Size([]), -40.49189758300781\n",
      "mean_log_p,shapetorch.Size([]), -156.53414916992188\n",
      "mean_log_q.shapetorch.Size([]), -40.773250579833984\n"
     ]
    },
    {
     "name": "stderr",
     "output_type": "stream",
     "text": [
      " 73%|███████▎  | 686/938 [00:50<00:21, 11.68it/s]"
     ]
    },
    {
     "name": "stdout",
     "output_type": "stream",
     "text": [
      "mean_log_p,shapetorch.Size([]), -164.46685791015625\n",
      "mean_log_q.shapetorch.Size([]), -41.46935272216797\n",
      "mean_log_p,shapetorch.Size([]), -159.11724853515625\n",
      "mean_log_q.shapetorch.Size([]), -40.57231521606445\n"
     ]
    },
    {
     "name": "stderr",
     "output_type": "stream",
     "text": [
      " 73%|███████▎  | 688/938 [00:51<00:21, 11.75it/s]"
     ]
    },
    {
     "name": "stdout",
     "output_type": "stream",
     "text": [
      "mean_log_p,shapetorch.Size([]), -166.92030334472656\n",
      "mean_log_q.shapetorch.Size([]), -40.22349548339844\n",
      "mean_log_p,shapetorch.Size([]), -157.22454833984375\n",
      "mean_log_q.shapetorch.Size([]), -40.55643081665039\n"
     ]
    },
    {
     "name": "stderr",
     "output_type": "stream",
     "text": [
      " 74%|███████▎  | 690/938 [00:51<00:21, 11.63it/s]"
     ]
    },
    {
     "name": "stdout",
     "output_type": "stream",
     "text": [
      "mean_log_p,shapetorch.Size([]), -158.3173828125\n",
      "mean_log_q.shapetorch.Size([]), -40.87248992919922\n",
      "mean_log_p,shapetorch.Size([]), -160.12921142578125\n",
      "mean_log_q.shapetorch.Size([]), -40.78788757324219\n"
     ]
    },
    {
     "name": "stderr",
     "output_type": "stream",
     "text": [
      " 74%|███████▍  | 692/938 [00:51<00:20, 11.88it/s]"
     ]
    },
    {
     "name": "stdout",
     "output_type": "stream",
     "text": [
      "mean_log_p,shapetorch.Size([]), -165.09739685058594\n",
      "mean_log_q.shapetorch.Size([]), -40.3809928894043\n",
      "mean_log_p,shapetorch.Size([]), -157.72483825683594\n",
      "mean_log_q.shapetorch.Size([]), -41.23407745361328\n"
     ]
    },
    {
     "name": "stderr",
     "output_type": "stream",
     "text": [
      " 74%|███████▍  | 694/938 [00:51<00:20, 11.99it/s]"
     ]
    },
    {
     "name": "stdout",
     "output_type": "stream",
     "text": [
      "mean_log_p,shapetorch.Size([]), -157.86886596679688\n",
      "mean_log_q.shapetorch.Size([]), -40.79559326171875\n",
      "mean_log_p,shapetorch.Size([]), -162.8839111328125\n",
      "mean_log_q.shapetorch.Size([]), -41.075347900390625\n"
     ]
    },
    {
     "name": "stderr",
     "output_type": "stream",
     "text": [
      " 74%|███████▍  | 696/938 [00:51<00:19, 12.17it/s]"
     ]
    },
    {
     "name": "stdout",
     "output_type": "stream",
     "text": [
      "mean_log_p,shapetorch.Size([]), -164.43408203125\n",
      "mean_log_q.shapetorch.Size([]), -41.21466064453125\n",
      "mean_log_p,shapetorch.Size([]), -162.99508666992188\n",
      "mean_log_q.shapetorch.Size([]), -39.85497283935547\n"
     ]
    },
    {
     "name": "stderr",
     "output_type": "stream",
     "text": [
      " 74%|███████▍  | 698/938 [00:51<00:19, 12.30it/s]"
     ]
    },
    {
     "name": "stdout",
     "output_type": "stream",
     "text": [
      "mean_log_p,shapetorch.Size([]), -173.2469940185547\n",
      "mean_log_q.shapetorch.Size([]), -40.98794174194336\n",
      "mean_log_p,shapetorch.Size([]), -160.01312255859375\n",
      "mean_log_q.shapetorch.Size([]), -41.403541564941406\n"
     ]
    },
    {
     "name": "stderr",
     "output_type": "stream",
     "text": [
      " 75%|███████▍  | 702/938 [00:52<00:14, 16.04it/s]"
     ]
    },
    {
     "name": "stdout",
     "output_type": "stream",
     "text": [
      "mean_log_p,shapetorch.Size([]), -163.7406005859375\n",
      "mean_log_q.shapetorch.Size([]), -40.75348663330078\n",
      "mean_log_p,shapetorch.Size([]), -170.55567932128906\n",
      "mean_log_q.shapetorch.Size([]), -41.327579498291016\n"
     ]
    },
    {
     "name": "stderr",
     "output_type": "stream",
     "text": [
      " 75%|███████▌  | 704/938 [00:52<00:15, 14.66it/s]"
     ]
    },
    {
     "name": "stdout",
     "output_type": "stream",
     "text": [
      "mean_log_p,shapetorch.Size([]), -163.12088012695312\n",
      "mean_log_q.shapetorch.Size([]), -41.51124954223633\n",
      "mean_log_p,shapetorch.Size([]), -158.24888610839844\n",
      "mean_log_q.shapetorch.Size([]), -41.5128288269043\n"
     ]
    },
    {
     "name": "stderr",
     "output_type": "stream",
     "text": [
      " 75%|███████▌  | 706/938 [00:52<00:16, 14.08it/s]"
     ]
    },
    {
     "name": "stdout",
     "output_type": "stream",
     "text": [
      "mean_log_p,shapetorch.Size([]), -162.96328735351562\n",
      "mean_log_q.shapetorch.Size([]), -41.590293884277344\n",
      "mean_log_p,shapetorch.Size([]), -169.27635192871094\n",
      "mean_log_q.shapetorch.Size([]), -40.82786178588867\n"
     ]
    },
    {
     "name": "stderr",
     "output_type": "stream",
     "text": [
      " 75%|███████▌  | 708/938 [00:52<00:17, 13.51it/s]"
     ]
    },
    {
     "name": "stdout",
     "output_type": "stream",
     "text": [
      "mean_log_p,shapetorch.Size([]), -170.80914306640625\n",
      "mean_log_q.shapetorch.Size([]), -41.013099670410156\n",
      "mean_log_p,shapetorch.Size([]), -163.08627319335938\n",
      "mean_log_q.shapetorch.Size([]), -40.93711853027344\n"
     ]
    },
    {
     "name": "stderr",
     "output_type": "stream",
     "text": [
      " 76%|███████▌  | 710/938 [00:52<00:17, 13.11it/s]"
     ]
    },
    {
     "name": "stdout",
     "output_type": "stream",
     "text": [
      "mean_log_p,shapetorch.Size([]), -160.0162353515625\n",
      "mean_log_q.shapetorch.Size([]), -40.52809143066406\n",
      "mean_log_p,shapetorch.Size([]), -163.0883026123047\n",
      "mean_log_q.shapetorch.Size([]), -40.26984405517578\n"
     ]
    },
    {
     "name": "stderr",
     "output_type": "stream",
     "text": [
      " 76%|███████▌  | 712/938 [00:52<00:17, 12.82it/s]"
     ]
    },
    {
     "name": "stdout",
     "output_type": "stream",
     "text": [
      "mean_log_p,shapetorch.Size([]), -163.13905334472656\n",
      "mean_log_q.shapetorch.Size([]), -40.583251953125\n",
      "mean_log_p,shapetorch.Size([]), -159.62991333007812\n",
      "mean_log_q.shapetorch.Size([]), -40.51913833618164\n"
     ]
    },
    {
     "name": "stderr",
     "output_type": "stream",
     "text": [
      " 76%|███████▌  | 714/938 [00:53<00:17, 12.67it/s]"
     ]
    },
    {
     "name": "stdout",
     "output_type": "stream",
     "text": [
      "mean_log_p,shapetorch.Size([]), -165.39288330078125\n",
      "mean_log_q.shapetorch.Size([]), -40.363121032714844\n",
      "mean_log_p,shapetorch.Size([]), -161.70704650878906\n",
      "mean_log_q.shapetorch.Size([]), -41.09265899658203\n"
     ]
    },
    {
     "name": "stderr",
     "output_type": "stream",
     "text": [
      " 76%|███████▋  | 716/938 [00:53<00:17, 12.42it/s]"
     ]
    },
    {
     "name": "stdout",
     "output_type": "stream",
     "text": [
      "mean_log_p,shapetorch.Size([]), -158.0550537109375\n",
      "mean_log_q.shapetorch.Size([]), -40.8365364074707\n",
      "mean_log_p,shapetorch.Size([]), -164.71066284179688\n",
      "mean_log_q.shapetorch.Size([]), -41.250892639160156\n"
     ]
    },
    {
     "name": "stderr",
     "output_type": "stream",
     "text": [
      " 77%|███████▋  | 718/938 [00:53<00:17, 12.55it/s]"
     ]
    },
    {
     "name": "stdout",
     "output_type": "stream",
     "text": [
      "mean_log_p,shapetorch.Size([]), -163.88424682617188\n",
      "mean_log_q.shapetorch.Size([]), -40.88180923461914\n",
      "mean_log_p,shapetorch.Size([]), -161.63250732421875\n",
      "mean_log_q.shapetorch.Size([]), -41.17488098144531\n"
     ]
    },
    {
     "name": "stderr",
     "output_type": "stream",
     "text": [
      " 77%|███████▋  | 720/938 [00:53<00:17, 12.39it/s]"
     ]
    },
    {
     "name": "stdout",
     "output_type": "stream",
     "text": [
      "mean_log_p,shapetorch.Size([]), -162.3360137939453\n",
      "mean_log_q.shapetorch.Size([]), -41.10932159423828\n",
      "mean_log_p,shapetorch.Size([]), -156.37689208984375\n",
      "mean_log_q.shapetorch.Size([]), -41.461666107177734\n"
     ]
    },
    {
     "name": "stderr",
     "output_type": "stream",
     "text": [
      " 77%|███████▋  | 722/938 [00:53<00:17, 12.24it/s]"
     ]
    },
    {
     "name": "stdout",
     "output_type": "stream",
     "text": [
      "mean_log_p,shapetorch.Size([]), -164.32989501953125\n",
      "mean_log_q.shapetorch.Size([]), -41.47408676147461\n",
      "mean_log_p,shapetorch.Size([]), -162.3403778076172\n",
      "mean_log_q.shapetorch.Size([]), -41.354103088378906\n"
     ]
    },
    {
     "name": "stderr",
     "output_type": "stream",
     "text": [
      " 77%|███████▋  | 724/938 [00:53<00:17, 12.16it/s]"
     ]
    },
    {
     "name": "stdout",
     "output_type": "stream",
     "text": [
      "mean_log_p,shapetorch.Size([]), -165.4156494140625\n",
      "mean_log_q.shapetorch.Size([]), -40.900970458984375\n",
      "mean_log_p,shapetorch.Size([]), -173.23831176757812\n",
      "mean_log_q.shapetorch.Size([]), -40.16093444824219\n"
     ]
    },
    {
     "name": "stderr",
     "output_type": "stream",
     "text": [
      " 77%|███████▋  | 726/938 [00:53<00:17, 12.11it/s]"
     ]
    },
    {
     "name": "stdout",
     "output_type": "stream",
     "text": [
      "mean_log_p,shapetorch.Size([]), -157.5714111328125\n",
      "mean_log_q.shapetorch.Size([]), -40.56817626953125\n",
      "mean_log_p,shapetorch.Size([]), -182.264892578125\n",
      "mean_log_q.shapetorch.Size([]), -39.74006652832031\n"
     ]
    },
    {
     "name": "stderr",
     "output_type": "stream",
     "text": [
      " 78%|███████▊  | 728/938 [00:54<00:17, 12.06it/s]"
     ]
    },
    {
     "name": "stdout",
     "output_type": "stream",
     "text": [
      "mean_log_p,shapetorch.Size([]), -176.25289916992188\n",
      "mean_log_q.shapetorch.Size([]), -39.01948547363281\n",
      "mean_log_p,shapetorch.Size([]), -162.1280517578125\n",
      "mean_log_q.shapetorch.Size([]), -40.19721221923828\n"
     ]
    },
    {
     "name": "stderr",
     "output_type": "stream",
     "text": [
      " 78%|███████▊  | 730/938 [00:54<00:17, 12.15it/s]"
     ]
    },
    {
     "name": "stdout",
     "output_type": "stream",
     "text": [
      "mean_log_p,shapetorch.Size([]), -163.20948791503906\n",
      "mean_log_q.shapetorch.Size([]), -40.22394561767578\n",
      "mean_log_p,shapetorch.Size([]), -161.1130828857422\n",
      "mean_log_q.shapetorch.Size([]), -40.007747650146484\n"
     ]
    },
    {
     "name": "stderr",
     "output_type": "stream",
     "text": [
      " 78%|███████▊  | 732/938 [00:54<00:16, 12.33it/s]"
     ]
    },
    {
     "name": "stdout",
     "output_type": "stream",
     "text": [
      "mean_log_p,shapetorch.Size([]), -171.4136199951172\n",
      "mean_log_q.shapetorch.Size([]), -41.335426330566406\n",
      "mean_log_p,shapetorch.Size([]), -159.58740234375\n",
      "mean_log_q.shapetorch.Size([]), -40.654361724853516\n"
     ]
    },
    {
     "name": "stderr",
     "output_type": "stream",
     "text": [
      " 78%|███████▊  | 734/938 [00:54<00:16, 12.25it/s]"
     ]
    },
    {
     "name": "stdout",
     "output_type": "stream",
     "text": [
      "mean_log_p,shapetorch.Size([]), -165.07611083984375\n",
      "mean_log_q.shapetorch.Size([]), -41.61566925048828\n",
      "mean_log_p,shapetorch.Size([]), -164.50564575195312\n",
      "mean_log_q.shapetorch.Size([]), -41.32417297363281\n"
     ]
    },
    {
     "name": "stderr",
     "output_type": "stream",
     "text": [
      " 78%|███████▊  | 736/938 [00:54<00:16, 12.11it/s]"
     ]
    },
    {
     "name": "stdout",
     "output_type": "stream",
     "text": [
      "mean_log_p,shapetorch.Size([]), -173.4307861328125\n",
      "mean_log_q.shapetorch.Size([]), -41.58769226074219\n",
      "mean_log_p,shapetorch.Size([]), -162.7341766357422\n",
      "mean_log_q.shapetorch.Size([]), -41.832244873046875\n"
     ]
    },
    {
     "name": "stderr",
     "output_type": "stream",
     "text": [
      " 79%|███████▊  | 738/938 [00:54<00:16, 12.34it/s]"
     ]
    },
    {
     "name": "stdout",
     "output_type": "stream",
     "text": [
      "mean_log_p,shapetorch.Size([]), -166.15687561035156\n",
      "mean_log_q.shapetorch.Size([]), -41.14493942260742\n",
      "mean_log_p,shapetorch.Size([]), -163.97227478027344\n",
      "mean_log_q.shapetorch.Size([]), -41.872432708740234\n"
     ]
    },
    {
     "name": "stderr",
     "output_type": "stream",
     "text": [
      " 79%|███████▉  | 740/938 [00:55<00:16, 12.19it/s]"
     ]
    },
    {
     "name": "stdout",
     "output_type": "stream",
     "text": [
      "mean_log_p,shapetorch.Size([]), -163.89903259277344\n",
      "mean_log_q.shapetorch.Size([]), -41.62456512451172\n",
      "mean_log_p,shapetorch.Size([]), -162.89071655273438\n",
      "mean_log_q.shapetorch.Size([]), -41.13761901855469\n"
     ]
    },
    {
     "name": "stderr",
     "output_type": "stream",
     "text": [
      " 79%|███████▉  | 742/938 [00:55<00:16, 12.00it/s]"
     ]
    },
    {
     "name": "stdout",
     "output_type": "stream",
     "text": [
      "mean_log_p,shapetorch.Size([]), -165.44979858398438\n",
      "mean_log_q.shapetorch.Size([]), -40.03288650512695\n",
      "mean_log_p,shapetorch.Size([]), -170.38291931152344\n",
      "mean_log_q.shapetorch.Size([]), -40.002288818359375\n"
     ]
    },
    {
     "name": "stderr",
     "output_type": "stream",
     "text": [
      " 79%|███████▉  | 744/938 [00:55<00:15, 12.25it/s]"
     ]
    },
    {
     "name": "stdout",
     "output_type": "stream",
     "text": [
      "mean_log_p,shapetorch.Size([]), -163.5189208984375\n",
      "mean_log_q.shapetorch.Size([]), -39.30754852294922\n",
      "mean_log_p,shapetorch.Size([]), -162.8473358154297\n",
      "mean_log_q.shapetorch.Size([]), -40.278839111328125\n"
     ]
    },
    {
     "name": "stderr",
     "output_type": "stream",
     "text": [
      " 80%|███████▉  | 746/938 [00:55<00:16, 11.85it/s]"
     ]
    },
    {
     "name": "stdout",
     "output_type": "stream",
     "text": [
      "mean_log_p,shapetorch.Size([]), -162.43832397460938\n",
      "mean_log_q.shapetorch.Size([]), -39.80160140991211\n",
      "mean_log_p,shapetorch.Size([]), -165.63153076171875\n",
      "mean_log_q.shapetorch.Size([]), -39.31591033935547\n"
     ]
    },
    {
     "name": "stderr",
     "output_type": "stream",
     "text": [
      " 80%|███████▉  | 748/938 [00:55<00:15, 12.11it/s]"
     ]
    },
    {
     "name": "stdout",
     "output_type": "stream",
     "text": [
      "mean_log_p,shapetorch.Size([]), -163.53762817382812\n",
      "mean_log_q.shapetorch.Size([]), -40.26540756225586\n",
      "mean_log_p,shapetorch.Size([]), -165.29287719726562\n",
      "mean_log_q.shapetorch.Size([]), -40.478843688964844\n"
     ]
    },
    {
     "name": "stderr",
     "output_type": "stream",
     "text": [
      " 80%|███████▉  | 750/938 [00:55<00:15, 12.01it/s]"
     ]
    },
    {
     "name": "stdout",
     "output_type": "stream",
     "text": [
      "mean_log_p,shapetorch.Size([]), -167.8293914794922\n",
      "mean_log_q.shapetorch.Size([]), -40.23460388183594\n",
      "mean_log_p,shapetorch.Size([]), -168.1038818359375\n",
      "mean_log_q.shapetorch.Size([]), -40.386817932128906\n"
     ]
    },
    {
     "name": "stderr",
     "output_type": "stream",
     "text": [
      " 80%|████████  | 752/938 [00:56<00:15, 12.15it/s]"
     ]
    },
    {
     "name": "stdout",
     "output_type": "stream",
     "text": [
      "mean_log_p,shapetorch.Size([]), -164.62742614746094\n",
      "mean_log_q.shapetorch.Size([]), -41.65251922607422\n",
      "mean_log_p,shapetorch.Size([]), -161.8140869140625\n",
      "mean_log_q.shapetorch.Size([]), -41.52233123779297\n"
     ]
    },
    {
     "name": "stderr",
     "output_type": "stream",
     "text": [
      " 81%|████████  | 756/938 [00:56<00:11, 15.66it/s]"
     ]
    },
    {
     "name": "stdout",
     "output_type": "stream",
     "text": [
      "mean_log_p,shapetorch.Size([]), -161.20497131347656\n",
      "mean_log_q.shapetorch.Size([]), -41.61174774169922\n",
      "mean_log_p,shapetorch.Size([]), -166.94058227539062\n",
      "mean_log_q.shapetorch.Size([]), -41.20124435424805\n"
     ]
    },
    {
     "name": "stderr",
     "output_type": "stream",
     "text": [
      " 81%|████████  | 758/938 [00:56<00:12, 14.64it/s]"
     ]
    },
    {
     "name": "stdout",
     "output_type": "stream",
     "text": [
      "mean_log_p,shapetorch.Size([]), -169.41140747070312\n",
      "mean_log_q.shapetorch.Size([]), -40.70677947998047\n",
      "mean_log_p,shapetorch.Size([]), -154.11717224121094\n",
      "mean_log_q.shapetorch.Size([]), -40.769386291503906\n"
     ]
    },
    {
     "name": "stderr",
     "output_type": "stream",
     "text": [
      " 81%|████████  | 760/938 [00:56<00:12, 13.75it/s]"
     ]
    },
    {
     "name": "stdout",
     "output_type": "stream",
     "text": [
      "mean_log_p,shapetorch.Size([]), -166.90316772460938\n",
      "mean_log_q.shapetorch.Size([]), -38.697200775146484\n",
      "mean_log_p,shapetorch.Size([]), -163.06927490234375\n",
      "mean_log_q.shapetorch.Size([]), -40.38481140136719\n"
     ]
    },
    {
     "name": "stderr",
     "output_type": "stream",
     "text": [
      " 81%|████████  | 762/938 [00:56<00:13, 12.87it/s]"
     ]
    },
    {
     "name": "stdout",
     "output_type": "stream",
     "text": [
      "mean_log_p,shapetorch.Size([]), -157.43594360351562\n",
      "mean_log_q.shapetorch.Size([]), -40.51019287109375\n",
      "mean_log_p,shapetorch.Size([]), -152.838134765625\n",
      "mean_log_q.shapetorch.Size([]), -40.28153610229492\n"
     ]
    },
    {
     "name": "stderr",
     "output_type": "stream",
     "text": [
      " 81%|████████▏ | 764/938 [00:56<00:13, 12.71it/s]"
     ]
    },
    {
     "name": "stdout",
     "output_type": "stream",
     "text": [
      "mean_log_p,shapetorch.Size([]), -156.43844604492188\n",
      "mean_log_q.shapetorch.Size([]), -40.43141555786133\n",
      "mean_log_p,shapetorch.Size([]), -167.37228393554688\n",
      "mean_log_q.shapetorch.Size([]), -41.30143737792969\n"
     ]
    },
    {
     "name": "stderr",
     "output_type": "stream",
     "text": [
      " 82%|████████▏ | 766/938 [00:57<00:13, 12.34it/s]"
     ]
    },
    {
     "name": "stdout",
     "output_type": "stream",
     "text": [
      "mean_log_p,shapetorch.Size([]), -165.22451782226562\n",
      "mean_log_q.shapetorch.Size([]), -40.45532989501953\n",
      "mean_log_p,shapetorch.Size([]), -162.6901092529297\n",
      "mean_log_q.shapetorch.Size([]), -41.53013229370117\n"
     ]
    },
    {
     "name": "stderr",
     "output_type": "stream",
     "text": [
      " 82%|████████▏ | 768/938 [00:57<00:14, 12.11it/s]"
     ]
    },
    {
     "name": "stdout",
     "output_type": "stream",
     "text": [
      "mean_log_p,shapetorch.Size([]), -168.501708984375\n",
      "mean_log_q.shapetorch.Size([]), -41.489784240722656\n",
      "mean_log_p,shapetorch.Size([]), -162.0166015625\n",
      "mean_log_q.shapetorch.Size([]), -40.99420928955078\n"
     ]
    },
    {
     "name": "stderr",
     "output_type": "stream",
     "text": [
      " 82%|████████▏ | 770/938 [00:57<00:13, 12.13it/s]"
     ]
    },
    {
     "name": "stdout",
     "output_type": "stream",
     "text": [
      "mean_log_p,shapetorch.Size([]), -163.8810577392578\n",
      "mean_log_q.shapetorch.Size([]), -41.37364959716797\n",
      "mean_log_p,shapetorch.Size([]), -164.23370361328125\n",
      "mean_log_q.shapetorch.Size([]), -41.76315689086914\n"
     ]
    },
    {
     "name": "stderr",
     "output_type": "stream",
     "text": [
      " 82%|████████▏ | 772/938 [00:57<00:13, 11.96it/s]"
     ]
    },
    {
     "name": "stdout",
     "output_type": "stream",
     "text": [
      "mean_log_p,shapetorch.Size([]), -157.84188842773438\n",
      "mean_log_q.shapetorch.Size([]), -41.05260467529297\n",
      "mean_log_p,shapetorch.Size([]), -157.1916961669922\n",
      "mean_log_q.shapetorch.Size([]), -40.14748001098633\n"
     ]
    },
    {
     "name": "stderr",
     "output_type": "stream",
     "text": [
      " 83%|████████▎ | 774/938 [00:57<00:13, 11.85it/s]"
     ]
    },
    {
     "name": "stdout",
     "output_type": "stream",
     "text": [
      "mean_log_p,shapetorch.Size([]), -166.4916229248047\n",
      "mean_log_q.shapetorch.Size([]), -40.076751708984375\n",
      "mean_log_p,shapetorch.Size([]), -156.51258850097656\n",
      "mean_log_q.shapetorch.Size([]), -40.48540115356445\n"
     ]
    },
    {
     "name": "stderr",
     "output_type": "stream",
     "text": [
      " 83%|████████▎ | 776/938 [00:58<00:13, 11.88it/s]"
     ]
    },
    {
     "name": "stdout",
     "output_type": "stream",
     "text": [
      "mean_log_p,shapetorch.Size([]), -158.83236694335938\n",
      "mean_log_q.shapetorch.Size([]), -39.391998291015625\n",
      "mean_log_p,shapetorch.Size([]), -163.13986206054688\n",
      "mean_log_q.shapetorch.Size([]), -39.35302734375\n"
     ]
    },
    {
     "name": "stderr",
     "output_type": "stream",
     "text": [
      " 83%|████████▎ | 778/938 [00:58<00:13, 12.01it/s]"
     ]
    },
    {
     "name": "stdout",
     "output_type": "stream",
     "text": [
      "mean_log_p,shapetorch.Size([]), -163.9298858642578\n",
      "mean_log_q.shapetorch.Size([]), -39.080894470214844\n",
      "mean_log_p,shapetorch.Size([]), -166.1833038330078\n",
      "mean_log_q.shapetorch.Size([]), -40.4615478515625\n"
     ]
    },
    {
     "name": "stderr",
     "output_type": "stream",
     "text": [
      " 83%|████████▎ | 780/938 [00:58<00:13, 11.97it/s]"
     ]
    },
    {
     "name": "stdout",
     "output_type": "stream",
     "text": [
      "mean_log_p,shapetorch.Size([]), -166.90309143066406\n",
      "mean_log_q.shapetorch.Size([]), -39.7873649597168\n",
      "mean_log_p,shapetorch.Size([]), -163.98583984375\n",
      "mean_log_q.shapetorch.Size([]), -41.168914794921875\n"
     ]
    },
    {
     "name": "stderr",
     "output_type": "stream",
     "text": [
      " 83%|████████▎ | 782/938 [00:58<00:12, 12.08it/s]"
     ]
    },
    {
     "name": "stdout",
     "output_type": "stream",
     "text": [
      "mean_log_p,shapetorch.Size([]), -161.93276977539062\n",
      "mean_log_q.shapetorch.Size([]), -41.11808776855469\n",
      "mean_log_p,shapetorch.Size([]), -165.38844299316406\n",
      "mean_log_q.shapetorch.Size([]), -40.7572021484375\n"
     ]
    },
    {
     "name": "stderr",
     "output_type": "stream",
     "text": [
      " 84%|████████▎ | 784/938 [00:58<00:12, 12.10it/s]"
     ]
    },
    {
     "name": "stdout",
     "output_type": "stream",
     "text": [
      "mean_log_p,shapetorch.Size([]), -158.10675048828125\n",
      "mean_log_q.shapetorch.Size([]), -41.02044677734375\n",
      "mean_log_p,shapetorch.Size([]), -166.865966796875\n",
      "mean_log_q.shapetorch.Size([]), -41.26030731201172\n"
     ]
    },
    {
     "name": "stderr",
     "output_type": "stream",
     "text": [
      " 84%|████████▍ | 786/938 [00:58<00:13, 11.68it/s]"
     ]
    },
    {
     "name": "stdout",
     "output_type": "stream",
     "text": [
      "mean_log_p,shapetorch.Size([]), -164.94293212890625\n",
      "mean_log_q.shapetorch.Size([]), -41.686946868896484\n",
      "mean_log_p,shapetorch.Size([]), -159.87538146972656\n",
      "mean_log_q.shapetorch.Size([]), -41.25764465332031\n"
     ]
    },
    {
     "name": "stderr",
     "output_type": "stream",
     "text": [
      " 84%|████████▍ | 788/938 [00:59<00:12, 11.87it/s]"
     ]
    },
    {
     "name": "stdout",
     "output_type": "stream",
     "text": [
      "mean_log_p,shapetorch.Size([]), -163.55252075195312\n",
      "mean_log_q.shapetorch.Size([]), -39.84424591064453\n",
      "mean_log_p,shapetorch.Size([]), -161.68722534179688\n",
      "mean_log_q.shapetorch.Size([]), -40.801109313964844\n"
     ]
    },
    {
     "name": "stderr",
     "output_type": "stream",
     "text": [
      " 84%|████████▍ | 790/938 [00:59<00:12, 11.66it/s]"
     ]
    },
    {
     "name": "stdout",
     "output_type": "stream",
     "text": [
      "mean_log_p,shapetorch.Size([]), -162.27914428710938\n",
      "mean_log_q.shapetorch.Size([]), -40.4775276184082\n",
      "mean_log_p,shapetorch.Size([]), -163.41989135742188\n",
      "mean_log_q.shapetorch.Size([]), -39.18402862548828\n"
     ]
    },
    {
     "name": "stderr",
     "output_type": "stream",
     "text": [
      " 84%|████████▍ | 792/938 [00:59<00:12, 11.81it/s]"
     ]
    },
    {
     "name": "stdout",
     "output_type": "stream",
     "text": [
      "mean_log_p,shapetorch.Size([]), -161.69314575195312\n",
      "mean_log_q.shapetorch.Size([]), -39.470741271972656\n",
      "mean_log_p,shapetorch.Size([]), -157.84974670410156\n",
      "mean_log_q.shapetorch.Size([]), -39.951271057128906\n"
     ]
    },
    {
     "name": "stderr",
     "output_type": "stream",
     "text": [
      " 85%|████████▍ | 794/938 [00:59<00:12, 11.88it/s]"
     ]
    },
    {
     "name": "stdout",
     "output_type": "stream",
     "text": [
      "mean_log_p,shapetorch.Size([]), -154.8192596435547\n",
      "mean_log_q.shapetorch.Size([]), -39.29499053955078\n",
      "mean_log_p,shapetorch.Size([]), -161.8714599609375\n",
      "mean_log_q.shapetorch.Size([]), -39.47325897216797\n"
     ]
    },
    {
     "name": "stderr",
     "output_type": "stream",
     "text": [
      " 85%|████████▍ | 796/938 [00:59<00:11, 11.94it/s]"
     ]
    },
    {
     "name": "stdout",
     "output_type": "stream",
     "text": [
      "mean_log_p,shapetorch.Size([]), -162.7806396484375\n",
      "mean_log_q.shapetorch.Size([]), -40.115909576416016\n",
      "mean_log_p,shapetorch.Size([]), -168.3240203857422\n",
      "mean_log_q.shapetorch.Size([]), -40.48774719238281\n"
     ]
    },
    {
     "name": "stderr",
     "output_type": "stream",
     "text": [
      " 85%|████████▌ | 798/938 [00:59<00:11, 11.92it/s]"
     ]
    },
    {
     "name": "stdout",
     "output_type": "stream",
     "text": [
      "mean_log_p,shapetorch.Size([]), -168.4071044921875\n",
      "mean_log_q.shapetorch.Size([]), -40.49556350708008\n",
      "mean_log_p,shapetorch.Size([]), -158.30438232421875\n",
      "mean_log_q.shapetorch.Size([]), -41.23273468017578\n"
     ]
    },
    {
     "name": "stderr",
     "output_type": "stream",
     "text": [
      " 85%|████████▌ | 800/938 [01:00<00:11, 12.28it/s]"
     ]
    },
    {
     "name": "stdout",
     "output_type": "stream",
     "text": [
      "mean_log_p,shapetorch.Size([]), -154.24839782714844\n",
      "mean_log_q.shapetorch.Size([]), -40.59868621826172\n",
      "mean_log_p,shapetorch.Size([]), -162.82089233398438\n",
      "mean_log_q.shapetorch.Size([]), -41.04913330078125\n"
     ]
    },
    {
     "name": "stderr",
     "output_type": "stream",
     "text": [
      " 86%|████████▌ | 802/938 [01:00<00:10, 12.52it/s]"
     ]
    },
    {
     "name": "stdout",
     "output_type": "stream",
     "text": [
      "mean_log_p,shapetorch.Size([]), -170.93572998046875\n",
      "mean_log_q.shapetorch.Size([]), -40.159671783447266\n"
     ]
    },
    {
     "name": "stderr",
     "output_type": "stream",
     "text": [
      " 86%|████████▌ | 804/938 [01:00<00:10, 12.76it/s]"
     ]
    },
    {
     "name": "stdout",
     "output_type": "stream",
     "text": [
      "mean_log_p,shapetorch.Size([]), -161.6663818359375\n",
      "mean_log_q.shapetorch.Size([]), -41.18927764892578\n",
      "mean_log_p,shapetorch.Size([]), -155.19317626953125\n",
      "mean_log_q.shapetorch.Size([]), -40.79869079589844\n"
     ]
    },
    {
     "name": "stderr",
     "output_type": "stream",
     "text": [
      " 86%|████████▌ | 806/938 [01:00<00:10, 12.95it/s]"
     ]
    },
    {
     "name": "stdout",
     "output_type": "stream",
     "text": [
      "mean_log_p,shapetorch.Size([]), -160.72805786132812\n",
      "mean_log_q.shapetorch.Size([]), -40.26420593261719\n",
      "mean_log_p,shapetorch.Size([]), -157.154541015625\n",
      "mean_log_q.shapetorch.Size([]), -40.896095275878906\n"
     ]
    },
    {
     "name": "stderr",
     "output_type": "stream",
     "text": [
      " 86%|████████▌ | 808/938 [01:00<00:09, 13.03it/s]"
     ]
    },
    {
     "name": "stdout",
     "output_type": "stream",
     "text": [
      "mean_log_p,shapetorch.Size([]), -160.9037322998047\n",
      "mean_log_q.shapetorch.Size([]), -41.06521224975586\n",
      "mean_log_p,shapetorch.Size([]), -168.6280517578125\n",
      "mean_log_q.shapetorch.Size([]), -40.97655487060547\n"
     ]
    },
    {
     "name": "stderr",
     "output_type": "stream",
     "text": [
      " 87%|████████▋ | 812/938 [01:00<00:07, 17.09it/s]"
     ]
    },
    {
     "name": "stdout",
     "output_type": "stream",
     "text": [
      "mean_log_p,shapetorch.Size([]), -163.26315307617188\n",
      "mean_log_q.shapetorch.Size([]), -42.241905212402344\n",
      "mean_log_p,shapetorch.Size([]), -164.97015380859375\n",
      "mean_log_q.shapetorch.Size([]), -41.230464935302734\n"
     ]
    },
    {
     "name": "stderr",
     "output_type": "stream",
     "text": [
      " 87%|████████▋ | 814/938 [01:00<00:07, 15.95it/s]"
     ]
    },
    {
     "name": "stdout",
     "output_type": "stream",
     "text": [
      "mean_log_p,shapetorch.Size([]), -162.57286071777344\n",
      "mean_log_q.shapetorch.Size([]), -41.212852478027344\n",
      "mean_log_p,shapetorch.Size([]), -160.13247680664062\n",
      "mean_log_q.shapetorch.Size([]), -40.99584197998047\n"
     ]
    },
    {
     "name": "stderr",
     "output_type": "stream",
     "text": [
      " 87%|████████▋ | 816/938 [01:01<00:08, 15.15it/s]"
     ]
    },
    {
     "name": "stdout",
     "output_type": "stream",
     "text": [
      "mean_log_p,shapetorch.Size([]), -170.57421875\n",
      "mean_log_q.shapetorch.Size([]), -41.469810485839844\n",
      "mean_log_p,shapetorch.Size([]), -169.07879638671875\n",
      "mean_log_q.shapetorch.Size([]), -41.06106185913086\n"
     ]
    },
    {
     "name": "stderr",
     "output_type": "stream",
     "text": [
      " 87%|████████▋ | 818/938 [01:01<00:08, 14.65it/s]"
     ]
    },
    {
     "name": "stdout",
     "output_type": "stream",
     "text": [
      "mean_log_p,shapetorch.Size([]), -160.93162536621094\n",
      "mean_log_q.shapetorch.Size([]), -39.764625549316406\n",
      "mean_log_p,shapetorch.Size([]), -157.30743408203125\n",
      "mean_log_q.shapetorch.Size([]), -41.040069580078125\n"
     ]
    },
    {
     "name": "stderr",
     "output_type": "stream",
     "text": [
      " 87%|████████▋ | 820/938 [01:01<00:08, 14.26it/s]"
     ]
    },
    {
     "name": "stdout",
     "output_type": "stream",
     "text": [
      "mean_log_p,shapetorch.Size([]), -171.03549194335938\n",
      "mean_log_q.shapetorch.Size([]), -39.89373016357422\n",
      "mean_log_p,shapetorch.Size([]), -158.58993530273438\n",
      "mean_log_q.shapetorch.Size([]), -40.26198959350586\n"
     ]
    },
    {
     "name": "stderr",
     "output_type": "stream",
     "text": [
      " 88%|████████▊ | 822/938 [01:01<00:08, 13.95it/s]"
     ]
    },
    {
     "name": "stdout",
     "output_type": "stream",
     "text": [
      "mean_log_p,shapetorch.Size([]), -165.15916442871094\n",
      "mean_log_q.shapetorch.Size([]), -39.68881607055664\n",
      "mean_log_p,shapetorch.Size([]), -165.4241943359375\n",
      "mean_log_q.shapetorch.Size([]), -39.59563446044922\n"
     ]
    },
    {
     "name": "stderr",
     "output_type": "stream",
     "text": [
      " 88%|████████▊ | 824/938 [01:01<00:08, 13.78it/s]"
     ]
    },
    {
     "name": "stdout",
     "output_type": "stream",
     "text": [
      "mean_log_p,shapetorch.Size([]), -157.94061279296875\n",
      "mean_log_q.shapetorch.Size([]), -39.96363067626953\n",
      "mean_log_p,shapetorch.Size([]), -160.51214599609375\n",
      "mean_log_q.shapetorch.Size([]), -40.534698486328125\n"
     ]
    },
    {
     "name": "stderr",
     "output_type": "stream",
     "text": [
      " 88%|████████▊ | 826/938 [01:01<00:08, 13.65it/s]"
     ]
    },
    {
     "name": "stdout",
     "output_type": "stream",
     "text": [
      "mean_log_p,shapetorch.Size([]), -157.15267944335938\n",
      "mean_log_q.shapetorch.Size([]), -40.21417999267578\n",
      "mean_log_p,shapetorch.Size([]), -160.15484619140625\n",
      "mean_log_q.shapetorch.Size([]), -40.43993377685547\n"
     ]
    },
    {
     "name": "stderr",
     "output_type": "stream",
     "text": [
      " 88%|████████▊ | 828/938 [01:01<00:08, 13.54it/s]"
     ]
    },
    {
     "name": "stdout",
     "output_type": "stream",
     "text": [
      "mean_log_p,shapetorch.Size([]), -166.48739624023438\n",
      "mean_log_q.shapetorch.Size([]), -40.65678405761719\n",
      "mean_log_p,shapetorch.Size([]), -160.94857788085938\n",
      "mean_log_q.shapetorch.Size([]), -41.455875396728516\n"
     ]
    },
    {
     "name": "stderr",
     "output_type": "stream",
     "text": [
      " 88%|████████▊ | 830/938 [01:02<00:08, 13.47it/s]"
     ]
    },
    {
     "name": "stdout",
     "output_type": "stream",
     "text": [
      "mean_log_p,shapetorch.Size([]), -164.62908935546875\n",
      "mean_log_q.shapetorch.Size([]), -41.23164367675781\n",
      "mean_log_p,shapetorch.Size([]), -159.42031860351562\n",
      "mean_log_q.shapetorch.Size([]), -41.63604736328125\n"
     ]
    },
    {
     "name": "stderr",
     "output_type": "stream",
     "text": [
      " 89%|████████▊ | 832/938 [01:02<00:07, 13.43it/s]"
     ]
    },
    {
     "name": "stdout",
     "output_type": "stream",
     "text": [
      "mean_log_p,shapetorch.Size([]), -154.62875366210938\n",
      "mean_log_q.shapetorch.Size([]), -40.914756774902344\n",
      "mean_log_p,shapetorch.Size([]), -168.725341796875\n",
      "mean_log_q.shapetorch.Size([]), -40.679840087890625\n",
      "mean_log_p,shapetorch.Size([]), -160.28005981445312\n",
      "mean_log_q.shapetorch.Size([]), -40.84920883178711\n"
     ]
    },
    {
     "name": "stderr",
     "output_type": "stream",
     "text": [
      " 89%|████████▉ | 834/938 [01:02<00:07, 13.35it/s]"
     ]
    },
    {
     "name": "stdout",
     "output_type": "stream",
     "text": [
      "mean_log_p,shapetorch.Size([]), -160.12319946289062\n",
      "mean_log_q.shapetorch.Size([]), -40.276309967041016\n",
      "mean_log_p,shapetorch.Size([]), -167.48094177246094\n",
      "mean_log_q.shapetorch.Size([]), -39.84681701660156\n"
     ]
    },
    {
     "name": "stderr",
     "output_type": "stream",
     "text": [
      " 89%|████████▉ | 836/938 [01:02<00:07, 13.28it/s]"
     ]
    },
    {
     "name": "stdout",
     "output_type": "stream",
     "text": [
      "mean_log_p,shapetorch.Size([]), -159.0283660888672\n",
      "mean_log_q.shapetorch.Size([]), -40.17686462402344\n"
     ]
    },
    {
     "name": "stderr",
     "output_type": "stream",
     "text": [
      " 89%|████████▉ | 838/938 [01:02<00:07, 13.29it/s]"
     ]
    },
    {
     "name": "stdout",
     "output_type": "stream",
     "text": [
      "mean_log_p,shapetorch.Size([]), -163.8354034423828\n",
      "mean_log_q.shapetorch.Size([]), -40.578338623046875\n",
      "mean_log_p,shapetorch.Size([]), -164.55752563476562\n",
      "mean_log_q.shapetorch.Size([]), -39.579673767089844\n"
     ]
    },
    {
     "name": "stderr",
     "output_type": "stream",
     "text": [
      " 90%|████████▉ | 840/938 [01:02<00:07, 13.29it/s]"
     ]
    },
    {
     "name": "stdout",
     "output_type": "stream",
     "text": [
      "mean_log_p,shapetorch.Size([]), -164.45948791503906\n",
      "mean_log_q.shapetorch.Size([]), -40.47407531738281\n",
      "mean_log_p,shapetorch.Size([]), -159.35211181640625\n",
      "mean_log_q.shapetorch.Size([]), -40.50122833251953\n"
     ]
    },
    {
     "name": "stderr",
     "output_type": "stream",
     "text": [
      " 90%|████████▉ | 842/938 [01:03<00:07, 13.29it/s]"
     ]
    },
    {
     "name": "stdout",
     "output_type": "stream",
     "text": [
      "mean_log_p,shapetorch.Size([]), -154.5305938720703\n",
      "mean_log_q.shapetorch.Size([]), -40.56495666503906\n",
      "mean_log_p,shapetorch.Size([]), -157.28262329101562\n",
      "mean_log_q.shapetorch.Size([]), -40.90234375\n"
     ]
    },
    {
     "name": "stderr",
     "output_type": "stream",
     "text": [
      " 90%|████████▉ | 844/938 [01:03<00:07, 13.29it/s]"
     ]
    },
    {
     "name": "stdout",
     "output_type": "stream",
     "text": [
      "mean_log_p,shapetorch.Size([]), -157.434326171875\n",
      "mean_log_q.shapetorch.Size([]), -41.14167022705078\n",
      "mean_log_p,shapetorch.Size([]), -169.91485595703125\n",
      "mean_log_q.shapetorch.Size([]), -40.67128372192383\n",
      "mean_log_p,shapetorch.Size([]), -162.47726440429688\n",
      "mean_log_q.shapetorch.Size([]), -41.54187774658203\n"
     ]
    },
    {
     "name": "stderr",
     "output_type": "stream",
     "text": [
      " 90%|█████████ | 846/938 [01:03<00:06, 13.23it/s]"
     ]
    },
    {
     "name": "stdout",
     "output_type": "stream",
     "text": [
      "mean_log_p,shapetorch.Size([]), -171.514892578125\n",
      "mean_log_q.shapetorch.Size([]), -40.727203369140625\n"
     ]
    },
    {
     "name": "stderr",
     "output_type": "stream",
     "text": [
      " 90%|█████████ | 848/938 [01:03<00:06, 13.26it/s]"
     ]
    },
    {
     "name": "stdout",
     "output_type": "stream",
     "text": [
      "mean_log_p,shapetorch.Size([]), -158.3220672607422\n",
      "mean_log_q.shapetorch.Size([]), -40.99690246582031\n",
      "mean_log_p,shapetorch.Size([]), -160.41061401367188\n",
      "mean_log_q.shapetorch.Size([]), -41.46567916870117\n"
     ]
    },
    {
     "name": "stderr",
     "output_type": "stream",
     "text": [
      " 91%|█████████ | 850/938 [01:03<00:06, 13.27it/s]"
     ]
    },
    {
     "name": "stdout",
     "output_type": "stream",
     "text": [
      "mean_log_p,shapetorch.Size([]), -153.46682739257812\n",
      "mean_log_q.shapetorch.Size([]), -40.590293884277344\n",
      "mean_log_p,shapetorch.Size([]), -157.92947387695312\n",
      "mean_log_q.shapetorch.Size([]), -40.208580017089844\n"
     ]
    },
    {
     "name": "stderr",
     "output_type": "stream",
     "text": [
      " 91%|█████████ | 852/938 [01:03<00:06, 13.26it/s]"
     ]
    },
    {
     "name": "stdout",
     "output_type": "stream",
     "text": [
      "mean_log_p,shapetorch.Size([]), -159.1950225830078\n",
      "mean_log_q.shapetorch.Size([]), -39.721832275390625\n",
      "mean_log_p,shapetorch.Size([]), -163.96963500976562\n",
      "mean_log_q.shapetorch.Size([]), -39.127098083496094\n"
     ]
    },
    {
     "name": "stderr",
     "output_type": "stream",
     "text": [
      " 91%|█████████ | 854/938 [01:03<00:06, 13.29it/s]"
     ]
    },
    {
     "name": "stdout",
     "output_type": "stream",
     "text": [
      "mean_log_p,shapetorch.Size([]), -156.1875\n",
      "mean_log_q.shapetorch.Size([]), -40.64335250854492\n",
      "mean_log_p,shapetorch.Size([]), -169.81761169433594\n",
      "mean_log_q.shapetorch.Size([]), -38.975006103515625\n"
     ]
    },
    {
     "name": "stderr",
     "output_type": "stream",
     "text": [
      " 91%|█████████▏| 856/938 [01:04<00:06, 13.30it/s]"
     ]
    },
    {
     "name": "stdout",
     "output_type": "stream",
     "text": [
      "mean_log_p,shapetorch.Size([]), -163.6058807373047\n",
      "mean_log_q.shapetorch.Size([]), -38.97905731201172\n",
      "mean_log_p,shapetorch.Size([]), -158.8662872314453\n",
      "mean_log_q.shapetorch.Size([]), -39.518699645996094\n"
     ]
    },
    {
     "name": "stderr",
     "output_type": "stream",
     "text": [
      " 91%|█████████▏| 858/938 [01:04<00:06, 13.31it/s]"
     ]
    },
    {
     "name": "stdout",
     "output_type": "stream",
     "text": [
      "mean_log_p,shapetorch.Size([]), -161.662841796875\n",
      "mean_log_q.shapetorch.Size([]), -39.882015228271484\n",
      "mean_log_p,shapetorch.Size([]), -164.91323852539062\n",
      "mean_log_q.shapetorch.Size([]), -39.80415725708008\n"
     ]
    },
    {
     "name": "stderr",
     "output_type": "stream",
     "text": [
      " 92%|█████████▏| 860/938 [01:04<00:05, 13.31it/s]"
     ]
    },
    {
     "name": "stdout",
     "output_type": "stream",
     "text": [
      "mean_log_p,shapetorch.Size([]), -159.67816162109375\n",
      "mean_log_q.shapetorch.Size([]), -40.5416259765625\n",
      "mean_log_p,shapetorch.Size([]), -160.7001190185547\n",
      "mean_log_q.shapetorch.Size([]), -40.90470886230469\n"
     ]
    },
    {
     "name": "stderr",
     "output_type": "stream",
     "text": [
      " 92%|█████████▏| 862/938 [01:04<00:05, 13.30it/s]"
     ]
    },
    {
     "name": "stdout",
     "output_type": "stream",
     "text": [
      "mean_log_p,shapetorch.Size([]), -161.88656616210938\n",
      "mean_log_q.shapetorch.Size([]), -40.070648193359375\n",
      "mean_log_p,shapetorch.Size([]), -166.29849243164062\n",
      "mean_log_q.shapetorch.Size([]), -40.823150634765625\n"
     ]
    },
    {
     "name": "stderr",
     "output_type": "stream",
     "text": [
      " 92%|█████████▏| 864/938 [01:04<00:05, 13.29it/s]"
     ]
    },
    {
     "name": "stdout",
     "output_type": "stream",
     "text": [
      "mean_log_p,shapetorch.Size([]), -168.43548583984375\n",
      "mean_log_q.shapetorch.Size([]), -40.8387451171875\n",
      "mean_log_p,shapetorch.Size([]), -164.10089111328125\n",
      "mean_log_q.shapetorch.Size([]), -40.492576599121094\n"
     ]
    },
    {
     "name": "stderr",
     "output_type": "stream",
     "text": [
      " 92%|█████████▏| 866/938 [01:04<00:05, 13.32it/s]"
     ]
    },
    {
     "name": "stdout",
     "output_type": "stream",
     "text": [
      "mean_log_p,shapetorch.Size([]), -166.9609832763672\n",
      "mean_log_q.shapetorch.Size([]), -40.11833953857422\n",
      "mean_log_p,shapetorch.Size([]), -158.0520782470703\n",
      "mean_log_q.shapetorch.Size([]), -39.55679702758789\n"
     ]
    },
    {
     "name": "stderr",
     "output_type": "stream",
     "text": [
      " 93%|█████████▎| 870/938 [01:04<00:03, 17.27it/s]"
     ]
    },
    {
     "name": "stdout",
     "output_type": "stream",
     "text": [
      "mean_log_p,shapetorch.Size([]), -162.6020050048828\n",
      "mean_log_q.shapetorch.Size([]), -40.05059814453125\n",
      "mean_log_p,shapetorch.Size([]), -161.7808837890625\n",
      "mean_log_q.shapetorch.Size([]), -40.96771240234375\n"
     ]
    },
    {
     "name": "stderr",
     "output_type": "stream",
     "text": [
      " 93%|█████████▎| 872/938 [01:05<00:04, 16.04it/s]"
     ]
    },
    {
     "name": "stdout",
     "output_type": "stream",
     "text": [
      "mean_log_p,shapetorch.Size([]), -156.5819091796875\n",
      "mean_log_q.shapetorch.Size([]), -39.53053283691406\n",
      "mean_log_p,shapetorch.Size([]), -153.2613525390625\n",
      "mean_log_q.shapetorch.Size([]), -40.61197280883789\n"
     ]
    },
    {
     "name": "stderr",
     "output_type": "stream",
     "text": [
      " 93%|█████████▎| 874/938 [01:05<00:04, 15.23it/s]"
     ]
    },
    {
     "name": "stdout",
     "output_type": "stream",
     "text": [
      "mean_log_p,shapetorch.Size([]), -159.61158752441406\n",
      "mean_log_q.shapetorch.Size([]), -40.4674072265625\n",
      "mean_log_p,shapetorch.Size([]), -165.17807006835938\n",
      "mean_log_q.shapetorch.Size([]), -40.97474670410156\n"
     ]
    },
    {
     "name": "stderr",
     "output_type": "stream",
     "text": [
      " 93%|█████████▎| 876/938 [01:05<00:04, 14.66it/s]"
     ]
    },
    {
     "name": "stdout",
     "output_type": "stream",
     "text": [
      "mean_log_p,shapetorch.Size([]), -156.38404846191406\n",
      "mean_log_q.shapetorch.Size([]), -42.28908920288086\n",
      "mean_log_p,shapetorch.Size([]), -167.30325317382812\n",
      "mean_log_q.shapetorch.Size([]), -41.07847213745117\n"
     ]
    },
    {
     "name": "stderr",
     "output_type": "stream",
     "text": [
      " 94%|█████████▎| 878/938 [01:05<00:04, 14.25it/s]"
     ]
    },
    {
     "name": "stdout",
     "output_type": "stream",
     "text": [
      "mean_log_p,shapetorch.Size([]), -162.54025268554688\n",
      "mean_log_q.shapetorch.Size([]), -41.896385192871094\n",
      "mean_log_p,shapetorch.Size([]), -164.61549377441406\n",
      "mean_log_q.shapetorch.Size([]), -41.68879699707031\n"
     ]
    },
    {
     "name": "stderr",
     "output_type": "stream",
     "text": [
      " 94%|█████████▍| 880/938 [01:05<00:04, 13.98it/s]"
     ]
    },
    {
     "name": "stdout",
     "output_type": "stream",
     "text": [
      "mean_log_p,shapetorch.Size([]), -168.11599731445312\n",
      "mean_log_q.shapetorch.Size([]), -40.40299987792969\n",
      "mean_log_p,shapetorch.Size([]), -166.683349609375\n",
      "mean_log_q.shapetorch.Size([]), -40.303565979003906\n"
     ]
    },
    {
     "name": "stderr",
     "output_type": "stream",
     "text": [
      " 94%|█████████▍| 882/938 [01:05<00:04, 13.80it/s]"
     ]
    },
    {
     "name": "stdout",
     "output_type": "stream",
     "text": [
      "mean_log_p,shapetorch.Size([]), -156.44033813476562\n",
      "mean_log_q.shapetorch.Size([]), -39.89453887939453\n",
      "mean_log_p,shapetorch.Size([]), -156.4504852294922\n",
      "mean_log_q.shapetorch.Size([]), -39.748634338378906\n"
     ]
    },
    {
     "name": "stderr",
     "output_type": "stream",
     "text": [
      " 94%|█████████▍| 884/938 [01:06<00:03, 13.66it/s]"
     ]
    },
    {
     "name": "stdout",
     "output_type": "stream",
     "text": [
      "mean_log_p,shapetorch.Size([]), -156.86636352539062\n",
      "mean_log_q.shapetorch.Size([]), -40.32931900024414\n",
      "mean_log_p,shapetorch.Size([]), -155.6767120361328\n",
      "mean_log_q.shapetorch.Size([]), -39.603919982910156\n"
     ]
    },
    {
     "name": "stderr",
     "output_type": "stream",
     "text": [
      " 94%|█████████▍| 886/938 [01:06<00:03, 13.55it/s]"
     ]
    },
    {
     "name": "stdout",
     "output_type": "stream",
     "text": [
      "mean_log_p,shapetorch.Size([]), -165.884033203125\n",
      "mean_log_q.shapetorch.Size([]), -38.98409652709961\n",
      "mean_log_p,shapetorch.Size([]), -155.9019775390625\n",
      "mean_log_q.shapetorch.Size([]), -40.39881896972656\n"
     ]
    },
    {
     "name": "stderr",
     "output_type": "stream",
     "text": [
      " 95%|█████████▍| 888/938 [01:06<00:03, 13.50it/s]"
     ]
    },
    {
     "name": "stdout",
     "output_type": "stream",
     "text": [
      "mean_log_p,shapetorch.Size([]), -153.8544921875\n",
      "mean_log_q.shapetorch.Size([]), -39.905616760253906\n",
      "mean_log_p,shapetorch.Size([]), -157.0389404296875\n",
      "mean_log_q.shapetorch.Size([]), -40.76858901977539\n"
     ]
    },
    {
     "name": "stderr",
     "output_type": "stream",
     "text": [
      " 95%|█████████▍| 890/938 [01:06<00:03, 13.44it/s]"
     ]
    },
    {
     "name": "stdout",
     "output_type": "stream",
     "text": [
      "mean_log_p,shapetorch.Size([]), -168.02517700195312\n",
      "mean_log_q.shapetorch.Size([]), -39.53697967529297\n",
      "mean_log_p,shapetorch.Size([]), -160.04129028320312\n",
      "mean_log_q.shapetorch.Size([]), -40.54420471191406\n"
     ]
    },
    {
     "name": "stderr",
     "output_type": "stream",
     "text": [
      " 95%|█████████▌| 892/938 [01:06<00:03, 13.42it/s]"
     ]
    },
    {
     "name": "stdout",
     "output_type": "stream",
     "text": [
      "mean_log_p,shapetorch.Size([]), -159.89877319335938\n",
      "mean_log_q.shapetorch.Size([]), -40.22742462158203\n",
      "mean_log_p,shapetorch.Size([]), -165.16343688964844\n",
      "mean_log_q.shapetorch.Size([]), -40.48505401611328\n"
     ]
    },
    {
     "name": "stderr",
     "output_type": "stream",
     "text": [
      " 95%|█████████▌| 894/938 [01:06<00:03, 13.39it/s]"
     ]
    },
    {
     "name": "stdout",
     "output_type": "stream",
     "text": [
      "mean_log_p,shapetorch.Size([]), -159.32644653320312\n",
      "mean_log_q.shapetorch.Size([]), -41.17853927612305\n",
      "mean_log_p,shapetorch.Size([]), -163.09225463867188\n",
      "mean_log_q.shapetorch.Size([]), -40.3714599609375\n"
     ]
    },
    {
     "name": "stderr",
     "output_type": "stream",
     "text": [
      " 96%|█████████▌| 896/938 [01:06<00:03, 13.37it/s]"
     ]
    },
    {
     "name": "stdout",
     "output_type": "stream",
     "text": [
      "mean_log_p,shapetorch.Size([]), -162.6387939453125\n",
      "mean_log_q.shapetorch.Size([]), -41.38162612915039\n",
      "mean_log_p,shapetorch.Size([]), -161.34884643554688\n",
      "mean_log_q.shapetorch.Size([]), -41.12849426269531\n"
     ]
    },
    {
     "name": "stderr",
     "output_type": "stream",
     "text": [
      " 96%|█████████▌| 898/938 [01:07<00:02, 13.36it/s]"
     ]
    },
    {
     "name": "stdout",
     "output_type": "stream",
     "text": [
      "mean_log_p,shapetorch.Size([]), -161.42127990722656\n",
      "mean_log_q.shapetorch.Size([]), -40.621612548828125\n",
      "mean_log_p,shapetorch.Size([]), -156.6831512451172\n",
      "mean_log_q.shapetorch.Size([]), -40.302711486816406\n"
     ]
    },
    {
     "name": "stderr",
     "output_type": "stream",
     "text": [
      " 96%|█████████▌| 900/938 [01:07<00:02, 13.35it/s]"
     ]
    },
    {
     "name": "stdout",
     "output_type": "stream",
     "text": [
      "mean_log_p,shapetorch.Size([]), -163.71539306640625\n",
      "mean_log_q.shapetorch.Size([]), -39.05101776123047\n",
      "mean_log_p,shapetorch.Size([]), -163.38925170898438\n",
      "mean_log_q.shapetorch.Size([]), -38.96491241455078\n"
     ]
    },
    {
     "name": "stderr",
     "output_type": "stream",
     "text": [
      " 96%|█████████▌| 902/938 [01:07<00:02, 13.34it/s]"
     ]
    },
    {
     "name": "stdout",
     "output_type": "stream",
     "text": [
      "mean_log_p,shapetorch.Size([]), -160.52947998046875\n",
      "mean_log_q.shapetorch.Size([]), -39.36051559448242\n",
      "mean_log_p,shapetorch.Size([]), -156.50369262695312\n",
      "mean_log_q.shapetorch.Size([]), -39.52899932861328\n",
      "mean_log_p,shapetorch.Size([]), -159.8693389892578\n",
      "mean_log_q.shapetorch.Size([]), -39.127037048339844\n"
     ]
    },
    {
     "name": "stderr",
     "output_type": "stream",
     "text": [
      " 96%|█████████▋| 904/938 [01:07<00:02, 13.21it/s]"
     ]
    },
    {
     "name": "stdout",
     "output_type": "stream",
     "text": [
      "mean_log_p,shapetorch.Size([]), -157.7061309814453\n",
      "mean_log_q.shapetorch.Size([]), -40.14549255371094\n",
      "mean_log_p,shapetorch.Size([]), -156.13470458984375\n",
      "mean_log_q.shapetorch.Size([]), -39.65335464477539\n"
     ]
    },
    {
     "name": "stderr",
     "output_type": "stream",
     "text": [
      " 97%|█████████▋| 906/938 [01:07<00:02, 13.19it/s]"
     ]
    },
    {
     "name": "stdout",
     "output_type": "stream",
     "text": [
      "mean_log_p,shapetorch.Size([]), -157.76705932617188\n",
      "mean_log_q.shapetorch.Size([]), -40.967830657958984\n",
      "mean_log_p,shapetorch.Size([]), -158.23602294921875\n",
      "mean_log_q.shapetorch.Size([]), -40.861515045166016\n"
     ]
    },
    {
     "name": "stderr",
     "output_type": "stream",
     "text": [
      " 97%|█████████▋| 908/938 [01:07<00:02, 13.18it/s]"
     ]
    },
    {
     "name": "stdout",
     "output_type": "stream",
     "text": [
      "mean_log_p,shapetorch.Size([]), -158.2666015625\n",
      "mean_log_q.shapetorch.Size([]), -40.76599884033203\n",
      "mean_log_p,shapetorch.Size([]), -158.36843872070312\n",
      "mean_log_q.shapetorch.Size([]), -41.32606506347656\n"
     ]
    },
    {
     "name": "stderr",
     "output_type": "stream",
     "text": [
      " 97%|█████████▋| 910/938 [01:07<00:02, 13.17it/s]"
     ]
    },
    {
     "name": "stdout",
     "output_type": "stream",
     "text": [
      "mean_log_p,shapetorch.Size([]), -158.7967071533203\n",
      "mean_log_q.shapetorch.Size([]), -40.98345947265625\n",
      "mean_log_p,shapetorch.Size([]), -151.07240295410156\n",
      "mean_log_q.shapetorch.Size([]), -41.72808837890625\n"
     ]
    },
    {
     "name": "stderr",
     "output_type": "stream",
     "text": [
      " 97%|█████████▋| 912/938 [01:08<00:01, 13.17it/s]"
     ]
    },
    {
     "name": "stdout",
     "output_type": "stream",
     "text": [
      "mean_log_p,shapetorch.Size([]), -160.6180419921875\n",
      "mean_log_q.shapetorch.Size([]), -41.240055084228516\n",
      "mean_log_p,shapetorch.Size([]), -162.1284942626953\n",
      "mean_log_q.shapetorch.Size([]), -40.434356689453125\n"
     ]
    },
    {
     "name": "stderr",
     "output_type": "stream",
     "text": [
      " 97%|█████████▋| 914/938 [01:08<00:01, 13.15it/s]"
     ]
    },
    {
     "name": "stdout",
     "output_type": "stream",
     "text": [
      "mean_log_p,shapetorch.Size([]), -157.64938354492188\n",
      "mean_log_q.shapetorch.Size([]), -41.70276641845703\n",
      "mean_log_p,shapetorch.Size([]), -169.37049865722656\n",
      "mean_log_q.shapetorch.Size([]), -40.92113494873047\n"
     ]
    },
    {
     "name": "stderr",
     "output_type": "stream",
     "text": [
      " 98%|█████████▊| 916/938 [01:08<00:01, 13.12it/s]"
     ]
    },
    {
     "name": "stdout",
     "output_type": "stream",
     "text": [
      "mean_log_p,shapetorch.Size([]), -168.87225341796875\n",
      "mean_log_q.shapetorch.Size([]), -40.69999694824219\n",
      "mean_log_p,shapetorch.Size([]), -172.37667846679688\n",
      "mean_log_q.shapetorch.Size([]), -39.57197570800781\n"
     ]
    },
    {
     "name": "stderr",
     "output_type": "stream",
     "text": [
      " 98%|█████████▊| 918/938 [01:08<00:01, 12.99it/s]"
     ]
    },
    {
     "name": "stdout",
     "output_type": "stream",
     "text": [
      "mean_log_p,shapetorch.Size([]), -153.67620849609375\n",
      "mean_log_q.shapetorch.Size([]), -40.12430953979492\n",
      "mean_log_p,shapetorch.Size([]), -159.64993286132812\n",
      "mean_log_q.shapetorch.Size([]), -39.88201904296875\n"
     ]
    },
    {
     "name": "stderr",
     "output_type": "stream",
     "text": [
      " 98%|█████████▊| 920/938 [01:08<00:01, 13.04it/s]"
     ]
    },
    {
     "name": "stdout",
     "output_type": "stream",
     "text": [
      "mean_log_p,shapetorch.Size([]), -159.52447509765625\n",
      "mean_log_q.shapetorch.Size([]), -39.37055206298828\n",
      "mean_log_p,shapetorch.Size([]), -167.62899780273438\n",
      "mean_log_q.shapetorch.Size([]), -39.511566162109375\n"
     ]
    },
    {
     "name": "stderr",
     "output_type": "stream",
     "text": [
      " 98%|█████████▊| 922/938 [01:08<00:01, 13.04it/s]"
     ]
    },
    {
     "name": "stdout",
     "output_type": "stream",
     "text": [
      "mean_log_p,shapetorch.Size([]), -161.61691284179688\n",
      "mean_log_q.shapetorch.Size([]), -38.902610778808594\n",
      "mean_log_p,shapetorch.Size([]), -156.20010375976562\n",
      "mean_log_q.shapetorch.Size([]), -38.962425231933594\n"
     ]
    },
    {
     "name": "stderr",
     "output_type": "stream",
     "text": [
      " 99%|█████████▊| 924/938 [01:09<00:01, 13.04it/s]"
     ]
    },
    {
     "name": "stdout",
     "output_type": "stream",
     "text": [
      "mean_log_p,shapetorch.Size([]), -164.45001220703125\n",
      "mean_log_q.shapetorch.Size([]), -39.43714141845703\n",
      "mean_log_p,shapetorch.Size([]), -160.33908081054688\n",
      "mean_log_q.shapetorch.Size([]), -39.629722595214844\n"
     ]
    },
    {
     "name": "stderr",
     "output_type": "stream",
     "text": [
      " 99%|█████████▊| 926/938 [01:09<00:00, 13.08it/s]"
     ]
    },
    {
     "name": "stdout",
     "output_type": "stream",
     "text": [
      "mean_log_p,shapetorch.Size([]), -167.4818115234375\n",
      "mean_log_q.shapetorch.Size([]), -40.01456832885742\n"
     ]
    },
    {
     "name": "stderr",
     "output_type": "stream",
     "text": [
      " 99%|█████████▉| 930/938 [01:09<00:00, 17.08it/s]"
     ]
    },
    {
     "name": "stdout",
     "output_type": "stream",
     "text": [
      "mean_log_p,shapetorch.Size([]), -157.33489990234375\n",
      "mean_log_q.shapetorch.Size([]), -40.240760803222656\n",
      "mean_log_p,shapetorch.Size([]), -157.34524536132812\n",
      "mean_log_q.shapetorch.Size([]), -40.04450225830078\n"
     ]
    },
    {
     "name": "stderr",
     "output_type": "stream",
     "text": [
      " 99%|█████████▉| 932/938 [01:09<00:00, 15.93it/s]"
     ]
    },
    {
     "name": "stdout",
     "output_type": "stream",
     "text": [
      "mean_log_p,shapetorch.Size([]), -161.35354614257812\n",
      "mean_log_q.shapetorch.Size([]), -41.208946228027344\n",
      "mean_log_p,shapetorch.Size([]), -151.90687561035156\n",
      "mean_log_q.shapetorch.Size([]), -40.95317459106445\n"
     ]
    },
    {
     "name": "stderr",
     "output_type": "stream",
     "text": [
      "100%|█████████▉| 934/938 [01:09<00:00, 15.15it/s]"
     ]
    },
    {
     "name": "stdout",
     "output_type": "stream",
     "text": [
      "mean_log_p,shapetorch.Size([]), -158.09390258789062\n",
      "mean_log_q.shapetorch.Size([]), -40.77079772949219\n",
      "mean_log_p,shapetorch.Size([]), -153.40924072265625\n",
      "mean_log_q.shapetorch.Size([]), -40.854591369628906\n"
     ]
    },
    {
     "name": "stderr",
     "output_type": "stream",
     "text": [
      "100%|█████████▉| 936/938 [01:09<00:00, 14.61it/s]"
     ]
    },
    {
     "name": "stdout",
     "output_type": "stream",
     "text": [
      "mean_log_p,shapetorch.Size([]), -163.17465209960938\n",
      "mean_log_q.shapetorch.Size([]), -40.36446762084961\n",
      "mean_log_p,shapetorch.Size([]), -160.63162231445312\n",
      "mean_log_q.shapetorch.Size([]), -40.55372619628906\n"
     ]
    },
    {
     "name": "stderr",
     "output_type": "stream",
     "text": [
      "100%|██████████| 938/938 [01:09<00:00, 14.24it/s]"
     ]
    },
    {
     "name": "stdout",
     "output_type": "stream",
     "text": [
      "mean_log_p,shapetorch.Size([]), -162.2557830810547\n",
      "mean_log_q.shapetorch.Size([]), -39.72819519042969\n",
      "mean_log_p,shapetorch.Size([]), -159.43246459960938\n",
      "mean_log_q.shapetorch.Size([]), -41.006752014160156\n"
     ]
    },
    {
     "name": "stderr",
     "output_type": "stream",
     "text": [
      "940it [01:10, 13.97it/s]                         "
     ]
    },
    {
     "name": "stdout",
     "output_type": "stream",
     "text": [
      "mean_log_p,shapetorch.Size([]), -158.00628662109375\n",
      "mean_log_q.shapetorch.Size([]), -40.48765563964844\n",
      "mean_log_p,shapetorch.Size([]), -153.90150451660156\n",
      "mean_log_q.shapetorch.Size([]), -40.00434112548828\n"
     ]
    },
    {
     "name": "stderr",
     "output_type": "stream",
     "text": [
      "942it [01:10, 13.78it/s]"
     ]
    },
    {
     "name": "stdout",
     "output_type": "stream",
     "text": [
      "mean_log_p,shapetorch.Size([]), -157.51669311523438\n",
      "mean_log_q.shapetorch.Size([]), -40.21559143066406\n",
      "mean_log_p,shapetorch.Size([]), -168.6138458251953\n",
      "mean_log_q.shapetorch.Size([]), -39.153926849365234\n"
     ]
    },
    {
     "name": "stderr",
     "output_type": "stream",
     "text": [
      "944it [01:10, 13.67it/s]"
     ]
    },
    {
     "name": "stdout",
     "output_type": "stream",
     "text": [
      "mean_log_p,shapetorch.Size([]), -158.55029296875\n",
      "mean_log_q.shapetorch.Size([]), -39.73005676269531\n",
      "mean_log_p,shapetorch.Size([]), -157.9463653564453\n",
      "mean_log_q.shapetorch.Size([]), -39.60600280761719\n"
     ]
    },
    {
     "name": "stderr",
     "output_type": "stream",
     "text": [
      "946it [01:10, 13.59it/s]"
     ]
    },
    {
     "name": "stdout",
     "output_type": "stream",
     "text": [
      "mean_log_p,shapetorch.Size([]), -158.33987426757812\n",
      "mean_log_q.shapetorch.Size([]), -39.500328063964844\n",
      "mean_log_p,shapetorch.Size([]), -156.91647338867188\n",
      "mean_log_q.shapetorch.Size([]), -39.99877166748047\n"
     ]
    },
    {
     "name": "stderr",
     "output_type": "stream",
     "text": [
      "948it [01:10, 13.49it/s]"
     ]
    },
    {
     "name": "stdout",
     "output_type": "stream",
     "text": [
      "mean_log_p,shapetorch.Size([]), -158.0743865966797\n",
      "mean_log_q.shapetorch.Size([]), -40.577430725097656\n",
      "mean_log_p,shapetorch.Size([]), -157.38055419921875\n",
      "mean_log_q.shapetorch.Size([]), -40.65619659423828\n"
     ]
    },
    {
     "name": "stderr",
     "output_type": "stream",
     "text": [
      "950it [01:10, 13.45it/s]"
     ]
    },
    {
     "name": "stdout",
     "output_type": "stream",
     "text": [
      "mean_log_p,shapetorch.Size([]), -155.4207305908203\n",
      "mean_log_q.shapetorch.Size([]), -40.708824157714844\n",
      "mean_log_p,shapetorch.Size([]), -161.60154724121094\n",
      "mean_log_q.shapetorch.Size([]), -39.29550552368164\n"
     ]
    },
    {
     "name": "stderr",
     "output_type": "stream",
     "text": [
      "952it [01:11, 13.41it/s]"
     ]
    },
    {
     "name": "stdout",
     "output_type": "stream",
     "text": [
      "mean_log_p,shapetorch.Size([]), -157.2765655517578\n",
      "mean_log_q.shapetorch.Size([]), -40.85673904418945\n",
      "mean_log_p,shapetorch.Size([]), -166.444580078125\n",
      "mean_log_q.shapetorch.Size([]), -40.30008316040039\n"
     ]
    },
    {
     "name": "stderr",
     "output_type": "stream",
     "text": [
      "954it [01:11, 13.33it/s]"
     ]
    },
    {
     "name": "stdout",
     "output_type": "stream",
     "text": [
      "mean_log_p,shapetorch.Size([]), -158.80239868164062\n",
      "mean_log_q.shapetorch.Size([]), -39.33702850341797\n",
      "mean_log_p,shapetorch.Size([]), -162.1497344970703\n",
      "mean_log_q.shapetorch.Size([]), -40.286842346191406\n"
     ]
    },
    {
     "name": "stderr",
     "output_type": "stream",
     "text": [
      "956it [01:11, 13.30it/s]"
     ]
    },
    {
     "name": "stdout",
     "output_type": "stream",
     "text": [
      "mean_log_p,shapetorch.Size([]), -169.217041015625\n",
      "mean_log_q.shapetorch.Size([]), -39.0241584777832\n",
      "mean_log_p,shapetorch.Size([]), -164.6260528564453\n",
      "mean_log_q.shapetorch.Size([]), -39.745704650878906\n"
     ]
    },
    {
     "name": "stderr",
     "output_type": "stream",
     "text": [
      "958it [01:11, 13.30it/s]"
     ]
    },
    {
     "name": "stdout",
     "output_type": "stream",
     "text": [
      "mean_log_p,shapetorch.Size([]), -161.24130249023438\n",
      "mean_log_q.shapetorch.Size([]), -39.6136589050293\n",
      "mean_log_p,shapetorch.Size([]), -154.9219207763672\n",
      "mean_log_q.shapetorch.Size([]), -40.53978729248047\n"
     ]
    },
    {
     "name": "stderr",
     "output_type": "stream",
     "text": [
      "960it [01:11, 13.31it/s]"
     ]
    },
    {
     "name": "stdout",
     "output_type": "stream",
     "text": [
      "mean_log_p,shapetorch.Size([]), -158.70889282226562\n",
      "mean_log_q.shapetorch.Size([]), -39.48027038574219\n",
      "mean_log_p,shapetorch.Size([]), -159.775634765625\n",
      "mean_log_q.shapetorch.Size([]), -39.13459014892578\n"
     ]
    },
    {
     "name": "stderr",
     "output_type": "stream",
     "text": [
      "962it [01:11, 13.28it/s]"
     ]
    },
    {
     "name": "stdout",
     "output_type": "stream",
     "text": [
      "mean_log_p,shapetorch.Size([]), -162.10739135742188\n",
      "mean_log_q.shapetorch.Size([]), -40.19517517089844\n",
      "mean_log_p,shapetorch.Size([]), -156.40869140625\n",
      "mean_log_q.shapetorch.Size([]), -40.330780029296875\n"
     ]
    },
    {
     "name": "stderr",
     "output_type": "stream",
     "text": [
      "964it [01:11, 13.28it/s]"
     ]
    },
    {
     "name": "stdout",
     "output_type": "stream",
     "text": [
      "mean_log_p,shapetorch.Size([]), -161.3680877685547\n",
      "mean_log_q.shapetorch.Size([]), -39.69642639160156\n",
      "mean_log_p,shapetorch.Size([]), -162.87860107421875\n",
      "mean_log_q.shapetorch.Size([]), -41.30113220214844\n"
     ]
    },
    {
     "name": "stderr",
     "output_type": "stream",
     "text": [
      "966it [01:12, 13.26it/s]"
     ]
    },
    {
     "name": "stdout",
     "output_type": "stream",
     "text": [
      "mean_log_p,shapetorch.Size([]), -157.4670867919922\n",
      "mean_log_q.shapetorch.Size([]), -40.49052810668945\n",
      "mean_log_p,shapetorch.Size([]), -154.05276489257812\n",
      "mean_log_q.shapetorch.Size([]), -40.938602447509766\n"
     ]
    },
    {
     "name": "stderr",
     "output_type": "stream",
     "text": [
      "968it [01:12, 13.30it/s]"
     ]
    },
    {
     "name": "stdout",
     "output_type": "stream",
     "text": [
      "mean_log_p,shapetorch.Size([]), -156.6966094970703\n",
      "mean_log_q.shapetorch.Size([]), -40.30857849121094\n",
      "mean_log_p,shapetorch.Size([]), -166.58145141601562\n",
      "mean_log_q.shapetorch.Size([]), -40.32707214355469\n"
     ]
    },
    {
     "name": "stderr",
     "output_type": "stream",
     "text": [
      "970it [01:12, 13.36it/s]"
     ]
    },
    {
     "name": "stdout",
     "output_type": "stream",
     "text": [
      "mean_log_p,shapetorch.Size([]), -161.02391052246094\n",
      "mean_log_q.shapetorch.Size([]), -41.22406768798828\n",
      "mean_log_p,shapetorch.Size([]), -159.16200256347656\n",
      "mean_log_q.shapetorch.Size([]), -40.47550964355469\n",
      "mean_log_p,shapetorch.Size([]), -166.58526611328125\n",
      "mean_log_q.shapetorch.Size([]), -40.426971435546875\n"
     ]
    },
    {
     "name": "stderr",
     "output_type": "stream",
     "text": [
      "972it [01:12, 13.25it/s]"
     ]
    },
    {
     "name": "stdout",
     "output_type": "stream",
     "text": [
      "mean_log_p,shapetorch.Size([]), -154.4534912109375\n",
      "mean_log_q.shapetorch.Size([]), -40.467201232910156\n",
      "mean_log_p,shapetorch.Size([]), -160.51870727539062\n",
      "mean_log_q.shapetorch.Size([]), -40.947837829589844\n"
     ]
    },
    {
     "name": "stderr",
     "output_type": "stream",
     "text": [
      "974it [01:12, 13.24it/s]"
     ]
    },
    {
     "name": "stdout",
     "output_type": "stream",
     "text": [
      "mean_log_p,shapetorch.Size([]), -159.94012451171875\n",
      "mean_log_q.shapetorch.Size([]), -40.06455993652344\n"
     ]
    },
    {
     "name": "stderr",
     "output_type": "stream",
     "text": [
      "976it [01:12, 13.27it/s]"
     ]
    },
    {
     "name": "stdout",
     "output_type": "stream",
     "text": [
      "mean_log_p,shapetorch.Size([]), -162.9847412109375\n",
      "mean_log_q.shapetorch.Size([]), -39.8953857421875\n",
      "mean_log_p,shapetorch.Size([]), -169.4521484375\n",
      "mean_log_q.shapetorch.Size([]), -39.63499450683594\n"
     ]
    },
    {
     "name": "stderr",
     "output_type": "stream",
     "text": [
      "978it [01:12, 13.28it/s]"
     ]
    },
    {
     "name": "stdout",
     "output_type": "stream",
     "text": [
      "mean_log_p,shapetorch.Size([]), -160.778564453125\n",
      "mean_log_q.shapetorch.Size([]), -40.43368148803711\n",
      "mean_log_p,shapetorch.Size([]), -156.97003173828125\n",
      "mean_log_q.shapetorch.Size([]), -40.397987365722656\n"
     ]
    },
    {
     "name": "stderr",
     "output_type": "stream",
     "text": [
      "980it [01:13, 13.30it/s]"
     ]
    },
    {
     "name": "stdout",
     "output_type": "stream",
     "text": [
      "mean_log_p,shapetorch.Size([]), -164.08346557617188\n",
      "mean_log_q.shapetorch.Size([]), -40.103111267089844\n",
      "mean_log_p,shapetorch.Size([]), -160.36309814453125\n",
      "mean_log_q.shapetorch.Size([]), -40.30133819580078\n"
     ]
    },
    {
     "name": "stderr",
     "output_type": "stream",
     "text": [
      "982it [01:13, 13.31it/s]"
     ]
    },
    {
     "name": "stdout",
     "output_type": "stream",
     "text": [
      "mean_log_p,shapetorch.Size([]), -157.81076049804688\n",
      "mean_log_q.shapetorch.Size([]), -40.701202392578125\n",
      "mean_log_p,shapetorch.Size([]), -157.16372680664062\n",
      "mean_log_q.shapetorch.Size([]), -40.76686096191406\n"
     ]
    },
    {
     "name": "stderr",
     "output_type": "stream",
     "text": [
      "984it [01:13, 13.34it/s]"
     ]
    },
    {
     "name": "stdout",
     "output_type": "stream",
     "text": [
      "mean_log_p,shapetorch.Size([]), -166.92288208007812\n",
      "mean_log_q.shapetorch.Size([]), -39.85711669921875\n",
      "mean_log_p,shapetorch.Size([]), -163.87744140625\n",
      "mean_log_q.shapetorch.Size([]), -40.743003845214844\n"
     ]
    },
    {
     "name": "stderr",
     "output_type": "stream",
     "text": [
      "986it [01:13, 13.35it/s]"
     ]
    },
    {
     "name": "stdout",
     "output_type": "stream",
     "text": [
      "mean_log_p,shapetorch.Size([]), -164.1811981201172\n",
      "mean_log_q.shapetorch.Size([]), -40.219146728515625\n",
      "mean_log_p,shapetorch.Size([]), -157.47296142578125\n",
      "mean_log_q.shapetorch.Size([]), -39.38751220703125\n"
     ]
    },
    {
     "name": "stderr",
     "output_type": "stream",
     "text": [
      "988it [01:13, 13.36it/s]"
     ]
    },
    {
     "name": "stdout",
     "output_type": "stream",
     "text": [
      "mean_log_p,shapetorch.Size([]), -164.10658264160156\n",
      "mean_log_q.shapetorch.Size([]), -40.00017547607422\n",
      "mean_log_p,shapetorch.Size([]), -160.43438720703125\n",
      "mean_log_q.shapetorch.Size([]), -39.91767120361328\n"
     ]
    },
    {
     "name": "stderr",
     "output_type": "stream",
     "text": [
      "992it [01:13, 17.35it/s]"
     ]
    },
    {
     "name": "stdout",
     "output_type": "stream",
     "text": [
      "mean_log_p,shapetorch.Size([]), -156.290771484375\n",
      "mean_log_q.shapetorch.Size([]), -39.82280731201172\n",
      "mean_log_p,shapetorch.Size([]), -155.44073486328125\n",
      "mean_log_q.shapetorch.Size([]), -39.59189987182617\n"
     ]
    },
    {
     "name": "stderr",
     "output_type": "stream",
     "text": [
      "994it [01:14, 16.19it/s]"
     ]
    },
    {
     "name": "stdout",
     "output_type": "stream",
     "text": [
      "mean_log_p,shapetorch.Size([]), -158.48695373535156\n",
      "mean_log_q.shapetorch.Size([]), -40.041603088378906\n",
      "mean_log_p,shapetorch.Size([]), -154.94766235351562\n",
      "mean_log_q.shapetorch.Size([]), -40.22327423095703\n"
     ]
    },
    {
     "name": "stderr",
     "output_type": "stream",
     "text": [
      "996it [01:14, 15.31it/s]"
     ]
    },
    {
     "name": "stdout",
     "output_type": "stream",
     "text": [
      "mean_log_p,shapetorch.Size([]), -161.1552734375\n",
      "mean_log_q.shapetorch.Size([]), -39.28586196899414\n",
      "mean_log_p,shapetorch.Size([]), -157.27581787109375\n",
      "mean_log_q.shapetorch.Size([]), -40.32764434814453\n"
     ]
    },
    {
     "name": "stderr",
     "output_type": "stream",
     "text": [
      "998it [01:14, 14.74it/s]"
     ]
    },
    {
     "name": "stdout",
     "output_type": "stream",
     "text": [
      "mean_log_p,shapetorch.Size([]), -159.2164764404297\n",
      "mean_log_q.shapetorch.Size([]), -39.98855972290039\n",
      "mean_log_p,shapetorch.Size([]), -163.73251342773438\n",
      "mean_log_q.shapetorch.Size([]), -39.256561279296875\n"
     ]
    },
    {
     "name": "stderr",
     "output_type": "stream",
     "text": [
      "1000it [01:14, 14.32it/s]"
     ]
    },
    {
     "name": "stdout",
     "output_type": "stream",
     "text": [
      "mean_log_p,shapetorch.Size([]), -159.17959594726562\n",
      "mean_log_q.shapetorch.Size([]), -39.9654541015625\n",
      "mean_log_p,shapetorch.Size([]), -157.03236389160156\n",
      "mean_log_q.shapetorch.Size([]), -39.076656341552734\n"
     ]
    },
    {
     "name": "stderr",
     "output_type": "stream",
     "text": [
      "100%|██████████| 938/938 [01:14<00:00, 12.58it/s]\n"
     ]
    },
    {
     "name": "stdout",
     "output_type": "stream",
     "text": [
      "Train Epoch: 2 [29984/60000 (100%)]\tLoss: 118.079536\n"
     ]
    },
    {
     "name": "stderr",
     "output_type": "stream",
     "text": [
      "  0%|          | 0/938 [00:00<?, ?it/s]"
     ]
    },
    {
     "name": "stdout",
     "output_type": "stream",
     "text": [
      "mean_log_p,shapetorch.Size([]), -153.1170654296875\n",
      "mean_log_q.shapetorch.Size([]), -40.49714279174805\n",
      "mean_log_p,shapetorch.Size([]), -154.60629272460938\n",
      "mean_log_q.shapetorch.Size([]), -40.35462951660156\n"
     ]
    },
    {
     "name": "stderr",
     "output_type": "stream",
     "text": [
      "  0%|          | 2/938 [00:00<01:15, 12.37it/s]"
     ]
    },
    {
     "name": "stdout",
     "output_type": "stream",
     "text": [
      "mean_log_p,shapetorch.Size([]), -161.4625701904297\n",
      "mean_log_q.shapetorch.Size([]), -39.90948486328125\n"
     ]
    },
    {
     "name": "stderr",
     "output_type": "stream",
     "text": [
      "  1%|          | 6/938 [00:00<00:45, 20.48it/s]"
     ]
    },
    {
     "name": "stdout",
     "output_type": "stream",
     "text": [
      "mean_log_p,shapetorch.Size([]), -160.7939453125\n",
      "mean_log_q.shapetorch.Size([]), -39.395362854003906\n",
      "mean_log_p,shapetorch.Size([]), -153.46749877929688\n",
      "mean_log_q.shapetorch.Size([]), -40.257667541503906\n"
     ]
    },
    {
     "name": "stderr",
     "output_type": "stream",
     "text": [
      "  1%|          | 11/938 [00:00<00:35, 26.24it/s]"
     ]
    },
    {
     "name": "stdout",
     "output_type": "stream",
     "text": [
      "mean_log_p,shapetorch.Size([]), -169.7001190185547\n",
      "mean_log_q.shapetorch.Size([]), -40.30078887939453\n",
      "mean_log_p,shapetorch.Size([]), -153.06414794921875\n",
      "mean_log_q.shapetorch.Size([]), -39.763790130615234\n",
      "mean_log_p,shapetorch.Size([]), -157.72564697265625\n",
      "mean_log_q.shapetorch.Size([]), -40.024009704589844\n"
     ]
    },
    {
     "name": "stderr",
     "output_type": "stream",
     "text": [
      "  1%|▏         | 14/938 [00:00<00:46, 19.96it/s]"
     ]
    },
    {
     "name": "stdout",
     "output_type": "stream",
     "text": [
      "mean_log_p,shapetorch.Size([]), -156.49966430664062\n",
      "mean_log_q.shapetorch.Size([]), -40.40850830078125\n",
      "mean_log_p,shapetorch.Size([]), -163.18460083007812\n",
      "mean_log_q.shapetorch.Size([]), -40.05286407470703\n"
     ]
    },
    {
     "name": "stderr",
     "output_type": "stream",
     "text": [
      "  2%|▏         | 19/938 [00:00<00:37, 24.23it/s]"
     ]
    },
    {
     "name": "stdout",
     "output_type": "stream",
     "text": [
      "mean_log_p,shapetorch.Size([]), -164.67343139648438\n",
      "mean_log_q.shapetorch.Size([]), -39.73897933959961\n",
      "mean_log_p,shapetorch.Size([]), -154.7188720703125\n",
      "mean_log_q.shapetorch.Size([]), -40.60986328125\n",
      "mean_log_p,shapetorch.Size([]), -159.69354248046875\n",
      "mean_log_q.shapetorch.Size([]), -39.55646514892578\n"
     ]
    },
    {
     "name": "stderr",
     "output_type": "stream",
     "text": [
      "  2%|▏         | 22/938 [00:01<00:46, 19.84it/s]"
     ]
    },
    {
     "name": "stdout",
     "output_type": "stream",
     "text": [
      "mean_log_p,shapetorch.Size([]), -158.09469604492188\n",
      "mean_log_q.shapetorch.Size([]), -40.548126220703125\n",
      "mean_log_p,shapetorch.Size([]), -161.46664428710938\n",
      "mean_log_q.shapetorch.Size([]), -39.90488052368164\n",
      "mean_log_p,shapetorch.Size([]), -160.1524658203125\n",
      "mean_log_q.shapetorch.Size([]), -39.847076416015625\n"
     ]
    },
    {
     "name": "stderr",
     "output_type": "stream",
     "text": [
      "  3%|▎         | 25/938 [00:01<00:52, 17.48it/s]"
     ]
    },
    {
     "name": "stdout",
     "output_type": "stream",
     "text": [
      "mean_log_p,shapetorch.Size([]), -163.12637329101562\n",
      "mean_log_q.shapetorch.Size([]), -41.02780532836914\n",
      "mean_log_p,shapetorch.Size([]), -159.91473388671875\n",
      "mean_log_q.shapetorch.Size([]), -40.09336853027344\n"
     ]
    },
    {
     "name": "stderr",
     "output_type": "stream",
     "text": [
      "  3%|▎         | 30/938 [00:01<00:42, 21.60it/s]"
     ]
    },
    {
     "name": "stdout",
     "output_type": "stream",
     "text": [
      "mean_log_p,shapetorch.Size([]), -163.0675811767578\n",
      "mean_log_q.shapetorch.Size([]), -39.77061462402344\n",
      "mean_log_p,shapetorch.Size([]), -157.03953552246094\n",
      "mean_log_q.shapetorch.Size([]), -39.789737701416016\n",
      "mean_log_p,shapetorch.Size([]), -157.35671997070312\n",
      "mean_log_q.shapetorch.Size([]), -40.570735931396484\n"
     ]
    },
    {
     "name": "stderr",
     "output_type": "stream",
     "text": [
      "  4%|▎         | 33/938 [00:01<00:48, 18.69it/s]"
     ]
    },
    {
     "name": "stdout",
     "output_type": "stream",
     "text": [
      "mean_log_p,shapetorch.Size([]), -158.5760955810547\n",
      "mean_log_q.shapetorch.Size([]), -39.805442810058594\n",
      "mean_log_p,shapetorch.Size([]), -160.3102569580078\n",
      "mean_log_q.shapetorch.Size([]), -40.74419403076172\n",
      "mean_log_p,shapetorch.Size([]), -155.8189239501953\n",
      "mean_log_q.shapetorch.Size([]), -39.74367141723633\n"
     ]
    },
    {
     "name": "stderr",
     "output_type": "stream",
     "text": [
      "  4%|▍         | 36/938 [00:01<00:53, 16.89it/s]"
     ]
    },
    {
     "name": "stdout",
     "output_type": "stream",
     "text": [
      "mean_log_p,shapetorch.Size([]), -162.18333435058594\n",
      "mean_log_q.shapetorch.Size([]), -39.764556884765625\n",
      "mean_log_p,shapetorch.Size([]), -158.39271545410156\n",
      "mean_log_q.shapetorch.Size([]), -40.25881576538086\n"
     ]
    },
    {
     "name": "stderr",
     "output_type": "stream",
     "text": [
      "  4%|▍         | 38/938 [00:02<00:56, 16.02it/s]"
     ]
    },
    {
     "name": "stdout",
     "output_type": "stream",
     "text": [
      "mean_log_p,shapetorch.Size([]), -156.3494873046875\n",
      "mean_log_q.shapetorch.Size([]), -40.210357666015625\n",
      "mean_log_p,shapetorch.Size([]), -165.61972045898438\n",
      "mean_log_q.shapetorch.Size([]), -40.44329071044922\n"
     ]
    },
    {
     "name": "stderr",
     "output_type": "stream",
     "text": [
      "  4%|▍         | 42/938 [00:02<00:47, 18.76it/s]"
     ]
    },
    {
     "name": "stdout",
     "output_type": "stream",
     "text": [
      "mean_log_p,shapetorch.Size([]), -166.4223175048828\n",
      "mean_log_q.shapetorch.Size([]), -39.93763732910156\n",
      "mean_log_p,shapetorch.Size([]), -153.67391967773438\n",
      "mean_log_q.shapetorch.Size([]), -39.39194869995117\n"
     ]
    },
    {
     "name": "stderr",
     "output_type": "stream",
     "text": [
      "  5%|▍         | 44/938 [00:02<00:51, 17.30it/s]"
     ]
    },
    {
     "name": "stdout",
     "output_type": "stream",
     "text": [
      "mean_log_p,shapetorch.Size([]), -161.28598022460938\n",
      "mean_log_q.shapetorch.Size([]), -39.940338134765625\n",
      "mean_log_p,shapetorch.Size([]), -154.2000732421875\n",
      "mean_log_q.shapetorch.Size([]), -41.111812591552734\n"
     ]
    },
    {
     "name": "stderr",
     "output_type": "stream",
     "text": [
      "  5%|▍         | 46/938 [00:02<00:55, 16.18it/s]"
     ]
    },
    {
     "name": "stdout",
     "output_type": "stream",
     "text": [
      "mean_log_p,shapetorch.Size([]), -157.78402709960938\n",
      "mean_log_q.shapetorch.Size([]), -40.29306411743164\n",
      "mean_log_p,shapetorch.Size([]), -153.49154663085938\n",
      "mean_log_q.shapetorch.Size([]), -40.90365219116211\n"
     ]
    },
    {
     "name": "stderr",
     "output_type": "stream",
     "text": [
      "  5%|▌         | 48/938 [00:02<00:57, 15.36it/s]"
     ]
    },
    {
     "name": "stdout",
     "output_type": "stream",
     "text": [
      "mean_log_p,shapetorch.Size([]), -159.0740966796875\n",
      "mean_log_q.shapetorch.Size([]), -39.78623962402344\n",
      "mean_log_p,shapetorch.Size([]), -162.67247009277344\n",
      "mean_log_q.shapetorch.Size([]), -40.861663818359375\n"
     ]
    },
    {
     "name": "stderr",
     "output_type": "stream",
     "text": [
      "  5%|▌         | 50/938 [00:02<01:00, 14.77it/s]"
     ]
    },
    {
     "name": "stdout",
     "output_type": "stream",
     "text": [
      "mean_log_p,shapetorch.Size([]), -156.58863830566406\n",
      "mean_log_q.shapetorch.Size([]), -40.44348907470703\n",
      "mean_log_p,shapetorch.Size([]), -155.622802734375\n",
      "mean_log_q.shapetorch.Size([]), -39.55766296386719\n"
     ]
    },
    {
     "name": "stderr",
     "output_type": "stream",
     "text": [
      "  6%|▌         | 52/938 [00:02<01:01, 14.34it/s]"
     ]
    },
    {
     "name": "stdout",
     "output_type": "stream",
     "text": [
      "mean_log_p,shapetorch.Size([]), -157.1756591796875\n",
      "mean_log_q.shapetorch.Size([]), -40.83134460449219\n",
      "mean_log_p,shapetorch.Size([]), -162.45057678222656\n",
      "mean_log_q.shapetorch.Size([]), -39.531307220458984\n",
      "mean_log_p,shapetorch.Size([]), -155.63568115234375\n",
      "mean_log_q.shapetorch.Size([]), -39.713584899902344\n"
     ]
    },
    {
     "name": "stderr",
     "output_type": "stream",
     "text": [
      "  6%|▌         | 56/938 [00:03<00:49, 17.72it/s]"
     ]
    },
    {
     "name": "stdout",
     "output_type": "stream",
     "text": [
      "mean_log_p,shapetorch.Size([]), -161.63623046875\n",
      "mean_log_q.shapetorch.Size([]), -38.93220520019531\n",
      "mean_log_p,shapetorch.Size([]), -161.38888549804688\n",
      "mean_log_q.shapetorch.Size([]), -39.100746154785156\n"
     ]
    },
    {
     "name": "stderr",
     "output_type": "stream",
     "text": [
      "  6%|▌         | 58/938 [00:03<00:53, 16.31it/s]"
     ]
    },
    {
     "name": "stdout",
     "output_type": "stream",
     "text": [
      "mean_log_p,shapetorch.Size([]), -154.7236328125\n",
      "mean_log_q.shapetorch.Size([]), -40.1121711730957\n",
      "mean_log_p,shapetorch.Size([]), -158.43417358398438\n",
      "mean_log_q.shapetorch.Size([]), -39.63594055175781\n"
     ]
    },
    {
     "name": "stderr",
     "output_type": "stream",
     "text": [
      "  6%|▋         | 60/938 [00:03<00:57, 15.37it/s]"
     ]
    },
    {
     "name": "stdout",
     "output_type": "stream",
     "text": [
      "mean_log_p,shapetorch.Size([]), -155.69244384765625\n",
      "mean_log_q.shapetorch.Size([]), -40.06789016723633\n"
     ]
    },
    {
     "name": "stderr",
     "output_type": "stream",
     "text": [
      "  7%|▋         | 62/938 [00:03<00:59, 14.78it/s]"
     ]
    },
    {
     "name": "stdout",
     "output_type": "stream",
     "text": [
      "mean_log_p,shapetorch.Size([]), -150.35935974121094\n",
      "mean_log_q.shapetorch.Size([]), -40.0890998840332\n",
      "mean_log_p,shapetorch.Size([]), -157.05758666992188\n",
      "mean_log_q.shapetorch.Size([]), -40.00627899169922\n"
     ]
    },
    {
     "name": "stderr",
     "output_type": "stream",
     "text": [
      "  7%|▋         | 64/938 [00:03<01:00, 14.35it/s]"
     ]
    },
    {
     "name": "stdout",
     "output_type": "stream",
     "text": [
      "mean_log_p,shapetorch.Size([]), -173.06729125976562\n",
      "mean_log_q.shapetorch.Size([]), -39.78224182128906\n",
      "mean_log_p,shapetorch.Size([]), -160.67124938964844\n",
      "mean_log_q.shapetorch.Size([]), -39.39167022705078\n"
     ]
    },
    {
     "name": "stderr",
     "output_type": "stream",
     "text": [
      "  7%|▋         | 66/938 [00:03<01:01, 14.07it/s]"
     ]
    },
    {
     "name": "stdout",
     "output_type": "stream",
     "text": [
      "mean_log_p,shapetorch.Size([]), -152.1110076904297\n",
      "mean_log_q.shapetorch.Size([]), -40.40863037109375\n",
      "mean_log_p,shapetorch.Size([]), -162.58175659179688\n",
      "mean_log_q.shapetorch.Size([]), -39.475128173828125\n"
     ]
    },
    {
     "name": "stderr",
     "output_type": "stream",
     "text": [
      "  7%|▋         | 68/938 [00:03<01:02, 13.86it/s]"
     ]
    },
    {
     "name": "stdout",
     "output_type": "stream",
     "text": [
      "mean_log_p,shapetorch.Size([]), -158.052978515625\n",
      "mean_log_q.shapetorch.Size([]), -39.68007278442383\n",
      "mean_log_p,shapetorch.Size([]), -162.33987426757812\n",
      "mean_log_q.shapetorch.Size([]), -39.84815979003906\n"
     ]
    },
    {
     "name": "stderr",
     "output_type": "stream",
     "text": [
      "  8%|▊         | 72/938 [00:04<00:48, 17.69it/s]"
     ]
    },
    {
     "name": "stdout",
     "output_type": "stream",
     "text": [
      "mean_log_p,shapetorch.Size([]), -167.84765625\n",
      "mean_log_q.shapetorch.Size([]), -40.685791015625\n",
      "mean_log_p,shapetorch.Size([]), -160.14918518066406\n",
      "mean_log_q.shapetorch.Size([]), -40.512046813964844\n"
     ]
    },
    {
     "name": "stderr",
     "output_type": "stream",
     "text": [
      "  8%|▊         | 74/938 [00:04<00:52, 16.38it/s]"
     ]
    },
    {
     "name": "stdout",
     "output_type": "stream",
     "text": [
      "mean_log_p,shapetorch.Size([]), -170.2430419921875\n",
      "mean_log_q.shapetorch.Size([]), -39.413604736328125\n",
      "mean_log_p,shapetorch.Size([]), -157.53683471679688\n",
      "mean_log_q.shapetorch.Size([]), -39.83470153808594\n"
     ]
    },
    {
     "name": "stderr",
     "output_type": "stream",
     "text": [
      "  8%|▊         | 76/938 [00:04<00:55, 15.48it/s]"
     ]
    },
    {
     "name": "stdout",
     "output_type": "stream",
     "text": [
      "mean_log_p,shapetorch.Size([]), -166.73153686523438\n",
      "mean_log_q.shapetorch.Size([]), -39.268001556396484\n",
      "mean_log_p,shapetorch.Size([]), -160.34780883789062\n",
      "mean_log_q.shapetorch.Size([]), -39.50864791870117\n"
     ]
    },
    {
     "name": "stderr",
     "output_type": "stream",
     "text": [
      "  8%|▊         | 78/938 [00:04<00:57, 14.83it/s]"
     ]
    },
    {
     "name": "stdout",
     "output_type": "stream",
     "text": [
      "mean_log_p,shapetorch.Size([]), -148.52703857421875\n",
      "mean_log_q.shapetorch.Size([]), -39.6396484375\n",
      "mean_log_p,shapetorch.Size([]), -164.49526977539062\n",
      "mean_log_q.shapetorch.Size([]), -38.999046325683594\n"
     ]
    },
    {
     "name": "stderr",
     "output_type": "stream",
     "text": [
      "  9%|▊         | 80/938 [00:04<00:59, 14.38it/s]"
     ]
    },
    {
     "name": "stdout",
     "output_type": "stream",
     "text": [
      "mean_log_p,shapetorch.Size([]), -160.91661071777344\n",
      "mean_log_q.shapetorch.Size([]), -39.706356048583984\n",
      "mean_log_p,shapetorch.Size([]), -158.10458374023438\n",
      "mean_log_q.shapetorch.Size([]), -39.123146057128906\n"
     ]
    },
    {
     "name": "stderr",
     "output_type": "stream",
     "text": [
      "  9%|▊         | 82/938 [00:04<01:00, 14.07it/s]"
     ]
    },
    {
     "name": "stdout",
     "output_type": "stream",
     "text": [
      "mean_log_p,shapetorch.Size([]), -161.55307006835938\n",
      "mean_log_q.shapetorch.Size([]), -39.63077163696289\n",
      "mean_log_p,shapetorch.Size([]), -161.58456420898438\n",
      "mean_log_q.shapetorch.Size([]), -38.873626708984375\n"
     ]
    },
    {
     "name": "stderr",
     "output_type": "stream",
     "text": [
      "  9%|▉         | 84/938 [00:05<01:01, 13.84it/s]"
     ]
    },
    {
     "name": "stdout",
     "output_type": "stream",
     "text": [
      "mean_log_p,shapetorch.Size([]), -153.45025634765625\n",
      "mean_log_q.shapetorch.Size([]), -40.35208511352539\n",
      "mean_log_p,shapetorch.Size([]), -162.410888671875\n",
      "mean_log_q.shapetorch.Size([]), -40.055274963378906\n"
     ]
    },
    {
     "name": "stderr",
     "output_type": "stream",
     "text": [
      "  9%|▉         | 86/938 [00:05<01:02, 13.72it/s]"
     ]
    },
    {
     "name": "stdout",
     "output_type": "stream",
     "text": [
      "mean_log_p,shapetorch.Size([]), -152.16493225097656\n",
      "mean_log_q.shapetorch.Size([]), -40.23542022705078\n",
      "mean_log_p,shapetorch.Size([]), -158.2683868408203\n",
      "mean_log_q.shapetorch.Size([]), -40.69862365722656\n"
     ]
    },
    {
     "name": "stderr",
     "output_type": "stream",
     "text": [
      " 10%|▉         | 90/938 [00:05<00:48, 17.60it/s]"
     ]
    },
    {
     "name": "stdout",
     "output_type": "stream",
     "text": [
      "mean_log_p,shapetorch.Size([]), -157.37893676757812\n",
      "mean_log_q.shapetorch.Size([]), -40.53648376464844\n",
      "mean_log_p,shapetorch.Size([]), -164.44808959960938\n",
      "mean_log_q.shapetorch.Size([]), -40.34920883178711\n"
     ]
    },
    {
     "name": "stderr",
     "output_type": "stream",
     "text": [
      " 10%|▉         | 92/938 [00:05<00:51, 16.34it/s]"
     ]
    },
    {
     "name": "stdout",
     "output_type": "stream",
     "text": [
      "mean_log_p,shapetorch.Size([]), -156.6757354736328\n",
      "mean_log_q.shapetorch.Size([]), -40.5412483215332\n",
      "mean_log_p,shapetorch.Size([]), -166.23681640625\n",
      "mean_log_q.shapetorch.Size([]), -39.445556640625\n"
     ]
    },
    {
     "name": "stderr",
     "output_type": "stream",
     "text": [
      " 10%|█         | 94/938 [00:05<00:54, 15.43it/s]"
     ]
    },
    {
     "name": "stdout",
     "output_type": "stream",
     "text": [
      "mean_log_p,shapetorch.Size([]), -159.88450622558594\n",
      "mean_log_q.shapetorch.Size([]), -39.168846130371094\n",
      "mean_log_p,shapetorch.Size([]), -166.2020721435547\n",
      "mean_log_q.shapetorch.Size([]), -39.735748291015625\n"
     ]
    },
    {
     "name": "stderr",
     "output_type": "stream",
     "text": [
      " 10%|█         | 96/938 [00:05<00:56, 14.80it/s]"
     ]
    },
    {
     "name": "stdout",
     "output_type": "stream",
     "text": [
      "mean_log_p,shapetorch.Size([]), -151.526611328125\n",
      "mean_log_q.shapetorch.Size([]), -39.902191162109375\n",
      "mean_log_p,shapetorch.Size([]), -166.69265747070312\n",
      "mean_log_q.shapetorch.Size([]), -39.26042556762695\n"
     ]
    },
    {
     "name": "stderr",
     "output_type": "stream",
     "text": [
      " 10%|█         | 98/938 [00:05<00:58, 14.39it/s]"
     ]
    },
    {
     "name": "stdout",
     "output_type": "stream",
     "text": [
      "mean_log_p,shapetorch.Size([]), -164.5592041015625\n",
      "mean_log_q.shapetorch.Size([]), -38.874755859375\n",
      "mean_log_p,shapetorch.Size([]), -150.84239196777344\n",
      "mean_log_q.shapetorch.Size([]), -40.22398376464844\n"
     ]
    },
    {
     "name": "stderr",
     "output_type": "stream",
     "text": [
      " 11%|█         | 100/938 [00:06<00:59, 14.06it/s]"
     ]
    },
    {
     "name": "stdout",
     "output_type": "stream",
     "text": [
      "mean_log_p,shapetorch.Size([]), -164.201171875\n",
      "mean_log_q.shapetorch.Size([]), -40.064048767089844\n",
      "mean_log_p,shapetorch.Size([]), -156.44198608398438\n",
      "mean_log_q.shapetorch.Size([]), -40.44989776611328\n",
      "mean_log_p,shapetorch.Size([]), -160.9354705810547\n",
      "mean_log_q.shapetorch.Size([]), -40.00556182861328\n"
     ]
    },
    {
     "name": "stderr",
     "output_type": "stream",
     "text": [
      " 11%|█         | 102/938 [00:06<01:00, 13.74it/s]"
     ]
    },
    {
     "name": "stdout",
     "output_type": "stream",
     "text": [
      "mean_log_p,shapetorch.Size([]), -164.59564208984375\n",
      "mean_log_q.shapetorch.Size([]), -39.86195373535156\n",
      "mean_log_p,shapetorch.Size([]), -165.78762817382812\n",
      "mean_log_q.shapetorch.Size([]), -40.70035171508789\n"
     ]
    },
    {
     "name": "stderr",
     "output_type": "stream",
     "text": [
      " 11%|█         | 104/938 [00:06<01:01, 13.55it/s]"
     ]
    },
    {
     "name": "stdout",
     "output_type": "stream",
     "text": [
      "mean_log_p,shapetorch.Size([]), -163.1043701171875\n",
      "mean_log_q.shapetorch.Size([]), -40.42219161987305\n",
      "mean_log_p,shapetorch.Size([]), -157.34103393554688\n",
      "mean_log_q.shapetorch.Size([]), -40.26166534423828\n"
     ]
    },
    {
     "name": "stderr",
     "output_type": "stream",
     "text": [
      " 11%|█▏        | 106/938 [00:06<01:01, 13.42it/s]"
     ]
    },
    {
     "name": "stdout",
     "output_type": "stream",
     "text": [
      "mean_log_p,shapetorch.Size([]), -155.54241943359375\n",
      "mean_log_q.shapetorch.Size([]), -39.810123443603516\n"
     ]
    },
    {
     "name": "stderr",
     "output_type": "stream",
     "text": [
      " 12%|█▏        | 110/938 [00:06<00:47, 17.37it/s]"
     ]
    },
    {
     "name": "stdout",
     "output_type": "stream",
     "text": [
      "mean_log_p,shapetorch.Size([]), -156.63604736328125\n",
      "mean_log_q.shapetorch.Size([]), -39.67008972167969\n",
      "mean_log_p,shapetorch.Size([]), -156.70883178710938\n",
      "mean_log_q.shapetorch.Size([]), -39.581932067871094\n"
     ]
    },
    {
     "name": "stderr",
     "output_type": "stream",
     "text": [
      " 12%|█▏        | 112/938 [00:06<00:51, 16.10it/s]"
     ]
    },
    {
     "name": "stdout",
     "output_type": "stream",
     "text": [
      "mean_log_p,shapetorch.Size([]), -171.9923095703125\n",
      "mean_log_q.shapetorch.Size([]), -38.25217819213867\n",
      "mean_log_p,shapetorch.Size([]), -149.76419067382812\n",
      "mean_log_q.shapetorch.Size([]), -39.145286560058594\n",
      "mean_log_p,shapetorch.Size([]), -158.3341522216797\n",
      "mean_log_q.shapetorch.Size([]), -38.67050552368164\n"
     ]
    },
    {
     "name": "stderr",
     "output_type": "stream",
     "text": [
      " 12%|█▏        | 114/938 [00:07<00:54, 15.22it/s]"
     ]
    },
    {
     "name": "stdout",
     "output_type": "stream",
     "text": [
      "mean_log_p,shapetorch.Size([]), -154.79617309570312\n",
      "mean_log_q.shapetorch.Size([]), -39.22911834716797\n"
     ]
    },
    {
     "name": "stderr",
     "output_type": "stream",
     "text": [
      " 12%|█▏        | 116/938 [00:07<00:56, 14.66it/s]"
     ]
    },
    {
     "name": "stdout",
     "output_type": "stream",
     "text": [
      "mean_log_p,shapetorch.Size([]), -158.260498046875\n",
      "mean_log_q.shapetorch.Size([]), -39.09833526611328\n",
      "mean_log_p,shapetorch.Size([]), -160.44375610351562\n",
      "mean_log_q.shapetorch.Size([]), -39.646236419677734\n"
     ]
    },
    {
     "name": "stderr",
     "output_type": "stream",
     "text": [
      " 13%|█▎        | 118/938 [00:07<00:57, 14.23it/s]"
     ]
    },
    {
     "name": "stdout",
     "output_type": "stream",
     "text": [
      "mean_log_p,shapetorch.Size([]), -164.0616455078125\n",
      "mean_log_q.shapetorch.Size([]), -39.9913215637207\n",
      "mean_log_p,shapetorch.Size([]), -153.54220581054688\n",
      "mean_log_q.shapetorch.Size([]), -40.792972564697266\n"
     ]
    },
    {
     "name": "stderr",
     "output_type": "stream",
     "text": [
      " 13%|█▎        | 120/938 [00:07<00:58, 13.95it/s]"
     ]
    },
    {
     "name": "stdout",
     "output_type": "stream",
     "text": [
      "mean_log_p,shapetorch.Size([]), -151.8846893310547\n",
      "mean_log_q.shapetorch.Size([]), -40.25791931152344\n",
      "mean_log_p,shapetorch.Size([]), -162.60885620117188\n",
      "mean_log_q.shapetorch.Size([]), -40.08273696899414\n"
     ]
    },
    {
     "name": "stderr",
     "output_type": "stream",
     "text": [
      " 13%|█▎        | 122/938 [00:07<00:59, 13.74it/s]"
     ]
    },
    {
     "name": "stdout",
     "output_type": "stream",
     "text": [
      "mean_log_p,shapetorch.Size([]), -159.28439331054688\n",
      "mean_log_q.shapetorch.Size([]), -40.46265411376953\n",
      "mean_log_p,shapetorch.Size([]), -162.13265991210938\n",
      "mean_log_q.shapetorch.Size([]), -40.3402214050293\n",
      "mean_log_p,shapetorch.Size([]), -150.81890869140625\n",
      "mean_log_q.shapetorch.Size([]), -40.182891845703125\n"
     ]
    },
    {
     "name": "stderr",
     "output_type": "stream",
     "text": [
      " 13%|█▎        | 124/938 [00:07<01:00, 13.56it/s]"
     ]
    },
    {
     "name": "stdout",
     "output_type": "stream",
     "text": [
      "mean_log_p,shapetorch.Size([]), -160.54779052734375\n",
      "mean_log_q.shapetorch.Size([]), -39.482547760009766\n"
     ]
    },
    {
     "name": "stderr",
     "output_type": "stream",
     "text": [
      " 13%|█▎        | 126/938 [00:07<01:00, 13.48it/s]"
     ]
    },
    {
     "name": "stdout",
     "output_type": "stream",
     "text": [
      "mean_log_p,shapetorch.Size([]), -158.4486083984375\n",
      "mean_log_q.shapetorch.Size([]), -39.449153900146484\n",
      "mean_log_p,shapetorch.Size([]), -150.06533813476562\n",
      "mean_log_q.shapetorch.Size([]), -39.32683563232422\n",
      "mean_log_p,shapetorch.Size([]), -159.54879760742188\n",
      "mean_log_q.shapetorch.Size([]), -39.79137420654297\n"
     ]
    },
    {
     "name": "stderr",
     "output_type": "stream",
     "text": [
      " 14%|█▎        | 128/938 [00:08<01:00, 13.33it/s]"
     ]
    },
    {
     "name": "stdout",
     "output_type": "stream",
     "text": [
      "mean_log_p,shapetorch.Size([]), -161.06607055664062\n",
      "mean_log_q.shapetorch.Size([]), -40.15829086303711\n"
     ]
    },
    {
     "name": "stderr",
     "output_type": "stream",
     "text": [
      " 14%|█▍        | 132/938 [00:08<00:46, 17.29it/s]"
     ]
    },
    {
     "name": "stdout",
     "output_type": "stream",
     "text": [
      "mean_log_p,shapetorch.Size([]), -151.47372436523438\n",
      "mean_log_q.shapetorch.Size([]), -39.669639587402344\n",
      "mean_log_p,shapetorch.Size([]), -151.149169921875\n",
      "mean_log_q.shapetorch.Size([]), -40.0107421875\n"
     ]
    },
    {
     "name": "stderr",
     "output_type": "stream",
     "text": [
      " 14%|█▍        | 134/938 [00:08<00:49, 16.10it/s]"
     ]
    },
    {
     "name": "stdout",
     "output_type": "stream",
     "text": [
      "mean_log_p,shapetorch.Size([]), -154.85354614257812\n",
      "mean_log_q.shapetorch.Size([]), -39.669960021972656\n",
      "mean_log_p,shapetorch.Size([]), -163.740234375\n",
      "mean_log_q.shapetorch.Size([]), -40.102561950683594\n"
     ]
    },
    {
     "name": "stderr",
     "output_type": "stream",
     "text": [
      " 14%|█▍        | 136/938 [00:08<00:52, 15.29it/s]"
     ]
    },
    {
     "name": "stdout",
     "output_type": "stream",
     "text": [
      "mean_log_p,shapetorch.Size([]), -161.15408325195312\n",
      "mean_log_q.shapetorch.Size([]), -38.988224029541016\n",
      "mean_log_p,shapetorch.Size([]), -161.789794921875\n",
      "mean_log_q.shapetorch.Size([]), -38.957191467285156\n"
     ]
    },
    {
     "name": "stderr",
     "output_type": "stream",
     "text": [
      " 15%|█▍        | 138/938 [00:08<00:54, 14.72it/s]"
     ]
    },
    {
     "name": "stdout",
     "output_type": "stream",
     "text": [
      "mean_log_p,shapetorch.Size([]), -160.2249298095703\n",
      "mean_log_q.shapetorch.Size([]), -39.508323669433594\n",
      "mean_log_p,shapetorch.Size([]), -160.43270874023438\n",
      "mean_log_q.shapetorch.Size([]), -40.325687408447266\n"
     ]
    },
    {
     "name": "stderr",
     "output_type": "stream",
     "text": [
      " 15%|█▍        | 140/938 [00:08<00:55, 14.30it/s]"
     ]
    },
    {
     "name": "stdout",
     "output_type": "stream",
     "text": [
      "mean_log_p,shapetorch.Size([]), -155.64309692382812\n",
      "mean_log_q.shapetorch.Size([]), -39.55615234375\n",
      "mean_log_p,shapetorch.Size([]), -159.5260009765625\n",
      "mean_log_q.shapetorch.Size([]), -39.005638122558594\n"
     ]
    },
    {
     "name": "stderr",
     "output_type": "stream",
     "text": [
      " 15%|█▌        | 142/938 [00:08<00:56, 14.01it/s]"
     ]
    },
    {
     "name": "stdout",
     "output_type": "stream",
     "text": [
      "mean_log_p,shapetorch.Size([]), -159.97157287597656\n",
      "mean_log_q.shapetorch.Size([]), -39.68901062011719\n",
      "mean_log_p,shapetorch.Size([]), -160.6517791748047\n",
      "mean_log_q.shapetorch.Size([]), -39.52033996582031\n"
     ]
    },
    {
     "name": "stderr",
     "output_type": "stream",
     "text": [
      " 15%|█▌        | 144/938 [00:09<00:57, 13.80it/s]"
     ]
    },
    {
     "name": "stdout",
     "output_type": "stream",
     "text": [
      "mean_log_p,shapetorch.Size([]), -155.02609252929688\n",
      "mean_log_q.shapetorch.Size([]), -39.01824951171875\n",
      "mean_log_p,shapetorch.Size([]), -158.02020263671875\n",
      "mean_log_q.shapetorch.Size([]), -39.468482971191406\n"
     ]
    },
    {
     "name": "stderr",
     "output_type": "stream",
     "text": [
      " 16%|█▌        | 146/938 [00:09<00:57, 13.68it/s]"
     ]
    },
    {
     "name": "stdout",
     "output_type": "stream",
     "text": [
      "mean_log_p,shapetorch.Size([]), -157.00338745117188\n",
      "mean_log_q.shapetorch.Size([]), -39.90372848510742\n",
      "mean_log_p,shapetorch.Size([]), -155.81834411621094\n",
      "mean_log_q.shapetorch.Size([]), -39.72407150268555\n"
     ]
    },
    {
     "name": "stderr",
     "output_type": "stream",
     "text": [
      " 16%|█▌        | 148/938 [00:09<00:58, 13.57it/s]"
     ]
    },
    {
     "name": "stdout",
     "output_type": "stream",
     "text": [
      "mean_log_p,shapetorch.Size([]), -157.67800903320312\n",
      "mean_log_q.shapetorch.Size([]), -39.6251335144043\n",
      "mean_log_p,shapetorch.Size([]), -160.44044494628906\n",
      "mean_log_q.shapetorch.Size([]), -40.27125549316406\n"
     ]
    },
    {
     "name": "stderr",
     "output_type": "stream",
     "text": [
      " 16%|█▌        | 150/938 [00:09<00:58, 13.51it/s]"
     ]
    },
    {
     "name": "stdout",
     "output_type": "stream",
     "text": [
      "mean_log_p,shapetorch.Size([]), -153.66896057128906\n",
      "mean_log_q.shapetorch.Size([]), -39.89113998413086\n",
      "mean_log_p,shapetorch.Size([]), -163.07366943359375\n",
      "mean_log_q.shapetorch.Size([]), -39.529273986816406\n"
     ]
    },
    {
     "name": "stderr",
     "output_type": "stream",
     "text": [
      " 16%|█▌        | 152/938 [00:09<00:58, 13.45it/s]"
     ]
    },
    {
     "name": "stdout",
     "output_type": "stream",
     "text": [
      "mean_log_p,shapetorch.Size([]), -156.302734375\n",
      "mean_log_q.shapetorch.Size([]), -39.51153564453125\n",
      "mean_log_p,shapetorch.Size([]), -156.20899963378906\n",
      "mean_log_q.shapetorch.Size([]), -40.25569152832031\n"
     ]
    },
    {
     "name": "stderr",
     "output_type": "stream",
     "text": [
      " 17%|█▋        | 156/938 [00:09<00:44, 17.42it/s]"
     ]
    },
    {
     "name": "stdout",
     "output_type": "stream",
     "text": [
      "mean_log_p,shapetorch.Size([]), -156.16928100585938\n",
      "mean_log_q.shapetorch.Size([]), -40.20560073852539\n",
      "mean_log_p,shapetorch.Size([]), -166.75807189941406\n",
      "mean_log_q.shapetorch.Size([]), -39.04369354248047\n"
     ]
    },
    {
     "name": "stderr",
     "output_type": "stream",
     "text": [
      " 17%|█▋        | 158/938 [00:10<00:48, 16.21it/s]"
     ]
    },
    {
     "name": "stdout",
     "output_type": "stream",
     "text": [
      "mean_log_p,shapetorch.Size([]), -152.2395782470703\n",
      "mean_log_q.shapetorch.Size([]), -39.94103240966797\n",
      "mean_log_p,shapetorch.Size([]), -158.06605529785156\n",
      "mean_log_q.shapetorch.Size([]), -39.96103286743164\n"
     ]
    },
    {
     "name": "stderr",
     "output_type": "stream",
     "text": [
      " 17%|█▋        | 160/938 [00:10<00:50, 15.35it/s]"
     ]
    },
    {
     "name": "stdout",
     "output_type": "stream",
     "text": [
      "mean_log_p,shapetorch.Size([]), -158.88853454589844\n",
      "mean_log_q.shapetorch.Size([]), -39.71063995361328\n",
      "mean_log_p,shapetorch.Size([]), -157.84463500976562\n",
      "mean_log_q.shapetorch.Size([]), -39.29042053222656\n"
     ]
    },
    {
     "name": "stderr",
     "output_type": "stream",
     "text": [
      " 17%|█▋        | 162/938 [00:10<00:52, 14.77it/s]"
     ]
    },
    {
     "name": "stdout",
     "output_type": "stream",
     "text": [
      "mean_log_p,shapetorch.Size([]), -161.3037872314453\n",
      "mean_log_q.shapetorch.Size([]), -39.91297912597656\n",
      "mean_log_p,shapetorch.Size([]), -159.8752899169922\n",
      "mean_log_q.shapetorch.Size([]), -39.896148681640625\n"
     ]
    },
    {
     "name": "stderr",
     "output_type": "stream",
     "text": [
      " 17%|█▋        | 164/938 [00:10<00:53, 14.34it/s]"
     ]
    },
    {
     "name": "stdout",
     "output_type": "stream",
     "text": [
      "mean_log_p,shapetorch.Size([]), -164.114990234375\n",
      "mean_log_q.shapetorch.Size([]), -39.68775939941406\n",
      "mean_log_p,shapetorch.Size([]), -163.2703399658203\n",
      "mean_log_q.shapetorch.Size([]), -40.61473846435547\n"
     ]
    },
    {
     "name": "stderr",
     "output_type": "stream",
     "text": [
      " 18%|█▊        | 166/938 [00:10<00:54, 14.06it/s]"
     ]
    },
    {
     "name": "stdout",
     "output_type": "stream",
     "text": [
      "mean_log_p,shapetorch.Size([]), -155.35800170898438\n",
      "mean_log_q.shapetorch.Size([]), -39.78888702392578\n",
      "mean_log_p,shapetorch.Size([]), -166.89065551757812\n",
      "mean_log_q.shapetorch.Size([]), -38.997596740722656\n"
     ]
    },
    {
     "name": "stderr",
     "output_type": "stream",
     "text": [
      " 18%|█▊        | 168/938 [00:10<00:55, 13.83it/s]"
     ]
    },
    {
     "name": "stdout",
     "output_type": "stream",
     "text": [
      "mean_log_p,shapetorch.Size([]), -158.9345703125\n",
      "mean_log_q.shapetorch.Size([]), -39.99536895751953\n",
      "mean_log_p,shapetorch.Size([]), -156.37905883789062\n",
      "mean_log_q.shapetorch.Size([]), -39.2934684753418\n"
     ]
    },
    {
     "name": "stderr",
     "output_type": "stream",
     "text": [
      " 18%|█▊        | 170/938 [00:10<00:56, 13.69it/s]"
     ]
    },
    {
     "name": "stdout",
     "output_type": "stream",
     "text": [
      "mean_log_p,shapetorch.Size([]), -154.71560668945312\n",
      "mean_log_q.shapetorch.Size([]), -39.887939453125\n",
      "mean_log_p,shapetorch.Size([]), -160.08853149414062\n",
      "mean_log_q.shapetorch.Size([]), -39.66530990600586\n"
     ]
    },
    {
     "name": "stderr",
     "output_type": "stream",
     "text": [
      " 18%|█▊        | 172/938 [00:11<00:56, 13.59it/s]"
     ]
    },
    {
     "name": "stdout",
     "output_type": "stream",
     "text": [
      "mean_log_p,shapetorch.Size([]), -162.74928283691406\n",
      "mean_log_q.shapetorch.Size([]), -39.58774185180664\n",
      "mean_log_p,shapetorch.Size([]), -153.6350555419922\n",
      "mean_log_q.shapetorch.Size([]), -39.96179962158203\n"
     ]
    },
    {
     "name": "stderr",
     "output_type": "stream",
     "text": [
      " 19%|█▊        | 174/938 [00:11<00:56, 13.52it/s]"
     ]
    },
    {
     "name": "stdout",
     "output_type": "stream",
     "text": [
      "mean_log_p,shapetorch.Size([]), -160.34645080566406\n",
      "mean_log_q.shapetorch.Size([]), -39.565391540527344\n",
      "mean_log_p,shapetorch.Size([]), -150.70346069335938\n",
      "mean_log_q.shapetorch.Size([]), -40.17394256591797\n"
     ]
    },
    {
     "name": "stderr",
     "output_type": "stream",
     "text": [
      " 19%|█▉        | 176/938 [00:11<00:56, 13.48it/s]"
     ]
    },
    {
     "name": "stdout",
     "output_type": "stream",
     "text": [
      "mean_log_p,shapetorch.Size([]), -157.59628295898438\n",
      "mean_log_q.shapetorch.Size([]), -39.92095947265625\n",
      "mean_log_p,shapetorch.Size([]), -161.87228393554688\n",
      "mean_log_q.shapetorch.Size([]), -39.89822769165039\n"
     ]
    },
    {
     "name": "stderr",
     "output_type": "stream",
     "text": [
      " 19%|█▉        | 178/938 [00:11<00:56, 13.45it/s]"
     ]
    },
    {
     "name": "stdout",
     "output_type": "stream",
     "text": [
      "mean_log_p,shapetorch.Size([]), -155.841796875\n",
      "mean_log_q.shapetorch.Size([]), -41.041587829589844\n",
      "mean_log_p,shapetorch.Size([]), -153.75140380859375\n",
      "mean_log_q.shapetorch.Size([]), -39.22951126098633\n"
     ]
    },
    {
     "name": "stderr",
     "output_type": "stream",
     "text": [
      " 19%|█▉        | 182/938 [00:11<00:43, 17.44it/s]"
     ]
    },
    {
     "name": "stdout",
     "output_type": "stream",
     "text": [
      "mean_log_p,shapetorch.Size([]), -159.1182861328125\n",
      "mean_log_q.shapetorch.Size([]), -39.77979278564453\n",
      "mean_log_p,shapetorch.Size([]), -163.19630432128906\n",
      "mean_log_q.shapetorch.Size([]), -38.88120651245117\n"
     ]
    },
    {
     "name": "stderr",
     "output_type": "stream",
     "text": [
      " 20%|█▉        | 184/938 [00:11<00:46, 16.24it/s]"
     ]
    },
    {
     "name": "stdout",
     "output_type": "stream",
     "text": [
      "mean_log_p,shapetorch.Size([]), -159.20474243164062\n",
      "mean_log_q.shapetorch.Size([]), -38.790771484375\n",
      "mean_log_p,shapetorch.Size([]), -162.90890502929688\n",
      "mean_log_q.shapetorch.Size([]), -39.209678649902344\n"
     ]
    },
    {
     "name": "stderr",
     "output_type": "stream",
     "text": [
      " 20%|█▉        | 186/938 [00:11<00:48, 15.37it/s]"
     ]
    },
    {
     "name": "stdout",
     "output_type": "stream",
     "text": [
      "mean_log_p,shapetorch.Size([]), -161.78475952148438\n",
      "mean_log_q.shapetorch.Size([]), -38.87061309814453\n",
      "mean_log_p,shapetorch.Size([]), -159.90138244628906\n",
      "mean_log_q.shapetorch.Size([]), -38.6281623840332\n"
     ]
    },
    {
     "name": "stderr",
     "output_type": "stream",
     "text": [
      " 20%|██        | 188/938 [00:12<00:50, 14.76it/s]"
     ]
    },
    {
     "name": "stdout",
     "output_type": "stream",
     "text": [
      "mean_log_p,shapetorch.Size([]), -152.93267822265625\n",
      "mean_log_q.shapetorch.Size([]), -39.15486145019531\n",
      "mean_log_p,shapetorch.Size([]), -153.3178253173828\n",
      "mean_log_q.shapetorch.Size([]), -39.222450256347656\n"
     ]
    },
    {
     "name": "stderr",
     "output_type": "stream",
     "text": [
      " 20%|██        | 190/938 [00:12<00:52, 14.35it/s]"
     ]
    },
    {
     "name": "stdout",
     "output_type": "stream",
     "text": [
      "mean_log_p,shapetorch.Size([]), -153.78872680664062\n",
      "mean_log_q.shapetorch.Size([]), -40.442405700683594\n",
      "mean_log_p,shapetorch.Size([]), -157.71994018554688\n",
      "mean_log_q.shapetorch.Size([]), -40.947296142578125\n"
     ]
    },
    {
     "name": "stderr",
     "output_type": "stream",
     "text": [
      " 20%|██        | 192/938 [00:12<00:53, 14.04it/s]"
     ]
    },
    {
     "name": "stdout",
     "output_type": "stream",
     "text": [
      "mean_log_p,shapetorch.Size([]), -164.3696746826172\n",
      "mean_log_q.shapetorch.Size([]), -40.291595458984375\n",
      "mean_log_p,shapetorch.Size([]), -161.29148864746094\n",
      "mean_log_q.shapetorch.Size([]), -40.727027893066406\n"
     ]
    },
    {
     "name": "stderr",
     "output_type": "stream",
     "text": [
      " 21%|██        | 194/938 [00:12<00:53, 13.84it/s]"
     ]
    },
    {
     "name": "stdout",
     "output_type": "stream",
     "text": [
      "mean_log_p,shapetorch.Size([]), -170.13890075683594\n",
      "mean_log_q.shapetorch.Size([]), -39.550655364990234\n",
      "mean_log_p,shapetorch.Size([]), -157.877685546875\n",
      "mean_log_q.shapetorch.Size([]), -40.01512908935547\n"
     ]
    },
    {
     "name": "stderr",
     "output_type": "stream",
     "text": [
      " 21%|██        | 196/938 [00:12<00:54, 13.71it/s]"
     ]
    },
    {
     "name": "stdout",
     "output_type": "stream",
     "text": [
      "mean_log_p,shapetorch.Size([]), -154.06402587890625\n",
      "mean_log_q.shapetorch.Size([]), -40.65460968017578\n",
      "mean_log_p,shapetorch.Size([]), -158.02578735351562\n",
      "mean_log_q.shapetorch.Size([]), -38.874534606933594\n"
     ]
    },
    {
     "name": "stderr",
     "output_type": "stream",
     "text": [
      " 21%|██        | 198/938 [00:12<00:54, 13.58it/s]"
     ]
    },
    {
     "name": "stdout",
     "output_type": "stream",
     "text": [
      "mean_log_p,shapetorch.Size([]), -157.0416259765625\n",
      "mean_log_q.shapetorch.Size([]), -39.07311248779297\n",
      "mean_log_p,shapetorch.Size([]), -164.76400756835938\n",
      "mean_log_q.shapetorch.Size([]), -38.7293701171875\n"
     ]
    },
    {
     "name": "stderr",
     "output_type": "stream",
     "text": [
      " 21%|██▏       | 200/938 [00:13<00:54, 13.51it/s]"
     ]
    },
    {
     "name": "stdout",
     "output_type": "stream",
     "text": [
      "mean_log_p,shapetorch.Size([]), -159.7727508544922\n",
      "mean_log_q.shapetorch.Size([]), -38.578468322753906\n",
      "mean_log_p,shapetorch.Size([]), -154.18057250976562\n",
      "mean_log_q.shapetorch.Size([]), -38.48847198486328\n",
      "mean_log_p,shapetorch.Size([]), -152.69773864746094\n",
      "mean_log_q.shapetorch.Size([]), -39.30491256713867\n"
     ]
    },
    {
     "name": "stderr",
     "output_type": "stream",
     "text": [
      " 22%|██▏       | 202/938 [00:13<00:55, 13.38it/s]"
     ]
    },
    {
     "name": "stdout",
     "output_type": "stream",
     "text": [
      "mean_log_p,shapetorch.Size([]), -160.32626342773438\n",
      "mean_log_q.shapetorch.Size([]), -39.36423873901367\n"
     ]
    },
    {
     "name": "stderr",
     "output_type": "stream",
     "text": [
      " 22%|██▏       | 204/938 [00:13<00:54, 13.37it/s]"
     ]
    },
    {
     "name": "stdout",
     "output_type": "stream",
     "text": [
      "mean_log_p,shapetorch.Size([]), -157.4550323486328\n",
      "mean_log_q.shapetorch.Size([]), -40.035579681396484\n",
      "mean_log_p,shapetorch.Size([]), -156.97511291503906\n",
      "mean_log_q.shapetorch.Size([]), -40.7746696472168\n"
     ]
    },
    {
     "name": "stderr",
     "output_type": "stream",
     "text": [
      " 22%|██▏       | 206/938 [00:13<00:54, 13.36it/s]"
     ]
    },
    {
     "name": "stdout",
     "output_type": "stream",
     "text": [
      "mean_log_p,shapetorch.Size([]), -160.1729736328125\n",
      "mean_log_q.shapetorch.Size([]), -40.088279724121094\n",
      "mean_log_p,shapetorch.Size([]), -163.4384307861328\n",
      "mean_log_q.shapetorch.Size([]), -39.989620208740234\n"
     ]
    },
    {
     "name": "stderr",
     "output_type": "stream",
     "text": [
      " 22%|██▏       | 210/938 [00:13<00:42, 17.33it/s]"
     ]
    },
    {
     "name": "stdout",
     "output_type": "stream",
     "text": [
      "mean_log_p,shapetorch.Size([]), -156.439208984375\n",
      "mean_log_q.shapetorch.Size([]), -40.0619010925293\n",
      "mean_log_p,shapetorch.Size([]), -160.5674591064453\n",
      "mean_log_q.shapetorch.Size([]), -40.194427490234375\n"
     ]
    },
    {
     "name": "stderr",
     "output_type": "stream",
     "text": [
      " 23%|██▎       | 212/938 [00:13<00:45, 16.13it/s]"
     ]
    },
    {
     "name": "stdout",
     "output_type": "stream",
     "text": [
      "mean_log_p,shapetorch.Size([]), -160.6287841796875\n",
      "mean_log_q.shapetorch.Size([]), -39.85124206542969\n",
      "mean_log_p,shapetorch.Size([]), -152.1770782470703\n",
      "mean_log_q.shapetorch.Size([]), -39.85490417480469\n"
     ]
    },
    {
     "name": "stderr",
     "output_type": "stream",
     "text": [
      " 23%|██▎       | 214/938 [00:13<00:47, 15.30it/s]"
     ]
    },
    {
     "name": "stdout",
     "output_type": "stream",
     "text": [
      "mean_log_p,shapetorch.Size([]), -157.93450927734375\n",
      "mean_log_q.shapetorch.Size([]), -38.399925231933594\n",
      "mean_log_p,shapetorch.Size([]), -161.971435546875\n",
      "mean_log_q.shapetorch.Size([]), -38.97755432128906\n"
     ]
    },
    {
     "name": "stderr",
     "output_type": "stream",
     "text": [
      " 23%|██▎       | 216/938 [00:14<00:49, 14.71it/s]"
     ]
    },
    {
     "name": "stdout",
     "output_type": "stream",
     "text": [
      "mean_log_p,shapetorch.Size([]), -163.23837280273438\n",
      "mean_log_q.shapetorch.Size([]), -38.464073181152344\n",
      "mean_log_p,shapetorch.Size([]), -161.65432739257812\n",
      "mean_log_q.shapetorch.Size([]), -38.685550689697266\n"
     ]
    },
    {
     "name": "stderr",
     "output_type": "stream",
     "text": [
      " 23%|██▎       | 218/938 [00:14<00:50, 14.30it/s]"
     ]
    },
    {
     "name": "stdout",
     "output_type": "stream",
     "text": [
      "mean_log_p,shapetorch.Size([]), -155.08595275878906\n",
      "mean_log_q.shapetorch.Size([]), -39.535545349121094\n",
      "mean_log_p,shapetorch.Size([]), -154.24717712402344\n",
      "mean_log_q.shapetorch.Size([]), -39.09364318847656\n"
     ]
    },
    {
     "name": "stderr",
     "output_type": "stream",
     "text": [
      " 23%|██▎       | 220/938 [00:14<00:51, 14.01it/s]"
     ]
    },
    {
     "name": "stdout",
     "output_type": "stream",
     "text": [
      "mean_log_p,shapetorch.Size([]), -154.76976013183594\n",
      "mean_log_q.shapetorch.Size([]), -38.97688293457031\n",
      "mean_log_p,shapetorch.Size([]), -160.15585327148438\n",
      "mean_log_q.shapetorch.Size([]), -39.204132080078125\n"
     ]
    },
    {
     "name": "stderr",
     "output_type": "stream",
     "text": [
      " 24%|██▎       | 222/938 [00:14<00:51, 13.81it/s]"
     ]
    },
    {
     "name": "stdout",
     "output_type": "stream",
     "text": [
      "mean_log_p,shapetorch.Size([]), -157.86839294433594\n",
      "mean_log_q.shapetorch.Size([]), -40.201725006103516\n",
      "mean_log_p,shapetorch.Size([]), -155.1848907470703\n",
      "mean_log_q.shapetorch.Size([]), -40.312767028808594\n"
     ]
    },
    {
     "name": "stderr",
     "output_type": "stream",
     "text": [
      " 24%|██▍       | 224/938 [00:14<00:52, 13.67it/s]"
     ]
    },
    {
     "name": "stdout",
     "output_type": "stream",
     "text": [
      "mean_log_p,shapetorch.Size([]), -158.94003295898438\n",
      "mean_log_q.shapetorch.Size([]), -40.04181671142578\n",
      "mean_log_p,shapetorch.Size([]), -169.1966552734375\n",
      "mean_log_q.shapetorch.Size([]), -39.44544982910156\n"
     ]
    },
    {
     "name": "stderr",
     "output_type": "stream",
     "text": [
      " 24%|██▍       | 226/938 [00:14<00:52, 13.57it/s]"
     ]
    },
    {
     "name": "stdout",
     "output_type": "stream",
     "text": [
      "mean_log_p,shapetorch.Size([]), -158.96859741210938\n",
      "mean_log_q.shapetorch.Size([]), -39.62726593017578\n",
      "mean_log_p,shapetorch.Size([]), -156.7061767578125\n",
      "mean_log_q.shapetorch.Size([]), -39.80806350708008\n"
     ]
    },
    {
     "name": "stderr",
     "output_type": "stream",
     "text": [
      " 24%|██▍       | 228/938 [00:14<00:52, 13.49it/s]"
     ]
    },
    {
     "name": "stdout",
     "output_type": "stream",
     "text": [
      "mean_log_p,shapetorch.Size([]), -154.7858428955078\n",
      "mean_log_q.shapetorch.Size([]), -40.314186096191406\n",
      "mean_log_p,shapetorch.Size([]), -157.010986328125\n",
      "mean_log_q.shapetorch.Size([]), -40.2469482421875\n"
     ]
    },
    {
     "name": "stderr",
     "output_type": "stream",
     "text": [
      " 25%|██▍       | 230/938 [00:15<00:52, 13.46it/s]"
     ]
    },
    {
     "name": "stdout",
     "output_type": "stream",
     "text": [
      "mean_log_p,shapetorch.Size([]), -152.599609375\n",
      "mean_log_q.shapetorch.Size([]), -39.10670471191406\n",
      "mean_log_p,shapetorch.Size([]), -162.00868225097656\n",
      "mean_log_q.shapetorch.Size([]), -38.97807693481445\n"
     ]
    },
    {
     "name": "stderr",
     "output_type": "stream",
     "text": [
      " 25%|██▍       | 232/938 [00:15<00:52, 13.42it/s]"
     ]
    },
    {
     "name": "stdout",
     "output_type": "stream",
     "text": [
      "mean_log_p,shapetorch.Size([]), -160.92750549316406\n",
      "mean_log_q.shapetorch.Size([]), -39.297935485839844\n",
      "mean_log_p,shapetorch.Size([]), -156.12442016601562\n",
      "mean_log_q.shapetorch.Size([]), -39.390872955322266\n"
     ]
    },
    {
     "name": "stderr",
     "output_type": "stream",
     "text": [
      " 25%|██▍       | 234/938 [00:15<00:52, 13.40it/s]"
     ]
    },
    {
     "name": "stdout",
     "output_type": "stream",
     "text": [
      "mean_log_p,shapetorch.Size([]), -157.77584838867188\n",
      "mean_log_q.shapetorch.Size([]), -39.45317840576172\n",
      "mean_log_p,shapetorch.Size([]), -161.25050354003906\n",
      "mean_log_q.shapetorch.Size([]), -39.191123962402344\n"
     ]
    },
    {
     "name": "stderr",
     "output_type": "stream",
     "text": [
      " 25%|██▌       | 236/938 [00:15<00:52, 13.43it/s]"
     ]
    },
    {
     "name": "stdout",
     "output_type": "stream",
     "text": [
      "mean_log_p,shapetorch.Size([]), -153.11318969726562\n",
      "mean_log_q.shapetorch.Size([]), -40.065895080566406\n",
      "mean_log_p,shapetorch.Size([]), -159.3760986328125\n",
      "mean_log_q.shapetorch.Size([]), -39.03544998168945\n"
     ]
    },
    {
     "name": "stderr",
     "output_type": "stream",
     "text": [
      " 26%|██▌       | 240/938 [00:15<00:39, 17.46it/s]"
     ]
    },
    {
     "name": "stdout",
     "output_type": "stream",
     "text": [
      "mean_log_p,shapetorch.Size([]), -164.35015869140625\n",
      "mean_log_q.shapetorch.Size([]), -39.62202453613281\n",
      "mean_log_p,shapetorch.Size([]), -169.08892822265625\n",
      "mean_log_q.shapetorch.Size([]), -38.93912124633789\n"
     ]
    },
    {
     "name": "stderr",
     "output_type": "stream",
     "text": [
      " 26%|██▌       | 242/938 [00:15<00:42, 16.22it/s]"
     ]
    },
    {
     "name": "stdout",
     "output_type": "stream",
     "text": [
      "mean_log_p,shapetorch.Size([]), -160.29421997070312\n",
      "mean_log_q.shapetorch.Size([]), -38.59654235839844\n",
      "mean_log_p,shapetorch.Size([]), -152.25018310546875\n",
      "mean_log_q.shapetorch.Size([]), -39.71044158935547\n",
      "mean_log_p,shapetorch.Size([]), -162.8928985595703\n",
      "mean_log_q.shapetorch.Size([]), -39.34370422363281\n"
     ]
    },
    {
     "name": "stderr",
     "output_type": "stream",
     "text": [
      " 26%|██▌       | 244/938 [00:16<00:45, 15.25it/s]"
     ]
    },
    {
     "name": "stdout",
     "output_type": "stream",
     "text": [
      "mean_log_p,shapetorch.Size([]), -156.82533264160156\n",
      "mean_log_q.shapetorch.Size([]), -39.86792755126953\n",
      "mean_log_p,shapetorch.Size([]), -157.53887939453125\n",
      "mean_log_q.shapetorch.Size([]), -39.896018981933594\n"
     ]
    },
    {
     "name": "stderr",
     "output_type": "stream",
     "text": [
      " 26%|██▌       | 246/938 [00:16<00:47, 14.58it/s]"
     ]
    },
    {
     "name": "stdout",
     "output_type": "stream",
     "text": [
      "mean_log_p,shapetorch.Size([]), -159.14715576171875\n",
      "mean_log_q.shapetorch.Size([]), -39.83549880981445\n",
      "mean_log_p,shapetorch.Size([]), -156.5989990234375\n",
      "mean_log_q.shapetorch.Size([]), -40.427886962890625\n"
     ]
    },
    {
     "name": "stderr",
     "output_type": "stream",
     "text": [
      " 26%|██▋       | 248/938 [00:16<00:48, 14.18it/s]"
     ]
    },
    {
     "name": "stdout",
     "output_type": "stream",
     "text": [
      "mean_log_p,shapetorch.Size([]), -161.79183959960938\n",
      "mean_log_q.shapetorch.Size([]), -39.887420654296875\n",
      "mean_log_p,shapetorch.Size([]), -157.9927215576172\n",
      "mean_log_q.shapetorch.Size([]), -40.66050720214844\n"
     ]
    },
    {
     "name": "stderr",
     "output_type": "stream",
     "text": [
      " 27%|██▋       | 250/938 [00:16<00:49, 13.86it/s]"
     ]
    },
    {
     "name": "stdout",
     "output_type": "stream",
     "text": [
      "mean_log_p,shapetorch.Size([]), -159.96910095214844\n",
      "mean_log_q.shapetorch.Size([]), -39.87500762939453\n",
      "mean_log_p,shapetorch.Size([]), -159.06573486328125\n",
      "mean_log_q.shapetorch.Size([]), -40.44004821777344\n"
     ]
    },
    {
     "name": "stderr",
     "output_type": "stream",
     "text": [
      " 27%|██▋       | 252/938 [00:16<00:50, 13.70it/s]"
     ]
    },
    {
     "name": "stdout",
     "output_type": "stream",
     "text": [
      "mean_log_p,shapetorch.Size([]), -158.07449340820312\n",
      "mean_log_q.shapetorch.Size([]), -39.67409133911133\n"
     ]
    },
    {
     "name": "stderr",
     "output_type": "stream",
     "text": [
      " 27%|██▋       | 254/938 [00:16<00:50, 13.55it/s]"
     ]
    },
    {
     "name": "stdout",
     "output_type": "stream",
     "text": [
      "mean_log_p,shapetorch.Size([]), -160.7646484375\n",
      "mean_log_q.shapetorch.Size([]), -39.92814636230469\n",
      "mean_log_p,shapetorch.Size([]), -162.78329467773438\n",
      "mean_log_q.shapetorch.Size([]), -39.682029724121094\n"
     ]
    },
    {
     "name": "stderr",
     "output_type": "stream",
     "text": [
      " 27%|██▋       | 256/938 [00:16<00:50, 13.45it/s]"
     ]
    },
    {
     "name": "stdout",
     "output_type": "stream",
     "text": [
      "mean_log_p,shapetorch.Size([]), -159.1897735595703\n",
      "mean_log_q.shapetorch.Size([]), -40.13298034667969\n",
      "mean_log_p,shapetorch.Size([]), -158.67562866210938\n",
      "mean_log_q.shapetorch.Size([]), -38.45780944824219\n"
     ]
    },
    {
     "name": "stderr",
     "output_type": "stream",
     "text": [
      " 28%|██▊       | 258/938 [00:17<00:50, 13.41it/s]"
     ]
    },
    {
     "name": "stdout",
     "output_type": "stream",
     "text": [
      "mean_log_p,shapetorch.Size([]), -160.45584106445312\n",
      "mean_log_q.shapetorch.Size([]), -38.996822357177734\n",
      "mean_log_p,shapetorch.Size([]), -148.97012329101562\n",
      "mean_log_q.shapetorch.Size([]), -39.37205123901367\n",
      "mean_log_p,shapetorch.Size([]), -158.56353759765625\n",
      "mean_log_q.shapetorch.Size([]), -38.598236083984375\n"
     ]
    },
    {
     "name": "stderr",
     "output_type": "stream",
     "text": [
      " 28%|██▊       | 260/938 [00:17<00:50, 13.33it/s]"
     ]
    },
    {
     "name": "stdout",
     "output_type": "stream",
     "text": [
      "mean_log_p,shapetorch.Size([]), -163.2491455078125\n",
      "mean_log_q.shapetorch.Size([]), -38.83402633666992\n"
     ]
    },
    {
     "name": "stderr",
     "output_type": "stream",
     "text": [
      " 28%|██▊       | 262/938 [00:17<00:50, 13.33it/s]"
     ]
    },
    {
     "name": "stdout",
     "output_type": "stream",
     "text": [
      "mean_log_p,shapetorch.Size([]), -155.70693969726562\n",
      "mean_log_q.shapetorch.Size([]), -39.253082275390625\n",
      "mean_log_p,shapetorch.Size([]), -160.5372314453125\n",
      "mean_log_q.shapetorch.Size([]), -39.198360443115234\n"
     ]
    },
    {
     "name": "stderr",
     "output_type": "stream",
     "text": [
      " 28%|██▊       | 264/938 [00:17<00:50, 13.32it/s]"
     ]
    },
    {
     "name": "stdout",
     "output_type": "stream",
     "text": [
      "mean_log_p,shapetorch.Size([]), -154.4415283203125\n",
      "mean_log_q.shapetorch.Size([]), -39.22197341918945\n",
      "mean_log_p,shapetorch.Size([]), -158.00732421875\n",
      "mean_log_q.shapetorch.Size([]), -39.86539077758789\n"
     ]
    },
    {
     "name": "stderr",
     "output_type": "stream",
     "text": [
      " 28%|██▊       | 266/938 [00:17<00:50, 13.33it/s]"
     ]
    },
    {
     "name": "stdout",
     "output_type": "stream",
     "text": [
      "mean_log_p,shapetorch.Size([]), -156.9642333984375\n",
      "mean_log_q.shapetorch.Size([]), -39.113739013671875\n",
      "mean_log_p,shapetorch.Size([]), -156.685546875\n",
      "mean_log_q.shapetorch.Size([]), -39.70756530761719\n",
      "mean_log_p,shapetorch.Size([]), -152.15353393554688\n",
      "mean_log_q.shapetorch.Size([]), -40.24186706542969\n"
     ]
    },
    {
     "name": "stderr",
     "output_type": "stream",
     "text": [
      " 29%|██▊       | 268/938 [00:17<00:50, 13.26it/s]"
     ]
    },
    {
     "name": "stdout",
     "output_type": "stream",
     "text": [
      "mean_log_p,shapetorch.Size([]), -157.30104064941406\n",
      "mean_log_q.shapetorch.Size([]), -39.40791320800781\n"
     ]
    },
    {
     "name": "stderr",
     "output_type": "stream",
     "text": [
      " 29%|██▉       | 272/938 [00:17<00:38, 17.26it/s]"
     ]
    },
    {
     "name": "stdout",
     "output_type": "stream",
     "text": [
      "mean_log_p,shapetorch.Size([]), -158.42811584472656\n",
      "mean_log_q.shapetorch.Size([]), -39.79412841796875\n",
      "mean_log_p,shapetorch.Size([]), -155.48355102539062\n",
      "mean_log_q.shapetorch.Size([]), -38.79423141479492\n",
      "mean_log_p,shapetorch.Size([]), -155.0744171142578\n",
      "mean_log_q.shapetorch.Size([]), -39.39918518066406\n"
     ]
    },
    {
     "name": "stderr",
     "output_type": "stream",
     "text": [
      " 29%|██▉       | 274/938 [00:18<00:41, 15.98it/s]"
     ]
    },
    {
     "name": "stdout",
     "output_type": "stream",
     "text": [
      "mean_log_p,shapetorch.Size([]), -154.97564697265625\n",
      "mean_log_q.shapetorch.Size([]), -38.94499206542969\n",
      "mean_log_p,shapetorch.Size([]), -149.2503662109375\n",
      "mean_log_q.shapetorch.Size([]), -40.330406188964844\n"
     ]
    },
    {
     "name": "stderr",
     "output_type": "stream",
     "text": [
      " 29%|██▉       | 276/938 [00:18<00:43, 15.17it/s]"
     ]
    },
    {
     "name": "stdout",
     "output_type": "stream",
     "text": [
      "mean_log_p,shapetorch.Size([]), -156.71600341796875\n",
      "mean_log_q.shapetorch.Size([]), -39.137271881103516\n"
     ]
    },
    {
     "name": "stderr",
     "output_type": "stream",
     "text": [
      " 30%|██▉       | 278/938 [00:18<00:45, 14.59it/s]"
     ]
    },
    {
     "name": "stdout",
     "output_type": "stream",
     "text": [
      "mean_log_p,shapetorch.Size([]), -155.5594940185547\n",
      "mean_log_q.shapetorch.Size([]), -39.12093734741211\n",
      "mean_log_p,shapetorch.Size([]), -152.446044921875\n",
      "mean_log_q.shapetorch.Size([]), -39.44012451171875\n"
     ]
    },
    {
     "name": "stderr",
     "output_type": "stream",
     "text": [
      " 30%|██▉       | 280/938 [00:18<00:46, 14.20it/s]"
     ]
    },
    {
     "name": "stdout",
     "output_type": "stream",
     "text": [
      "mean_log_p,shapetorch.Size([]), -166.01097106933594\n",
      "mean_log_q.shapetorch.Size([]), -38.70012664794922\n",
      "mean_log_p,shapetorch.Size([]), -152.69528198242188\n",
      "mean_log_q.shapetorch.Size([]), -39.28132247924805\n"
     ]
    },
    {
     "name": "stderr",
     "output_type": "stream",
     "text": [
      " 30%|███       | 282/938 [00:18<00:47, 13.92it/s]"
     ]
    },
    {
     "name": "stdout",
     "output_type": "stream",
     "text": [
      "mean_log_p,shapetorch.Size([]), -153.01918029785156\n",
      "mean_log_q.shapetorch.Size([]), -39.522918701171875\n",
      "mean_log_p,shapetorch.Size([]), -158.20513916015625\n",
      "mean_log_q.shapetorch.Size([]), -39.41897201538086\n"
     ]
    },
    {
     "name": "stderr",
     "output_type": "stream",
     "text": [
      " 30%|███       | 284/938 [00:18<00:47, 13.72it/s]"
     ]
    },
    {
     "name": "stdout",
     "output_type": "stream",
     "text": [
      "mean_log_p,shapetorch.Size([]), -162.08291625976562\n",
      "mean_log_q.shapetorch.Size([]), -38.70378875732422\n",
      "mean_log_p,shapetorch.Size([]), -154.39564514160156\n",
      "mean_log_q.shapetorch.Size([]), -39.173004150390625\n",
      "mean_log_p,shapetorch.Size([]), -158.44961547851562\n",
      "mean_log_q.shapetorch.Size([]), -38.73311233520508\n"
     ]
    },
    {
     "name": "stderr",
     "output_type": "stream",
     "text": [
      " 30%|███       | 286/938 [00:19<00:48, 13.51it/s]"
     ]
    },
    {
     "name": "stdout",
     "output_type": "stream",
     "text": [
      "mean_log_p,shapetorch.Size([]), -155.96725463867188\n",
      "mean_log_q.shapetorch.Size([]), -39.56489562988281\n",
      "mean_log_p,shapetorch.Size([]), -152.2859344482422\n",
      "mean_log_q.shapetorch.Size([]), -39.385475158691406\n"
     ]
    },
    {
     "name": "stderr",
     "output_type": "stream",
     "text": [
      " 31%|███       | 288/938 [00:19<00:48, 13.44it/s]"
     ]
    },
    {
     "name": "stdout",
     "output_type": "stream",
     "text": [
      "mean_log_p,shapetorch.Size([]), -162.82870483398438\n",
      "mean_log_q.shapetorch.Size([]), -39.556983947753906\n"
     ]
    },
    {
     "name": "stderr",
     "output_type": "stream",
     "text": [
      " 31%|███       | 290/938 [00:19<00:48, 13.38it/s]"
     ]
    },
    {
     "name": "stdout",
     "output_type": "stream",
     "text": [
      "mean_log_p,shapetorch.Size([]), -157.77944946289062\n",
      "mean_log_q.shapetorch.Size([]), -38.86018753051758\n",
      "mean_log_p,shapetorch.Size([]), -159.60861206054688\n",
      "mean_log_q.shapetorch.Size([]), -40.56462097167969\n"
     ]
    },
    {
     "name": "stderr",
     "output_type": "stream",
     "text": [
      " 31%|███       | 292/938 [00:19<00:48, 13.33it/s]"
     ]
    },
    {
     "name": "stdout",
     "output_type": "stream",
     "text": [
      "mean_log_p,shapetorch.Size([]), -156.12969970703125\n",
      "mean_log_q.shapetorch.Size([]), -40.347530364990234\n",
      "mean_log_p,shapetorch.Size([]), -158.5831756591797\n",
      "mean_log_q.shapetorch.Size([]), -39.732666015625\n"
     ]
    },
    {
     "name": "stderr",
     "output_type": "stream",
     "text": [
      " 31%|███▏      | 294/938 [00:19<00:48, 13.31it/s]"
     ]
    },
    {
     "name": "stdout",
     "output_type": "stream",
     "text": [
      "mean_log_p,shapetorch.Size([]), -151.45428466796875\n",
      "mean_log_q.shapetorch.Size([]), -39.917930603027344\n",
      "mean_log_p,shapetorch.Size([]), -163.83941650390625\n",
      "mean_log_q.shapetorch.Size([]), -39.774566650390625\n"
     ]
    },
    {
     "name": "stderr",
     "output_type": "stream",
     "text": [
      " 32%|███▏      | 296/938 [00:19<00:48, 13.30it/s]"
     ]
    },
    {
     "name": "stdout",
     "output_type": "stream",
     "text": [
      "mean_log_p,shapetorch.Size([]), -149.906494140625\n",
      "mean_log_q.shapetorch.Size([]), -39.55489730834961\n",
      "mean_log_p,shapetorch.Size([]), -151.72015380859375\n",
      "mean_log_q.shapetorch.Size([]), -39.75669860839844\n"
     ]
    },
    {
     "name": "stderr",
     "output_type": "stream",
     "text": [
      " 32%|███▏      | 298/938 [00:19<00:48, 13.29it/s]"
     ]
    },
    {
     "name": "stdout",
     "output_type": "stream",
     "text": [
      "mean_log_p,shapetorch.Size([]), -156.89422607421875\n",
      "mean_log_q.shapetorch.Size([]), -38.97908401489258\n",
      "mean_log_p,shapetorch.Size([]), -159.75941467285156\n",
      "mean_log_q.shapetorch.Size([]), -38.7012825012207\n"
     ]
    },
    {
     "name": "stderr",
     "output_type": "stream",
     "text": [
      " 32%|███▏      | 300/938 [00:20<00:47, 13.30it/s]"
     ]
    },
    {
     "name": "stdout",
     "output_type": "stream",
     "text": [
      "mean_log_p,shapetorch.Size([]), -153.1204071044922\n",
      "mean_log_q.shapetorch.Size([]), -39.14649963378906\n",
      "mean_log_p,shapetorch.Size([]), -156.50936889648438\n",
      "mean_log_q.shapetorch.Size([]), -38.447914123535156\n"
     ]
    },
    {
     "name": "stderr",
     "output_type": "stream",
     "text": [
      " 32%|███▏      | 302/938 [00:20<00:47, 13.27it/s]"
     ]
    },
    {
     "name": "stdout",
     "output_type": "stream",
     "text": [
      "mean_log_p,shapetorch.Size([]), -150.4027099609375\n",
      "mean_log_q.shapetorch.Size([]), -39.024200439453125\n",
      "mean_log_p,shapetorch.Size([]), -159.66140747070312\n",
      "mean_log_q.shapetorch.Size([]), -38.88604736328125\n"
     ]
    },
    {
     "name": "stderr",
     "output_type": "stream",
     "text": [
      " 33%|███▎      | 306/938 [00:20<00:36, 17.25it/s]"
     ]
    },
    {
     "name": "stdout",
     "output_type": "stream",
     "text": [
      "mean_log_p,shapetorch.Size([]), -159.771728515625\n",
      "mean_log_q.shapetorch.Size([]), -39.26533126831055\n",
      "mean_log_p,shapetorch.Size([]), -148.09815979003906\n",
      "mean_log_q.shapetorch.Size([]), -39.35768127441406\n"
     ]
    },
    {
     "name": "stderr",
     "output_type": "stream",
     "text": [
      " 33%|███▎      | 308/938 [00:20<00:39, 16.06it/s]"
     ]
    },
    {
     "name": "stdout",
     "output_type": "stream",
     "text": [
      "mean_log_p,shapetorch.Size([]), -154.0185546875\n",
      "mean_log_q.shapetorch.Size([]), -39.80804443359375\n",
      "mean_log_p,shapetorch.Size([]), -160.91326904296875\n",
      "mean_log_q.shapetorch.Size([]), -40.232147216796875\n"
     ]
    },
    {
     "name": "stderr",
     "output_type": "stream",
     "text": [
      " 33%|███▎      | 310/938 [00:20<00:41, 15.20it/s]"
     ]
    },
    {
     "name": "stdout",
     "output_type": "stream",
     "text": [
      "mean_log_p,shapetorch.Size([]), -159.2771453857422\n",
      "mean_log_q.shapetorch.Size([]), -39.372798919677734\n",
      "mean_log_p,shapetorch.Size([]), -157.0504608154297\n",
      "mean_log_q.shapetorch.Size([]), -40.410423278808594\n"
     ]
    },
    {
     "name": "stderr",
     "output_type": "stream",
     "text": [
      " 33%|███▎      | 312/938 [00:20<00:42, 14.64it/s]"
     ]
    },
    {
     "name": "stdout",
     "output_type": "stream",
     "text": [
      "mean_log_p,shapetorch.Size([]), -150.77284240722656\n",
      "mean_log_q.shapetorch.Size([]), -40.83271026611328\n",
      "mean_log_p,shapetorch.Size([]), -159.5694580078125\n",
      "mean_log_q.shapetorch.Size([]), -40.2481803894043\n"
     ]
    },
    {
     "name": "stderr",
     "output_type": "stream",
     "text": [
      " 33%|███▎      | 314/938 [00:20<00:43, 14.25it/s]"
     ]
    },
    {
     "name": "stdout",
     "output_type": "stream",
     "text": [
      "mean_log_p,shapetorch.Size([]), -158.57078552246094\n",
      "mean_log_q.shapetorch.Size([]), -40.316017150878906\n",
      "mean_log_p,shapetorch.Size([]), -151.97943115234375\n",
      "mean_log_q.shapetorch.Size([]), -39.971614837646484\n"
     ]
    },
    {
     "name": "stderr",
     "output_type": "stream",
     "text": [
      " 34%|███▎      | 316/938 [00:21<00:44, 13.95it/s]"
     ]
    },
    {
     "name": "stdout",
     "output_type": "stream",
     "text": [
      "mean_log_p,shapetorch.Size([]), -158.5681915283203\n",
      "mean_log_q.shapetorch.Size([]), -39.415626525878906\n",
      "mean_log_p,shapetorch.Size([]), -155.62918090820312\n",
      "mean_log_q.shapetorch.Size([]), -39.37053680419922\n"
     ]
    },
    {
     "name": "stderr",
     "output_type": "stream",
     "text": [
      " 34%|███▍      | 318/938 [00:21<00:45, 13.73it/s]"
     ]
    },
    {
     "name": "stdout",
     "output_type": "stream",
     "text": [
      "mean_log_p,shapetorch.Size([]), -157.6259765625\n",
      "mean_log_q.shapetorch.Size([]), -38.726810455322266\n",
      "mean_log_p,shapetorch.Size([]), -158.92044067382812\n",
      "mean_log_q.shapetorch.Size([]), -38.511878967285156\n"
     ]
    },
    {
     "name": "stderr",
     "output_type": "stream",
     "text": [
      " 34%|███▍      | 320/938 [00:21<00:45, 13.60it/s]"
     ]
    },
    {
     "name": "stdout",
     "output_type": "stream",
     "text": [
      "mean_log_p,shapetorch.Size([]), -157.63909912109375\n",
      "mean_log_q.shapetorch.Size([]), -38.92780303955078\n",
      "mean_log_p,shapetorch.Size([]), -149.09640502929688\n",
      "mean_log_q.shapetorch.Size([]), -38.82500457763672\n"
     ]
    },
    {
     "name": "stderr",
     "output_type": "stream",
     "text": [
      " 34%|███▍      | 322/938 [00:21<00:45, 13.49it/s]"
     ]
    },
    {
     "name": "stdout",
     "output_type": "stream",
     "text": [
      "mean_log_p,shapetorch.Size([]), -150.22039794921875\n",
      "mean_log_q.shapetorch.Size([]), -37.5721549987793\n",
      "mean_log_p,shapetorch.Size([]), -158.58935546875\n",
      "mean_log_q.shapetorch.Size([]), -38.13660430908203\n"
     ]
    },
    {
     "name": "stderr",
     "output_type": "stream",
     "text": [
      " 35%|███▍      | 324/938 [00:21<00:45, 13.43it/s]"
     ]
    },
    {
     "name": "stdout",
     "output_type": "stream",
     "text": [
      "mean_log_p,shapetorch.Size([]), -160.72825622558594\n",
      "mean_log_q.shapetorch.Size([]), -38.92582702636719\n",
      "mean_log_p,shapetorch.Size([]), -159.17758178710938\n",
      "mean_log_q.shapetorch.Size([]), -38.165584564208984\n"
     ]
    },
    {
     "name": "stderr",
     "output_type": "stream",
     "text": [
      " 35%|███▍      | 326/938 [00:21<00:45, 13.41it/s]"
     ]
    },
    {
     "name": "stdout",
     "output_type": "stream",
     "text": [
      "mean_log_p,shapetorch.Size([]), -154.18287658691406\n",
      "mean_log_q.shapetorch.Size([]), -38.88011932373047\n",
      "mean_log_p,shapetorch.Size([]), -150.79534912109375\n",
      "mean_log_q.shapetorch.Size([]), -39.7539176940918\n",
      "mean_log_p,shapetorch.Size([]), -156.52804565429688\n",
      "mean_log_q.shapetorch.Size([]), -39.79247283935547\n"
     ]
    },
    {
     "name": "stderr",
     "output_type": "stream",
     "text": [
      " 35%|███▍      | 328/938 [00:22<00:45, 13.32it/s]"
     ]
    },
    {
     "name": "stdout",
     "output_type": "stream",
     "text": [
      "mean_log_p,shapetorch.Size([]), -156.13546752929688\n",
      "mean_log_q.shapetorch.Size([]), -39.11029815673828\n"
     ]
    },
    {
     "name": "stderr",
     "output_type": "stream",
     "text": [
      " 35%|███▌      | 330/938 [00:22<00:45, 13.33it/s]"
     ]
    },
    {
     "name": "stdout",
     "output_type": "stream",
     "text": [
      "mean_log_p,shapetorch.Size([]), -161.56748962402344\n",
      "mean_log_q.shapetorch.Size([]), -39.07329559326172\n",
      "mean_log_p,shapetorch.Size([]), -160.3031005859375\n",
      "mean_log_q.shapetorch.Size([]), -40.65879821777344\n"
     ]
    },
    {
     "name": "stderr",
     "output_type": "stream",
     "text": [
      " 35%|███▌      | 332/938 [00:22<00:45, 13.31it/s]"
     ]
    },
    {
     "name": "stdout",
     "output_type": "stream",
     "text": [
      "mean_log_p,shapetorch.Size([]), -159.52880859375\n",
      "mean_log_q.shapetorch.Size([]), -40.59003448486328\n",
      "mean_log_p,shapetorch.Size([]), -157.42127990722656\n",
      "mean_log_q.shapetorch.Size([]), -39.912288665771484\n"
     ]
    },
    {
     "name": "stderr",
     "output_type": "stream",
     "text": [
      " 36%|███▌      | 334/938 [00:22<00:45, 13.28it/s]"
     ]
    },
    {
     "name": "stdout",
     "output_type": "stream",
     "text": [
      "mean_log_p,shapetorch.Size([]), -153.98501586914062\n",
      "mean_log_q.shapetorch.Size([]), -39.76839828491211\n",
      "mean_log_p,shapetorch.Size([]), -157.53884887695312\n",
      "mean_log_q.shapetorch.Size([]), -39.23646545410156\n"
     ]
    },
    {
     "name": "stderr",
     "output_type": "stream",
     "text": [
      " 36%|███▌      | 336/938 [00:22<00:45, 13.26it/s]"
     ]
    },
    {
     "name": "stdout",
     "output_type": "stream",
     "text": [
      "mean_log_p,shapetorch.Size([]), -158.6223602294922\n",
      "mean_log_q.shapetorch.Size([]), -39.16874313354492\n",
      "mean_log_p,shapetorch.Size([]), -149.3476104736328\n",
      "mean_log_q.shapetorch.Size([]), -39.68446350097656\n",
      "mean_log_p,shapetorch.Size([]), -157.07119750976562\n",
      "mean_log_q.shapetorch.Size([]), -38.767333984375\n"
     ]
    },
    {
     "name": "stderr",
     "output_type": "stream",
     "text": [
      " 36%|███▌      | 338/938 [00:22<00:45, 13.19it/s]"
     ]
    },
    {
     "name": "stdout",
     "output_type": "stream",
     "text": [
      "mean_log_p,shapetorch.Size([]), -158.8629913330078\n",
      "mean_log_q.shapetorch.Size([]), -39.03541564941406\n",
      "mean_log_p,shapetorch.Size([]), -160.9208221435547\n",
      "mean_log_q.shapetorch.Size([]), -39.09630584716797\n"
     ]
    },
    {
     "name": "stderr",
     "output_type": "stream",
     "text": [
      " 36%|███▋      | 342/938 [00:22<00:34, 17.09it/s]"
     ]
    },
    {
     "name": "stdout",
     "output_type": "stream",
     "text": [
      "mean_log_p,shapetorch.Size([]), -158.61083984375\n",
      "mean_log_q.shapetorch.Size([]), -38.66876220703125\n",
      "mean_log_p,shapetorch.Size([]), -156.34375\n",
      "mean_log_q.shapetorch.Size([]), -38.79267883300781\n"
     ]
    },
    {
     "name": "stderr",
     "output_type": "stream",
     "text": [
      " 37%|███▋      | 344/938 [00:23<00:37, 15.87it/s]"
     ]
    },
    {
     "name": "stdout",
     "output_type": "stream",
     "text": [
      "mean_log_p,shapetorch.Size([]), -161.15151977539062\n",
      "mean_log_q.shapetorch.Size([]), -38.98646926879883\n",
      "mean_log_p,shapetorch.Size([]), -153.15078735351562\n",
      "mean_log_q.shapetorch.Size([]), -39.07439422607422\n"
     ]
    },
    {
     "name": "stderr",
     "output_type": "stream",
     "text": [
      " 37%|███▋      | 346/938 [00:23<00:39, 15.01it/s]"
     ]
    },
    {
     "name": "stdout",
     "output_type": "stream",
     "text": [
      "mean_log_p,shapetorch.Size([]), -154.57615661621094\n",
      "mean_log_q.shapetorch.Size([]), -38.73790740966797\n",
      "mean_log_p,shapetorch.Size([]), -148.052734375\n",
      "mean_log_q.shapetorch.Size([]), -38.79798126220703\n"
     ]
    },
    {
     "name": "stderr",
     "output_type": "stream",
     "text": [
      " 37%|███▋      | 348/938 [00:23<00:40, 14.49it/s]"
     ]
    },
    {
     "name": "stdout",
     "output_type": "stream",
     "text": [
      "mean_log_p,shapetorch.Size([]), -157.140625\n",
      "mean_log_q.shapetorch.Size([]), -38.83189392089844\n"
     ]
    },
    {
     "name": "stderr",
     "output_type": "stream",
     "text": [
      " 37%|███▋      | 350/938 [00:23<00:41, 14.11it/s]"
     ]
    },
    {
     "name": "stdout",
     "output_type": "stream",
     "text": [
      "mean_log_p,shapetorch.Size([]), -149.6840362548828\n",
      "mean_log_q.shapetorch.Size([]), -39.29243469238281\n",
      "mean_log_p,shapetorch.Size([]), -151.5927734375\n",
      "mean_log_q.shapetorch.Size([]), -39.65983581542969\n"
     ]
    },
    {
     "name": "stderr",
     "output_type": "stream",
     "text": [
      " 38%|███▊      | 352/938 [00:23<00:42, 13.84it/s]"
     ]
    },
    {
     "name": "stdout",
     "output_type": "stream",
     "text": [
      "mean_log_p,shapetorch.Size([]), -155.63616943359375\n",
      "mean_log_q.shapetorch.Size([]), -39.16495132446289\n",
      "mean_log_p,shapetorch.Size([]), -156.38768005371094\n",
      "mean_log_q.shapetorch.Size([]), -39.82403564453125\n"
     ]
    },
    {
     "name": "stderr",
     "output_type": "stream",
     "text": [
      " 38%|███▊      | 354/938 [00:23<00:42, 13.69it/s]"
     ]
    },
    {
     "name": "stdout",
     "output_type": "stream",
     "text": [
      "mean_log_p,shapetorch.Size([]), -155.0631103515625\n",
      "mean_log_q.shapetorch.Size([]), -39.81147384643555\n",
      "mean_log_p,shapetorch.Size([]), -159.2035675048828\n",
      "mean_log_q.shapetorch.Size([]), -39.45164489746094\n"
     ]
    },
    {
     "name": "stderr",
     "output_type": "stream",
     "text": [
      " 38%|███▊      | 356/938 [00:24<00:42, 13.55it/s]"
     ]
    },
    {
     "name": "stdout",
     "output_type": "stream",
     "text": [
      "mean_log_p,shapetorch.Size([]), -154.32785034179688\n",
      "mean_log_q.shapetorch.Size([]), -40.217620849609375\n",
      "mean_log_p,shapetorch.Size([]), -156.46829223632812\n",
      "mean_log_q.shapetorch.Size([]), -39.55079650878906\n"
     ]
    },
    {
     "name": "stderr",
     "output_type": "stream",
     "text": [
      " 38%|███▊      | 358/938 [00:24<00:43, 13.46it/s]"
     ]
    },
    {
     "name": "stdout",
     "output_type": "stream",
     "text": [
      "mean_log_p,shapetorch.Size([]), -157.66476440429688\n",
      "mean_log_q.shapetorch.Size([]), -40.10968017578125\n",
      "mean_log_p,shapetorch.Size([]), -158.18536376953125\n",
      "mean_log_q.shapetorch.Size([]), -38.895599365234375\n"
     ]
    },
    {
     "name": "stderr",
     "output_type": "stream",
     "text": [
      " 38%|███▊      | 360/938 [00:24<00:43, 13.40it/s]"
     ]
    },
    {
     "name": "stdout",
     "output_type": "stream",
     "text": [
      "mean_log_p,shapetorch.Size([]), -156.9805908203125\n",
      "mean_log_q.shapetorch.Size([]), -38.984886169433594\n",
      "mean_log_p,shapetorch.Size([]), -153.25119018554688\n",
      "mean_log_q.shapetorch.Size([]), -38.98170471191406\n"
     ]
    },
    {
     "name": "stderr",
     "output_type": "stream",
     "text": [
      " 39%|███▊      | 362/938 [00:24<00:43, 13.35it/s]"
     ]
    },
    {
     "name": "stdout",
     "output_type": "stream",
     "text": [
      "mean_log_p,shapetorch.Size([]), -165.05575561523438\n",
      "mean_log_q.shapetorch.Size([]), -37.80352783203125\n",
      "mean_log_p,shapetorch.Size([]), -154.59188842773438\n",
      "mean_log_q.shapetorch.Size([]), -38.643917083740234\n"
     ]
    },
    {
     "name": "stderr",
     "output_type": "stream",
     "text": [
      " 39%|███▉      | 364/938 [00:24<00:43, 13.35it/s]"
     ]
    },
    {
     "name": "stdout",
     "output_type": "stream",
     "text": [
      "mean_log_p,shapetorch.Size([]), -154.5160675048828\n",
      "mean_log_q.shapetorch.Size([]), -38.13660430908203\n",
      "mean_log_p,shapetorch.Size([]), -151.62551879882812\n",
      "mean_log_q.shapetorch.Size([]), -38.77294921875\n"
     ]
    },
    {
     "name": "stderr",
     "output_type": "stream",
     "text": [
      " 39%|███▉      | 366/938 [00:24<00:42, 13.32it/s]"
     ]
    },
    {
     "name": "stdout",
     "output_type": "stream",
     "text": [
      "mean_log_p,shapetorch.Size([]), -158.7242431640625\n",
      "mean_log_q.shapetorch.Size([]), -39.158180236816406\n",
      "mean_log_p,shapetorch.Size([]), -153.167724609375\n",
      "mean_log_q.shapetorch.Size([]), -39.24163055419922\n"
     ]
    },
    {
     "name": "stderr",
     "output_type": "stream",
     "text": [
      " 39%|███▉      | 368/938 [00:24<00:42, 13.30it/s]"
     ]
    },
    {
     "name": "stdout",
     "output_type": "stream",
     "text": [
      "mean_log_p,shapetorch.Size([]), -155.89805603027344\n",
      "mean_log_q.shapetorch.Size([]), -38.659080505371094\n",
      "mean_log_p,shapetorch.Size([]), -154.47488403320312\n",
      "mean_log_q.shapetorch.Size([]), -39.55242156982422\n",
      "mean_log_p,shapetorch.Size([]), -159.3128204345703\n",
      "mean_log_q.shapetorch.Size([]), -37.899940490722656\n"
     ]
    },
    {
     "name": "stderr",
     "output_type": "stream",
     "text": [
      " 39%|███▉      | 370/938 [00:25<00:42, 13.23it/s]"
     ]
    },
    {
     "name": "stdout",
     "output_type": "stream",
     "text": [
      "mean_log_p,shapetorch.Size([]), -149.9078826904297\n",
      "mean_log_q.shapetorch.Size([]), -39.38958740234375\n"
     ]
    },
    {
     "name": "stderr",
     "output_type": "stream",
     "text": [
      " 40%|███▉      | 372/938 [00:25<00:42, 13.30it/s]"
     ]
    },
    {
     "name": "stdout",
     "output_type": "stream",
     "text": [
      "mean_log_p,shapetorch.Size([]), -159.42138671875\n",
      "mean_log_q.shapetorch.Size([]), -39.07624053955078\n",
      "mean_log_p,shapetorch.Size([]), -158.39100646972656\n",
      "mean_log_q.shapetorch.Size([]), -38.8925895690918\n"
     ]
    },
    {
     "name": "stderr",
     "output_type": "stream",
     "text": [
      " 40%|███▉      | 374/938 [00:25<00:42, 13.30it/s]"
     ]
    },
    {
     "name": "stdout",
     "output_type": "stream",
     "text": [
      "mean_log_p,shapetorch.Size([]), -163.86685180664062\n",
      "mean_log_q.shapetorch.Size([]), -39.00510025024414\n",
      "mean_log_p,shapetorch.Size([]), -147.18551635742188\n",
      "mean_log_q.shapetorch.Size([]), -39.639774322509766\n"
     ]
    },
    {
     "name": "stderr",
     "output_type": "stream",
     "text": [
      " 40%|████      | 376/938 [00:25<00:42, 13.30it/s]"
     ]
    },
    {
     "name": "stdout",
     "output_type": "stream",
     "text": [
      "mean_log_p,shapetorch.Size([]), -157.77127075195312\n",
      "mean_log_q.shapetorch.Size([]), -40.10652160644531\n",
      "mean_log_p,shapetorch.Size([]), -156.1053924560547\n",
      "mean_log_q.shapetorch.Size([]), -39.43938446044922\n"
     ]
    },
    {
     "name": "stderr",
     "output_type": "stream",
     "text": [
      " 41%|████      | 380/938 [00:25<00:32, 17.25it/s]"
     ]
    },
    {
     "name": "stdout",
     "output_type": "stream",
     "text": [
      "mean_log_p,shapetorch.Size([]), -156.48104858398438\n",
      "mean_log_q.shapetorch.Size([]), -39.448673248291016\n",
      "mean_log_p,shapetorch.Size([]), -153.72927856445312\n",
      "mean_log_q.shapetorch.Size([]), -39.23204040527344\n"
     ]
    },
    {
     "name": "stderr",
     "output_type": "stream",
     "text": [
      " 41%|████      | 382/938 [00:25<00:34, 16.06it/s]"
     ]
    },
    {
     "name": "stdout",
     "output_type": "stream",
     "text": [
      "mean_log_p,shapetorch.Size([]), -160.14108276367188\n",
      "mean_log_q.shapetorch.Size([]), -39.69345474243164\n",
      "mean_log_p,shapetorch.Size([]), -156.70758056640625\n",
      "mean_log_q.shapetorch.Size([]), -39.66485595703125\n",
      "mean_log_p,shapetorch.Size([]), -152.09231567382812\n",
      "mean_log_q.shapetorch.Size([]), -39.75273132324219\n"
     ]
    },
    {
     "name": "stderr",
     "output_type": "stream",
     "text": [
      " 41%|████      | 384/938 [00:25<00:36, 15.18it/s]"
     ]
    },
    {
     "name": "stdout",
     "output_type": "stream",
     "text": [
      "mean_log_p,shapetorch.Size([]), -151.37026977539062\n",
      "mean_log_q.shapetorch.Size([]), -39.24444580078125\n"
     ]
    },
    {
     "name": "stderr",
     "output_type": "stream",
     "text": [
      " 41%|████      | 386/938 [00:26<00:37, 14.59it/s]"
     ]
    },
    {
     "name": "stdout",
     "output_type": "stream",
     "text": [
      "mean_log_p,shapetorch.Size([]), -155.84176635742188\n",
      "mean_log_q.shapetorch.Size([]), -39.53294372558594\n",
      "mean_log_p,shapetorch.Size([]), -155.45989990234375\n",
      "mean_log_q.shapetorch.Size([]), -39.89201354980469\n",
      "mean_log_p,shapetorch.Size([]), -162.63844299316406\n",
      "mean_log_q.shapetorch.Size([]), -39.12968444824219\n"
     ]
    },
    {
     "name": "stderr",
     "output_type": "stream",
     "text": [
      " 41%|████▏     | 388/938 [00:26<00:38, 14.15it/s]"
     ]
    },
    {
     "name": "stdout",
     "output_type": "stream",
     "text": [
      "mean_log_p,shapetorch.Size([]), -153.0160369873047\n",
      "mean_log_q.shapetorch.Size([]), -39.85752868652344\n",
      "mean_log_p,shapetorch.Size([]), -146.92935180664062\n",
      "mean_log_q.shapetorch.Size([]), -39.156532287597656\n"
     ]
    },
    {
     "name": "stderr",
     "output_type": "stream",
     "text": [
      " 42%|████▏     | 390/938 [00:26<00:39, 13.83it/s]"
     ]
    },
    {
     "name": "stdout",
     "output_type": "stream",
     "text": [
      "mean_log_p,shapetorch.Size([]), -155.46359252929688\n",
      "mean_log_q.shapetorch.Size([]), -39.99798583984375\n"
     ]
    },
    {
     "name": "stderr",
     "output_type": "stream",
     "text": [
      " 42%|████▏     | 392/938 [00:26<00:39, 13.70it/s]"
     ]
    },
    {
     "name": "stdout",
     "output_type": "stream",
     "text": [
      "mean_log_p,shapetorch.Size([]), -157.52828979492188\n",
      "mean_log_q.shapetorch.Size([]), -39.647544860839844\n",
      "mean_log_p,shapetorch.Size([]), -153.45281982421875\n",
      "mean_log_q.shapetorch.Size([]), -39.07041931152344\n"
     ]
    },
    {
     "name": "stderr",
     "output_type": "stream",
     "text": [
      " 42%|████▏     | 394/938 [00:26<00:39, 13.62it/s]"
     ]
    },
    {
     "name": "stdout",
     "output_type": "stream",
     "text": [
      "mean_log_p,shapetorch.Size([]), -156.7643585205078\n",
      "mean_log_q.shapetorch.Size([]), -39.222503662109375\n",
      "mean_log_p,shapetorch.Size([]), -154.15585327148438\n",
      "mean_log_q.shapetorch.Size([]), -39.25302505493164\n"
     ]
    },
    {
     "name": "stderr",
     "output_type": "stream",
     "text": [
      " 42%|████▏     | 396/938 [00:26<00:39, 13.62it/s]"
     ]
    },
    {
     "name": "stdout",
     "output_type": "stream",
     "text": [
      "mean_log_p,shapetorch.Size([]), -152.39242553710938\n",
      "mean_log_q.shapetorch.Size([]), -39.98552703857422\n",
      "mean_log_p,shapetorch.Size([]), -158.85321044921875\n",
      "mean_log_q.shapetorch.Size([]), -39.75160217285156\n"
     ]
    },
    {
     "name": "stderr",
     "output_type": "stream",
     "text": [
      " 42%|████▏     | 398/938 [00:27<00:39, 13.55it/s]"
     ]
    },
    {
     "name": "stdout",
     "output_type": "stream",
     "text": [
      "mean_log_p,shapetorch.Size([]), -147.7630157470703\n",
      "mean_log_q.shapetorch.Size([]), -39.439632415771484\n",
      "mean_log_p,shapetorch.Size([]), -165.31719970703125\n",
      "mean_log_q.shapetorch.Size([]), -38.51972961425781\n"
     ]
    },
    {
     "name": "stderr",
     "output_type": "stream",
     "text": [
      " 43%|████▎     | 400/938 [00:27<00:39, 13.50it/s]"
     ]
    },
    {
     "name": "stdout",
     "output_type": "stream",
     "text": [
      "mean_log_p,shapetorch.Size([]), -161.67173767089844\n",
      "mean_log_q.shapetorch.Size([]), -38.23805236816406\n",
      "mean_log_p,shapetorch.Size([]), -157.02871704101562\n",
      "mean_log_q.shapetorch.Size([]), -37.86810302734375\n"
     ]
    },
    {
     "name": "stderr",
     "output_type": "stream",
     "text": [
      " 43%|████▎     | 402/938 [00:27<00:39, 13.54it/s]"
     ]
    },
    {
     "name": "stdout",
     "output_type": "stream",
     "text": [
      "mean_log_p,shapetorch.Size([]), -154.67015075683594\n",
      "mean_log_q.shapetorch.Size([]), -38.49066162109375\n",
      "mean_log_p,shapetorch.Size([]), -153.65281677246094\n",
      "mean_log_q.shapetorch.Size([]), -39.304996490478516\n"
     ]
    },
    {
     "name": "stderr",
     "output_type": "stream",
     "text": [
      " 43%|████▎     | 404/938 [00:27<00:39, 13.56it/s]"
     ]
    },
    {
     "name": "stdout",
     "output_type": "stream",
     "text": [
      "mean_log_p,shapetorch.Size([]), -157.62472534179688\n",
      "mean_log_q.shapetorch.Size([]), -38.383949279785156\n",
      "mean_log_p,shapetorch.Size([]), -161.2823944091797\n",
      "mean_log_q.shapetorch.Size([]), -38.254791259765625\n"
     ]
    },
    {
     "name": "stderr",
     "output_type": "stream",
     "text": [
      " 43%|████▎     | 406/938 [00:27<00:39, 13.57it/s]"
     ]
    },
    {
     "name": "stdout",
     "output_type": "stream",
     "text": [
      "mean_log_p,shapetorch.Size([]), -155.31613159179688\n",
      "mean_log_q.shapetorch.Size([]), -38.79658508300781\n",
      "mean_log_p,shapetorch.Size([]), -157.14260864257812\n",
      "mean_log_q.shapetorch.Size([]), -38.27571105957031\n"
     ]
    },
    {
     "name": "stderr",
     "output_type": "stream",
     "text": [
      " 43%|████▎     | 408/938 [00:27<00:39, 13.56it/s]"
     ]
    },
    {
     "name": "stdout",
     "output_type": "stream",
     "text": [
      "mean_log_p,shapetorch.Size([]), -160.49415588378906\n",
      "mean_log_q.shapetorch.Size([]), -38.682899475097656\n",
      "mean_log_p,shapetorch.Size([]), -160.23817443847656\n",
      "mean_log_q.shapetorch.Size([]), -39.7432746887207\n"
     ]
    },
    {
     "name": "stderr",
     "output_type": "stream",
     "text": [
      " 44%|████▎     | 410/938 [00:27<00:39, 13.52it/s]"
     ]
    },
    {
     "name": "stdout",
     "output_type": "stream",
     "text": [
      "mean_log_p,shapetorch.Size([]), -152.49664306640625\n",
      "mean_log_q.shapetorch.Size([]), -38.56657791137695\n",
      "mean_log_p,shapetorch.Size([]), -154.09600830078125\n",
      "mean_log_q.shapetorch.Size([]), -39.18681335449219\n"
     ]
    },
    {
     "name": "stderr",
     "output_type": "stream",
     "text": [
      " 44%|████▍     | 412/938 [00:28<00:38, 13.53it/s]"
     ]
    },
    {
     "name": "stdout",
     "output_type": "stream",
     "text": [
      "mean_log_p,shapetorch.Size([]), -156.1319580078125\n",
      "mean_log_q.shapetorch.Size([]), -38.77722930908203\n",
      "mean_log_p,shapetorch.Size([]), -164.93890380859375\n",
      "mean_log_q.shapetorch.Size([]), -39.49885177612305\n"
     ]
    },
    {
     "name": "stderr",
     "output_type": "stream",
     "text": [
      " 44%|████▍     | 414/938 [00:28<00:39, 13.39it/s]"
     ]
    },
    {
     "name": "stdout",
     "output_type": "stream",
     "text": [
      "mean_log_p,shapetorch.Size([]), -163.135009765625\n",
      "mean_log_q.shapetorch.Size([]), -39.96359634399414\n",
      "mean_log_p,shapetorch.Size([]), -151.7381591796875\n",
      "mean_log_q.shapetorch.Size([]), -39.956478118896484\n"
     ]
    },
    {
     "name": "stderr",
     "output_type": "stream",
     "text": [
      " 44%|████▍     | 416/938 [00:28<00:38, 13.40it/s]"
     ]
    },
    {
     "name": "stdout",
     "output_type": "stream",
     "text": [
      "mean_log_p,shapetorch.Size([]), -156.22586059570312\n",
      "mean_log_q.shapetorch.Size([]), -39.65486526489258\n",
      "mean_log_p,shapetorch.Size([]), -155.26043701171875\n",
      "mean_log_q.shapetorch.Size([]), -39.384944915771484\n"
     ]
    },
    {
     "name": "stderr",
     "output_type": "stream",
     "text": [
      " 45%|████▍     | 420/938 [00:28<00:29, 17.45it/s]"
     ]
    },
    {
     "name": "stdout",
     "output_type": "stream",
     "text": [
      "mean_log_p,shapetorch.Size([]), -158.29510498046875\n",
      "mean_log_q.shapetorch.Size([]), -39.01871109008789\n",
      "mean_log_p,shapetorch.Size([]), -157.46482849121094\n",
      "mean_log_q.shapetorch.Size([]), -39.4735107421875\n"
     ]
    },
    {
     "name": "stderr",
     "output_type": "stream",
     "text": [
      " 45%|████▍     | 422/938 [00:28<00:31, 16.18it/s]"
     ]
    },
    {
     "name": "stdout",
     "output_type": "stream",
     "text": [
      "mean_log_p,shapetorch.Size([]), -167.6323699951172\n",
      "mean_log_q.shapetorch.Size([]), -39.31816864013672\n",
      "mean_log_p,shapetorch.Size([]), -158.67279052734375\n",
      "mean_log_q.shapetorch.Size([]), -39.07903289794922\n"
     ]
    },
    {
     "name": "stderr",
     "output_type": "stream",
     "text": [
      " 45%|████▌     | 424/938 [00:28<00:33, 15.30it/s]"
     ]
    },
    {
     "name": "stdout",
     "output_type": "stream",
     "text": [
      "mean_log_p,shapetorch.Size([]), -162.71014404296875\n",
      "mean_log_q.shapetorch.Size([]), -38.43951416015625\n",
      "mean_log_p,shapetorch.Size([]), -148.5496826171875\n",
      "mean_log_q.shapetorch.Size([]), -39.1273078918457\n"
     ]
    },
    {
     "name": "stderr",
     "output_type": "stream",
     "text": [
      " 45%|████▌     | 426/938 [00:28<00:34, 14.66it/s]"
     ]
    },
    {
     "name": "stdout",
     "output_type": "stream",
     "text": [
      "mean_log_p,shapetorch.Size([]), -150.75897216796875\n",
      "mean_log_q.shapetorch.Size([]), -38.582733154296875\n",
      "mean_log_p,shapetorch.Size([]), -155.86767578125\n",
      "mean_log_q.shapetorch.Size([]), -38.4030876159668\n"
     ]
    },
    {
     "name": "stderr",
     "output_type": "stream",
     "text": [
      " 46%|████▌     | 428/938 [00:29<00:35, 14.24it/s]"
     ]
    },
    {
     "name": "stdout",
     "output_type": "stream",
     "text": [
      "mean_log_p,shapetorch.Size([]), -151.2412109375\n",
      "mean_log_q.shapetorch.Size([]), -38.72020721435547\n",
      "mean_log_p,shapetorch.Size([]), -154.73672485351562\n",
      "mean_log_q.shapetorch.Size([]), -38.52009582519531\n"
     ]
    },
    {
     "name": "stderr",
     "output_type": "stream",
     "text": [
      " 46%|████▌     | 430/938 [00:29<00:36, 13.93it/s]"
     ]
    },
    {
     "name": "stdout",
     "output_type": "stream",
     "text": [
      "mean_log_p,shapetorch.Size([]), -150.86524963378906\n",
      "mean_log_q.shapetorch.Size([]), -38.42292022705078\n",
      "mean_log_p,shapetorch.Size([]), -159.2494659423828\n",
      "mean_log_q.shapetorch.Size([]), -38.21976089477539\n",
      "mean_log_p,shapetorch.Size([]), -148.90792846679688\n",
      "mean_log_q.shapetorch.Size([]), -39.17995071411133\n"
     ]
    },
    {
     "name": "stderr",
     "output_type": "stream",
     "text": [
      " 46%|████▌     | 432/938 [00:29<00:37, 13.62it/s]"
     ]
    },
    {
     "name": "stdout",
     "output_type": "stream",
     "text": [
      "mean_log_p,shapetorch.Size([]), -153.62020874023438\n",
      "mean_log_q.shapetorch.Size([]), -39.76720428466797\n",
      "mean_log_p,shapetorch.Size([]), -159.5450897216797\n",
      "mean_log_q.shapetorch.Size([]), -39.84538269042969\n"
     ]
    },
    {
     "name": "stderr",
     "output_type": "stream",
     "text": [
      " 46%|████▋     | 434/938 [00:29<00:37, 13.48it/s]"
     ]
    },
    {
     "name": "stdout",
     "output_type": "stream",
     "text": [
      "mean_log_p,shapetorch.Size([]), -149.28292846679688\n",
      "mean_log_q.shapetorch.Size([]), -40.475914001464844\n",
      "mean_log_p,shapetorch.Size([]), -151.11477661132812\n",
      "mean_log_q.shapetorch.Size([]), -40.317237854003906\n"
     ]
    },
    {
     "name": "stderr",
     "output_type": "stream",
     "text": [
      " 46%|████▋     | 436/938 [00:29<00:37, 13.39it/s]"
     ]
    },
    {
     "name": "stdout",
     "output_type": "stream",
     "text": [
      "mean_log_p,shapetorch.Size([]), -158.9491424560547\n",
      "mean_log_q.shapetorch.Size([]), -39.497467041015625\n",
      "mean_log_p,shapetorch.Size([]), -160.43136596679688\n",
      "mean_log_q.shapetorch.Size([]), -39.38037872314453\n"
     ]
    },
    {
     "name": "stderr",
     "output_type": "stream",
     "text": [
      " 47%|████▋     | 438/938 [00:29<00:37, 13.27it/s]"
     ]
    },
    {
     "name": "stdout",
     "output_type": "stream",
     "text": [
      "mean_log_p,shapetorch.Size([]), -161.83367919921875\n",
      "mean_log_q.shapetorch.Size([]), -39.30194091796875\n",
      "mean_log_p,shapetorch.Size([]), -155.3762664794922\n",
      "mean_log_q.shapetorch.Size([]), -39.06211853027344\n"
     ]
    },
    {
     "name": "stderr",
     "output_type": "stream",
     "text": [
      " 47%|████▋     | 440/938 [00:30<00:37, 13.19it/s]"
     ]
    },
    {
     "name": "stdout",
     "output_type": "stream",
     "text": [
      "mean_log_p,shapetorch.Size([]), -150.5677490234375\n",
      "mean_log_q.shapetorch.Size([]), -39.27816390991211\n",
      "mean_log_p,shapetorch.Size([]), -159.11343383789062\n",
      "mean_log_q.shapetorch.Size([]), -38.04916763305664\n"
     ]
    },
    {
     "name": "stderr",
     "output_type": "stream",
     "text": [
      " 47%|████▋     | 442/938 [00:30<00:37, 13.15it/s]"
     ]
    },
    {
     "name": "stdout",
     "output_type": "stream",
     "text": [
      "mean_log_p,shapetorch.Size([]), -157.75209045410156\n",
      "mean_log_q.shapetorch.Size([]), -38.396209716796875\n",
      "mean_log_p,shapetorch.Size([]), -153.96849060058594\n",
      "mean_log_q.shapetorch.Size([]), -38.625457763671875\n"
     ]
    },
    {
     "name": "stderr",
     "output_type": "stream",
     "text": [
      " 47%|████▋     | 444/938 [00:30<00:37, 13.09it/s]"
     ]
    },
    {
     "name": "stdout",
     "output_type": "stream",
     "text": [
      "mean_log_p,shapetorch.Size([]), -153.48806762695312\n",
      "mean_log_q.shapetorch.Size([]), -39.87297821044922\n",
      "mean_log_p,shapetorch.Size([]), -156.45556640625\n",
      "mean_log_q.shapetorch.Size([]), -38.156700134277344\n"
     ]
    },
    {
     "name": "stderr",
     "output_type": "stream",
     "text": [
      " 48%|████▊     | 446/938 [00:30<00:37, 13.07it/s]"
     ]
    },
    {
     "name": "stdout",
     "output_type": "stream",
     "text": [
      "mean_log_p,shapetorch.Size([]), -156.67205810546875\n",
      "mean_log_q.shapetorch.Size([]), -38.16619873046875\n",
      "mean_log_p,shapetorch.Size([]), -149.26443481445312\n",
      "mean_log_q.shapetorch.Size([]), -39.67145919799805\n"
     ]
    },
    {
     "name": "stderr",
     "output_type": "stream",
     "text": [
      " 48%|████▊     | 448/938 [00:30<00:37, 13.10it/s]"
     ]
    },
    {
     "name": "stdout",
     "output_type": "stream",
     "text": [
      "mean_log_p,shapetorch.Size([]), -153.56434631347656\n",
      "mean_log_q.shapetorch.Size([]), -39.81507110595703\n",
      "mean_log_p,shapetorch.Size([]), -152.6966552734375\n",
      "mean_log_q.shapetorch.Size([]), -39.87190628051758\n"
     ]
    },
    {
     "name": "stderr",
     "output_type": "stream",
     "text": [
      " 48%|████▊     | 450/938 [00:30<00:37, 13.04it/s]"
     ]
    },
    {
     "name": "stdout",
     "output_type": "stream",
     "text": [
      "mean_log_p,shapetorch.Size([]), -162.70916748046875\n",
      "mean_log_q.shapetorch.Size([]), -39.149497985839844\n",
      "mean_log_p,shapetorch.Size([]), -154.23951721191406\n",
      "mean_log_q.shapetorch.Size([]), -38.95558166503906\n"
     ]
    },
    {
     "name": "stderr",
     "output_type": "stream",
     "text": [
      " 48%|████▊     | 452/938 [00:30<00:38, 12.70it/s]"
     ]
    },
    {
     "name": "stdout",
     "output_type": "stream",
     "text": [
      "mean_log_p,shapetorch.Size([]), -153.8768768310547\n",
      "mean_log_q.shapetorch.Size([]), -39.21492385864258\n",
      "mean_log_p,shapetorch.Size([]), -162.8885498046875\n",
      "mean_log_q.shapetorch.Size([]), -38.78578186035156\n"
     ]
    },
    {
     "name": "stderr",
     "output_type": "stream",
     "text": [
      " 48%|████▊     | 454/938 [00:31<00:38, 12.52it/s]"
     ]
    },
    {
     "name": "stdout",
     "output_type": "stream",
     "text": [
      "mean_log_p,shapetorch.Size([]), -155.14610290527344\n",
      "mean_log_q.shapetorch.Size([]), -39.06108856201172\n",
      "mean_log_p,shapetorch.Size([]), -152.97601318359375\n",
      "mean_log_q.shapetorch.Size([]), -38.9626350402832\n"
     ]
    },
    {
     "name": "stderr",
     "output_type": "stream",
     "text": [
      " 49%|████▊     | 456/938 [00:31<00:38, 12.50it/s]"
     ]
    },
    {
     "name": "stdout",
     "output_type": "stream",
     "text": [
      "mean_log_p,shapetorch.Size([]), -155.8941192626953\n",
      "mean_log_q.shapetorch.Size([]), -38.908836364746094\n",
      "mean_log_p,shapetorch.Size([]), -154.00245666503906\n",
      "mean_log_q.shapetorch.Size([]), -38.34191131591797\n"
     ]
    },
    {
     "name": "stderr",
     "output_type": "stream",
     "text": [
      " 49%|████▉     | 458/938 [00:31<00:38, 12.49it/s]"
     ]
    },
    {
     "name": "stdout",
     "output_type": "stream",
     "text": [
      "mean_log_p,shapetorch.Size([]), -157.22445678710938\n",
      "mean_log_q.shapetorch.Size([]), -38.277347564697266\n",
      "mean_log_p,shapetorch.Size([]), -151.2754364013672\n",
      "mean_log_q.shapetorch.Size([]), -38.575775146484375\n"
     ]
    },
    {
     "name": "stderr",
     "output_type": "stream",
     "text": [
      " 49%|████▉     | 462/938 [00:31<00:29, 16.18it/s]"
     ]
    },
    {
     "name": "stdout",
     "output_type": "stream",
     "text": [
      "mean_log_p,shapetorch.Size([]), -155.44766235351562\n",
      "mean_log_q.shapetorch.Size([]), -38.87109375\n",
      "mean_log_p,shapetorch.Size([]), -147.432373046875\n",
      "mean_log_q.shapetorch.Size([]), -38.87128448486328\n"
     ]
    },
    {
     "name": "stderr",
     "output_type": "stream",
     "text": [
      " 49%|████▉     | 464/938 [00:31<00:31, 14.85it/s]"
     ]
    },
    {
     "name": "stdout",
     "output_type": "stream",
     "text": [
      "mean_log_p,shapetorch.Size([]), -150.6370849609375\n",
      "mean_log_q.shapetorch.Size([]), -39.755496978759766\n",
      "mean_log_p,shapetorch.Size([]), -158.61558532714844\n",
      "mean_log_q.shapetorch.Size([]), -39.49821472167969\n"
     ]
    },
    {
     "name": "stderr",
     "output_type": "stream",
     "text": [
      " 50%|████▉     | 466/938 [00:31<00:33, 14.20it/s]"
     ]
    },
    {
     "name": "stdout",
     "output_type": "stream",
     "text": [
      "mean_log_p,shapetorch.Size([]), -160.80682373046875\n",
      "mean_log_q.shapetorch.Size([]), -39.181976318359375\n",
      "mean_log_p,shapetorch.Size([]), -156.5089874267578\n",
      "mean_log_q.shapetorch.Size([]), -39.5866813659668\n"
     ]
    },
    {
     "name": "stderr",
     "output_type": "stream",
     "text": [
      " 50%|████▉     | 468/938 [00:32<00:34, 13.66it/s]"
     ]
    },
    {
     "name": "stdout",
     "output_type": "stream",
     "text": [
      "mean_log_p,shapetorch.Size([]), -160.990234375\n",
      "mean_log_q.shapetorch.Size([]), -39.256107330322266\n",
      "mean_log_p,shapetorch.Size([]), -148.9283447265625\n",
      "mean_log_q.shapetorch.Size([]), -39.20857620239258\n"
     ]
    },
    {
     "name": "stderr",
     "output_type": "stream",
     "text": [
      " 50%|█████     | 470/938 [00:32<00:35, 13.10it/s]"
     ]
    },
    {
     "name": "stdout",
     "output_type": "stream",
     "text": [
      "mean_log_p,shapetorch.Size([]), -161.1396484375\n",
      "mean_log_q.shapetorch.Size([]), -39.11853790283203\n",
      "mean_log_p,shapetorch.Size([]), -155.2943115234375\n",
      "mean_log_q.shapetorch.Size([]), -38.95758056640625\n"
     ]
    },
    {
     "name": "stderr",
     "output_type": "stream",
     "text": [
      " 50%|█████     | 472/938 [00:32<00:36, 12.81it/s]"
     ]
    },
    {
     "name": "stdout",
     "output_type": "stream",
     "text": [
      "mean_log_p,shapetorch.Size([]), -160.05422973632812\n",
      "mean_log_q.shapetorch.Size([]), -38.75739288330078\n",
      "mean_log_p,shapetorch.Size([]), -160.97183227539062\n",
      "mean_log_q.shapetorch.Size([]), -38.17852020263672\n"
     ]
    },
    {
     "name": "stderr",
     "output_type": "stream",
     "text": [
      " 51%|█████     | 474/938 [00:32<00:36, 12.58it/s]"
     ]
    },
    {
     "name": "stdout",
     "output_type": "stream",
     "text": [
      "mean_log_p,shapetorch.Size([]), -160.84190368652344\n",
      "mean_log_q.shapetorch.Size([]), -37.97296142578125\n",
      "mean_log_p,shapetorch.Size([]), -158.87106323242188\n",
      "mean_log_q.shapetorch.Size([]), -38.05195617675781\n"
     ]
    },
    {
     "name": "stderr",
     "output_type": "stream",
     "text": [
      " 51%|█████     | 476/938 [00:32<00:37, 12.44it/s]"
     ]
    },
    {
     "name": "stdout",
     "output_type": "stream",
     "text": [
      "mean_log_p,shapetorch.Size([]), -157.9923553466797\n",
      "mean_log_q.shapetorch.Size([]), -39.230648040771484\n",
      "mean_log_p,shapetorch.Size([]), -164.70925903320312\n",
      "mean_log_q.shapetorch.Size([]), -37.91817855834961\n"
     ]
    },
    {
     "name": "stderr",
     "output_type": "stream",
     "text": [
      " 51%|█████     | 478/938 [00:32<00:37, 12.13it/s]"
     ]
    },
    {
     "name": "stdout",
     "output_type": "stream",
     "text": [
      "mean_log_p,shapetorch.Size([]), -156.70516967773438\n",
      "mean_log_q.shapetorch.Size([]), -38.38119888305664\n",
      "mean_log_p,shapetorch.Size([]), -159.20773315429688\n",
      "mean_log_q.shapetorch.Size([]), -38.644596099853516\n"
     ]
    },
    {
     "name": "stderr",
     "output_type": "stream",
     "text": [
      " 51%|█████     | 480/938 [00:33<00:37, 12.07it/s]"
     ]
    },
    {
     "name": "stdout",
     "output_type": "stream",
     "text": [
      "mean_log_p,shapetorch.Size([]), -154.20352172851562\n",
      "mean_log_q.shapetorch.Size([]), -37.74542236328125\n",
      "mean_log_p,shapetorch.Size([]), -158.34429931640625\n",
      "mean_log_q.shapetorch.Size([]), -38.82231140136719\n"
     ]
    },
    {
     "name": "stderr",
     "output_type": "stream",
     "text": [
      " 51%|█████▏    | 482/938 [00:33<00:37, 12.02it/s]"
     ]
    },
    {
     "name": "stdout",
     "output_type": "stream",
     "text": [
      "mean_log_p,shapetorch.Size([]), -155.97409057617188\n",
      "mean_log_q.shapetorch.Size([]), -39.65666198730469\n",
      "mean_log_p,shapetorch.Size([]), -152.46197509765625\n",
      "mean_log_q.shapetorch.Size([]), -39.325111389160156\n"
     ]
    },
    {
     "name": "stderr",
     "output_type": "stream",
     "text": [
      " 52%|█████▏    | 484/938 [00:33<00:37, 12.03it/s]"
     ]
    },
    {
     "name": "stdout",
     "output_type": "stream",
     "text": [
      "mean_log_p,shapetorch.Size([]), -151.73089599609375\n",
      "mean_log_q.shapetorch.Size([]), -39.127723693847656\n",
      "mean_log_p,shapetorch.Size([]), -155.85049438476562\n",
      "mean_log_q.shapetorch.Size([]), -39.49267578125\n"
     ]
    },
    {
     "name": "stderr",
     "output_type": "stream",
     "text": [
      " 52%|█████▏    | 486/938 [00:33<00:37, 12.12it/s]"
     ]
    },
    {
     "name": "stdout",
     "output_type": "stream",
     "text": [
      "mean_log_p,shapetorch.Size([]), -150.2755889892578\n",
      "mean_log_q.shapetorch.Size([]), -39.60389709472656\n",
      "mean_log_p,shapetorch.Size([]), -150.55340576171875\n",
      "mean_log_q.shapetorch.Size([]), -39.46099090576172\n"
     ]
    },
    {
     "name": "stderr",
     "output_type": "stream",
     "text": [
      " 52%|█████▏    | 488/938 [00:33<00:36, 12.26it/s]"
     ]
    },
    {
     "name": "stdout",
     "output_type": "stream",
     "text": [
      "mean_log_p,shapetorch.Size([]), -164.29708862304688\n",
      "mean_log_q.shapetorch.Size([]), -39.00770950317383\n",
      "mean_log_p,shapetorch.Size([]), -157.7795867919922\n",
      "mean_log_q.shapetorch.Size([]), -40.41803741455078\n"
     ]
    },
    {
     "name": "stderr",
     "output_type": "stream",
     "text": [
      " 52%|█████▏    | 490/938 [00:33<00:36, 12.34it/s]"
     ]
    },
    {
     "name": "stdout",
     "output_type": "stream",
     "text": [
      "mean_log_p,shapetorch.Size([]), -157.585205078125\n",
      "mean_log_q.shapetorch.Size([]), -39.054107666015625\n",
      "mean_log_p,shapetorch.Size([]), -151.81417846679688\n",
      "mean_log_q.shapetorch.Size([]), -39.05774688720703\n"
     ]
    },
    {
     "name": "stderr",
     "output_type": "stream",
     "text": [
      " 52%|█████▏    | 492/938 [00:34<00:36, 12.25it/s]"
     ]
    },
    {
     "name": "stdout",
     "output_type": "stream",
     "text": [
      "mean_log_p,shapetorch.Size([]), -151.9925079345703\n",
      "mean_log_q.shapetorch.Size([]), -38.87430191040039\n",
      "mean_log_p,shapetorch.Size([]), -159.32688903808594\n",
      "mean_log_q.shapetorch.Size([]), -38.45955276489258\n"
     ]
    },
    {
     "name": "stderr",
     "output_type": "stream",
     "text": [
      " 53%|█████▎    | 494/938 [00:34<00:36, 12.15it/s]"
     ]
    },
    {
     "name": "stdout",
     "output_type": "stream",
     "text": [
      "mean_log_p,shapetorch.Size([]), -152.6390380859375\n",
      "mean_log_q.shapetorch.Size([]), -38.30540084838867\n",
      "mean_log_p,shapetorch.Size([]), -155.71896362304688\n",
      "mean_log_q.shapetorch.Size([]), -38.1364860534668\n"
     ]
    },
    {
     "name": "stderr",
     "output_type": "stream",
     "text": [
      " 53%|█████▎    | 496/938 [00:34<00:36, 12.21it/s]"
     ]
    },
    {
     "name": "stdout",
     "output_type": "stream",
     "text": [
      "mean_log_p,shapetorch.Size([]), -156.42282104492188\n",
      "mean_log_q.shapetorch.Size([]), -37.66177749633789\n",
      "mean_log_p,shapetorch.Size([]), -150.57366943359375\n",
      "mean_log_q.shapetorch.Size([]), -37.55693054199219\n"
     ]
    },
    {
     "name": "stderr",
     "output_type": "stream",
     "text": [
      " 53%|█████▎    | 498/938 [00:34<00:36, 12.03it/s]"
     ]
    },
    {
     "name": "stdout",
     "output_type": "stream",
     "text": [
      "mean_log_p,shapetorch.Size([]), -157.32859802246094\n",
      "mean_log_q.shapetorch.Size([]), -37.6907958984375\n",
      "mean_log_p,shapetorch.Size([]), -155.53436279296875\n",
      "mean_log_q.shapetorch.Size([]), -37.566253662109375\n"
     ]
    },
    {
     "name": "stderr",
     "output_type": "stream",
     "text": [
      " 53%|█████▎    | 500/938 [00:34<00:35, 12.19it/s]"
     ]
    },
    {
     "name": "stdout",
     "output_type": "stream",
     "text": [
      "mean_log_p,shapetorch.Size([]), -159.39785766601562\n",
      "mean_log_q.shapetorch.Size([]), -38.61080551147461\n",
      "mean_log_p,shapetorch.Size([]), -158.80795288085938\n",
      "mean_log_q.shapetorch.Size([]), -38.55915069580078\n"
     ]
    },
    {
     "name": "stderr",
     "output_type": "stream",
     "text": [
      " 54%|█████▎    | 502/938 [00:34<00:36, 12.05it/s]"
     ]
    },
    {
     "name": "stdout",
     "output_type": "stream",
     "text": [
      "mean_log_p,shapetorch.Size([]), -157.0555419921875\n",
      "mean_log_q.shapetorch.Size([]), -39.20677947998047\n",
      "mean_log_p,shapetorch.Size([]), -161.895263671875\n",
      "mean_log_q.shapetorch.Size([]), -39.708778381347656\n"
     ]
    },
    {
     "name": "stderr",
     "output_type": "stream",
     "text": [
      " 54%|█████▍    | 506/938 [00:35<00:27, 15.76it/s]"
     ]
    },
    {
     "name": "stdout",
     "output_type": "stream",
     "text": [
      "mean_log_p,shapetorch.Size([]), -151.53445434570312\n",
      "mean_log_q.shapetorch.Size([]), -40.622920989990234\n",
      "mean_log_p,shapetorch.Size([]), -155.95870971679688\n",
      "mean_log_q.shapetorch.Size([]), -39.08697509765625\n"
     ]
    },
    {
     "name": "stderr",
     "output_type": "stream",
     "text": [
      " 54%|█████▍    | 508/938 [00:35<00:29, 14.73it/s]"
     ]
    },
    {
     "name": "stdout",
     "output_type": "stream",
     "text": [
      "mean_log_p,shapetorch.Size([]), -150.7311553955078\n",
      "mean_log_q.shapetorch.Size([]), -40.528385162353516\n",
      "mean_log_p,shapetorch.Size([]), -155.41748046875\n",
      "mean_log_q.shapetorch.Size([]), -39.13007354736328\n"
     ]
    },
    {
     "name": "stderr",
     "output_type": "stream",
     "text": [
      " 54%|█████▍    | 510/938 [00:35<00:30, 14.17it/s]"
     ]
    },
    {
     "name": "stdout",
     "output_type": "stream",
     "text": [
      "mean_log_p,shapetorch.Size([]), -158.9394989013672\n",
      "mean_log_q.shapetorch.Size([]), -39.210350036621094\n",
      "mean_log_p,shapetorch.Size([]), -148.54376220703125\n",
      "mean_log_q.shapetorch.Size([]), -39.07366180419922\n"
     ]
    },
    {
     "name": "stderr",
     "output_type": "stream",
     "text": [
      " 55%|█████▍    | 512/938 [00:35<00:30, 13.77it/s]"
     ]
    },
    {
     "name": "stdout",
     "output_type": "stream",
     "text": [
      "mean_log_p,shapetorch.Size([]), -158.16607666015625\n",
      "mean_log_q.shapetorch.Size([]), -39.00177001953125\n",
      "mean_log_p,shapetorch.Size([]), -149.71803283691406\n",
      "mean_log_q.shapetorch.Size([]), -39.155128479003906\n"
     ]
    },
    {
     "name": "stderr",
     "output_type": "stream",
     "text": [
      " 55%|█████▍    | 514/938 [00:35<00:31, 13.35it/s]"
     ]
    },
    {
     "name": "stdout",
     "output_type": "stream",
     "text": [
      "mean_log_p,shapetorch.Size([]), -150.765625\n",
      "mean_log_q.shapetorch.Size([]), -38.509456634521484\n",
      "mean_log_p,shapetorch.Size([]), -157.14849853515625\n",
      "mean_log_q.shapetorch.Size([]), -38.279781341552734\n"
     ]
    },
    {
     "name": "stderr",
     "output_type": "stream",
     "text": [
      " 55%|█████▌    | 516/938 [00:35<00:32, 12.92it/s]"
     ]
    },
    {
     "name": "stdout",
     "output_type": "stream",
     "text": [
      "mean_log_p,shapetorch.Size([]), -162.91722106933594\n",
      "mean_log_q.shapetorch.Size([]), -38.62202835083008\n",
      "mean_log_p,shapetorch.Size([]), -163.59893798828125\n",
      "mean_log_q.shapetorch.Size([]), -37.642578125\n"
     ]
    },
    {
     "name": "stderr",
     "output_type": "stream",
     "text": [
      " 55%|█████▌    | 518/938 [00:36<00:33, 12.40it/s]"
     ]
    },
    {
     "name": "stdout",
     "output_type": "stream",
     "text": [
      "mean_log_p,shapetorch.Size([]), -153.9075927734375\n",
      "mean_log_q.shapetorch.Size([]), -38.93017578125\n",
      "mean_log_p,shapetorch.Size([]), -154.54263305664062\n",
      "mean_log_q.shapetorch.Size([]), -37.80706787109375\n"
     ]
    },
    {
     "name": "stderr",
     "output_type": "stream",
     "text": [
      " 55%|█████▌    | 520/938 [00:36<00:34, 12.08it/s]"
     ]
    },
    {
     "name": "stdout",
     "output_type": "stream",
     "text": [
      "mean_log_p,shapetorch.Size([]), -151.79348754882812\n",
      "mean_log_q.shapetorch.Size([]), -38.06523895263672\n"
     ]
    },
    {
     "name": "stderr",
     "output_type": "stream",
     "text": [
      " 51%|█████     | 475/938 [00:36<00:35, 13.08it/s]\n"
     ]
    },
    {
     "ename": "KeyboardInterrupt",
     "evalue": "",
     "output_type": "error",
     "traceback": [
      "\u001b[0;31m---------------------------------------------------------------------------\u001b[0m",
      "\u001b[0;31mKeyboardInterrupt\u001b[0m                         Traceback (most recent call last)",
      "Cell \u001b[0;32mIn[5], line 26\u001b[0m\n\u001b[1;32m     23\u001b[0m recon_loss \u001b[38;5;241m=\u001b[39m torch\u001b[38;5;241m.\u001b[39mnn\u001b[38;5;241m.\u001b[39mfunctional\u001b[38;5;241m.\u001b[39mbinary_cross_entropy(recon_x, x_expand, reduction\u001b[38;5;241m=\u001b[39m\u001b[38;5;124m'\u001b[39m\u001b[38;5;124mmean\u001b[39m\u001b[38;5;124m'\u001b[39m)\n\u001b[1;32m     25\u001b[0m loss \u001b[38;5;241m=\u001b[39m kl_loss \u001b[38;5;241m+\u001b[39m recon_loss\n\u001b[0;32m---> 26\u001b[0m \u001b[43mloss\u001b[49m\u001b[38;5;241;43m.\u001b[39;49m\u001b[43mbackward\u001b[49m\u001b[43m(\u001b[49m\u001b[43m)\u001b[49m\n\u001b[1;32m     27\u001b[0m optimizer\u001b[38;5;241m.\u001b[39mstep()\n\u001b[1;32m     28\u001b[0m progressbar\u001b[38;5;241m.\u001b[39mupdate()\n",
      "File \u001b[0;32m~/anaconda3/envs/yzwT2V/lib/python3.9/site-packages/torch/_tensor.py:488\u001b[0m, in \u001b[0;36mTensor.backward\u001b[0;34m(self, gradient, retain_graph, create_graph, inputs)\u001b[0m\n\u001b[1;32m    478\u001b[0m \u001b[38;5;28;01mif\u001b[39;00m has_torch_function_unary(\u001b[38;5;28mself\u001b[39m):\n\u001b[1;32m    479\u001b[0m     \u001b[38;5;28;01mreturn\u001b[39;00m handle_torch_function(\n\u001b[1;32m    480\u001b[0m         Tensor\u001b[38;5;241m.\u001b[39mbackward,\n\u001b[1;32m    481\u001b[0m         (\u001b[38;5;28mself\u001b[39m,),\n\u001b[0;32m   (...)\u001b[0m\n\u001b[1;32m    486\u001b[0m         inputs\u001b[38;5;241m=\u001b[39minputs,\n\u001b[1;32m    487\u001b[0m     )\n\u001b[0;32m--> 488\u001b[0m \u001b[43mtorch\u001b[49m\u001b[38;5;241;43m.\u001b[39;49m\u001b[43mautograd\u001b[49m\u001b[38;5;241;43m.\u001b[39;49m\u001b[43mbackward\u001b[49m\u001b[43m(\u001b[49m\n\u001b[1;32m    489\u001b[0m \u001b[43m    \u001b[49m\u001b[38;5;28;43mself\u001b[39;49m\u001b[43m,\u001b[49m\u001b[43m \u001b[49m\u001b[43mgradient\u001b[49m\u001b[43m,\u001b[49m\u001b[43m \u001b[49m\u001b[43mretain_graph\u001b[49m\u001b[43m,\u001b[49m\u001b[43m \u001b[49m\u001b[43mcreate_graph\u001b[49m\u001b[43m,\u001b[49m\u001b[43m \u001b[49m\u001b[43minputs\u001b[49m\u001b[38;5;241;43m=\u001b[39;49m\u001b[43minputs\u001b[49m\n\u001b[1;32m    490\u001b[0m \u001b[43m\u001b[49m\u001b[43m)\u001b[49m\n",
      "File \u001b[0;32m~/anaconda3/envs/yzwT2V/lib/python3.9/site-packages/torch/autograd/__init__.py:197\u001b[0m, in \u001b[0;36mbackward\u001b[0;34m(tensors, grad_tensors, retain_graph, create_graph, grad_variables, inputs)\u001b[0m\n\u001b[1;32m    192\u001b[0m     retain_graph \u001b[38;5;241m=\u001b[39m create_graph\n\u001b[1;32m    194\u001b[0m \u001b[38;5;66;03m# The reason we repeat same the comment below is that\u001b[39;00m\n\u001b[1;32m    195\u001b[0m \u001b[38;5;66;03m# some Python versions print out the first line of a multi-line function\u001b[39;00m\n\u001b[1;32m    196\u001b[0m \u001b[38;5;66;03m# calls in the traceback and some print out the last line\u001b[39;00m\n\u001b[0;32m--> 197\u001b[0m \u001b[43mVariable\u001b[49m\u001b[38;5;241;43m.\u001b[39;49m\u001b[43m_execution_engine\u001b[49m\u001b[38;5;241;43m.\u001b[39;49m\u001b[43mrun_backward\u001b[49m\u001b[43m(\u001b[49m\u001b[43m  \u001b[49m\u001b[38;5;66;43;03m# Calls into the C++ engine to run the backward pass\u001b[39;49;00m\n\u001b[1;32m    198\u001b[0m \u001b[43m    \u001b[49m\u001b[43mtensors\u001b[49m\u001b[43m,\u001b[49m\u001b[43m \u001b[49m\u001b[43mgrad_tensors_\u001b[49m\u001b[43m,\u001b[49m\u001b[43m \u001b[49m\u001b[43mretain_graph\u001b[49m\u001b[43m,\u001b[49m\u001b[43m \u001b[49m\u001b[43mcreate_graph\u001b[49m\u001b[43m,\u001b[49m\u001b[43m \u001b[49m\u001b[43minputs\u001b[49m\u001b[43m,\u001b[49m\n\u001b[1;32m    199\u001b[0m \u001b[43m    \u001b[49m\u001b[43mallow_unreachable\u001b[49m\u001b[38;5;241;43m=\u001b[39;49m\u001b[38;5;28;43;01mTrue\u001b[39;49;00m\u001b[43m,\u001b[49m\u001b[43m \u001b[49m\u001b[43maccumulate_grad\u001b[49m\u001b[38;5;241;43m=\u001b[39;49m\u001b[38;5;28;43;01mTrue\u001b[39;49;00m\u001b[43m)\u001b[49m\n",
      "\u001b[0;31mKeyboardInterrupt\u001b[0m: "
     ]
    }
   ],
   "source": [
    "# Train model\n",
    "log_intv = 100\n",
    "optimizer = optim.Adam(nfm.parameters(), lr=1e-4, weight_decay=1e-4)\n",
    "for epoch in range(n_epochs):\n",
    "    progressbar = tqdm(enumerate(train_loader), total=len(train_loader))\n",
    "    for batch_n, (x, n) in progressbar:\n",
    "        x = x.to(device)\n",
    "        optimizer.zero_grad()\n",
    "        z, log_q, log_p = nfm(x.view(x.size(0) * x.size(1), 28 ** 2), num_samples)\n",
    "        \n",
    "        recon_x = nfm.decoder(z)\n",
    "        mean_log_q = torch.mean(log_q)\n",
    "        mean_log_p = torch.mean(log_p)\n",
    "\n",
    "        print(\"mean_log_p,shape{}, {}\".format(mean_log_p.shape, mean_log_p))\n",
    "        print(\"mean_log_q.shape{}, {}\".format(mean_log_q.shape, mean_log_q))\n",
    "        kl_loss = mean_log_q - mean_log_p\n",
    "        try:\n",
    "            x_expand = x.view(64, 1, -1).expand_as(recon_x)\n",
    "        except:\n",
    "            x_expand = x.view(32, 1, -1).expand_as(recon_x)\n",
    "    \n",
    "        recon_loss = torch.nn.functional.binary_cross_entropy(recon_x, x_expand, reduction='mean')\n",
    "        \n",
    "        loss = kl_loss + recon_loss\n",
    "        loss.backward()\n",
    "        optimizer.step()\n",
    "        progressbar.update()\n",
    "    progressbar.close()\n",
    "    print('Train Epoch: {} [{}/{} ({:.0f}%)]\\tLoss: {:.6f}'.format(\n",
    "                epoch, batch_n * len(x), len(train_loader.dataset),\n",
    "                       100. * batch_n / len(train_loader),\n",
    "                       loss.item()))"
   ]
  },
  {
   "cell_type": "code",
   "execution_count": 1,
   "metadata": {},
   "outputs": [
    {
     "ename": "NameError",
     "evalue": "name 'nfm' is not defined",
     "output_type": "error",
     "traceback": [
      "\u001b[0;31m---------------------------------------------------------------------------\u001b[0m",
      "\u001b[0;31mNameError\u001b[0m                                 Traceback (most recent call last)",
      "Cell \u001b[0;32mIn[1], line 1\u001b[0m\n\u001b[0;32m----> 1\u001b[0m x_out \u001b[38;5;241m=\u001b[39m \u001b[43mnfm\u001b[49m\u001b[38;5;241m.\u001b[39mdecoder(torch\u001b[38;5;241m.\u001b[39mrandn((\u001b[38;5;241m1\u001b[39m, n_bottleneck), device\u001b[38;5;241m=\u001b[39mdevice))\n\u001b[1;32m      2\u001b[0m x_np \u001b[38;5;241m=\u001b[39m x_out\u001b[38;5;241m.\u001b[39mview((\u001b[38;5;241m28\u001b[39m, \u001b[38;5;241m28\u001b[39m))\u001b[38;5;241m.\u001b[39mto(\u001b[38;5;124m'\u001b[39m\u001b[38;5;124mcpu\u001b[39m\u001b[38;5;124m'\u001b[39m)\u001b[38;5;241m.\u001b[39mdetach()\u001b[38;5;241m.\u001b[39mnumpy()\n\u001b[1;32m      3\u001b[0m plt\u001b[38;5;241m.\u001b[39mimshow(x_np)\n",
      "\u001b[0;31mNameError\u001b[0m: name 'nfm' is not defined"
     ]
    }
   ],
   "source": [
    "x_out = nfm.decoder(torch.randn((1, n_bottleneck), device=device))\n",
    "x_np = x_out.view((28, 28)).to('cpu').detach().numpy()\n",
    "plt.imshow(x_np)\n",
    "plt.show()"
   ]
  },
  {
   "cell_type": "code",
   "execution_count": 9,
   "metadata": {},
   "outputs": [
    {
     "name": "stdout",
     "output_type": "stream",
     "text": [
      "torch.Size([64, 32, 64])\n",
      "torch.Size([64, 32])\n",
      "torch.Size([64])\n",
      "torch.Size([2048, 64])\n"
     ]
    },
    {
     "ename": "IndexError",
     "evalue": "tuple index out of range",
     "output_type": "error",
     "traceback": [
      "\u001b[0;31m---------------------------------------------------------------------------\u001b[0m",
      "\u001b[0;31mIndexError\u001b[0m                                Traceback (most recent call last)",
      "Cell \u001b[0;32mIn[9], line 16\u001b[0m\n\u001b[1;32m     12\u001b[0m z \u001b[38;5;241m=\u001b[39m z\u001b[38;5;241m.\u001b[39mview(\u001b[38;5;241m-\u001b[39m\u001b[38;5;241m1\u001b[39m, \u001b[38;5;241m*\u001b[39mz\u001b[38;5;241m.\u001b[39msize()[\u001b[38;5;241m2\u001b[39m:])\n\u001b[1;32m     14\u001b[0m \u001b[38;5;28mprint\u001b[39m(z\u001b[38;5;241m.\u001b[39mshape)\n\u001b[0;32m---> 16\u001b[0m \u001b[38;5;28mprint\u001b[39m(\u001b[43mz\u001b[49m\u001b[38;5;241;43m.\u001b[39;49m\u001b[43msize\u001b[49m\u001b[43m(\u001b[49m\u001b[43m)\u001b[49m\u001b[43m[\u001b[49m\u001b[38;5;241;43m2\u001b[39;49m\u001b[43m]\u001b[49m)\n",
      "\u001b[0;31mIndexError\u001b[0m: tuple index out of range"
     ]
    }
   ],
   "source": [
    "import torch\n",
    "q0 = torch.distributions.MultivariateNormal(torch.zeros(64), torch.eye(64))\n",
    "z = torch.randn(64, 32, 64)\n",
    "\n",
    "# if is independent, log(q) = logq_1 + logq_2 + ... + logq_n\n",
    "a= q0.log_prob(z)\n",
    "print(z.shape)\n",
    "print(a.shape)\n",
    "\n",
    "print(z.size()[2:])\n",
    "\n",
    "z = z.view(-1, *z.size()[2:])\n",
    "\n",
    "print(z.shape)\n",
    "\n",
    "print(z.size()[2])\n",
    "\n"
   ]
  },
  {
   "cell_type": "code",
   "execution_count": null,
   "metadata": {},
   "outputs": [],
   "source": []
  }
 ],
 "metadata": {
  "kernelspec": {
   "display_name": "Python 3 (ipykernel)",
   "language": "python",
   "name": "python3"
  },
  "language_info": {
   "codemirror_mode": {
    "name": "ipython",
    "version": 3
   },
   "file_extension": ".py",
   "mimetype": "text/x-python",
   "name": "python",
   "nbconvert_exporter": "python",
   "pygments_lexer": "ipython3",
   "version": "3.9.18"
  }
 },
 "nbformat": 4,
 "nbformat_minor": 4
}
