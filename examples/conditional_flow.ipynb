{
 "cells": [
  {
   "cell_type": "markdown",
   "id": "98300ae7",
   "metadata": {},
   "source": [
    "# Conditional Normalizing Flow Model"
   ]
  },
  {
   "cell_type": "markdown",
   "id": "4dcd74be",
   "metadata": {},
   "source": [
    "Here, we train a conditional normalizing flow model $q(x|c)$. Our target $p(x|c)$ is a simple 2D Gaussian $\\mathcal{N}(x|\\mu, \\sigma)$, where we condition on the mean $\\mu$ and standard deviation $\\sigma$, i.e. $c = (\\mu, \\sigma)$. We apply a conditional autoregressive neural spline flow and a conditional masked autoregressive flow to the problem."
   ]
  },
  {
   "cell_type": "markdown",
   "id": "800ae93f",
   "metadata": {},
   "source": [
    "## Setup"
   ]
  },
  {
   "cell_type": "code",
   "execution_count": null,
   "id": "7f293277",
   "metadata": {},
   "outputs": [],
   "source": [
    "# Import packages\n",
    "import torch\n",
    "import numpy as np\n",
    "import normflows as nf\n",
    "\n",
    "from matplotlib import pyplot as plt\n",
    "\n",
    "from tqdm import tqdm"
   ]
  },
  {
   "cell_type": "code",
   "execution_count": null,
   "id": "f879b0d7",
   "metadata": {},
   "outputs": [],
   "source": [
    "# Get device to be used\n",
    "device = torch.device('cuda' if torch.cuda.is_available() else 'cpu')"
   ]
  },
  {
   "cell_type": "code",
   "execution_count": null,
   "id": "1da0f36b",
   "metadata": {},
   "outputs": [],
   "source": [
    "# Define target\n",
    "target = nf.distributions.target.ConditionalDiagGaussian()\n",
    "context_size = 4\n",
    "\n",
    "# Plot target\n",
    "grid_size = 100\n",
    "xx, yy = torch.meshgrid(torch.linspace(-2, 2, grid_size), torch.linspace(-2, 2, grid_size), indexing='ij')\n",
    "zz = torch.cat([xx.unsqueeze(2), yy.unsqueeze(2)], 2).view(-1, 2)\n",
    "zz = zz.to(device)\n",
    "context_plot = torch.cat([torch.tensor([0.3, 0.9]).to(device) + torch.zeros_like(zz), \n",
    "                          0.6 * torch.ones_like(zz)], dim=-1)\n",
    "logp = target.log_prob(zz, context_plot)\n",
    "p_target = torch.exp(logp).view(*xx.shape).cpu().data.numpy()\n",
    "\n",
    "plt.figure(figsize=(10, 10))\n",
    "plt.pcolormesh(xx, yy, p_target, shading='auto')\n",
    "plt.gca().set_aspect('equal', 'box')\n",
    "plt.show()"
   ]
  },
  {
   "cell_type": "markdown",
   "id": "253c7e56",
   "metadata": {},
   "source": [
    "## Autoregressive Neural Spline Flow"
   ]
  },
  {
   "cell_type": "markdown",
   "id": "f8fa2c33",
   "metadata": {},
   "source": [
    "### Model specification"
   ]
  },
  {
   "cell_type": "code",
   "execution_count": null,
   "id": "07aad838",
   "metadata": {},
   "outputs": [],
   "source": [
    "# Define flows\n",
    "K = 4\n",
    "\n",
    "latent_size = 2\n",
    "hidden_units = 128\n",
    "hidden_layers = 2\n",
    "\n",
    "flows = []\n",
    "for i in range(K):\n",
    "    flows += [nf.flows.AutoregressiveRationalQuadraticSpline(latent_size, hidden_layers, hidden_units, \n",
    "                                                             num_context_channels=context_size)]\n",
    "    flows += [nf.flows.LULinearPermute(latent_size)]\n",
    "\n",
    "# Set base distribution\n",
    "q0 = nf.distributions.DiagGaussian(2, trainable=False)\n",
    "    \n",
    "# Construct flow model\n",
    "model = nf.ConditionalNormalizingFlow(q0, flows, target)\n",
    "\n",
    "# Move model on GPU if available\n",
    "model = model.to(device)"
   ]
  },
  {
   "cell_type": "code",
   "execution_count": null,
   "id": "ed5033a9",
   "metadata": {},
   "outputs": [],
   "source": [
    "# Plot initial flow distribution, target as contours\n",
    "model.eval()\n",
    "log_prob = model.log_prob(zz, context_plot).to('cpu').view(*xx.shape)\n",
    "model.train()\n",
    "prob = torch.exp(log_prob)\n",
    "prob[torch.isnan(prob)] = 0\n",
    "\n",
    "plt.figure(figsize=(10, 10))\n",
    "plt.pcolormesh(xx, yy, prob.data.numpy(), shading='auto')\n",
    "plt.contour(xx, yy, p_target, cmap=plt.get_cmap('cool'), linewidths=2)\n",
    "plt.gca().set_aspect('equal', 'box')\n",
    "plt.show()"
   ]
  },
  {
   "cell_type": "markdown",
   "id": "9efbd3cc",
   "metadata": {},
   "source": [
    "### Training"
   ]
  },
  {
   "cell_type": "code",
   "execution_count": null,
   "id": "c623fcd5",
   "metadata": {},
   "outputs": [],
   "source": [
    "# Train model\n",
    "max_iter = 5000\n",
    "batch_size= 128\n",
    "\n",
    "loss_hist = np.array([])\n",
    "\n",
    "optimizer = torch.optim.Adam(model.parameters(), lr=3e-4, weight_decay=1e-5)\n",
    "\n",
    "\n",
    "for it in tqdm(range(max_iter)):\n",
    "    optimizer.zero_grad()\n",
    "    \n",
    "    # Get training samples\n",
    "    context = torch.cat([torch.randn((batch_size, 2), device=device), \n",
    "                         0.5 + 0.5 * torch.rand((batch_size, 2), device=device)], \n",
    "                        dim=-1)\n",
    "    x = target.sample(batch_size, context)\n",
    "    \n",
    "    # Compute loss\n",
    "    loss = model.forward_kld(x, context)\n",
    "    \n",
    "    # Do backprop and optimizer step\n",
    "    if ~(torch.isnan(loss) | torch.isinf(loss)):\n",
    "        loss.backward()\n",
    "        optimizer.step()\n",
    "    \n",
    "    # Log loss\n",
    "    loss_hist = np.append(loss_hist, loss.to('cpu').data.numpy())\n",
    "\n",
    "# Plot loss\n",
    "plt.figure(figsize=(10, 10))\n",
    "plt.plot(loss_hist, label='loss')\n",
    "plt.legend()\n",
    "plt.show()"
   ]
  },
  {
   "cell_type": "markdown",
   "id": "9075d739",
   "metadata": {},
   "source": [
    "### Evaluation"
   ]
  },
  {
   "cell_type": "code",
   "execution_count": null,
   "id": "0c71f812",
   "metadata": {},
   "outputs": [],
   "source": [
    "# Plot trained flow distribution, target as contours\n",
    "model.eval()\n",
    "log_prob = model.log_prob(zz, context_plot).to('cpu').view(*xx.shape)\n",
    "model.train()\n",
    "prob = torch.exp(log_prob)\n",
    "prob[torch.isnan(prob)] = 0\n",
    "\n",
    "plt.figure(figsize=(10, 10))\n",
    "plt.pcolormesh(xx, yy, prob.data.numpy(), shading='auto')\n",
    "plt.contour(xx, yy, p_target, cmap=plt.get_cmap('cool'), linewidths=2)\n",
    "plt.gca().set_aspect('equal', 'box')\n",
    "plt.show()"
   ]
  },
  {
   "cell_type": "markdown",
   "id": "eb5fef3d",
   "metadata": {},
   "source": [
    "## Masked Autoregressive Flow"
   ]
  },
  {
   "cell_type": "markdown",
   "id": "7153ece3",
   "metadata": {},
   "source": [
    "### Model specification"
   ]
  },
  {
   "cell_type": "code",
   "execution_count": null,
   "id": "1b7ee5fd",
   "metadata": {},
   "outputs": [],
   "source": [
    "# Define flows\n",
    "K = 4\n",
    "\n",
    "latent_size = 2\n",
    "hidden_units = 128\n",
    "num_blocks = 2\n",
    "\n",
    "flows = []\n",
    "for i in range(K):\n",
    "    flows += [nf.flows.MaskedAffineAutoregressive(latent_size, hidden_units, \n",
    "                                                  context_features=context_size, \n",
    "                                                  num_blocks=num_blocks)]\n",
    "    flows += [nf.flows.LULinearPermute(latent_size)]\n",
    "\n",
    "# Set base distribution\n",
    "q0 = nf.distributions.DiagGaussian(2, trainable=False)\n",
    "    \n",
    "# Construct flow model\n",
    "model = nf.ConditionalNormalizingFlow(q0, flows, target)\n",
    "\n",
    "# Move model on GPU if available\n",
    "model = model.to(device)"
   ]
  },
  {
   "cell_type": "code",
   "execution_count": null,
   "id": "7376e12e",
   "metadata": {},
   "outputs": [],
   "source": [
    "# Plot initial flow distribution, target as contours\n",
    "model.eval()\n",
    "log_prob = model.log_prob(zz, context_plot).to('cpu').view(*xx.shape)\n",
    "model.train()\n",
    "prob = torch.exp(log_prob)\n",
    "prob[torch.isnan(prob)] = 0\n",
    "\n",
    "plt.figure(figsize=(10, 10))\n",
    "plt.pcolormesh(xx, yy, prob.data.numpy(), shading='auto')\n",
    "plt.contour(xx, yy, p_target, cmap=plt.get_cmap('cool'), linewidths=2)\n",
    "plt.gca().set_aspect('equal', 'box')\n",
    "plt.show()"
   ]
  },
  {
   "cell_type": "markdown",
   "id": "09877bb6",
   "metadata": {},
   "source": [
    "### Training"
   ]
  },
  {
   "cell_type": "code",
   "execution_count": null,
   "id": "e280c0a2",
   "metadata": {},
   "outputs": [],
   "source": [
    "# Train model\n",
    "max_iter = 5000\n",
    "batch_size= 128\n",
    "\n",
    "loss_hist = np.array([])\n",
    "\n",
    "optimizer = torch.optim.Adam(model.parameters(), lr=1e-3, weight_decay=1e-5)\n",
    "\n",
    "for it in tqdm(range(max_iter)):\n",
    "    optimizer.zero_grad()\n",
    "    \n",
    "    # Get training samples\n",
    "    context = torch.cat([torch.randn((batch_size, 2), device=device), \n",
    "                         0.5 + 0.5 * torch.rand((batch_size, 2), device=device)], \n",
    "                        dim=-1)\n",
    "    x = target.sample(batch_size, context)\n",
    "    \n",
    "    # Compute loss\n",
    "    loss = model.forward_kld(x, context)\n",
    "    \n",
    "    # Do backprop and optimizer step\n",
    "    if ~(torch.isnan(loss) | torch.isinf(loss)):\n",
    "        loss.backward()\n",
    "        optimizer.step()\n",
    "    \n",
    "    # Log loss\n",
    "    loss_hist = np.append(loss_hist, loss.to('cpu').data.numpy())\n",
    "\n",
    "# Plot loss\n",
    "plt.figure(figsize=(10, 10))\n",
    "plt.plot(loss_hist, label='loss')\n",
    "plt.legend()\n",
    "plt.show()"
   ]
  },
  {
   "cell_type": "markdown",
   "id": "b6f99eb5",
   "metadata": {},
   "source": [
    "### Evaluation"
   ]
  },
  {
   "cell_type": "code",
   "execution_count": null,
   "id": "3a02bb0d",
   "metadata": {},
   "outputs": [],
   "source": [
    "# Plot trained flow distribution, target as contours\n",
    "model.eval()\n",
    "log_prob = model.log_prob(zz, context_plot).to('cpu').view(*xx.shape)\n",
    "model.train()\n",
    "prob = torch.exp(log_prob)\n",
    "prob[torch.isnan(prob)] = 0\n",
    "\n",
    "plt.figure(figsize=(10, 10))\n",
    "plt.pcolormesh(xx, yy, prob.data.numpy(), shading='auto')\n",
    "plt.contour(xx, yy, p_target, cmap=plt.get_cmap('cool'), linewidths=2)\n",
    "plt.gca().set_aspect('equal', 'box')\n",
    "plt.show()"
   ]
  }
 ],
 "metadata": {
  "kernelspec": {
   "display_name": "Python 3",
   "language": "python",
   "name": "python3"
  },
  "language_info": {
   "codemirror_mode": {
    "name": "ipython",
    "version": 3
   },
   "file_extension": ".py",
   "mimetype": "text/x-python",
   "name": "python",
   "nbconvert_exporter": "python",
   "pygments_lexer": "ipython3",
   "version": "3.7.13"
  }
 },
 "nbformat": 4,
 "nbformat_minor": 5
}
