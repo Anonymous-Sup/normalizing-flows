{
 "cells": [
  {
   "cell_type": "markdown",
   "metadata": {},
   "source": [
    "# Planar flow"
   ]
  },
  {
   "cell_type": "code",
   "execution_count": null,
   "metadata": {},
   "outputs": [],
   "source": [
    "# Import required packages\n",
    "import torch\n",
    "import numpy as np\n",
    "import normflow as nf\n",
    "\n",
    "from matplotlib import pyplot as plt"
   ]
  },
  {
   "cell_type": "code",
   "execution_count": null,
   "metadata": {},
   "outputs": [],
   "source": [
    "K = 2\n",
    "flows = []\n",
    "for i in range(K):\n",
    "    flows += [nf.flows.Planar((2,))]\n",
    "#prior = torch.distributions.MultivariateNormal(torch.zeros(2), torch.eye(2))\n",
    "prior = nf.distributions.TwoModes(2, 0.1)\n",
    "q0 = nf.distributions.ConstDiagGaussian(np.zeros(2), 1 * np.ones(2))\n",
    "nfm = nf.NormalizingFlow(prior=prior, q0=q0, flows=flows)"
   ]
  },
  {
   "cell_type": "code",
   "execution_count": null,
   "metadata": {
    "scrolled": false
   },
   "outputs": [],
   "source": [
    "# Plot prior distribution\n",
    "grid_size = 200\n",
    "xx, yy = torch.meshgrid(torch.linspace(-3, 3, grid_size), torch.linspace(-3, 3, grid_size))\n",
    "z = torch.cat([xx.unsqueeze(2), yy.unsqueeze(2)], 2)\n",
    "log_prob = prior.log_prob(z)\n",
    "prob = torch.exp(log_prob)\n",
    "\n",
    "plt.figure(figsize=(10, 10))\n",
    "plt.pcolormesh(xx, yy, prob)\n",
    "plt.show()\n",
    "\n",
    "log_q = nfm.log_q(z, None)\n",
    "q = torch.exp(log_q)\n",
    "\n",
    "# Plot initial posterior distribution\n",
    "z, _, _ = nfm(torch.zeros(100), num_samples=10000)\n",
    "z_np = z.data.numpy()\n",
    "plt.figure(figsize=(10, 10))\n",
    "plt.hist2d(z_np[:, :, 0].flatten(), z_np[:, :, 1].flatten(), (grid_size, grid_size), range=[[-3, 3], [-3, 3]])\n",
    "plt.show()"
   ]
  },
  {
   "cell_type": "code",
   "execution_count": null,
   "metadata": {},
   "outputs": [],
   "source": [
    "# Train model\n",
    "max_iter = 10000\n",
    "batch_size = 100\n",
    "num_samples = 100\n",
    "\n",
    "loss_hist = np.array([])\n",
    "log_q_hist = np.array([])\n",
    "log_p_hist = np.array([])\n",
    "x = torch.zeros(batch_size)\n",
    "optimizer = torch.optim.Adam(nfm.parameters(), lr=0.0001)\n",
    "for it in range(max_iter):\n",
    "    optimizer.zero_grad()\n",
    "    _, log_q, log_p = nfm(x, num_samples)\n",
    "    mean_log_q = torch.mean(log_q)\n",
    "    mean_log_p = torch.mean(log_p)\n",
    "    loss = mean_log_q - mean_log_p\n",
    "    loss.backward()\n",
    "    optimizer.step()\n",
    "    loss_hist = np.append(loss_hist, loss.data.numpy())\n",
    "    log_q_hist = np.append(log_q_hist, mean_log_q.data.numpy())\n",
    "    log_p_hist = np.append(log_p_hist, mean_log_p.data.numpy())\n",
    "\n",
    "plt.figure(figsize=(10, 10))\n",
    "plt.plot(loss_hist, label='loss')\n",
    "plt.plot(log_q_hist, label='log_q')\n",
    "plt.plot(log_p_hist, label='log_p')\n",
    "plt.legend()\n",
    "plt.show()"
   ]
  },
  {
   "cell_type": "code",
   "execution_count": null,
   "metadata": {
    "scrolled": false
   },
   "outputs": [],
   "source": [
    "# Plot learned posterior distribution\n",
    "z, _, _ = nfm(x, num_samples=10000)\n",
    "z_np = z.data.numpy()\n",
    "plt.figure(figsize=(10, 10))\n",
    "plt.hist2d(z_np[:, :, 0].flatten(), z_np[:, :, 1].flatten(), (grid_size, grid_size), range=[[-3, 3], [-3, 3]])\n",
    "plt.show()"
   ]
  },
  {
   "cell_type": "code",
   "execution_count": null,
   "metadata": {},
   "outputs": [],
   "source": []
  }
 ],
 "metadata": {
  "kernelspec": {
   "display_name": "Python 3",
   "language": "python",
   "name": "python3"
  },
  "language_info": {
   "codemirror_mode": {
    "name": "ipython",
    "version": 3
   },
   "file_extension": ".py",
   "mimetype": "text/x-python",
   "name": "python",
   "nbconvert_exporter": "python",
   "pygments_lexer": "ipython3",
   "version": "3.7.6"
  }
 },
 "nbformat": 4,
 "nbformat_minor": 4
}
