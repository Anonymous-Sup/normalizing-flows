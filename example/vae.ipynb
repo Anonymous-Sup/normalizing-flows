{
 "cells": [
  {
   "cell_type": "markdown",
   "metadata": {},
   "source": [
    "# Variational Autoencoder with Normalizing Flows"
   ]
  },
  {
   "cell_type": "code",
   "execution_count": 2,
   "metadata": {},
   "outputs": [],
   "source": [
    "# Import packages\n",
    "import numpy as np\n",
    "import torch\n",
    "from torch import nn, optim\n",
    "from torchvision import datasets, transforms\n",
    "from tqdm import tqdm"
   ]
  },
  {
   "cell_type": "code",
   "execution_count": 5,
   "metadata": {},
   "outputs": [],
   "source": [
    "# Hyperparameters\n",
    "batch_size = 256\n",
    "hidden_units_encoder = np.array([28 ** 2, 512, 256, 32])\n",
    "hidden_units_decoder = np.flip(hidden_units_encoder)\n",
    "flow_type = 'Planar'\n",
    "\n",
    "enable_cuda = True\n",
    "device = torch.device('cuda' if torch.cuda.is_available() and enable_cuda else 'cpu')"
   ]
  },
  {
   "cell_type": "code",
   "execution_count": 4,
   "metadata": {},
   "outputs": [],
   "source": [
    "# Get dataloader\n",
    "class BinaryTransform():\n",
    "    def __init__(self, thresh=0.5):\n",
    "        self.thresh = thresh\n",
    "\n",
    "    def __call__(self, x):\n",
    "        return (x > self.thresh).type(x.type())\n",
    "transform=transforms.Compose([transforms.ToTensor(), BinaryTransform()])\n",
    "mnist_train = datasets.MNIST('../datasets', train=True, download=True, transform=transform)\n",
    "mnist_test = datasets.MNIST('../datasets', train=False, download=True, transform=transform)\n",
    "train_loader = torch.utils.data.DataLoader(mnist_train, batch_size=batch_size, shuffle=True)\n",
    "test_loader = torch.utils.data.DataLoader(mnist_test, batch_size=batch_size, shuffle=True)"
   ]
  },
  {
   "cell_type": "code",
   "execution_count": null,
   "metadata": {},
   "outputs": [],
   "source": [
    "# Set up model\n",
    "prior = torch.distributions.Normal(0, 1)\n",
    "\n",
    "if flow_type == 'Planar':\n",
    "    flows = [Planar((hidden_units_encoder[-1],)) for k in range(args.K)]\n",
    "elif flow_type == 'Radial':\n",
    "    flows = [Radial((hidden_units_encoder[-1],)) for k in range(args.K)]\n",
    "else:\n",
    "    raise NotImplementedError\n"
   ]
  }
 ],
 "metadata": {
  "kernelspec": {
   "display_name": "Python 3",
   "language": "python",
   "name": "python3"
  },
  "language_info": {
   "codemirror_mode": {
    "name": "ipython",
    "version": 3
   },
   "file_extension": ".py",
   "mimetype": "text/x-python",
   "name": "python",
   "nbconvert_exporter": "python",
   "pygments_lexer": "ipython3",
   "version": "3.7.6"
  }
 },
 "nbformat": 4,
 "nbformat_minor": 4
}
