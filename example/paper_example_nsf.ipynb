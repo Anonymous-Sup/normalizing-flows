{
 "cells": [
  {
   "cell_type": "markdown",
   "id": "94003a1d",
   "metadata": {},
   "source": [
    "# Neural Spline Flow on a Circular and a Normal Coordinate"
   ]
  },
  {
   "cell_type": "code",
   "execution_count": null,
   "id": "df035970",
   "metadata": {},
   "outputs": [],
   "source": [
    "# Import packages\n",
    "import torch\n",
    "import numpy as np\n",
    "\n",
    "import normflows as nf\n",
    "\n",
    "from matplotlib import pyplot as plt\n",
    "from mpl_toolkits.mplot3d import Axes3D\n",
    "from matplotlib import cm\n",
    "\n",
    "from tqdm import tqdm"
   ]
  },
  {
   "cell_type": "code",
   "execution_count": null,
   "id": "1d04fa87",
   "metadata": {},
   "outputs": [],
   "source": [
    "# Set up target\n",
    "class GaussianVonMises(nf.distributions.Target):\n",
    "    def __init__(self):\n",
    "        super().__init__(prop_scale=torch.tensor(2 * np.pi), \n",
    "                         prop_shift=torch.tensor(-np.pi))\n",
    "        self.n_dims = 2\n",
    "        self.max_log_prob = -1.99\n",
    "        self.log_const = -1.5 * np.log(2 * np.pi) - np.log(np.i0(1))\n",
    "    \n",
    "    def log_prob(self, x):\n",
    "        return -0.5 * x[:, 0] ** 2 + torch.cos(x[:, 1] - 3 * x[:, 0]) + self.log_const"
   ]
  },
  {
   "cell_type": "code",
   "execution_count": null,
   "id": "7bda37d4",
   "metadata": {},
   "outputs": [],
   "source": [
    "target = GaussianVonMises()"
   ]
  },
  {
   "cell_type": "code",
   "execution_count": null,
   "id": "c73b0c95",
   "metadata": {},
   "outputs": [],
   "source": [
    "# Plot target\n",
    "grid_size = 300\n",
    "xx, yy = torch.meshgrid(torch.linspace(-2.5, 2.5, grid_size), torch.linspace(-np.pi, np.pi, grid_size))\n",
    "zz = torch.cat([xx.unsqueeze(2), yy.unsqueeze(2)], 2).view(-1, 2)\n",
    "#zz = zz.to(device)\n",
    "\n",
    "log_prob = target.log_prob(zz).view(*xx.shape)\n",
    "prob = torch.exp(log_prob)\n",
    "prob[torch.isnan(prob)] = 0\n",
    "\n",
    "plt.figure(figsize=(15, 15))\n",
    "plt.pcolormesh(yy, xx, prob.data.numpy(), cmap='coolwarm')\n",
    "plt.gca().set_aspect('equal', 'box')\n",
    "plt.show()"
   ]
  },
  {
   "cell_type": "code",
   "execution_count": null,
   "id": "3a22921b",
   "metadata": {},
   "outputs": [],
   "source": [
    "base = nf.distributions.UniformGaussian(2, [1], torch.tensor([1., 2 * np.pi]))\n",
    "\n",
    "K = 20\n",
    "\n",
    "flow_layers = []\n",
    "for i in range(K):\n",
    "    flow_layers += [nf.flows.CircularAutoregressiveRationalQuadraticSpline(2, 2, 128, [1], num_bins=20,\n",
    "                                                                           tail_bound=torch.tensor([5., np.pi]),\n",
    "                                                                           permute_mask=True)]\n",
    "\n",
    "model = nf.NormalizingFlow(base, flow_layers, target)\n",
    "\n",
    "# Move model on GPU if available\n",
    "enable_cuda = True\n",
    "device = torch.device('cuda' if torch.cuda.is_available() and enable_cuda else 'cpu')\n",
    "model = model.to(device)"
   ]
  },
  {
   "cell_type": "code",
   "execution_count": null,
   "id": "3eba01f9",
   "metadata": {},
   "outputs": [],
   "source": [
    "# Plot model\n",
    "log_prob = model.log_prob(zz.to(device)).to('cpu').view(*xx.shape)\n",
    "prob = torch.exp(log_prob)\n",
    "prob[torch.isnan(prob)] = 0\n",
    "\n",
    "plt.figure(figsize=(15, 15))\n",
    "plt.pcolormesh(yy, xx, prob.data.numpy(), cmap='coolwarm')\n",
    "plt.gca().set_aspect('equal', 'box')\n",
    "plt.show()"
   ]
  },
  {
   "cell_type": "code",
   "execution_count": null,
   "id": "156b5907",
   "metadata": {
    "scrolled": false
   },
   "outputs": [],
   "source": [
    "# Train model\n",
    "max_iter = 500\n",
    "num_samples = 2 ** 10\n",
    "show_iter = 100\n",
    "\n",
    "\n",
    "loss_hist = np.array([])\n",
    "\n",
    "optimizer = torch.optim.Adam(model.parameters(), lr=1e-4, weight_decay=1e-4)\n",
    "for it in tqdm(range(max_iter)):\n",
    "    optimizer.zero_grad()\n",
    "    \n",
    "    # Compute loss\n",
    "    loss = model.reverse_kld(num_samples)\n",
    "    \n",
    "    # Do backprop and optimizer step\n",
    "    if ~(torch.isnan(loss) | torch.isinf(loss)):\n",
    "        loss.backward()\n",
    "        optimizer.step()\n",
    "    \n",
    "    # Log loss\n",
    "    loss_hist = np.append(loss_hist, loss.to('cpu').data.numpy())\n",
    "    \n",
    "    # Plot learned model\n",
    "    if (it + 1) % show_iter == 0:\n",
    "        model.eval()\n",
    "        with torch.no_grad():\n",
    "            log_prob = model.log_prob(zz.to(device)).to('cpu').view(*xx.shape)\n",
    "        model.train()\n",
    "        prob = torch.exp(log_prob)\n",
    "        prob[torch.isnan(prob)] = 0\n",
    "\n",
    "        plt.figure(figsize=(15, 15))\n",
    "        plt.pcolormesh(yy, xx, prob.data.numpy(), cmap='coolwarm')\n",
    "        plt.gca().set_aspect('equal', 'box')\n",
    "        plt.show()\n",
    "\n",
    "# Plot loss\n",
    "plt.figure(figsize=(10, 10))\n",
    "plt.plot(loss_hist, label='loss')\n",
    "plt.legend()\n",
    "plt.show()"
   ]
  },
  {
   "cell_type": "code",
   "execution_count": null,
   "id": "95fe8e35",
   "metadata": {},
   "outputs": [],
   "source": [
    "fig = plt.figure(figsize=(10, 10))\n",
    "ax = fig.add_subplot(111, projection='3d')\n",
    "\n",
    "phi = np.linspace(-np.pi, np.pi, grid_size)\n",
    "z = np.linspace(-2.5, 2.5, grid_size)\n",
    "\n",
    "# create the sphere surface\n",
    "x = np.outer(np.ones(grid_size), np.cos(phi))\n",
    "y = np.outer(np.ones(grid_size), np.sin(phi))\n",
    "z = np.outer(z, np.ones(grid_size))\n",
    "\n",
    "# simulate heat pattern (striped)\n",
    "prob_vis = prob / torch.max(prob)\n",
    "myheatmap = prob_vis.data.numpy()\n",
    "\n",
    "ax._axis3don = False\n",
    "ax.plot_surface(x, y, z, cstride=1, rstride=1, facecolors=cm.coolwarm(myheatmap), shade=False)\n",
    "\n",
    "plt.show()"
   ]
  }
 ],
 "metadata": {
  "kernelspec": {
   "display_name": "Python 3 (ipykernel)",
   "language": "python",
   "name": "python3"
  },
  "language_info": {
   "codemirror_mode": {
    "name": "ipython",
    "version": 3
   },
   "file_extension": ".py",
   "mimetype": "text/x-python",
   "name": "python",
   "nbconvert_exporter": "python",
   "pygments_lexer": "ipython3",
   "version": "3.7.11"
  }
 },
 "nbformat": 4,
 "nbformat_minor": 5
}
