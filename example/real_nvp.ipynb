{
 "cells": [
  {
   "cell_type": "markdown",
   "metadata": {},
   "source": [
    "# Real NVP"
   ]
  },
  {
   "cell_type": "code",
   "execution_count": null,
   "metadata": {},
   "outputs": [],
   "source": [
    "# Import required packages\n",
    "import torch\n",
    "import numpy as np\n",
    "import normflow as nf\n",
    "\n",
    "from matplotlib import pyplot as plt\n",
    "from tqdm import tqdm"
   ]
  },
  {
   "cell_type": "code",
   "execution_count": null,
   "metadata": {
    "scrolled": false
   },
   "outputs": [],
   "source": [
    "# Set up model\n",
    "\n",
    "# Define flows\n",
    "K = 8\n",
    "#torch.manual_seed(0)\n",
    "\n",
    "b = torch.tensor([0, 1])\n",
    "flows = []\n",
    "for i in range(K):\n",
    "    s = nf.nets.MLP([2, 8, 2])\n",
    "    t = nf.nets.MLP([2, 8, 2])\n",
    "    if i % 2 == 0:\n",
    "        flows += [nf.flows.MaskedAffineFlow(b, s, t)]\n",
    "    else:\n",
    "        flows += [nf.flows.MaskedAffineFlow(1 - b, s, t), nf.flows.BatchNorm()]\n",
    "flows = flows[:-1] # Remove last Batch Norm layer to allow arbirary output\n",
    "\n",
    "# Set prior and q0\n",
    "#prior = nf.distributions.Sinusoidal(0.2, 4)\n",
    "prior = nf.distributions.TwoModes(2, 0.1)\n",
    "q0 = nf.distributions.ConstDiagGaussian(np.zeros(2, dtype=np.float32), np.ones(2, dtype=np.float32))\n",
    "\n",
    "# Construct flow model\n",
    "nfm = nf.NormalizingFlow(prior=prior, q0=q0, flows=flows)\n",
    "\n",
    "# Move model on GPU if available\n",
    "enable_cuda = True\n",
    "device = torch.device('cuda' if torch.cuda.is_available() and enable_cuda else 'cpu')\n",
    "nfm = nfm.to(device)\n",
    "nfm = nfm.double()"
   ]
  },
  {
   "cell_type": "code",
   "execution_count": null,
   "metadata": {
    "scrolled": false
   },
   "outputs": [],
   "source": [
    "# Plot prior distribution\n",
    "grid_size = 200\n",
    "xx, yy = torch.meshgrid(torch.linspace(-3, 3, grid_size), torch.linspace(-3, 3, grid_size))\n",
    "z = torch.cat([xx.unsqueeze(2), yy.unsqueeze(2)], 2)\n",
    "log_prob = prior.log_prob(z)\n",
    "prob = torch.exp(log_prob)\n",
    "\n",
    "plt.figure(figsize=(10, 10))\n",
    "plt.pcolormesh(xx, yy, prob)\n",
    "plt.show()\n",
    "\n",
    "# Plot initial posterior distribution\n",
    "z, _, _ = nfm(torch.zeros(512, device=device), num_samples=512)\n",
    "z_np = z.to('cpu').data.numpy()\n",
    "plt.figure(figsize=(10, 10))\n",
    "plt.hist2d(z_np[:, :, 0].flatten(), z_np[:, :, 1].flatten(), (grid_size, grid_size), range=[[-3, 3], [-3, 3]])\n",
    "plt.show()"
   ]
  },
  {
   "cell_type": "code",
   "execution_count": null,
   "metadata": {
    "scrolled": false
   },
   "outputs": [],
   "source": [
    "# Train model\n",
    "max_iter = 20000\n",
    "batch_size = 128\n",
    "num_samples = 128\n",
    "anneal_iter = 10000\n",
    "annealing = True\n",
    "show_iter = 500\n",
    "\n",
    "\n",
    "loss_hist = np.array([])\n",
    "log_q_hist = np.array([])\n",
    "log_p_hist = np.array([])\n",
    "x = torch.zeros(batch_size, device=device)\n",
    "\n",
    "optimizer = torch.optim.Adam(nfm.parameters(), lr=1e-3, weight_decay=1e-3)\n",
    "for it in tqdm(range(max_iter)):\n",
    "    optimizer.zero_grad()\n",
    "    _, log_q, log_p = nfm(x, num_samples)\n",
    "    mean_log_q = torch.mean(log_q)\n",
    "    mean_log_p = torch.mean(log_p)\n",
    "    if annealing:\n",
    "        loss = mean_log_q - np.min([1., 0.01 + it / anneal_iter]) * mean_log_p\n",
    "    else:\n",
    "        loss = mean_log_q - mean_log_p\n",
    "    loss.backward()\n",
    "    optimizer.step()\n",
    "    \n",
    "    # Plot learned posterior\n",
    "    if (it + 1) % show_iter == 0:\n",
    "        torch.cuda.manual_seed(0)\n",
    "        z, _, _ = nfm(torch.zeros(512).to(device), num_samples=512)\n",
    "        z_np = z.to('cpu').data.numpy()\n",
    "        \n",
    "        plt.figure(figsize=(10, 10))\n",
    "        plt.hist2d(z_np[:, :, 0].flatten(), z_np[:, :, 1].flatten(), (grid_size, grid_size), range=[[-3, 3], [-3, 3]])\n",
    "        plt.show()\n",
    "        \n",
    "        loss_hist = np.append(loss_hist, loss.to('cpu').data.numpy())\n",
    "        log_q_hist = np.append(log_q_hist, mean_log_q.to('cpu').data.numpy())\n",
    "        log_p_hist = np.append(log_p_hist, mean_log_p.to('cpu').data.numpy())\n",
    "\n",
    "plt.figure(figsize=(10, 10))\n",
    "plt.plot(loss_hist, label='loss')\n",
    "plt.plot(log_q_hist, label='log_q')\n",
    "plt.plot(log_p_hist, label='log_p')\n",
    "plt.legend()\n",
    "plt.show()"
   ]
  },
  {
   "cell_type": "code",
   "execution_count": null,
   "metadata": {},
   "outputs": [],
   "source": [
    "# Plot learned posterior distribution\n",
    "z, _, _ = nfm(torch.zeros(512).to(device), num_samples=512)\n",
    "z_np = z.to('cpu').data.numpy()\n",
    "plt.figure(figsize=(10, 10))\n",
    "plt.hist2d(z_np[:, :, 0].flatten(), z_np[:, :, 1].flatten(), (grid_size, grid_size), range=[[-3, 3], [-3, 3]])\n",
    "plt.show()"
   ]
  }
 ],
 "metadata": {
  "kernelspec": {
   "display_name": "Python 3",
   "language": "python",
   "name": "python3"
  },
  "language_info": {
   "codemirror_mode": {
    "name": "ipython",
    "version": 3
   },
   "file_extension": ".py",
   "mimetype": "text/x-python",
   "name": "python",
   "nbconvert_exporter": "python",
   "pygments_lexer": "ipython3",
   "version": "3.7.6"
  }
 },
 "nbformat": 4,
 "nbformat_minor": 4
}
