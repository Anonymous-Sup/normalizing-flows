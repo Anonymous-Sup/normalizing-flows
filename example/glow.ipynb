{
 "cells": [
  {
   "cell_type": "markdown",
   "metadata": {},
   "source": [
    "# Glow"
   ]
  },
  {
   "cell_type": "code",
   "execution_count": null,
   "metadata": {},
   "outputs": [],
   "source": [
    "# Import required packages\n",
    "import torch\n",
    "import torchvision as tv\n",
    "from torchvision import datasets, transforms\n",
    "import numpy as np\n",
    "import normflow as nf\n",
    "\n",
    "from matplotlib import pyplot as plt\n",
    "from tqdm import tqdm"
   ]
  },
  {
   "cell_type": "code",
   "execution_count": null,
   "metadata": {
    "scrolled": false
   },
   "outputs": [],
   "source": [
    "# Set up model\n",
    "\n",
    "# Define flows\n",
    "K = 32\n",
    "torch.manual_seed(0)\n",
    "\n",
    "latent_shape = (3, 16, 16)\n",
    "channels = 3\n",
    "hidden_channels = 128\n",
    "split_mode = 'channel'\n",
    "scale = True\n",
    "\n",
    "flows = []\n",
    "for i in range(K):\n",
    "    flows += [nf.flows.GlowBlock(channels, hidden_channels,\n",
    "                                 split_mode=split_mode, scale=scale)]\n",
    "\n",
    "# Set prior and q0\n",
    "q0 = nf.distributions.DiagGaussian(latent_shape, trainable=True)\n",
    "\n",
    "# Construct flow model\n",
    "model = nf.NormalizingFlow(q0=q0, flows=flows)\n",
    "\n",
    "# Move model on GPU if available\n",
    "enable_cuda = True\n",
    "device = torch.device('cuda' if torch.cuda.is_available() and enable_cuda else 'cpu')\n",
    "model = model.to(device)\n",
    "model = model.double()"
   ]
  },
  {
   "cell_type": "code",
   "execution_count": null,
   "metadata": {},
   "outputs": [],
   "source": [
    "# Prepare training data\n",
    "batch_size = 96\n",
    "\n",
    "logit = nf.utils.Logit(alpha=0.05)\n",
    "transform = transforms.Compose([transforms.Resize(16), transforms.ToTensor(),\n",
    "                                nf.utils.Jitter(), logit, nf.utils.ToDevice(device)])\n",
    "#train_data = datasets.MNIST('/scratch2/vs488/flow/lars/datasets/', train=True, download=True,\n",
    "#                            transform=transform)\n",
    "train_data = datasets.CIFAR10('/scratch2/vs488/flow/lars/datasets/', train=True, download=True, transform=transform)\n",
    "idx = np.where(np.array(train_data.targets) == 6)[0]\n",
    "train_data.targets = [train_data.targets[i] for i in idx]\n",
    "train_data.data = train_data.data[idx]\n",
    "train_loader = torch.utils.data.DataLoader(train_data, batch_size=batch_size, shuffle=True)"
   ]
  },
  {
   "cell_type": "code",
   "execution_count": null,
   "metadata": {
    "scrolled": false
   },
   "outputs": [],
   "source": [
    "# Train model\n",
    "num_epoch = 20\n",
    "\n",
    "#loss_hist = np.array([])\n",
    "\n",
    "#optimizer = torch.optim.Adam(model.parameters(), lr=3e-4, weight_decay=1e-5)\n",
    "\n",
    "for ep in tqdm(range(num_epoch)):\n",
    "    for i, (x, y) in enumerate(train_loader):\n",
    "        optimizer.zero_grad()\n",
    "        loss = model.forward_kld(x)\n",
    "        \n",
    "        if ~(torch.isnan(loss) | torch.isinf(loss)):\n",
    "            loss.backward()\n",
    "            optimizer.step()\n",
    "\n",
    "        loss_hist = np.append(loss_hist, loss.to('cpu').data.numpy())\n",
    "    torch.cuda.empty_cache()\n",
    "\n",
    "plt.figure(figsize=(10, 10))\n",
    "plt.plot(loss_hist, label='loss')\n",
    "plt.legend()\n",
    "plt.show()"
   ]
  },
  {
   "cell_type": "code",
   "execution_count": null,
   "metadata": {},
   "outputs": [],
   "source": [
    "# Model samples\n",
    "x, _ = model.sample(64)\n",
    "x_ = torch.clamp(logit.inverse(x).detach().cpu(), 0, 1)\n",
    "plt.figure(figsize=(10, 10))\n",
    "plt.imshow(np.transpose(tv.utils.make_grid(x_).numpy(), (1, 2, 0)))\n",
    "plt.show()"
   ]
  },
  {
   "cell_type": "code",
   "execution_count": null,
   "metadata": {},
   "outputs": [],
   "source": []
  }
 ],
 "metadata": {
  "kernelspec": {
   "display_name": "Python 3",
   "language": "python",
   "name": "python3"
  },
  "language_info": {
   "codemirror_mode": {
    "name": "ipython",
    "version": 3
   },
   "file_extension": ".py",
   "mimetype": "text/x-python",
   "name": "python",
   "nbconvert_exporter": "python",
   "pygments_lexer": "ipython3",
   "version": "3.7.6"
  }
 },
 "nbformat": 4,
 "nbformat_minor": 4
}
